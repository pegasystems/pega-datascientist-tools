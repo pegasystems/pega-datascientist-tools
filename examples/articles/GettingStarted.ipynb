{
 "cells": [
  {
   "cell_type": "markdown",
   "metadata": {},
   "source": [
    "# Installation\n",
    "\n",
    "**TLDR**\n",
    "```bash\n",
    "pip install pdstools\n",
    "```\n",
    "\n",
    "---\n",
    "\n",
    "Pega Data Scientist Tools (pdstools) is a public Python library and it is [published on pypi](https://pypi.org/project/pdstools/). As such, you can install it just like any other Python library; using your package manager of choice. We have a strong preference for [**uv**](https://github.com/astral-sh/uv), hence this getting started page is written with the **uv** workflow as a default. To use another package manager, simply use the corresponding commands.\n",
    "\n",
    "First follow the installation instructions at https://github.com/astral-sh/uv - we would recommend using the standalone installer, as it has a `uv self update` function. \n",
    "\n",
    "As with any Python package, it is always recommended to work within a virtual environment. With `uv` installed, simply navigate to your desired directory and run \n",
    "```bash\n",
    "uv venv\n",
    "```\n",
    "\n",
    "To install pdstools in your virtual environment, you can then simply run:\n",
    "```bash\n",
    "uv pip install pdstools\n",
    "```\n",
    "If you do not have Python or no compatible version installed, `uv` will automatically install a compatible version.\n",
    "\n",
    "## Optional dependencies\n",
    "As of V4 of pdstools, we have made a big effort to reduce the number of big and heavy core dependencies. This means that while initial installation is very fast, you may at some points run into import errors and will be required to install additional dependency groups. If using `uv`, these can be installed with the `--extra` argument. \n",
    "\n",
    "For instance, to install the optional dependencies to use the Pega DX API client, you should run \n",
    "\n",
    "```bash\n",
    "uv pip install pdstools --extra api\n",
    "```\n",
    "\n",
    "The alternative (pip-compatible) syntax for optional dependencies is:\n",
    "```bash\n",
    "pip install 'pdstools[api]'\n",
    "```\n",
    "\n",
    "For an overview of all optional dependencies and the dependency groups they will be installed for, see the table below:\n",
    "\n"
   ]
  },
  {
   "cell_type": "code",
   "execution_count": null,
   "metadata": {},
   "outputs": [],
   "source": [
    "from pdstools.utils.show_versions import dependency_great_table\n",
    "\n",
    "dependency_great_table()"
   ]
  },
  {
   "cell_type": "markdown",
   "metadata": {},
   "source": [
    "## Python compatibility\n",
    "Even though _uv_ takes care of installing your python version, sometimes you have no choice of available versions. For this reason, we try to be as supportive in Python versions as we can; so our latest supported python version depends on our core dependencies, particularly [Polars](https://github.com/pola-rs/polars). As of 2024, Polars supports Python version 3.9 and higher, hence so do we."
   ]
  },
  {
   "cell_type": "markdown",
   "metadata": {},
   "source": [
    "# Getting Started\n",
    "blabla"
   ]
  },
  {
   "cell_type": "markdown",
   "metadata": {},
   "source": []
  }
 ],
 "metadata": {
  "kernelspec": {
   "display_name": ".venv",
   "language": "python",
   "name": "python3"
  },
  "language_info": {
   "codemirror_mode": {
    "name": "ipython",
    "version": 3
   },
   "file_extension": ".py",
   "mimetype": "text/x-python",
   "name": "python",
   "nbconvert_exporter": "python",
   "pygments_lexer": "ipython3"
  }
 },
 "nbformat": 4,
 "nbformat_minor": 2
}
