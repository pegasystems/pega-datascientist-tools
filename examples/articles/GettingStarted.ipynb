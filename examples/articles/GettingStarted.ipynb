{
 "cells": [
  {
   "cell_type": "markdown",
   "metadata": {},
   "source": [
    "# Installation\n",
    "\n",
    "**TLDR**\n",
    "```bash\n",
    "pip install pdstools\n",
    "```\n",
    "\n",
    "---\n",
    "\n",
    "Pega Data Scientist Tools (pdstools) is a public Python library and it is [published on pypi](https://pypi.org/project/pdstools/). As such, you can install it just like any other Python library; using your package manager of choice. We have a strong preference for [**uv**](https://github.com/astral-sh/uv), hence this getting started page is written with the **uv** workflow as a default. To use another package manager, simply use the corresponding commands.\n",
    "\n",
    "### The recommended `uv` workflow:\n",
    "\n",
    "1. If you haven't yet, install uv at https://github.com/astral-sh/uv - we would recommend using the standalone installer, as it has a `uv self update` function. \n",
    "\n",
    "2. If you don't have one, create a virtual environment -  with `uv` installed, simply navigate to your desired directory and run \n",
    "\n",
    "    ```bash\n",
    "    uv venv\n",
    "    ```\n",
    "3. Install pdstools in your virtual environment:\n",
    "\n",
    "    ```bash\n",
    "    uv pip install pdstools\n",
    "    ```\n",
    "If you do not have Python or no compatible version installed, `uv` will automatically install a compatible version.\n",
    "\n",
    "## Optional dependencies\n",
    "As of V4 of pdstools, we have made a big effort to reduce the number of big and heavy core dependencies. This means that while initial installation is very fast, you may at some points run into import errors and will be required to install additional dependency groups. \n",
    "\n",
    "To install extra dependencies, you can put them in square brackets after a package name. So, for instance, to install pdstools alongside the optional dependencies for the Pega DX API client, you should run:\n",
    "```bash\n",
    "uv pip install 'pdstools[api]'\n",
    "```\n",
    "\n",
    "For an overview of all optional dependencies and the dependency groups they will be installed for, see the table below:\n",
    "\n"
   ]
  },
  {
   "cell_type": "code",
   "execution_count": null,
   "metadata": {},
   "outputs": [],
   "source": [
    "from pdstools.utils.show_versions import dependency_great_table\n",
    "\n",
    "dependency_great_table()"
   ]
  },
  {
   "cell_type": "markdown",
   "metadata": {},
   "source": [
    "## Python compatibility\n",
    "Even though _uv_ takes care of installing your python version, sometimes you have no choice of available versions. For this reason, we try to be as supportive in Python versions as we can; so our latest supported python version depends on our core dependencies, particularly [Polars](https://github.com/pola-rs/polars). As of 2024, Polars supports Python version 3.9 and higher, hence so do we."
   ]
  },
  {
   "cell_type": "markdown",
   "metadata": {},
   "source": [
    "# Getting Started\n",
    "With `pdstools[adm]` installed, you can test that it's installed properly by recreating the bubble chart, as seen in Prediction Studio, on some sample data:\n",
    "\n",
    "> **_NOTE:_** If you want to run code from a python notebook, first install two additional packages by running `uv pip install ipykernel nbformat`"
   ]
  },
  {
   "cell_type": "code",
   "execution_count": null,
   "metadata": {},
   "outputs": [],
   "source": [
    "from pdstools import cdh_sample\n",
    "\n",
    "cdh_sample().plot.bubble_chart()"
   ]
  },
  {
   "cell_type": "markdown",
   "metadata": {},
   "source": [
    "To run these analyses over your own data, please refer to the [ADMDatamart class documentation](https://pegasystems.github.io/pega-datascientist-tools/autoapi/pdstools/adm/ADMDatamart/index.html) or for an example of how to use it, refer to the [Example ADM Analysis](https://pegasystems.github.io/pega-datascientist-tools/articles/Example_ADM_Analysis.html).\n",
    "\n",
    "To run the Health Check and Model Reports, please refer to the [Command Line Interface documentation](https://pegasystems.github.io/pega-datascientist-tools/cli.html) or the [ADM Health Check Article](https://pegasystems.github.io/pega-datascientist-tools/articles/healthcheck.html)\n",
    "\n",
    "To analyze the results of a Value Finder simulation run, refer to the [ValueFinder class documentation](https://pegasystems.github.io/pega-datascientist-tools/autoapi/pdstools/valuefinder/ValueFinder/index.html) or the [Example Value Finder Analysis](https://pegasystems.github.io/pega-datascientist-tools/articles/vf_analysis.html).\n",
    "\n",
    "To gain insights from the Explainability Extract or Decision Analyzer datasets, please refer to the [DecisionAnalyzer class documentation](https://pegasystems.github.io/pega-datascientist-tools/autoapi/pdstools/decision_analyzer/decision_data/index.html) or the [Example Explainability Extract Analysis](https://pegasystems.github.io/pega-datascientist-tools/articles/explainability_extract.html)\n",
    "\n",
    "For information on how to use the Infinity DX client, please refer to the [Infinity class documentation](https://pegasystems.github.io/pega-datascientist-tools/autoapi/pdstools/infinity/client/index.html) or the [Prediction Studio API Explainer article](https://github.com/pegasystems/pega-datascientist-tools/blob/master/examples/prediction_studio/PredictionStudio.ipynb).\n",
    "\n"
   ]
  }
 ],
 "metadata": {
  "kernelspec": {
   "display_name": ".venv",
   "language": "python",
   "name": "python3"
  },
  "language_info": {
   "codemirror_mode": {
    "name": "ipython",
    "version": 3
   },
   "file_extension": ".py",
   "mimetype": "text/x-python",
   "name": "python",
   "nbconvert_exporter": "python",
   "pygments_lexer": "ipython3"
  }
 },
 "nbformat": 4,
 "nbformat_minor": 2
}
