{
 "cells": [
  {
   "cell_type": "code",
   "execution_count": null,
   "metadata": {},
   "outputs": [],
   "source": [
    "from pdstools import IH\n",
    "\n",
    "import plotly.io as pio\n",
    "import plotly as plotly\n",
    "\n",
    "plotly.offline.init_notebook_mode()\n",
    "pio.renderers.default = \"vscode\""
   ]
  },
  {
   "cell_type": "markdown",
   "metadata": {},
   "source": [
    "# Conversion Results\n",
    "\n",
    "Visualization of conversion modeling results from IH data."
   ]
  },
  {
   "cell_type": "code",
   "execution_count": null,
   "metadata": {},
   "outputs": [],
   "source": [
    "from pathlib import Path\n",
    "import polars as pl\n",
    "\n",
    "ih = IH.from_mock_data()\n",
    "# ih = IH.from_ds_export(\n",
    "#         \"./Data-pxStrategyResult_InteractionFiles_20241213T091932_GMT.zip\",\n",
    "#     query=pl.col.ExperimentGroup.is_not_null() & (pl.col.ExperimentGroup != \"\"),\n",
    "# )\n",
    "\n",
    "ih.aggregates.summary_success_rates(by=[\"ExperimentGroup\", \"Channel\"]).drop(\n",
    "    \"Outcomes\"\n",
    ").collect().to_pandas().style.hide()"
   ]
  },
  {
   "cell_type": "code",
   "execution_count": null,
   "metadata": {},
   "outputs": [],
   "source": [
    "ih.plot.overall_gauges(\n",
    "    metric=\"Conversion\",\n",
    "    condition=\"ExperimentGroup\",\n",
    "    by=\"Channel\",\n",
    "    reference_values={\"Web\": 0.055, \"Email\": 0.09},\n",
    ")"
   ]
  },
  {
   "cell_type": "markdown",
   "metadata": {},
   "source": [
    "## Detailed View \n",
    "\n",
    "Showing conversion rates for all actions."
   ]
  },
  {
   "cell_type": "code",
   "execution_count": null,
   "metadata": {},
   "outputs": [],
   "source": [
    "ih.plot.success_rate_tree_map(metric=\"Conversion\")\n"
   ]
  },
  {
   "cell_type": "markdown",
   "metadata": {},
   "source": [
    "## Conversion Rate Trends\n",
    "\n",
    "side-by-side bars and lines (separate methods) with error bars"
   ]
  },
  {
   "cell_type": "code",
   "execution_count": null,
   "metadata": {},
   "outputs": [],
   "source": [
    "ih.plot.success_rate(metric=\"Conversion\", every=\"1d\")"
   ]
  },
  {
   "cell_type": "markdown",
   "metadata": {},
   "source": [
    "# Engagement"
   ]
  },
  {
   "cell_type": "code",
   "execution_count": null,
   "metadata": {},
   "outputs": [],
   "source": [
    "ih.plot.overall_gauges(\n",
    "    condition=\"ExperimentGroup\",\n",
    "    by=\"Channel\",\n",
    "    reference_values={\"Web\": 0.20, \"Email\": 0.20},\n",
    ")"
   ]
  },
  {
   "cell_type": "code",
   "execution_count": null,
   "metadata": {},
   "outputs": [],
   "source": [
    "ih.plot.success_rate(\n",
    "    facet=\"Channel\"\n",
    ")"
   ]
  }
 ],
 "metadata": {
  "kernelspec": {
   "display_name": ".venv",
   "language": "python",
   "name": "python3"
  },
  "language_info": {
   "codemirror_mode": {
    "name": "ipython",
    "version": 3
   },
   "file_extension": ".py",
   "mimetype": "text/x-python",
   "name": "python",
   "nbconvert_exporter": "python",
   "pygments_lexer": "ipython3"
  }
 },
 "nbformat": 4,
 "nbformat_minor": 2
}
