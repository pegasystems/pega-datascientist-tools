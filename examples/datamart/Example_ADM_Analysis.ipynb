{
 "cells": [
  {
   "cell_type": "markdown",
   "metadata": {},
   "source": [
    "# Example ADM analysis\n",
    "Recently, we've revamped the python code for CDH Tools, this notebook aims to demonstrate the different features and uses of the main functions.\n",
    "\n",
    "In general, there are now three main files of importance:\n",
    "- cdh_utils.py: provides tools for importing data from ADM Datamart dumps\n",
    "- ADMDatamart.py: provides the main class for processing the ADM Snapshot data\n",
    "- plots.py: provides the plotting functions for creating visualisations\n",
    "\n",
    "Because ADMDatamart and plots are now separate files and separate classes, it is relatively straightforward to implement new visualisations, as they just need to be added to the plots file. \n",
    "\n",
    "In the revamped version, cdh_utils has more convenience functions for importing data and is much faster by utilizing pyarrow or pandas directly, without having to export the zip folder into a temporary folder and then reading the data as a text file. It also now automatically detects the correct files (in most instances), and imports the latest ones, making it even easier to get started analyzing the datamart dump. \n",
    "\n",
    "ADMDatamart is the class that orchestrates everything: from importing the data to including the visualisations. Therefore that is the only import required. It does have some dependencies:\n",
    "- pandas\n",
    "- numpy\n",
    "- matplotlib\n",
    "- seaborn\n",
    "\n",
    "And one optional dependency for faster dataset reading speed:\n",
    "- pyarrow\n",
    "\n",
    "The newer version of CDH Tools is tested on python version 3.8 but should work from python version 3.6 and up.\n",
    "\n",
    "See this notebook for an introduction to the new ADMDatamart class to get an overview of the currently implemented features in the Python version of CDH Tools. If you have any suggestions for new features, please do not hesitate to raise an issue in Git, or even better: create a pull request yourself!"
   ]
  },
  {
   "cell_type": "markdown",
   "metadata": {},
   "source": [
    "## Reading the data\n",
    "Reading the data is quite simple. All you need to do is to give a directory location to the ADMSnapshot class and it will automatically detect the latest files and import them. There is also a default function to import the CDH Sample data directly from the internet, as you can see below:"
   ]
  },
  {
   "cell_type": "code",
   "execution_count": 2,
   "metadata": {},
   "outputs": [
    {
     "name": "stdout",
     "output_type": "stream",
     "text": [
      "File found through URL\n",
      "Importing: https://raw.githubusercontent.com/pegasystems/cdh-datascientist-tools/master/data/Data-Decision-ADM-ModelSnapshot_pyModelSnapshots_20210526T131808_GMT.zip\n",
      "File found through URL\n",
      "Importing: https://raw.githubusercontent.com/pegasystems/cdh-datascientist-tools/master/data/Data-Decision-ADM-PredictorBinningSnapshot_pyADMPredictorSnapshots_20210526T133622_GMT.zip\n"
     ]
    }
   ],
   "source": [
    "import sys\n",
    "import pandas as pd\n",
    "pd.options.plotting.backend='plotly'\n",
    "sys.path.append(\"../..\")\n",
    "from python import ADMDatamart, datasets\n",
    "\n",
    "CDHSample = datasets.CDHSample()"
   ]
  },
  {
   "cell_type": "markdown",
   "metadata": {},
   "source": [
    "As you can see, it prints out any file names that it imports. These are the two files we want: the model information (modelData) and predictor binning information (predictorData). If the function cannot find the files, it will tell you, and you can override the file names as such (which of course doesn't work here as it found them correctly by itself):"
   ]
  },
  {
   "cell_type": "code",
   "execution_count": 3,
   "metadata": {},
   "outputs": [
    {
     "name": "stdout",
     "output_type": "stream",
     "text": [
      "File models.csv not found in dir /Users/kass1/Downloads/CDHSample\n",
      "File binning.csv not found in dir /Users/kass1/Downloads/CDHSample\n",
      "Could not be combined. Do you have both model data and predictor data?\n"
     ]
    }
   ],
   "source": [
    "from pathlib import Path\n",
    "Sample_not_found = ADMDatamart(f\"{Path.home()}/Downloads/CDHSample\",\n",
    "                        model_filename = 'models.csv',\n",
    "                        predictor_filename = 'binning.csv')"
   ]
  },
  {
   "cell_type": "markdown",
   "metadata": {},
   "source": [
    "By default, it tries to import both model data and predictor data, and if it finds both types of data it combines them into combinedData, which is a third dataframe. \n",
    "\n",
    "It also automatically takes care of variable renaming and capitalization in the same way that the R version does. \n",
    "\n",
    "You can also supply custom mapping for variable names if they are changed in the source data for some reason by suppling a dictionary with 'VariableName':'ChangedVariableName', such as 'Performance':'AUC' if performance were somehow renamed to AUC in some ETL pipeline for example. This way you can also include variables which are not included by default if needed. \n",
    "\n",
    "Let's take a look at what our dataframes look like now:"
   ]
  },
  {
   "cell_type": "code",
   "execution_count": 4,
   "metadata": {},
   "outputs": [
    {
     "name": "stdout",
     "output_type": "stream",
     "text": [
      "(1047, 12)\n",
      "(70735, 19)\n",
      "(4865, 30)\n"
     ]
    }
   ],
   "source": [
    "print(CDHSample.modelData.shape)\n",
    "print(CDHSample.predictorData.shape)\n",
    "print(CDHSample.combinedData.shape)"
   ]
  },
  {
   "cell_type": "markdown",
   "metadata": {},
   "source": [
    "Hopefully this already intuitively shows what the combinedData does: it merges the predictor binning information with extra information about the models, such as their name and Issue/Group/Channel/Direction information. Let's check them out."
   ]
  },
  {
   "cell_type": "code",
   "execution_count": 5,
   "metadata": {},
   "outputs": [
    {
     "data": {
      "text/html": [
       "<div>\n",
       "<style scoped>\n",
       "    .dataframe tbody tr th:only-of-type {\n",
       "        vertical-align: middle;\n",
       "    }\n",
       "\n",
       "    .dataframe tbody tr th {\n",
       "        vertical-align: top;\n",
       "    }\n",
       "\n",
       "    .dataframe thead th {\n",
       "        text-align: right;\n",
       "    }\n",
       "</style>\n",
       "<table border=\"1\" class=\"dataframe\">\n",
       "  <thead>\n",
       "    <tr style=\"text-align: right;\">\n",
       "      <th></th>\n",
       "      <th>ModelID</th>\n",
       "      <th>Issue</th>\n",
       "      <th>Group</th>\n",
       "      <th>Channel</th>\n",
       "      <th>Direction</th>\n",
       "      <th>ModelName</th>\n",
       "      <th>Positives</th>\n",
       "      <th>Configuration</th>\n",
       "      <th>ResponseCount</th>\n",
       "      <th>SnapshotTime</th>\n",
       "      <th>Performance</th>\n",
       "      <th>SuccessRate</th>\n",
       "    </tr>\n",
       "  </thead>\n",
       "  <tbody>\n",
       "    <tr>\n",
       "      <th>0</th>\n",
       "      <td>5ca51e1e-49f0-58d2-8ab7-4a0ccbb326fd</td>\n",
       "      <td>Sales</td>\n",
       "      <td>DepositAccounts</td>\n",
       "      <td>SMS</td>\n",
       "      <td>Outbound</td>\n",
       "      <td>RegularSaving</td>\n",
       "      <td>16</td>\n",
       "      <td>OmniAdaptiveModel</td>\n",
       "      <td>232</td>\n",
       "      <td>2021-06-01 08:23:26.789000+00:00</td>\n",
       "      <td>0.572321</td>\n",
       "      <td>0.068966</td>\n",
       "    </tr>\n",
       "    <tr>\n",
       "      <th>1</th>\n",
       "      <td>b216413c-8c2e-5e1b-860b-07dfc69efa69</td>\n",
       "      <td>Sales</td>\n",
       "      <td>AutoLoans</td>\n",
       "      <td>SMS</td>\n",
       "      <td>Outbound</td>\n",
       "      <td>AutoUsed36Months</td>\n",
       "      <td>19</td>\n",
       "      <td>OmniAdaptiveModel</td>\n",
       "      <td>172</td>\n",
       "      <td>2021-06-01 08:23:26.789000+00:00</td>\n",
       "      <td>0.553309</td>\n",
       "      <td>0.110465</td>\n",
       "    </tr>\n",
       "    <tr>\n",
       "      <th>2</th>\n",
       "      <td>cb67c091-5a81-56f4-9845-71afa9c8076e</td>\n",
       "      <td>Sales</td>\n",
       "      <td>HomeLoans</td>\n",
       "      <td>Email</td>\n",
       "      <td>Outbound</td>\n",
       "      <td>FirstMortgageFHA</td>\n",
       "      <td>0</td>\n",
       "      <td>OmniAdaptiveModel</td>\n",
       "      <td>51</td>\n",
       "      <td>2021-06-01 08:23:26.789000+00:00</td>\n",
       "      <td>0.500000</td>\n",
       "      <td>0.000000</td>\n",
       "    </tr>\n",
       "    <tr>\n",
       "      <th>3</th>\n",
       "      <td>ea0a225a-7d09-5d90-88f6-d0e8380d67cc</td>\n",
       "      <td>Sales</td>\n",
       "      <td>DepositAccounts</td>\n",
       "      <td>Web</td>\n",
       "      <td>Inbound</td>\n",
       "      <td>PremierChecking</td>\n",
       "      <td>137</td>\n",
       "      <td>OmniAdaptiveModel</td>\n",
       "      <td>494</td>\n",
       "      <td>2021-06-01 08:23:26.789000+00:00</td>\n",
       "      <td>0.535957</td>\n",
       "      <td>0.277328</td>\n",
       "    </tr>\n",
       "    <tr>\n",
       "      <th>4</th>\n",
       "      <td>a8cde9d1-c720-537c-8fb8-8c59506bddfe</td>\n",
       "      <td>Sales</td>\n",
       "      <td>CreditCards</td>\n",
       "      <td>Web</td>\n",
       "      <td>Inbound</td>\n",
       "      <td>UPlusFinGold</td>\n",
       "      <td>19</td>\n",
       "      <td>OmniAdaptiveModel</td>\n",
       "      <td>362</td>\n",
       "      <td>2021-06-01 08:23:26.789000+00:00</td>\n",
       "      <td>0.656629</td>\n",
       "      <td>0.052486</td>\n",
       "    </tr>\n",
       "  </tbody>\n",
       "</table>\n",
       "</div>"
      ],
      "text/plain": [
       "                                ModelID  Issue            Group Channel  \\\n",
       "0  5ca51e1e-49f0-58d2-8ab7-4a0ccbb326fd  Sales  DepositAccounts     SMS   \n",
       "1  b216413c-8c2e-5e1b-860b-07dfc69efa69  Sales        AutoLoans     SMS   \n",
       "2  cb67c091-5a81-56f4-9845-71afa9c8076e  Sales        HomeLoans   Email   \n",
       "3  ea0a225a-7d09-5d90-88f6-d0e8380d67cc  Sales  DepositAccounts     Web   \n",
       "4  a8cde9d1-c720-537c-8fb8-8c59506bddfe  Sales      CreditCards     Web   \n",
       "\n",
       "  Direction         ModelName  Positives      Configuration  ResponseCount  \\\n",
       "0  Outbound     RegularSaving         16  OmniAdaptiveModel            232   \n",
       "1  Outbound  AutoUsed36Months         19  OmniAdaptiveModel            172   \n",
       "2  Outbound  FirstMortgageFHA          0  OmniAdaptiveModel             51   \n",
       "3   Inbound   PremierChecking        137  OmniAdaptiveModel            494   \n",
       "4   Inbound      UPlusFinGold         19  OmniAdaptiveModel            362   \n",
       "\n",
       "                      SnapshotTime  Performance  SuccessRate  \n",
       "0 2021-06-01 08:23:26.789000+00:00     0.572321     0.068966  \n",
       "1 2021-06-01 08:23:26.789000+00:00     0.553309     0.110465  \n",
       "2 2021-06-01 08:23:26.789000+00:00     0.500000     0.000000  \n",
       "3 2021-06-01 08:23:26.789000+00:00     0.535957     0.277328  \n",
       "4 2021-06-01 08:23:26.789000+00:00     0.656629     0.052486  "
      ]
     },
     "execution_count": 5,
     "metadata": {},
     "output_type": "execute_result"
    }
   ],
   "source": [
    "CDHSample.modelData.head(5)"
   ]
  },
  {
   "cell_type": "code",
   "execution_count": 6,
   "metadata": {},
   "outputs": [
    {
     "data": {
      "text/html": [
       "<div>\n",
       "<style scoped>\n",
       "    .dataframe tbody tr th:only-of-type {\n",
       "        vertical-align: middle;\n",
       "    }\n",
       "\n",
       "    .dataframe tbody tr th {\n",
       "        vertical-align: top;\n",
       "    }\n",
       "\n",
       "    .dataframe thead th {\n",
       "        text-align: right;\n",
       "    }\n",
       "</style>\n",
       "<table border=\"1\" class=\"dataframe\">\n",
       "  <thead>\n",
       "    <tr style=\"text-align: right;\">\n",
       "      <th></th>\n",
       "      <th>ModelID</th>\n",
       "      <th>Positives</th>\n",
       "      <th>ResponseCount</th>\n",
       "      <th>SnapshotTime</th>\n",
       "      <th>PredictorName</th>\n",
       "      <th>Performance</th>\n",
       "      <th>EntryType</th>\n",
       "      <th>BinSymbol</th>\n",
       "      <th>BinIndex</th>\n",
       "      <th>BinType</th>\n",
       "      <th>BinPositives</th>\n",
       "      <th>BinNegatives</th>\n",
       "      <th>BinResponseCount</th>\n",
       "      <th>Type</th>\n",
       "      <th>BinPositivesPercentage</th>\n",
       "      <th>BinNegativesPercentage</th>\n",
       "      <th>BinResponseCountPercentage</th>\n",
       "      <th>BinPropensity</th>\n",
       "      <th>BinAdjustedPropensity</th>\n",
       "    </tr>\n",
       "  </thead>\n",
       "  <tbody>\n",
       "    <tr>\n",
       "      <th>0</th>\n",
       "      <td>bd70a915-697a-5d43-ab2c-53b0557c85a0</td>\n",
       "      <td>3</td>\n",
       "      <td>1722</td>\n",
       "      <td>2021-06-01 09:34:35.797000+00:00</td>\n",
       "      <td>Customer.Prefix</td>\n",
       "      <td>0.5</td>\n",
       "      <td>Inactive</td>\n",
       "      <td>NON-MISSING</td>\n",
       "      <td>1</td>\n",
       "      <td>EQUIBEHAVIOR</td>\n",
       "      <td>3</td>\n",
       "      <td>1719</td>\n",
       "      <td>1722</td>\n",
       "      <td>symbolic</td>\n",
       "      <td>100.0</td>\n",
       "      <td>100.0</td>\n",
       "      <td>100.0</td>\n",
       "      <td>0.001742</td>\n",
       "      <td>0.002031</td>\n",
       "    </tr>\n",
       "    <tr>\n",
       "      <th>1</th>\n",
       "      <td>bd70a915-697a-5d43-ab2c-53b0557c85a0</td>\n",
       "      <td>3</td>\n",
       "      <td>1722</td>\n",
       "      <td>2021-06-01 09:34:35.797000+00:00</td>\n",
       "      <td>Customer.IsCustomerActive</td>\n",
       "      <td>0.5</td>\n",
       "      <td>Inactive</td>\n",
       "      <td>NON-MISSING</td>\n",
       "      <td>1</td>\n",
       "      <td>EQUIBEHAVIOR</td>\n",
       "      <td>3</td>\n",
       "      <td>1719</td>\n",
       "      <td>1722</td>\n",
       "      <td>symbolic</td>\n",
       "      <td>100.0</td>\n",
       "      <td>100.0</td>\n",
       "      <td>100.0</td>\n",
       "      <td>0.001742</td>\n",
       "      <td>0.002031</td>\n",
       "    </tr>\n",
       "    <tr>\n",
       "      <th>2</th>\n",
       "      <td>bd70a915-697a-5d43-ab2c-53b0557c85a0</td>\n",
       "      <td>3</td>\n",
       "      <td>1722</td>\n",
       "      <td>2021-06-01 09:34:35.797000+00:00</td>\n",
       "      <td>Customer.HealthMatter</td>\n",
       "      <td>0.5</td>\n",
       "      <td>Inactive</td>\n",
       "      <td>MISSING</td>\n",
       "      <td>1</td>\n",
       "      <td>MISSING</td>\n",
       "      <td>3</td>\n",
       "      <td>1719</td>\n",
       "      <td>1722</td>\n",
       "      <td>symbolic</td>\n",
       "      <td>100.0</td>\n",
       "      <td>100.0</td>\n",
       "      <td>100.0</td>\n",
       "      <td>0.001742</td>\n",
       "      <td>0.002031</td>\n",
       "    </tr>\n",
       "    <tr>\n",
       "      <th>3</th>\n",
       "      <td>bd70a915-697a-5d43-ab2c-53b0557c85a0</td>\n",
       "      <td>0</td>\n",
       "      <td>0</td>\n",
       "      <td>2021-06-01 09:34:35.797000+00:00</td>\n",
       "      <td>Customer.SSN</td>\n",
       "      <td>0.5</td>\n",
       "      <td>Inactive</td>\n",
       "      <td>NON-MISSING</td>\n",
       "      <td>1</td>\n",
       "      <td>EQUIBEHAVIOR</td>\n",
       "      <td>0</td>\n",
       "      <td>0</td>\n",
       "      <td>0</td>\n",
       "      <td>symbolic</td>\n",
       "      <td>0.0</td>\n",
       "      <td>0.0</td>\n",
       "      <td>0.0</td>\n",
       "      <td>NaN</td>\n",
       "      <td>0.500000</td>\n",
       "    </tr>\n",
       "    <tr>\n",
       "      <th>4</th>\n",
       "      <td>bd70a915-697a-5d43-ab2c-53b0557c85a0</td>\n",
       "      <td>3</td>\n",
       "      <td>1722</td>\n",
       "      <td>2021-06-01 09:34:35.797000+00:00</td>\n",
       "      <td>Customer.pyCountry</td>\n",
       "      <td>0.5</td>\n",
       "      <td>Inactive</td>\n",
       "      <td>NON-MISSING</td>\n",
       "      <td>1</td>\n",
       "      <td>EQUIBEHAVIOR</td>\n",
       "      <td>3</td>\n",
       "      <td>1719</td>\n",
       "      <td>1722</td>\n",
       "      <td>symbolic</td>\n",
       "      <td>100.0</td>\n",
       "      <td>100.0</td>\n",
       "      <td>100.0</td>\n",
       "      <td>0.001742</td>\n",
       "      <td>0.002031</td>\n",
       "    </tr>\n",
       "  </tbody>\n",
       "</table>\n",
       "</div>"
      ],
      "text/plain": [
       "                                ModelID  Positives  ResponseCount  \\\n",
       "0  bd70a915-697a-5d43-ab2c-53b0557c85a0          3           1722   \n",
       "1  bd70a915-697a-5d43-ab2c-53b0557c85a0          3           1722   \n",
       "2  bd70a915-697a-5d43-ab2c-53b0557c85a0          3           1722   \n",
       "3  bd70a915-697a-5d43-ab2c-53b0557c85a0          0              0   \n",
       "4  bd70a915-697a-5d43-ab2c-53b0557c85a0          3           1722   \n",
       "\n",
       "                      SnapshotTime              PredictorName  Performance  \\\n",
       "0 2021-06-01 09:34:35.797000+00:00            Customer.Prefix          0.5   \n",
       "1 2021-06-01 09:34:35.797000+00:00  Customer.IsCustomerActive          0.5   \n",
       "2 2021-06-01 09:34:35.797000+00:00      Customer.HealthMatter          0.5   \n",
       "3 2021-06-01 09:34:35.797000+00:00               Customer.SSN          0.5   \n",
       "4 2021-06-01 09:34:35.797000+00:00         Customer.pyCountry          0.5   \n",
       "\n",
       "  EntryType    BinSymbol  BinIndex       BinType  BinPositives  BinNegatives  \\\n",
       "0  Inactive  NON-MISSING         1  EQUIBEHAVIOR             3          1719   \n",
       "1  Inactive  NON-MISSING         1  EQUIBEHAVIOR             3          1719   \n",
       "2  Inactive      MISSING         1       MISSING             3          1719   \n",
       "3  Inactive  NON-MISSING         1  EQUIBEHAVIOR             0             0   \n",
       "4  Inactive  NON-MISSING         1  EQUIBEHAVIOR             3          1719   \n",
       "\n",
       "   BinResponseCount      Type  BinPositivesPercentage  BinNegativesPercentage  \\\n",
       "0              1722  symbolic                   100.0                   100.0   \n",
       "1              1722  symbolic                   100.0                   100.0   \n",
       "2              1722  symbolic                   100.0                   100.0   \n",
       "3                 0  symbolic                     0.0                     0.0   \n",
       "4              1722  symbolic                   100.0                   100.0   \n",
       "\n",
       "   BinResponseCountPercentage  BinPropensity  BinAdjustedPropensity  \n",
       "0                       100.0       0.001742               0.002031  \n",
       "1                       100.0       0.001742               0.002031  \n",
       "2                       100.0       0.001742               0.002031  \n",
       "3                         0.0            NaN               0.500000  \n",
       "4                       100.0       0.001742               0.002031  "
      ]
     },
     "execution_count": 6,
     "metadata": {},
     "output_type": "execute_result"
    }
   ],
   "source": [
    "CDHSample.predictorData.head(5)"
   ]
  },
  {
   "cell_type": "code",
   "execution_count": 7,
   "metadata": {},
   "outputs": [
    {
     "data": {
      "text/html": [
       "<div>\n",
       "<style scoped>\n",
       "    .dataframe tbody tr th:only-of-type {\n",
       "        vertical-align: middle;\n",
       "    }\n",
       "\n",
       "    .dataframe tbody tr th {\n",
       "        vertical-align: top;\n",
       "    }\n",
       "\n",
       "    .dataframe thead th {\n",
       "        text-align: right;\n",
       "    }\n",
       "</style>\n",
       "<table border=\"1\" class=\"dataframe\">\n",
       "  <thead>\n",
       "    <tr style=\"text-align: right;\">\n",
       "      <th></th>\n",
       "      <th>ModelID</th>\n",
       "      <th>Issue</th>\n",
       "      <th>Group</th>\n",
       "      <th>Channel</th>\n",
       "      <th>Direction</th>\n",
       "      <th>ModelName</th>\n",
       "      <th>Positives</th>\n",
       "      <th>Configuration</th>\n",
       "      <th>ResponseCount</th>\n",
       "      <th>SnapshotTime</th>\n",
       "      <th>...</th>\n",
       "      <th>BinType</th>\n",
       "      <th>BinPositives</th>\n",
       "      <th>BinNegatives</th>\n",
       "      <th>BinResponseCount</th>\n",
       "      <th>Type</th>\n",
       "      <th>BinPositivesPercentage</th>\n",
       "      <th>BinNegativesPercentage</th>\n",
       "      <th>BinResponseCountPercentage</th>\n",
       "      <th>BinPropensity</th>\n",
       "      <th>BinAdjustedPropensity</th>\n",
       "    </tr>\n",
       "  </thead>\n",
       "  <tbody>\n",
       "    <tr>\n",
       "      <th>0</th>\n",
       "      <td>08ca1302-9fc0-57bf-9031-d4179d400493</td>\n",
       "      <td>Sales</td>\n",
       "      <td>Bundles</td>\n",
       "      <td>Web</td>\n",
       "      <td>Inbound</td>\n",
       "      <td>HomeOwners</td>\n",
       "      <td>609</td>\n",
       "      <td>OmniAdaptiveModel</td>\n",
       "      <td>4605</td>\n",
       "      <td>2021-06-01 13:23:26.789000+00:00</td>\n",
       "      <td>...</td>\n",
       "      <td>EQUIBEHAVIOR</td>\n",
       "      <td>41</td>\n",
       "      <td>881</td>\n",
       "      <td>922</td>\n",
       "      <td>numeric</td>\n",
       "      <td>6.73</td>\n",
       "      <td>22.05</td>\n",
       "      <td>20.02</td>\n",
       "      <td>0.044469</td>\n",
       "      <td>0.044962</td>\n",
       "    </tr>\n",
       "    <tr>\n",
       "      <th>1</th>\n",
       "      <td>08ca1302-9fc0-57bf-9031-d4179d400493</td>\n",
       "      <td>Sales</td>\n",
       "      <td>Bundles</td>\n",
       "      <td>Web</td>\n",
       "      <td>Inbound</td>\n",
       "      <td>HomeOwners</td>\n",
       "      <td>609</td>\n",
       "      <td>OmniAdaptiveModel</td>\n",
       "      <td>4605</td>\n",
       "      <td>2021-06-01 13:23:26.789000+00:00</td>\n",
       "      <td>...</td>\n",
       "      <td>EQUIBEHAVIOR</td>\n",
       "      <td>10</td>\n",
       "      <td>206</td>\n",
       "      <td>216</td>\n",
       "      <td>numeric</td>\n",
       "      <td>1.64</td>\n",
       "      <td>5.16</td>\n",
       "      <td>4.69</td>\n",
       "      <td>0.046296</td>\n",
       "      <td>0.048387</td>\n",
       "    </tr>\n",
       "    <tr>\n",
       "      <th>2</th>\n",
       "      <td>08ca1302-9fc0-57bf-9031-d4179d400493</td>\n",
       "      <td>Sales</td>\n",
       "      <td>Bundles</td>\n",
       "      <td>Web</td>\n",
       "      <td>Inbound</td>\n",
       "      <td>HomeOwners</td>\n",
       "      <td>609</td>\n",
       "      <td>OmniAdaptiveModel</td>\n",
       "      <td>4605</td>\n",
       "      <td>2021-06-01 13:23:26.789000+00:00</td>\n",
       "      <td>...</td>\n",
       "      <td>EQUIBEHAVIOR</td>\n",
       "      <td>31</td>\n",
       "      <td>567</td>\n",
       "      <td>598</td>\n",
       "      <td>numeric</td>\n",
       "      <td>5.09</td>\n",
       "      <td>14.19</td>\n",
       "      <td>12.99</td>\n",
       "      <td>0.051839</td>\n",
       "      <td>0.052588</td>\n",
       "    </tr>\n",
       "    <tr>\n",
       "      <th>3</th>\n",
       "      <td>08ca1302-9fc0-57bf-9031-d4179d400493</td>\n",
       "      <td>Sales</td>\n",
       "      <td>Bundles</td>\n",
       "      <td>Web</td>\n",
       "      <td>Inbound</td>\n",
       "      <td>HomeOwners</td>\n",
       "      <td>609</td>\n",
       "      <td>OmniAdaptiveModel</td>\n",
       "      <td>4605</td>\n",
       "      <td>2021-06-01 13:23:26.789000+00:00</td>\n",
       "      <td>...</td>\n",
       "      <td>EQUIBEHAVIOR</td>\n",
       "      <td>7</td>\n",
       "      <td>115</td>\n",
       "      <td>122</td>\n",
       "      <td>numeric</td>\n",
       "      <td>1.15</td>\n",
       "      <td>2.88</td>\n",
       "      <td>2.65</td>\n",
       "      <td>0.057377</td>\n",
       "      <td>0.060976</td>\n",
       "    </tr>\n",
       "    <tr>\n",
       "      <th>4</th>\n",
       "      <td>08ca1302-9fc0-57bf-9031-d4179d400493</td>\n",
       "      <td>Sales</td>\n",
       "      <td>Bundles</td>\n",
       "      <td>Web</td>\n",
       "      <td>Inbound</td>\n",
       "      <td>HomeOwners</td>\n",
       "      <td>609</td>\n",
       "      <td>OmniAdaptiveModel</td>\n",
       "      <td>4605</td>\n",
       "      <td>2021-06-01 13:23:26.789000+00:00</td>\n",
       "      <td>...</td>\n",
       "      <td>EQUIBEHAVIOR</td>\n",
       "      <td>30</td>\n",
       "      <td>368</td>\n",
       "      <td>398</td>\n",
       "      <td>numeric</td>\n",
       "      <td>4.93</td>\n",
       "      <td>9.21</td>\n",
       "      <td>8.64</td>\n",
       "      <td>0.075377</td>\n",
       "      <td>0.076441</td>\n",
       "    </tr>\n",
       "  </tbody>\n",
       "</table>\n",
       "<p>5 rows × 30 columns</p>\n",
       "</div>"
      ],
      "text/plain": [
       "                                ModelID  Issue    Group Channel Direction  \\\n",
       "0  08ca1302-9fc0-57bf-9031-d4179d400493  Sales  Bundles     Web   Inbound   \n",
       "1  08ca1302-9fc0-57bf-9031-d4179d400493  Sales  Bundles     Web   Inbound   \n",
       "2  08ca1302-9fc0-57bf-9031-d4179d400493  Sales  Bundles     Web   Inbound   \n",
       "3  08ca1302-9fc0-57bf-9031-d4179d400493  Sales  Bundles     Web   Inbound   \n",
       "4  08ca1302-9fc0-57bf-9031-d4179d400493  Sales  Bundles     Web   Inbound   \n",
       "\n",
       "    ModelName  Positives      Configuration  ResponseCount  \\\n",
       "0  HomeOwners        609  OmniAdaptiveModel           4605   \n",
       "1  HomeOwners        609  OmniAdaptiveModel           4605   \n",
       "2  HomeOwners        609  OmniAdaptiveModel           4605   \n",
       "3  HomeOwners        609  OmniAdaptiveModel           4605   \n",
       "4  HomeOwners        609  OmniAdaptiveModel           4605   \n",
       "\n",
       "                      SnapshotTime  ...       BinType  BinPositives  \\\n",
       "0 2021-06-01 13:23:26.789000+00:00  ...  EQUIBEHAVIOR            41   \n",
       "1 2021-06-01 13:23:26.789000+00:00  ...  EQUIBEHAVIOR            10   \n",
       "2 2021-06-01 13:23:26.789000+00:00  ...  EQUIBEHAVIOR            31   \n",
       "3 2021-06-01 13:23:26.789000+00:00  ...  EQUIBEHAVIOR             7   \n",
       "4 2021-06-01 13:23:26.789000+00:00  ...  EQUIBEHAVIOR            30   \n",
       "\n",
       "  BinNegatives  BinResponseCount     Type  BinPositivesPercentage  \\\n",
       "0          881               922  numeric                    6.73   \n",
       "1          206               216  numeric                    1.64   \n",
       "2          567               598  numeric                    5.09   \n",
       "3          115               122  numeric                    1.15   \n",
       "4          368               398  numeric                    4.93   \n",
       "\n",
       "  BinNegativesPercentage  BinResponseCountPercentage BinPropensity  \\\n",
       "0                  22.05                       20.02      0.044469   \n",
       "1                   5.16                        4.69      0.046296   \n",
       "2                  14.19                       12.99      0.051839   \n",
       "3                   2.88                        2.65      0.057377   \n",
       "4                   9.21                        8.64      0.075377   \n",
       "\n",
       "  BinAdjustedPropensity  \n",
       "0              0.044962  \n",
       "1              0.048387  \n",
       "2              0.052588  \n",
       "3              0.060976  \n",
       "4              0.076441  \n",
       "\n",
       "[5 rows x 30 columns]"
      ]
     },
     "execution_count": 7,
     "metadata": {},
     "output_type": "execute_result"
    }
   ],
   "source": [
    "CDHSample.combinedData.head(5)"
   ]
  },
  {
   "cell_type": "markdown",
   "metadata": {},
   "source": [
    "In the background we've already calculated some additional information, such as the model success rate and the bin propensities. Before getting to the visualisations, there are some more tricks: for instance, sometimes we're not interested in analyzing multiple snapshots, but only in the last known snapshot for each model/predictor. For this, there is a built-in 'last' function:"
   ]
  },
  {
   "cell_type": "code",
   "execution_count": 8,
   "metadata": {},
   "outputs": [
    {
     "data": {
      "text/plain": [
       "(70, 11)"
      ]
     },
     "execution_count": 8,
     "metadata": {},
     "output_type": "execute_result"
    }
   ],
   "source": [
    "CDHSample.last('modelData').shape"
   ]
  },
  {
   "cell_type": "markdown",
   "metadata": {},
   "source": [
    "From +-1000 to 70 models in the data, so that works. Naturally we can also do the same thing for predictor data, although predictor data typically does not store multiple versions. Another thing we can try is to directly filter our data to only select values from a certain timestamp. Let's first look at the available timestamps by plotting them (showing we have multiple timestamps)."
   ]
  },
  {
   "cell_type": "code",
   "execution_count": 9,
   "metadata": {},
   "outputs": [
    {
     "data": {
      "text/plain": [
       "0      2021-06-01 08:23:26.789000+00:00\n",
       "1      2021-06-01 08:23:26.789000+00:00\n",
       "2      2021-06-01 08:23:26.789000+00:00\n",
       "3      2021-06-01 08:23:26.789000+00:00\n",
       "4      2021-06-01 08:23:26.789000+00:00\n",
       "                     ...               \n",
       "1042   2021-06-01 13:23:26.789000+00:00\n",
       "1043   2021-06-01 13:23:26.789000+00:00\n",
       "1044   2021-06-01 13:23:26.789000+00:00\n",
       "1045   2021-06-01 13:23:26.789000+00:00\n",
       "1046   2021-06-01 13:23:26.789000+00:00\n",
       "Name: SnapshotTime, Length: 1047, dtype: datetime64[ns, UTC]"
      ]
     },
     "execution_count": 9,
     "metadata": {},
     "output_type": "execute_result"
    }
   ],
   "source": [
    "CDHSample.modelData.SnapshotTime"
   ]
  },
  {
   "cell_type": "code",
   "execution_count": 10,
   "metadata": {},
   "outputs": [
    {
     "data": {
      "application/vnd.plotly.v1+json": {
       "config": {
        "plotlyServerURL": "https://plot.ly"
       },
       "data": [
        {
         "hovertemplate": "variable=SnapshotTime<br>index=%{x}<br>value=%{y}<extra></extra>",
         "legendgroup": "SnapshotTime",
         "line": {
          "color": "#636efa",
          "dash": "solid"
         },
         "marker": {
          "symbol": "circle"
         },
         "mode": "lines",
         "name": "SnapshotTime",
         "showlegend": true,
         "type": "scattergl",
         "x": [
          0,
          1,
          2,
          3,
          4,
          5,
          6,
          7,
          8,
          9,
          10,
          11,
          12,
          13,
          14,
          15,
          16,
          17,
          18,
          19,
          20,
          21,
          22,
          23,
          24,
          25,
          26,
          27,
          28,
          29,
          30,
          31,
          32,
          33,
          34,
          35,
          36,
          37,
          38,
          39,
          40,
          41,
          42,
          43,
          44,
          45,
          46,
          47,
          48,
          49,
          50,
          51,
          52,
          53,
          54,
          55,
          56,
          57,
          58,
          59,
          60,
          61,
          62,
          63,
          64,
          65,
          66,
          67,
          68,
          69,
          70,
          71,
          72,
          73,
          74,
          75,
          76,
          77,
          78,
          79,
          80,
          81,
          82,
          83,
          84,
          85,
          86,
          87,
          88,
          89,
          90,
          91,
          92,
          93,
          94,
          95,
          96,
          97,
          98,
          99,
          100,
          101,
          102,
          103,
          104,
          105,
          106,
          107,
          108,
          109,
          110,
          111,
          112,
          113,
          114,
          115,
          116,
          117,
          118,
          119,
          120,
          121,
          122,
          123,
          124,
          125,
          126,
          127,
          128,
          129,
          130,
          131,
          132,
          133,
          134,
          135,
          136,
          137,
          138,
          139,
          140,
          141,
          142,
          143,
          144,
          145,
          146,
          147,
          148,
          149,
          150,
          151,
          152,
          153,
          154,
          155,
          156,
          157,
          158,
          159,
          160,
          161,
          162,
          163,
          164,
          165,
          166,
          167,
          168,
          169,
          170,
          171,
          172,
          173,
          174,
          175,
          176,
          177,
          178,
          179,
          180,
          181,
          182,
          183,
          184,
          185,
          186,
          187,
          188,
          189,
          190,
          191,
          192,
          193,
          194,
          195,
          196,
          197,
          198,
          199,
          200,
          201,
          202,
          203,
          204,
          205,
          206,
          207,
          208,
          209,
          210,
          211,
          212,
          213,
          214,
          215,
          216,
          217,
          218,
          219,
          220,
          221,
          222,
          223,
          224,
          225,
          226,
          227,
          228,
          229,
          230,
          231,
          232,
          233,
          234,
          235,
          236,
          237,
          238,
          239,
          240,
          241,
          242,
          243,
          244,
          245,
          246,
          247,
          248,
          249,
          250,
          251,
          252,
          253,
          254,
          255,
          256,
          257,
          258,
          259,
          260,
          261,
          262,
          263,
          264,
          265,
          266,
          267,
          268,
          269,
          270,
          271,
          272,
          273,
          274,
          275,
          276,
          277,
          278,
          279,
          280,
          281,
          282,
          283,
          284,
          285,
          286,
          287,
          288,
          289,
          290,
          291,
          292,
          293,
          294,
          295,
          296,
          297,
          298,
          299,
          300,
          301,
          302,
          303,
          304,
          305,
          306,
          307,
          308,
          309,
          310,
          311,
          312,
          313,
          314,
          315,
          316,
          317,
          318,
          319,
          320,
          321,
          322,
          323,
          324,
          325,
          326,
          327,
          328,
          329,
          330,
          331,
          332,
          333,
          334,
          335,
          336,
          337,
          338,
          339,
          340,
          341,
          342,
          343,
          344,
          345,
          346,
          347,
          348,
          349,
          350,
          351,
          352,
          353,
          354,
          355,
          356,
          357,
          358,
          359,
          360,
          361,
          362,
          363,
          364,
          365,
          366,
          367,
          368,
          369,
          370,
          371,
          372,
          373,
          374,
          375,
          376,
          377,
          378,
          379,
          380,
          381,
          382,
          383,
          384,
          385,
          386,
          387,
          388,
          389,
          390,
          391,
          392,
          393,
          394,
          395,
          396,
          397,
          398,
          399,
          400,
          401,
          402,
          403,
          404,
          405,
          406,
          407,
          408,
          409,
          410,
          411,
          412,
          413,
          414,
          415,
          416,
          417,
          418,
          419,
          420,
          421,
          422,
          423,
          424,
          425,
          426,
          427,
          428,
          429,
          430,
          431,
          432,
          433,
          434,
          435,
          436,
          437,
          438,
          439,
          440,
          441,
          442,
          443,
          444,
          445,
          446,
          447,
          448,
          449,
          450,
          451,
          452,
          453,
          454,
          455,
          456,
          457,
          458,
          459,
          460,
          461,
          462,
          463,
          464,
          465,
          466,
          467,
          468,
          469,
          470,
          471,
          472,
          473,
          474,
          475,
          476,
          477,
          478,
          479,
          480,
          481,
          482,
          483,
          484,
          485,
          486,
          487,
          488,
          489,
          490,
          491,
          492,
          493,
          494,
          495,
          496,
          497,
          498,
          499,
          500,
          501,
          502,
          503,
          504,
          505,
          506,
          507,
          508,
          509,
          510,
          511,
          512,
          513,
          514,
          515,
          516,
          517,
          518,
          519,
          520,
          521,
          522,
          523,
          524,
          525,
          526,
          527,
          528,
          529,
          530,
          531,
          532,
          533,
          534,
          535,
          536,
          537,
          538,
          539,
          540,
          541,
          542,
          543,
          544,
          545,
          546,
          547,
          548,
          549,
          550,
          551,
          552,
          553,
          554,
          555,
          556,
          557,
          558,
          559,
          560,
          561,
          562,
          563,
          564,
          565,
          566,
          567,
          568,
          569,
          570,
          571,
          572,
          573,
          574,
          575,
          576,
          577,
          578,
          579,
          580,
          581,
          582,
          583,
          584,
          585,
          586,
          587,
          588,
          589,
          590,
          591,
          592,
          593,
          594,
          595,
          596,
          597,
          598,
          599,
          600,
          601,
          602,
          603,
          604,
          605,
          606,
          607,
          608,
          609,
          610,
          611,
          612,
          613,
          614,
          615,
          616,
          617,
          618,
          619,
          620,
          621,
          622,
          623,
          624,
          625,
          626,
          627,
          628,
          629,
          630,
          631,
          632,
          633,
          634,
          635,
          636,
          637,
          638,
          639,
          640,
          641,
          642,
          643,
          644,
          645,
          646,
          647,
          648,
          649,
          650,
          651,
          652,
          653,
          654,
          655,
          656,
          657,
          658,
          659,
          660,
          661,
          662,
          663,
          664,
          665,
          666,
          667,
          668,
          669,
          670,
          671,
          672,
          673,
          674,
          675,
          676,
          677,
          678,
          679,
          680,
          681,
          682,
          683,
          684,
          685,
          686,
          687,
          688,
          689,
          690,
          691,
          692,
          693,
          694,
          695,
          696,
          697,
          698,
          699,
          700,
          701,
          702,
          703,
          704,
          705,
          706,
          707,
          708,
          709,
          710,
          711,
          712,
          713,
          714,
          715,
          716,
          717,
          718,
          719,
          720,
          721,
          722,
          723,
          724,
          725,
          726,
          727,
          728,
          729,
          730,
          731,
          732,
          733,
          734,
          735,
          736,
          737,
          738,
          739,
          740,
          741,
          742,
          743,
          744,
          745,
          746,
          747,
          748,
          749,
          750,
          751,
          752,
          753,
          754,
          755,
          756,
          757,
          758,
          759,
          760,
          761,
          762,
          763,
          764,
          765,
          766,
          767,
          768,
          769,
          770,
          771,
          772,
          773,
          774,
          775,
          776,
          777,
          778,
          779,
          780,
          781,
          782,
          783,
          784,
          785,
          786,
          787,
          788,
          789,
          790,
          791,
          792,
          793,
          794,
          795,
          796,
          797,
          798,
          799,
          800,
          801,
          802,
          803,
          804,
          805,
          806,
          807,
          808,
          809,
          810,
          811,
          812,
          813,
          814,
          815,
          816,
          817,
          818,
          819,
          820,
          821,
          822,
          823,
          824,
          825,
          826,
          827,
          828,
          829,
          830,
          831,
          832,
          833,
          834,
          835,
          836,
          837,
          838,
          839,
          840,
          841,
          842,
          843,
          844,
          845,
          846,
          847,
          848,
          849,
          850,
          851,
          852,
          853,
          854,
          855,
          856,
          857,
          858,
          859,
          860,
          861,
          862,
          863,
          864,
          865,
          866,
          867,
          868,
          869,
          870,
          871,
          872,
          873,
          874,
          875,
          876,
          877,
          878,
          879,
          880,
          881,
          882,
          883,
          884,
          885,
          886,
          887,
          888,
          889,
          890,
          891,
          892,
          893,
          894,
          895,
          896,
          897,
          898,
          899,
          900,
          901,
          902,
          903,
          904,
          905,
          906,
          907,
          908,
          909,
          910,
          911,
          912,
          913,
          914,
          915,
          916,
          917,
          918,
          919,
          920,
          921,
          922,
          923,
          924,
          925,
          926,
          927,
          928,
          929,
          930,
          931,
          932,
          933,
          934,
          935,
          936,
          937,
          938,
          939,
          940,
          941,
          942,
          943,
          944,
          945,
          946,
          947,
          948,
          949,
          950,
          951,
          952,
          953,
          954,
          955,
          956,
          957,
          958,
          959,
          960,
          961,
          962,
          963,
          964,
          965,
          966,
          967,
          968,
          969,
          970,
          971,
          972,
          973,
          974,
          975,
          976,
          977,
          978,
          979,
          980,
          981,
          982,
          983,
          984,
          985,
          986,
          987,
          988,
          989,
          990,
          991,
          992,
          993,
          994,
          995,
          996,
          997,
          998,
          999,
          1000,
          1001,
          1002,
          1003,
          1004,
          1005,
          1006,
          1007,
          1008,
          1009,
          1010,
          1011,
          1012,
          1013,
          1014,
          1015,
          1016,
          1017,
          1018,
          1019,
          1020,
          1021,
          1022,
          1023,
          1024,
          1025,
          1026,
          1027,
          1028,
          1029,
          1030,
          1031,
          1032,
          1033,
          1034,
          1035,
          1036,
          1037,
          1038,
          1039,
          1040,
          1041,
          1042,
          1043,
          1044,
          1045,
          1046
         ],
         "xaxis": "x",
         "y": [
          "2021-06-01T08:23:26.789000+00:00",
          "2021-06-01T08:23:26.789000+00:00",
          "2021-06-01T08:23:26.789000+00:00",
          "2021-06-01T08:23:26.789000+00:00",
          "2021-06-01T08:23:26.789000+00:00",
          "2021-06-01T08:23:26.789000+00:00",
          "2021-06-01T08:23:26.789000+00:00",
          "2021-06-01T08:23:26.789000+00:00",
          "2021-06-01T08:23:26.789000+00:00",
          "2021-06-01T08:23:26.789000+00:00",
          "2021-06-01T08:23:26.789000+00:00",
          "2021-06-01T08:23:26.789000+00:00",
          "2021-06-01T08:23:26.789000+00:00",
          "2021-06-01T08:23:26.789000+00:00",
          "2021-06-01T08:23:26.789000+00:00",
          "2021-06-01T08:23:26.789000+00:00",
          "2021-06-01T08:23:26.789000+00:00",
          "2021-06-01T08:23:26.789000+00:00",
          "2021-06-01T08:23:26.789000+00:00",
          "2021-06-01T08:23:26.789000+00:00",
          "2021-06-01T08:23:26.789000+00:00",
          "2021-06-01T08:23:26.789000+00:00",
          "2021-06-01T08:23:26.789000+00:00",
          "2021-06-01T08:23:26.789000+00:00",
          "2021-06-01T08:23:26.789000+00:00",
          "2021-06-01T08:23:26.789000+00:00",
          "2021-06-01T08:23:26.789000+00:00",
          "2021-06-01T08:23:26.789000+00:00",
          "2021-06-01T08:23:26.789000+00:00",
          "2021-06-01T08:23:26.789000+00:00",
          "2021-06-01T08:23:26.789000+00:00",
          "2021-06-01T08:23:26.789000+00:00",
          "2021-06-01T08:23:26.789000+00:00",
          "2021-06-01T08:23:26.789000+00:00",
          "2021-06-01T08:23:26.789000+00:00",
          "2021-06-01T08:23:26.789000+00:00",
          "2021-06-01T08:23:26.789000+00:00",
          "2021-06-01T08:23:26.789000+00:00",
          "2021-06-01T08:23:26.789000+00:00",
          "2021-06-01T08:23:26.789000+00:00",
          "2021-06-01T08:23:26.789000+00:00",
          "2021-06-01T08:23:26.789000+00:00",
          "2021-06-01T08:23:26.789000+00:00",
          "2021-06-01T08:23:26.789000+00:00",
          "2021-06-01T08:23:26.789000+00:00",
          "2021-06-01T08:23:26.789000+00:00",
          "2021-06-01T08:23:26.789000+00:00",
          "2021-06-01T08:23:26.789000+00:00",
          "2021-06-01T08:23:26.789000+00:00",
          "2021-06-01T08:23:26.789000+00:00",
          "2021-06-01T08:23:26.789000+00:00",
          "2021-06-01T08:23:26.789000+00:00",
          "2021-06-01T08:23:26.789000+00:00",
          "2021-06-01T08:23:26.789000+00:00",
          "2021-06-01T08:23:26.789000+00:00",
          "2021-06-01T08:23:26.789000+00:00",
          "2021-06-01T08:23:26.789000+00:00",
          "2021-06-01T08:23:26.789000+00:00",
          "2021-06-01T08:23:26.789000+00:00",
          "2021-06-01T08:23:26.789000+00:00",
          "2021-06-01T08:23:26.789000+00:00",
          "2021-06-01T08:27:55.789000+00:00",
          "2021-06-01T08:27:55.789000+00:00",
          "2021-06-01T08:27:55.789000+00:00",
          "2021-06-01T08:27:55.789000+00:00",
          "2021-06-01T08:27:55.789000+00:00",
          "2021-06-01T08:27:55.789000+00:00",
          "2021-06-01T08:27:55.789000+00:00",
          "2021-06-01T08:27:55.789000+00:00",
          "2021-06-01T08:27:55.789000+00:00",
          "2021-06-01T08:27:55.789000+00:00",
          "2021-06-01T08:27:55.789000+00:00",
          "2021-06-01T08:27:55.789000+00:00",
          "2021-06-01T08:27:55.789000+00:00",
          "2021-06-01T08:27:55.789000+00:00",
          "2021-06-01T08:27:55.789000+00:00",
          "2021-06-01T08:27:55.789000+00:00",
          "2021-06-01T08:27:55.789000+00:00",
          "2021-06-01T08:27:55.789000+00:00",
          "2021-06-01T08:27:55.789000+00:00",
          "2021-06-01T08:27:55.789000+00:00",
          "2021-06-01T08:27:55.789000+00:00",
          "2021-06-01T08:27:55.789000+00:00",
          "2021-06-01T08:27:55.789000+00:00",
          "2021-06-01T08:27:55.789000+00:00",
          "2021-06-01T08:27:55.789000+00:00",
          "2021-06-01T08:27:55.789000+00:00",
          "2021-06-01T08:27:55.789000+00:00",
          "2021-06-01T08:27:55.789000+00:00",
          "2021-06-01T08:27:55.789000+00:00",
          "2021-06-01T08:27:55.789000+00:00",
          "2021-06-01T08:27:55.789000+00:00",
          "2021-06-01T08:27:55.789000+00:00",
          "2021-06-01T08:27:55.789000+00:00",
          "2021-06-01T08:27:55.789000+00:00",
          "2021-06-01T08:27:55.789000+00:00",
          "2021-06-01T08:27:55.789000+00:00",
          "2021-06-01T08:27:55.789000+00:00",
          "2021-06-01T08:27:55.789000+00:00",
          "2021-06-01T08:27:55.789000+00:00",
          "2021-06-01T08:27:55.789000+00:00",
          "2021-06-01T08:27:55.789000+00:00",
          "2021-06-01T08:27:55.789000+00:00",
          "2021-06-01T08:27:55.789000+00:00",
          "2021-06-01T08:27:55.789000+00:00",
          "2021-06-01T08:27:55.789000+00:00",
          "2021-06-01T08:27:55.789000+00:00",
          "2021-06-01T08:27:55.789000+00:00",
          "2021-06-01T08:27:55.789000+00:00",
          "2021-06-01T09:03:01.789000+00:00",
          "2021-06-01T09:03:01.789000+00:00",
          "2021-06-01T09:03:01.789000+00:00",
          "2021-06-01T09:03:01.789000+00:00",
          "2021-06-01T09:03:01.789000+00:00",
          "2021-06-01T09:03:01.789000+00:00",
          "2021-06-01T09:03:01.789000+00:00",
          "2021-06-01T08:27:55.789000+00:00",
          "2021-06-01T08:27:55.789000+00:00",
          "2021-06-01T08:27:55.789000+00:00",
          "2021-06-01T08:27:55.789000+00:00",
          "2021-06-01T08:27:55.789000+00:00",
          "2021-06-01T08:27:55.789000+00:00",
          "2021-06-01T08:27:55.789000+00:00",
          "2021-06-01T08:27:55.789000+00:00",
          "2021-06-01T08:27:55.789000+00:00",
          "2021-06-01T09:03:01.789000+00:00",
          "2021-06-01T09:03:01.789000+00:00",
          "2021-06-01T09:03:01.789000+00:00",
          "2021-06-01T09:03:01.789000+00:00",
          "2021-06-01T09:03:01.789000+00:00",
          "2021-06-01T09:03:01.789000+00:00",
          "2021-06-01T09:03:01.789000+00:00",
          "2021-06-01T09:03:01.789000+00:00",
          "2021-06-01T09:03:01.789000+00:00",
          "2021-06-01T09:03:01.789000+00:00",
          "2021-06-01T09:03:01.789000+00:00",
          "2021-06-01T09:03:01.789000+00:00",
          "2021-06-01T09:03:01.789000+00:00",
          "2021-06-01T09:03:01.789000+00:00",
          "2021-06-01T09:03:01.789000+00:00",
          "2021-06-01T09:03:01.789000+00:00",
          "2021-06-01T09:03:01.789000+00:00",
          "2021-06-01T09:03:01.789000+00:00",
          "2021-06-01T09:03:01.789000+00:00",
          "2021-06-01T09:03:01.789000+00:00",
          "2021-06-01T09:03:01.789000+00:00",
          "2021-06-01T09:03:01.789000+00:00",
          "2021-06-01T09:03:01.789000+00:00",
          "2021-06-01T09:03:01.789000+00:00",
          "2021-06-01T09:03:01.789000+00:00",
          "2021-06-01T09:03:01.789000+00:00",
          "2021-06-01T09:03:01.789000+00:00",
          "2021-06-01T09:03:01.789000+00:00",
          "2021-06-01T09:03:01.789000+00:00",
          "2021-06-01T09:03:01.789000+00:00",
          "2021-06-01T09:03:01.789000+00:00",
          "2021-06-01T09:03:01.789000+00:00",
          "2021-06-01T09:03:01.789000+00:00",
          "2021-06-01T09:03:01.789000+00:00",
          "2021-06-01T09:03:01.789000+00:00",
          "2021-06-01T09:03:01.789000+00:00",
          "2021-06-01T09:03:01.789000+00:00",
          "2021-06-01T09:03:01.789000+00:00",
          "2021-06-01T09:03:01.789000+00:00",
          "2021-06-01T09:03:01.789000+00:00",
          "2021-06-01T09:03:01.789000+00:00",
          "2021-06-01T09:03:01.789000+00:00",
          "2021-06-01T09:03:01.789000+00:00",
          "2021-06-01T09:03:01.789000+00:00",
          "2021-06-01T09:03:01.789000+00:00",
          "2021-06-01T09:03:01.789000+00:00",
          "2021-06-01T09:03:01.789000+00:00",
          "2021-06-01T09:03:01.789000+00:00",
          "2021-06-01T09:03:01.789000+00:00",
          "2021-06-01T09:03:01.789000+00:00",
          "2021-06-01T09:03:01.789000+00:00",
          "2021-06-01T09:03:01.789000+00:00",
          "2021-06-01T09:06:33.789000+00:00",
          "2021-06-01T09:06:33.789000+00:00",
          "2021-06-01T09:06:33.789000+00:00",
          "2021-06-01T09:06:33.789000+00:00",
          "2021-06-01T09:06:33.789000+00:00",
          "2021-06-01T09:06:33.789000+00:00",
          "2021-06-01T09:06:33.789000+00:00",
          "2021-06-01T09:06:33.789000+00:00",
          "2021-06-01T09:06:33.789000+00:00",
          "2021-06-01T09:06:33.789000+00:00",
          "2021-06-01T09:06:33.789000+00:00",
          "2021-06-01T09:06:33.789000+00:00",
          "2021-06-01T09:06:33.789000+00:00",
          "2021-06-01T09:06:33.789000+00:00",
          "2021-06-01T09:06:33.789000+00:00",
          "2021-06-01T09:06:33.789000+00:00",
          "2021-06-01T09:06:33.789000+00:00",
          "2021-06-01T09:06:33.789000+00:00",
          "2021-06-01T09:06:33.789000+00:00",
          "2021-06-01T09:06:33.789000+00:00",
          "2021-06-01T09:06:33.789000+00:00",
          "2021-06-01T09:06:33.789000+00:00",
          "2021-06-01T09:06:33.789000+00:00",
          "2021-06-01T09:06:33.789000+00:00",
          "2021-06-01T09:06:33.789000+00:00",
          "2021-06-01T09:06:33.789000+00:00",
          "2021-06-01T09:06:33.789000+00:00",
          "2021-06-01T09:06:33.789000+00:00",
          "2021-06-01T09:06:33.789000+00:00",
          "2021-06-01T09:06:33.789000+00:00",
          "2021-06-01T09:06:33.789000+00:00",
          "2021-06-01T09:06:33.789000+00:00",
          "2021-06-01T09:06:33.789000+00:00",
          "2021-06-01T09:06:33.789000+00:00",
          "2021-06-01T09:06:33.789000+00:00",
          "2021-06-01T09:06:33.789000+00:00",
          "2021-06-01T09:06:33.789000+00:00",
          "2021-06-01T09:06:33.789000+00:00",
          "2021-06-01T09:06:33.789000+00:00",
          "2021-06-01T09:06:33.789000+00:00",
          "2021-06-01T09:06:33.789000+00:00",
          "2021-06-01T09:06:33.789000+00:00",
          "2021-06-01T09:06:33.789000+00:00",
          "2021-06-01T09:06:33.789000+00:00",
          "2021-06-01T09:06:33.789000+00:00",
          "2021-06-01T09:06:33.789000+00:00",
          "2021-06-01T09:06:33.789000+00:00",
          "2021-06-01T09:06:33.789000+00:00",
          "2021-06-01T09:06:33.789000+00:00",
          "2021-06-01T09:06:33.789000+00:00",
          "2021-06-01T09:06:33.789000+00:00",
          "2021-06-01T09:06:33.789000+00:00",
          "2021-06-01T09:06:33.789000+00:00",
          "2021-06-01T09:06:33.789000+00:00",
          "2021-06-01T09:06:33.789000+00:00",
          "2021-06-01T09:06:33.789000+00:00",
          "2021-06-01T09:06:33.789000+00:00",
          "2021-06-01T09:06:33.789000+00:00",
          "2021-06-01T09:06:33.789000+00:00",
          "2021-06-01T09:06:33.789000+00:00",
          "2021-06-01T09:06:33.789000+00:00",
          "2021-06-01T09:06:33.789000+00:00",
          "2021-06-01T09:34:34.789000+00:00",
          "2021-06-01T09:34:34.789000+00:00",
          "2021-06-01T09:34:34.789000+00:00",
          "2021-06-01T09:34:34.789000+00:00",
          "2021-06-01T09:34:34.789000+00:00",
          "2021-06-01T09:34:34.789000+00:00",
          "2021-06-01T09:34:34.789000+00:00",
          "2021-06-01T09:34:34.789000+00:00",
          "2021-06-01T09:34:34.789000+00:00",
          "2021-06-01T09:34:34.789000+00:00",
          "2021-06-01T09:34:34.789000+00:00",
          "2021-06-01T09:34:34.789000+00:00",
          "2021-06-01T09:34:34.789000+00:00",
          "2021-06-01T09:34:34.789000+00:00",
          "2021-06-01T09:34:34.789000+00:00",
          "2021-06-01T09:34:34.789000+00:00",
          "2021-06-01T09:34:34.789000+00:00",
          "2021-06-01T09:34:34.789000+00:00",
          "2021-06-01T09:34:34.789000+00:00",
          "2021-06-01T09:34:34.789000+00:00",
          "2021-06-01T09:34:34.789000+00:00",
          "2021-06-01T09:34:34.789000+00:00",
          "2021-06-01T09:34:34.789000+00:00",
          "2021-06-01T09:34:34.789000+00:00",
          "2021-06-01T09:34:34.789000+00:00",
          "2021-06-01T09:34:34.789000+00:00",
          "2021-06-01T09:34:34.789000+00:00",
          "2021-06-01T09:34:34.789000+00:00",
          "2021-06-01T09:34:34.789000+00:00",
          "2021-06-01T09:34:34.789000+00:00",
          "2021-06-01T09:34:34.789000+00:00",
          "2021-06-01T09:34:34.789000+00:00",
          "2021-06-01T09:34:34.789000+00:00",
          "2021-06-01T09:34:34.789000+00:00",
          "2021-06-01T09:34:34.789000+00:00",
          "2021-06-01T09:34:34.789000+00:00",
          "2021-06-01T09:34:34.789000+00:00",
          "2021-06-01T09:34:34.789000+00:00",
          "2021-06-01T09:34:34.789000+00:00",
          "2021-06-01T09:34:34.789000+00:00",
          "2021-06-01T09:34:34.789000+00:00",
          "2021-06-01T09:34:34.789000+00:00",
          "2021-06-01T09:34:34.789000+00:00",
          "2021-06-01T09:34:34.789000+00:00",
          "2021-06-01T09:34:34.789000+00:00",
          "2021-06-01T09:34:34.789000+00:00",
          "2021-06-01T09:34:34.789000+00:00",
          "2021-06-01T09:34:34.789000+00:00",
          "2021-06-01T09:34:34.789000+00:00",
          "2021-06-01T09:34:34.789000+00:00",
          "2021-06-01T09:34:34.789000+00:00",
          "2021-06-01T09:34:34.789000+00:00",
          "2021-06-01T09:34:34.789000+00:00",
          "2021-06-01T09:43:16.789000+00:00",
          "2021-06-01T09:43:16.789000+00:00",
          "2021-06-01T09:43:16.789000+00:00",
          "2021-06-01T09:43:16.789000+00:00",
          "2021-06-01T09:43:16.789000+00:00",
          "2021-06-01T09:43:16.789000+00:00",
          "2021-06-01T09:43:16.789000+00:00",
          "2021-06-01T09:43:16.789000+00:00",
          "2021-06-01T09:43:16.789000+00:00",
          "2021-06-01T09:43:16.789000+00:00",
          "2021-06-01T09:43:16.789000+00:00",
          "2021-06-01T09:43:16.789000+00:00",
          "2021-06-01T09:43:16.789000+00:00",
          "2021-06-01T09:43:16.789000+00:00",
          "2021-06-01T09:43:16.789000+00:00",
          "2021-06-01T09:43:16.789000+00:00",
          "2021-06-01T09:43:16.789000+00:00",
          "2021-06-01T09:43:16.789000+00:00",
          "2021-06-01T09:43:16.789000+00:00",
          "2021-06-01T09:43:16.789000+00:00",
          "2021-06-01T09:43:16.789000+00:00",
          "2021-06-01T09:43:16.789000+00:00",
          "2021-06-01T09:43:16.789000+00:00",
          "2021-06-01T09:43:16.789000+00:00",
          "2021-06-01T09:43:16.789000+00:00",
          "2021-06-01T09:43:16.789000+00:00",
          "2021-06-01T09:43:16.789000+00:00",
          "2021-06-01T09:43:16.789000+00:00",
          "2021-06-01T09:43:16.789000+00:00",
          "2021-06-01T09:43:16.789000+00:00",
          "2021-06-01T09:43:16.789000+00:00",
          "2021-06-01T09:43:16.789000+00:00",
          "2021-06-01T09:43:16.789000+00:00",
          "2021-06-01T09:43:16.789000+00:00",
          "2021-06-01T09:43:16.789000+00:00",
          "2021-06-01T09:43:16.789000+00:00",
          "2021-06-01T09:43:16.789000+00:00",
          "2021-06-01T09:43:16.789000+00:00",
          "2021-06-01T09:43:16.789000+00:00",
          "2021-06-01T09:43:16.789000+00:00",
          "2021-06-01T09:43:16.789000+00:00",
          "2021-06-01T09:43:16.789000+00:00",
          "2021-06-01T09:43:16.789000+00:00",
          "2021-06-01T09:43:16.789000+00:00",
          "2021-06-01T09:43:16.789000+00:00",
          "2021-06-01T09:43:16.789000+00:00",
          "2021-06-01T09:43:16.789000+00:00",
          "2021-06-01T09:43:16.789000+00:00",
          "2021-06-01T09:43:16.789000+00:00",
          "2021-06-01T09:43:16.789000+00:00",
          "2021-06-01T09:43:16.789000+00:00",
          "2021-06-01T09:43:16.789000+00:00",
          "2021-06-01T09:43:16.789000+00:00",
          "2021-06-01T09:43:16.789000+00:00",
          "2021-06-01T09:43:16.789000+00:00",
          "2021-06-01T09:43:16.789000+00:00",
          "2021-06-01T09:43:16.789000+00:00",
          "2021-06-01T09:43:16.789000+00:00",
          "2021-06-01T09:43:16.789000+00:00",
          "2021-06-01T09:43:16.789000+00:00",
          "2021-06-01T09:43:16.789000+00:00",
          "2021-06-01T09:43:16.789000+00:00",
          "2021-06-01T09:43:16.789000+00:00",
          "2021-06-01T09:43:16.789000+00:00",
          "2021-06-01T09:43:16.789000+00:00",
          "2021-06-01T10:03:11.789000+00:00",
          "2021-06-01T10:03:11.789000+00:00",
          "2021-06-01T10:03:11.789000+00:00",
          "2021-06-01T10:03:11.789000+00:00",
          "2021-06-01T10:03:11.789000+00:00",
          "2021-06-01T10:03:11.789000+00:00",
          "2021-06-01T10:03:11.789000+00:00",
          "2021-06-01T10:03:11.789000+00:00",
          "2021-06-01T10:03:11.789000+00:00",
          "2021-06-01T10:03:11.789000+00:00",
          "2021-06-01T10:03:11.789000+00:00",
          "2021-06-01T10:03:11.789000+00:00",
          "2021-06-01T10:03:11.789000+00:00",
          "2021-06-01T10:03:11.789000+00:00",
          "2021-06-01T10:03:11.789000+00:00",
          "2021-06-01T10:03:11.789000+00:00",
          "2021-06-01T10:03:11.789000+00:00",
          "2021-06-01T10:03:11.789000+00:00",
          "2021-06-01T10:03:11.789000+00:00",
          "2021-06-01T10:03:11.789000+00:00",
          "2021-06-01T10:03:11.789000+00:00",
          "2021-06-01T10:03:11.789000+00:00",
          "2021-06-01T10:03:11.789000+00:00",
          "2021-06-01T10:03:11.789000+00:00",
          "2021-06-01T10:03:11.789000+00:00",
          "2021-06-01T10:03:11.789000+00:00",
          "2021-06-01T10:03:11.789000+00:00",
          "2021-06-01T10:03:11.789000+00:00",
          "2021-06-01T10:03:11.789000+00:00",
          "2021-06-01T10:03:11.789000+00:00",
          "2021-06-01T10:03:11.789000+00:00",
          "2021-06-01T10:03:11.789000+00:00",
          "2021-06-01T10:03:11.789000+00:00",
          "2021-06-01T10:03:11.789000+00:00",
          "2021-06-01T10:03:11.789000+00:00",
          "2021-06-01T10:03:11.789000+00:00",
          "2021-06-01T10:03:11.789000+00:00",
          "2021-06-01T10:03:11.789000+00:00",
          "2021-06-01T10:03:11.789000+00:00",
          "2021-06-01T10:03:11.789000+00:00",
          "2021-06-01T10:03:11.789000+00:00",
          "2021-06-01T10:03:11.789000+00:00",
          "2021-06-01T10:03:11.789000+00:00",
          "2021-06-01T10:03:11.789000+00:00",
          "2021-06-01T10:03:11.789000+00:00",
          "2021-06-01T10:03:11.789000+00:00",
          "2021-06-01T10:03:11.789000+00:00",
          "2021-06-01T10:03:11.789000+00:00",
          "2021-06-01T10:07:35.789000+00:00",
          "2021-06-01T10:07:35.789000+00:00",
          "2021-06-01T10:07:35.789000+00:00",
          "2021-06-01T10:07:35.789000+00:00",
          "2021-06-01T10:07:35.789000+00:00",
          "2021-06-01T10:03:11.789000+00:00",
          "2021-06-01T10:07:35.789000+00:00",
          "2021-06-01T10:07:35.789000+00:00",
          "2021-06-01T10:07:35.789000+00:00",
          "2021-06-01T10:07:35.789000+00:00",
          "2021-06-01T10:07:35.789000+00:00",
          "2021-06-01T10:07:35.789000+00:00",
          "2021-06-01T10:07:35.789000+00:00",
          "2021-06-01T10:07:35.789000+00:00",
          "2021-06-01T10:07:35.789000+00:00",
          "2021-06-01T10:07:35.789000+00:00",
          "2021-06-01T10:07:35.789000+00:00",
          "2021-06-01T10:07:35.789000+00:00",
          "2021-06-01T10:07:35.789000+00:00",
          "2021-06-01T10:07:35.789000+00:00",
          "2021-06-01T10:07:35.789000+00:00",
          "2021-06-01T10:07:35.789000+00:00",
          "2021-06-01T10:07:35.789000+00:00",
          "2021-06-01T10:07:35.789000+00:00",
          "2021-06-01T10:07:35.789000+00:00",
          "2021-06-01T10:07:35.789000+00:00",
          "2021-06-01T10:07:35.789000+00:00",
          "2021-06-01T10:07:35.789000+00:00",
          "2021-06-01T10:07:35.789000+00:00",
          "2021-06-01T10:07:35.789000+00:00",
          "2021-06-01T10:07:35.789000+00:00",
          "2021-06-01T10:07:35.789000+00:00",
          "2021-06-01T10:07:35.789000+00:00",
          "2021-06-01T10:07:35.789000+00:00",
          "2021-06-01T10:07:35.789000+00:00",
          "2021-06-01T10:07:35.789000+00:00",
          "2021-06-01T10:07:35.789000+00:00",
          "2021-06-01T10:07:35.789000+00:00",
          "2021-06-01T10:07:35.789000+00:00",
          "2021-06-01T10:07:35.789000+00:00",
          "2021-06-01T10:07:35.789000+00:00",
          "2021-06-01T10:07:35.789000+00:00",
          "2021-06-01T10:07:35.789000+00:00",
          "2021-06-01T10:07:35.789000+00:00",
          "2021-06-01T10:07:35.789000+00:00",
          "2021-06-01T10:07:35.789000+00:00",
          "2021-06-01T10:07:35.789000+00:00",
          "2021-06-01T10:07:35.789000+00:00",
          "2021-06-01T10:07:35.789000+00:00",
          "2021-06-01T10:07:35.789000+00:00",
          "2021-06-01T10:07:35.789000+00:00",
          "2021-06-01T10:07:35.789000+00:00",
          "2021-06-01T10:07:35.789000+00:00",
          "2021-06-01T10:07:35.789000+00:00",
          "2021-06-01T10:07:35.789000+00:00",
          "2021-06-01T10:07:35.789000+00:00",
          "2021-06-01T10:07:35.789000+00:00",
          "2021-06-01T10:07:35.789000+00:00",
          "2021-06-01T10:07:35.789000+00:00",
          "2021-06-01T10:07:35.789000+00:00",
          "2021-06-01T10:07:35.789000+00:00",
          "2021-06-01T10:53:01.789000+00:00",
          "2021-06-01T10:53:01.789000+00:00",
          "2021-06-01T10:53:01.789000+00:00",
          "2021-06-01T10:53:01.789000+00:00",
          "2021-06-01T10:53:01.789000+00:00",
          "2021-06-01T10:53:01.789000+00:00",
          "2021-06-01T10:53:01.789000+00:00",
          "2021-06-01T10:53:01.789000+00:00",
          "2021-06-01T10:53:01.789000+00:00",
          "2021-06-01T10:53:01.789000+00:00",
          "2021-06-01T10:53:01.789000+00:00",
          "2021-06-01T10:53:01.789000+00:00",
          "2021-06-01T10:53:01.789000+00:00",
          "2021-06-01T10:53:01.789000+00:00",
          "2021-06-01T10:53:01.789000+00:00",
          "2021-06-01T10:53:01.789000+00:00",
          "2021-06-01T10:53:01.789000+00:00",
          "2021-06-01T10:53:01.789000+00:00",
          "2021-06-01T10:53:01.789000+00:00",
          "2021-06-01T10:53:01.789000+00:00",
          "2021-06-01T10:53:01.789000+00:00",
          "2021-06-01T10:53:01.789000+00:00",
          "2021-06-01T10:53:01.789000+00:00",
          "2021-06-01T10:53:01.789000+00:00",
          "2021-06-01T10:53:01.789000+00:00",
          "2021-06-01T10:53:01.789000+00:00",
          "2021-06-01T10:53:01.789000+00:00",
          "2021-06-01T10:53:01.789000+00:00",
          "2021-06-01T10:53:01.789000+00:00",
          "2021-06-01T10:53:01.789000+00:00",
          "2021-06-01T10:53:01.789000+00:00",
          "2021-06-01T10:53:01.789000+00:00",
          "2021-06-01T10:53:01.789000+00:00",
          "2021-06-01T10:53:01.789000+00:00",
          "2021-06-01T10:53:01.789000+00:00",
          "2021-06-01T10:53:01.789000+00:00",
          "2021-06-01T10:53:01.789000+00:00",
          "2021-06-01T10:53:01.789000+00:00",
          "2021-06-01T10:53:01.789000+00:00",
          "2021-06-01T10:53:01.789000+00:00",
          "2021-06-01T10:53:01.789000+00:00",
          "2021-06-01T10:53:01.789000+00:00",
          "2021-06-01T10:53:01.789000+00:00",
          "2021-06-01T10:53:01.789000+00:00",
          "2021-06-01T10:53:01.789000+00:00",
          "2021-06-01T10:53:01.789000+00:00",
          "2021-06-01T10:53:01.789000+00:00",
          "2021-06-01T10:53:01.789000+00:00",
          "2021-06-01T10:53:01.789000+00:00",
          "2021-06-01T10:53:01.789000+00:00",
          "2021-06-01T10:53:01.789000+00:00",
          "2021-06-01T10:53:01.789000+00:00",
          "2021-06-01T10:53:01.789000+00:00",
          "2021-06-01T10:53:01.789000+00:00",
          "2021-06-01T10:53:01.789000+00:00",
          "2021-06-01T10:53:01.789000+00:00",
          "2021-06-01T10:53:01.789000+00:00",
          "2021-06-01T10:53:01.789000+00:00",
          "2021-06-01T10:53:01.789000+00:00",
          "2021-06-01T10:53:01.789000+00:00",
          "2021-06-01T10:53:01.789000+00:00",
          "2021-06-01T10:58:26.789000+00:00",
          "2021-06-01T10:58:26.789000+00:00",
          "2021-06-01T10:58:26.789000+00:00",
          "2021-06-01T10:58:26.789000+00:00",
          "2021-06-01T10:58:26.789000+00:00",
          "2021-06-01T10:58:26.789000+00:00",
          "2021-06-01T10:58:26.789000+00:00",
          "2021-06-01T10:58:26.789000+00:00",
          "2021-06-01T10:58:26.789000+00:00",
          "2021-06-01T10:58:26.789000+00:00",
          "2021-06-01T10:58:26.789000+00:00",
          "2021-06-01T10:58:26.789000+00:00",
          "2021-06-01T10:58:26.789000+00:00",
          "2021-06-01T10:58:26.789000+00:00",
          "2021-06-01T10:58:26.789000+00:00",
          "2021-06-01T10:58:26.789000+00:00",
          "2021-06-01T10:58:26.789000+00:00",
          "2021-06-01T10:58:26.789000+00:00",
          "2021-06-01T10:58:26.789000+00:00",
          "2021-06-01T10:58:26.789000+00:00",
          "2021-06-01T10:58:26.789000+00:00",
          "2021-06-01T10:58:26.789000+00:00",
          "2021-06-01T10:58:26.789000+00:00",
          "2021-06-01T10:58:26.789000+00:00",
          "2021-06-01T10:58:26.789000+00:00",
          "2021-06-01T10:58:26.789000+00:00",
          "2021-06-01T10:58:26.789000+00:00",
          "2021-06-01T10:58:26.789000+00:00",
          "2021-06-01T10:58:26.789000+00:00",
          "2021-06-01T10:58:26.789000+00:00",
          "2021-06-01T10:58:26.789000+00:00",
          "2021-06-01T10:58:26.789000+00:00",
          "2021-06-01T10:58:26.789000+00:00",
          "2021-06-01T10:58:26.789000+00:00",
          "2021-06-01T10:58:26.789000+00:00",
          "2021-06-01T10:58:26.789000+00:00",
          "2021-06-01T10:58:26.789000+00:00",
          "2021-06-01T10:58:26.789000+00:00",
          "2021-06-01T10:58:26.789000+00:00",
          "2021-06-01T10:58:26.789000+00:00",
          "2021-06-01T10:58:26.789000+00:00",
          "2021-06-01T10:58:26.789000+00:00",
          "2021-06-01T10:58:26.789000+00:00",
          "2021-06-01T10:58:26.789000+00:00",
          "2021-06-01T10:58:26.789000+00:00",
          "2021-06-01T10:58:26.789000+00:00",
          "2021-06-01T10:58:26.789000+00:00",
          "2021-06-01T10:58:26.789000+00:00",
          "2021-06-01T10:58:26.789000+00:00",
          "2021-06-01T10:58:26.789000+00:00",
          "2021-06-01T10:58:26.789000+00:00",
          "2021-06-01T10:58:26.789000+00:00",
          "2021-06-01T10:58:26.789000+00:00",
          "2021-06-01T10:58:26.789000+00:00",
          "2021-06-01T10:58:26.789000+00:00",
          "2021-06-01T10:58:26.789000+00:00",
          "2021-06-01T10:58:26.789000+00:00",
          "2021-06-01T10:58:26.789000+00:00",
          "2021-06-01T10:58:26.789000+00:00",
          "2021-06-01T10:58:26.789000+00:00",
          "2021-06-01T10:58:26.789000+00:00",
          "2021-06-01T10:58:26.789000+00:00",
          "2021-06-01T11:29:54.789000+00:00",
          "2021-06-01T11:29:54.789000+00:00",
          "2021-06-01T11:29:54.789000+00:00",
          "2021-06-01T11:29:54.789000+00:00",
          "2021-06-01T11:29:54.789000+00:00",
          "2021-06-01T11:29:54.789000+00:00",
          "2021-06-01T11:29:54.789000+00:00",
          "2021-06-01T11:29:54.789000+00:00",
          "2021-06-01T11:29:54.789000+00:00",
          "2021-06-01T11:29:54.789000+00:00",
          "2021-06-01T11:29:54.789000+00:00",
          "2021-06-01T11:29:54.789000+00:00",
          "2021-06-01T11:29:54.789000+00:00",
          "2021-06-01T11:29:54.789000+00:00",
          "2021-06-01T11:29:54.789000+00:00",
          "2021-06-01T11:29:54.789000+00:00",
          "2021-06-01T11:29:54.789000+00:00",
          "2021-06-01T11:29:54.789000+00:00",
          "2021-06-01T11:29:54.789000+00:00",
          "2021-06-01T11:29:54.789000+00:00",
          "2021-06-01T11:29:54.789000+00:00",
          "2021-06-01T11:29:54.789000+00:00",
          "2021-06-01T11:29:54.789000+00:00",
          "2021-06-01T11:29:54.789000+00:00",
          "2021-06-01T11:29:54.789000+00:00",
          "2021-06-01T11:29:54.789000+00:00",
          "2021-06-01T11:29:54.789000+00:00",
          "2021-06-01T11:29:54.789000+00:00",
          "2021-06-01T11:29:54.789000+00:00",
          "2021-06-01T11:29:54.789000+00:00",
          "2021-06-01T11:29:54.789000+00:00",
          "2021-06-01T11:29:54.789000+00:00",
          "2021-06-01T11:29:54.789000+00:00",
          "2021-06-01T11:29:54.789000+00:00",
          "2021-06-01T11:29:54.789000+00:00",
          "2021-06-01T11:29:54.789000+00:00",
          "2021-06-01T11:29:54.789000+00:00",
          "2021-06-01T11:29:54.789000+00:00",
          "2021-06-01T11:29:54.789000+00:00",
          "2021-06-01T11:29:54.789000+00:00",
          "2021-06-01T11:29:54.789000+00:00",
          "2021-06-01T11:29:54.789000+00:00",
          "2021-06-01T11:29:54.789000+00:00",
          "2021-06-01T11:29:54.789000+00:00",
          "2021-06-01T11:29:54.789000+00:00",
          "2021-06-01T11:29:54.789000+00:00",
          "2021-06-01T11:29:54.789000+00:00",
          "2021-06-01T11:29:54.789000+00:00",
          "2021-06-01T11:29:54.789000+00:00",
          "2021-06-01T11:29:54.789000+00:00",
          "2021-06-01T11:29:54.789000+00:00",
          "2021-06-01T11:29:54.789000+00:00",
          "2021-06-01T11:33:32.789000+00:00",
          "2021-06-01T11:33:32.789000+00:00",
          "2021-06-01T11:33:32.789000+00:00",
          "2021-06-01T11:33:32.789000+00:00",
          "2021-06-01T11:33:32.789000+00:00",
          "2021-06-01T11:33:32.789000+00:00",
          "2021-06-01T11:33:32.789000+00:00",
          "2021-06-01T11:33:32.789000+00:00",
          "2021-06-01T11:33:32.789000+00:00",
          "2021-06-01T11:33:32.789000+00:00",
          "2021-06-01T11:33:32.789000+00:00",
          "2021-06-01T11:33:32.789000+00:00",
          "2021-06-01T11:33:32.789000+00:00",
          "2021-06-01T11:33:32.789000+00:00",
          "2021-06-01T11:33:32.789000+00:00",
          "2021-06-01T11:33:32.789000+00:00",
          "2021-06-01T11:33:32.789000+00:00",
          "2021-06-01T11:33:32.789000+00:00",
          "2021-06-01T11:33:32.789000+00:00",
          "2021-06-01T11:33:32.789000+00:00",
          "2021-06-01T11:33:32.789000+00:00",
          "2021-06-01T11:33:32.789000+00:00",
          "2021-06-01T11:33:32.789000+00:00",
          "2021-06-01T11:33:32.789000+00:00",
          "2021-06-01T11:33:32.789000+00:00",
          "2021-06-01T11:33:32.789000+00:00",
          "2021-06-01T11:33:32.789000+00:00",
          "2021-06-01T11:33:32.789000+00:00",
          "2021-06-01T11:33:32.789000+00:00",
          "2021-06-01T11:33:32.789000+00:00",
          "2021-06-01T11:33:32.789000+00:00",
          "2021-06-01T11:33:32.789000+00:00",
          "2021-06-01T11:33:32.789000+00:00",
          "2021-06-01T11:33:32.789000+00:00",
          "2021-06-01T11:33:32.789000+00:00",
          "2021-06-01T11:33:32.789000+00:00",
          "2021-06-01T11:33:32.789000+00:00",
          "2021-06-01T11:33:32.789000+00:00",
          "2021-06-01T11:33:32.789000+00:00",
          "2021-06-01T11:33:32.789000+00:00",
          "2021-06-01T11:33:32.789000+00:00",
          "2021-06-01T11:33:32.789000+00:00",
          "2021-06-01T11:33:32.789000+00:00",
          "2021-06-01T11:33:32.789000+00:00",
          "2021-06-01T11:33:32.789000+00:00",
          "2021-06-01T11:33:32.789000+00:00",
          "2021-06-01T11:33:32.789000+00:00",
          "2021-06-01T11:33:32.789000+00:00",
          "2021-06-01T12:45:20.789000+00:00",
          "2021-06-01T11:33:32.789000+00:00",
          "2021-06-01T11:33:32.789000+00:00",
          "2021-06-01T11:33:32.789000+00:00",
          "2021-06-01T11:33:32.789000+00:00",
          "2021-06-01T11:33:32.789000+00:00",
          "2021-06-01T12:11:33.789000+00:00",
          "2021-06-01T12:11:33.789000+00:00",
          "2021-06-01T12:11:33.789000+00:00",
          "2021-06-01T12:11:33.789000+00:00",
          "2021-06-01T12:11:33.789000+00:00",
          "2021-06-01T12:11:33.789000+00:00",
          "2021-06-01T12:11:33.789000+00:00",
          "2021-06-01T12:11:33.789000+00:00",
          "2021-06-01T12:11:33.789000+00:00",
          "2021-06-01T12:11:33.789000+00:00",
          "2021-06-01T12:11:33.789000+00:00",
          "2021-06-01T12:11:33.789000+00:00",
          "2021-06-01T12:11:33.789000+00:00",
          "2021-06-01T12:11:33.789000+00:00",
          "2021-06-01T12:11:33.789000+00:00",
          "2021-06-01T12:11:33.789000+00:00",
          "2021-06-01T12:11:33.789000+00:00",
          "2021-06-01T12:11:33.789000+00:00",
          "2021-06-01T12:11:33.789000+00:00",
          "2021-06-01T12:11:33.789000+00:00",
          "2021-06-01T12:11:33.789000+00:00",
          "2021-06-01T12:11:33.789000+00:00",
          "2021-06-01T12:11:33.789000+00:00",
          "2021-06-01T12:11:33.789000+00:00",
          "2021-06-01T12:11:33.789000+00:00",
          "2021-06-01T12:11:33.789000+00:00",
          "2021-06-01T12:11:33.789000+00:00",
          "2021-06-01T12:11:33.789000+00:00",
          "2021-06-01T12:11:33.789000+00:00",
          "2021-06-01T12:11:33.789000+00:00",
          "2021-06-01T12:11:33.789000+00:00",
          "2021-06-01T12:11:33.789000+00:00",
          "2021-06-01T12:11:33.789000+00:00",
          "2021-06-01T12:11:33.789000+00:00",
          "2021-06-01T12:11:33.789000+00:00",
          "2021-06-01T12:11:33.789000+00:00",
          "2021-06-01T12:11:33.789000+00:00",
          "2021-06-01T12:11:33.789000+00:00",
          "2021-06-01T12:11:33.789000+00:00",
          "2021-06-01T12:11:33.789000+00:00",
          "2021-06-01T12:11:33.789000+00:00",
          "2021-06-01T12:11:33.789000+00:00",
          "2021-06-01T12:11:33.789000+00:00",
          "2021-06-01T12:11:33.789000+00:00",
          "2021-06-01T12:11:33.789000+00:00",
          "2021-06-01T12:11:33.789000+00:00",
          "2021-06-01T12:11:33.789000+00:00",
          "2021-06-01T12:11:33.789000+00:00",
          "2021-06-01T12:11:33.789000+00:00",
          "2021-06-01T12:11:33.789000+00:00",
          "2021-06-01T12:15:05.789000+00:00",
          "2021-06-01T12:15:05.789000+00:00",
          "2021-06-01T12:15:05.789000+00:00",
          "2021-06-01T12:15:05.789000+00:00",
          "2021-06-01T12:15:05.789000+00:00",
          "2021-06-01T12:15:05.789000+00:00",
          "2021-06-01T12:15:05.789000+00:00",
          "2021-06-01T12:15:05.789000+00:00",
          "2021-06-01T12:15:05.789000+00:00",
          "2021-06-01T12:15:05.789000+00:00",
          "2021-06-01T12:15:05.789000+00:00",
          "2021-06-01T12:15:05.789000+00:00",
          "2021-06-01T12:15:05.789000+00:00",
          "2021-06-01T12:15:05.789000+00:00",
          "2021-06-01T12:15:05.789000+00:00",
          "2021-06-01T12:15:05.789000+00:00",
          "2021-06-01T12:15:05.789000+00:00",
          "2021-06-01T12:15:05.789000+00:00",
          "2021-06-01T12:15:05.789000+00:00",
          "2021-06-01T12:15:05.789000+00:00",
          "2021-06-01T12:15:05.789000+00:00",
          "2021-06-01T12:15:05.789000+00:00",
          "2021-06-01T12:15:05.789000+00:00",
          "2021-06-01T12:15:05.789000+00:00",
          "2021-06-01T12:15:05.789000+00:00",
          "2021-06-01T12:15:05.789000+00:00",
          "2021-06-01T12:15:05.789000+00:00",
          "2021-06-01T12:15:05.789000+00:00",
          "2021-06-01T12:15:05.789000+00:00",
          "2021-06-01T12:15:05.789000+00:00",
          "2021-06-01T12:15:05.789000+00:00",
          "2021-06-01T12:15:05.789000+00:00",
          "2021-06-01T12:15:05.789000+00:00",
          "2021-06-01T12:15:05.789000+00:00",
          "2021-06-01T12:15:05.789000+00:00",
          "2021-06-01T12:15:05.789000+00:00",
          "2021-06-01T12:15:05.789000+00:00",
          "2021-06-01T12:15:05.789000+00:00",
          "2021-06-01T12:15:05.789000+00:00",
          "2021-06-01T12:15:05.789000+00:00",
          "2021-06-01T12:15:05.789000+00:00",
          "2021-06-01T12:15:05.789000+00:00",
          "2021-06-01T12:15:05.789000+00:00",
          "2021-06-01T12:15:05.789000+00:00",
          "2021-06-01T12:15:05.789000+00:00",
          "2021-06-01T12:15:05.789000+00:00",
          "2021-06-01T12:15:05.789000+00:00",
          "2021-06-01T12:15:05.789000+00:00",
          "2021-06-01T12:15:05.789000+00:00",
          "2021-06-01T12:15:05.789000+00:00",
          "2021-06-01T12:15:05.789000+00:00",
          "2021-06-01T12:15:05.789000+00:00",
          "2021-06-01T12:15:05.789000+00:00",
          "2021-06-01T12:15:05.789000+00:00",
          "2021-06-01T12:15:05.789000+00:00",
          "2021-06-01T12:15:05.789000+00:00",
          "2021-06-01T12:15:05.789000+00:00",
          "2021-06-01T12:15:05.789000+00:00",
          "2021-06-01T12:42:04.789000+00:00",
          "2021-06-01T12:42:04.789000+00:00",
          "2021-06-01T12:42:04.789000+00:00",
          "2021-06-01T12:42:04.789000+00:00",
          "2021-06-01T12:42:04.789000+00:00",
          "2021-06-01T12:42:04.789000+00:00",
          "2021-06-01T12:42:04.789000+00:00",
          "2021-06-01T12:42:04.789000+00:00",
          "2021-06-01T12:42:04.789000+00:00",
          "2021-06-01T12:42:04.789000+00:00",
          "2021-06-01T12:42:04.789000+00:00",
          "2021-06-01T12:42:04.789000+00:00",
          "2021-06-01T12:42:04.789000+00:00",
          "2021-06-01T12:42:04.789000+00:00",
          "2021-06-01T12:42:04.789000+00:00",
          "2021-06-01T12:42:04.789000+00:00",
          "2021-06-01T12:42:04.789000+00:00",
          "2021-06-01T12:42:04.789000+00:00",
          "2021-06-01T12:42:04.789000+00:00",
          "2021-06-01T12:42:04.789000+00:00",
          "2021-06-01T12:42:04.789000+00:00",
          "2021-06-01T12:42:04.789000+00:00",
          "2021-06-01T12:42:04.789000+00:00",
          "2021-06-01T12:42:04.789000+00:00",
          "2021-06-01T12:42:04.789000+00:00",
          "2021-06-01T12:42:04.789000+00:00",
          "2021-06-01T12:42:04.789000+00:00",
          "2021-06-01T12:42:04.789000+00:00",
          "2021-06-01T12:42:04.789000+00:00",
          "2021-06-01T12:42:04.789000+00:00",
          "2021-06-01T12:42:04.789000+00:00",
          "2021-06-01T12:42:04.789000+00:00",
          "2021-06-01T12:42:04.789000+00:00",
          "2021-06-01T12:42:04.789000+00:00",
          "2021-06-01T12:42:04.789000+00:00",
          "2021-06-01T12:42:04.789000+00:00",
          "2021-06-01T12:42:04.789000+00:00",
          "2021-06-01T12:42:04.789000+00:00",
          "2021-06-01T12:42:04.789000+00:00",
          "2021-06-01T12:42:04.789000+00:00",
          "2021-06-01T12:42:04.789000+00:00",
          "2021-06-01T12:42:04.789000+00:00",
          "2021-06-01T12:42:04.789000+00:00",
          "2021-06-01T12:42:04.789000+00:00",
          "2021-06-01T12:42:04.789000+00:00",
          "2021-06-01T12:42:04.789000+00:00",
          "2021-06-01T12:42:04.789000+00:00",
          "2021-06-01T12:42:04.789000+00:00",
          "2021-06-01T12:42:04.789000+00:00",
          "2021-06-01T12:42:04.789000+00:00",
          "2021-06-01T12:42:04.789000+00:00",
          "2021-06-01T12:42:04.789000+00:00",
          "2021-06-01T12:42:04.789000+00:00",
          "2021-06-01T12:42:04.789000+00:00",
          "2021-06-01T12:42:04.789000+00:00",
          "2021-06-01T12:45:20.789000+00:00",
          "2021-06-01T12:45:20.789000+00:00",
          "2021-06-01T12:45:20.789000+00:00",
          "2021-06-01T12:45:20.789000+00:00",
          "2021-06-01T12:45:20.789000+00:00",
          "2021-06-01T12:45:20.789000+00:00",
          "2021-06-01T12:45:20.789000+00:00",
          "2021-06-01T12:45:20.789000+00:00",
          "2021-06-01T12:45:20.789000+00:00",
          "2021-06-01T12:45:20.789000+00:00",
          "2021-06-01T12:45:20.789000+00:00",
          "2021-06-01T12:45:20.789000+00:00",
          "2021-06-01T12:45:20.789000+00:00",
          "2021-06-01T12:45:20.789000+00:00",
          "2021-06-01T12:45:20.789000+00:00",
          "2021-06-01T12:45:20.789000+00:00",
          "2021-06-01T12:45:20.789000+00:00",
          "2021-06-01T12:45:20.789000+00:00",
          "2021-06-01T12:45:20.789000+00:00",
          "2021-06-01T12:45:20.789000+00:00",
          "2021-06-01T12:45:20.789000+00:00",
          "2021-06-01T12:45:20.789000+00:00",
          "2021-06-01T12:45:20.789000+00:00",
          "2021-06-01T12:45:20.789000+00:00",
          "2021-06-01T12:45:20.789000+00:00",
          "2021-06-01T12:45:20.789000+00:00",
          "2021-06-01T12:45:20.789000+00:00",
          "2021-06-01T12:45:20.789000+00:00",
          "2021-06-01T12:45:20.789000+00:00",
          "2021-06-01T12:45:20.789000+00:00",
          "2021-06-01T12:45:20.789000+00:00",
          "2021-06-01T12:45:20.789000+00:00",
          "2021-06-01T12:45:20.789000+00:00",
          "2021-06-01T12:45:20.789000+00:00",
          "2021-06-01T12:45:20.789000+00:00",
          "2021-06-01T12:45:20.789000+00:00",
          "2021-06-01T12:45:20.789000+00:00",
          "2021-06-01T12:45:20.789000+00:00",
          "2021-06-01T12:45:20.789000+00:00",
          "2021-06-01T12:45:20.789000+00:00",
          "2021-06-01T12:45:20.789000+00:00",
          "2021-06-01T12:45:20.789000+00:00",
          "2021-06-01T12:45:20.789000+00:00",
          "2021-06-01T12:45:20.789000+00:00",
          "2021-06-01T12:45:20.789000+00:00",
          "2021-06-01T12:45:20.789000+00:00",
          "2021-06-01T12:45:20.789000+00:00",
          "2021-06-01T13:23:26.789000+00:00",
          "2021-06-01T13:23:26.789000+00:00",
          "2021-06-01T12:45:20.789000+00:00",
          "2021-06-01T12:45:20.789000+00:00",
          "2021-06-01T12:45:20.789000+00:00",
          "2021-06-01T12:45:20.789000+00:00",
          "2021-06-01T12:45:20.789000+00:00",
          "2021-06-01T12:45:20.789000+00:00",
          "2021-06-01T12:45:20.789000+00:00",
          "2021-06-01T12:45:20.789000+00:00",
          "2021-06-01T12:45:20.789000+00:00",
          "2021-06-01T12:45:20.789000+00:00",
          "2021-06-01T13:18:21.789000+00:00",
          "2021-06-01T13:18:21.789000+00:00",
          "2021-06-01T13:18:21.789000+00:00",
          "2021-06-01T13:18:21.789000+00:00",
          "2021-06-01T13:18:21.789000+00:00",
          "2021-06-01T13:18:21.789000+00:00",
          "2021-06-01T13:18:21.789000+00:00",
          "2021-06-01T13:18:21.789000+00:00",
          "2021-06-01T13:18:21.789000+00:00",
          "2021-06-01T13:18:21.789000+00:00",
          "2021-06-01T13:18:21.789000+00:00",
          "2021-06-01T13:18:21.789000+00:00",
          "2021-06-01T13:18:21.789000+00:00",
          "2021-06-01T13:18:21.789000+00:00",
          "2021-06-01T13:18:21.789000+00:00",
          "2021-06-01T13:18:21.789000+00:00",
          "2021-06-01T13:18:21.789000+00:00",
          "2021-06-01T13:18:21.789000+00:00",
          "2021-06-01T13:18:21.789000+00:00",
          "2021-06-01T13:18:21.789000+00:00",
          "2021-06-01T13:18:21.789000+00:00",
          "2021-06-01T13:18:21.789000+00:00",
          "2021-06-01T13:18:21.789000+00:00",
          "2021-06-01T13:18:21.789000+00:00",
          "2021-06-01T13:18:21.789000+00:00",
          "2021-06-01T13:18:21.789000+00:00",
          "2021-06-01T13:18:21.789000+00:00",
          "2021-06-01T13:18:21.789000+00:00",
          "2021-06-01T13:18:21.789000+00:00",
          "2021-06-01T13:18:21.789000+00:00",
          "2021-06-01T13:18:21.789000+00:00",
          "2021-06-01T13:18:21.789000+00:00",
          "2021-06-01T13:18:21.789000+00:00",
          "2021-06-01T13:18:21.789000+00:00",
          "2021-06-01T13:18:21.789000+00:00",
          "2021-06-01T13:18:21.789000+00:00",
          "2021-06-01T13:18:21.789000+00:00",
          "2021-06-01T13:18:21.789000+00:00",
          "2021-06-01T13:18:21.789000+00:00",
          "2021-06-01T13:18:21.789000+00:00",
          "2021-06-01T13:18:21.789000+00:00",
          "2021-06-01T13:18:21.789000+00:00",
          "2021-06-01T13:18:21.789000+00:00",
          "2021-06-01T13:18:21.789000+00:00",
          "2021-06-01T13:18:21.789000+00:00",
          "2021-06-01T13:18:21.789000+00:00",
          "2021-06-01T13:18:21.789000+00:00",
          "2021-06-01T13:18:21.789000+00:00",
          "2021-06-01T13:18:21.789000+00:00",
          "2021-06-01T13:18:21.789000+00:00",
          "2021-06-01T13:18:21.789000+00:00",
          "2021-06-01T13:23:26.789000+00:00",
          "2021-06-01T13:23:26.789000+00:00",
          "2021-06-01T13:23:26.789000+00:00",
          "2021-06-01T13:18:21.789000+00:00",
          "2021-06-01T13:18:21.789000+00:00",
          "2021-06-01T13:18:21.789000+00:00",
          "2021-06-01T13:18:21.789000+00:00",
          "2021-06-01T13:18:21.789000+00:00",
          "2021-06-01T13:18:21.789000+00:00",
          "2021-06-01T13:18:21.789000+00:00",
          "2021-06-01T13:18:21.789000+00:00",
          "2021-06-01T13:18:21.789000+00:00",
          "2021-06-01T13:18:21.789000+00:00",
          "2021-06-01T13:18:21.789000+00:00",
          "2021-06-01T13:18:21.789000+00:00",
          "2021-06-01T13:18:21.789000+00:00",
          "2021-06-01T13:23:26.789000+00:00",
          "2021-06-01T13:23:26.789000+00:00",
          "2021-06-01T13:23:26.789000+00:00",
          "2021-06-01T13:23:26.789000+00:00",
          "2021-06-01T13:23:26.789000+00:00",
          "2021-06-01T13:23:26.789000+00:00",
          "2021-06-01T13:23:26.789000+00:00",
          "2021-06-01T13:23:26.789000+00:00",
          "2021-06-01T13:23:26.789000+00:00",
          "2021-06-01T13:23:26.789000+00:00",
          "2021-06-01T13:23:26.789000+00:00",
          "2021-06-01T13:23:26.789000+00:00",
          "2021-06-01T13:23:26.789000+00:00",
          "2021-06-01T13:23:26.789000+00:00",
          "2021-06-01T13:23:26.789000+00:00",
          "2021-06-01T13:23:26.789000+00:00",
          "2021-06-01T13:23:26.789000+00:00",
          "2021-06-01T13:23:26.789000+00:00",
          "2021-06-01T13:23:26.789000+00:00",
          "2021-06-01T13:23:26.789000+00:00",
          "2021-06-01T13:23:26.789000+00:00",
          "2021-06-01T13:23:26.789000+00:00",
          "2021-06-01T13:23:26.789000+00:00",
          "2021-06-01T13:23:26.789000+00:00",
          "2021-06-01T13:23:26.789000+00:00",
          "2021-06-01T13:23:26.789000+00:00",
          "2021-06-01T13:23:26.789000+00:00",
          "2021-06-01T13:23:26.789000+00:00",
          "2021-06-01T13:23:26.789000+00:00",
          "2021-06-01T13:23:26.789000+00:00",
          "2021-06-01T13:23:26.789000+00:00",
          "2021-06-01T13:23:26.789000+00:00",
          "2021-06-01T13:23:26.789000+00:00",
          "2021-06-01T13:23:26.789000+00:00",
          "2021-06-01T13:23:26.789000+00:00",
          "2021-06-01T13:23:26.789000+00:00",
          "2021-06-01T13:23:26.789000+00:00",
          "2021-06-01T13:23:26.789000+00:00",
          "2021-06-01T13:23:26.789000+00:00",
          "2021-06-01T13:23:26.789000+00:00",
          "2021-06-01T13:23:26.789000+00:00",
          "2021-06-01T13:23:26.789000+00:00",
          "2021-06-01T13:23:26.789000+00:00",
          "2021-06-01T13:23:26.789000+00:00",
          "2021-06-01T13:23:26.789000+00:00",
          "2021-06-01T13:23:26.789000+00:00",
          "2021-06-01T13:23:26.789000+00:00",
          "2021-06-01T13:23:26.789000+00:00",
          "2021-06-01T13:23:26.789000+00:00",
          "2021-06-01T13:23:26.789000+00:00",
          "2021-06-01T13:23:26.789000+00:00",
          "2021-06-01T13:23:26.789000+00:00",
          "2021-06-01T13:23:26.789000+00:00",
          "2021-06-01T13:23:26.789000+00:00",
          "2021-06-01T13:23:26.789000+00:00",
          "2021-06-01T13:23:26.789000+00:00",
          "2021-06-01T13:23:26.789000+00:00",
          "2021-06-01T13:23:26.789000+00:00",
          "2021-06-01T13:23:26.789000+00:00",
          "2021-06-01T13:23:26.789000+00:00",
          "2021-06-01T13:23:26.789000+00:00",
          "2021-06-01T13:23:26.789000+00:00",
          "2021-06-01T13:23:26.789000+00:00"
         ],
         "yaxis": "y"
        }
       ],
       "layout": {
        "legend": {
         "title": {
          "text": "variable"
         },
         "tracegroupgap": 0
        },
        "margin": {
         "t": 60
        },
        "template": {
         "data": {
          "bar": [
           {
            "error_x": {
             "color": "#2a3f5f"
            },
            "error_y": {
             "color": "#2a3f5f"
            },
            "marker": {
             "line": {
              "color": "#E5ECF6",
              "width": 0.5
             },
             "pattern": {
              "fillmode": "overlay",
              "size": 10,
              "solidity": 0.2
             }
            },
            "type": "bar"
           }
          ],
          "barpolar": [
           {
            "marker": {
             "line": {
              "color": "#E5ECF6",
              "width": 0.5
             },
             "pattern": {
              "fillmode": "overlay",
              "size": 10,
              "solidity": 0.2
             }
            },
            "type": "barpolar"
           }
          ],
          "carpet": [
           {
            "aaxis": {
             "endlinecolor": "#2a3f5f",
             "gridcolor": "white",
             "linecolor": "white",
             "minorgridcolor": "white",
             "startlinecolor": "#2a3f5f"
            },
            "baxis": {
             "endlinecolor": "#2a3f5f",
             "gridcolor": "white",
             "linecolor": "white",
             "minorgridcolor": "white",
             "startlinecolor": "#2a3f5f"
            },
            "type": "carpet"
           }
          ],
          "choropleth": [
           {
            "colorbar": {
             "outlinewidth": 0,
             "ticks": ""
            },
            "type": "choropleth"
           }
          ],
          "contour": [
           {
            "colorbar": {
             "outlinewidth": 0,
             "ticks": ""
            },
            "colorscale": [
             [
              0,
              "#0d0887"
             ],
             [
              0.1111111111111111,
              "#46039f"
             ],
             [
              0.2222222222222222,
              "#7201a8"
             ],
             [
              0.3333333333333333,
              "#9c179e"
             ],
             [
              0.4444444444444444,
              "#bd3786"
             ],
             [
              0.5555555555555556,
              "#d8576b"
             ],
             [
              0.6666666666666666,
              "#ed7953"
             ],
             [
              0.7777777777777778,
              "#fb9f3a"
             ],
             [
              0.8888888888888888,
              "#fdca26"
             ],
             [
              1,
              "#f0f921"
             ]
            ],
            "type": "contour"
           }
          ],
          "contourcarpet": [
           {
            "colorbar": {
             "outlinewidth": 0,
             "ticks": ""
            },
            "type": "contourcarpet"
           }
          ],
          "heatmap": [
           {
            "colorbar": {
             "outlinewidth": 0,
             "ticks": ""
            },
            "colorscale": [
             [
              0,
              "#0d0887"
             ],
             [
              0.1111111111111111,
              "#46039f"
             ],
             [
              0.2222222222222222,
              "#7201a8"
             ],
             [
              0.3333333333333333,
              "#9c179e"
             ],
             [
              0.4444444444444444,
              "#bd3786"
             ],
             [
              0.5555555555555556,
              "#d8576b"
             ],
             [
              0.6666666666666666,
              "#ed7953"
             ],
             [
              0.7777777777777778,
              "#fb9f3a"
             ],
             [
              0.8888888888888888,
              "#fdca26"
             ],
             [
              1,
              "#f0f921"
             ]
            ],
            "type": "heatmap"
           }
          ],
          "heatmapgl": [
           {
            "colorbar": {
             "outlinewidth": 0,
             "ticks": ""
            },
            "colorscale": [
             [
              0,
              "#0d0887"
             ],
             [
              0.1111111111111111,
              "#46039f"
             ],
             [
              0.2222222222222222,
              "#7201a8"
             ],
             [
              0.3333333333333333,
              "#9c179e"
             ],
             [
              0.4444444444444444,
              "#bd3786"
             ],
             [
              0.5555555555555556,
              "#d8576b"
             ],
             [
              0.6666666666666666,
              "#ed7953"
             ],
             [
              0.7777777777777778,
              "#fb9f3a"
             ],
             [
              0.8888888888888888,
              "#fdca26"
             ],
             [
              1,
              "#f0f921"
             ]
            ],
            "type": "heatmapgl"
           }
          ],
          "histogram": [
           {
            "marker": {
             "pattern": {
              "fillmode": "overlay",
              "size": 10,
              "solidity": 0.2
             }
            },
            "type": "histogram"
           }
          ],
          "histogram2d": [
           {
            "colorbar": {
             "outlinewidth": 0,
             "ticks": ""
            },
            "colorscale": [
             [
              0,
              "#0d0887"
             ],
             [
              0.1111111111111111,
              "#46039f"
             ],
             [
              0.2222222222222222,
              "#7201a8"
             ],
             [
              0.3333333333333333,
              "#9c179e"
             ],
             [
              0.4444444444444444,
              "#bd3786"
             ],
             [
              0.5555555555555556,
              "#d8576b"
             ],
             [
              0.6666666666666666,
              "#ed7953"
             ],
             [
              0.7777777777777778,
              "#fb9f3a"
             ],
             [
              0.8888888888888888,
              "#fdca26"
             ],
             [
              1,
              "#f0f921"
             ]
            ],
            "type": "histogram2d"
           }
          ],
          "histogram2dcontour": [
           {
            "colorbar": {
             "outlinewidth": 0,
             "ticks": ""
            },
            "colorscale": [
             [
              0,
              "#0d0887"
             ],
             [
              0.1111111111111111,
              "#46039f"
             ],
             [
              0.2222222222222222,
              "#7201a8"
             ],
             [
              0.3333333333333333,
              "#9c179e"
             ],
             [
              0.4444444444444444,
              "#bd3786"
             ],
             [
              0.5555555555555556,
              "#d8576b"
             ],
             [
              0.6666666666666666,
              "#ed7953"
             ],
             [
              0.7777777777777778,
              "#fb9f3a"
             ],
             [
              0.8888888888888888,
              "#fdca26"
             ],
             [
              1,
              "#f0f921"
             ]
            ],
            "type": "histogram2dcontour"
           }
          ],
          "mesh3d": [
           {
            "colorbar": {
             "outlinewidth": 0,
             "ticks": ""
            },
            "type": "mesh3d"
           }
          ],
          "parcoords": [
           {
            "line": {
             "colorbar": {
              "outlinewidth": 0,
              "ticks": ""
             }
            },
            "type": "parcoords"
           }
          ],
          "pie": [
           {
            "automargin": true,
            "type": "pie"
           }
          ],
          "scatter": [
           {
            "marker": {
             "colorbar": {
              "outlinewidth": 0,
              "ticks": ""
             }
            },
            "type": "scatter"
           }
          ],
          "scatter3d": [
           {
            "line": {
             "colorbar": {
              "outlinewidth": 0,
              "ticks": ""
             }
            },
            "marker": {
             "colorbar": {
              "outlinewidth": 0,
              "ticks": ""
             }
            },
            "type": "scatter3d"
           }
          ],
          "scattercarpet": [
           {
            "marker": {
             "colorbar": {
              "outlinewidth": 0,
              "ticks": ""
             }
            },
            "type": "scattercarpet"
           }
          ],
          "scattergeo": [
           {
            "marker": {
             "colorbar": {
              "outlinewidth": 0,
              "ticks": ""
             }
            },
            "type": "scattergeo"
           }
          ],
          "scattergl": [
           {
            "marker": {
             "colorbar": {
              "outlinewidth": 0,
              "ticks": ""
             }
            },
            "type": "scattergl"
           }
          ],
          "scattermapbox": [
           {
            "marker": {
             "colorbar": {
              "outlinewidth": 0,
              "ticks": ""
             }
            },
            "type": "scattermapbox"
           }
          ],
          "scatterpolar": [
           {
            "marker": {
             "colorbar": {
              "outlinewidth": 0,
              "ticks": ""
             }
            },
            "type": "scatterpolar"
           }
          ],
          "scatterpolargl": [
           {
            "marker": {
             "colorbar": {
              "outlinewidth": 0,
              "ticks": ""
             }
            },
            "type": "scatterpolargl"
           }
          ],
          "scatterternary": [
           {
            "marker": {
             "colorbar": {
              "outlinewidth": 0,
              "ticks": ""
             }
            },
            "type": "scatterternary"
           }
          ],
          "surface": [
           {
            "colorbar": {
             "outlinewidth": 0,
             "ticks": ""
            },
            "colorscale": [
             [
              0,
              "#0d0887"
             ],
             [
              0.1111111111111111,
              "#46039f"
             ],
             [
              0.2222222222222222,
              "#7201a8"
             ],
             [
              0.3333333333333333,
              "#9c179e"
             ],
             [
              0.4444444444444444,
              "#bd3786"
             ],
             [
              0.5555555555555556,
              "#d8576b"
             ],
             [
              0.6666666666666666,
              "#ed7953"
             ],
             [
              0.7777777777777778,
              "#fb9f3a"
             ],
             [
              0.8888888888888888,
              "#fdca26"
             ],
             [
              1,
              "#f0f921"
             ]
            ],
            "type": "surface"
           }
          ],
          "table": [
           {
            "cells": {
             "fill": {
              "color": "#EBF0F8"
             },
             "line": {
              "color": "white"
             }
            },
            "header": {
             "fill": {
              "color": "#C8D4E3"
             },
             "line": {
              "color": "white"
             }
            },
            "type": "table"
           }
          ]
         },
         "layout": {
          "annotationdefaults": {
           "arrowcolor": "#2a3f5f",
           "arrowhead": 0,
           "arrowwidth": 1
          },
          "autotypenumbers": "strict",
          "coloraxis": {
           "colorbar": {
            "outlinewidth": 0,
            "ticks": ""
           }
          },
          "colorscale": {
           "diverging": [
            [
             0,
             "#8e0152"
            ],
            [
             0.1,
             "#c51b7d"
            ],
            [
             0.2,
             "#de77ae"
            ],
            [
             0.3,
             "#f1b6da"
            ],
            [
             0.4,
             "#fde0ef"
            ],
            [
             0.5,
             "#f7f7f7"
            ],
            [
             0.6,
             "#e6f5d0"
            ],
            [
             0.7,
             "#b8e186"
            ],
            [
             0.8,
             "#7fbc41"
            ],
            [
             0.9,
             "#4d9221"
            ],
            [
             1,
             "#276419"
            ]
           ],
           "sequential": [
            [
             0,
             "#0d0887"
            ],
            [
             0.1111111111111111,
             "#46039f"
            ],
            [
             0.2222222222222222,
             "#7201a8"
            ],
            [
             0.3333333333333333,
             "#9c179e"
            ],
            [
             0.4444444444444444,
             "#bd3786"
            ],
            [
             0.5555555555555556,
             "#d8576b"
            ],
            [
             0.6666666666666666,
             "#ed7953"
            ],
            [
             0.7777777777777778,
             "#fb9f3a"
            ],
            [
             0.8888888888888888,
             "#fdca26"
            ],
            [
             1,
             "#f0f921"
            ]
           ],
           "sequentialminus": [
            [
             0,
             "#0d0887"
            ],
            [
             0.1111111111111111,
             "#46039f"
            ],
            [
             0.2222222222222222,
             "#7201a8"
            ],
            [
             0.3333333333333333,
             "#9c179e"
            ],
            [
             0.4444444444444444,
             "#bd3786"
            ],
            [
             0.5555555555555556,
             "#d8576b"
            ],
            [
             0.6666666666666666,
             "#ed7953"
            ],
            [
             0.7777777777777778,
             "#fb9f3a"
            ],
            [
             0.8888888888888888,
             "#fdca26"
            ],
            [
             1,
             "#f0f921"
            ]
           ]
          },
          "colorway": [
           "#636efa",
           "#EF553B",
           "#00cc96",
           "#ab63fa",
           "#FFA15A",
           "#19d3f3",
           "#FF6692",
           "#B6E880",
           "#FF97FF",
           "#FECB52"
          ],
          "font": {
           "color": "#2a3f5f"
          },
          "geo": {
           "bgcolor": "white",
           "lakecolor": "white",
           "landcolor": "#E5ECF6",
           "showlakes": true,
           "showland": true,
           "subunitcolor": "white"
          },
          "hoverlabel": {
           "align": "left"
          },
          "hovermode": "closest",
          "mapbox": {
           "style": "light"
          },
          "paper_bgcolor": "white",
          "plot_bgcolor": "#E5ECF6",
          "polar": {
           "angularaxis": {
            "gridcolor": "white",
            "linecolor": "white",
            "ticks": ""
           },
           "bgcolor": "#E5ECF6",
           "radialaxis": {
            "gridcolor": "white",
            "linecolor": "white",
            "ticks": ""
           }
          },
          "scene": {
           "xaxis": {
            "backgroundcolor": "#E5ECF6",
            "gridcolor": "white",
            "gridwidth": 2,
            "linecolor": "white",
            "showbackground": true,
            "ticks": "",
            "zerolinecolor": "white"
           },
           "yaxis": {
            "backgroundcolor": "#E5ECF6",
            "gridcolor": "white",
            "gridwidth": 2,
            "linecolor": "white",
            "showbackground": true,
            "ticks": "",
            "zerolinecolor": "white"
           },
           "zaxis": {
            "backgroundcolor": "#E5ECF6",
            "gridcolor": "white",
            "gridwidth": 2,
            "linecolor": "white",
            "showbackground": true,
            "ticks": "",
            "zerolinecolor": "white"
           }
          },
          "shapedefaults": {
           "line": {
            "color": "#2a3f5f"
           }
          },
          "ternary": {
           "aaxis": {
            "gridcolor": "white",
            "linecolor": "white",
            "ticks": ""
           },
           "baxis": {
            "gridcolor": "white",
            "linecolor": "white",
            "ticks": ""
           },
           "bgcolor": "#E5ECF6",
           "caxis": {
            "gridcolor": "white",
            "linecolor": "white",
            "ticks": ""
           }
          },
          "title": {
           "x": 0.05
          },
          "xaxis": {
           "automargin": true,
           "gridcolor": "white",
           "linecolor": "white",
           "ticks": "",
           "title": {
            "standoff": 15
           },
           "zerolinecolor": "white",
           "zerolinewidth": 2
          },
          "yaxis": {
           "automargin": true,
           "gridcolor": "white",
           "linecolor": "white",
           "ticks": "",
           "title": {
            "standoff": 15
           },
           "zerolinecolor": "white",
           "zerolinewidth": 2
          }
         }
        },
        "xaxis": {
         "anchor": "y",
         "domain": [
          0,
          1
         ],
         "title": {
          "text": "index"
         }
        },
        "yaxis": {
         "anchor": "x",
         "domain": [
          0,
          1
         ],
         "title": {
          "text": "value"
         }
        }
       }
      }
     },
     "metadata": {},
     "output_type": "display_data"
    }
   ],
   "source": [
    "CDHSample.modelData.SnapshotTime.plot()"
   ]
  },
  {
   "cell_type": "code",
   "execution_count": 11,
   "metadata": {},
   "outputs": [
    {
     "data": {
      "text/plain": [
       "(353, 12)"
      ]
     },
     "execution_count": 11,
     "metadata": {},
     "output_type": "execute_result"
    }
   ],
   "source": [
    "CDHSample._apply_query(CDHSample.modelData, query=\"SnapshotTime > '2021-06-01 12:00:00+00:00'\").shape"
   ]
  },
  {
   "cell_type": "markdown",
   "metadata": {},
   "source": [
    "That reduced the number of rows from 1047 down to 353, as we would expect. This querying functionality is built into every individual plotting function, and also the main data import. If you give 'query' as an argument to either the ADMSnapshot initialization or to an individual plotting function, it will subset the data automatically. For ADMSnapshot initialization that persists over all subsequent visualisations as well. We will make heavy use of querying in this notebook."
   ]
  },
  {
   "cell_type": "markdown",
   "metadata": {},
   "source": [
    "## Visualisations\n",
    "The following visualisations are currently available in the python version of CDH Tools. See the table below for which visualisations are applicable to what types of data:\n",
    "\n",
    "| Visualisation                            | Needs model data | Needs multiple snapshots | Needs predictor data |\n",
    "|------------------------------------------|------------------|--------------------------|----------------------|\n",
    "| plotPerformanceSuccessRateBubbleChart    | True             | False                    | False                |\n",
    "| plotPerformanceAndSuccessRateOverTime    | True             | True                     | False                |\n",
    "| plotResponseCountMatrix                  | True             | True                     | False                |\n",
    "| plotSuccessRateOverTime                  | True             | True                     | False                |\n",
    "| plotPropositionSuccessRates               | True             | False                    | False                |\n",
    "| plotScoreDistribution                    | True             | False                    | True                 |\n",
    "| plotPredictorBinning                     | True             | False                    | True                 |\n",
    "| plotPredictorPerformance                 | True             | False                    | True                 |\n",
    "| plotPredictorPerformanceHeatmap          | True             | False                    | True                 |\n",
    "| plotImpactInfluence                      | True             | False                    | True                 |\n",
    "\n",
    "\n",
    "Let's quickly go over each one and what it does below. To start out with the bubble chart, which we can simply call by calling plotPerformanceSuccessRateBubbleChart with our main class."
   ]
  },
  {
   "cell_type": "code",
   "execution_count": 12,
   "metadata": {},
   "outputs": [
    {
     "data": {
      "application/vnd.plotly.v1+json": {
       "config": {
        "plotlyServerURL": "https://plot.ly"
       },
       "data": [
        {
         "customdata": [
          [
           "0469930e-8d83-5c81-ba28-a8ec488f8e4d",
           "SMS",
           "Outbound",
           "Sales",
           "DepositAccounts"
          ],
          [
           "081d0acf-bfc3-5c0a-abc4-29106252efb8",
           "SMS",
           "Outbound",
           "Sales",
           "CreditCards"
          ],
          [
           "08ca1302-9fc0-57bf-9031-d4179d400493",
           "Web",
           "Inbound",
           "Sales",
           "Bundles"
          ],
          [
           "0ad9da35-f171-5ab9-973f-1cc4b89b4e8f",
           "Web",
           "Inbound",
           "Sales",
           "Bundles"
          ],
          [
           "0b363d7f-68f8-5e9e-a843-40ca8849e05b",
           "Email",
           "Outbound",
           "Sales",
           "HomeLoans"
          ],
          [
           "1289c4af-1d3f-5265-9fe5-173e1ddaadc3",
           "SMS",
           "Outbound",
           "Sales",
           "HomeLoans"
          ],
          [
           "17571d69-f802-5122-9bfe-6f3f4ef9073b",
           "Web",
           "Inbound",
           "Sales",
           "CreditCards"
          ],
          [
           "1be7cd72-741b-5d68-b148-c1af0142fd4a",
           "SMS",
           "Outbound",
           "Sales",
           "CreditCards"
          ],
          [
           "24f11deb-a6fa-59bf-b5f7-c61abffc9482",
           "Email",
           "Outbound",
           "Sales",
           "AutoLoans"
          ],
          [
           "26dda9e0-34a2-5e0a-8ee2-fd0c39de729e",
           "SMS",
           "Outbound",
           "Sales",
           "CreditCards"
          ],
          [
           "277a2c48-8888-5b71-911e-443d52c9b50f",
           "SMS",
           "Outbound",
           "Sales",
           "Bundles"
          ],
          [
           "2c8e753a-9e85-5060-ac5b-073e79e755c0",
           "Email",
           "Outbound",
           "Sales",
           "CreditCards"
          ],
          [
           "30cc2c18-5852-581a-abaa-555bf46a3b9c",
           "Email",
           "Outbound",
           "Services",
           "Account"
          ],
          [
           "320c4d01-43a5-510e-8fa8-1fc1bb4216da",
           "Email",
           "Outbound",
           "Sales",
           "Bundles"
          ],
          [
           "34f7d1b9-92f7-57dc-ab62-0de35dda0221",
           "SMS",
           "Outbound",
           "Services",
           "Account"
          ],
          [
           "3c892256-f415-5408-905d-3158345b10bf",
           "Email",
           "Outbound",
           "Sales",
           "Bundles"
          ],
          [
           "470485f7-3b20-58f7-a3aa-1f12c2bb99b7",
           "Email",
           "Outbound",
           "Sales",
           "HomeLoans"
          ],
          [
           "4954d7a5-b75e-5c71-89d6-e8340feb5022",
           "Email",
           "Outbound",
           "Sales",
           "DepositAccounts"
          ],
          [
           "4efdb97d-288d-518f-a3e0-8314bbd7f2a3",
           "SMS",
           "Outbound",
           "Sales",
           "CreditCards"
          ],
          [
           "59f06605-5b39-57dd-945b-637a72fa9085",
           "Web",
           "Inbound",
           "Sales",
           "CreditCards"
          ],
          [
           "5ca51e1e-49f0-58d2-8ab7-4a0ccbb326fd",
           "SMS",
           "Outbound",
           "Sales",
           "DepositAccounts"
          ],
          [
           "5cb8d642-390e-5c3e-8868-d34768f9535c",
           "Web",
           "Inbound",
           "Sales",
           "AutoLoans"
          ],
          [
           "602303a4-5243-523d-8964-473f3ea1200b",
           "SMS",
           "Outbound",
           "Sales",
           "CreditCards"
          ],
          [
           "68e1d164-81e3-5da0-816c-0bbc3c20ac6c",
           "Web",
           "Inbound",
           "Sales",
           "AutoLoans"
          ],
          [
           "692f453a-f825-5a90-ab40-f83cbb34b058",
           "Web",
           "Inbound",
           "Sales",
           "HomeLoans"
          ],
          [
           "69a8e56f-6327-5a66-a9a3-9b0c106641ec",
           "SMS",
           "Outbound",
           "Sales",
           "AutoLoans"
          ],
          [
           "708be173-0f46-55ee-add6-6fdca447a70a",
           "SMS",
           "Outbound",
           "Sales",
           "HomeLoans"
          ],
          [
           "708f20ef-7ca1-58f4-9dfa-b7efb5342fcf",
           "Web",
           "Inbound",
           "Sales",
           "HomeLoans"
          ],
          [
           "79e3f70f-dc6a-5bea-8006-02a6e91ad256",
           "Email",
           "Outbound",
           "Sales",
           "DepositAccounts"
          ],
          [
           "7d2046d5-be79-5f5a-a858-dcd9c65fd086",
           "Web",
           "Inbound",
           "Sales",
           "AutoLoans"
          ],
          [
           "7efc168f-9d8c-53ce-934f-c59d0c4bf314",
           "Email",
           "Outbound",
           "Sales",
           "HomeLoans"
          ],
          [
           "7ffc8c26-8473-5c8e-bcc3-48e5b162da7a",
           "SMS",
           "Outbound",
           "Sales",
           "CreditCards"
          ],
          [
           "838ca9ec-74ea-5a54-8c57-f45295116921",
           "SMS",
           "Outbound",
           "Services",
           "Account"
          ],
          [
           "84107ad6-c998-5377-b0d0-e02be2a8d768",
           "Email",
           "Outbound",
           "Sales",
           "AutoLoans"
          ],
          [
           "85d9dd89-93e5-55a0-b05f-e68bba9c97d1",
           "Email",
           "Outbound",
           "Sales",
           "CreditCards"
          ],
          [
           "8e40882a-aacf-5f03-9be8-f833c7932da2",
           "Web",
           "Inbound",
           "Sales",
           "Bundles"
          ],
          [
           "95ae0f10-297a-5c01-94d8-914bb89df969",
           "Web",
           "Inbound",
           "Sales",
           "DepositAccounts"
          ],
          [
           "98aeb30c-d896-51bd-b421-a650f0522335",
           "SMS",
           "Outbound",
           "Sales",
           "CreditCards"
          ],
          [
           "9e9e8c2e-6d19-538c-8e7b-a73070717ecf",
           "Web",
           "Inbound",
           "Sales",
           "CreditCards"
          ],
          [
           "a63f2f06-1e31-5691-a6df-48916a066c23",
           "Email",
           "Outbound",
           "Sales",
           "DepositAccounts"
          ],
          [
           "a75db3a2-fecc-5cc8-b75f-0a44447f9cca",
           "SMS",
           "Outbound",
           "Sales",
           "AutoLoans"
          ],
          [
           "a7bb008a-0514-5d41-b014-3e0b1b308382",
           "SMS",
           "Outbound",
           "Sales",
           "DepositAccounts"
          ],
          [
           "a87d51fb-cfdc-598d-b84a-dcdd64e1e750",
           "Web",
           "Inbound",
           "Sales",
           "HomeLoans"
          ],
          [
           "a8cd5e12-5d10-5b62-95f6-c5bb6344a83a",
           "Web",
           "Inbound",
           "Sales",
           "DepositAccounts"
          ],
          [
           "a8cde9d1-c720-537c-8fb8-8c59506bddfe",
           "Web",
           "Inbound",
           "Sales",
           "CreditCards"
          ],
          [
           "aaf75ad6-c71a-5fd8-b2eb-782cdbd30337",
           "SMS",
           "Outbound",
           "Services",
           "Account"
          ],
          [
           "ab4592bc-df16-5372-86e7-0caea36ac877",
           "Email",
           "Outbound",
           "Sales",
           "CreditCards"
          ],
          [
           "b216413c-8c2e-5e1b-860b-07dfc69efa69",
           "SMS",
           "Outbound",
           "Sales",
           "AutoLoans"
          ],
          [
           "b27d8eb5-7ff6-5706-ae90-6d61ce695f78",
           "SMS",
           "Outbound",
           "Sales",
           "Bundles"
          ],
          [
           "b5338016-1fee-5745-80ee-7bd6d51f2920",
           "Email",
           "Outbound",
           "Sales",
           "CreditCards"
          ],
          [
           "baae77a0-099a-5104-b7a9-b9b1a23290fc",
           "SMS",
           "Outbound",
           "Services",
           "Customer"
          ],
          [
           "bb02128b-d6df-52f3-9983-316f9fce47c7",
           "Email",
           "Outbound",
           "Sales",
           "CreditCards"
          ],
          [
           "bd70a915-697a-5d43-ab2c-53b0557c85a0",
           "Email",
           "Outbound",
           "Sales",
           "AutoLoans"
          ],
          [
           "c29ffcfa-5210-5998-a826-f3a8db57c610",
           "Web",
           "Inbound",
           "Sales",
           "CreditCards"
          ],
          [
           "c3f445b2-6037-5560-9f16-71a7259d2c2c",
           "SMS",
           "Outbound",
           "Sales",
           "HomeLoans"
          ],
          [
           "c4c1cff8-2879-51b8-8d08-cb961df94889",
           "Email",
           "Outbound",
           "Sales",
           "HomeLoans"
          ],
          [
           "c4cd4c00-87bf-562e-9ab8-20af64a81757",
           "Email",
           "Outbound",
           "Sales",
           "DepositAccounts"
          ],
          [
           "c8a529fb-9d2c-5069-a50f-42ee1ea9341a",
           "Web",
           "Inbound",
           "Services",
           "Account"
          ],
          [
           "cb67c091-5a81-56f4-9845-71afa9c8076e",
           "Email",
           "Outbound",
           "Sales",
           "HomeLoans"
          ],
          [
           "cc9b9b1b-c2f9-5e8c-a54a-f13e0559ebd6",
           "Email",
           "Outbound",
           "Sales",
           "CreditCards"
          ],
          [
           "cffb1b5d-219e-5137-9036-4e2136be6a8f",
           "Email",
           "Outbound",
           "Sales",
           "DepositAccounts"
          ],
          [
           "d5e2f4b1-249a-58c0-8a2f-2d314eada5fe",
           "SMS",
           "Outbound",
           "Sales",
           "AutoLoans"
          ],
          [
           "d6e132b6-ad92-5ece-8db5-b42d9d151f73",
           "SMS",
           "Outbound",
           "Sales",
           "Bundles"
          ],
          [
           "dd502275-e98b-51f7-8935-c30c84641871",
           "Web",
           "Inbound",
           "Services",
           "Account"
          ],
          [
           "e4ea7a89-c394-5014-ac26-34b8eee475bd",
           "SMS",
           "Outbound",
           "Sales",
           "CreditCards"
          ],
          [
           "ea0a225a-7d09-5d90-88f6-d0e8380d67cc",
           "Web",
           "Inbound",
           "Sales",
           "DepositAccounts"
          ],
          [
           "ebb6d905-7c43-5422-a813-f770feba7114",
           "Email",
           "Outbound",
           "Sales",
           "AutoLoans"
          ],
          [
           "f38b5b50-b01b-5fd9-8120-7470320d6664",
           "SMS",
           "Outbound",
           "Sales",
           "DepositAccounts"
          ],
          [
           "f3afaa9b-d0d5-5be9-a3b9-9fdfc4847411",
           "Email",
           "Outbound",
           "Sales",
           "AutoLoans"
          ],
          [
           "f9fc995f-3f02-5e9e-8e22-b72909054f3a",
           "SMS",
           "Outbound",
           "Sales",
           "AutoLoans"
          ]
         ],
         "hovertemplate": "<b>%{hovertext}</b><br><br>Performance=%{marker.color}<br>SuccessRate=%{y}<br>ResponseCount=%{marker.size}<br>ModelID=%{customdata[0]}<br>Channel=%{customdata[1]}<br>Direction=%{customdata[2]}<br>Issue=%{customdata[3]}<br>Group=%{customdata[4]}<extra></extra>",
         "hovertext": [
          "SeniorChecking",
          "UPlusFinGold",
          "HomeOwners",
          "SuperSaver",
          "FirstMortgageFiveOneARM",
          "FirstMortgageFHA",
          "VisaGold",
          "VisaGold",
          "AutoUsed84Months",
          "ChannelAction_Template",
          "HomeOwners",
          "UPlusFinGold",
          "Services_ChannelAction_Template",
          "PremiumBanking",
          "Services_ChannelAction_Template",
          "StudentChoice",
          "FirstMortgageFloat",
          "SeniorChecking",
          "MasterCardGold",
          "PlatinumRewardsCard",
          "RegularSaving",
          "AutoUsed36Months",
          "UPlusFinPersonal",
          "AutoNew84Months",
          "FirstMortgageFloat",
          "AutoNew48Months",
          "FirstMortgageFiveOneARM",
          "FirstMortgageFiveOneARM",
          "MoneyMarketSavingsAccount",
          "AutoNew36Months",
          "FirstMortgageSevenOneARM",
          "MasterCardWorld",
          "GoPaperless",
          "AutoUsed60Months",
          "MasterCardGold",
          "PremiumBanking",
          "MoneyMarketSavingsAccount",
          "IdentityTheftProtection",
          "MasterCardGold",
          "BasicChecking",
          "AutoUsed48Months",
          "PremierChecking",
          "FirstMortgage",
          "SeniorChecking",
          "UPlusFinGold",
          "IncreaseYourCreditLine",
          "UPlusFinPersonal",
          "AutoUsed36Months",
          "PremiumBanking",
          "PaymentProtection",
          "MissingContactInformation",
          "PlatinumRewardsCard",
          "AutoNew36Months",
          "PaymentProtection",
          "FirstMortgage",
          "FirstMortgageThreeOneARM",
          "RegularSaving",
          "IncreaseYourCreditLine",
          "FirstMortgageFHA",
          "IdentityTheftProtection",
          "PremierChecking",
          "AutoUsed84Months",
          "SuperSaver",
          "Services_ChannelAction_Template",
          "PaymentProtection",
          "PremierChecking",
          "AutoNew48Months",
          "MoneyMarketSavingsAccount",
          "AutoNew84Months",
          "AutoNew36Months"
         ],
         "legendgroup": "",
         "marker": {
          "color": [
           56.5227,
           66.541,
           75.6002,
           75.7296,
           53.0007,
           52.7779,
           51.9586,
           53.1863,
           50,
           69.7884,
           77.3211,
           53.496,
           62.9442,
           62.467,
           71.0618,
           60.1887,
           50,
           54.9252,
           50,
           57.9772,
           51.1978,
           57.8638,
           62.9893,
           77.4901,
           64.6733,
           61.8246,
           65.202,
           52.7198,
           50,
           56.5041,
           56.6071,
           55.1591,
           71.2165,
           65.3775,
           50,
           65.264,
           50,
           53.0707,
           57.1711,
           51.0276,
           69.3922,
           51.6802,
           64.7708,
           54.9147,
           68.6745,
           56.4527,
           61.9665,
           54.2851,
           61.6472,
           52.5041,
           62.2187,
           50,
           52.3734,
           58.1586,
           64.851,
           50,
           61.4512,
           59.2788,
           67.6805,
           50,
           52.1103,
           62.2813,
           61.812,
           66.3954,
           51.4945,
           52.4186,
           58.0125,
           51.3569,
           64.2461,
           60.5845
          ],
          "coloraxis": "coloraxis",
          "line": {
           "color": "black"
          },
          "size": [
           3424,
           3854,
           4605,
           1267,
           404,
           477,
           778,
           822,
           1243,
           828,
           4976,
           3545,
           7415,
           5430,
           7287,
           5203,
           444,
           2883,
           1080,
           907,
           1221,
           1688,
           3588,
           1636,
           518,
           5743,
           482,
           449,
           1096,
           5499,
           305,
           634,
           8174,
           1378,
           875,
           5176,
           1206,
           855,
           835,
           3868,
           1447,
           4658,
           4076,
           3024,
           3760,
           7668,
           3508,
           1622,
           5052,
           537,
           7096,
           989,
           5817,
           686,
           3946,
           539,
           1069,
           6471,
           362,
           808,
           3355,
           1347,
           1106,
           7073,
           722,
           4404,
           5198,
           1185,
           1184,
           5602
          ],
          "sizemode": "area",
          "sizeref": 20.435,
          "symbol": "circle"
         },
         "mode": "markers",
         "name": "",
         "orientation": "v",
         "showlegend": false,
         "type": "scatter",
         "x": [
          56.5227,
          66.541,
          75.6002,
          75.7296,
          53.0007,
          52.7779,
          51.9586,
          53.1863,
          50,
          69.7884,
          77.3211,
          53.496,
          62.9442,
          62.467,
          71.0618,
          60.1887,
          50,
          54.9252,
          50,
          57.9772,
          51.1978,
          57.8638,
          62.9893,
          77.4901,
          64.6733,
          61.8246,
          65.202,
          52.7198,
          50,
          56.5041,
          56.6071,
          55.1591,
          71.2165,
          65.3775,
          50,
          65.264,
          50,
          53.0707,
          57.1711,
          51.0276,
          69.3922,
          51.6802,
          64.7708,
          54.9147,
          68.6745,
          56.4527,
          61.9665,
          54.2851,
          61.6472,
          52.5041,
          62.2187,
          50,
          52.3734,
          58.1586,
          64.851,
          50,
          61.4512,
          59.2788,
          67.6805,
          50,
          52.1103,
          62.2813,
          61.812,
          66.3954,
          51.4945,
          52.4186,
          58.0125,
          51.3569,
          64.2461,
          60.5845
         ],
         "xaxis": "x",
         "y": [
          15.82944,
          4.28127,
          13.22476,
          8.83978,
          2.47525,
          10.06289,
          5.9126,
          3.28467,
          1.04586,
          6.28019,
          10.7717,
          1.07193,
          0.72825,
          0.44199,
          3.25237,
          1.69133,
          0.45045,
          5.06417,
          0.27778,
          1.54355,
          6.38821,
          10.24882,
          5.18395,
          12.59169,
          2.50965,
          7.19136,
          10.37344,
          17.37194,
          1.73358,
          2.49136,
          1.63934,
          5.67823,
          11.05946,
          3.91872,
          0.57143,
          1.95131,
          9.12106,
          1.16959,
          2.15569,
          7.29059,
          3.52453,
          23.65822,
          22.15407,
          19.01455,
          5.93085,
          2.60824,
          1.53934,
          8.75462,
          2.0388,
          5.40037,
          18.94025,
          0.20222,
          0.20629,
          25.07289,
          16.85251,
          0.37106,
          1.40318,
          4.18792,
          3.59116,
          0.24752,
          8.70343,
          3.71195,
          12.02532,
          5.08978,
          22.43767,
          27.77021,
          2.75106,
          9.95781,
          5.65878,
          0.64263
         ],
         "yaxis": "y"
        }
       ],
       "layout": {
        "coloraxis": {
         "colorbar": {
          "title": {
           "text": "Performance"
          }
         },
         "colorscale": [
          [
           0,
           "rgb(0,0,255)"
          ],
          [
           1,
           "rgb(255,0,0)"
          ]
         ]
        },
        "legend": {
         "itemsizing": "constant",
         "tracegroupgap": 0
        },
        "template": {
         "data": {
          "scatter": [
           {
            "type": "scatter"
           }
          ]
         }
        },
        "title": {
         "text": "Bubble Chart over all models <br><sup>70 models: 0 (0.0%) at (50,0)</sup>"
        },
        "xaxis": {
         "anchor": "y",
         "domain": [
          0,
          1
         ],
         "title": {
          "text": "Performance"
         }
        },
        "yaxis": {
         "anchor": "x",
         "domain": [
          0,
          1
         ],
         "title": {
          "text": "SuccessRate"
         }
        }
       }
      }
     },
     "metadata": {},
     "output_type": "display_data"
    }
   ],
   "source": [
    "plot = CDHSample.plotPerformanceSuccessRateBubbleChart()"
   ]
  },
  {
   "cell_type": "markdown",
   "metadata": {},
   "source": [
    "Looks like a healthy bubble plot, but sometimes it is useful to consider only certain models in the analysis. Note that the bubble chart automatically considers only the last snapshot by default, though this is a parameter. \n",
    "\n",
    "To reduce the information, let's only consider models with more than 500 responses within the CreditCards group. "
   ]
  },
  {
   "cell_type": "code",
   "execution_count": 13,
   "metadata": {},
   "outputs": [
    {
     "data": {
      "application/vnd.plotly.v1+json": {
       "config": {
        "plotlyServerURL": "https://plot.ly"
       },
       "data": [
        {
         "customdata": [
          [
           "081d0acf-bfc3-5c0a-abc4-29106252efb8",
           "SMS",
           "Outbound",
           "Sales",
           "CreditCards"
          ],
          [
           "17571d69-f802-5122-9bfe-6f3f4ef9073b",
           "Web",
           "Inbound",
           "Sales",
           "CreditCards"
          ],
          [
           "1be7cd72-741b-5d68-b148-c1af0142fd4a",
           "SMS",
           "Outbound",
           "Sales",
           "CreditCards"
          ],
          [
           "26dda9e0-34a2-5e0a-8ee2-fd0c39de729e",
           "SMS",
           "Outbound",
           "Sales",
           "CreditCards"
          ],
          [
           "2c8e753a-9e85-5060-ac5b-073e79e755c0",
           "Email",
           "Outbound",
           "Sales",
           "CreditCards"
          ],
          [
           "4efdb97d-288d-518f-a3e0-8314bbd7f2a3",
           "SMS",
           "Outbound",
           "Sales",
           "CreditCards"
          ],
          [
           "59f06605-5b39-57dd-945b-637a72fa9085",
           "Web",
           "Inbound",
           "Sales",
           "CreditCards"
          ],
          [
           "602303a4-5243-523d-8964-473f3ea1200b",
           "SMS",
           "Outbound",
           "Sales",
           "CreditCards"
          ],
          [
           "7ffc8c26-8473-5c8e-bcc3-48e5b162da7a",
           "SMS",
           "Outbound",
           "Sales",
           "CreditCards"
          ],
          [
           "85d9dd89-93e5-55a0-b05f-e68bba9c97d1",
           "Email",
           "Outbound",
           "Sales",
           "CreditCards"
          ],
          [
           "98aeb30c-d896-51bd-b421-a650f0522335",
           "SMS",
           "Outbound",
           "Sales",
           "CreditCards"
          ],
          [
           "9e9e8c2e-6d19-538c-8e7b-a73070717ecf",
           "Web",
           "Inbound",
           "Sales",
           "CreditCards"
          ],
          [
           "a8cde9d1-c720-537c-8fb8-8c59506bddfe",
           "Web",
           "Inbound",
           "Sales",
           "CreditCards"
          ],
          [
           "ab4592bc-df16-5372-86e7-0caea36ac877",
           "Email",
           "Outbound",
           "Sales",
           "CreditCards"
          ],
          [
           "b5338016-1fee-5745-80ee-7bd6d51f2920",
           "Email",
           "Outbound",
           "Sales",
           "CreditCards"
          ],
          [
           "bb02128b-d6df-52f3-9983-316f9fce47c7",
           "Email",
           "Outbound",
           "Sales",
           "CreditCards"
          ],
          [
           "c29ffcfa-5210-5998-a826-f3a8db57c610",
           "Web",
           "Inbound",
           "Sales",
           "CreditCards"
          ],
          [
           "cc9b9b1b-c2f9-5e8c-a54a-f13e0559ebd6",
           "Email",
           "Outbound",
           "Sales",
           "CreditCards"
          ],
          [
           "e4ea7a89-c394-5014-ac26-34b8eee475bd",
           "SMS",
           "Outbound",
           "Sales",
           "CreditCards"
          ]
         ],
         "hovertemplate": "<b>%{hovertext}</b><br><br>Performance=%{marker.color}<br>SuccessRate=%{y}<br>ResponseCount=%{marker.size}<br>ModelID=%{customdata[0]}<br>Channel=%{customdata[1]}<br>Direction=%{customdata[2]}<br>Issue=%{customdata[3]}<br>Group=%{customdata[4]}<extra></extra>",
         "hovertext": [
          "UPlusFinGold",
          "VisaGold",
          "VisaGold",
          "ChannelAction_Template",
          "UPlusFinGold",
          "MasterCardGold",
          "PlatinumRewardsCard",
          "UPlusFinPersonal",
          "MasterCardWorld",
          "MasterCardGold",
          "IdentityTheftProtection",
          "MasterCardGold",
          "UPlusFinGold",
          "UPlusFinPersonal",
          "PaymentProtection",
          "PlatinumRewardsCard",
          "PaymentProtection",
          "IdentityTheftProtection",
          "PaymentProtection"
         ],
         "legendgroup": "",
         "marker": {
          "color": [
           66.541,
           51.9586,
           53.1863,
           69.7884,
           53.496,
           50,
           57.9772,
           62.9893,
           55.1591,
           50,
           53.0707,
           57.1711,
           68.6745,
           61.9665,
           52.5041,
           50,
           58.1586,
           50,
           51.4945
          ],
          "coloraxis": "coloraxis",
          "line": {
           "color": "black"
          },
          "size": [
           3854,
           778,
           822,
           828,
           3545,
           1080,
           907,
           3588,
           634,
           875,
           855,
           835,
           3760,
           3508,
           537,
           989,
           686,
           808,
           722
          ],
          "sizemode": "area",
          "sizeref": 9.635,
          "symbol": "circle"
         },
         "mode": "markers",
         "name": "",
         "orientation": "v",
         "showlegend": false,
         "type": "scatter",
         "x": [
          66.541,
          51.9586,
          53.1863,
          69.7884,
          53.496,
          50,
          57.9772,
          62.9893,
          55.1591,
          50,
          53.0707,
          57.1711,
          68.6745,
          61.9665,
          52.5041,
          50,
          58.1586,
          50,
          51.4945
         ],
         "xaxis": "x",
         "y": [
          4.28127,
          5.9126,
          3.28467,
          6.28019,
          1.07193,
          0.27778,
          1.54355,
          5.18395,
          5.67823,
          0.57143,
          1.16959,
          2.15569,
          5.93085,
          1.53934,
          5.40037,
          0.20222,
          25.07289,
          0.24752,
          22.43767
         ],
         "yaxis": "y"
        }
       ],
       "layout": {
        "coloraxis": {
         "colorbar": {
          "title": {
           "text": "Performance"
          }
         },
         "colorscale": [
          [
           0,
           "rgb(0,0,255)"
          ],
          [
           1,
           "rgb(255,0,0)"
          ]
         ]
        },
        "legend": {
         "itemsizing": "constant",
         "tracegroupgap": 0
        },
        "template": {
         "data": {
          "scatter": [
           {
            "type": "scatter"
           }
          ]
         }
        },
        "title": {
         "text": "Bubble Chart over all models <br><sup>Query: ResponseCount > 500 and Group == \"CreditCards\"</sup><br><sup>19 models: 0 (0.0%) at (50,0)</sup>"
        },
        "xaxis": {
         "anchor": "y",
         "domain": [
          0,
          1
         ],
         "title": {
          "text": "Performance"
         }
        },
        "yaxis": {
         "anchor": "x",
         "domain": [
          0,
          1
         ],
         "title": {
          "text": "SuccessRate"
         }
        }
       }
      }
     },
     "metadata": {},
     "output_type": "display_data"
    }
   ],
   "source": [
    "query='ResponseCount > 500 and Group == \"CreditCards\"'\n",
    "plot = CDHSample.plotPerformanceSuccessRateBubbleChart(query=query)"
   ]
  },
  {
   "cell_type": "markdown",
   "metadata": {},
   "source": [
    "Alternatively, we could only look at the top n best performing models within our query. To do this, we need to supply a list of model IDs which we can easily extract from the data as such.\n",
    "\n",
    "Note here the alternative querying syntax you can use, which was default in the previous version of CDH Tools: if you have a list (list) to subset a column's values with, you can simply supply a dictionary with 'column name':list to only get values in that list for that column."
   ]
  },
  {
   "cell_type": "code",
   "execution_count": 14,
   "metadata": {},
   "outputs": [
    {
     "data": {
      "application/vnd.plotly.v1+json": {
       "config": {
        "plotlyServerURL": "https://plot.ly"
       },
       "data": [
        {
         "customdata": [
          [
           "081d0acf-bfc3-5c0a-abc4-29106252efb8",
           "SMS",
           "Outbound",
           "Sales",
           "CreditCards"
          ],
          [
           "08ca1302-9fc0-57bf-9031-d4179d400493",
           "Web",
           "Inbound",
           "Sales",
           "Bundles"
          ],
          [
           "0ad9da35-f171-5ab9-973f-1cc4b89b4e8f",
           "Web",
           "Inbound",
           "Sales",
           "Bundles"
          ],
          [
           "26dda9e0-34a2-5e0a-8ee2-fd0c39de729e",
           "SMS",
           "Outbound",
           "Sales",
           "CreditCards"
          ],
          [
           "277a2c48-8888-5b71-911e-443d52c9b50f",
           "SMS",
           "Outbound",
           "Sales",
           "Bundles"
          ],
          [
           "30cc2c18-5852-581a-abaa-555bf46a3b9c",
           "Email",
           "Outbound",
           "Services",
           "Account"
          ],
          [
           "320c4d01-43a5-510e-8fa8-1fc1bb4216da",
           "Email",
           "Outbound",
           "Sales",
           "Bundles"
          ],
          [
           "34f7d1b9-92f7-57dc-ab62-0de35dda0221",
           "SMS",
           "Outbound",
           "Services",
           "Account"
          ],
          [
           "602303a4-5243-523d-8964-473f3ea1200b",
           "SMS",
           "Outbound",
           "Sales",
           "CreditCards"
          ],
          [
           "68e1d164-81e3-5da0-816c-0bbc3c20ac6c",
           "Web",
           "Inbound",
           "Sales",
           "AutoLoans"
          ],
          [
           "692f453a-f825-5a90-ab40-f83cbb34b058",
           "Web",
           "Inbound",
           "Sales",
           "HomeLoans"
          ],
          [
           "69a8e56f-6327-5a66-a9a3-9b0c106641ec",
           "SMS",
           "Outbound",
           "Sales",
           "AutoLoans"
          ],
          [
           "708be173-0f46-55ee-add6-6fdca447a70a",
           "SMS",
           "Outbound",
           "Sales",
           "HomeLoans"
          ],
          [
           "838ca9ec-74ea-5a54-8c57-f45295116921",
           "SMS",
           "Outbound",
           "Services",
           "Account"
          ],
          [
           "84107ad6-c998-5377-b0d0-e02be2a8d768",
           "Email",
           "Outbound",
           "Sales",
           "AutoLoans"
          ],
          [
           "8e40882a-aacf-5f03-9be8-f833c7932da2",
           "Web",
           "Inbound",
           "Sales",
           "Bundles"
          ],
          [
           "a75db3a2-fecc-5cc8-b75f-0a44447f9cca",
           "SMS",
           "Outbound",
           "Sales",
           "AutoLoans"
          ],
          [
           "a87d51fb-cfdc-598d-b84a-dcdd64e1e750",
           "Web",
           "Inbound",
           "Sales",
           "HomeLoans"
          ],
          [
           "a8cde9d1-c720-537c-8fb8-8c59506bddfe",
           "Web",
           "Inbound",
           "Sales",
           "CreditCards"
          ],
          [
           "ab4592bc-df16-5372-86e7-0caea36ac877",
           "Email",
           "Outbound",
           "Sales",
           "CreditCards"
          ],
          [
           "b27d8eb5-7ff6-5706-ae90-6d61ce695f78",
           "SMS",
           "Outbound",
           "Sales",
           "Bundles"
          ],
          [
           "baae77a0-099a-5104-b7a9-b9b1a23290fc",
           "SMS",
           "Outbound",
           "Services",
           "Customer"
          ],
          [
           "c3f445b2-6037-5560-9f16-71a7259d2c2c",
           "SMS",
           "Outbound",
           "Sales",
           "HomeLoans"
          ],
          [
           "c4cd4c00-87bf-562e-9ab8-20af64a81757",
           "Email",
           "Outbound",
           "Sales",
           "DepositAccounts"
          ],
          [
           "cb67c091-5a81-56f4-9845-71afa9c8076e",
           "Email",
           "Outbound",
           "Sales",
           "HomeLoans"
          ],
          [
           "d5e2f4b1-249a-58c0-8a2f-2d314eada5fe",
           "SMS",
           "Outbound",
           "Sales",
           "AutoLoans"
          ],
          [
           "d6e132b6-ad92-5ece-8db5-b42d9d151f73",
           "SMS",
           "Outbound",
           "Sales",
           "Bundles"
          ],
          [
           "dd502275-e98b-51f7-8935-c30c84641871",
           "Web",
           "Inbound",
           "Services",
           "Account"
          ],
          [
           "f3afaa9b-d0d5-5be9-a3b9-9fdfc4847411",
           "Email",
           "Outbound",
           "Sales",
           "AutoLoans"
          ],
          [
           "f9fc995f-3f02-5e9e-8e22-b72909054f3a",
           "SMS",
           "Outbound",
           "Sales",
           "AutoLoans"
          ]
         ],
         "hovertemplate": "<b>%{hovertext}</b><br><br>Performance=%{marker.color}<br>SuccessRate=%{y}<br>ResponseCount=%{marker.size}<br>ModelID=%{customdata[0]}<br>Channel=%{customdata[1]}<br>Direction=%{customdata[2]}<br>Issue=%{customdata[3]}<br>Group=%{customdata[4]}<extra></extra>",
         "hovertext": [
          "UPlusFinGold",
          "HomeOwners",
          "SuperSaver",
          "ChannelAction_Template",
          "HomeOwners",
          "Services_ChannelAction_Template",
          "PremiumBanking",
          "Services_ChannelAction_Template",
          "UPlusFinPersonal",
          "AutoNew84Months",
          "FirstMortgageFloat",
          "AutoNew48Months",
          "FirstMortgageFiveOneARM",
          "GoPaperless",
          "AutoUsed60Months",
          "PremiumBanking",
          "AutoUsed48Months",
          "FirstMortgage",
          "UPlusFinGold",
          "UPlusFinPersonal",
          "PremiumBanking",
          "MissingContactInformation",
          "FirstMortgage",
          "RegularSaving",
          "FirstMortgageFHA",
          "AutoUsed84Months",
          "SuperSaver",
          "Services_ChannelAction_Template",
          "AutoNew84Months",
          "AutoNew36Months"
         ],
         "legendgroup": "",
         "marker": {
          "color": [
           66.541,
           75.6002,
           75.7296,
           69.7884,
           77.3211,
           62.9442,
           62.467,
           71.0618,
           62.9893,
           77.4901,
           64.6733,
           61.8246,
           65.202,
           71.2165,
           65.3775,
           65.264,
           69.3922,
           64.7708,
           68.6745,
           61.9665,
           61.6472,
           62.2187,
           64.851,
           61.4512,
           67.6805,
           62.2813,
           61.812,
           66.3954,
           64.2461,
           60.5845
          ],
          "coloraxis": "coloraxis",
          "line": {
           "color": "black"
          },
          "size": [
           3854,
           4605,
           1267,
           828,
           4976,
           7415,
           5430,
           7287,
           3588,
           1636,
           518,
           5743,
           482,
           8174,
           1378,
           5176,
           1447,
           4076,
           3760,
           3508,
           5052,
           7096,
           3946,
           1069,
           362,
           1347,
           1106,
           7073,
           1184,
           5602
          ],
          "sizemode": "area",
          "sizeref": 20.435,
          "symbol": "circle"
         },
         "mode": "markers",
         "name": "",
         "orientation": "v",
         "showlegend": false,
         "type": "scatter",
         "x": [
          66.541,
          75.6002,
          75.7296,
          69.7884,
          77.3211,
          62.9442,
          62.467,
          71.0618,
          62.9893,
          77.4901,
          64.6733,
          61.8246,
          65.202,
          71.2165,
          65.3775,
          65.264,
          69.3922,
          64.7708,
          68.6745,
          61.9665,
          61.6472,
          62.2187,
          64.851,
          61.4512,
          67.6805,
          62.2813,
          61.812,
          66.3954,
          64.2461,
          60.5845
         ],
         "xaxis": "x",
         "y": [
          4.28127,
          13.22476,
          8.83978,
          6.28019,
          10.7717,
          0.72825,
          0.44199,
          3.25237,
          5.18395,
          12.59169,
          2.50965,
          7.19136,
          10.37344,
          11.05946,
          3.91872,
          1.95131,
          3.52453,
          22.15407,
          5.93085,
          1.53934,
          2.0388,
          18.94025,
          16.85251,
          1.40318,
          3.59116,
          3.71195,
          12.02532,
          5.08978,
          5.65878,
          0.64263
         ],
         "yaxis": "y"
        }
       ],
       "layout": {
        "coloraxis": {
         "colorbar": {
          "title": {
           "text": "Performance"
          }
         },
         "colorscale": [
          [
           0,
           "rgb(0,0,255)"
          ],
          [
           1,
           "rgb(255,0,0)"
          ]
         ]
        },
        "legend": {
         "itemsizing": "constant",
         "tracegroupgap": 0
        },
        "template": {
         "data": {
          "scatter": [
           {
            "type": "scatter"
           }
          ]
         }
        },
        "title": {
         "text": "Bubble Chart over all models <br><sup>Query: {'ModelID': ['68e1d164-81e3-5da0-816c-0bbc3c20ac6c', '277a2c48-8888-5b71-911e-443d52c9b50f', '0ad9da35-f171-5ab9-973f-1cc4b89b4e8f', '08ca1302-9fc0-57bf-9031-d4179d400493', '838ca9ec-74ea-5a54-8c57-f45295116921', '34f7d1b9-92f7-57dc-ab62-0de35dda0221', '26dda9e0-34a2-5e0a-8ee2-fd0c39de729e', 'a75db3a2-fecc-5cc8-b75f-0a44447f9cca', 'a8cde9d1-c720-537c-8fb8-8c59506bddfe', 'cb67c091-5a81-56f4-9845-71afa9c8076e', '081d0acf-bfc3-5c0a-abc4-29106252efb8', 'dd502275-e98b-51f7-8935-c30c84641871', '84107ad6-c998-5377-b0d0-e02be2a8d768', '8e40882a-aacf-5f03-9be8-f833c7932da2', '708be173-0f46-55ee-add6-6fdca447a70a', 'c3f445b2-6037-5560-9f16-71a7259d2c2c', 'a87d51fb-cfdc-598d-b84a-dcdd64e1e750', '692f453a-f825-5a90-ab40-f83cbb34b058', 'f3afaa9b-d0d5-5be9-a3b9-9fdfc4847411', '602303a4-5243-523d-8964-473f3ea1200b', '30cc2c18-5852-581a-abaa-555bf46a3b9c', '320c4d01-43a5-510e-8fa8-1fc1bb4216da', 'd5e2f4b1-249a-58c0-8a2f-2d314eada5fe', 'baae77a0-099a-5104-b7a9-b9b1a23290fc', 'ab4592bc-df16-5372-86e7-0caea36ac877', '69a8e56f-6327-5a66-a9a3-9b0c106641ec', 'd6e132b6-ad92-5ece-8db5-b42d9d151f73', 'b27d8eb5-7ff6-5706-ae90-6d61ce695f78', 'c4cd4c00-87bf-562e-9ab8-20af64a81757', 'f9fc995f-3f02-5e9e-8e22-b72909054f3a']}</sup><br><sup>30 models: 0 (0.0%) at (50,0)</sup>"
        },
        "xaxis": {
         "anchor": "y",
         "domain": [
          0,
          1
         ],
         "title": {
          "text": "Performance"
         }
        },
        "yaxis": {
         "anchor": "x",
         "domain": [
          0,
          1
         ],
         "title": {
          "text": "SuccessRate"
         }
        }
       }
      }
     },
     "metadata": {},
     "output_type": "display_data"
    }
   ],
   "source": [
    "top30ids = list(CDHSample.last(CDHSample.modelData).sort_values('Performance', ascending=False).reset_index()['ModelID'][0:30])\n",
    "\n",
    "plot = CDHSample.plotPerformanceSuccessRateBubbleChart(query={'ModelID':top30ids})"
   ]
  },
  {
   "cell_type": "markdown",
   "metadata": {},
   "source": [
    "If we want to look at the response rate and the AUC of some models over time, we can call plotPerformanceAndSuccessRateOverTime. Here, we filter a bit to limit the amount of information."
   ]
  },
  {
   "cell_type": "code",
   "execution_count": 15,
   "metadata": {},
   "outputs": [
    {
     "name": "stdout",
     "output_type": "stream",
     "text": [
      "Maximum AUC across all models: 0.77\n"
     ]
    },
    {
     "data": {
      "image/png": "[encoded data removed]",
      "text/plain": [
       "<Figure size 1152x720 with 2 Axes>"
      ]
     },
     "metadata": {
      "needs_background": "light"
     },
     "output_type": "display_data"
    }
   ],
   "source": [
    "CDHSample.plotPerformanceAndSuccessRateOverTime(query = \"Channel == 'Web'\")"
   ]
  },
  {
   "cell_type": "markdown",
   "metadata": {},
   "source": [
    "Similar to the responses, the success rate over time can also be of interest. With 'plotSuccessRateOverTime', you can plot the success rate of different models as they develop over time."
   ]
  },
  {
   "cell_type": "code",
   "execution_count": 16,
   "metadata": {},
   "outputs": [
    {
     "name": "stdout",
     "output_type": "stream",
     "text": [
      "Pointplot generated\n",
      "Modelnames generated\n",
      "Setting rotations\n"
     ]
    },
    {
     "data": {
      "image/png": "[encoded data removed]",
      "text/plain": [
       "<Figure size 1152x720 with 1 Axes>"
      ]
     },
     "metadata": {
      "needs_background": "light"
     },
     "output_type": "display_data"
    }
   ],
   "source": [
    "CDHSample.plotSuccessRateOverTime(query=\"Channel=='Web'\")"
   ]
  },
  {
   "cell_type": "markdown",
   "metadata": {},
   "source": [
    "And if it is not interesting to consider the success rate over time, there is also 'plotPropositionSuccessRates', which by default considers the last state of the models and plots the histogram of their success rates."
   ]
  },
  {
   "cell_type": "code",
   "execution_count": 17,
   "metadata": {},
   "outputs": [
    {
     "data": {
      "image/png": "[encoded data removed]",
      "text/plain": [
       "<Figure size 864x576 with 1 Axes>"
      ]
     },
     "metadata": {
      "needs_background": "light"
     },
     "output_type": "display_data"
    }
   ],
   "source": [
    "CDHSample.plotPropositionSuccessRates(query=\"Channel=='Web'\")"
   ]
  },
  {
   "cell_type": "markdown",
   "metadata": {},
   "source": [
    "If we want to look at the distribution of responses and their propensities for a given model, we can subset that model and call plotScoreDistribution. Note here we subset the model by its ID."
   ]
  },
  {
   "cell_type": "code",
   "execution_count": 18,
   "metadata": {},
   "outputs": [
    {
     "data": {
      "image/png": "[encoded data removed]",
      "text/plain": [
       "<Figure size 1008x720 with 2 Axes>"
      ]
     },
     "metadata": {
      "needs_background": "light"
     },
     "output_type": "display_data"
    }
   ],
   "source": [
    "CDHSample.plotScoreDistribution(query='ModelID == \"08ca1302-9fc0-57bf-9031-d4179d400493\"')"
   ]
  },
  {
   "cell_type": "markdown",
   "metadata": {},
   "source": [
    "Alternatively, we can also subset a model by its model name, and then further drill down by group/issue/channel/configuration. See the example below."
   ]
  },
  {
   "cell_type": "code",
   "execution_count": 19,
   "metadata": {},
   "outputs": [
    {
     "data": {
      "image/png": "[encoded data removed]",
      "text/plain": [
       "<Figure size 1008x720 with 2 Axes>"
      ]
     },
     "metadata": {
      "needs_background": "light"
     },
     "output_type": "display_data"
    }
   ],
   "source": [
    "CDHSample.plotScoreDistribution(query='ModelName == \"HomeOwners\" and Group == \"Bundles\" and Issue == \"Sales\" and Channel == \"Web\" and Configuration == \"OmniAdaptiveModel\"')"
   ]
  },
  {
   "cell_type": "markdown",
   "metadata": {},
   "source": [
    "Similarly, we can also display the distribution of a single predictor and its binning. This function loops through each predictor of a model and generates the binning image for that predictor. For that reason we recommend subsetting the predictor names ahead of time or, depending on how many predictors the model has, a lot of images will be generated."
   ]
  },
  {
   "cell_type": "code",
   "execution_count": 20,
   "metadata": {},
   "outputs": [
    {
     "data": {
      "image/png": "[encoded data removed]",
      "text/plain": [
       "<Figure size 720x360 with 2 Axes>"
      ]
     },
     "metadata": {
      "needs_background": "light"
     },
     "output_type": "display_data"
    },
    {
     "data": {
      "image/png": "[encoded data removed]",
      "text/plain": [
       "<Figure size 720x360 with 2 Axes>"
      ]
     },
     "metadata": {
      "needs_background": "light"
     },
     "output_type": "display_data"
    },
    {
     "data": {
      "image/png": "[encoded data removed]",
      "text/plain": [
       "<Figure size 720x360 with 2 Axes>"
      ]
     },
     "metadata": {
      "needs_background": "light"
     },
     "output_type": "display_data"
    }
   ],
   "source": [
    "CDHSample.plotPredictorBinning(query=f'ModelID == \"08ca1302-9fc0-57bf-9031-d4179d400493\" and PredictorName in {[\"Customer.Age\", \"Customer.AnnualIncome\", \"IH.Email.Outbound.Accepted.pxLastGroupID\"]}')"
   ]
  },
  {
   "cell_type": "markdown",
   "metadata": {},
   "source": [
    "Alternatively we can look at the performance of a predictor over multiple models. Again, we recommend subsetting the predictor names with a list to make it more legible. "
   ]
  },
  {
   "cell_type": "code",
   "execution_count": 21,
   "metadata": {},
   "outputs": [
    {
     "data": {
      "application/vnd.plotly.v1+json": {
       "config": {
        "plotlyServerURL": "https://plot.ly"
       },
       "data": [
        {
         "alignmentgroup": "True",
         "fillcolor": "rgb(14,94,165)",
         "hovertemplate": "Legend=Customer<br>Performance=%{x}<br>Predictor Name=%{y}<extra></extra>",
         "legendgroup": "Customer",
         "marker": {
          "color": "rgb(0,0,0)"
         },
         "name": "Customer",
         "notched": false,
         "offsetgroup": "Customer",
         "orientation": "h",
         "showlegend": true,
         "type": "box",
         "width": 0.6,
         "x": [
          0.5,
          0.5,
          0.5,
          0.5,
          0.5,
          0.5,
          0.5,
          0.5,
          0.5,
          0.5,
          0.5,
          0.573139,
          0.573139,
          0.573139,
          0.573139,
          0.573139,
          0.573139,
          0.573139,
          0.573139,
          0.573139,
          0.573139,
          0.582431,
          0.582431,
          0.582431,
          0.592858,
          0.592858,
          0.592858,
          0.592858,
          0.592858,
          0.592858,
          0.592858,
          0.592858,
          0.592858,
          0.592858,
          0.592858,
          0.597588,
          0.597588,
          0.597588,
          0.597588,
          0.597588,
          0.597588,
          0.597588,
          0.597588,
          0.597588,
          0.597588,
          0.597588,
          0.59771,
          0.59771,
          0.59771,
          0.59771,
          0.59771,
          0.59771,
          0.59771,
          0.59771,
          0.59771,
          0.59771,
          0.59771,
          0.602006,
          0.602006,
          0.602006,
          0.604753,
          0.604753,
          0.604753,
          0.61523,
          0.61523,
          0.61523,
          0.61523,
          0.61523,
          0.61523,
          0.61523,
          0.61523,
          0.61523,
          0.61523,
          0.61523,
          0.623502,
          0.624839,
          0.625891,
          0.625891,
          0.631201,
          0.631201,
          0.634857,
          0.634857,
          0.634857,
          0.634857,
          0.635235,
          0.635235,
          0.635235,
          0.635235,
          0.638537,
          0.638537,
          0.638537,
          0.638537,
          0.638537,
          0.638537,
          0.644062,
          0.645449,
          0.645449,
          0.645449,
          0.645449,
          0.645449,
          0.645449,
          0.65074,
          0.65074,
          0.65074,
          0.65074,
          0.654762,
          0.654762,
          0.654762,
          0.654762,
          0.654762,
          0.654762,
          0.655498,
          0.655934,
          0.655934,
          0.655934,
          0.655934,
          0.655934,
          0.655934,
          0.655934,
          0.655934,
          0.655934,
          0.657909,
          0.657909,
          0.657909,
          0.657909,
          0.657909,
          0.657909,
          0.657909,
          0.657909,
          0.657909,
          0.657909,
          0.657909,
          0.660587,
          0.663632,
          0.673194,
          0.673194,
          0.678122,
          0.678122,
          0.678122,
          0.678122,
          0.678122,
          0.678751,
          0.678751,
          0.678751,
          0.678751,
          0.686593,
          0.689316,
          0.690493,
          0.690493,
          0.690493,
          0.690493,
          0.690493,
          0.690542,
          0.690542,
          0.690542,
          0.699779,
          0.699779,
          0.699779,
          0.711324,
          0.711324,
          0.711324,
          0.711324,
          0.711324,
          0.711324,
          0.711324,
          0.711324,
          0.711324,
          0.711324,
          0.713953,
          0.71921,
          0.71921,
          0.71921,
          0.71921,
          0.71921,
          0.71921,
          0.71921,
          0.71921,
          0.71921,
          0.71921,
          0.720121,
          0.720121,
          0.720121,
          0.720121,
          0.749141,
          0.749141,
          0.749141,
          0.768887,
          0.768887,
          0.768887,
          0.7818,
          0.7818,
          0.7818,
          0.863848,
          0.863848
         ],
         "x0": " ",
         "xaxis": "x",
         "y": [
          "Customer.Age",
          "Customer.Age",
          "Customer.Age",
          "Customer.AnnualIncome",
          "Customer.AnnualIncome",
          "Customer.Age",
          "Customer.AnnualIncome",
          "Customer.Age",
          "Customer.AnnualIncome",
          "Customer.Age",
          "Customer.AnnualIncome",
          "Customer.Age",
          "Customer.Age",
          "Customer.Age",
          "Customer.Age",
          "Customer.Age",
          "Customer.Age",
          "Customer.Age",
          "Customer.Age",
          "Customer.Age",
          "Customer.Age",
          "Customer.Age",
          "Customer.Age",
          "Customer.Age",
          "Customer.Age",
          "Customer.Age",
          "Customer.Age",
          "Customer.Age",
          "Customer.Age",
          "Customer.Age",
          "Customer.Age",
          "Customer.Age",
          "Customer.Age",
          "Customer.Age",
          "Customer.Age",
          "Customer.Age",
          "Customer.Age",
          "Customer.Age",
          "Customer.Age",
          "Customer.Age",
          "Customer.Age",
          "Customer.Age",
          "Customer.Age",
          "Customer.Age",
          "Customer.Age",
          "Customer.Age",
          "Customer.Age",
          "Customer.Age",
          "Customer.Age",
          "Customer.Age",
          "Customer.Age",
          "Customer.Age",
          "Customer.Age",
          "Customer.Age",
          "Customer.Age",
          "Customer.Age",
          "Customer.Age",
          "Customer.Age",
          "Customer.Age",
          "Customer.Age",
          "Customer.Age",
          "Customer.Age",
          "Customer.Age",
          "Customer.Age",
          "Customer.Age",
          "Customer.Age",
          "Customer.Age",
          "Customer.Age",
          "Customer.Age",
          "Customer.Age",
          "Customer.Age",
          "Customer.Age",
          "Customer.Age",
          "Customer.Age",
          "Customer.Age",
          "Customer.Age",
          "Customer.AnnualIncome",
          "Customer.AnnualIncome",
          "Customer.AnnualIncome",
          "Customer.AnnualIncome",
          "Customer.AnnualIncome",
          "Customer.AnnualIncome",
          "Customer.AnnualIncome",
          "Customer.AnnualIncome",
          "Customer.AnnualIncome",
          "Customer.AnnualIncome",
          "Customer.AnnualIncome",
          "Customer.AnnualIncome",
          "Customer.AnnualIncome",
          "Customer.AnnualIncome",
          "Customer.AnnualIncome",
          "Customer.AnnualIncome",
          "Customer.AnnualIncome",
          "Customer.AnnualIncome",
          "Customer.AnnualIncome",
          "Customer.AnnualIncome",
          "Customer.AnnualIncome",
          "Customer.AnnualIncome",
          "Customer.AnnualIncome",
          "Customer.AnnualIncome",
          "Customer.AnnualIncome",
          "Customer.Age",
          "Customer.Age",
          "Customer.Age",
          "Customer.Age",
          "Customer.Age",
          "Customer.Age",
          "Customer.Age",
          "Customer.Age",
          "Customer.Age",
          "Customer.Age",
          "Customer.AnnualIncome",
          "Customer.Age",
          "Customer.Age",
          "Customer.Age",
          "Customer.Age",
          "Customer.Age",
          "Customer.Age",
          "Customer.Age",
          "Customer.Age",
          "Customer.Age",
          "Customer.AnnualIncome",
          "Customer.AnnualIncome",
          "Customer.AnnualIncome",
          "Customer.AnnualIncome",
          "Customer.AnnualIncome",
          "Customer.AnnualIncome",
          "Customer.AnnualIncome",
          "Customer.AnnualIncome",
          "Customer.AnnualIncome",
          "Customer.AnnualIncome",
          "Customer.AnnualIncome",
          "Customer.Age",
          "Customer.Age",
          "Customer.AnnualIncome",
          "Customer.AnnualIncome",
          "Customer.AnnualIncome",
          "Customer.AnnualIncome",
          "Customer.AnnualIncome",
          "Customer.AnnualIncome",
          "Customer.AnnualIncome",
          "Customer.Age",
          "Customer.Age",
          "Customer.Age",
          "Customer.Age",
          "Customer.AnnualIncome",
          "Customer.Age",
          "Customer.AnnualIncome",
          "Customer.AnnualIncome",
          "Customer.AnnualIncome",
          "Customer.AnnualIncome",
          "Customer.AnnualIncome",
          "Customer.AnnualIncome",
          "Customer.AnnualIncome",
          "Customer.AnnualIncome",
          "Customer.Age",
          "Customer.Age",
          "Customer.Age",
          "Customer.AnnualIncome",
          "Customer.AnnualIncome",
          "Customer.AnnualIncome",
          "Customer.AnnualIncome",
          "Customer.AnnualIncome",
          "Customer.AnnualIncome",
          "Customer.AnnualIncome",
          "Customer.AnnualIncome",
          "Customer.AnnualIncome",
          "Customer.AnnualIncome",
          "Customer.Age",
          "Customer.AnnualIncome",
          "Customer.AnnualIncome",
          "Customer.AnnualIncome",
          "Customer.AnnualIncome",
          "Customer.AnnualIncome",
          "Customer.AnnualIncome",
          "Customer.AnnualIncome",
          "Customer.AnnualIncome",
          "Customer.AnnualIncome",
          "Customer.AnnualIncome",
          "Customer.Age",
          "Customer.Age",
          "Customer.Age",
          "Customer.Age",
          "Customer.AnnualIncome",
          "Customer.AnnualIncome",
          "Customer.AnnualIncome",
          "Customer.AnnualIncome",
          "Customer.AnnualIncome",
          "Customer.AnnualIncome",
          "Customer.AnnualIncome",
          "Customer.AnnualIncome",
          "Customer.AnnualIncome",
          "Customer.AnnualIncome",
          "Customer.AnnualIncome"
         ],
         "y0": " ",
         "yaxis": "y"
        },
        {
         "alignmentgroup": "True",
         "fillcolor": "rgb(28,168,154)",
         "hovertemplate": "Legend=IH<br>Performance=%{x}<br>Predictor Name=%{y}<extra></extra>",
         "legendgroup": "IH",
         "marker": {
          "color": "rgb(0,0,0)"
         },
         "name": "IH",
         "notched": false,
         "offsetgroup": "IH",
         "orientation": "h",
         "showlegend": true,
         "type": "box",
         "width": 0.6,
         "x": [
          0.510194,
          0.510194,
          0.510194,
          0.530076,
          0.530076,
          0.530076,
          0.534604,
          0.534604,
          0.5398,
          0.5398,
          0.5398,
          0.5398,
          0.5398,
          0.544165,
          0.545739,
          0.545739,
          0.545739,
          0.545739,
          0.545739,
          0.545739,
          0.548175,
          0.548175,
          0.548175,
          0.548175,
          0.548175,
          0.548175,
          0.548175,
          0.55282,
          0.559406,
          0.559497,
          0.559497,
          0.559497,
          0.559497,
          0.559497,
          0.559497,
          0.563398,
          0.563398,
          0.563398,
          0.563398,
          0.563398,
          0.563398,
          0.572565,
          0.572565,
          0.572565,
          0.575792,
          0.575792,
          0.576528,
          0.576528,
          0.576528,
          0.57819,
          0.57894,
          0.57894,
          0.57894,
          0.57894,
          0.57894,
          0.57894,
          0.57894,
          0.591166,
          0.591166,
          0.591166,
          0.591166,
          0.591166,
          0.605249,
          0.605249,
          0.605249,
          0.605249,
          0.622877,
          0.622877,
          0.622877,
          0.622877,
          0.622951,
          0.627857,
          0.627857,
          0.627857,
          0.627857,
          0.627857,
          0.627857,
          0.627857,
          0.634068,
          0.634068,
          0.63696,
          0.63696,
          0.63696,
          0.63696,
          0.63696,
          0.63696,
          0.665254,
          0.667804,
          0.667804,
          0.667804,
          0.667804,
          0.667804,
          0.667804,
          0.667804,
          0.676683,
          0.676683,
          0.676683,
          0.676683,
          0.676683,
          0.67883,
          0.67883,
          0.67883,
          0.67883,
          0.67883
         ],
         "x0": " ",
         "xaxis": "x",
         "y": [
          "IH.Email.Outbound.Accepted.pxLastGroupID",
          "IH.Email.Outbound.Accepted.pxLastGroupID",
          "IH.Email.Outbound.Accepted.pxLastGroupID",
          "IH.Email.Outbound.Accepted.pxLastGroupID",
          "IH.Email.Outbound.Accepted.pxLastGroupID",
          "IH.Email.Outbound.Accepted.pxLastGroupID",
          "IH.Email.Outbound.Accepted.pxLastGroupID",
          "IH.Email.Outbound.Accepted.pxLastGroupID",
          "IH.Email.Outbound.Accepted.pxLastGroupID",
          "IH.Email.Outbound.Accepted.pxLastGroupID",
          "IH.Email.Outbound.Accepted.pxLastGroupID",
          "IH.Email.Outbound.Accepted.pxLastGroupID",
          "IH.Email.Outbound.Accepted.pxLastGroupID",
          "IH.Email.Outbound.Accepted.pxLastGroupID",
          "IH.Email.Outbound.Accepted.pxLastGroupID",
          "IH.Email.Outbound.Accepted.pxLastGroupID",
          "IH.Email.Outbound.Accepted.pxLastGroupID",
          "IH.Email.Outbound.Accepted.pxLastGroupID",
          "IH.Email.Outbound.Accepted.pxLastGroupID",
          "IH.Email.Outbound.Accepted.pxLastGroupID",
          "IH.Email.Outbound.Accepted.pxLastGroupID",
          "IH.Email.Outbound.Accepted.pxLastGroupID",
          "IH.Email.Outbound.Accepted.pxLastGroupID",
          "IH.Email.Outbound.Accepted.pxLastGroupID",
          "IH.Email.Outbound.Accepted.pxLastGroupID",
          "IH.Email.Outbound.Accepted.pxLastGroupID",
          "IH.Email.Outbound.Accepted.pxLastGroupID",
          "IH.Email.Outbound.Accepted.pxLastGroupID",
          "IH.Email.Outbound.Accepted.pxLastGroupID",
          "IH.Email.Outbound.Accepted.pxLastGroupID",
          "IH.Email.Outbound.Accepted.pxLastGroupID",
          "IH.Email.Outbound.Accepted.pxLastGroupID",
          "IH.Email.Outbound.Accepted.pxLastGroupID",
          "IH.Email.Outbound.Accepted.pxLastGroupID",
          "IH.Email.Outbound.Accepted.pxLastGroupID",
          "IH.Email.Outbound.Accepted.pxLastGroupID",
          "IH.Email.Outbound.Accepted.pxLastGroupID",
          "IH.Email.Outbound.Accepted.pxLastGroupID",
          "IH.Email.Outbound.Accepted.pxLastGroupID",
          "IH.Email.Outbound.Accepted.pxLastGroupID",
          "IH.Email.Outbound.Accepted.pxLastGroupID",
          "IH.Email.Outbound.Accepted.pxLastGroupID",
          "IH.Email.Outbound.Accepted.pxLastGroupID",
          "IH.Email.Outbound.Accepted.pxLastGroupID",
          "IH.Email.Outbound.Accepted.pxLastGroupID",
          "IH.Email.Outbound.Accepted.pxLastGroupID",
          "IH.Email.Outbound.Accepted.pxLastGroupID",
          "IH.Email.Outbound.Accepted.pxLastGroupID",
          "IH.Email.Outbound.Accepted.pxLastGroupID",
          "IH.Email.Outbound.Accepted.pxLastGroupID",
          "IH.Email.Outbound.Accepted.pxLastGroupID",
          "IH.Email.Outbound.Accepted.pxLastGroupID",
          "IH.Email.Outbound.Accepted.pxLastGroupID",
          "IH.Email.Outbound.Accepted.pxLastGroupID",
          "IH.Email.Outbound.Accepted.pxLastGroupID",
          "IH.Email.Outbound.Accepted.pxLastGroupID",
          "IH.Email.Outbound.Accepted.pxLastGroupID",
          "IH.Email.Outbound.Accepted.pxLastGroupID",
          "IH.Email.Outbound.Accepted.pxLastGroupID",
          "IH.Email.Outbound.Accepted.pxLastGroupID",
          "IH.Email.Outbound.Accepted.pxLastGroupID",
          "IH.Email.Outbound.Accepted.pxLastGroupID",
          "IH.Email.Outbound.Accepted.pxLastGroupID",
          "IH.Email.Outbound.Accepted.pxLastGroupID",
          "IH.Email.Outbound.Accepted.pxLastGroupID",
          "IH.Email.Outbound.Accepted.pxLastGroupID",
          "IH.Email.Outbound.Accepted.pxLastGroupID",
          "IH.Email.Outbound.Accepted.pxLastGroupID",
          "IH.Email.Outbound.Accepted.pxLastGroupID",
          "IH.Email.Outbound.Accepted.pxLastGroupID",
          "IH.Email.Outbound.Accepted.pxLastGroupID",
          "IH.Email.Outbound.Accepted.pxLastGroupID",
          "IH.Email.Outbound.Accepted.pxLastGroupID",
          "IH.Email.Outbound.Accepted.pxLastGroupID",
          "IH.Email.Outbound.Accepted.pxLastGroupID",
          "IH.Email.Outbound.Accepted.pxLastGroupID",
          "IH.Email.Outbound.Accepted.pxLastGroupID",
          "IH.Email.Outbound.Accepted.pxLastGroupID",
          "IH.Email.Outbound.Accepted.pxLastGroupID",
          "IH.Email.Outbound.Accepted.pxLastGroupID",
          "IH.Email.Outbound.Accepted.pxLastGroupID",
          "IH.Email.Outbound.Accepted.pxLastGroupID",
          "IH.Email.Outbound.Accepted.pxLastGroupID",
          "IH.Email.Outbound.Accepted.pxLastGroupID",
          "IH.Email.Outbound.Accepted.pxLastGroupID",
          "IH.Email.Outbound.Accepted.pxLastGroupID",
          "IH.Email.Outbound.Accepted.pxLastGroupID",
          "IH.Email.Outbound.Accepted.pxLastGroupID",
          "IH.Email.Outbound.Accepted.pxLastGroupID",
          "IH.Email.Outbound.Accepted.pxLastGroupID",
          "IH.Email.Outbound.Accepted.pxLastGroupID",
          "IH.Email.Outbound.Accepted.pxLastGroupID",
          "IH.Email.Outbound.Accepted.pxLastGroupID",
          "IH.Email.Outbound.Accepted.pxLastGroupID",
          "IH.Email.Outbound.Accepted.pxLastGroupID",
          "IH.Email.Outbound.Accepted.pxLastGroupID",
          "IH.Email.Outbound.Accepted.pxLastGroupID",
          "IH.Email.Outbound.Accepted.pxLastGroupID",
          "IH.Email.Outbound.Accepted.pxLastGroupID",
          "IH.Email.Outbound.Accepted.pxLastGroupID",
          "IH.Email.Outbound.Accepted.pxLastGroupID",
          "IH.Email.Outbound.Accepted.pxLastGroupID",
          "IH.Email.Outbound.Accepted.pxLastGroupID",
          "IH.Email.Outbound.Accepted.pxLastGroupID"
         ],
         "y0": " ",
         "yaxis": "y"
        }
       ],
       "layout": {
        "boxgap": 0,
        "boxgroupgap": 0,
        "boxmode": "group",
        "legend": {
         "title": {
          "text": "Predictor type"
         },
         "tracegroupgap": 0
        },
        "template": {
         "data": {
          "scatter": [
           {
            "type": "scatter"
           }
          ]
         }
        },
        "title": {
         "text": "Predictor performance over all models <br><sup>Query: PredictorName in ['Customer.Age', 'Customer.AnnualIncome', 'IH.Email.Outbound.Accepted.pxLastGroupID']</sup>"
        },
        "xaxis": {
         "anchor": "y",
         "domain": [
          0,
          1
         ],
         "title": {
          "text": "Performance"
         }
        },
        "yaxis": {
         "anchor": "x",
         "automargin": true,
         "categoryarray": [
          "IH.Email.Outbound.Accepted.pxLastGroupID",
          "Customer.Age",
          "Customer.AnnualIncome"
         ],
         "categoryorder": "array",
         "domain": [
          0,
          1
         ],
         "dtick": 1,
         "title": {
          "text": "Predictor Name"
         }
        }
       }
      }
     },
     "metadata": {},
     "output_type": "display_data"
    }
   ],
   "source": [
    "plot = CDHSample.plotPredictorPerformance(query=f'PredictorName in {[\"Customer.Age\", \"Customer.AnnualIncome\", \"IH.Email.Outbound.Accepted.pxLastGroupID\"]}')"
   ]
  },
  {
   "cell_type": "markdown",
   "metadata": {},
   "source": [
    "What the two previous visualisations could not represent very well is the performance of the predictors over different models. That is what the plotPredictorPerformanceHeatmap function does; again with subsetting of predictors as a recommended step."
   ]
  },
  {
   "cell_type": "code",
   "execution_count": 22,
   "metadata": {},
   "outputs": [
    {
     "data": {
      "application/vnd.plotly.v1+json": {
       "config": {
        "plotlyServerURL": "https://plot.ly"
       },
       "data": [
        {
         "coloraxis": "coloraxis",
         "hovertemplate": "ModelName: %{x}<br>PredictorName: %{y}<br>color: %{z}<extra></extra>",
         "name": "0",
         "texttemplate": "%{z:.0%}",
         "type": "heatmap",
         "x": [
          "ChannelAction_Template",
          "AutoNew84Months",
          "AutoUsed60Months",
          "AutoUsed48Months",
          "AutoNew36Months",
          "HomeOwners",
          "AutoUsed84Months",
          "FirstMortgageFiveOneARM",
          "FirstMortgage",
          "AutoUsed36Months",
          "AutoNew48Months",
          "FirstMortgageFloat",
          "FirstMortgageFHA"
         ],
         "xaxis": "x",
         "y": [
          "Customer.AnnualIncome",
          "Customer.Age",
          "IH.Email.Outbound.Accepted.pxLastGroupID"
         ],
         "yaxis": "y",
         "z": [
          [
           0.863848,
           0.7222449090909091,
           0.6905420000000001,
           0.631201,
           0.71135,
           0.715267,
           0.6720352857142858,
           0.634051125,
           0.6378385454545454,
           0.6468845714285715,
           0.657909,
           0.5,
           0.5
          ],
          [
           0.7033225000000001,
           0.6440812307692307,
           0.678751,
           0.6187115,
           0.6760968,
           0.607889125,
           0.632046,
           0.6175865,
           0.59771,
           0.592858,
           0.573139,
           0.5,
           0.5
          ],
          [
           0.667804,
           0.6033985,
           0.591166,
           0.67883,
           0.639124875,
           0.5624975714285714,
           0.5947046666666667,
           0.597759076923077,
           0.5405274999999999,
           0.5467505714285714,
           0.548175,
           0.5820383333333333,
           0.578154
          ]
         ]
        }
       ],
       "layout": {
        "coloraxis": {
         "cmax": 1,
         "cmin": 0.5,
         "colorscale": [
          [
           0,
           "#d91c29"
          ],
          [
           0.01,
           "#F76923"
          ],
          [
           0.3,
           "#20aa50"
          ],
          [
           0.8,
           "#20aa50"
          ],
          [
           1,
           "#0000FF"
          ]
         ]
        },
        "template": {
         "data": {
          "bar": [
           {
            "error_x": {
             "color": "#2a3f5f"
            },
            "error_y": {
             "color": "#2a3f5f"
            },
            "marker": {
             "line": {
              "color": "#E5ECF6",
              "width": 0.5
             },
             "pattern": {
              "fillmode": "overlay",
              "size": 10,
              "solidity": 0.2
             }
            },
            "type": "bar"
           }
          ],
          "barpolar": [
           {
            "marker": {
             "line": {
              "color": "#E5ECF6",
              "width": 0.5
             },
             "pattern": {
              "fillmode": "overlay",
              "size": 10,
              "solidity": 0.2
             }
            },
            "type": "barpolar"
           }
          ],
          "carpet": [
           {
            "aaxis": {
             "endlinecolor": "#2a3f5f",
             "gridcolor": "white",
             "linecolor": "white",
             "minorgridcolor": "white",
             "startlinecolor": "#2a3f5f"
            },
            "baxis": {
             "endlinecolor": "#2a3f5f",
             "gridcolor": "white",
             "linecolor": "white",
             "minorgridcolor": "white",
             "startlinecolor": "#2a3f5f"
            },
            "type": "carpet"
           }
          ],
          "choropleth": [
           {
            "colorbar": {
             "outlinewidth": 0,
             "ticks": ""
            },
            "type": "choropleth"
           }
          ],
          "contour": [
           {
            "colorbar": {
             "outlinewidth": 0,
             "ticks": ""
            },
            "colorscale": [
             [
              0,
              "#0d0887"
             ],
             [
              0.1111111111111111,
              "#46039f"
             ],
             [
              0.2222222222222222,
              "#7201a8"
             ],
             [
              0.3333333333333333,
              "#9c179e"
             ],
             [
              0.4444444444444444,
              "#bd3786"
             ],
             [
              0.5555555555555556,
              "#d8576b"
             ],
             [
              0.6666666666666666,
              "#ed7953"
             ],
             [
              0.7777777777777778,
              "#fb9f3a"
             ],
             [
              0.8888888888888888,
              "#fdca26"
             ],
             [
              1,
              "#f0f921"
             ]
            ],
            "type": "contour"
           }
          ],
          "contourcarpet": [
           {
            "colorbar": {
             "outlinewidth": 0,
             "ticks": ""
            },
            "type": "contourcarpet"
           }
          ],
          "heatmap": [
           {
            "colorbar": {
             "outlinewidth": 0,
             "ticks": ""
            },
            "colorscale": [
             [
              0,
              "#0d0887"
             ],
             [
              0.1111111111111111,
              "#46039f"
             ],
             [
              0.2222222222222222,
              "#7201a8"
             ],
             [
              0.3333333333333333,
              "#9c179e"
             ],
             [
              0.4444444444444444,
              "#bd3786"
             ],
             [
              0.5555555555555556,
              "#d8576b"
             ],
             [
              0.6666666666666666,
              "#ed7953"
             ],
             [
              0.7777777777777778,
              "#fb9f3a"
             ],
             [
              0.8888888888888888,
              "#fdca26"
             ],
             [
              1,
              "#f0f921"
             ]
            ],
            "type": "heatmap"
           }
          ],
          "heatmapgl": [
           {
            "colorbar": {
             "outlinewidth": 0,
             "ticks": ""
            },
            "colorscale": [
             [
              0,
              "#0d0887"
             ],
             [
              0.1111111111111111,
              "#46039f"
             ],
             [
              0.2222222222222222,
              "#7201a8"
             ],
             [
              0.3333333333333333,
              "#9c179e"
             ],
             [
              0.4444444444444444,
              "#bd3786"
             ],
             [
              0.5555555555555556,
              "#d8576b"
             ],
             [
              0.6666666666666666,
              "#ed7953"
             ],
             [
              0.7777777777777778,
              "#fb9f3a"
             ],
             [
              0.8888888888888888,
              "#fdca26"
             ],
             [
              1,
              "#f0f921"
             ]
            ],
            "type": "heatmapgl"
           }
          ],
          "histogram": [
           {
            "marker": {
             "pattern": {
              "fillmode": "overlay",
              "size": 10,
              "solidity": 0.2
             }
            },
            "type": "histogram"
           }
          ],
          "histogram2d": [
           {
            "colorbar": {
             "outlinewidth": 0,
             "ticks": ""
            },
            "colorscale": [
             [
              0,
              "#0d0887"
             ],
             [
              0.1111111111111111,
              "#46039f"
             ],
             [
              0.2222222222222222,
              "#7201a8"
             ],
             [
              0.3333333333333333,
              "#9c179e"
             ],
             [
              0.4444444444444444,
              "#bd3786"
             ],
             [
              0.5555555555555556,
              "#d8576b"
             ],
             [
              0.6666666666666666,
              "#ed7953"
             ],
             [
              0.7777777777777778,
              "#fb9f3a"
             ],
             [
              0.8888888888888888,
              "#fdca26"
             ],
             [
              1,
              "#f0f921"
             ]
            ],
            "type": "histogram2d"
           }
          ],
          "histogram2dcontour": [
           {
            "colorbar": {
             "outlinewidth": 0,
             "ticks": ""
            },
            "colorscale": [
             [
              0,
              "#0d0887"
             ],
             [
              0.1111111111111111,
              "#46039f"
             ],
             [
              0.2222222222222222,
              "#7201a8"
             ],
             [
              0.3333333333333333,
              "#9c179e"
             ],
             [
              0.4444444444444444,
              "#bd3786"
             ],
             [
              0.5555555555555556,
              "#d8576b"
             ],
             [
              0.6666666666666666,
              "#ed7953"
             ],
             [
              0.7777777777777778,
              "#fb9f3a"
             ],
             [
              0.8888888888888888,
              "#fdca26"
             ],
             [
              1,
              "#f0f921"
             ]
            ],
            "type": "histogram2dcontour"
           }
          ],
          "mesh3d": [
           {
            "colorbar": {
             "outlinewidth": 0,
             "ticks": ""
            },
            "type": "mesh3d"
           }
          ],
          "parcoords": [
           {
            "line": {
             "colorbar": {
              "outlinewidth": 0,
              "ticks": ""
             }
            },
            "type": "parcoords"
           }
          ],
          "pie": [
           {
            "automargin": true,
            "type": "pie"
           }
          ],
          "scatter": [
           {
            "marker": {
             "colorbar": {
              "outlinewidth": 0,
              "ticks": ""
             }
            },
            "type": "scatter"
           }
          ],
          "scatter3d": [
           {
            "line": {
             "colorbar": {
              "outlinewidth": 0,
              "ticks": ""
             }
            },
            "marker": {
             "colorbar": {
              "outlinewidth": 0,
              "ticks": ""
             }
            },
            "type": "scatter3d"
           }
          ],
          "scattercarpet": [
           {
            "marker": {
             "colorbar": {
              "outlinewidth": 0,
              "ticks": ""
             }
            },
            "type": "scattercarpet"
           }
          ],
          "scattergeo": [
           {
            "marker": {
             "colorbar": {
              "outlinewidth": 0,
              "ticks": ""
             }
            },
            "type": "scattergeo"
           }
          ],
          "scattergl": [
           {
            "marker": {
             "colorbar": {
              "outlinewidth": 0,
              "ticks": ""
             }
            },
            "type": "scattergl"
           }
          ],
          "scattermapbox": [
           {
            "marker": {
             "colorbar": {
              "outlinewidth": 0,
              "ticks": ""
             }
            },
            "type": "scattermapbox"
           }
          ],
          "scatterpolar": [
           {
            "marker": {
             "colorbar": {
              "outlinewidth": 0,
              "ticks": ""
             }
            },
            "type": "scatterpolar"
           }
          ],
          "scatterpolargl": [
           {
            "marker": {
             "colorbar": {
              "outlinewidth": 0,
              "ticks": ""
             }
            },
            "type": "scatterpolargl"
           }
          ],
          "scatterternary": [
           {
            "marker": {
             "colorbar": {
              "outlinewidth": 0,
              "ticks": ""
             }
            },
            "type": "scatterternary"
           }
          ],
          "surface": [
           {
            "colorbar": {
             "outlinewidth": 0,
             "ticks": ""
            },
            "colorscale": [
             [
              0,
              "#0d0887"
             ],
             [
              0.1111111111111111,
              "#46039f"
             ],
             [
              0.2222222222222222,
              "#7201a8"
             ],
             [
              0.3333333333333333,
              "#9c179e"
             ],
             [
              0.4444444444444444,
              "#bd3786"
             ],
             [
              0.5555555555555556,
              "#d8576b"
             ],
             [
              0.6666666666666666,
              "#ed7953"
             ],
             [
              0.7777777777777778,
              "#fb9f3a"
             ],
             [
              0.8888888888888888,
              "#fdca26"
             ],
             [
              1,
              "#f0f921"
             ]
            ],
            "type": "surface"
           }
          ],
          "table": [
           {
            "cells": {
             "fill": {
              "color": "#EBF0F8"
             },
             "line": {
              "color": "white"
             }
            },
            "header": {
             "fill": {
              "color": "#C8D4E3"
             },
             "line": {
              "color": "white"
             }
            },
            "type": "table"
           }
          ]
         },
         "layout": {
          "annotationdefaults": {
           "arrowcolor": "#2a3f5f",
           "arrowhead": 0,
           "arrowwidth": 1
          },
          "autotypenumbers": "strict",
          "coloraxis": {
           "colorbar": {
            "outlinewidth": 0,
            "ticks": ""
           }
          },
          "colorscale": {
           "diverging": [
            [
             0,
             "#8e0152"
            ],
            [
             0.1,
             "#c51b7d"
            ],
            [
             0.2,
             "#de77ae"
            ],
            [
             0.3,
             "#f1b6da"
            ],
            [
             0.4,
             "#fde0ef"
            ],
            [
             0.5,
             "#f7f7f7"
            ],
            [
             0.6,
             "#e6f5d0"
            ],
            [
             0.7,
             "#b8e186"
            ],
            [
             0.8,
             "#7fbc41"
            ],
            [
             0.9,
             "#4d9221"
            ],
            [
             1,
             "#276419"
            ]
           ],
           "sequential": [
            [
             0,
             "#0d0887"
            ],
            [
             0.1111111111111111,
             "#46039f"
            ],
            [
             0.2222222222222222,
             "#7201a8"
            ],
            [
             0.3333333333333333,
             "#9c179e"
            ],
            [
             0.4444444444444444,
             "#bd3786"
            ],
            [
             0.5555555555555556,
             "#d8576b"
            ],
            [
             0.6666666666666666,
             "#ed7953"
            ],
            [
             0.7777777777777778,
             "#fb9f3a"
            ],
            [
             0.8888888888888888,
             "#fdca26"
            ],
            [
             1,
             "#f0f921"
            ]
           ],
           "sequentialminus": [
            [
             0,
             "#0d0887"
            ],
            [
             0.1111111111111111,
             "#46039f"
            ],
            [
             0.2222222222222222,
             "#7201a8"
            ],
            [
             0.3333333333333333,
             "#9c179e"
            ],
            [
             0.4444444444444444,
             "#bd3786"
            ],
            [
             0.5555555555555556,
             "#d8576b"
            ],
            [
             0.6666666666666666,
             "#ed7953"
            ],
            [
             0.7777777777777778,
             "#fb9f3a"
            ],
            [
             0.8888888888888888,
             "#fdca26"
            ],
            [
             1,
             "#f0f921"
            ]
           ]
          },
          "colorway": [
           "#636efa",
           "#EF553B",
           "#00cc96",
           "#ab63fa",
           "#FFA15A",
           "#19d3f3",
           "#FF6692",
           "#B6E880",
           "#FF97FF",
           "#FECB52"
          ],
          "font": {
           "color": "#2a3f5f"
          },
          "geo": {
           "bgcolor": "white",
           "lakecolor": "white",
           "landcolor": "#E5ECF6",
           "showlakes": true,
           "showland": true,
           "subunitcolor": "white"
          },
          "hoverlabel": {
           "align": "left"
          },
          "hovermode": "closest",
          "mapbox": {
           "style": "light"
          },
          "paper_bgcolor": "white",
          "plot_bgcolor": "#E5ECF6",
          "polar": {
           "angularaxis": {
            "gridcolor": "white",
            "linecolor": "white",
            "ticks": ""
           },
           "bgcolor": "#E5ECF6",
           "radialaxis": {
            "gridcolor": "white",
            "linecolor": "white",
            "ticks": ""
           }
          },
          "scene": {
           "xaxis": {
            "backgroundcolor": "#E5ECF6",
            "gridcolor": "white",
            "gridwidth": 2,
            "linecolor": "white",
            "showbackground": true,
            "ticks": "",
            "zerolinecolor": "white"
           },
           "yaxis": {
            "backgroundcolor": "#E5ECF6",
            "gridcolor": "white",
            "gridwidth": 2,
            "linecolor": "white",
            "showbackground": true,
            "ticks": "",
            "zerolinecolor": "white"
           },
           "zaxis": {
            "backgroundcolor": "#E5ECF6",
            "gridcolor": "white",
            "gridwidth": 2,
            "linecolor": "white",
            "showbackground": true,
            "ticks": "",
            "zerolinecolor": "white"
           }
          },
          "shapedefaults": {
           "line": {
            "color": "#2a3f5f"
           }
          },
          "ternary": {
           "aaxis": {
            "gridcolor": "white",
            "linecolor": "white",
            "ticks": ""
           },
           "baxis": {
            "gridcolor": "white",
            "linecolor": "white",
            "ticks": ""
           },
           "bgcolor": "#E5ECF6",
           "caxis": {
            "gridcolor": "white",
            "linecolor": "white",
            "ticks": ""
           }
          },
          "title": {
           "x": 0.05
          },
          "xaxis": {
           "automargin": true,
           "gridcolor": "white",
           "linecolor": "white",
           "ticks": "",
           "title": {
            "standoff": 15
           },
           "zerolinecolor": "white",
           "zerolinewidth": 2
          },
          "yaxis": {
           "automargin": true,
           "gridcolor": "white",
           "linecolor": "white",
           "ticks": "",
           "title": {
            "standoff": 15
           },
           "zerolinecolor": "white",
           "zerolinewidth": 2
          }
         }
        },
        "title": {
         "text": "Top predictors over all models <br><sup>Query: PredictorName in ['Customer.Age', 'Customer.AnnualIncome', 'IH.Email.Outbound.Accepted.pxLastGroupID']</sup>"
        },
        "xaxis": {
         "anchor": "y",
         "domain": [
          0,
          1
         ],
         "dtick": 1,
         "title": {
          "text": "ModelName"
         }
        },
        "yaxis": {
         "anchor": "x",
         "automargin": true,
         "autorange": "reversed",
         "domain": [
          0,
          1
         ],
         "dtick": 1,
         "title": {
          "text": "PredictorName"
         }
        }
       }
      }
     },
     "metadata": {},
     "output_type": "display_data"
    }
   ],
   "source": [
    "plot = CDHSample.plotPredictorPerformanceHeatmap(query=f'PredictorName in {[\"Customer.Age\", \"Customer.AnnualIncome\", \"IH.Email.Outbound.Accepted.pxLastGroupID\"]}')"
   ]
  },
  {
   "cell_type": "code",
   "execution_count": null,
   "metadata": {},
   "outputs": [],
   "source": []
  }
 ],
 "metadata": {
  "interpreter": {
   "hash": "31f2aee4e71d21fbe5cf8b01ff0e069b9275f58929596ceb00d14d90e3e16cd6"
  },
  "kernelspec": {
   "display_name": "Python 3.8.2 64-bit",
   "language": "python",
   "name": "python3"
  },
  "language_info": {
   "codemirror_mode": {
    "name": "ipython",
    "version": 3
   },
   "file_extension": ".py",
   "mimetype": "text/x-python",
   "name": "python",
   "nbconvert_exporter": "python",
   "pygments_lexer": "ipython3",
   "version": "3.8.2"
  },
  "orig_nbformat": 4
 },
 "nbformat": 4,
 "nbformat_minor": 2
}
