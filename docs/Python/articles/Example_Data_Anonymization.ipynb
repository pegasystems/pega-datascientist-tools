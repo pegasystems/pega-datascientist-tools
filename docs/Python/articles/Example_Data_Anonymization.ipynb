{
 "cells": [
  {
   "attachments": {},
   "cell_type": "markdown",
   "metadata": {},
   "source": [
    "# Example data anonymization\n",
    "\n",
    "In Pega CDH 8.5 and up, it's now possible to record the historical data as seen by the Adaptive Models. See [this academy challenge](https://academy.pega.com/challenge/exporting-historical-data/v4) for reference. This historical data can be further used to experiment with offline models, but also to fine-tune the OOTB Gradient Boosting model. However, sharing this information with Pega can be sensitive as it contains raw predictor data. \n",
    "\n",
    "To this end, we provide a simple and transparent script to fully anonimize this dataset.\n",
    "\n",
    "The DataAnonymization script is now part of pdstools, and you can import it directly as such."
   ]
  },
  {
   "cell_type": "code",
   "execution_count": 1,
   "metadata": {
    "execution": {
     "iopub.execute_input": "2023-03-14T17:30:47.097717Z",
     "iopub.status.busy": "2023-03-14T17:30:47.097425Z",
     "iopub.status.idle": "2023-03-14T17:30:47.105928Z",
     "shell.execute_reply": "2023-03-14T17:30:47.105158Z"
    },
    "nbsphinx": "hidden"
   },
   "outputs": [],
   "source": [
    "# These lines are only for rendering in the docs, and are hidden through Jupyter tags\n",
    "# Do not run if you're running the notebook seperately\n",
    "\n",
    "import sys\n",
    "sys.path.append('../../../')"
   ]
  },
  {
   "cell_type": "code",
   "execution_count": 2,
   "metadata": {
    "execution": {
     "iopub.execute_input": "2023-03-14T17:30:47.109505Z",
     "iopub.status.busy": "2023-03-14T17:30:47.109263Z",
     "iopub.status.idle": "2023-03-14T17:30:48.875476Z",
     "shell.execute_reply": "2023-03-14T17:30:48.874982Z"
    }
   },
   "outputs": [],
   "source": [
    "from pdstools import ADMDatamart\n",
    "from pdstools import Config, DataAnonymization\n",
    "import polars as pl"
   ]
  },
  {
   "attachments": {},
   "cell_type": "markdown",
   "metadata": {},
   "source": [
    "## Input data\n",
    "\n",
    "To demonstrate this process, we're going to anonymise this toy example dataframe:"
   ]
  },
  {
   "cell_type": "code",
   "execution_count": 3,
   "metadata": {
    "execution": {
     "iopub.execute_input": "2023-03-14T17:30:48.878399Z",
     "iopub.status.busy": "2023-03-14T17:30:48.878122Z",
     "iopub.status.idle": "2023-03-14T17:30:48.886468Z",
     "shell.execute_reply": "2023-03-14T17:30:48.885899Z"
    }
   },
   "outputs": [
    {
     "data": {
      "text/html": [
       "<div><style>\n",
       ".dataframe > thead > tr > th,\n",
       ".dataframe > tbody > tr > td {\n",
       "  text-align: right;\n",
       "}\n",
       "</style>\n",
       "<small>shape: (7, 6)</small><table border=\"1\" class=\"dataframe\"><thead><tr><th>Context_Name</th><th>Customer_MaritalStatus</th><th>Customer_CLV</th><th>Customer_City</th><th>IH_Web_Inbound_Accepted_pxLastGroupID</th><th>Decision_Outcome</th></tr><tr><td>str</td><td>str</td><td>i64</td><td>str</td><td>str</td><td>str</td></tr></thead><tbody><tr><td>&quot;FirstMortgage3...</td><td>&quot;Married&quot;</td><td>1460</td><td>&quot;Port Raoul&quot;</td><td>&quot;Account&quot;</td><td>&quot;Rejected&quot;</td></tr><tr><td>&quot;FirstMortgage3...</td><td>&quot;Unknown&quot;</td><td>669</td><td>&quot;Laurianneshire...</td><td>&quot;AutoLoans&quot;</td><td>&quot;Accepted&quot;</td></tr><tr><td>&quot;MoneyMarketSav...</td><td>&quot;No Resp+&quot;</td><td>1174</td><td>&quot;Jacobshaven&quot;</td><td>&quot;Account&quot;</td><td>&quot;Rejected&quot;</td></tr><tr><td>&quot;BasicChecking&quot;</td><td>&quot;Unknown&quot;</td><td>1476</td><td>&quot;Lindton&quot;</td><td>&quot;Account&quot;</td><td>&quot;Rejected&quot;</td></tr><tr><td>&quot;BasicChecking&quot;</td><td>&quot;Married&quot;</td><td>1211</td><td>&quot;South Jimmiesh...</td><td>&quot;DepositAccount...</td><td>&quot;Accepted&quot;</td></tr><tr><td>&quot;UPlusFinPerson...</td><td>&quot;No Resp+&quot;</td><td>533</td><td>&quot;Bergeville&quot;</td><td>null</td><td>&quot;Rejected&quot;</td></tr><tr><td>&quot;BasicChecking&quot;</td><td>&quot;No Resp+&quot;</td><td>555</td><td>&quot;Willyville&quot;</td><td>&quot;DepositAccount...</td><td>&quot;Rejected&quot;</td></tr></tbody></table></div>"
      ],
      "text/plain": [
       "shape: (7, 6)\n",
       "┌────────────────┬────────────────┬──────────────┬────────────────┬────────────────┬───────────────┐\n",
       "│ Context_Name   ┆ Customer_Marit ┆ Customer_CLV ┆ Customer_City  ┆ IH_Web_Inbound ┆ Decision_Outc │\n",
       "│ ---            ┆ alStatus       ┆ ---          ┆ ---            ┆ _Accepted_pxLa ┆ ome           │\n",
       "│ str            ┆ ---            ┆ i64          ┆ str            ┆ stGr...        ┆ ---           │\n",
       "│                ┆ str            ┆              ┆                ┆ ---            ┆ str           │\n",
       "│                ┆                ┆              ┆                ┆ str            ┆               │\n",
       "╞════════════════╪════════════════╪══════════════╪════════════════╪════════════════╪═══════════════╡\n",
       "│ FirstMortgage3 ┆ Married        ┆ 1460         ┆ Port Raoul     ┆ Account        ┆ Rejected      │\n",
       "│ 0yr            ┆                ┆              ┆                ┆                ┆               │\n",
       "│ FirstMortgage3 ┆ Unknown        ┆ 669          ┆ Laurianneshire ┆ AutoLoans      ┆ Accepted      │\n",
       "│ 0yr            ┆                ┆              ┆                ┆                ┆               │\n",
       "│ MoneyMarketSav ┆ No Resp+       ┆ 1174         ┆ Jacobshaven    ┆ Account        ┆ Rejected      │\n",
       "│ ingsAccount    ┆                ┆              ┆                ┆                ┆               │\n",
       "│ BasicChecking  ┆ Unknown        ┆ 1476         ┆ Lindton        ┆ Account        ┆ Rejected      │\n",
       "│ BasicChecking  ┆ Married        ┆ 1211         ┆ South          ┆ DepositAccount ┆ Accepted      │\n",
       "│                ┆                ┆              ┆ Jimmieshire    ┆ s              ┆               │\n",
       "│ UPlusFinPerson ┆ No Resp+       ┆ 533          ┆ Bergeville     ┆ null           ┆ Rejected      │\n",
       "│ al             ┆                ┆              ┆                ┆                ┆               │\n",
       "│ BasicChecking  ┆ No Resp+       ┆ 555          ┆ Willyville     ┆ DepositAccount ┆ Rejected      │\n",
       "│                ┆                ┆              ┆                ┆ s              ┆               │\n",
       "└────────────────┴────────────────┴──────────────┴────────────────┴────────────────┴───────────────┘"
      ]
     },
     "execution_count": 3,
     "metadata": {},
     "output_type": "execute_result"
    }
   ],
   "source": [
    "pl.read_ndjson('../../../../data/SampleHDS.json')"
   ]
  },
  {
   "attachments": {},
   "cell_type": "markdown",
   "metadata": {},
   "source": [
    "As you can see, this dataset consists of regular predictors, IH predictors, context keys and the outcome column. Additionally, some columns are numeric, others are strings. Let's first initialize the DataAnonymization class."
   ]
  },
  {
   "cell_type": "code",
   "execution_count": 4,
   "metadata": {
    "execution": {
     "iopub.execute_input": "2023-03-14T17:30:48.889790Z",
     "iopub.status.busy": "2023-03-14T17:30:48.889364Z",
     "iopub.status.idle": "2023-03-14T17:30:48.896568Z",
     "shell.execute_reply": "2023-03-14T17:30:48.895975Z"
    }
   },
   "outputs": [],
   "source": [
    "anon = DataAnonymization(hds_folder='../../../../data/')"
   ]
  },
  {
   "attachments": {},
   "cell_type": "markdown",
   "metadata": {},
   "source": [
    "By default, the class applies a set of anonymisation techniques:\n",
    "- Column names are remapped to a non-descriptive name\n",
    "- Categorical values are hashed with a random seed\n",
    "- Numerical values are normalized between 0 and 1\n",
    "- Outcomes are mapped to a binary outcome.\n",
    "\n",
    "To apply these techniques, simply call `.process()`:"
   ]
  },
  {
   "cell_type": "code",
   "execution_count": 5,
   "metadata": {
    "execution": {
     "iopub.execute_input": "2023-03-14T17:30:48.899218Z",
     "iopub.status.busy": "2023-03-14T17:30:48.899013Z",
     "iopub.status.idle": "2023-03-14T17:30:48.905507Z",
     "shell.execute_reply": "2023-03-14T17:30:48.905011Z"
    }
   },
   "outputs": [
    {
     "data": {
      "text/html": [
       "<div><style>\n",
       ".dataframe > thead > tr > th,\n",
       ".dataframe > tbody > tr > td {\n",
       "  text-align: right;\n",
       "}\n",
       "</style>\n",
       "<small>shape: (7, 6)</small><table border=\"1\" class=\"dataframe\"><thead><tr><th>PREDICTOR_0</th><th>PREDICTOR_1</th><th>PREDICTOR_2</th><th>CK_PREDICTOR_0</th><th>IH_PREDICTOR_0</th><th>OUTCOME</th></tr><tr><td>f64</td><td>str</td><td>str</td><td>str</td><td>str</td><td>bool</td></tr></thead><tbody><tr><td>0.983033</td><td>&quot;10351438876947...</td><td>&quot;23716298007734...</td><td>&quot;17925016031664...</td><td>&quot;54819093375454...</td><td>false</td></tr><tr><td>0.144221</td><td>&quot;87523394113139...</td><td>&quot;58335094937080...</td><td>&quot;17925016031664...</td><td>&quot;56575436797742...</td><td>true</td></tr><tr><td>0.679745</td><td>&quot;11497268930446...</td><td>&quot;82891935285723...</td><td>&quot;17584060957230...</td><td>&quot;54819093375454...</td><td>false</td></tr><tr><td>1.0</td><td>&quot;87523394113139...</td><td>&quot;76635517368914...</td><td>&quot;10616365382318...</td><td>&quot;54819093375454...</td><td>false</td></tr><tr><td>0.718982</td><td>&quot;10351438876947...</td><td>&quot;96034035185335...</td><td>&quot;10616365382318...</td><td>&quot;51444888907670...</td><td>true</td></tr><tr><td>0.0</td><td>&quot;11497268930446...</td><td>&quot;35479062579420...</td><td>&quot;10922250202202...</td><td>null</td><td>false</td></tr><tr><td>0.02333</td><td>&quot;11497268930446...</td><td>&quot;13951124795423...</td><td>&quot;10616365382318...</td><td>&quot;51444888907670...</td><td>false</td></tr></tbody></table></div>"
      ],
      "text/plain": [
       "shape: (7, 6)\n",
       "┌─────────────┬──────────────────┬──────────────────┬──────────────────┬─────────────────┬─────────┐\n",
       "│ PREDICTOR_0 ┆ PREDICTOR_1      ┆ PREDICTOR_2      ┆ CK_PREDICTOR_0   ┆ IH_PREDICTOR_0  ┆ OUTCOME │\n",
       "│ ---         ┆ ---              ┆ ---              ┆ ---              ┆ ---             ┆ ---     │\n",
       "│ f64         ┆ str              ┆ str              ┆ str              ┆ str             ┆ bool    │\n",
       "╞═════════════╪══════════════════╪══════════════════╪══════════════════╪═════════════════╪═════════╡\n",
       "│ 0.983033    ┆ 1035143887694749 ┆ 2371629800773493 ┆ 1792501603166480 ┆ 548190933754547 ┆ false   │\n",
       "│             ┆ 9169             ┆ 794              ┆ 370              ┆ 8419            ┆         │\n",
       "│ 0.144221    ┆ 8752339411313915 ┆ 5833509493708080 ┆ 1792501603166480 ┆ 565754367977423 ┆ true    │\n",
       "│             ┆ 618              ┆ 753              ┆ 370              ┆ 1321            ┆         │\n",
       "│ 0.679745    ┆ 1149726893044678 ┆ 8289193528572396 ┆ 1758406095723033 ┆ 548190933754547 ┆ false   │\n",
       "│             ┆ 9427             ┆ 789              ┆ 4776             ┆ 8419            ┆         │\n",
       "│ 1.0         ┆ 8752339411313915 ┆ 7663551736891421 ┆ 1061636538231857 ┆ 548190933754547 ┆ false   │\n",
       "│             ┆ 618              ┆ 821              ┆ 5624             ┆ 8419            ┆         │\n",
       "│ 0.718982    ┆ 1035143887694749 ┆ 9603403518533525 ┆ 1061636538231857 ┆ 514448889076707 ┆ true    │\n",
       "│             ┆ 9169             ┆ 041              ┆ 5624             ┆ 4554            ┆         │\n",
       "│ 0.0         ┆ 1149726893044678 ┆ 3547906257942035 ┆ 1092225020220287 ┆ null            ┆ false   │\n",
       "│             ┆ 9427             ┆ 421              ┆ 6846             ┆                 ┆         │\n",
       "│ 0.02333     ┆ 1149726893044678 ┆ 1395112479542336 ┆ 1061636538231857 ┆ 514448889076707 ┆ false   │\n",
       "│             ┆ 9427             ┆ 5945             ┆ 5624             ┆ 4554            ┆         │\n",
       "└─────────────┴──────────────────┴──────────────────┴──────────────────┴─────────────────┴─────────┘"
      ]
     },
     "execution_count": 5,
     "metadata": {},
     "output_type": "execute_result"
    }
   ],
   "source": [
    "anon.process()"
   ]
  },
  {
   "attachments": {},
   "cell_type": "markdown",
   "metadata": {},
   "source": [
    "To trace back the columns to their original names, the class also contains a mapping, which does not have to be provided."
   ]
  },
  {
   "cell_type": "code",
   "execution_count": 6,
   "metadata": {
    "execution": {
     "iopub.execute_input": "2023-03-14T17:30:48.908189Z",
     "iopub.status.busy": "2023-03-14T17:30:48.907971Z",
     "iopub.status.idle": "2023-03-14T17:30:48.911624Z",
     "shell.execute_reply": "2023-03-14T17:30:48.911143Z"
    }
   },
   "outputs": [
    {
     "data": {
      "text/plain": [
       "{'Customer_CLV': 'PREDICTOR_0',\n",
       " 'Customer_MaritalStatus': 'PREDICTOR_1',\n",
       " 'Customer_City': 'PREDICTOR_2',\n",
       " 'Context_Name': 'CK_PREDICTOR_0',\n",
       " 'IH_Web_Inbound_Accepted_pxLastGroupID': 'IH_PREDICTOR_0',\n",
       " 'Decision_Outcome': 'OUTCOME'}"
      ]
     },
     "execution_count": 6,
     "metadata": {},
     "output_type": "execute_result"
    }
   ],
   "source": [
    "anon.column_mapping"
   ]
  },
  {
   "attachments": {},
   "cell_type": "markdown",
   "metadata": {},
   "source": [
    "## Configs\n",
    "\n",
    "Each capability can optionally be turned off - see below for the full list of config options, and refer to the API reference for the full description."
   ]
  },
  {
   "cell_type": "code",
   "execution_count": 7,
   "metadata": {
    "execution": {
     "iopub.execute_input": "2023-03-14T17:30:48.914228Z",
     "iopub.status.busy": "2023-03-14T17:30:48.914029Z",
     "iopub.status.idle": "2023-03-14T17:30:48.917944Z",
     "shell.execute_reply": "2023-03-14T17:30:48.917499Z"
    }
   },
   "outputs": [
    {
     "data": {
      "text/plain": [
       "{'config_file': None,\n",
       " 'hds_folder': '.',\n",
       " 'use_datamart': False,\n",
       " 'datamart_folder': 'datamart',\n",
       " 'output_format': 'ndjson',\n",
       " 'output_folder': 'output',\n",
       " 'mapping_file': 'mapping.map',\n",
       " 'mask_predictor_names': True,\n",
       " 'mask_context_key_names': True,\n",
       " 'mask_ih_names': True,\n",
       " 'mask_outcome_name': True,\n",
       " 'mask_predictor_values': True,\n",
       " 'mask_context_key_values': True,\n",
       " 'mask_ih_values': True,\n",
       " 'mask_outcome_values': True,\n",
       " 'context_key_label': 'Context_*',\n",
       " 'ih_label': 'IH_*',\n",
       " 'outcome_column': 'Decision_Outcome',\n",
       " 'positive_outcomes': ['Accepted', 'Clicked'],\n",
       " 'negative_outcomes': ['Rejected', 'Impression'],\n",
       " 'special_predictors': ['Decision_DecisionTime', 'Decision_OutcomeTime']}"
      ]
     },
     "execution_count": 7,
     "metadata": {},
     "output_type": "execute_result"
    }
   ],
   "source": [
    "dict(zip(Config.__init__.__code__.co_varnames[1:], Config.__init__.__defaults__))"
   ]
  },
  {
   "attachments": {},
   "cell_type": "markdown",
   "metadata": {},
   "source": [
    "It's easy to change these parameters by just passing the keyword arguments. In the following example, we\n",
    "- Keep the IH predictor names\n",
    "- Keep the outcome values\n",
    "- Keep the context key values\n",
    "- Keep the context key predictor names"
   ]
  },
  {
   "cell_type": "code",
   "execution_count": 8,
   "metadata": {
    "execution": {
     "iopub.execute_input": "2023-03-14T17:30:48.920985Z",
     "iopub.status.busy": "2023-03-14T17:30:48.920743Z",
     "iopub.status.idle": "2023-03-14T17:30:48.928661Z",
     "shell.execute_reply": "2023-03-14T17:30:48.928169Z"
    }
   },
   "outputs": [
    {
     "data": {
      "text/html": [
       "<div><style>\n",
       ".dataframe > thead > tr > th,\n",
       ".dataframe > tbody > tr > td {\n",
       "  text-align: right;\n",
       "}\n",
       "</style>\n",
       "<small>shape: (7, 6)</small><table border=\"1\" class=\"dataframe\"><thead><tr><th>PREDICTOR_0</th><th>PREDICTOR_1</th><th>PREDICTOR_2</th><th>Context_Name</th><th>IH_Web_Inbound_Accepted_pxLastGroupID</th><th>OUTCOME</th></tr><tr><td>f64</td><td>str</td><td>str</td><td>str</td><td>str</td><td>str</td></tr></thead><tbody><tr><td>0.983033</td><td>&quot;10351438876947...</td><td>&quot;23716298007734...</td><td>&quot;FirstMortgage3...</td><td>&quot;54819093375454...</td><td>&quot;Rejected&quot;</td></tr><tr><td>0.144221</td><td>&quot;87523394113139...</td><td>&quot;58335094937080...</td><td>&quot;FirstMortgage3...</td><td>&quot;56575436797742...</td><td>&quot;Accepted&quot;</td></tr><tr><td>0.679745</td><td>&quot;11497268930446...</td><td>&quot;82891935285723...</td><td>&quot;MoneyMarketSav...</td><td>&quot;54819093375454...</td><td>&quot;Rejected&quot;</td></tr><tr><td>1.0</td><td>&quot;87523394113139...</td><td>&quot;76635517368914...</td><td>&quot;BasicChecking&quot;</td><td>&quot;54819093375454...</td><td>&quot;Rejected&quot;</td></tr><tr><td>0.718982</td><td>&quot;10351438876947...</td><td>&quot;96034035185335...</td><td>&quot;BasicChecking&quot;</td><td>&quot;51444888907670...</td><td>&quot;Accepted&quot;</td></tr><tr><td>0.0</td><td>&quot;11497268930446...</td><td>&quot;35479062579420...</td><td>&quot;UPlusFinPerson...</td><td>null</td><td>&quot;Rejected&quot;</td></tr><tr><td>0.02333</td><td>&quot;11497268930446...</td><td>&quot;13951124795423...</td><td>&quot;BasicChecking&quot;</td><td>&quot;51444888907670...</td><td>&quot;Rejected&quot;</td></tr></tbody></table></div>"
      ],
      "text/plain": [
       "shape: (7, 6)\n",
       "┌─────────────┬──────────────────┬──────────────────┬─────────────────┬─────────────────┬──────────┐\n",
       "│ PREDICTOR_0 ┆ PREDICTOR_1      ┆ PREDICTOR_2      ┆ Context_Name    ┆ IH_Web_Inbound_ ┆ OUTCOME  │\n",
       "│ ---         ┆ ---              ┆ ---              ┆ ---             ┆ Accepted_pxLast ┆ ---      │\n",
       "│ f64         ┆ str              ┆ str              ┆ str             ┆ Gr...           ┆ str      │\n",
       "│             ┆                  ┆                  ┆                 ┆ ---             ┆          │\n",
       "│             ┆                  ┆                  ┆                 ┆ str             ┆          │\n",
       "╞═════════════╪══════════════════╪══════════════════╪═════════════════╪═════════════════╪══════════╡\n",
       "│ 0.983033    ┆ 1035143887694749 ┆ 2371629800773493 ┆ FirstMortgage30 ┆ 548190933754547 ┆ Rejected │\n",
       "│             ┆ 9169             ┆ 794              ┆ yr              ┆ 8419            ┆          │\n",
       "│ 0.144221    ┆ 8752339411313915 ┆ 5833509493708080 ┆ FirstMortgage30 ┆ 565754367977423 ┆ Accepted │\n",
       "│             ┆ 618              ┆ 753              ┆ yr              ┆ 1321            ┆          │\n",
       "│ 0.679745    ┆ 1149726893044678 ┆ 8289193528572396 ┆ MoneyMarketSavi ┆ 548190933754547 ┆ Rejected │\n",
       "│             ┆ 9427             ┆ 789              ┆ ngsAccount      ┆ 8419            ┆          │\n",
       "│ 1.0         ┆ 8752339411313915 ┆ 7663551736891421 ┆ BasicChecking   ┆ 548190933754547 ┆ Rejected │\n",
       "│             ┆ 618              ┆ 821              ┆                 ┆ 8419            ┆          │\n",
       "│ 0.718982    ┆ 1035143887694749 ┆ 9603403518533525 ┆ BasicChecking   ┆ 514448889076707 ┆ Accepted │\n",
       "│             ┆ 9169             ┆ 041              ┆                 ┆ 4554            ┆          │\n",
       "│ 0.0         ┆ 1149726893044678 ┆ 3547906257942035 ┆ UPlusFinPersona ┆ null            ┆ Rejected │\n",
       "│             ┆ 9427             ┆ 421              ┆ l               ┆                 ┆          │\n",
       "│ 0.02333     ┆ 1149726893044678 ┆ 1395112479542336 ┆ BasicChecking   ┆ 514448889076707 ┆ Rejected │\n",
       "│             ┆ 9427             ┆ 5945             ┆                 ┆ 4554            ┆          │\n",
       "└─────────────┴──────────────────┴──────────────────┴─────────────────┴─────────────────┴──────────┘"
      ]
     },
     "execution_count": 8,
     "metadata": {},
     "output_type": "execute_result"
    }
   ],
   "source": [
    "anon = DataAnonymization(\n",
    "    hds_folder='../../../../data/',\n",
    "    mask_ih_names=False,\n",
    "    mask_outcome_values=False,\n",
    "    mask_context_key_values=False,\n",
    "    mask_context_key_names=False,\n",
    ")\n",
    "anon.process()\n"
   ]
  },
  {
   "attachments": {},
   "cell_type": "markdown",
   "metadata": {},
   "source": [
    "The configs can also be written and read as such:"
   ]
  },
  {
   "cell_type": "code",
   "execution_count": 9,
   "metadata": {
    "execution": {
     "iopub.execute_input": "2023-03-14T17:30:48.931159Z",
     "iopub.status.busy": "2023-03-14T17:30:48.930961Z",
     "iopub.status.idle": "2023-03-14T17:30:48.934148Z",
     "shell.execute_reply": "2023-03-14T17:30:48.933664Z"
    }
   },
   "outputs": [],
   "source": [
    "anon.config.save_to_config_file('config.json')"
   ]
  },
  {
   "cell_type": "code",
   "execution_count": 10,
   "metadata": {
    "execution": {
     "iopub.execute_input": "2023-03-14T17:30:48.936853Z",
     "iopub.status.busy": "2023-03-14T17:30:48.936625Z",
     "iopub.status.idle": "2023-03-14T17:30:48.944783Z",
     "shell.execute_reply": "2023-03-14T17:30:48.944221Z"
    }
   },
   "outputs": [
    {
     "data": {
      "text/html": [
       "<div><style>\n",
       ".dataframe > thead > tr > th,\n",
       ".dataframe > tbody > tr > td {\n",
       "  text-align: right;\n",
       "}\n",
       "</style>\n",
       "<small>shape: (7, 6)</small><table border=\"1\" class=\"dataframe\"><thead><tr><th>PREDICTOR_0</th><th>PREDICTOR_1</th><th>PREDICTOR_2</th><th>Context_Name</th><th>IH_Web_Inbound_Accepted_pxLastGroupID</th><th>OUTCOME</th></tr><tr><td>f64</td><td>str</td><td>str</td><td>str</td><td>str</td><td>str</td></tr></thead><tbody><tr><td>0.983033</td><td>&quot;10351438876947...</td><td>&quot;23716298007734...</td><td>&quot;FirstMortgage3...</td><td>&quot;54819093375454...</td><td>&quot;Rejected&quot;</td></tr><tr><td>0.144221</td><td>&quot;87523394113139...</td><td>&quot;58335094937080...</td><td>&quot;FirstMortgage3...</td><td>&quot;56575436797742...</td><td>&quot;Accepted&quot;</td></tr><tr><td>0.679745</td><td>&quot;11497268930446...</td><td>&quot;82891935285723...</td><td>&quot;MoneyMarketSav...</td><td>&quot;54819093375454...</td><td>&quot;Rejected&quot;</td></tr><tr><td>1.0</td><td>&quot;87523394113139...</td><td>&quot;76635517368914...</td><td>&quot;BasicChecking&quot;</td><td>&quot;54819093375454...</td><td>&quot;Rejected&quot;</td></tr><tr><td>0.718982</td><td>&quot;10351438876947...</td><td>&quot;96034035185335...</td><td>&quot;BasicChecking&quot;</td><td>&quot;51444888907670...</td><td>&quot;Accepted&quot;</td></tr><tr><td>0.0</td><td>&quot;11497268930446...</td><td>&quot;35479062579420...</td><td>&quot;UPlusFinPerson...</td><td>null</td><td>&quot;Rejected&quot;</td></tr><tr><td>0.02333</td><td>&quot;11497268930446...</td><td>&quot;13951124795423...</td><td>&quot;BasicChecking&quot;</td><td>&quot;51444888907670...</td><td>&quot;Rejected&quot;</td></tr></tbody></table></div>"
      ],
      "text/plain": [
       "shape: (7, 6)\n",
       "┌─────────────┬──────────────────┬──────────────────┬─────────────────┬─────────────────┬──────────┐\n",
       "│ PREDICTOR_0 ┆ PREDICTOR_1      ┆ PREDICTOR_2      ┆ Context_Name    ┆ IH_Web_Inbound_ ┆ OUTCOME  │\n",
       "│ ---         ┆ ---              ┆ ---              ┆ ---             ┆ Accepted_pxLast ┆ ---      │\n",
       "│ f64         ┆ str              ┆ str              ┆ str             ┆ Gr...           ┆ str      │\n",
       "│             ┆                  ┆                  ┆                 ┆ ---             ┆          │\n",
       "│             ┆                  ┆                  ┆                 ┆ str             ┆          │\n",
       "╞═════════════╪══════════════════╪══════════════════╪═════════════════╪═════════════════╪══════════╡\n",
       "│ 0.983033    ┆ 1035143887694749 ┆ 2371629800773493 ┆ FirstMortgage30 ┆ 548190933754547 ┆ Rejected │\n",
       "│             ┆ 9169             ┆ 794              ┆ yr              ┆ 8419            ┆          │\n",
       "│ 0.144221    ┆ 8752339411313915 ┆ 5833509493708080 ┆ FirstMortgage30 ┆ 565754367977423 ┆ Accepted │\n",
       "│             ┆ 618              ┆ 753              ┆ yr              ┆ 1321            ┆          │\n",
       "│ 0.679745    ┆ 1149726893044678 ┆ 8289193528572396 ┆ MoneyMarketSavi ┆ 548190933754547 ┆ Rejected │\n",
       "│             ┆ 9427             ┆ 789              ┆ ngsAccount      ┆ 8419            ┆          │\n",
       "│ 1.0         ┆ 8752339411313915 ┆ 7663551736891421 ┆ BasicChecking   ┆ 548190933754547 ┆ Rejected │\n",
       "│             ┆ 618              ┆ 821              ┆                 ┆ 8419            ┆          │\n",
       "│ 0.718982    ┆ 1035143887694749 ┆ 9603403518533525 ┆ BasicChecking   ┆ 514448889076707 ┆ Accepted │\n",
       "│             ┆ 9169             ┆ 041              ┆                 ┆ 4554            ┆          │\n",
       "│ 0.0         ┆ 1149726893044678 ┆ 3547906257942035 ┆ UPlusFinPersona ┆ null            ┆ Rejected │\n",
       "│             ┆ 9427             ┆ 421              ┆ l               ┆                 ┆          │\n",
       "│ 0.02333     ┆ 1149726893044678 ┆ 1395112479542336 ┆ BasicChecking   ┆ 514448889076707 ┆ Rejected │\n",
       "│             ┆ 9427             ┆ 5945             ┆                 ┆ 4554            ┆          │\n",
       "└─────────────┴──────────────────┴──────────────────┴─────────────────┴─────────────────┴──────────┘"
      ]
     },
     "execution_count": 10,
     "metadata": {},
     "output_type": "execute_result"
    }
   ],
   "source": [
    "anon = DataAnonymization(config=Config(config_file='config.json'))\n",
    "anon.process()"
   ]
  },
  {
   "attachments": {},
   "cell_type": "markdown",
   "metadata": {},
   "source": [
    "## Exporting\n",
    "Two functions export:\n",
    "- `create_mapping_file()` writes the mapping file of the predictor names\n",
    "- `write_to_output()` writes the processed dataframe to disk\n",
    "\n",
    "Write to output accepts the following extensions: `[\"ndjson\", \"parquet\", \"arrow\", \"csv\"]`"
   ]
  },
  {
   "cell_type": "code",
   "execution_count": 11,
   "metadata": {
    "execution": {
     "iopub.execute_input": "2023-03-14T17:30:48.947353Z",
     "iopub.status.busy": "2023-03-14T17:30:48.947169Z",
     "iopub.status.idle": "2023-03-14T17:30:48.951255Z",
     "shell.execute_reply": "2023-03-14T17:30:48.950627Z"
    }
   },
   "outputs": [
    {
     "name": "stdout",
     "output_type": "stream",
     "text": [
      "Customer_CLV=PREDICTOR_0\n",
      "Customer_MaritalStatus=PREDICTOR_1\n",
      "Customer_City=PREDICTOR_2\n",
      "Context_Name=Context_Name\n",
      "IH_Web_Inbound_Accepted_pxLastGroupID=IH_Web_Inbound_Accepted_pxLastGroupID\n",
      "Decision_Outcome=OUTCOME\n",
      "\n"
     ]
    }
   ],
   "source": [
    "anon.create_mapping_file()\n",
    "with open('mapping.map') as f:\n",
    "    print(f.read())"
   ]
  },
  {
   "cell_type": "code",
   "execution_count": 12,
   "metadata": {
    "execution": {
     "iopub.execute_input": "2023-03-14T17:30:48.954950Z",
     "iopub.status.busy": "2023-03-14T17:30:48.954464Z",
     "iopub.status.idle": "2023-03-14T17:30:48.959090Z",
     "shell.execute_reply": "2023-03-14T17:30:48.958484Z"
    }
   },
   "outputs": [],
   "source": [
    "anon.write_to_output(ext='arrow')"
   ]
  },
  {
   "cell_type": "code",
   "execution_count": 13,
   "metadata": {
    "execution": {
     "iopub.execute_input": "2023-03-14T17:30:48.961667Z",
     "iopub.status.busy": "2023-03-14T17:30:48.961458Z",
     "iopub.status.idle": "2023-03-14T17:30:48.967870Z",
     "shell.execute_reply": "2023-03-14T17:30:48.967296Z"
    }
   },
   "outputs": [
    {
     "data": {
      "text/html": [
       "<div><style>\n",
       ".dataframe > thead > tr > th,\n",
       ".dataframe > tbody > tr > td {\n",
       "  text-align: right;\n",
       "}\n",
       "</style>\n",
       "<small>shape: (7, 6)</small><table border=\"1\" class=\"dataframe\"><thead><tr><th>PREDICTOR_0</th><th>PREDICTOR_1</th><th>PREDICTOR_2</th><th>Context_Name</th><th>IH_Web_Inbound_Accepted_pxLastGroupID</th><th>OUTCOME</th></tr><tr><td>f64</td><td>str</td><td>str</td><td>str</td><td>str</td><td>str</td></tr></thead><tbody><tr><td>0.983033</td><td>&quot;10351438876947...</td><td>&quot;23716298007734...</td><td>&quot;FirstMortgage3...</td><td>&quot;54819093375454...</td><td>&quot;Rejected&quot;</td></tr><tr><td>0.144221</td><td>&quot;87523394113139...</td><td>&quot;58335094937080...</td><td>&quot;FirstMortgage3...</td><td>&quot;56575436797742...</td><td>&quot;Accepted&quot;</td></tr><tr><td>0.679745</td><td>&quot;11497268930446...</td><td>&quot;82891935285723...</td><td>&quot;MoneyMarketSav...</td><td>&quot;54819093375454...</td><td>&quot;Rejected&quot;</td></tr><tr><td>1.0</td><td>&quot;87523394113139...</td><td>&quot;76635517368914...</td><td>&quot;BasicChecking&quot;</td><td>&quot;54819093375454...</td><td>&quot;Rejected&quot;</td></tr><tr><td>0.718982</td><td>&quot;10351438876947...</td><td>&quot;96034035185335...</td><td>&quot;BasicChecking&quot;</td><td>&quot;51444888907670...</td><td>&quot;Accepted&quot;</td></tr><tr><td>0.0</td><td>&quot;11497268930446...</td><td>&quot;35479062579420...</td><td>&quot;UPlusFinPerson...</td><td>null</td><td>&quot;Rejected&quot;</td></tr><tr><td>0.02333</td><td>&quot;11497268930446...</td><td>&quot;13951124795423...</td><td>&quot;BasicChecking&quot;</td><td>&quot;51444888907670...</td><td>&quot;Rejected&quot;</td></tr></tbody></table></div>"
      ],
      "text/plain": [
       "shape: (7, 6)\n",
       "┌─────────────┬──────────────────┬──────────────────┬─────────────────┬─────────────────┬──────────┐\n",
       "│ PREDICTOR_0 ┆ PREDICTOR_1      ┆ PREDICTOR_2      ┆ Context_Name    ┆ IH_Web_Inbound_ ┆ OUTCOME  │\n",
       "│ ---         ┆ ---              ┆ ---              ┆ ---             ┆ Accepted_pxLast ┆ ---      │\n",
       "│ f64         ┆ str              ┆ str              ┆ str             ┆ Gr...           ┆ str      │\n",
       "│             ┆                  ┆                  ┆                 ┆ ---             ┆          │\n",
       "│             ┆                  ┆                  ┆                 ┆ str             ┆          │\n",
       "╞═════════════╪══════════════════╪══════════════════╪═════════════════╪═════════════════╪══════════╡\n",
       "│ 0.983033    ┆ 1035143887694749 ┆ 2371629800773493 ┆ FirstMortgage30 ┆ 548190933754547 ┆ Rejected │\n",
       "│             ┆ 9169             ┆ 794              ┆ yr              ┆ 8419            ┆          │\n",
       "│ 0.144221    ┆ 8752339411313915 ┆ 5833509493708080 ┆ FirstMortgage30 ┆ 565754367977423 ┆ Accepted │\n",
       "│             ┆ 618              ┆ 753              ┆ yr              ┆ 1321            ┆          │\n",
       "│ 0.679745    ┆ 1149726893044678 ┆ 8289193528572396 ┆ MoneyMarketSavi ┆ 548190933754547 ┆ Rejected │\n",
       "│             ┆ 9427             ┆ 789              ┆ ngsAccount      ┆ 8419            ┆          │\n",
       "│ 1.0         ┆ 8752339411313915 ┆ 7663551736891421 ┆ BasicChecking   ┆ 548190933754547 ┆ Rejected │\n",
       "│             ┆ 618              ┆ 821              ┆                 ┆ 8419            ┆          │\n",
       "│ 0.718982    ┆ 1035143887694749 ┆ 9603403518533525 ┆ BasicChecking   ┆ 514448889076707 ┆ Accepted │\n",
       "│             ┆ 9169             ┆ 041              ┆                 ┆ 4554            ┆          │\n",
       "│ 0.0         ┆ 1149726893044678 ┆ 3547906257942035 ┆ UPlusFinPersona ┆ null            ┆ Rejected │\n",
       "│             ┆ 9427             ┆ 421              ┆ l               ┆                 ┆          │\n",
       "│ 0.02333     ┆ 1149726893044678 ┆ 1395112479542336 ┆ BasicChecking   ┆ 514448889076707 ┆ Rejected │\n",
       "│             ┆ 9427             ┆ 5945             ┆                 ┆ 4554            ┆          │\n",
       "└─────────────┴──────────────────┴──────────────────┴─────────────────┴─────────────────┴──────────┘"
      ]
     },
     "execution_count": 13,
     "metadata": {},
     "output_type": "execute_result"
    }
   ],
   "source": [
    "pl.read_ipc('output/hds.arrow')"
   ]
  },
  {
   "attachments": {},
   "cell_type": "markdown",
   "metadata": {},
   "source": [
    "## Advanced: Hash fuctions\n",
    "\n",
    "By default, we use [the same hashing algorithm Polars](https://pola-rs.github.io/polars/py-polars/html/reference/expressions/api/polars.Expr.hash.html#polars.Expr.hash) uses: [xxhash](https://github.com/Cyan4973/xxHash), as implemented [here](https://github.com/pola-rs/polars/blob/3f287f370b3c388ed2f3f218b2c096382548136f/polars/polars-core/src/vector_hasher.rs#L266). xxhash is fast to compute, and you can check its performance in collision, dispersion and randomness [here](https://github.com/Cyan4973/xxHash/tree/dev/tests). \n",
    "\n",
    "xxhash accepts four distinct seeds, but by default we set the seeds to `0`. It is possible to set the `seed` argument of the `process()` function to `'random'`, which will set all four seeds to a random integer between `0` and `1000000000`. Alternatively, it is possible to supply the four seeds manually with arguments `seed`, `seed_1`, `seed_2` and `seed_3`. \n",
    "\n",
    "If the xxhash with (random) seed(s) is not deemed sufficiently secure, it is possible to use your own hashing algorithm.\n",
    "\n",
    "Note that since we're now running python code and not native Polars code anymore, this will be _significantly_ slower. Nonetheless, it is possible.\n",
    "\n",
    "Just as an example - this is how one would use sha3_256:"
   ]
  },
  {
   "cell_type": "code",
   "execution_count": 14,
   "metadata": {
    "execution": {
     "iopub.execute_input": "2023-03-14T17:30:48.970841Z",
     "iopub.status.busy": "2023-03-14T17:30:48.970608Z",
     "iopub.status.idle": "2023-03-14T17:30:48.976581Z",
     "shell.execute_reply": "2023-03-14T17:30:48.976136Z"
    }
   },
   "outputs": [
    {
     "data": {
      "text/html": [
       "<div><style>\n",
       ".dataframe > thead > tr > th,\n",
       ".dataframe > tbody > tr > td {\n",
       "  text-align: right;\n",
       "}\n",
       "</style>\n",
       "<small>shape: (7, 6)</small><table border=\"1\" class=\"dataframe\"><thead><tr><th>PREDICTOR_0</th><th>PREDICTOR_1</th><th>PREDICTOR_2</th><th>Context_Name</th><th>IH_Web_Inbound_Accepted_pxLastGroupID</th><th>OUTCOME</th></tr><tr><td>f64</td><td>str</td><td>str</td><td>str</td><td>str</td><td>str</td></tr></thead><tbody><tr><td>0.983033</td><td>&quot;af486bc1815c72...</td><td>&quot;c73023dda51de1...</td><td>&quot;FirstMortgage3...</td><td>&quot;2513d0e24d8d02...</td><td>&quot;Rejected&quot;</td></tr><tr><td>0.144221</td><td>&quot;3cdf7b1ae1342e...</td><td>&quot;5414b197fb87b3...</td><td>&quot;FirstMortgage3...</td><td>&quot;8b55bf62fc2ecd...</td><td>&quot;Accepted&quot;</td></tr><tr><td>0.679745</td><td>&quot;806ef34eb8237f...</td><td>&quot;892f5d61a9215e...</td><td>&quot;MoneyMarketSav...</td><td>&quot;2513d0e24d8d02...</td><td>&quot;Rejected&quot;</td></tr><tr><td>1.0</td><td>&quot;3cdf7b1ae1342e...</td><td>&quot;c3aa807d9e927a...</td><td>&quot;BasicChecking&quot;</td><td>&quot;2513d0e24d8d02...</td><td>&quot;Rejected&quot;</td></tr><tr><td>0.718982</td><td>&quot;af486bc1815c72...</td><td>&quot;c2d492f9a05073...</td><td>&quot;BasicChecking&quot;</td><td>&quot;1cd082ecbd5dd9...</td><td>&quot;Accepted&quot;</td></tr><tr><td>0.0</td><td>&quot;806ef34eb8237f...</td><td>&quot;b21059221605c4...</td><td>&quot;UPlusFinPerson...</td><td>null</td><td>&quot;Rejected&quot;</td></tr><tr><td>0.02333</td><td>&quot;806ef34eb8237f...</td><td>&quot;80cbe489dcecd4...</td><td>&quot;BasicChecking&quot;</td><td>&quot;1cd082ecbd5dd9...</td><td>&quot;Rejected&quot;</td></tr></tbody></table></div>"
      ],
      "text/plain": [
       "shape: (7, 6)\n",
       "┌─────────────┬──────────────────┬──────────────────┬─────────────────┬─────────────────┬──────────┐\n",
       "│ PREDICTOR_0 ┆ PREDICTOR_1      ┆ PREDICTOR_2      ┆ Context_Name    ┆ IH_Web_Inbound_ ┆ OUTCOME  │\n",
       "│ ---         ┆ ---              ┆ ---              ┆ ---             ┆ Accepted_pxLast ┆ ---      │\n",
       "│ f64         ┆ str              ┆ str              ┆ str             ┆ Gr...           ┆ str      │\n",
       "│             ┆                  ┆                  ┆                 ┆ ---             ┆          │\n",
       "│             ┆                  ┆                  ┆                 ┆ str             ┆          │\n",
       "╞═════════════╪══════════════════╪══════════════════╪═════════════════╪═════════════════╪══════════╡\n",
       "│ 0.983033    ┆ af486bc1815c726c ┆ c73023dda51de1b8 ┆ FirstMortgage30 ┆ 2513d0e24d8d021 ┆ Rejected │\n",
       "│             ┆ 357890ac2a40ba98 ┆ 4f7af774fd6f8c73 ┆ yr              ┆ 4eda4fb45444716 ┆          │\n",
       "│             ┆ ...              ┆ ...              ┆                 ┆ 2b...           ┆          │\n",
       "│ 0.144221    ┆ 3cdf7b1ae1342ef9 ┆ 5414b197fb87b3f2 ┆ FirstMortgage30 ┆ 8b55bf62fc2ecd1 ┆ Accepted │\n",
       "│             ┆ 79ea2a782541ad05 ┆ e350d7a74a840a81 ┆ yr              ┆ 6af97d48e469362 ┆          │\n",
       "│             ┆ ...              ┆ ...              ┆                 ┆ cf...           ┆          │\n",
       "│ 0.679745    ┆ 806ef34eb8237f4d ┆ 892f5d61a9215ef9 ┆ MoneyMarketSavi ┆ 2513d0e24d8d021 ┆ Rejected │\n",
       "│             ┆ b85004e96dc471d8 ┆ 85f3fa293d51c92e ┆ ngsAccount      ┆ 4eda4fb45444716 ┆          │\n",
       "│             ┆ ...              ┆ ...              ┆                 ┆ 2b...           ┆          │\n",
       "│ 1.0         ┆ 3cdf7b1ae1342ef9 ┆ c3aa807d9e927ae4 ┆ BasicChecking   ┆ 2513d0e24d8d021 ┆ Rejected │\n",
       "│             ┆ 79ea2a782541ad05 ┆ 26a89e76a12b9160 ┆                 ┆ 4eda4fb45444716 ┆          │\n",
       "│             ┆ ...              ┆ ...              ┆                 ┆ 2b...           ┆          │\n",
       "│ 0.718982    ┆ af486bc1815c726c ┆ c2d492f9a0507327 ┆ BasicChecking   ┆ 1cd082ecbd5dd95 ┆ Accepted │\n",
       "│             ┆ 357890ac2a40ba98 ┆ c14285e94e8ee54c ┆                 ┆ 383b10465e395c1 ┆          │\n",
       "│             ┆ ...              ┆ ...              ┆                 ┆ f7...           ┆          │\n",
       "│ 0.0         ┆ 806ef34eb8237f4d ┆ b21059221605c497 ┆ UPlusFinPersona ┆ null            ┆ Rejected │\n",
       "│             ┆ b85004e96dc471d8 ┆ 57cfe0fee45640db ┆ l               ┆                 ┆          │\n",
       "│             ┆ ...              ┆ ...              ┆                 ┆                 ┆          │\n",
       "│ 0.02333     ┆ 806ef34eb8237f4d ┆ 80cbe489dcecd4b9 ┆ BasicChecking   ┆ 1cd082ecbd5dd95 ┆ Rejected │\n",
       "│             ┆ b85004e96dc471d8 ┆ 304898c9986afeeb ┆                 ┆ 383b10465e395c1 ┆          │\n",
       "│             ┆ ...              ┆ ...              ┆                 ┆ f7...           ┆          │\n",
       "└─────────────┴──────────────────┴──────────────────┴─────────────────┴─────────────────┴──────────┘"
      ]
     },
     "execution_count": 14,
     "metadata": {},
     "output_type": "execute_result"
    }
   ],
   "source": [
    "from hashlib import sha3_256\n",
    "\n",
    "anon.process(algorithm=lambda x: sha3_256(x.encode()).hexdigest())"
   ]
  }
 ],
 "metadata": {
  "kernelspec": {
   "display_name": "Python 3",
   "language": "python",
   "name": "python3"
  },
  "language_info": {
   "codemirror_mode": {
    "name": "ipython",
    "version": 3
   },
   "file_extension": ".py",
   "mimetype": "text/x-python",
   "name": "python",
   "nbconvert_exporter": "python",
   "pygments_lexer": "ipython3",
   "version": "3.11.0"
  },
  "vscode": {
   "interpreter": {
    "hash": "aee8b7b246df8f9039afb4144a1f6fd8d2ca17a180786b69acc140d282b71a49"
   }
  }
 },
 "nbformat": 4,
 "nbformat_minor": 2
}
