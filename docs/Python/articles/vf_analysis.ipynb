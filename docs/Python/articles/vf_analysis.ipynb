{
 "cells": [
  {
   "cell_type": "markdown",
   "metadata": {
    "nbsphinx": "hidden"
   },
   "source": [
    "## Link to article\n",
    "\n",
    "This notebook is included in the documentation, where the interactive Plotly charts show up. See:\n",
    "https://pegasystems.github.io/pega-datascientist-tools/Python/articles/vf_analysis.html"
   ]
  },
  {
   "cell_type": "code",
   "execution_count": 1,
   "metadata": {
    "execution": {
     "iopub.execute_input": "2023-03-02T17:07:36.425136Z",
     "iopub.status.busy": "2023-03-02T17:07:36.424735Z",
     "iopub.status.idle": "2023-03-02T17:07:36.780321Z",
     "shell.execute_reply": "2023-03-02T17:07:36.779594Z"
    },
    "nbsphinx": "hidden"
   },
   "outputs": [],
   "source": [
    "# These lines are only for rendering in the docs, and are hidden through Jupyter tags\n",
    "# Do not run if you're running the notebook seperately\n",
    "\n",
    "import plotly.io as pio\n",
    "pio.renderers.default='notebook_connected'\n",
    "\n",
    "import sys\n",
    "sys.path.append('../../../')"
   ]
  },
  {
   "cell_type": "markdown",
   "metadata": {},
   "source": [
    "# Value Finder analysis\n",
    "Every Value Finder simulation populates a dataset, the pyValueFinder dataset.  This dataset contains a lot more information than is what is currently presented on screen.\n",
    "\n",
    "The data held in this dataset can be analysed to uncover insights into your decision framework. \n",
    "\n",
    "CDH tools has been updated to provide a notebook for some pre-configured analysis of the Value Finder dataset. This analysis can be used to supplement your Value Finder simulation whilst we add these features formally to the product.\n",
    "\n",
    "In the data folder we’ve stored a copy of such a dataset, generated from an (internal) demo\n",
    "application (CDHSample).\n",
    "\n",
    "This page shows an example how the data can be used for additional analyses.\n",
    "\n",
    "First, let’s look at the results as presented in Pega:\n",
    "\n",
    "![Pega value finder screen](pegarun_8_6_0.png)\n",
    "\n",
    "For the sample provided, the relevant action setting is 1.2%. There are 10.000 customers, 3491 without actions, 555 with only irrelevant actions and 5954 with at least one relevant action.\n",
    "\n",
    "Now, let's import our class, read the data and recreate this view and supplement it with some advanced analysis of the pyValueFinder dataset. Just like with the ADMDatamart class, you can supply your own path and filename as such:\n",
    "```python\n",
    "ValueFinder(path = 'path-to-data', filename=\"Data-Insights_pyValueFinder_timestamp_GMT.zip\")\n",
    "```\n",
    "\n",
    "If only a path is supplied, it will automatically look for the latest file. \n",
    "It is also possible to supply a dataframe as the 'df' argument directly, in which case it will use that instead. \n",
    "Lastly, there is now also an additional dataset in cdh tools, which is what we'll be using."
   ]
  },
  {
   "cell_type": "code",
   "execution_count": 2,
   "metadata": {
    "execution": {
     "iopub.execute_input": "2023-03-02T17:07:36.783967Z",
     "iopub.status.busy": "2023-03-02T17:07:36.783654Z",
     "iopub.status.idle": "2023-03-02T17:07:39.591083Z",
     "shell.execute_reply": "2023-03-02T17:07:39.590374Z"
    }
   },
   "outputs": [
    {
     "name": "stdout",
     "output_type": "stream",
     "text": [
      "Data import took 1.52 seconds\n",
      "Transforming to polars... Took: 0.0 seconds\n",
      "Generating: Customer Summary... Took: 0.0 seconds\n",
      "Generating: Counts per stage... Took: 0.0 seconds\n"
     ]
    }
   ],
   "source": [
    "from pdstools import ValueFinder, datasets\n",
    "import polars as pl\n",
    "vf = datasets.SampleValueFinder()"
   ]
  },
  {
   "cell_type": "markdown",
   "metadata": {},
   "source": [
    "As we can see, it has found a file on the GitHub repo and imports it straight from there. It also prints out some extra information about some calculations, which can be suppressed by supplying the keyword 'verbose=False'. \n",
    "\n",
    "Since there is only one dataset, the data is simply stored in the attribute 'df'. We heavily filter out the dataset for performance reasons, so the data will look like this:"
   ]
  },
  {
   "cell_type": "code",
   "execution_count": 3,
   "metadata": {
    "execution": {
     "iopub.execute_input": "2023-03-02T17:07:39.595149Z",
     "iopub.status.busy": "2023-03-02T17:07:39.594743Z",
     "iopub.status.idle": "2023-03-02T17:07:39.912776Z",
     "shell.execute_reply": "2023-03-02T17:07:39.911706Z"
    }
   },
   "outputs": [
    {
     "data": {
      "text/html": [
       "<h4>NAIVE QUERY PLAN</h4><p>run <b>LazyFrame.show_graph()</b> to see the optimized version</p><?xml version=\"1.0\" encoding=\"UTF-8\" standalone=\"no\"?>\n",
       "<!DOCTYPE svg PUBLIC \"-//W3C//DTD SVG 1.1//EN\"\n",
       " \"http://www.w3.org/Graphics/SVG/1.1/DTD/svg11.dtd\">\n",
       "<!-- Generated by graphviz version 5.0.1 (20220820.1526)\n",
       " -->\n",
       "<!-- Title: polars_query Pages: 1 -->\n",
       "<svg width=\"149pt\" height=\"133pt\"\n",
       " viewBox=\"0.00 0.00 149.00 133.00\" xmlns=\"http://www.w3.org/2000/svg\" xmlns:xlink=\"http://www.w3.org/1999/xlink\">\n",
       "<g id=\"graph0\" class=\"graph\" transform=\"scale(1 1) rotate(0) translate(4 129)\">\n",
       "<title>polars_query</title>\n",
       "<polygon fill=\"white\" stroke=\"none\" points=\"-4,4 -4,-129 145,-129 145,4 -4,4\"/>\n",
       "<!-- SLICE offset: 0; len: 5 [(0, 0)] -->\n",
       "<g id=\"node1\" class=\"node\">\n",
       "<title>SLICE offset: 0; len: 5 [(0, 0)]</title>\n",
       "<polygon fill=\"none\" stroke=\"black\" points=\"141,-125 0,-125 0,-89 141,-89 141,-125\"/>\n",
       "<text text-anchor=\"middle\" x=\"70.5\" y=\"-103.3\" font-family=\"Times,serif\" font-size=\"14.00\">SLICE offset: 0; len: 5</text>\n",
       "</g>\n",
       "<!-- TABLE\n",
       "π */11;\n",
       "σ &#45;; [(0, 1)] -->\n",
       "<g id=\"node2\" class=\"node\">\n",
       "<title>TABLE\n",
       "π */11;\n",
       "σ &#45;; [(0, 1)]</title>\n",
       "<polygon fill=\"none\" stroke=\"black\" points=\"100,-53 41,-53 41,0 100,0 100,-53\"/>\n",
       "<text text-anchor=\"middle\" x=\"70.5\" y=\"-37.8\" font-family=\"Times,serif\" font-size=\"14.00\">TABLE</text>\n",
       "<text text-anchor=\"middle\" x=\"70.5\" y=\"-22.8\" font-family=\"Times,serif\" font-size=\"14.00\">π */11;</text>\n",
       "<text text-anchor=\"middle\" x=\"70.5\" y=\"-7.8\" font-family=\"Times,serif\" font-size=\"14.00\">σ &#45;;</text>\n",
       "</g>\n",
       "<!-- SLICE offset: 0; len: 5 [(0, 0)]&#45;&#45;TABLE\n",
       "π */11;\n",
       "σ &#45;; [(0, 1)] -->\n",
       "<g id=\"edge1\" class=\"edge\">\n",
       "<title>SLICE offset: 0; len: 5 [(0, 0)]&#45;&#45;TABLE\n",
       "π */11;\n",
       "σ &#45;; [(0, 1)]</title>\n",
       "<path fill=\"none\" stroke=\"black\" d=\"M70.5,-88.97C70.5,-78.51 70.5,-64.9 70.5,-53.16\"/>\n",
       "</g>\n",
       "</g>\n",
       "</svg>\n"
      ],
      "text/plain": [
       "<polars.LazyFrame object at 0x10C92F550>"
      ]
     },
     "execution_count": 3,
     "metadata": {},
     "output_type": "execute_result"
    }
   ],
   "source": [
    "vf.df.head(5)"
   ]
  },
  {
   "cell_type": "markdown",
   "metadata": {},
   "source": [
    "This is already enough information to generate the same piechart as shown in platform, but to replicate the same values, we would need to compute the propensity threshold. In this case, the quantile of `0.052` of the propensity distribution seems to represent the same counts as in platform. Whilst we see the final pie chart after arbitration which correlates, it is also possible to view the same pie chart after each engagement policy stage. Simply call the `plotPieCharts()` function on the data:"
   ]
  },
  {
   "cell_type": "code",
   "execution_count": 4,
   "metadata": {
    "execution": {
     "iopub.execute_input": "2023-03-02T17:07:39.917171Z",
     "iopub.status.busy": "2023-03-02T17:07:39.916746Z",
     "iopub.status.idle": "2023-03-02T17:07:40.105947Z",
     "shell.execute_reply": "2023-03-02T17:07:40.105272Z"
    }
   },
   "outputs": [
    {
     "ename": "AttributeError",
     "evalue": "'ValueFinder' object has no attribute 'NBADStages'",
     "output_type": "error",
     "traceback": [
      "\u001b[0;31m---------------------------------------------------------------------------\u001b[0m",
      "\u001b[0;31mAttributeError\u001b[0m                            Traceback (most recent call last)",
      "Cell \u001b[0;32mIn [4], line 1\u001b[0m\n\u001b[0;32m----> 1\u001b[0m \u001b[43mvf\u001b[49m\u001b[38;5;241;43m.\u001b[39;49m\u001b[43mplotPieCharts\u001b[49m\u001b[43m(\u001b[49m\u001b[38;5;241;43m0.052\u001b[39;49m\u001b[43m,\u001b[49m\u001b[43m \u001b[49m\u001b[43mverbose\u001b[49m\u001b[38;5;241;43m=\u001b[39;49m\u001b[38;5;28;43;01mFalse\u001b[39;49;00m\u001b[43m)\u001b[49m\n",
      "File \u001b[0;32m~/Documents/Code/pdstools-polars/pega-datascientist-tools/python/docs/source/articles/../../../pdstools/valuefinder/ValueFinder.py:453\u001b[0m, in \u001b[0;36mValueFinder.plotPieCharts\u001b[0;34m(self, start, stop, step, verbose)\u001b[0m\n\u001b[1;32m    448\u001b[0m         start, stop \u001b[38;5;241m=\u001b[39m \u001b[38;5;28mself\u001b[39m\u001b[38;5;241m.\u001b[39mth, \u001b[38;5;28mself\u001b[39m\u001b[38;5;241m.\u001b[39mth \u001b[38;5;241m+\u001b[39m \u001b[38;5;241m1\u001b[39m\n\u001b[1;32m    449\u001b[0m     step \u001b[38;5;241m=\u001b[39m \u001b[38;5;241m10000\u001b[39m\n\u001b[1;32m    451\u001b[0m fig \u001b[38;5;241m=\u001b[39m make_subplots(\n\u001b[1;32m    452\u001b[0m     rows\u001b[38;5;241m=\u001b[39m\u001b[38;5;241m1\u001b[39m,\n\u001b[0;32m--> 453\u001b[0m     cols\u001b[38;5;241m=\u001b[39m\u001b[38;5;28mlen\u001b[39m(\u001b[38;5;28;43mself\u001b[39;49m\u001b[38;5;241;43m.\u001b[39;49m\u001b[43mNBADStages\u001b[49m),\n\u001b[1;32m    454\u001b[0m     specs\u001b[38;5;241m=\u001b[39m[[{\u001b[38;5;124m\"\u001b[39m\u001b[38;5;124mtype\u001b[39m\u001b[38;5;124m\"\u001b[39m: \u001b[38;5;124m\"\u001b[39m\u001b[38;5;124mdomain\u001b[39m\u001b[38;5;124m\"\u001b[39m}] \u001b[38;5;241m*\u001b[39m \u001b[38;5;28mlen\u001b[39m(\u001b[38;5;28mself\u001b[39m\u001b[38;5;241m.\u001b[39mNBADStages)],\n\u001b[1;32m    455\u001b[0m     subplot_titles\u001b[38;5;241m=\u001b[39m\u001b[38;5;28mself\u001b[39m\u001b[38;5;241m.\u001b[39mNBADStages,\n\u001b[1;32m    456\u001b[0m )\n\u001b[1;32m    457\u001b[0m \u001b[38;5;28mself\u001b[39m\u001b[38;5;241m.\u001b[39maddCountsPerThresholdRange(start, stop, step, verbose\u001b[38;5;241m=\u001b[39mverbose)\n\u001b[1;32m    458\u001b[0m founddefault \u001b[38;5;241m=\u001b[39m \u001b[38;5;28;01mFalse\u001b[39;00m\n",
      "\u001b[0;31mAttributeError\u001b[0m: 'ValueFinder' object has no attribute 'NBADStages'"
     ]
    }
   ],
   "source": [
    "vf.plotPieCharts(0.052, verbose=False)"
   ]
  },
  {
   "cell_type": "markdown",
   "metadata": {},
   "source": [
    "By hovering over the rightmost pie chart, you can see the numbers match up exactly to that shown in the value finder simulation. What's more, we don't just show the counts in the final arbitration stage, but also the counts of the eligibility, applicability, and the suitability stages. This view shows you the movement of customers from having at least one relevant action to only irrelevant actions and no actions over the application of the engagement policies. This will show you the most impactful stage of your policies.\n",
    "\n",
    "Now, of course, if a customer is well served or not, depends heavily on what we consider to be well served. After the application of eligibility engagment policies we choose the relevant action setting. This is set at the 5th percentil of engagement policies. We can plot what that will look like as such, where the dotted line is that set threshold:"
   ]
  },
  {
   "cell_type": "code",
   "execution_count": 5,
   "metadata": {
    "execution": {
     "iopub.execute_input": "2023-03-02T17:07:40.108823Z",
     "iopub.status.busy": "2023-03-02T17:07:40.108591Z",
     "iopub.status.idle": "2023-03-02T17:07:40.314717Z",
     "shell.execute_reply": "2023-03-02T17:07:40.314148Z"
    }
   },
   "outputs": [
    {
     "ename": "TypeError",
     "evalue": "object of type 'LazyFrame' has no len()",
     "output_type": "error",
     "traceback": [
      "\u001b[0;31m---------------------------------------------------------------------------\u001b[0m",
      "\u001b[0;31mTypeError\u001b[0m                                 Traceback (most recent call last)",
      "Cell \u001b[0;32mIn [5], line 1\u001b[0m\n\u001b[0;32m----> 1\u001b[0m \u001b[43mvf\u001b[49m\u001b[38;5;241;43m.\u001b[39;49m\u001b[43mplotPropensityThreshold\u001b[49m\u001b[43m(\u001b[49m\u001b[43m)\u001b[49m\n",
      "File \u001b[0;32m~/Documents/Code/pdstools-polars/pega-datascientist-tools/python/docs/source/articles/../../../pdstools/valuefinder/ValueFinder.py:362\u001b[0m, in \u001b[0;36mValueFinder.plotPropensityThreshold\u001b[0;34m(self, sampledN, stage)\u001b[0m\n\u001b[1;32m    360\u001b[0m yrange \u001b[38;5;241m=\u001b[39m [\u001b[38;5;241m0\u001b[39m, \u001b[38;5;241m15\u001b[39m]\n\u001b[1;32m    361\u001b[0m data \u001b[38;5;241m=\u001b[39m \u001b[38;5;28mself\u001b[39m\u001b[38;5;241m.\u001b[39mdf\u001b[38;5;241m.\u001b[39mfilter(pl\u001b[38;5;241m.\u001b[39mcol(\u001b[38;5;124m\"\u001b[39m\u001b[38;5;124mpyStage\u001b[39m\u001b[38;5;124m\"\u001b[39m) \u001b[38;5;241m==\u001b[39m stage)\u001b[38;5;241m.\u001b[39mselect(propensities)\n\u001b[0;32m--> 362\u001b[0m \u001b[38;5;28;01mif\u001b[39;00m \u001b[38;5;28;43mlen\u001b[39;49m\u001b[43m(\u001b[49m\u001b[43mdata\u001b[49m\u001b[43m)\u001b[49m \u001b[38;5;241m>\u001b[39m sampledN:\n\u001b[1;32m    363\u001b[0m     data \u001b[38;5;241m=\u001b[39m data\u001b[38;5;241m.\u001b[39msample(sampledN)\n\u001b[1;32m    364\u001b[0m \u001b[38;5;28;01mfor\u001b[39;00m ptype \u001b[38;5;129;01min\u001b[39;00m propensities:\n",
      "\u001b[0;31mTypeError\u001b[0m: object of type 'LazyFrame' has no len()"
     ]
    }
   ],
   "source": [
    "vf.plotPropensityThreshold()"
   ]
  },
  {
   "cell_type": "markdown",
   "metadata": {},
   "source": [
    "These different propensities represent the raw propensities from the models (pyModelPropensity), the propensities which may be overridden by the random control group (pyPropensity) and the final propensity from a prediction (FinalPropensity). In a prediction, Thompson Sampling may have been applied, smoothing the final distribution.\n",
    "\n",
    "We can also look at the propensity distributions across the different stages. Simply call `plotPropensityDistribution()`."
   ]
  },
  {
   "cell_type": "code",
   "execution_count": 6,
   "metadata": {
    "execution": {
     "iopub.execute_input": "2023-03-02T17:07:40.317545Z",
     "iopub.status.busy": "2023-03-02T17:07:40.317322Z",
     "iopub.status.idle": "2023-03-02T17:07:40.337190Z",
     "shell.execute_reply": "2023-03-02T17:07:40.336721Z"
    }
   },
   "outputs": [
    {
     "ename": "AttributeError",
     "evalue": "'ValueFinder' object has no attribute 'NBADStages'",
     "output_type": "error",
     "traceback": [
      "\u001b[0;31m---------------------------------------------------------------------------\u001b[0m",
      "\u001b[0;31mAttributeError\u001b[0m                            Traceback (most recent call last)",
      "Cell \u001b[0;32mIn [6], line 1\u001b[0m\n\u001b[0;32m----> 1\u001b[0m \u001b[43mvf\u001b[49m\u001b[38;5;241;43m.\u001b[39;49m\u001b[43mplotPropensityDistribution\u001b[49m\u001b[43m(\u001b[49m\u001b[43m)\u001b[49m\n",
      "File \u001b[0;32m~/Documents/Code/pdstools-polars/pega-datascientist-tools/python/docs/source/articles/../../../pdstools/valuefinder/ValueFinder.py:307\u001b[0m, in \u001b[0;36mValueFinder.plotPropensityDistribution\u001b[0;34m(self, sampledN)\u001b[0m\n\u001b[1;32m    293\u001b[0m \u001b[38;5;124;03m\"\"\"Plots the distribution of the different propensities.\u001b[39;00m\n\u001b[1;32m    294\u001b[0m \n\u001b[1;32m    295\u001b[0m \u001b[38;5;124;03mFor optimization reasons (storage for all points in a boxplot and\u001b[39;00m\n\u001b[0;32m   (...)\u001b[0m\n\u001b[1;32m    303\u001b[0m \n\u001b[1;32m    304\u001b[0m \u001b[38;5;124;03m\"\"\"\u001b[39;00m\n\u001b[1;32m    305\u001b[0m i \u001b[38;5;241m=\u001b[39m \u001b[38;5;241m0\u001b[39m\n\u001b[1;32m    306\u001b[0m figs \u001b[38;5;241m=\u001b[39m make_subplots(\n\u001b[0;32m--> 307\u001b[0m     rows\u001b[38;5;241m=\u001b[39m\u001b[38;5;28mlen\u001b[39m(\u001b[38;5;28;43mself\u001b[39;49m\u001b[38;5;241;43m.\u001b[39;49m\u001b[43mNBADStages\u001b[49m), cols\u001b[38;5;241m=\u001b[39m\u001b[38;5;241m1\u001b[39m, shared_xaxes\u001b[38;5;241m=\u001b[39m\u001b[38;5;28;01mTrue\u001b[39;00m, vertical_spacing\u001b[38;5;241m=\u001b[39m\u001b[38;5;241m0.005\u001b[39m\n\u001b[1;32m    308\u001b[0m )\n\u001b[1;32m    309\u001b[0m \u001b[38;5;28;01mfor\u001b[39;00m stage \u001b[38;5;129;01min\u001b[39;00m \u001b[38;5;28mself\u001b[39m\u001b[38;5;241m.\u001b[39mNBADStages:\n\u001b[1;32m    310\u001b[0m     data \u001b[38;5;241m=\u001b[39m \u001b[38;5;28mself\u001b[39m\u001b[38;5;241m.\u001b[39mdf\u001b[38;5;241m.\u001b[39mfilter(pl\u001b[38;5;241m.\u001b[39mcol(\u001b[38;5;124m\"\u001b[39m\u001b[38;5;124mpyStage\u001b[39m\u001b[38;5;124m\"\u001b[39m) \u001b[38;5;241m==\u001b[39m stage)\n",
      "\u001b[0;31mAttributeError\u001b[0m: 'ValueFinder' object has no attribute 'NBADStages'"
     ]
    }
   ],
   "source": [
    "vf.plotPropensityDistribution()"
   ]
  },
  {
   "cell_type": "markdown",
   "metadata": {},
   "source": [
    "So there is a spread out distribution of propensities - making the selection of the relevant action setting an important choice as this will influence whether customers are considered as having at least one relevant action or only irrelevant actions. \n",
    "\n",
    "While we can create this pie chart for one threshold, we can also do this for a range of them. To do this, simply supply three arguments to the `plotPieCharts()` function: `start`, `stop` and `step`. These correspond to a range of propensity *quantiles* for which we want to compute the counts. In the background, this will generate the aggregated counts per stage, which we can plot as such:"
   ]
  },
  {
   "cell_type": "code",
   "execution_count": 7,
   "metadata": {
    "execution": {
     "iopub.execute_input": "2023-03-02T17:07:40.340511Z",
     "iopub.status.busy": "2023-03-02T17:07:40.340260Z",
     "iopub.status.idle": "2023-03-02T17:07:40.363786Z",
     "shell.execute_reply": "2023-03-02T17:07:40.362919Z"
    }
   },
   "outputs": [
    {
     "ename": "AttributeError",
     "evalue": "'ValueFinder' object has no attribute 'NBADStages'",
     "output_type": "error",
     "traceback": [
      "\u001b[0;31m---------------------------------------------------------------------------\u001b[0m",
      "\u001b[0;31mAttributeError\u001b[0m                            Traceback (most recent call last)",
      "Cell \u001b[0;32mIn [7], line 1\u001b[0m\n\u001b[0;32m----> 1\u001b[0m \u001b[43mvf\u001b[49m\u001b[38;5;241;43m.\u001b[39;49m\u001b[43mplotPieCharts\u001b[49m\u001b[43m(\u001b[49m\u001b[43mstart\u001b[49m\u001b[38;5;241;43m=\u001b[39;49m\u001b[38;5;241;43m0.01\u001b[39;49m\u001b[43m,\u001b[49m\u001b[43m \u001b[49m\u001b[43mstop\u001b[49m\u001b[38;5;241;43m=\u001b[39;49m\u001b[38;5;241;43m0.5\u001b[39;49m\u001b[43m,\u001b[49m\u001b[43m \u001b[49m\u001b[43mstep\u001b[49m\u001b[38;5;241;43m=\u001b[39;49m\u001b[38;5;241;43m0.01\u001b[39;49m\u001b[43m,\u001b[49m\u001b[43m \u001b[49m\u001b[43mverbose\u001b[49m\u001b[38;5;241;43m=\u001b[39;49m\u001b[38;5;28;43;01mFalse\u001b[39;49;00m\u001b[43m)\u001b[49m\n",
      "File \u001b[0;32m~/Documents/Code/pdstools-polars/pega-datascientist-tools/python/docs/source/articles/../../../pdstools/valuefinder/ValueFinder.py:453\u001b[0m, in \u001b[0;36mValueFinder.plotPieCharts\u001b[0;34m(self, start, stop, step, verbose)\u001b[0m\n\u001b[1;32m    448\u001b[0m         start, stop \u001b[38;5;241m=\u001b[39m \u001b[38;5;28mself\u001b[39m\u001b[38;5;241m.\u001b[39mth, \u001b[38;5;28mself\u001b[39m\u001b[38;5;241m.\u001b[39mth \u001b[38;5;241m+\u001b[39m \u001b[38;5;241m1\u001b[39m\n\u001b[1;32m    449\u001b[0m     step \u001b[38;5;241m=\u001b[39m \u001b[38;5;241m10000\u001b[39m\n\u001b[1;32m    451\u001b[0m fig \u001b[38;5;241m=\u001b[39m make_subplots(\n\u001b[1;32m    452\u001b[0m     rows\u001b[38;5;241m=\u001b[39m\u001b[38;5;241m1\u001b[39m,\n\u001b[0;32m--> 453\u001b[0m     cols\u001b[38;5;241m=\u001b[39m\u001b[38;5;28mlen\u001b[39m(\u001b[38;5;28;43mself\u001b[39;49m\u001b[38;5;241;43m.\u001b[39;49m\u001b[43mNBADStages\u001b[49m),\n\u001b[1;32m    454\u001b[0m     specs\u001b[38;5;241m=\u001b[39m[[{\u001b[38;5;124m\"\u001b[39m\u001b[38;5;124mtype\u001b[39m\u001b[38;5;124m\"\u001b[39m: \u001b[38;5;124m\"\u001b[39m\u001b[38;5;124mdomain\u001b[39m\u001b[38;5;124m\"\u001b[39m}] \u001b[38;5;241m*\u001b[39m \u001b[38;5;28mlen\u001b[39m(\u001b[38;5;28mself\u001b[39m\u001b[38;5;241m.\u001b[39mNBADStages)],\n\u001b[1;32m    455\u001b[0m     subplot_titles\u001b[38;5;241m=\u001b[39m\u001b[38;5;28mself\u001b[39m\u001b[38;5;241m.\u001b[39mNBADStages,\n\u001b[1;32m    456\u001b[0m )\n\u001b[1;32m    457\u001b[0m \u001b[38;5;28mself\u001b[39m\u001b[38;5;241m.\u001b[39maddCountsPerThresholdRange(start, stop, step, verbose\u001b[38;5;241m=\u001b[39mverbose)\n\u001b[1;32m    458\u001b[0m founddefault \u001b[38;5;241m=\u001b[39m \u001b[38;5;28;01mFalse\u001b[39;00m\n",
      "\u001b[0;31mAttributeError\u001b[0m: 'ValueFinder' object has no attribute 'NBADStages'"
     ]
    }
   ],
   "source": [
    "vf.plotPieCharts(start=0.01, stop=0.5, step=0.01, verbose=False)"
   ]
  },
  {
   "cell_type": "markdown",
   "metadata": {},
   "source": [
    "Note the slider at the bottom: playing around with this, you can easily see how choosing a different threshold changes the view of a customer. This makes intuitive sense: if you consider an action 'good' from a lower propensity threshold, then more customers will be well served than if you consider an action 'good' from a higher propensity threshold.\n",
    "\n",
    "While this is a nice 'slice' of the distribution at a given threshold, we can also show a bit more information. Call `plotPropensityDistributionPerThreshold()` to show this same distribution, but then with the threshold on the x-axis. By default, it considers the quantiles, but if you supply the `target` parameter to be `'Propensity'`, then it will update to that instead."
   ]
  },
  {
   "cell_type": "code",
   "execution_count": 8,
   "metadata": {
    "execution": {
     "iopub.execute_input": "2023-03-02T17:07:40.366588Z",
     "iopub.status.busy": "2023-03-02T17:07:40.366375Z",
     "iopub.status.idle": "2023-03-02T17:07:40.396506Z",
     "shell.execute_reply": "2023-03-02T17:07:40.395724Z"
    }
   },
   "outputs": [
    {
     "ename": "AttributeError",
     "evalue": "'ValueFinder' object has no attribute 'countsPerThreshold'",
     "output_type": "error",
     "traceback": [
      "\u001b[0;31m---------------------------------------------------------------------------\u001b[0m",
      "\u001b[0;31mAttributeError\u001b[0m                            Traceback (most recent call last)",
      "Cell \u001b[0;32mIn [8], line 1\u001b[0m\n\u001b[0;32m----> 1\u001b[0m \u001b[43mvf\u001b[49m\u001b[38;5;241;43m.\u001b[39;49m\u001b[43mplotDistributionPerThreshold\u001b[49m\u001b[43m(\u001b[49m\u001b[43mverbose\u001b[49m\u001b[38;5;241;43m=\u001b[39;49m\u001b[38;5;28;43;01mFalse\u001b[39;49;00m\u001b[43m)\u001b[49m\n",
      "File \u001b[0;32m~/Documents/Code/pdstools-polars/pega-datascientist-tools/python/docs/source/articles/../../../pdstools/valuefinder/ValueFinder.py:556\u001b[0m, in \u001b[0;36mValueFinder.plotDistributionPerThreshold\u001b[0;34m(self, target, **kwargs)\u001b[0m\n\u001b[1;32m    552\u001b[0m \u001b[38;5;28;01mif\u001b[39;00m {\u001b[38;5;124m\"\u001b[39m\u001b[38;5;124mstart\u001b[39m\u001b[38;5;124m\"\u001b[39m, \u001b[38;5;124m\"\u001b[39m\u001b[38;5;124mstop\u001b[39m\u001b[38;5;124m\"\u001b[39m, \u001b[38;5;124m\"\u001b[39m\u001b[38;5;124mstep\u001b[39m\u001b[38;5;124m\"\u001b[39m}\u001b[38;5;241m.\u001b[39missubset(kwargs):\n\u001b[1;32m    553\u001b[0m     \u001b[38;5;28mself\u001b[39m\u001b[38;5;241m.\u001b[39maddCountsPerThresholdRange(\n\u001b[1;32m    554\u001b[0m         kwargs\u001b[38;5;241m.\u001b[39mget(\u001b[38;5;124m\"\u001b[39m\u001b[38;5;124mstart\u001b[39m\u001b[38;5;124m\"\u001b[39m), kwargs\u001b[38;5;241m.\u001b[39mget(\u001b[38;5;124m\"\u001b[39m\u001b[38;5;124mstop\u001b[39m\u001b[38;5;124m\"\u001b[39m), kwargs\u001b[38;5;241m.\u001b[39mget(\u001b[38;5;124m\"\u001b[39m\u001b[38;5;124mstep\u001b[39m\u001b[38;5;124m\"\u001b[39m)\n\u001b[1;32m    555\u001b[0m     )\n\u001b[0;32m--> 556\u001b[0m \u001b[38;5;28;43mself\u001b[39;49m\u001b[38;5;241;43m.\u001b[39;49m\u001b[43maddCountsPerThresholdRange\u001b[49m\u001b[43m(\u001b[49m\u001b[38;5;241;43m0.01\u001b[39;49m\u001b[43m,\u001b[49m\u001b[43m \u001b[49m\u001b[38;5;241;43m1\u001b[39;49m\u001b[43m,\u001b[49m\u001b[43m \u001b[49m\u001b[38;5;241;43m0.1\u001b[39;49m\u001b[43m)\u001b[49m\n\u001b[1;32m    558\u001b[0m df \u001b[38;5;241m=\u001b[39m \u001b[38;5;28mlist\u001b[39m()\n\u001b[1;32m    559\u001b[0m \u001b[38;5;28;01mfor\u001b[39;00m quantile, data \u001b[38;5;129;01min\u001b[39;00m \u001b[38;5;28mself\u001b[39m\u001b[38;5;241m.\u001b[39mcountsPerThreshold\u001b[38;5;241m.\u001b[39mitems():\n",
      "File \u001b[0;32m~/Documents/Code/pdstools-polars/pega-datascientist-tools/python/docs/source/articles/../../../pdstools/valuefinder/ValueFinder.py:243\u001b[0m, in \u001b[0;36mValueFinder.addCountsPerThresholdRange\u001b[0;34m(self, start, stop, step, verbose)\u001b[0m\n\u001b[1;32m    220\u001b[0m \u001b[38;5;28;01mdef\u001b[39;00m \u001b[38;5;21maddCountsPerThresholdRange\u001b[39m(\n\u001b[1;32m    221\u001b[0m     \u001b[38;5;28mself\u001b[39m, start: \u001b[38;5;28mfloat\u001b[39m, stop: \u001b[38;5;28mfloat\u001b[39m, step: \u001b[38;5;28mfloat\u001b[39m, verbose: \u001b[38;5;28mbool\u001b[39m \u001b[38;5;241m=\u001b[39m \u001b[38;5;28;01mTrue\u001b[39;00m\n\u001b[1;32m    222\u001b[0m ):\n\u001b[1;32m    223\u001b[0m     \u001b[38;5;124;03m\"\"\"Adds the counts per stage for a range of quantiles.\u001b[39;00m\n\u001b[1;32m    224\u001b[0m \n\u001b[1;32m    225\u001b[0m \u001b[38;5;124;03m    In the background, uses numpy's arange function\u001b[39;00m\n\u001b[0;32m   (...)\u001b[0m\n\u001b[1;32m    241\u001b[0m \u001b[38;5;124;03m        Whether to print out the progress of computation\u001b[39;00m\n\u001b[1;32m    242\u001b[0m \u001b[38;5;124;03m    \"\"\"\u001b[39;00m\n\u001b[0;32m--> 243\u001b[0m     to_add \u001b[38;5;241m=\u001b[39m \u001b[38;5;28mset\u001b[39m(np\u001b[38;5;241m.\u001b[39marange(start, stop, step)) \u001b[38;5;241m-\u001b[39m \u001b[38;5;28;43mself\u001b[39;49m\u001b[38;5;241;43m.\u001b[39;49m\u001b[43mcountsPerThreshold\u001b[49m\u001b[38;5;241m.\u001b[39mkeys()\n\u001b[1;32m    244\u001b[0m     \u001b[38;5;28;01mif\u001b[39;00m \u001b[38;5;28mlen\u001b[39m(to_add) \u001b[38;5;241m>\u001b[39m \u001b[38;5;241m0\u001b[39m:\n\u001b[1;32m    245\u001b[0m         \u001b[38;5;28mself\u001b[39m\u001b[38;5;241m.\u001b[39mskippedquantiles \u001b[38;5;241m=\u001b[39m []\n",
      "\u001b[0;31mAttributeError\u001b[0m: 'ValueFinder' object has no attribute 'countsPerThreshold'"
     ]
    }
   ],
   "source": [
    "vf.plotDistributionPerThreshold(verbose=False)"
   ]
  },
  {
   "cell_type": "code",
   "execution_count": 9,
   "metadata": {
    "execution": {
     "iopub.execute_input": "2023-03-02T17:07:40.399304Z",
     "iopub.status.busy": "2023-03-02T17:07:40.399077Z",
     "iopub.status.idle": "2023-03-02T17:07:40.426971Z",
     "shell.execute_reply": "2023-03-02T17:07:40.426097Z"
    }
   },
   "outputs": [
    {
     "ename": "AttributeError",
     "evalue": "'ValueFinder' object has no attribute 'countsPerThreshold'",
     "output_type": "error",
     "traceback": [
      "\u001b[0;31m---------------------------------------------------------------------------\u001b[0m",
      "\u001b[0;31mAttributeError\u001b[0m                            Traceback (most recent call last)",
      "Cell \u001b[0;32mIn [9], line 1\u001b[0m\n\u001b[0;32m----> 1\u001b[0m \u001b[43mvf\u001b[49m\u001b[38;5;241;43m.\u001b[39;49m\u001b[43mplotDistributionPerThreshold\u001b[49m\u001b[43m(\u001b[49m\u001b[43mtarget\u001b[49m\u001b[38;5;241;43m=\u001b[39;49m\u001b[38;5;124;43m'\u001b[39;49m\u001b[38;5;124;43mPropensity\u001b[39;49m\u001b[38;5;124;43m'\u001b[39;49m\u001b[43m,\u001b[49m\u001b[43m \u001b[49m\u001b[43mverbose\u001b[49m\u001b[38;5;241;43m=\u001b[39;49m\u001b[38;5;28;43;01mFalse\u001b[39;49;00m\u001b[43m)\u001b[49m\n",
      "File \u001b[0;32m~/Documents/Code/pdstools-polars/pega-datascientist-tools/python/docs/source/articles/../../../pdstools/valuefinder/ValueFinder.py:556\u001b[0m, in \u001b[0;36mValueFinder.plotDistributionPerThreshold\u001b[0;34m(self, target, **kwargs)\u001b[0m\n\u001b[1;32m    552\u001b[0m \u001b[38;5;28;01mif\u001b[39;00m {\u001b[38;5;124m\"\u001b[39m\u001b[38;5;124mstart\u001b[39m\u001b[38;5;124m\"\u001b[39m, \u001b[38;5;124m\"\u001b[39m\u001b[38;5;124mstop\u001b[39m\u001b[38;5;124m\"\u001b[39m, \u001b[38;5;124m\"\u001b[39m\u001b[38;5;124mstep\u001b[39m\u001b[38;5;124m\"\u001b[39m}\u001b[38;5;241m.\u001b[39missubset(kwargs):\n\u001b[1;32m    553\u001b[0m     \u001b[38;5;28mself\u001b[39m\u001b[38;5;241m.\u001b[39maddCountsPerThresholdRange(\n\u001b[1;32m    554\u001b[0m         kwargs\u001b[38;5;241m.\u001b[39mget(\u001b[38;5;124m\"\u001b[39m\u001b[38;5;124mstart\u001b[39m\u001b[38;5;124m\"\u001b[39m), kwargs\u001b[38;5;241m.\u001b[39mget(\u001b[38;5;124m\"\u001b[39m\u001b[38;5;124mstop\u001b[39m\u001b[38;5;124m\"\u001b[39m), kwargs\u001b[38;5;241m.\u001b[39mget(\u001b[38;5;124m\"\u001b[39m\u001b[38;5;124mstep\u001b[39m\u001b[38;5;124m\"\u001b[39m)\n\u001b[1;32m    555\u001b[0m     )\n\u001b[0;32m--> 556\u001b[0m \u001b[38;5;28;43mself\u001b[39;49m\u001b[38;5;241;43m.\u001b[39;49m\u001b[43maddCountsPerThresholdRange\u001b[49m\u001b[43m(\u001b[49m\u001b[38;5;241;43m0.01\u001b[39;49m\u001b[43m,\u001b[49m\u001b[43m \u001b[49m\u001b[38;5;241;43m1\u001b[39;49m\u001b[43m,\u001b[49m\u001b[43m \u001b[49m\u001b[38;5;241;43m0.1\u001b[39;49m\u001b[43m)\u001b[49m\n\u001b[1;32m    558\u001b[0m df \u001b[38;5;241m=\u001b[39m \u001b[38;5;28mlist\u001b[39m()\n\u001b[1;32m    559\u001b[0m \u001b[38;5;28;01mfor\u001b[39;00m quantile, data \u001b[38;5;129;01min\u001b[39;00m \u001b[38;5;28mself\u001b[39m\u001b[38;5;241m.\u001b[39mcountsPerThreshold\u001b[38;5;241m.\u001b[39mitems():\n",
      "File \u001b[0;32m~/Documents/Code/pdstools-polars/pega-datascientist-tools/python/docs/source/articles/../../../pdstools/valuefinder/ValueFinder.py:243\u001b[0m, in \u001b[0;36mValueFinder.addCountsPerThresholdRange\u001b[0;34m(self, start, stop, step, verbose)\u001b[0m\n\u001b[1;32m    220\u001b[0m \u001b[38;5;28;01mdef\u001b[39;00m \u001b[38;5;21maddCountsPerThresholdRange\u001b[39m(\n\u001b[1;32m    221\u001b[0m     \u001b[38;5;28mself\u001b[39m, start: \u001b[38;5;28mfloat\u001b[39m, stop: \u001b[38;5;28mfloat\u001b[39m, step: \u001b[38;5;28mfloat\u001b[39m, verbose: \u001b[38;5;28mbool\u001b[39m \u001b[38;5;241m=\u001b[39m \u001b[38;5;28;01mTrue\u001b[39;00m\n\u001b[1;32m    222\u001b[0m ):\n\u001b[1;32m    223\u001b[0m     \u001b[38;5;124;03m\"\"\"Adds the counts per stage for a range of quantiles.\u001b[39;00m\n\u001b[1;32m    224\u001b[0m \n\u001b[1;32m    225\u001b[0m \u001b[38;5;124;03m    In the background, uses numpy's arange function\u001b[39;00m\n\u001b[0;32m   (...)\u001b[0m\n\u001b[1;32m    241\u001b[0m \u001b[38;5;124;03m        Whether to print out the progress of computation\u001b[39;00m\n\u001b[1;32m    242\u001b[0m \u001b[38;5;124;03m    \"\"\"\u001b[39;00m\n\u001b[0;32m--> 243\u001b[0m     to_add \u001b[38;5;241m=\u001b[39m \u001b[38;5;28mset\u001b[39m(np\u001b[38;5;241m.\u001b[39marange(start, stop, step)) \u001b[38;5;241m-\u001b[39m \u001b[38;5;28;43mself\u001b[39;49m\u001b[38;5;241;43m.\u001b[39;49m\u001b[43mcountsPerThreshold\u001b[49m\u001b[38;5;241m.\u001b[39mkeys()\n\u001b[1;32m    244\u001b[0m     \u001b[38;5;28;01mif\u001b[39;00m \u001b[38;5;28mlen\u001b[39m(to_add) \u001b[38;5;241m>\u001b[39m \u001b[38;5;241m0\u001b[39m:\n\u001b[1;32m    245\u001b[0m         \u001b[38;5;28mself\u001b[39m\u001b[38;5;241m.\u001b[39mskippedquantiles \u001b[38;5;241m=\u001b[39m []\n",
      "\u001b[0;31mAttributeError\u001b[0m: 'ValueFinder' object has no attribute 'countsPerThreshold'"
     ]
    }
   ],
   "source": [
    "vf.plotDistributionPerThreshold(target='Propensity', verbose=False)"
   ]
  },
  {
   "cell_type": "markdown",
   "metadata": {},
   "source": [
    "One area to consider is how your action distribution changes through the stages. Simply call the `plotFunnelChart()` function for an overview of this funnel effect throughout each stage. As a rule of thumb, if there are only a few actions in each stage, this is not a good sign. If certain actions are completely filtered out from one stage to the next, it may also be a warning of agressive filtering. In this case, let’s also use the `‘query’` functionality to only look at actions in the `'Sales'` issue"
   ]
  },
  {
   "cell_type": "code",
   "execution_count": 10,
   "metadata": {
    "execution": {
     "iopub.execute_input": "2023-03-02T17:07:40.431216Z",
     "iopub.status.busy": "2023-03-02T17:07:40.430720Z",
     "iopub.status.idle": "2023-03-02T17:07:40.458859Z",
     "shell.execute_reply": "2023-03-02T17:07:40.458112Z"
    }
   },
   "outputs": [
    {
     "ename": "NameError",
     "evalue": "name 'pd' is not defined",
     "output_type": "error",
     "traceback": [
      "\u001b[0;31m---------------------------------------------------------------------------\u001b[0m",
      "\u001b[0;31mNameError\u001b[0m                                 Traceback (most recent call last)",
      "Cell \u001b[0;32mIn [10], line 1\u001b[0m\n\u001b[0;32m----> 1\u001b[0m \u001b[43mvf\u001b[49m\u001b[38;5;241;43m.\u001b[39;49m\u001b[43mplotFunnelChart\u001b[49m\u001b[43m(\u001b[49m\u001b[38;5;124;43m'\u001b[39;49m\u001b[38;5;124;43mAction\u001b[39;49m\u001b[38;5;124;43m'\u001b[39;49m\u001b[43m,\u001b[49m\u001b[43m \u001b[49m\u001b[43mquery\u001b[49m\u001b[38;5;241;43m=\u001b[39;49m\u001b[43mpl\u001b[49m\u001b[38;5;241;43m.\u001b[39;49m\u001b[43mcol\u001b[49m\u001b[43m(\u001b[49m\u001b[38;5;124;43m'\u001b[39;49m\u001b[38;5;124;43mpyIssue\u001b[39;49m\u001b[38;5;124;43m'\u001b[39;49m\u001b[43m)\u001b[49m\u001b[38;5;241;43m==\u001b[39;49m\u001b[38;5;124;43m'\u001b[39;49m\u001b[38;5;124;43mSales\u001b[39;49m\u001b[38;5;124;43m'\u001b[39;49m\u001b[43m)\u001b[49m\n",
      "File \u001b[0;32m~/Documents/Code/pdstools-polars/pega-datascientist-tools/python/docs/source/articles/../../../pdstools/valuefinder/ValueFinder.py:591\u001b[0m, in \u001b[0;36mValueFinder.plotFunnelChart\u001b[0;34m(self, level, query)\u001b[0m\n\u001b[1;32m    581\u001b[0m \u001b[38;5;28;01mdef\u001b[39;00m \u001b[38;5;21mplotFunnelChart\u001b[39m(\u001b[38;5;28mself\u001b[39m, level: \u001b[38;5;28mstr\u001b[39m \u001b[38;5;241m=\u001b[39m \u001b[38;5;124m\"\u001b[39m\u001b[38;5;124mAction\u001b[39m\u001b[38;5;124m\"\u001b[39m, query\u001b[38;5;241m=\u001b[39m\u001b[38;5;28;01mNone\u001b[39;00m):\n\u001b[1;32m    582\u001b[0m     \u001b[38;5;124;03m\"\"\"Plots the funnel of actions or issues per stage.\u001b[39;00m\n\u001b[1;32m    583\u001b[0m \n\u001b[1;32m    584\u001b[0m \u001b[38;5;124;03m    Parameters\u001b[39;00m\n\u001b[0;32m   (...)\u001b[0m\n\u001b[1;32m    589\u001b[0m \u001b[38;5;124;03m        - If 'Issues', plots the distribution of issues\u001b[39;00m\n\u001b[1;32m    590\u001b[0m \u001b[38;5;124;03m    \"\"\"\u001b[39;00m\n\u001b[0;32m--> 591\u001b[0m     funneldf \u001b[38;5;241m=\u001b[39m \u001b[43mpd\u001b[49m\u001b[38;5;241m.\u001b[39mDataFrame()\n\u001b[1;32m    592\u001b[0m     \u001b[38;5;28;01mif\u001b[39;00m level\u001b[38;5;241m.\u001b[39mcasefold() \u001b[38;5;129;01min\u001b[39;00m {\u001b[38;5;124m\"\u001b[39m\u001b[38;5;124maction\u001b[39m\u001b[38;5;124m\"\u001b[39m, \u001b[38;5;124m\"\u001b[39m\u001b[38;5;124mname\u001b[39m\u001b[38;5;124m\"\u001b[39m, \u001b[38;5;124m\"\u001b[39m\u001b[38;5;124mpyname\u001b[39m\u001b[38;5;124m\"\u001b[39m}:\n\u001b[1;32m    593\u001b[0m         level, cat \u001b[38;5;241m=\u001b[39m \u001b[38;5;124m\"\u001b[39m\u001b[38;5;124mpyName\u001b[39m\u001b[38;5;124m\"\u001b[39m, \u001b[38;5;124m\"\u001b[39m\u001b[38;5;124mActions\u001b[39m\u001b[38;5;124m\"\u001b[39m\n",
      "\u001b[0;31mNameError\u001b[0m: name 'pd' is not defined"
     ]
    }
   ],
   "source": [
    "vf.plotFunnelChart('Action', query=pl.col('pyIssue')=='Sales')"
   ]
  },
  {
   "cell_type": "markdown",
   "metadata": {},
   "source": [
    "Of course this is quite a lot of information. If instead we want to look at the distribution of *issues* over each stage, simply supply the `level` parameters as `'Issue'`:"
   ]
  },
  {
   "cell_type": "code",
   "execution_count": 11,
   "metadata": {
    "execution": {
     "iopub.execute_input": "2023-03-02T17:07:40.462438Z",
     "iopub.status.busy": "2023-03-02T17:07:40.462141Z",
     "iopub.status.idle": "2023-03-02T17:07:40.486328Z",
     "shell.execute_reply": "2023-03-02T17:07:40.485577Z"
    }
   },
   "outputs": [
    {
     "ename": "NameError",
     "evalue": "name 'pd' is not defined",
     "output_type": "error",
     "traceback": [
      "\u001b[0;31m---------------------------------------------------------------------------\u001b[0m",
      "\u001b[0;31mNameError\u001b[0m                                 Traceback (most recent call last)",
      "Cell \u001b[0;32mIn [11], line 1\u001b[0m\n\u001b[0;32m----> 1\u001b[0m \u001b[43mvf\u001b[49m\u001b[38;5;241;43m.\u001b[39;49m\u001b[43mplotFunnelChart\u001b[49m\u001b[43m(\u001b[49m\u001b[38;5;124;43m'\u001b[39;49m\u001b[38;5;124;43mIssue\u001b[39;49m\u001b[38;5;124;43m'\u001b[39;49m\u001b[43m)\u001b[49m\n",
      "File \u001b[0;32m~/Documents/Code/pdstools-polars/pega-datascientist-tools/python/docs/source/articles/../../../pdstools/valuefinder/ValueFinder.py:591\u001b[0m, in \u001b[0;36mValueFinder.plotFunnelChart\u001b[0;34m(self, level, query)\u001b[0m\n\u001b[1;32m    581\u001b[0m \u001b[38;5;28;01mdef\u001b[39;00m \u001b[38;5;21mplotFunnelChart\u001b[39m(\u001b[38;5;28mself\u001b[39m, level: \u001b[38;5;28mstr\u001b[39m \u001b[38;5;241m=\u001b[39m \u001b[38;5;124m\"\u001b[39m\u001b[38;5;124mAction\u001b[39m\u001b[38;5;124m\"\u001b[39m, query\u001b[38;5;241m=\u001b[39m\u001b[38;5;28;01mNone\u001b[39;00m):\n\u001b[1;32m    582\u001b[0m     \u001b[38;5;124;03m\"\"\"Plots the funnel of actions or issues per stage.\u001b[39;00m\n\u001b[1;32m    583\u001b[0m \n\u001b[1;32m    584\u001b[0m \u001b[38;5;124;03m    Parameters\u001b[39;00m\n\u001b[0;32m   (...)\u001b[0m\n\u001b[1;32m    589\u001b[0m \u001b[38;5;124;03m        - If 'Issues', plots the distribution of issues\u001b[39;00m\n\u001b[1;32m    590\u001b[0m \u001b[38;5;124;03m    \"\"\"\u001b[39;00m\n\u001b[0;32m--> 591\u001b[0m     funneldf \u001b[38;5;241m=\u001b[39m \u001b[43mpd\u001b[49m\u001b[38;5;241m.\u001b[39mDataFrame()\n\u001b[1;32m    592\u001b[0m     \u001b[38;5;28;01mif\u001b[39;00m level\u001b[38;5;241m.\u001b[39mcasefold() \u001b[38;5;129;01min\u001b[39;00m {\u001b[38;5;124m\"\u001b[39m\u001b[38;5;124maction\u001b[39m\u001b[38;5;124m\"\u001b[39m, \u001b[38;5;124m\"\u001b[39m\u001b[38;5;124mname\u001b[39m\u001b[38;5;124m\"\u001b[39m, \u001b[38;5;124m\"\u001b[39m\u001b[38;5;124mpyname\u001b[39m\u001b[38;5;124m\"\u001b[39m}:\n\u001b[1;32m    593\u001b[0m         level, cat \u001b[38;5;241m=\u001b[39m \u001b[38;5;124m\"\u001b[39m\u001b[38;5;124mpyName\u001b[39m\u001b[38;5;124m\"\u001b[39m, \u001b[38;5;124m\"\u001b[39m\u001b[38;5;124mActions\u001b[39m\u001b[38;5;124m\"\u001b[39m\n",
      "\u001b[0;31mNameError\u001b[0m: name 'pd' is not defined"
     ]
    }
   ],
   "source": [
    "vf.plotFunnelChart('Issue')"
   ]
  },
  {
   "cell_type": "markdown",
   "metadata": {},
   "source": [
    "Lastly, it may also be interesting to look at the distribution of groups over the different stages. Here, let's again filter on the `'Sales'` issue only."
   ]
  },
  {
   "cell_type": "code",
   "execution_count": 12,
   "metadata": {
    "execution": {
     "iopub.execute_input": "2023-03-02T17:07:40.490095Z",
     "iopub.status.busy": "2023-03-02T17:07:40.489812Z",
     "iopub.status.idle": "2023-03-02T17:07:40.514857Z",
     "shell.execute_reply": "2023-03-02T17:07:40.514167Z"
    }
   },
   "outputs": [
    {
     "ename": "NameError",
     "evalue": "name 'pd' is not defined",
     "output_type": "error",
     "traceback": [
      "\u001b[0;31m---------------------------------------------------------------------------\u001b[0m",
      "\u001b[0;31mNameError\u001b[0m                                 Traceback (most recent call last)",
      "Cell \u001b[0;32mIn [12], line 1\u001b[0m\n\u001b[0;32m----> 1\u001b[0m \u001b[43mvf\u001b[49m\u001b[38;5;241;43m.\u001b[39;49m\u001b[43mplotFunnelChart\u001b[49m\u001b[43m(\u001b[49m\u001b[38;5;124;43m'\u001b[39;49m\u001b[38;5;124;43mGroup\u001b[39;49m\u001b[38;5;124;43m'\u001b[39;49m\u001b[43m,\u001b[49m\u001b[43m \u001b[49m\u001b[43mquery\u001b[49m\u001b[38;5;241;43m=\u001b[39;49m\u001b[43mpl\u001b[49m\u001b[38;5;241;43m.\u001b[39;49m\u001b[43mcol\u001b[49m\u001b[43m(\u001b[49m\u001b[38;5;124;43m'\u001b[39;49m\u001b[38;5;124;43mpyIssue\u001b[39;49m\u001b[38;5;124;43m'\u001b[39;49m\u001b[43m)\u001b[49m\u001b[38;5;241;43m==\u001b[39;49m\u001b[38;5;124;43m'\u001b[39;49m\u001b[38;5;124;43mSales\u001b[39;49m\u001b[38;5;124;43m'\u001b[39;49m\u001b[43m)\u001b[49m\n",
      "File \u001b[0;32m~/Documents/Code/pdstools-polars/pega-datascientist-tools/python/docs/source/articles/../../../pdstools/valuefinder/ValueFinder.py:591\u001b[0m, in \u001b[0;36mValueFinder.plotFunnelChart\u001b[0;34m(self, level, query)\u001b[0m\n\u001b[1;32m    581\u001b[0m \u001b[38;5;28;01mdef\u001b[39;00m \u001b[38;5;21mplotFunnelChart\u001b[39m(\u001b[38;5;28mself\u001b[39m, level: \u001b[38;5;28mstr\u001b[39m \u001b[38;5;241m=\u001b[39m \u001b[38;5;124m\"\u001b[39m\u001b[38;5;124mAction\u001b[39m\u001b[38;5;124m\"\u001b[39m, query\u001b[38;5;241m=\u001b[39m\u001b[38;5;28;01mNone\u001b[39;00m):\n\u001b[1;32m    582\u001b[0m     \u001b[38;5;124;03m\"\"\"Plots the funnel of actions or issues per stage.\u001b[39;00m\n\u001b[1;32m    583\u001b[0m \n\u001b[1;32m    584\u001b[0m \u001b[38;5;124;03m    Parameters\u001b[39;00m\n\u001b[0;32m   (...)\u001b[0m\n\u001b[1;32m    589\u001b[0m \u001b[38;5;124;03m        - If 'Issues', plots the distribution of issues\u001b[39;00m\n\u001b[1;32m    590\u001b[0m \u001b[38;5;124;03m    \"\"\"\u001b[39;00m\n\u001b[0;32m--> 591\u001b[0m     funneldf \u001b[38;5;241m=\u001b[39m \u001b[43mpd\u001b[49m\u001b[38;5;241m.\u001b[39mDataFrame()\n\u001b[1;32m    592\u001b[0m     \u001b[38;5;28;01mif\u001b[39;00m level\u001b[38;5;241m.\u001b[39mcasefold() \u001b[38;5;129;01min\u001b[39;00m {\u001b[38;5;124m\"\u001b[39m\u001b[38;5;124maction\u001b[39m\u001b[38;5;124m\"\u001b[39m, \u001b[38;5;124m\"\u001b[39m\u001b[38;5;124mname\u001b[39m\u001b[38;5;124m\"\u001b[39m, \u001b[38;5;124m\"\u001b[39m\u001b[38;5;124mpyname\u001b[39m\u001b[38;5;124m\"\u001b[39m}:\n\u001b[1;32m    593\u001b[0m         level, cat \u001b[38;5;241m=\u001b[39m \u001b[38;5;124m\"\u001b[39m\u001b[38;5;124mpyName\u001b[39m\u001b[38;5;124m\"\u001b[39m, \u001b[38;5;124m\"\u001b[39m\u001b[38;5;124mActions\u001b[39m\u001b[38;5;124m\"\u001b[39m\n",
      "\u001b[0;31mNameError\u001b[0m: name 'pd' is not defined"
     ]
    }
   ],
   "source": [
    "vf.plotFunnelChart('Group', query=pl.col('pyIssue')=='Sales')"
   ]
  }
 ],
 "metadata": {
  "interpreter": {
   "hash": "7e1998ff7f8aa20ada591c520b972326324e5ea05489af9e422744c7c09f6dad"
  },
  "kernelspec": {
   "display_name": "Python 3.10.2 64-bit",
   "language": "python",
   "name": "python3"
  },
  "language_info": {
   "codemirror_mode": {
    "name": "ipython",
    "version": 3
   },
   "file_extension": ".py",
   "mimetype": "text/x-python",
   "name": "python",
   "nbconvert_exporter": "python",
   "pygments_lexer": "ipython3",
   "version": "3.11.0"
  }
 },
 "nbformat": 4,
 "nbformat_minor": 2
}
