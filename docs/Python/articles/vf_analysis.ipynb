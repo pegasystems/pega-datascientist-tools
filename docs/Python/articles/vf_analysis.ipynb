{
 "cells": [
  {
   "cell_type": "markdown",
   "metadata": {
    "nbsphinx": "hidden"
   },
   "source": [
    "## Link to article\n",
    "\n",
    "This notebook is included in the documentation, where the interactive Plotly charts show up. See:\n",
    "https://pegasystems.github.io/pega-datascientist-tools/Python/articles/vf_analysis.html"
   ]
  },
  {
   "cell_type": "code",
   "execution_count": 1,
   "metadata": {
    "execution": {
<<<<<<< HEAD
     "iopub.execute_input": "2023-03-02T17:07:36.425136Z",
     "iopub.status.busy": "2023-03-02T17:07:36.424735Z",
     "iopub.status.idle": "2023-03-02T17:07:36.780321Z",
     "shell.execute_reply": "2023-03-02T17:07:36.779594Z"
=======
     "iopub.execute_input": "2023-03-06T16:12:27.255318Z",
     "iopub.status.busy": "2023-03-06T16:12:27.255019Z",
     "iopub.status.idle": "2023-03-06T16:12:27.449297Z",
     "shell.execute_reply": "2023-03-06T16:12:27.448781Z"
>>>>>>> master
    },
    "nbsphinx": "hidden"
   },
   "outputs": [],
   "source": [
    "# These lines are only for rendering in the docs, and are hidden through Jupyter tags\n",
    "# Do not run if you're running the notebook seperately\n",
    "\n",
    "import plotly.io as pio\n",
    "pio.renderers.default='notebook_connected'\n",
    "\n",
    "import sys\n",
    "sys.path.append('../../../')"
   ]
  },
  {
   "cell_type": "markdown",
   "metadata": {},
   "source": [
    "# Value Finder analysis\n",
    "Every Value Finder simulation populates a dataset, the pyValueFinder dataset.  This dataset contains a lot more information than is what is currently presented on screen.\n",
    "\n",
    "The data held in this dataset can be analysed to uncover insights into your decision framework. \n",
    "\n",
    "CDH tools has been updated to provide a notebook for some pre-configured analysis of the Value Finder dataset. This analysis can be used to supplement your Value Finder simulation whilst we add these features formally to the product.\n",
    "\n",
    "In the data folder we’ve stored a copy of such a dataset, generated from an (internal) demo\n",
    "application (CDHSample).\n",
    "\n",
    "This page shows an example how the data can be used for additional analyses.\n",
    "\n",
    "First, let’s look at the results as presented in Pega:\n",
    "\n",
    "![Pega value finder screen](pegarun_8_6_0.png)\n",
    "\n",
    "For the sample provided, the relevant action setting is 1.2%. There are 10.000 customers, 3491 without actions, 555 with only irrelevant actions and 5954 with at least one relevant action.\n",
    "\n",
    "Now, let's import our class, read the data and recreate this view and supplement it with some advanced analysis of the pyValueFinder dataset. Just like with the ADMDatamart class, you can supply your own path and filename as such:\n",
    "```python\n",
    "ValueFinder(path = 'path-to-data', filename=\"Data-Insights_pyValueFinder_timestamp_GMT.zip\")\n",
    "```\n",
    "\n",
    "If only a path is supplied, it will automatically look for the latest file. \n",
    "It is also possible to supply a dataframe as the 'df' argument directly, in which case it will use that instead. \n",
    "Lastly, there is now also an additional dataset in cdh tools, which is what we'll be using."
   ]
  },
  {
   "cell_type": "code",
   "execution_count": 2,
   "metadata": {
    "execution": {
<<<<<<< HEAD
     "iopub.execute_input": "2023-03-02T17:07:36.783967Z",
     "iopub.status.busy": "2023-03-02T17:07:36.783654Z",
     "iopub.status.idle": "2023-03-02T17:07:39.591083Z",
     "shell.execute_reply": "2023-03-02T17:07:39.590374Z"
=======
     "iopub.execute_input": "2023-03-06T16:12:27.452673Z",
     "iopub.status.busy": "2023-03-06T16:12:27.452201Z",
     "iopub.status.idle": "2023-03-06T16:12:29.435717Z",
     "shell.execute_reply": "2023-03-06T16:12:29.435044Z"
>>>>>>> master
    }
   },
   "outputs": [
    {
     "name": "stdout",
     "output_type": "stream",
     "text": [
<<<<<<< HEAD
      "Data import took 1.52 seconds\n",
      "Transforming to polars... Took: 0.0 seconds\n",
      "Generating: Customer Summary... Took: 0.0 seconds\n",
=======
      "Data import took 0.55 seconds\n",
      "Transforming to polars... Took: 0.0 seconds\n",
      "Generating: Customer Summary... Took: 0.02 seconds\n",
>>>>>>> master
      "Generating: Counts per stage... Took: 0.0 seconds\n"
     ]
    }
   ],
   "source": [
    "from pdstools import ValueFinder, datasets\n",
    "import polars as pl\n",
    "vf = datasets.SampleValueFinder()"
   ]
  },
  {
   "cell_type": "markdown",
   "metadata": {},
   "source": [
    "As we can see, it has found a file on the GitHub repo and imports it straight from there. It also prints out some extra information about some calculations, which can be suppressed by supplying the keyword 'verbose=False'. \n",
    "\n",
    "Since there is only one dataset, the data is simply stored in the attribute 'df'. We heavily filter out the dataset for performance reasons, so the data will look like this:"
   ]
  },
  {
   "cell_type": "code",
   "execution_count": 3,
   "metadata": {
    "execution": {
<<<<<<< HEAD
     "iopub.execute_input": "2023-03-02T17:07:39.595149Z",
     "iopub.status.busy": "2023-03-02T17:07:39.594743Z",
     "iopub.status.idle": "2023-03-02T17:07:39.912776Z",
     "shell.execute_reply": "2023-03-02T17:07:39.911706Z"
=======
     "iopub.execute_input": "2023-03-06T16:12:29.439356Z",
     "iopub.status.busy": "2023-03-06T16:12:29.438830Z",
     "iopub.status.idle": "2023-03-06T16:12:29.447070Z",
     "shell.execute_reply": "2023-03-06T16:12:29.446413Z"
>>>>>>> master
    }
   },
   "outputs": [
    {
     "data": {
      "text/html": [
<<<<<<< HEAD
       "<h4>NAIVE QUERY PLAN</h4><p>run <b>LazyFrame.show_graph()</b> to see the optimized version</p><?xml version=\"1.0\" encoding=\"UTF-8\" standalone=\"no\"?>\n",
       "<!DOCTYPE svg PUBLIC \"-//W3C//DTD SVG 1.1//EN\"\n",
       " \"http://www.w3.org/Graphics/SVG/1.1/DTD/svg11.dtd\">\n",
       "<!-- Generated by graphviz version 5.0.1 (20220820.1526)\n",
       " -->\n",
       "<!-- Title: polars_query Pages: 1 -->\n",
       "<svg width=\"149pt\" height=\"133pt\"\n",
       " viewBox=\"0.00 0.00 149.00 133.00\" xmlns=\"http://www.w3.org/2000/svg\" xmlns:xlink=\"http://www.w3.org/1999/xlink\">\n",
       "<g id=\"graph0\" class=\"graph\" transform=\"scale(1 1) rotate(0) translate(4 129)\">\n",
       "<title>polars_query</title>\n",
       "<polygon fill=\"white\" stroke=\"none\" points=\"-4,4 -4,-129 145,-129 145,4 -4,4\"/>\n",
       "<!-- SLICE offset: 0; len: 5 [(0, 0)] -->\n",
       "<g id=\"node1\" class=\"node\">\n",
       "<title>SLICE offset: 0; len: 5 [(0, 0)]</title>\n",
       "<polygon fill=\"none\" stroke=\"black\" points=\"141,-125 0,-125 0,-89 141,-89 141,-125\"/>\n",
       "<text text-anchor=\"middle\" x=\"70.5\" y=\"-103.3\" font-family=\"Times,serif\" font-size=\"14.00\">SLICE offset: 0; len: 5</text>\n",
       "</g>\n",
       "<!-- TABLE\n",
       "π */11;\n",
       "σ &#45;; [(0, 1)] -->\n",
       "<g id=\"node2\" class=\"node\">\n",
       "<title>TABLE\n",
       "π */11;\n",
       "σ &#45;; [(0, 1)]</title>\n",
       "<polygon fill=\"none\" stroke=\"black\" points=\"100,-53 41,-53 41,0 100,0 100,-53\"/>\n",
       "<text text-anchor=\"middle\" x=\"70.5\" y=\"-37.8\" font-family=\"Times,serif\" font-size=\"14.00\">TABLE</text>\n",
       "<text text-anchor=\"middle\" x=\"70.5\" y=\"-22.8\" font-family=\"Times,serif\" font-size=\"14.00\">π */11;</text>\n",
       "<text text-anchor=\"middle\" x=\"70.5\" y=\"-7.8\" font-family=\"Times,serif\" font-size=\"14.00\">σ &#45;;</text>\n",
       "</g>\n",
       "<!-- SLICE offset: 0; len: 5 [(0, 0)]&#45;&#45;TABLE\n",
       "π */11;\n",
       "σ &#45;; [(0, 1)] -->\n",
       "<g id=\"edge1\" class=\"edge\">\n",
       "<title>SLICE offset: 0; len: 5 [(0, 0)]&#45;&#45;TABLE\n",
       "π */11;\n",
       "σ &#45;; [(0, 1)]</title>\n",
       "<path fill=\"none\" stroke=\"black\" d=\"M70.5,-88.97C70.5,-78.51 70.5,-64.9 70.5,-53.16\"/>\n",
       "</g>\n",
       "</g>\n",
       "</svg>\n"
      ],
      "text/plain": [
       "<polars.LazyFrame object at 0x10C92F550>"
=======
       "<div>\n",
       "<style>\n",
       ".pl-dataframe > thead > tr > th {\n",
       "  text-align: right;\n",
       "}\n",
       "</style>\n",
       "\n",
       "<table border=\"1\" class=\"dataframe pl-dataframe\">\n",
       "<small>shape: (5, 11)</small>\n",
       "<thead>\n",
       "<tr>\n",
       "<th>\n",
       "pyStage\n",
       "</th>\n",
       "<th>\n",
       "pyIssue\n",
       "</th>\n",
       "<th>\n",
       "pyGroup\n",
       "</th>\n",
       "<th>\n",
       "pyChannel\n",
       "</th>\n",
       "<th>\n",
       "pyDirection\n",
       "</th>\n",
       "<th>\n",
       "CustomerID\n",
       "</th>\n",
       "<th>\n",
       "pyName\n",
       "</th>\n",
       "<th>\n",
       "pyWorkID\n",
       "</th>\n",
       "<th>\n",
       "pyModelPropensity\n",
       "</th>\n",
       "<th>\n",
       "pyPropensity\n",
       "</th>\n",
       "<th>\n",
       "FinalPropensity\n",
       "</th>\n",
       "</tr>\n",
       "<tr>\n",
       "<td>\n",
       "str\n",
       "</td>\n",
       "<td>\n",
       "str\n",
       "</td>\n",
       "<td>\n",
       "str\n",
       "</td>\n",
       "<td>\n",
       "str\n",
       "</td>\n",
       "<td>\n",
       "str\n",
       "</td>\n",
       "<td>\n",
       "str\n",
       "</td>\n",
       "<td>\n",
       "str\n",
       "</td>\n",
       "<td>\n",
       "str\n",
       "</td>\n",
       "<td>\n",
       "f64\n",
       "</td>\n",
       "<td>\n",
       "f64\n",
       "</td>\n",
       "<td>\n",
       "f64\n",
       "</td>\n",
       "</tr>\n",
       "</thead>\n",
       "<tbody>\n",
       "<tr>\n",
       "<td>\n",
       "&quot;Applicability&quot;\n",
       "</td>\n",
       "<td>\n",
       "&quot;Sales&quot;\n",
       "</td>\n",
       "<td>\n",
       "&quot;DepositAccount...\n",
       "</td>\n",
       "<td>\n",
       "&quot;SMS&quot;\n",
       "</td>\n",
       "<td>\n",
       "&quot;Outbound&quot;\n",
       "</td>\n",
       "<td>\n",
       "&quot;Customer-1&quot;\n",
       "</td>\n",
       "<td>\n",
       "&quot;StudentCheckin...\n",
       "</td>\n",
       "<td>\n",
       "&quot;Opp_NBA_AlDF_S...\n",
       "</td>\n",
       "<td>\n",
       "0.269231\n",
       "</td>\n",
       "<td>\n",
       "0.269231\n",
       "</td>\n",
       "<td>\n",
       "0.278077\n",
       "</td>\n",
       "</tr>\n",
       "<tr>\n",
       "<td>\n",
       "&quot;Applicability&quot;\n",
       "</td>\n",
       "<td>\n",
       "&quot;Usage&quot;\n",
       "</td>\n",
       "<td>\n",
       "&quot;Mobilebanking&quot;\n",
       "</td>\n",
       "<td>\n",
       "&quot;SMS&quot;\n",
       "</td>\n",
       "<td>\n",
       "&quot;Outbound&quot;\n",
       "</td>\n",
       "<td>\n",
       "&quot;Customer-100&quot;\n",
       "</td>\n",
       "<td>\n",
       "&quot;GetTheUMobileA...\n",
       "</td>\n",
       "<td>\n",
       "&quot;Opp_NBA_AlDF_S...\n",
       "</td>\n",
       "<td>\n",
       "0.5\n",
       "</td>\n",
       "<td>\n",
       "0.5\n",
       "</td>\n",
       "<td>\n",
       "0.713095\n",
       "</td>\n",
       "</tr>\n",
       "<tr>\n",
       "<td>\n",
       "&quot;Applicability&quot;\n",
       "</td>\n",
       "<td>\n",
       "&quot;Collections&quot;\n",
       "</td>\n",
       "<td>\n",
       "&quot;Recommendation...\n",
       "</td>\n",
       "<td>\n",
       "&quot;SMS&quot;\n",
       "</td>\n",
       "<td>\n",
       "&quot;Outbound&quot;\n",
       "</td>\n",
       "<td>\n",
       "&quot;Customer-1000&quot;\n",
       "</td>\n",
       "<td>\n",
       "&quot;SetupAutopayTo...\n",
       "</td>\n",
       "<td>\n",
       "&quot;Opp_NBA_AlDF_S...\n",
       "</td>\n",
       "<td>\n",
       "0.5\n",
       "</td>\n",
       "<td>\n",
       "0.5\n",
       "</td>\n",
       "<td>\n",
       "0.421306\n",
       "</td>\n",
       "</tr>\n",
       "<tr>\n",
       "<td>\n",
       "&quot;Applicability&quot;\n",
       "</td>\n",
       "<td>\n",
       "&quot;Sales&quot;\n",
       "</td>\n",
       "<td>\n",
       "&quot;DepositAccount...\n",
       "</td>\n",
       "<td>\n",
       "&quot;SMS&quot;\n",
       "</td>\n",
       "<td>\n",
       "&quot;Outbound&quot;\n",
       "</td>\n",
       "<td>\n",
       "&quot;Customer-10000...\n",
       "</td>\n",
       "<td>\n",
       "&quot;StudentCheckin...\n",
       "</td>\n",
       "<td>\n",
       "&quot;Opp_NBA_AlDF_S...\n",
       "</td>\n",
       "<td>\n",
       "0.269231\n",
       "</td>\n",
       "<td>\n",
       "0.269231\n",
       "</td>\n",
       "<td>\n",
       "0.244777\n",
       "</td>\n",
       "</tr>\n",
       "<tr>\n",
       "<td>\n",
       "&quot;Applicability&quot;\n",
       "</td>\n",
       "<td>\n",
       "&quot;Sales&quot;\n",
       "</td>\n",
       "<td>\n",
       "&quot;Bundles&quot;\n",
       "</td>\n",
       "<td>\n",
       "&quot;SMS&quot;\n",
       "</td>\n",
       "<td>\n",
       "&quot;Outbound&quot;\n",
       "</td>\n",
       "<td>\n",
       "&quot;Customer-1001&quot;\n",
       "</td>\n",
       "<td>\n",
       "&quot;StudentChoice&quot;\n",
       "</td>\n",
       "<td>\n",
       "&quot;Opp_NBA_AlDF_S...\n",
       "</td>\n",
       "<td>\n",
       "0.15\n",
       "</td>\n",
       "<td>\n",
       "0.15\n",
       "</td>\n",
       "<td>\n",
       "0.24831\n",
       "</td>\n",
       "</tr>\n",
       "</tbody>\n",
       "</table>\n",
       "</div>"
      ],
      "text/plain": [
       "shape: (5, 11)\n",
       "┌──────────┬──────────┬──────────┬─────────┬─────┬──────────┬────────────┬────────────┬────────────┐\n",
       "│ pyStage  ┆ pyIssue  ┆ pyGroup  ┆ pyChann ┆ ... ┆ pyWorkID ┆ pyModelPro ┆ pyPropensi ┆ FinalPrope │\n",
       "│ ---      ┆ ---      ┆ ---      ┆ el      ┆     ┆ ---      ┆ pensity    ┆ ty         ┆ nsity      │\n",
       "│ str      ┆ str      ┆ str      ┆ ---     ┆     ┆ str      ┆ ---        ┆ ---        ┆ ---        │\n",
       "│          ┆          ┆          ┆ str     ┆     ┆          ┆ f64        ┆ f64        ┆ f64        │\n",
       "╞══════════╪══════════╪══════════╪═════════╪═════╪══════════╪════════════╪════════════╪════════════╡\n",
       "│ Applicab ┆ Sales    ┆ DepositA ┆ SMS     ┆ ... ┆ Opp_NBA_ ┆ 0.269231   ┆ 0.269231   ┆ 0.278077   │\n",
       "│ ility    ┆          ┆ ccounts  ┆         ┆     ┆ AlDF_Sim ┆            ┆            ┆            │\n",
       "│          ┆          ┆          ┆         ┆     ┆ ulat-1   ┆            ┆            ┆            │\n",
       "│ Applicab ┆ Usage    ┆ Mobileba ┆ SMS     ┆ ... ┆ Opp_NBA_ ┆ 0.5        ┆ 0.5        ┆ 0.713095   │\n",
       "│ ility    ┆          ┆ nking    ┆         ┆     ┆ AlDF_Sim ┆            ┆            ┆            │\n",
       "│          ┆          ┆          ┆         ┆     ┆ ulat-1   ┆            ┆            ┆            │\n",
       "│ Applicab ┆ Collecti ┆ Recommen ┆ SMS     ┆ ... ┆ Opp_NBA_ ┆ 0.5        ┆ 0.5        ┆ 0.421306   │\n",
       "│ ility    ┆ ons      ┆ dations  ┆         ┆     ┆ AlDF_Sim ┆            ┆            ┆            │\n",
       "│          ┆          ┆          ┆         ┆     ┆ ulat-1   ┆            ┆            ┆            │\n",
       "│ Applicab ┆ Sales    ┆ DepositA ┆ SMS     ┆ ... ┆ Opp_NBA_ ┆ 0.269231   ┆ 0.269231   ┆ 0.244777   │\n",
       "│ ility    ┆          ┆ ccounts  ┆         ┆     ┆ AlDF_Sim ┆            ┆            ┆            │\n",
       "│          ┆          ┆          ┆         ┆     ┆ ulat-1   ┆            ┆            ┆            │\n",
       "│ Applicab ┆ Sales    ┆ Bundles  ┆ SMS     ┆ ... ┆ Opp_NBA_ ┆ 0.15       ┆ 0.15       ┆ 0.24831    │\n",
       "│ ility    ┆          ┆          ┆         ┆     ┆ AlDF_Sim ┆            ┆            ┆            │\n",
       "│          ┆          ┆          ┆         ┆     ┆ ulat-1   ┆            ┆            ┆            │\n",
       "└──────────┴──────────┴──────────┴─────────┴─────┴──────────┴────────────┴────────────┴────────────┘"
>>>>>>> master
      ]
     },
     "execution_count": 3,
     "metadata": {},
     "output_type": "execute_result"
    }
   ],
   "source": [
    "vf.df.head(5)"
   ]
  },
  {
   "cell_type": "markdown",
   "metadata": {},
   "source": [
    "This is already enough information to generate the same piechart as shown in platform, but to replicate the same values, we would need to compute the propensity threshold. In this case, the quantile of `0.052` of the propensity distribution seems to represent the same counts as in platform. Whilst we see the final pie chart after arbitration which correlates, it is also possible to view the same pie chart after each engagement policy stage. Simply call the `plotPieCharts()` function on the data:"
   ]
  },
  {
   "cell_type": "code",
   "execution_count": 4,
   "metadata": {
    "execution": {
<<<<<<< HEAD
     "iopub.execute_input": "2023-03-02T17:07:39.917171Z",
     "iopub.status.busy": "2023-03-02T17:07:39.916746Z",
     "iopub.status.idle": "2023-03-02T17:07:40.105947Z",
     "shell.execute_reply": "2023-03-02T17:07:40.105272Z"
=======
     "iopub.execute_input": "2023-03-06T16:12:29.450115Z",
     "iopub.status.busy": "2023-03-06T16:12:29.449741Z",
     "iopub.status.idle": "2023-03-06T16:12:29.713524Z",
     "shell.execute_reply": "2023-03-06T16:12:29.712937Z"
>>>>>>> master
    }
   },
   "outputs": [
    {
<<<<<<< HEAD
     "ename": "AttributeError",
     "evalue": "'ValueFinder' object has no attribute 'NBADStages'",
     "output_type": "error",
     "traceback": [
      "\u001b[0;31m---------------------------------------------------------------------------\u001b[0m",
      "\u001b[0;31mAttributeError\u001b[0m                            Traceback (most recent call last)",
      "Cell \u001b[0;32mIn [4], line 1\u001b[0m\n\u001b[0;32m----> 1\u001b[0m \u001b[43mvf\u001b[49m\u001b[38;5;241;43m.\u001b[39;49m\u001b[43mplotPieCharts\u001b[49m\u001b[43m(\u001b[49m\u001b[38;5;241;43m0.052\u001b[39;49m\u001b[43m,\u001b[49m\u001b[43m \u001b[49m\u001b[43mverbose\u001b[49m\u001b[38;5;241;43m=\u001b[39;49m\u001b[38;5;28;43;01mFalse\u001b[39;49;00m\u001b[43m)\u001b[49m\n",
      "File \u001b[0;32m~/Documents/Code/pdstools-polars/pega-datascientist-tools/python/docs/source/articles/../../../pdstools/valuefinder/ValueFinder.py:453\u001b[0m, in \u001b[0;36mValueFinder.plotPieCharts\u001b[0;34m(self, start, stop, step, verbose)\u001b[0m\n\u001b[1;32m    448\u001b[0m         start, stop \u001b[38;5;241m=\u001b[39m \u001b[38;5;28mself\u001b[39m\u001b[38;5;241m.\u001b[39mth, \u001b[38;5;28mself\u001b[39m\u001b[38;5;241m.\u001b[39mth \u001b[38;5;241m+\u001b[39m \u001b[38;5;241m1\u001b[39m\n\u001b[1;32m    449\u001b[0m     step \u001b[38;5;241m=\u001b[39m \u001b[38;5;241m10000\u001b[39m\n\u001b[1;32m    451\u001b[0m fig \u001b[38;5;241m=\u001b[39m make_subplots(\n\u001b[1;32m    452\u001b[0m     rows\u001b[38;5;241m=\u001b[39m\u001b[38;5;241m1\u001b[39m,\n\u001b[0;32m--> 453\u001b[0m     cols\u001b[38;5;241m=\u001b[39m\u001b[38;5;28mlen\u001b[39m(\u001b[38;5;28;43mself\u001b[39;49m\u001b[38;5;241;43m.\u001b[39;49m\u001b[43mNBADStages\u001b[49m),\n\u001b[1;32m    454\u001b[0m     specs\u001b[38;5;241m=\u001b[39m[[{\u001b[38;5;124m\"\u001b[39m\u001b[38;5;124mtype\u001b[39m\u001b[38;5;124m\"\u001b[39m: \u001b[38;5;124m\"\u001b[39m\u001b[38;5;124mdomain\u001b[39m\u001b[38;5;124m\"\u001b[39m}] \u001b[38;5;241m*\u001b[39m \u001b[38;5;28mlen\u001b[39m(\u001b[38;5;28mself\u001b[39m\u001b[38;5;241m.\u001b[39mNBADStages)],\n\u001b[1;32m    455\u001b[0m     subplot_titles\u001b[38;5;241m=\u001b[39m\u001b[38;5;28mself\u001b[39m\u001b[38;5;241m.\u001b[39mNBADStages,\n\u001b[1;32m    456\u001b[0m )\n\u001b[1;32m    457\u001b[0m \u001b[38;5;28mself\u001b[39m\u001b[38;5;241m.\u001b[39maddCountsPerThresholdRange(start, stop, step, verbose\u001b[38;5;241m=\u001b[39mverbose)\n\u001b[1;32m    458\u001b[0m founddefault \u001b[38;5;241m=\u001b[39m \u001b[38;5;28;01mFalse\u001b[39;00m\n",
      "\u001b[0;31mAttributeError\u001b[0m: 'ValueFinder' object has no attribute 'NBADStages'"
=======
     "ename": "UnboundLocalError",
     "evalue": "cannot access local variable 'quantile' where it is not associated with a value",
     "output_type": "error",
     "traceback": [
      "\u001b[0;31m---------------------------------------------------------------------------\u001b[0m",
      "\u001b[0;31mUnboundLocalError\u001b[0m                         Traceback (most recent call last)",
      "Cell \u001b[0;32mIn [4], line 1\u001b[0m\n\u001b[0;32m----> 1\u001b[0m \u001b[43mvf\u001b[49m\u001b[38;5;241;43m.\u001b[39;49m\u001b[43mplotPieCharts\u001b[49m\u001b[43m(\u001b[49m\u001b[38;5;241;43m0.052\u001b[39;49m\u001b[43m,\u001b[49m\u001b[43m \u001b[49m\u001b[43mverbose\u001b[49m\u001b[38;5;241;43m=\u001b[39;49m\u001b[38;5;28;43;01mFalse\u001b[39;49;00m\u001b[43m)\u001b[49m\n",
      "File \u001b[0;32m~/Documents/Code/pdstools-working/pega-datascientist-tools/python/docs/source/articles/../../../pdstools/valuefinder/ValueFinder.py:458\u001b[0m, in \u001b[0;36mValueFinder.plotPieCharts\u001b[0;34m(self, start, stop, step, propType, verbose)\u001b[0m\n\u001b[1;32m    455\u001b[0m         visible \u001b[38;5;241m=\u001b[39m \u001b[38;5;28;01mFalse\u001b[39;00m\n\u001b[1;32m    456\u001b[0m     \u001b[38;5;28;01mfor\u001b[39;00m i, stage \u001b[38;5;129;01min\u001b[39;00m \u001b[38;5;28menumerate\u001b[39m(\u001b[38;5;28mself\u001b[39m\u001b[38;5;241m.\u001b[39mNBADStages):\n\u001b[1;32m    457\u001b[0m         data \u001b[38;5;241m=\u001b[39m (\n\u001b[0;32m--> 458\u001b[0m             \u001b[38;5;28mself\u001b[39m\u001b[38;5;241m.\u001b[39mcountsPerThreshold[\u001b[43mquantile\u001b[49m][\u001b[38;5;241m1\u001b[39m]\n\u001b[1;32m    459\u001b[0m             \u001b[38;5;241m.\u001b[39mfilter(pl\u001b[38;5;241m.\u001b[39mcol(\u001b[38;5;124m\"\u001b[39m\u001b[38;5;124mpyStage\u001b[39m\u001b[38;5;124m\"\u001b[39m) \u001b[38;5;241m==\u001b[39m stage)\n\u001b[1;32m    460\u001b[0m             \u001b[38;5;241m.\u001b[39mdrop(\u001b[38;5;124m\"\u001b[39m\u001b[38;5;124mpyStage\u001b[39m\u001b[38;5;124m\"\u001b[39m)\n\u001b[1;32m    461\u001b[0m         )\n\u001b[1;32m    462\u001b[0m         fig\u001b[38;5;241m.\u001b[39madd_trace(\n\u001b[1;32m    463\u001b[0m             go\u001b[38;5;241m.\u001b[39mPie(\n\u001b[1;32m    464\u001b[0m                 values\u001b[38;5;241m=\u001b[39m\u001b[38;5;28mlist\u001b[39m(data\u001b[38;5;241m.\u001b[39mcollect()\u001b[38;5;241m.\u001b[39mto_numpy())[\u001b[38;5;241m0\u001b[39m],\n\u001b[0;32m   (...)\u001b[0m\n\u001b[1;32m    479\u001b[0m             i \u001b[38;5;241m+\u001b[39m \u001b[38;5;241m1\u001b[39m,\n\u001b[1;32m    480\u001b[0m         )\n\u001b[1;32m    481\u001b[0m steps \u001b[38;5;241m=\u001b[39m []\n",
      "\u001b[0;31mUnboundLocalError\u001b[0m: cannot access local variable 'quantile' where it is not associated with a value"
>>>>>>> master
     ]
    }
   ],
   "source": [
    "vf.plotPieCharts(0.052, verbose=False)"
   ]
  },
  {
   "cell_type": "markdown",
   "metadata": {},
   "source": [
    "By hovering over the rightmost pie chart, you can see the numbers match up exactly to that shown in the value finder simulation. What's more, we don't just show the counts in the final arbitration stage, but also the counts of the eligibility, applicability, and the suitability stages. This view shows you the movement of customers from having at least one relevant action to only irrelevant actions and no actions over the application of the engagement policies. This will show you the most impactful stage of your policies.\n",
    "\n",
    "Now, of course, if a customer is well served or not, depends heavily on what we consider to be well served. After the application of eligibility engagment policies we choose the relevant action setting. This is set at the 5th percentil of engagement policies. We can plot what that will look like as such, where the dotted line is that set threshold:"
   ]
  },
  {
   "cell_type": "code",
   "execution_count": 5,
   "metadata": {
    "execution": {
<<<<<<< HEAD
     "iopub.execute_input": "2023-03-02T17:07:40.108823Z",
     "iopub.status.busy": "2023-03-02T17:07:40.108591Z",
     "iopub.status.idle": "2023-03-02T17:07:40.314717Z",
     "shell.execute_reply": "2023-03-02T17:07:40.314148Z"
=======
     "iopub.execute_input": "2023-03-06T16:12:29.716727Z",
     "iopub.status.busy": "2023-03-06T16:12:29.716514Z",
     "iopub.status.idle": "2023-03-06T16:12:29.820004Z",
     "shell.execute_reply": "2023-03-06T16:12:29.819423Z"
>>>>>>> master
    }
   },
   "outputs": [
    {
<<<<<<< HEAD
     "ename": "TypeError",
     "evalue": "object of type 'LazyFrame' has no len()",
     "output_type": "error",
     "traceback": [
      "\u001b[0;31m---------------------------------------------------------------------------\u001b[0m",
      "\u001b[0;31mTypeError\u001b[0m                                 Traceback (most recent call last)",
      "Cell \u001b[0;32mIn [5], line 1\u001b[0m\n\u001b[0;32m----> 1\u001b[0m \u001b[43mvf\u001b[49m\u001b[38;5;241;43m.\u001b[39;49m\u001b[43mplotPropensityThreshold\u001b[49m\u001b[43m(\u001b[49m\u001b[43m)\u001b[49m\n",
      "File \u001b[0;32m~/Documents/Code/pdstools-polars/pega-datascientist-tools/python/docs/source/articles/../../../pdstools/valuefinder/ValueFinder.py:362\u001b[0m, in \u001b[0;36mValueFinder.plotPropensityThreshold\u001b[0;34m(self, sampledN, stage)\u001b[0m\n\u001b[1;32m    360\u001b[0m yrange \u001b[38;5;241m=\u001b[39m [\u001b[38;5;241m0\u001b[39m, \u001b[38;5;241m15\u001b[39m]\n\u001b[1;32m    361\u001b[0m data \u001b[38;5;241m=\u001b[39m \u001b[38;5;28mself\u001b[39m\u001b[38;5;241m.\u001b[39mdf\u001b[38;5;241m.\u001b[39mfilter(pl\u001b[38;5;241m.\u001b[39mcol(\u001b[38;5;124m\"\u001b[39m\u001b[38;5;124mpyStage\u001b[39m\u001b[38;5;124m\"\u001b[39m) \u001b[38;5;241m==\u001b[39m stage)\u001b[38;5;241m.\u001b[39mselect(propensities)\n\u001b[0;32m--> 362\u001b[0m \u001b[38;5;28;01mif\u001b[39;00m \u001b[38;5;28;43mlen\u001b[39;49m\u001b[43m(\u001b[49m\u001b[43mdata\u001b[49m\u001b[43m)\u001b[49m \u001b[38;5;241m>\u001b[39m sampledN:\n\u001b[1;32m    363\u001b[0m     data \u001b[38;5;241m=\u001b[39m data\u001b[38;5;241m.\u001b[39msample(sampledN)\n\u001b[1;32m    364\u001b[0m \u001b[38;5;28;01mfor\u001b[39;00m ptype \u001b[38;5;129;01min\u001b[39;00m propensities:\n",
      "\u001b[0;31mTypeError\u001b[0m: object of type 'LazyFrame' has no len()"
=======
     "ename": "ImportError",
     "evalue": "FigureFactory.create_distplot requires scipy",
     "output_type": "error",
     "traceback": [
      "\u001b[0;31m---------------------------------------------------------------------------\u001b[0m",
      "\u001b[0;31mImportError\u001b[0m                               Traceback (most recent call last)",
      "Cell \u001b[0;32mIn [5], line 1\u001b[0m\n\u001b[0;32m----> 1\u001b[0m \u001b[43mvf\u001b[49m\u001b[38;5;241;43m.\u001b[39;49m\u001b[43mplotPropensityThreshold\u001b[49m\u001b[43m(\u001b[49m\u001b[43m)\u001b[49m\n",
      "File \u001b[0;32m~/Documents/Code/pdstools-working/pega-datascientist-tools/python/docs/source/articles/../../../pdstools/valuefinder/ValueFinder.py:355\u001b[0m, in \u001b[0;36mValueFinder.plotPropensityThreshold\u001b[0;34m(self, sampledN, stage)\u001b[0m\n\u001b[1;32m    353\u001b[0m \u001b[38;5;28;01mfor\u001b[39;00m ptype \u001b[38;5;129;01min\u001b[39;00m propensities:\n\u001b[1;32m    354\u001b[0m     plotdf \u001b[38;5;241m=\u001b[39m data[ptype]\u001b[38;5;241m.\u001b[39mto_list()\n\u001b[0;32m--> 355\u001b[0m     temp \u001b[38;5;241m=\u001b[39m \u001b[43mff\u001b[49m\u001b[38;5;241;43m.\u001b[39;49m\u001b[43mcreate_distplot\u001b[49m\u001b[43m(\u001b[49m\n\u001b[1;32m    356\u001b[0m \u001b[43m        \u001b[49m\u001b[43m[\u001b[49m\u001b[43mplotdf\u001b[49m\u001b[43m]\u001b[49m\u001b[43m,\u001b[49m\u001b[43m \u001b[49m\u001b[43m[\u001b[49m\u001b[38;5;124;43m\"\u001b[39;49m\u001b[38;5;124;43mvalue\u001b[39;49m\u001b[38;5;124;43m\"\u001b[39;49m\u001b[43m]\u001b[49m\u001b[43m,\u001b[49m\u001b[43m \u001b[49m\u001b[43mshow_rug\u001b[49m\u001b[38;5;241;43m=\u001b[39;49m\u001b[38;5;28;43;01mFalse\u001b[39;49;00m\u001b[43m,\u001b[49m\u001b[43m \u001b[49m\u001b[43mshow_hist\u001b[49m\u001b[38;5;241;43m=\u001b[39;49m\u001b[38;5;28;43;01mFalse\u001b[39;49;00m\n\u001b[1;32m    357\u001b[0m \u001b[43m    \u001b[49m\u001b[43m)\u001b[49m\n\u001b[1;32m    358\u001b[0m     tempdf \u001b[38;5;241m=\u001b[39m pd\u001b[38;5;241m.\u001b[39mDataFrame(\n\u001b[1;32m    359\u001b[0m         {\u001b[38;5;124m\"\u001b[39m\u001b[38;5;124mx\u001b[39m\u001b[38;5;124m\"\u001b[39m: temp[\u001b[38;5;124m\"\u001b[39m\u001b[38;5;124mdata\u001b[39m\u001b[38;5;124m\"\u001b[39m][\u001b[38;5;241m0\u001b[39m][\u001b[38;5;124m\"\u001b[39m\u001b[38;5;124mx\u001b[39m\u001b[38;5;124m\"\u001b[39m], \u001b[38;5;124m\"\u001b[39m\u001b[38;5;124my\u001b[39m\u001b[38;5;124m\"\u001b[39m: temp[\u001b[38;5;124m\"\u001b[39m\u001b[38;5;124mdata\u001b[39m\u001b[38;5;124m\"\u001b[39m][\u001b[38;5;241m0\u001b[39m][\u001b[38;5;124m\"\u001b[39m\u001b[38;5;124my\u001b[39m\u001b[38;5;124m\"\u001b[39m]}\n\u001b[1;32m    360\u001b[0m     )\n\u001b[1;32m    361\u001b[0m     figs\u001b[38;5;241m.\u001b[39madd_trace(\n\u001b[1;32m    362\u001b[0m         go\u001b[38;5;241m.\u001b[39mScatter(\n\u001b[1;32m    363\u001b[0m             x\u001b[38;5;241m=\u001b[39mtempdf[\u001b[38;5;124m\"\u001b[39m\u001b[38;5;124mx\u001b[39m\u001b[38;5;124m\"\u001b[39m],\n\u001b[0;32m   (...)\u001b[0m\n\u001b[1;32m    371\u001b[0m         col\u001b[38;5;241m=\u001b[39m\u001b[38;5;241m1\u001b[39m,\n\u001b[1;32m    372\u001b[0m     )\n",
      "File \u001b[0;32m/Library/Frameworks/Python.framework/Versions/3.11/lib/python3.11/site-packages/plotly/figure_factory/_distplot.py:180\u001b[0m, in \u001b[0;36mcreate_distplot\u001b[0;34m(hist_data, group_labels, bin_size, curve_type, colors, rug_text, histnorm, show_hist, show_curve, show_rug)\u001b[0m\n\u001b[1;32m    177\u001b[0m \u001b[38;5;28;01mif\u001b[39;00m rug_text \u001b[38;5;129;01mis\u001b[39;00m \u001b[38;5;28;01mNone\u001b[39;00m:\n\u001b[1;32m    178\u001b[0m     rug_text \u001b[38;5;241m=\u001b[39m []\n\u001b[0;32m--> 180\u001b[0m \u001b[43mvalidate_distplot\u001b[49m\u001b[43m(\u001b[49m\u001b[43mhist_data\u001b[49m\u001b[43m,\u001b[49m\u001b[43m \u001b[49m\u001b[43mcurve_type\u001b[49m\u001b[43m)\u001b[49m\n\u001b[1;32m    181\u001b[0m utils\u001b[38;5;241m.\u001b[39mvalidate_equal_length(hist_data, group_labels)\n\u001b[1;32m    183\u001b[0m \u001b[38;5;28;01mif\u001b[39;00m \u001b[38;5;28misinstance\u001b[39m(bin_size, (\u001b[38;5;28mfloat\u001b[39m, \u001b[38;5;28mint\u001b[39m)):\n",
      "File \u001b[0;32m/Library/Frameworks/Python.framework/Versions/3.11/lib/python3.11/site-packages/plotly/figure_factory/_distplot.py:49\u001b[0m, in \u001b[0;36mvalidate_distplot\u001b[0;34m(hist_data, curve_type)\u001b[0m\n\u001b[1;32m     44\u001b[0m     \u001b[38;5;28;01mraise\u001b[39;00m exceptions\u001b[38;5;241m.\u001b[39mPlotlyError(\n\u001b[1;32m     45\u001b[0m         \u001b[38;5;124m\"\u001b[39m\u001b[38;5;124mcurve_type must be defined as \u001b[39m\u001b[38;5;124m\"\u001b[39m \u001b[38;5;124m\"\u001b[39m\u001b[38;5;124m'\u001b[39m\u001b[38;5;124mkde\u001b[39m\u001b[38;5;124m'\u001b[39m\u001b[38;5;124m or \u001b[39m\u001b[38;5;124m'\u001b[39m\u001b[38;5;124mnormal\u001b[39m\u001b[38;5;124m'\u001b[39m\u001b[38;5;124m\"\u001b[39m\n\u001b[1;32m     46\u001b[0m     )\n\u001b[1;32m     48\u001b[0m \u001b[38;5;28;01mif\u001b[39;00m \u001b[38;5;129;01mnot\u001b[39;00m scipy:\n\u001b[0;32m---> 49\u001b[0m     \u001b[38;5;28;01mraise\u001b[39;00m \u001b[38;5;167;01mImportError\u001b[39;00m(\u001b[38;5;124m\"\u001b[39m\u001b[38;5;124mFigureFactory.create_distplot requires scipy\u001b[39m\u001b[38;5;124m\"\u001b[39m)\n",
      "\u001b[0;31mImportError\u001b[0m: FigureFactory.create_distplot requires scipy"
>>>>>>> master
     ]
    }
   ],
   "source": [
    "vf.plotPropensityThreshold()"
   ]
  },
  {
   "cell_type": "markdown",
   "metadata": {},
   "source": [
    "These different propensities represent the raw propensities from the models (pyModelPropensity), the propensities which may be overridden by the random control group (pyPropensity) and the final propensity from a prediction (FinalPropensity). In a prediction, Thompson Sampling may have been applied, smoothing the final distribution.\n",
    "\n",
    "We can also look at the propensity distributions across the different stages. Simply call `plotPropensityDistribution()`."
   ]
  },
  {
   "cell_type": "code",
   "execution_count": 6,
   "metadata": {
    "execution": {
<<<<<<< HEAD
     "iopub.execute_input": "2023-03-02T17:07:40.317545Z",
     "iopub.status.busy": "2023-03-02T17:07:40.317322Z",
     "iopub.status.idle": "2023-03-02T17:07:40.337190Z",
     "shell.execute_reply": "2023-03-02T17:07:40.336721Z"
=======
     "iopub.execute_input": "2023-03-06T16:12:29.823012Z",
     "iopub.status.busy": "2023-03-06T16:12:29.822783Z",
     "iopub.status.idle": "2023-03-06T16:12:29.890178Z",
     "shell.execute_reply": "2023-03-06T16:12:29.889588Z"
>>>>>>> master
    }
   },
   "outputs": [
    {
<<<<<<< HEAD
     "ename": "AttributeError",
     "evalue": "'ValueFinder' object has no attribute 'NBADStages'",
     "output_type": "error",
     "traceback": [
      "\u001b[0;31m---------------------------------------------------------------------------\u001b[0m",
      "\u001b[0;31mAttributeError\u001b[0m                            Traceback (most recent call last)",
      "Cell \u001b[0;32mIn [6], line 1\u001b[0m\n\u001b[0;32m----> 1\u001b[0m \u001b[43mvf\u001b[49m\u001b[38;5;241;43m.\u001b[39;49m\u001b[43mplotPropensityDistribution\u001b[49m\u001b[43m(\u001b[49m\u001b[43m)\u001b[49m\n",
      "File \u001b[0;32m~/Documents/Code/pdstools-polars/pega-datascientist-tools/python/docs/source/articles/../../../pdstools/valuefinder/ValueFinder.py:307\u001b[0m, in \u001b[0;36mValueFinder.plotPropensityDistribution\u001b[0;34m(self, sampledN)\u001b[0m\n\u001b[1;32m    293\u001b[0m \u001b[38;5;124;03m\"\"\"Plots the distribution of the different propensities.\u001b[39;00m\n\u001b[1;32m    294\u001b[0m \n\u001b[1;32m    295\u001b[0m \u001b[38;5;124;03mFor optimization reasons (storage for all points in a boxplot and\u001b[39;00m\n\u001b[0;32m   (...)\u001b[0m\n\u001b[1;32m    303\u001b[0m \n\u001b[1;32m    304\u001b[0m \u001b[38;5;124;03m\"\"\"\u001b[39;00m\n\u001b[1;32m    305\u001b[0m i \u001b[38;5;241m=\u001b[39m \u001b[38;5;241m0\u001b[39m\n\u001b[1;32m    306\u001b[0m figs \u001b[38;5;241m=\u001b[39m make_subplots(\n\u001b[0;32m--> 307\u001b[0m     rows\u001b[38;5;241m=\u001b[39m\u001b[38;5;28mlen\u001b[39m(\u001b[38;5;28;43mself\u001b[39;49m\u001b[38;5;241;43m.\u001b[39;49m\u001b[43mNBADStages\u001b[49m), cols\u001b[38;5;241m=\u001b[39m\u001b[38;5;241m1\u001b[39m, shared_xaxes\u001b[38;5;241m=\u001b[39m\u001b[38;5;28;01mTrue\u001b[39;00m, vertical_spacing\u001b[38;5;241m=\u001b[39m\u001b[38;5;241m0.005\u001b[39m\n\u001b[1;32m    308\u001b[0m )\n\u001b[1;32m    309\u001b[0m \u001b[38;5;28;01mfor\u001b[39;00m stage \u001b[38;5;129;01min\u001b[39;00m \u001b[38;5;28mself\u001b[39m\u001b[38;5;241m.\u001b[39mNBADStages:\n\u001b[1;32m    310\u001b[0m     data \u001b[38;5;241m=\u001b[39m \u001b[38;5;28mself\u001b[39m\u001b[38;5;241m.\u001b[39mdf\u001b[38;5;241m.\u001b[39mfilter(pl\u001b[38;5;241m.\u001b[39mcol(\u001b[38;5;124m\"\u001b[39m\u001b[38;5;124mpyStage\u001b[39m\u001b[38;5;124m\"\u001b[39m) \u001b[38;5;241m==\u001b[39m stage)\n",
      "\u001b[0;31mAttributeError\u001b[0m: 'ValueFinder' object has no attribute 'NBADStages'"
=======
     "ename": "ImportError",
     "evalue": "FigureFactory.create_distplot requires scipy",
     "output_type": "error",
     "traceback": [
      "\u001b[0;31m---------------------------------------------------------------------------\u001b[0m",
      "\u001b[0;31mImportError\u001b[0m                               Traceback (most recent call last)",
      "Cell \u001b[0;32mIn [6], line 1\u001b[0m\n\u001b[0;32m----> 1\u001b[0m \u001b[43mvf\u001b[49m\u001b[38;5;241;43m.\u001b[39;49m\u001b[43mplotPropensityDistribution\u001b[49m\u001b[43m(\u001b[49m\u001b[43m)\u001b[49m\n",
      "File \u001b[0;32m~/Documents/Code/pdstools-working/pega-datascientist-tools/python/docs/source/articles/../../../pdstools/valuefinder/ValueFinder.py:303\u001b[0m, in \u001b[0;36mValueFinder.plotPropensityDistribution\u001b[0;34m(self, sampledN)\u001b[0m\n\u001b[1;32m    301\u001b[0m \u001b[38;5;28;01mif\u001b[39;00m \u001b[38;5;28mlen\u001b[39m(data) \u001b[38;5;241m>\u001b[39m sampledN:\n\u001b[1;32m    302\u001b[0m     data \u001b[38;5;241m=\u001b[39m data\u001b[38;5;241m.\u001b[39msample(sampledN)\n\u001b[0;32m--> 303\u001b[0m temp \u001b[38;5;241m=\u001b[39m \u001b[43mff\u001b[49m\u001b[38;5;241;43m.\u001b[39;49m\u001b[43mcreate_distplot\u001b[49m\u001b[43m(\u001b[49m\n\u001b[1;32m    304\u001b[0m \u001b[43m    \u001b[49m\u001b[43m[\u001b[49m\u001b[43mdata\u001b[49m\u001b[43m[\u001b[49m\u001b[38;5;124;43m\"\u001b[39;49m\u001b[38;5;124;43mpyModelPropensity\u001b[39;49m\u001b[38;5;124;43m\"\u001b[39;49m\u001b[43m]\u001b[49m\u001b[38;5;241;43m.\u001b[39;49m\u001b[43mto_list\u001b[49m\u001b[43m(\u001b[49m\u001b[43m)\u001b[49m\u001b[43m]\u001b[49m\u001b[43m,\u001b[49m\n\u001b[1;32m    305\u001b[0m \u001b[43m    \u001b[49m\u001b[43m[\u001b[49m\u001b[38;5;124;43m\"\u001b[39;49m\u001b[38;5;124;43mpyModelPropensity\u001b[39;49m\u001b[38;5;124;43m\"\u001b[39;49m\u001b[43m]\u001b[49m\u001b[43m,\u001b[49m\n\u001b[1;32m    306\u001b[0m \u001b[43m    \u001b[49m\u001b[43mshow_rug\u001b[49m\u001b[38;5;241;43m=\u001b[39;49m\u001b[38;5;28;43;01mFalse\u001b[39;49;00m\u001b[43m,\u001b[49m\n\u001b[1;32m    307\u001b[0m \u001b[43m    \u001b[49m\u001b[43mshow_hist\u001b[49m\u001b[38;5;241;43m=\u001b[39;49m\u001b[38;5;28;43;01mFalse\u001b[39;49;00m\u001b[43m,\u001b[49m\n\u001b[1;32m    308\u001b[0m \u001b[43m\u001b[49m\u001b[43m)\u001b[49m\n\u001b[1;32m    309\u001b[0m tempdf \u001b[38;5;241m=\u001b[39m pd\u001b[38;5;241m.\u001b[39mDataFrame(\n\u001b[1;32m    310\u001b[0m     {\u001b[38;5;124m\"\u001b[39m\u001b[38;5;124mx\u001b[39m\u001b[38;5;124m\"\u001b[39m: temp[\u001b[38;5;124m\"\u001b[39m\u001b[38;5;124mdata\u001b[39m\u001b[38;5;124m\"\u001b[39m][\u001b[38;5;241m0\u001b[39m][\u001b[38;5;124m\"\u001b[39m\u001b[38;5;124mx\u001b[39m\u001b[38;5;124m\"\u001b[39m], \u001b[38;5;124m\"\u001b[39m\u001b[38;5;124my\u001b[39m\u001b[38;5;124m\"\u001b[39m: temp[\u001b[38;5;124m\"\u001b[39m\u001b[38;5;124mdata\u001b[39m\u001b[38;5;124m\"\u001b[39m][\u001b[38;5;241m0\u001b[39m][\u001b[38;5;124m\"\u001b[39m\u001b[38;5;124my\u001b[39m\u001b[38;5;124m\"\u001b[39m]}\n\u001b[1;32m    311\u001b[0m )\n\u001b[1;32m    312\u001b[0m fig \u001b[38;5;241m=\u001b[39m go\u001b[38;5;241m.\u001b[39mScatter(\n\u001b[1;32m    313\u001b[0m     x\u001b[38;5;241m=\u001b[39mtempdf[\u001b[38;5;124m\"\u001b[39m\u001b[38;5;124mx\u001b[39m\u001b[38;5;124m\"\u001b[39m],\n\u001b[1;32m    314\u001b[0m     y\u001b[38;5;241m=\u001b[39mtempdf[\u001b[38;5;124m\"\u001b[39m\u001b[38;5;124my\u001b[39m\u001b[38;5;124m\"\u001b[39m],\n\u001b[0;32m   (...)\u001b[0m\n\u001b[1;32m    317\u001b[0m     line_color\u001b[38;5;241m=\u001b[39m\u001b[38;5;124m\"\u001b[39m\u001b[38;5;124mrgba(0,0,0)\u001b[39m\u001b[38;5;124m\"\u001b[39m,\n\u001b[1;32m    318\u001b[0m )\n",
      "File \u001b[0;32m/Library/Frameworks/Python.framework/Versions/3.11/lib/python3.11/site-packages/plotly/figure_factory/_distplot.py:180\u001b[0m, in \u001b[0;36mcreate_distplot\u001b[0;34m(hist_data, group_labels, bin_size, curve_type, colors, rug_text, histnorm, show_hist, show_curve, show_rug)\u001b[0m\n\u001b[1;32m    177\u001b[0m \u001b[38;5;28;01mif\u001b[39;00m rug_text \u001b[38;5;129;01mis\u001b[39;00m \u001b[38;5;28;01mNone\u001b[39;00m:\n\u001b[1;32m    178\u001b[0m     rug_text \u001b[38;5;241m=\u001b[39m []\n\u001b[0;32m--> 180\u001b[0m \u001b[43mvalidate_distplot\u001b[49m\u001b[43m(\u001b[49m\u001b[43mhist_data\u001b[49m\u001b[43m,\u001b[49m\u001b[43m \u001b[49m\u001b[43mcurve_type\u001b[49m\u001b[43m)\u001b[49m\n\u001b[1;32m    181\u001b[0m utils\u001b[38;5;241m.\u001b[39mvalidate_equal_length(hist_data, group_labels)\n\u001b[1;32m    183\u001b[0m \u001b[38;5;28;01mif\u001b[39;00m \u001b[38;5;28misinstance\u001b[39m(bin_size, (\u001b[38;5;28mfloat\u001b[39m, \u001b[38;5;28mint\u001b[39m)):\n",
      "File \u001b[0;32m/Library/Frameworks/Python.framework/Versions/3.11/lib/python3.11/site-packages/plotly/figure_factory/_distplot.py:49\u001b[0m, in \u001b[0;36mvalidate_distplot\u001b[0;34m(hist_data, curve_type)\u001b[0m\n\u001b[1;32m     44\u001b[0m     \u001b[38;5;28;01mraise\u001b[39;00m exceptions\u001b[38;5;241m.\u001b[39mPlotlyError(\n\u001b[1;32m     45\u001b[0m         \u001b[38;5;124m\"\u001b[39m\u001b[38;5;124mcurve_type must be defined as \u001b[39m\u001b[38;5;124m\"\u001b[39m \u001b[38;5;124m\"\u001b[39m\u001b[38;5;124m'\u001b[39m\u001b[38;5;124mkde\u001b[39m\u001b[38;5;124m'\u001b[39m\u001b[38;5;124m or \u001b[39m\u001b[38;5;124m'\u001b[39m\u001b[38;5;124mnormal\u001b[39m\u001b[38;5;124m'\u001b[39m\u001b[38;5;124m\"\u001b[39m\n\u001b[1;32m     46\u001b[0m     )\n\u001b[1;32m     48\u001b[0m \u001b[38;5;28;01mif\u001b[39;00m \u001b[38;5;129;01mnot\u001b[39;00m scipy:\n\u001b[0;32m---> 49\u001b[0m     \u001b[38;5;28;01mraise\u001b[39;00m \u001b[38;5;167;01mImportError\u001b[39;00m(\u001b[38;5;124m\"\u001b[39m\u001b[38;5;124mFigureFactory.create_distplot requires scipy\u001b[39m\u001b[38;5;124m\"\u001b[39m)\n",
      "\u001b[0;31mImportError\u001b[0m: FigureFactory.create_distplot requires scipy"
>>>>>>> master
     ]
    }
   ],
   "source": [
    "vf.plotPropensityDistribution()"
   ]
  },
  {
   "cell_type": "markdown",
   "metadata": {},
   "source": [
    "So there is a spread out distribution of propensities - making the selection of the relevant action setting an important choice as this will influence whether customers are considered as having at least one relevant action or only irrelevant actions. \n",
    "\n",
    "While we can create this pie chart for one threshold, we can also do this for a range of them. To do this, simply supply three arguments to the `plotPieCharts()` function: `start`, `stop` and `step`. These correspond to a range of propensity *quantiles* for which we want to compute the counts. In the background, this will generate the aggregated counts per stage, which we can plot as such:"
   ]
  },
  {
   "cell_type": "code",
   "execution_count": 7,
   "metadata": {
    "execution": {
<<<<<<< HEAD
     "iopub.execute_input": "2023-03-02T17:07:40.340511Z",
     "iopub.status.busy": "2023-03-02T17:07:40.340260Z",
     "iopub.status.idle": "2023-03-02T17:07:40.363786Z",
     "shell.execute_reply": "2023-03-02T17:07:40.362919Z"
=======
     "iopub.execute_input": "2023-03-06T16:12:29.893346Z",
     "iopub.status.busy": "2023-03-06T16:12:29.893117Z",
     "iopub.status.idle": "2023-03-06T16:12:29.928854Z",
     "shell.execute_reply": "2023-03-06T16:12:29.928223Z"
>>>>>>> master
    }
   },
   "outputs": [
    {
<<<<<<< HEAD
     "ename": "AttributeError",
     "evalue": "'ValueFinder' object has no attribute 'NBADStages'",
     "output_type": "error",
     "traceback": [
      "\u001b[0;31m---------------------------------------------------------------------------\u001b[0m",
      "\u001b[0;31mAttributeError\u001b[0m                            Traceback (most recent call last)",
      "Cell \u001b[0;32mIn [7], line 1\u001b[0m\n\u001b[0;32m----> 1\u001b[0m \u001b[43mvf\u001b[49m\u001b[38;5;241;43m.\u001b[39;49m\u001b[43mplotPieCharts\u001b[49m\u001b[43m(\u001b[49m\u001b[43mstart\u001b[49m\u001b[38;5;241;43m=\u001b[39;49m\u001b[38;5;241;43m0.01\u001b[39;49m\u001b[43m,\u001b[49m\u001b[43m \u001b[49m\u001b[43mstop\u001b[49m\u001b[38;5;241;43m=\u001b[39;49m\u001b[38;5;241;43m0.5\u001b[39;49m\u001b[43m,\u001b[49m\u001b[43m \u001b[49m\u001b[43mstep\u001b[49m\u001b[38;5;241;43m=\u001b[39;49m\u001b[38;5;241;43m0.01\u001b[39;49m\u001b[43m,\u001b[49m\u001b[43m \u001b[49m\u001b[43mverbose\u001b[49m\u001b[38;5;241;43m=\u001b[39;49m\u001b[38;5;28;43;01mFalse\u001b[39;49;00m\u001b[43m)\u001b[49m\n",
      "File \u001b[0;32m~/Documents/Code/pdstools-polars/pega-datascientist-tools/python/docs/source/articles/../../../pdstools/valuefinder/ValueFinder.py:453\u001b[0m, in \u001b[0;36mValueFinder.plotPieCharts\u001b[0;34m(self, start, stop, step, verbose)\u001b[0m\n\u001b[1;32m    448\u001b[0m         start, stop \u001b[38;5;241m=\u001b[39m \u001b[38;5;28mself\u001b[39m\u001b[38;5;241m.\u001b[39mth, \u001b[38;5;28mself\u001b[39m\u001b[38;5;241m.\u001b[39mth \u001b[38;5;241m+\u001b[39m \u001b[38;5;241m1\u001b[39m\n\u001b[1;32m    449\u001b[0m     step \u001b[38;5;241m=\u001b[39m \u001b[38;5;241m10000\u001b[39m\n\u001b[1;32m    451\u001b[0m fig \u001b[38;5;241m=\u001b[39m make_subplots(\n\u001b[1;32m    452\u001b[0m     rows\u001b[38;5;241m=\u001b[39m\u001b[38;5;241m1\u001b[39m,\n\u001b[0;32m--> 453\u001b[0m     cols\u001b[38;5;241m=\u001b[39m\u001b[38;5;28mlen\u001b[39m(\u001b[38;5;28;43mself\u001b[39;49m\u001b[38;5;241;43m.\u001b[39;49m\u001b[43mNBADStages\u001b[49m),\n\u001b[1;32m    454\u001b[0m     specs\u001b[38;5;241m=\u001b[39m[[{\u001b[38;5;124m\"\u001b[39m\u001b[38;5;124mtype\u001b[39m\u001b[38;5;124m\"\u001b[39m: \u001b[38;5;124m\"\u001b[39m\u001b[38;5;124mdomain\u001b[39m\u001b[38;5;124m\"\u001b[39m}] \u001b[38;5;241m*\u001b[39m \u001b[38;5;28mlen\u001b[39m(\u001b[38;5;28mself\u001b[39m\u001b[38;5;241m.\u001b[39mNBADStages)],\n\u001b[1;32m    455\u001b[0m     subplot_titles\u001b[38;5;241m=\u001b[39m\u001b[38;5;28mself\u001b[39m\u001b[38;5;241m.\u001b[39mNBADStages,\n\u001b[1;32m    456\u001b[0m )\n\u001b[1;32m    457\u001b[0m \u001b[38;5;28mself\u001b[39m\u001b[38;5;241m.\u001b[39maddCountsPerThresholdRange(start, stop, step, verbose\u001b[38;5;241m=\u001b[39mverbose)\n\u001b[1;32m    458\u001b[0m founddefault \u001b[38;5;241m=\u001b[39m \u001b[38;5;28;01mFalse\u001b[39;00m\n",
      "\u001b[0;31mAttributeError\u001b[0m: 'ValueFinder' object has no attribute 'NBADStages'"
=======
     "ename": "UnboundLocalError",
     "evalue": "cannot access local variable 'quantile' where it is not associated with a value",
     "output_type": "error",
     "traceback": [
      "\u001b[0;31m---------------------------------------------------------------------------\u001b[0m",
      "\u001b[0;31mUnboundLocalError\u001b[0m                         Traceback (most recent call last)",
      "Cell \u001b[0;32mIn [7], line 1\u001b[0m\n\u001b[0;32m----> 1\u001b[0m \u001b[43mvf\u001b[49m\u001b[38;5;241;43m.\u001b[39;49m\u001b[43mplotPieCharts\u001b[49m\u001b[43m(\u001b[49m\u001b[43mstart\u001b[49m\u001b[38;5;241;43m=\u001b[39;49m\u001b[38;5;241;43m0.01\u001b[39;49m\u001b[43m,\u001b[49m\u001b[43m \u001b[49m\u001b[43mstop\u001b[49m\u001b[38;5;241;43m=\u001b[39;49m\u001b[38;5;241;43m0.5\u001b[39;49m\u001b[43m,\u001b[49m\u001b[43m \u001b[49m\u001b[43mstep\u001b[49m\u001b[38;5;241;43m=\u001b[39;49m\u001b[38;5;241;43m0.01\u001b[39;49m\u001b[43m,\u001b[49m\u001b[43m \u001b[49m\u001b[43mverbose\u001b[49m\u001b[38;5;241;43m=\u001b[39;49m\u001b[38;5;28;43;01mFalse\u001b[39;49;00m\u001b[43m)\u001b[49m\n",
      "File \u001b[0;32m~/Documents/Code/pdstools-working/pega-datascientist-tools/python/docs/source/articles/../../../pdstools/valuefinder/ValueFinder.py:458\u001b[0m, in \u001b[0;36mValueFinder.plotPieCharts\u001b[0;34m(self, start, stop, step, propType, verbose)\u001b[0m\n\u001b[1;32m    455\u001b[0m         visible \u001b[38;5;241m=\u001b[39m \u001b[38;5;28;01mFalse\u001b[39;00m\n\u001b[1;32m    456\u001b[0m     \u001b[38;5;28;01mfor\u001b[39;00m i, stage \u001b[38;5;129;01min\u001b[39;00m \u001b[38;5;28menumerate\u001b[39m(\u001b[38;5;28mself\u001b[39m\u001b[38;5;241m.\u001b[39mNBADStages):\n\u001b[1;32m    457\u001b[0m         data \u001b[38;5;241m=\u001b[39m (\n\u001b[0;32m--> 458\u001b[0m             \u001b[38;5;28mself\u001b[39m\u001b[38;5;241m.\u001b[39mcountsPerThreshold[\u001b[43mquantile\u001b[49m][\u001b[38;5;241m1\u001b[39m]\n\u001b[1;32m    459\u001b[0m             \u001b[38;5;241m.\u001b[39mfilter(pl\u001b[38;5;241m.\u001b[39mcol(\u001b[38;5;124m\"\u001b[39m\u001b[38;5;124mpyStage\u001b[39m\u001b[38;5;124m\"\u001b[39m) \u001b[38;5;241m==\u001b[39m stage)\n\u001b[1;32m    460\u001b[0m             \u001b[38;5;241m.\u001b[39mdrop(\u001b[38;5;124m\"\u001b[39m\u001b[38;5;124mpyStage\u001b[39m\u001b[38;5;124m\"\u001b[39m)\n\u001b[1;32m    461\u001b[0m         )\n\u001b[1;32m    462\u001b[0m         fig\u001b[38;5;241m.\u001b[39madd_trace(\n\u001b[1;32m    463\u001b[0m             go\u001b[38;5;241m.\u001b[39mPie(\n\u001b[1;32m    464\u001b[0m                 values\u001b[38;5;241m=\u001b[39m\u001b[38;5;28mlist\u001b[39m(data\u001b[38;5;241m.\u001b[39mcollect()\u001b[38;5;241m.\u001b[39mto_numpy())[\u001b[38;5;241m0\u001b[39m],\n\u001b[0;32m   (...)\u001b[0m\n\u001b[1;32m    479\u001b[0m             i \u001b[38;5;241m+\u001b[39m \u001b[38;5;241m1\u001b[39m,\n\u001b[1;32m    480\u001b[0m         )\n\u001b[1;32m    481\u001b[0m steps \u001b[38;5;241m=\u001b[39m []\n",
      "\u001b[0;31mUnboundLocalError\u001b[0m: cannot access local variable 'quantile' where it is not associated with a value"
>>>>>>> master
     ]
    }
   ],
   "source": [
    "vf.plotPieCharts(start=0.01, stop=0.5, step=0.01, verbose=False)"
   ]
  },
  {
   "cell_type": "markdown",
   "metadata": {},
   "source": [
    "Note the slider at the bottom: playing around with this, you can easily see how choosing a different threshold changes the view of a customer. This makes intuitive sense: if you consider an action 'good' from a lower propensity threshold, then more customers will be well served than if you consider an action 'good' from a higher propensity threshold.\n",
    "\n",
    "While this is a nice 'slice' of the distribution at a given threshold, we can also show a bit more information. Call `plotPropensityDistributionPerThreshold()` to show this same distribution, but then with the threshold on the x-axis. By default, it considers the quantiles, but if you supply the `target` parameter to be `'Propensity'`, then it will update to that instead."
   ]
  },
  {
   "cell_type": "code",
   "execution_count": 8,
   "metadata": {
    "execution": {
<<<<<<< HEAD
     "iopub.execute_input": "2023-03-02T17:07:40.366588Z",
     "iopub.status.busy": "2023-03-02T17:07:40.366375Z",
     "iopub.status.idle": "2023-03-02T17:07:40.396506Z",
     "shell.execute_reply": "2023-03-02T17:07:40.395724Z"
=======
     "iopub.execute_input": "2023-03-06T16:12:29.931727Z",
     "iopub.status.busy": "2023-03-06T16:12:29.931522Z",
     "iopub.status.idle": "2023-03-06T16:12:30.105504Z",
     "shell.execute_reply": "2023-03-06T16:12:30.104999Z"
>>>>>>> master
    }
   },
   "outputs": [
    {
<<<<<<< HEAD
     "ename": "AttributeError",
     "evalue": "'ValueFinder' object has no attribute 'countsPerThreshold'",
     "output_type": "error",
     "traceback": [
      "\u001b[0;31m---------------------------------------------------------------------------\u001b[0m",
      "\u001b[0;31mAttributeError\u001b[0m                            Traceback (most recent call last)",
      "Cell \u001b[0;32mIn [8], line 1\u001b[0m\n\u001b[0;32m----> 1\u001b[0m \u001b[43mvf\u001b[49m\u001b[38;5;241;43m.\u001b[39;49m\u001b[43mplotDistributionPerThreshold\u001b[49m\u001b[43m(\u001b[49m\u001b[43mverbose\u001b[49m\u001b[38;5;241;43m=\u001b[39;49m\u001b[38;5;28;43;01mFalse\u001b[39;49;00m\u001b[43m)\u001b[49m\n",
      "File \u001b[0;32m~/Documents/Code/pdstools-polars/pega-datascientist-tools/python/docs/source/articles/../../../pdstools/valuefinder/ValueFinder.py:556\u001b[0m, in \u001b[0;36mValueFinder.plotDistributionPerThreshold\u001b[0;34m(self, target, **kwargs)\u001b[0m\n\u001b[1;32m    552\u001b[0m \u001b[38;5;28;01mif\u001b[39;00m {\u001b[38;5;124m\"\u001b[39m\u001b[38;5;124mstart\u001b[39m\u001b[38;5;124m\"\u001b[39m, \u001b[38;5;124m\"\u001b[39m\u001b[38;5;124mstop\u001b[39m\u001b[38;5;124m\"\u001b[39m, \u001b[38;5;124m\"\u001b[39m\u001b[38;5;124mstep\u001b[39m\u001b[38;5;124m\"\u001b[39m}\u001b[38;5;241m.\u001b[39missubset(kwargs):\n\u001b[1;32m    553\u001b[0m     \u001b[38;5;28mself\u001b[39m\u001b[38;5;241m.\u001b[39maddCountsPerThresholdRange(\n\u001b[1;32m    554\u001b[0m         kwargs\u001b[38;5;241m.\u001b[39mget(\u001b[38;5;124m\"\u001b[39m\u001b[38;5;124mstart\u001b[39m\u001b[38;5;124m\"\u001b[39m), kwargs\u001b[38;5;241m.\u001b[39mget(\u001b[38;5;124m\"\u001b[39m\u001b[38;5;124mstop\u001b[39m\u001b[38;5;124m\"\u001b[39m), kwargs\u001b[38;5;241m.\u001b[39mget(\u001b[38;5;124m\"\u001b[39m\u001b[38;5;124mstep\u001b[39m\u001b[38;5;124m\"\u001b[39m)\n\u001b[1;32m    555\u001b[0m     )\n\u001b[0;32m--> 556\u001b[0m \u001b[38;5;28;43mself\u001b[39;49m\u001b[38;5;241;43m.\u001b[39;49m\u001b[43maddCountsPerThresholdRange\u001b[49m\u001b[43m(\u001b[49m\u001b[38;5;241;43m0.01\u001b[39;49m\u001b[43m,\u001b[49m\u001b[43m \u001b[49m\u001b[38;5;241;43m1\u001b[39;49m\u001b[43m,\u001b[49m\u001b[43m \u001b[49m\u001b[38;5;241;43m0.1\u001b[39;49m\u001b[43m)\u001b[49m\n\u001b[1;32m    558\u001b[0m df \u001b[38;5;241m=\u001b[39m \u001b[38;5;28mlist\u001b[39m()\n\u001b[1;32m    559\u001b[0m \u001b[38;5;28;01mfor\u001b[39;00m quantile, data \u001b[38;5;129;01min\u001b[39;00m \u001b[38;5;28mself\u001b[39m\u001b[38;5;241m.\u001b[39mcountsPerThreshold\u001b[38;5;241m.\u001b[39mitems():\n",
      "File \u001b[0;32m~/Documents/Code/pdstools-polars/pega-datascientist-tools/python/docs/source/articles/../../../pdstools/valuefinder/ValueFinder.py:243\u001b[0m, in \u001b[0;36mValueFinder.addCountsPerThresholdRange\u001b[0;34m(self, start, stop, step, verbose)\u001b[0m\n\u001b[1;32m    220\u001b[0m \u001b[38;5;28;01mdef\u001b[39;00m \u001b[38;5;21maddCountsPerThresholdRange\u001b[39m(\n\u001b[1;32m    221\u001b[0m     \u001b[38;5;28mself\u001b[39m, start: \u001b[38;5;28mfloat\u001b[39m, stop: \u001b[38;5;28mfloat\u001b[39m, step: \u001b[38;5;28mfloat\u001b[39m, verbose: \u001b[38;5;28mbool\u001b[39m \u001b[38;5;241m=\u001b[39m \u001b[38;5;28;01mTrue\u001b[39;00m\n\u001b[1;32m    222\u001b[0m ):\n\u001b[1;32m    223\u001b[0m     \u001b[38;5;124;03m\"\"\"Adds the counts per stage for a range of quantiles.\u001b[39;00m\n\u001b[1;32m    224\u001b[0m \n\u001b[1;32m    225\u001b[0m \u001b[38;5;124;03m    In the background, uses numpy's arange function\u001b[39;00m\n\u001b[0;32m   (...)\u001b[0m\n\u001b[1;32m    241\u001b[0m \u001b[38;5;124;03m        Whether to print out the progress of computation\u001b[39;00m\n\u001b[1;32m    242\u001b[0m \u001b[38;5;124;03m    \"\"\"\u001b[39;00m\n\u001b[0;32m--> 243\u001b[0m     to_add \u001b[38;5;241m=\u001b[39m \u001b[38;5;28mset\u001b[39m(np\u001b[38;5;241m.\u001b[39marange(start, stop, step)) \u001b[38;5;241m-\u001b[39m \u001b[38;5;28;43mself\u001b[39;49m\u001b[38;5;241;43m.\u001b[39;49m\u001b[43mcountsPerThreshold\u001b[49m\u001b[38;5;241m.\u001b[39mkeys()\n\u001b[1;32m    244\u001b[0m     \u001b[38;5;28;01mif\u001b[39;00m \u001b[38;5;28mlen\u001b[39m(to_add) \u001b[38;5;241m>\u001b[39m \u001b[38;5;241m0\u001b[39m:\n\u001b[1;32m    245\u001b[0m         \u001b[38;5;28mself\u001b[39m\u001b[38;5;241m.\u001b[39mskippedquantiles \u001b[38;5;241m=\u001b[39m []\n",
      "\u001b[0;31mAttributeError\u001b[0m: 'ValueFinder' object has no attribute 'countsPerThreshold'"
     ]
=======
     "data": {
      "application/vnd.jupyter.widget-view+json": {
       "model_id": "e8bbac32a987493baed575d20d9a0fef",
       "version_major": 2,
       "version_minor": 0
      },
      "text/plain": [
       "  0%|          | 0/10 [00:00<?, ?it/s]"
      ]
     },
     "metadata": {},
     "output_type": "display_data"
    },
    {
     "data": {
      "text/html": [
       "        <script type=\"text/javascript\">\n",
       "        window.PlotlyConfig = {MathJaxConfig: 'local'};\n",
       "        if (window.MathJax && window.MathJax.Hub && window.MathJax.Hub.Config) {window.MathJax.Hub.Config({SVG: {font: \"STIX-Web\"}});}\n",
       "        if (typeof require !== 'undefined') {\n",
       "        require.undef(\"plotly\");\n",
       "        requirejs.config({\n",
       "            paths: {\n",
       "                'plotly': ['https://cdn.plot.ly/plotly-2.18.2.min']\n",
       "            }\n",
       "        });\n",
       "        require(['plotly'], function(Plotly) {\n",
       "            window._Plotly = Plotly;\n",
       "        });\n",
       "        }\n",
       "        </script>\n",
       "        "
      ]
     },
     "metadata": {},
     "output_type": "display_data"
    },
    {
     "data": {
      "text/html": [
       "<div>                            <div id=\"702024df-8ab6-4f09-91e4-2f090b417f79\" class=\"plotly-graph-div\" style=\"height:525px; width:100%;\"></div>            <script type=\"text/javascript\">                require([\"plotly\"], function(Plotly) {                    window.PLOTLYENV=window.PLOTLYENV || {};                                    if (document.getElementById(\"702024df-8ab6-4f09-91e4-2f090b417f79\")) {                    Plotly.newPlot(                        \"702024df-8ab6-4f09-91e4-2f090b417f79\",                        [{\"fillpattern\":{\"shape\":\"\"},\"hovertemplate\":\"variable=At least one relevant action<br>pyStage=Eligibility<br>Quantile=%{x}<br>Number of people=%{y}<extra></extra>\",\"legendgroup\":\"At least one relevant action\",\"line\":{\"color\":\"#219e3f\"},\"marker\":{\"symbol\":\"circle\"},\"mode\":\"lines\",\"name\":\"At least one relevant action\",\"orientation\":\"v\",\"showlegend\":true,\"stackgroup\":\"1\",\"x\":[0.0,0.12,0.13,0.14,0.15000000000000002,0.19,0.2,0.21000000000000002,0.25,0.26,0.27,0.42000000000000004,0.34,0.060000000000000005,0.43,0.35000000000000003,0.05,0.09999999999999999,0.11,0.44,0.36000000000000004,0.04,0.28,0.45,0.37,0.03,0.09,0.17,0.18000000000000002,0.16,0.22,0.23,0.24000000000000002,0.29000000000000004,0.38,0.46,0.3,0.47000000000000003,0.02,0.39,0.31,0.06999999999999999,0.08,0.48000000000000004,0.4,0.01,0.32,0.49,0.41000000000000003,0.33,0.26770460181868283,0.6800771562413888,1.0,0.6820060622761092,0.4216037475888675,0.04918710388536787],\"xaxis\":\"x\",\"y\":[7258.0,6414.0,6414.0,6300.0,6300.0,5957.0,5830.0,5783.0,5650.0,5650.0,5315.0,4623.0,4879.0,6854.0,4198.0,4879.0,6901.0,6551.0,6491.0,4198.0,4879.0,7045.0,5257.0,4198.0,4623.0,7045.0,6605.0,6122.0,5957.0,6122.0,5718.0,5650.0,5650.0,5257.0,4623.0,4198.0,5257.0,4198.0,7118.0,4623.0,5257.0,6777.0,6723.0,3846.0,4623.0,7221.0,4982.0,3846.0,4623.0,4879.0,5315.0,2322.0,0.0,2308.0,4198.0,6901.0],\"yaxis\":\"y\",\"type\":\"scatter\"},{\"fillpattern\":{\"shape\":\"\"},\"hovertemplate\":\"variable=At least one relevant action<br>pyStage=Applicability<br>Quantile=%{x}<br>Number of people=%{y}<extra></extra>\",\"legendgroup\":\"At least one relevant action\",\"line\":{\"color\":\"#219e3f\"},\"marker\":{\"symbol\":\"circle\"},\"mode\":\"lines\",\"name\":\"At least one relevant action\",\"orientation\":\"v\",\"showlegend\":false,\"stackgroup\":\"1\",\"x\":[0.0,0.12,0.13,0.14,0.15000000000000002,0.19,0.2,0.21000000000000002,0.25,0.26,0.27,0.42000000000000004,0.34,0.060000000000000005,0.43,0.35000000000000003,0.05,0.09999999999999999,0.11,0.44,0.36000000000000004,0.04,0.28,0.45,0.37,0.03,0.09,0.17,0.18000000000000002,0.16,0.22,0.23,0.24000000000000002,0.29000000000000004,0.38,0.46,0.3,0.47000000000000003,0.02,0.39,0.31,0.06999999999999999,0.08,0.48000000000000004,0.4,0.01,0.32,0.49,0.41000000000000003,0.33,0.26770460181868283,0.6800771562413888,1.0,0.6820060622761092,0.4216037475888675,0.04918710388536787],\"xaxis\":\"x2\",\"y\":[6803.0,5862.0,5862.0,5730.0,5730.0,5349.0,5208.0,5149.0,4989.0,4989.0,4746.0,4190.0,4253.0,6351.0,3728.0,4253.0,6398.0,5996.0,5913.0,3728.0,4253.0,6553.0,4679.0,3728.0,4190.0,6553.0,6070.0,5543.0,5349.0,5543.0,5071.0,4989.0,4989.0,4679.0,4190.0,3728.0,4679.0,3728.0,6635.0,4190.0,4679.0,6266.0,6199.0,3350.0,4190.0,6760.0,4376.0,3350.0,4190.0,4253.0,4746.0,1704.0,0.0,1690.0,3728.0,6398.0],\"yaxis\":\"y2\",\"type\":\"scatter\"},{\"fillpattern\":{\"shape\":\"\"},\"hovertemplate\":\"variable=At least one relevant action<br>pyStage=Suitability<br>Quantile=%{x}<br>Number of people=%{y}<extra></extra>\",\"legendgroup\":\"At least one relevant action\",\"line\":{\"color\":\"#219e3f\"},\"marker\":{\"symbol\":\"circle\"},\"mode\":\"lines\",\"name\":\"At least one relevant action\",\"orientation\":\"v\",\"showlegend\":false,\"stackgroup\":\"1\",\"x\":[0.0,0.12,0.13,0.14,0.15000000000000002,0.19,0.2,0.21000000000000002,0.25,0.26,0.27,0.42000000000000004,0.34,0.060000000000000005,0.43,0.35000000000000003,0.05,0.09999999999999999,0.11,0.44,0.36000000000000004,0.04,0.28,0.45,0.37,0.03,0.09,0.17,0.18000000000000002,0.16,0.22,0.23,0.24000000000000002,0.29000000000000004,0.38,0.46,0.3,0.47000000000000003,0.02,0.39,0.31,0.06999999999999999,0.08,0.48000000000000004,0.4,0.01,0.32,0.49,0.41000000000000003,0.33,0.26770460181868283,0.6800771562413888,1.0,0.6820060622761092,0.4216037475888675,0.04918710388536787],\"xaxis\":\"x3\",\"y\":[6563.0,5591.0,5591.0,5453.0,5453.0,5049.0,4896.0,4833.0,4683.0,4683.0,4649.0,4101.0,4145.0,6080.0,3629.0,4145.0,6130.0,5728.0,5647.0,3629.0,4145.0,6296.0,4584.0,3629.0,4101.0,6296.0,5811.0,5254.0,5049.0,5254.0,4770.0,4683.0,4683.0,4584.0,4101.0,3629.0,4584.0,3629.0,6384.0,4101.0,4584.0,5995.0,5950.0,3246.0,4101.0,6516.0,4275.0,3246.0,4101.0,4145.0,4649.0,1566.0,0.0,1554.0,3629.0,6130.0],\"yaxis\":\"y3\",\"type\":\"scatter\"},{\"fillpattern\":{\"shape\":\"\"},\"hovertemplate\":\"variable=At least one relevant action<br>pyStage=Arbitration<br>Quantile=%{x}<br>Number of people=%{y}<extra></extra>\",\"legendgroup\":\"At least one relevant action\",\"line\":{\"color\":\"#219e3f\"},\"marker\":{\"symbol\":\"circle\"},\"mode\":\"lines\",\"name\":\"At least one relevant action\",\"orientation\":\"v\",\"showlegend\":false,\"stackgroup\":\"1\",\"x\":[0.0,0.12,0.13,0.14,0.15000000000000002,0.19,0.2,0.21000000000000002,0.25,0.26,0.27,0.42000000000000004,0.34,0.060000000000000005,0.43,0.35000000000000003,0.05,0.09999999999999999,0.11,0.44,0.36000000000000004,0.04,0.28,0.45,0.37,0.03,0.09,0.17,0.18000000000000002,0.16,0.22,0.23,0.24000000000000002,0.29000000000000004,0.38,0.46,0.3,0.47000000000000003,0.02,0.39,0.31,0.06999999999999999,0.08,0.48000000000000004,0.4,0.01,0.32,0.49,0.41000000000000003,0.33,0.26770460181868283,0.6800771562413888,1.0,0.6820060622761092,0.4216037475888675,0.04918710388536787],\"xaxis\":\"x4\",\"y\":[6509.0,5215.0,5215.0,5064.0,5064.0,4724.0,4585.0,4528.0,4391.0,4391.0,4355.0,3851.0,3894.0,5917.0,3357.0,3894.0,5965.0,5420.0,5332.0,3357.0,3894.0,6217.0,4317.0,3357.0,3851.0,6217.0,5510.0,4877.0,4724.0,4877.0,4477.0,4391.0,4391.0,4317.0,3851.0,3357.0,4317.0,3357.0,6315.0,3851.0,4317.0,5867.0,5846.0,2930.0,3851.0,6461.0,4014.0,2930.0,3851.0,3894.0,4355.0,1315.0,0.0,1299.0,3357.0,6001.0],\"yaxis\":\"y4\",\"type\":\"scatter\"},{\"fillpattern\":{\"shape\":\"\"},\"hovertemplate\":\"variable=Only irrelevant actions<br>pyStage=Eligibility<br>Quantile=%{x}<br>Number of people=%{y}<extra></extra>\",\"legendgroup\":\"Only irrelevant actions\",\"line\":{\"color\":\"#fca52e\"},\"marker\":{\"symbol\":\"circle\"},\"mode\":\"lines\",\"name\":\"Only irrelevant actions\",\"orientation\":\"v\",\"showlegend\":true,\"stackgroup\":\"1\",\"x\":[0.0,0.12,0.13,0.14,0.15000000000000002,0.19,0.2,0.21000000000000002,0.25,0.26,0.27,0.42000000000000004,0.34,0.060000000000000005,0.43,0.35000000000000003,0.05,0.09999999999999999,0.11,0.44,0.36000000000000004,0.04,0.28,0.45,0.37,0.03,0.09,0.17,0.18000000000000002,0.16,0.22,0.23,0.24000000000000002,0.29000000000000004,0.38,0.46,0.3,0.47000000000000003,0.02,0.39,0.31,0.06999999999999999,0.08,0.48000000000000004,0.4,0.01,0.32,0.49,0.41000000000000003,0.33,0.26770460181868283,0.6800771562413888,1.0,0.6820060622761092,0.4216037475888675,0.04918710388536787],\"xaxis\":\"x\",\"y\":[0.0,844.0,844.0,958.0,958.0,1301.0,1428.0,1475.0,1608.0,1608.0,1943.0,2635.0,2379.0,404.0,3060.0,2379.0,357.0,707.0,767.0,3060.0,2379.0,213.0,2001.0,3060.0,2635.0,213.0,653.0,1136.0,1301.0,1136.0,1540.0,1608.0,1608.0,2001.0,2635.0,3060.0,2001.0,3060.0,140.0,2635.0,2001.0,481.0,535.0,3412.0,2635.0,37.0,2276.0,3412.0,2635.0,2379.0,1943.0,4936.0,7258.0,4950.0,3060.0,357.0],\"yaxis\":\"y\",\"type\":\"scatter\"},{\"fillpattern\":{\"shape\":\"\"},\"hovertemplate\":\"variable=Only irrelevant actions<br>pyStage=Applicability<br>Quantile=%{x}<br>Number of people=%{y}<extra></extra>\",\"legendgroup\":\"Only irrelevant actions\",\"line\":{\"color\":\"#fca52e\"},\"marker\":{\"symbol\":\"circle\"},\"mode\":\"lines\",\"name\":\"Only irrelevant actions\",\"orientation\":\"v\",\"showlegend\":false,\"stackgroup\":\"1\",\"x\":[0.0,0.12,0.13,0.14,0.15000000000000002,0.19,0.2,0.21000000000000002,0.25,0.26,0.27,0.42000000000000004,0.34,0.060000000000000005,0.43,0.35000000000000003,0.05,0.09999999999999999,0.11,0.44,0.36000000000000004,0.04,0.28,0.45,0.37,0.03,0.09,0.17,0.18000000000000002,0.16,0.22,0.23,0.24000000000000002,0.29000000000000004,0.38,0.46,0.3,0.47000000000000003,0.02,0.39,0.31,0.06999999999999999,0.08,0.48000000000000004,0.4,0.01,0.32,0.49,0.41000000000000003,0.33,0.26770460181868283,0.6800771562413888,1.0,0.6820060622761092,0.4216037475888675,0.04918710388536787],\"xaxis\":\"x2\",\"y\":[0.0,941.0,941.0,1073.0,1073.0,1454.0,1595.0,1654.0,1814.0,1814.0,2057.0,2613.0,2550.0,452.0,3075.0,2550.0,405.0,807.0,890.0,3075.0,2550.0,250.0,2124.0,3075.0,2613.0,250.0,733.0,1260.0,1454.0,1260.0,1732.0,1814.0,1814.0,2124.0,2613.0,3075.0,2124.0,3075.0,168.0,2613.0,2124.0,537.0,604.0,3453.0,2613.0,43.0,2427.0,3453.0,2613.0,2550.0,2057.0,5099.0,6803.0,5113.0,3075.0,405.0],\"yaxis\":\"y2\",\"type\":\"scatter\"},{\"fillpattern\":{\"shape\":\"\"},\"hovertemplate\":\"variable=Only irrelevant actions<br>pyStage=Suitability<br>Quantile=%{x}<br>Number of people=%{y}<extra></extra>\",\"legendgroup\":\"Only irrelevant actions\",\"line\":{\"color\":\"#fca52e\"},\"marker\":{\"symbol\":\"circle\"},\"mode\":\"lines\",\"name\":\"Only irrelevant actions\",\"orientation\":\"v\",\"showlegend\":false,\"stackgroup\":\"1\",\"x\":[0.0,0.12,0.13,0.14,0.15000000000000002,0.19,0.2,0.21000000000000002,0.25,0.26,0.27,0.42000000000000004,0.34,0.060000000000000005,0.43,0.35000000000000003,0.05,0.09999999999999999,0.11,0.44,0.36000000000000004,0.04,0.28,0.45,0.37,0.03,0.09,0.17,0.18000000000000002,0.16,0.22,0.23,0.24000000000000002,0.29000000000000004,0.38,0.46,0.3,0.47000000000000003,0.02,0.39,0.31,0.06999999999999999,0.08,0.48000000000000004,0.4,0.01,0.32,0.49,0.41000000000000003,0.33,0.26770460181868283,0.6800771562413888,1.0,0.6820060622761092,0.4216037475888675,0.04918710388536787],\"xaxis\":\"x3\",\"y\":[0.0,972.0,972.0,1110.0,1110.0,1514.0,1667.0,1730.0,1880.0,1880.0,1914.0,2462.0,2418.0,483.0,2934.0,2418.0,433.0,835.0,916.0,2934.0,2418.0,267.0,1979.0,2934.0,2462.0,267.0,752.0,1309.0,1514.0,1309.0,1793.0,1880.0,1880.0,1979.0,2462.0,2934.0,1979.0,2934.0,179.0,2462.0,1979.0,568.0,613.0,3317.0,2462.0,47.0,2288.0,3317.0,2462.0,2418.0,1914.0,4997.0,6563.0,5009.0,2934.0,433.0],\"yaxis\":\"y3\",\"type\":\"scatter\"},{\"fillpattern\":{\"shape\":\"\"},\"hovertemplate\":\"variable=Only irrelevant actions<br>pyStage=Arbitration<br>Quantile=%{x}<br>Number of people=%{y}<extra></extra>\",\"legendgroup\":\"Only irrelevant actions\",\"line\":{\"color\":\"#fca52e\"},\"marker\":{\"symbol\":\"circle\"},\"mode\":\"lines\",\"name\":\"Only irrelevant actions\",\"orientation\":\"v\",\"showlegend\":false,\"stackgroup\":\"1\",\"x\":[0.0,0.12,0.13,0.14,0.15000000000000002,0.19,0.2,0.21000000000000002,0.25,0.26,0.27,0.42000000000000004,0.34,0.060000000000000005,0.43,0.35000000000000003,0.05,0.09999999999999999,0.11,0.44,0.36000000000000004,0.04,0.28,0.45,0.37,0.03,0.09,0.17,0.18000000000000002,0.16,0.22,0.23,0.24000000000000002,0.29000000000000004,0.38,0.46,0.3,0.47000000000000003,0.02,0.39,0.31,0.06999999999999999,0.08,0.48000000000000004,0.4,0.01,0.32,0.49,0.41000000000000003,0.33,0.26770460181868283,0.6800771562413888,1.0,0.6820060622761092,0.4216037475888675,0.04918710388536787],\"xaxis\":\"x4\",\"y\":[0.0,1294.0,1294.0,1445.0,1445.0,1785.0,1924.0,1981.0,2118.0,2118.0,2154.0,2658.0,2615.0,592.0,3152.0,2615.0,544.0,1089.0,1177.0,3152.0,2615.0,292.0,2192.0,3152.0,2658.0,292.0,999.0,1632.0,1785.0,1632.0,2032.0,2118.0,2118.0,2192.0,2658.0,3152.0,2192.0,3152.0,194.0,2658.0,2192.0,642.0,663.0,3579.0,2658.0,48.0,2495.0,3579.0,2658.0,2615.0,2154.0,5194.0,6509.0,5210.0,3152.0,508.0],\"yaxis\":\"y4\",\"type\":\"scatter\"},{\"fillpattern\":{\"shape\":\"\"},\"hovertemplate\":\"variable=Without actions<br>pyStage=Eligibility<br>Quantile=%{x}<br>Number of people=%{y}<extra></extra>\",\"legendgroup\":\"Without actions\",\"line\":{\"color\":\"#cd001f\"},\"marker\":{\"symbol\":\"circle\"},\"mode\":\"lines\",\"name\":\"Without actions\",\"orientation\":\"v\",\"showlegend\":true,\"stackgroup\":\"1\",\"x\":[0.0,0.12,0.13,0.14,0.15000000000000002,0.19,0.2,0.21000000000000002,0.25,0.26,0.27,0.42000000000000004,0.34,0.060000000000000005,0.43,0.35000000000000003,0.05,0.09999999999999999,0.11,0.44,0.36000000000000004,0.04,0.28,0.45,0.37,0.03,0.09,0.17,0.18000000000000002,0.16,0.22,0.23,0.24000000000000002,0.29000000000000004,0.38,0.46,0.3,0.47000000000000003,0.02,0.39,0.31,0.06999999999999999,0.08,0.48000000000000004,0.4,0.01,0.32,0.49,0.41000000000000003,0.33,0.26770460181868283,0.6800771562413888,1.0,0.6820060622761092,0.4216037475888675,0.04918710388536787],\"xaxis\":\"x\",\"y\":[2742.0,2742.0,2742.0,2742.0,2742.0,2742.0,2742.0,2742.0,2742.0,2742.0,2742.0,2742.0,2742.0,2742.0,2742.0,2742.0,2742.0,2742.0,2742.0,2742.0,2742.0,2742.0,2742.0,2742.0,2742.0,2742.0,2742.0,2742.0,2742.0,2742.0,2742.0,2742.0,2742.0,2742.0,2742.0,2742.0,2742.0,2742.0,2742.0,2742.0,2742.0,2742.0,2742.0,2742.0,2742.0,2742.0,2742.0,2742.0,2742.0,2742.0,2742.0,2742.0,2742.0,2742.0,2742.0,2742.0],\"yaxis\":\"y\",\"type\":\"scatter\"},{\"fillpattern\":{\"shape\":\"\"},\"hovertemplate\":\"variable=Without actions<br>pyStage=Applicability<br>Quantile=%{x}<br>Number of people=%{y}<extra></extra>\",\"legendgroup\":\"Without actions\",\"line\":{\"color\":\"#cd001f\"},\"marker\":{\"symbol\":\"circle\"},\"mode\":\"lines\",\"name\":\"Without actions\",\"orientation\":\"v\",\"showlegend\":false,\"stackgroup\":\"1\",\"x\":[0.0,0.12,0.13,0.14,0.15000000000000002,0.19,0.2,0.21000000000000002,0.25,0.26,0.27,0.42000000000000004,0.34,0.060000000000000005,0.43,0.35000000000000003,0.05,0.09999999999999999,0.11,0.44,0.36000000000000004,0.04,0.28,0.45,0.37,0.03,0.09,0.17,0.18000000000000002,0.16,0.22,0.23,0.24000000000000002,0.29000000000000004,0.38,0.46,0.3,0.47000000000000003,0.02,0.39,0.31,0.06999999999999999,0.08,0.48000000000000004,0.4,0.01,0.32,0.49,0.41000000000000003,0.33,0.26770460181868283,0.6800771562413888,1.0,0.6820060622761092,0.4216037475888675,0.04918710388536787],\"xaxis\":\"x2\",\"y\":[3197.0,3197.0,3197.0,3197.0,3197.0,3197.0,3197.0,3197.0,3197.0,3197.0,3197.0,3197.0,3197.0,3197.0,3197.0,3197.0,3197.0,3197.0,3197.0,3197.0,3197.0,3197.0,3197.0,3197.0,3197.0,3197.0,3197.0,3197.0,3197.0,3197.0,3197.0,3197.0,3197.0,3197.0,3197.0,3197.0,3197.0,3197.0,3197.0,3197.0,3197.0,3197.0,3197.0,3197.0,3197.0,3197.0,3197.0,3197.0,3197.0,3197.0,3197.0,3197.0,3197.0,3197.0,3197.0,3197.0],\"yaxis\":\"y2\",\"type\":\"scatter\"},{\"fillpattern\":{\"shape\":\"\"},\"hovertemplate\":\"variable=Without actions<br>pyStage=Suitability<br>Quantile=%{x}<br>Number of people=%{y}<extra></extra>\",\"legendgroup\":\"Without actions\",\"line\":{\"color\":\"#cd001f\"},\"marker\":{\"symbol\":\"circle\"},\"mode\":\"lines\",\"name\":\"Without actions\",\"orientation\":\"v\",\"showlegend\":false,\"stackgroup\":\"1\",\"x\":[0.0,0.12,0.13,0.14,0.15000000000000002,0.19,0.2,0.21000000000000002,0.25,0.26,0.27,0.42000000000000004,0.34,0.060000000000000005,0.43,0.35000000000000003,0.05,0.09999999999999999,0.11,0.44,0.36000000000000004,0.04,0.28,0.45,0.37,0.03,0.09,0.17,0.18000000000000002,0.16,0.22,0.23,0.24000000000000002,0.29000000000000004,0.38,0.46,0.3,0.47000000000000003,0.02,0.39,0.31,0.06999999999999999,0.08,0.48000000000000004,0.4,0.01,0.32,0.49,0.41000000000000003,0.33,0.26770460181868283,0.6800771562413888,1.0,0.6820060622761092,0.4216037475888675,0.04918710388536787],\"xaxis\":\"x3\",\"y\":[3437.0,3437.0,3437.0,3437.0,3437.0,3437.0,3437.0,3437.0,3437.0,3437.0,3437.0,3437.0,3437.0,3437.0,3437.0,3437.0,3437.0,3437.0,3437.0,3437.0,3437.0,3437.0,3437.0,3437.0,3437.0,3437.0,3437.0,3437.0,3437.0,3437.0,3437.0,3437.0,3437.0,3437.0,3437.0,3437.0,3437.0,3437.0,3437.0,3437.0,3437.0,3437.0,3437.0,3437.0,3437.0,3437.0,3437.0,3437.0,3437.0,3437.0,3437.0,3437.0,3437.0,3437.0,3437.0,3437.0],\"yaxis\":\"y3\",\"type\":\"scatter\"},{\"fillpattern\":{\"shape\":\"\"},\"hovertemplate\":\"variable=Without actions<br>pyStage=Arbitration<br>Quantile=%{x}<br>Number of people=%{y}<extra></extra>\",\"legendgroup\":\"Without actions\",\"line\":{\"color\":\"#cd001f\"},\"marker\":{\"symbol\":\"circle\"},\"mode\":\"lines\",\"name\":\"Without actions\",\"orientation\":\"v\",\"showlegend\":false,\"stackgroup\":\"1\",\"x\":[0.0,0.12,0.13,0.14,0.15000000000000002,0.19,0.2,0.21000000000000002,0.25,0.26,0.27,0.42000000000000004,0.34,0.060000000000000005,0.43,0.35000000000000003,0.05,0.09999999999999999,0.11,0.44,0.36000000000000004,0.04,0.28,0.45,0.37,0.03,0.09,0.17,0.18000000000000002,0.16,0.22,0.23,0.24000000000000002,0.29000000000000004,0.38,0.46,0.3,0.47000000000000003,0.02,0.39,0.31,0.06999999999999999,0.08,0.48000000000000004,0.4,0.01,0.32,0.49,0.41000000000000003,0.33,0.26770460181868283,0.6800771562413888,1.0,0.6820060622761092,0.4216037475888675,0.04918710388536787],\"xaxis\":\"x4\",\"y\":[3491.0,3491.0,3491.0,3491.0,3491.0,3491.0,3491.0,3491.0,3491.0,3491.0,3491.0,3491.0,3491.0,3491.0,3491.0,3491.0,3491.0,3491.0,3491.0,3491.0,3491.0,3491.0,3491.0,3491.0,3491.0,3491.0,3491.0,3491.0,3491.0,3491.0,3491.0,3491.0,3491.0,3491.0,3491.0,3491.0,3491.0,3491.0,3491.0,3491.0,3491.0,3491.0,3491.0,3491.0,3491.0,3491.0,3491.0,3491.0,3491.0,3491.0,3491.0,3491.0,3491.0,3491.0,3491.0,3491.0],\"yaxis\":\"y4\",\"type\":\"scatter\"},{\"fillpattern\":{\"shape\":\"\"},\"hovertemplate\":\"variable=Threshold<br>pyStage=Eligibility<br>Quantile=%{x}<br>Number of people=%{y}<extra></extra>\",\"legendgroup\":\"Threshold\",\"line\":{\"color\":\"#219e3f\"},\"marker\":{\"symbol\":\"circle\"},\"mode\":\"lines\",\"name\":\"Threshold\",\"orientation\":\"v\",\"showlegend\":true,\"stackgroup\":\"1\",\"x\":[0.0,0.12,0.13,0.14,0.15000000000000002,0.19,0.2,0.21000000000000002,0.25,0.26,0.27,0.42000000000000004,0.34,0.060000000000000005,0.43,0.35000000000000003,0.05,0.09999999999999999,0.11,0.44,0.36000000000000004,0.04,0.28,0.45,0.37,0.03,0.09,0.17,0.18000000000000002,0.16,0.22,0.23,0.24000000000000002,0.29000000000000004,0.38,0.46,0.3,0.47000000000000003,0.02,0.39,0.31,0.06999999999999999,0.08,0.48000000000000004,0.4,0.01,0.32,0.49,0.41000000000000003,0.33,0.26770460181868283,0.6800771562413888,1.0,0.6820060622761092,0.4216037475888675,0.04918710388536787],\"xaxis\":\"x\",\"y\":[0.0002688172043010753,0.06,0.06,0.06338028169014084,0.06338028169014084,0.07352941176470588,0.07446808510638298,0.08333333333333333,0.10869565217391304,0.10869565217391304,0.11290322580645161,0.19230769230769232,0.16176470588235295,0.02027027027027027,0.24193548387096775,0.16176470588235295,0.012096774193548388,0.03731343283582089,0.05,0.24193548387096775,0.16176470588235295,0.007575757575757576,0.125,0.24193548387096775,0.19230769230769232,0.007575757575757576,0.03125,0.07291666666666667,0.07352941176470588,0.07291666666666667,0.10714285714285714,0.10869565217391304,0.10869565217391304,0.125,0.19230769230769232,0.24193548387096775,0.125,0.24193548387096775,0.007352941176470588,0.19230769230769232,0.125,0.021739130434782608,0.025,0.2584745762711864,0.19230769230769232,0.005376344086021506,0.15517241379310345,0.2584745762711864,0.19230769230769232,0.16176470588235295,0.11,0.31000000000000005,0.51,0.41000000000000003,0.21000000000000002,0.01],\"yaxis\":\"y\",\"type\":\"scatter\"},{\"fillpattern\":{\"shape\":\"\"},\"hovertemplate\":\"variable=Threshold<br>pyStage=Applicability<br>Quantile=%{x}<br>Number of people=%{y}<extra></extra>\",\"legendgroup\":\"Threshold\",\"line\":{\"color\":\"#219e3f\"},\"marker\":{\"symbol\":\"circle\"},\"mode\":\"lines\",\"name\":\"Threshold\",\"orientation\":\"v\",\"showlegend\":false,\"stackgroup\":\"1\",\"x\":[0.0,0.12,0.13,0.14,0.15000000000000002,0.19,0.2,0.21000000000000002,0.25,0.26,0.27,0.42000000000000004,0.34,0.060000000000000005,0.43,0.35000000000000003,0.05,0.09999999999999999,0.11,0.44,0.36000000000000004,0.04,0.28,0.45,0.37,0.03,0.09,0.17,0.18000000000000002,0.16,0.22,0.23,0.24000000000000002,0.29000000000000004,0.38,0.46,0.3,0.47000000000000003,0.02,0.39,0.31,0.06999999999999999,0.08,0.48000000000000004,0.4,0.01,0.32,0.49,0.41000000000000003,0.33,0.26770460181868283,0.6800771562413888,1.0,0.6820060622761092,0.4216037475888675,0.04918710388536787],\"xaxis\":\"x2\",\"y\":[0.0002688172043010753,0.06,0.06,0.06338028169014084,0.06338028169014084,0.07352941176470588,0.07446808510638298,0.08333333333333333,0.10869565217391304,0.10869565217391304,0.11290322580645161,0.19230769230769232,0.16176470588235295,0.02027027027027027,0.24193548387096775,0.16176470588235295,0.012096774193548388,0.03731343283582089,0.05,0.24193548387096775,0.16176470588235295,0.007575757575757576,0.125,0.24193548387096775,0.19230769230769232,0.007575757575757576,0.03125,0.07291666666666667,0.07352941176470588,0.07291666666666667,0.10714285714285714,0.10869565217391304,0.10869565217391304,0.125,0.19230769230769232,0.24193548387096775,0.125,0.24193548387096775,0.007352941176470588,0.19230769230769232,0.125,0.021739130434782608,0.025,0.2584745762711864,0.19230769230769232,0.005376344086021506,0.15517241379310345,0.2584745762711864,0.19230769230769232,0.16176470588235295,0.11,0.31000000000000005,0.51,0.41000000000000003,0.21000000000000002,0.01],\"yaxis\":\"y2\",\"type\":\"scatter\"},{\"fillpattern\":{\"shape\":\"\"},\"hovertemplate\":\"variable=Threshold<br>pyStage=Suitability<br>Quantile=%{x}<br>Number of people=%{y}<extra></extra>\",\"legendgroup\":\"Threshold\",\"line\":{\"color\":\"#219e3f\"},\"marker\":{\"symbol\":\"circle\"},\"mode\":\"lines\",\"name\":\"Threshold\",\"orientation\":\"v\",\"showlegend\":false,\"stackgroup\":\"1\",\"x\":[0.0,0.12,0.13,0.14,0.15000000000000002,0.19,0.2,0.21000000000000002,0.25,0.26,0.27,0.42000000000000004,0.34,0.060000000000000005,0.43,0.35000000000000003,0.05,0.09999999999999999,0.11,0.44,0.36000000000000004,0.04,0.28,0.45,0.37,0.03,0.09,0.17,0.18000000000000002,0.16,0.22,0.23,0.24000000000000002,0.29000000000000004,0.38,0.46,0.3,0.47000000000000003,0.02,0.39,0.31,0.06999999999999999,0.08,0.48000000000000004,0.4,0.01,0.32,0.49,0.41000000000000003,0.33,0.26770460181868283,0.6800771562413888,1.0,0.6820060622761092,0.4216037475888675,0.04918710388536787],\"xaxis\":\"x3\",\"y\":[0.0002688172043010753,0.06,0.06,0.06338028169014084,0.06338028169014084,0.07352941176470588,0.07446808510638298,0.08333333333333333,0.10869565217391304,0.10869565217391304,0.11290322580645161,0.19230769230769232,0.16176470588235295,0.02027027027027027,0.24193548387096775,0.16176470588235295,0.012096774193548388,0.03731343283582089,0.05,0.24193548387096775,0.16176470588235295,0.007575757575757576,0.125,0.24193548387096775,0.19230769230769232,0.007575757575757576,0.03125,0.07291666666666667,0.07352941176470588,0.07291666666666667,0.10714285714285714,0.10869565217391304,0.10869565217391304,0.125,0.19230769230769232,0.24193548387096775,0.125,0.24193548387096775,0.007352941176470588,0.19230769230769232,0.125,0.021739130434782608,0.025,0.2584745762711864,0.19230769230769232,0.005376344086021506,0.15517241379310345,0.2584745762711864,0.19230769230769232,0.16176470588235295,0.11,0.31000000000000005,0.51,0.41000000000000003,0.21000000000000002,0.01],\"yaxis\":\"y3\",\"type\":\"scatter\"},{\"fillpattern\":{\"shape\":\"\"},\"hovertemplate\":\"variable=Threshold<br>pyStage=Arbitration<br>Quantile=%{x}<br>Number of people=%{y}<extra></extra>\",\"legendgroup\":\"Threshold\",\"line\":{\"color\":\"#219e3f\"},\"marker\":{\"symbol\":\"circle\"},\"mode\":\"lines\",\"name\":\"Threshold\",\"orientation\":\"v\",\"showlegend\":false,\"stackgroup\":\"1\",\"x\":[0.0,0.12,0.13,0.14,0.15000000000000002,0.19,0.2,0.21000000000000002,0.25,0.26,0.27,0.42000000000000004,0.34,0.060000000000000005,0.43,0.35000000000000003,0.05,0.09999999999999999,0.11,0.44,0.36000000000000004,0.04,0.28,0.45,0.37,0.03,0.09,0.17,0.18000000000000002,0.16,0.22,0.23,0.24000000000000002,0.29000000000000004,0.38,0.46,0.3,0.47000000000000003,0.02,0.39,0.31,0.06999999999999999,0.08,0.48000000000000004,0.4,0.01,0.32,0.49,0.41000000000000003,0.33,0.26770460181868283,0.6800771562413888,1.0,0.6820060622761092,0.4216037475888675,0.04918710388536787],\"xaxis\":\"x4\",\"y\":[0.0002688172043010753,0.06,0.06,0.06338028169014084,0.06338028169014084,0.07352941176470588,0.07446808510638298,0.08333333333333333,0.10869565217391304,0.10869565217391304,0.11290322580645161,0.19230769230769232,0.16176470588235295,0.02027027027027027,0.24193548387096775,0.16176470588235295,0.012096774193548388,0.03731343283582089,0.05,0.24193548387096775,0.16176470588235295,0.007575757575757576,0.125,0.24193548387096775,0.19230769230769232,0.007575757575757576,0.03125,0.07291666666666667,0.07352941176470588,0.07291666666666667,0.10714285714285714,0.10869565217391304,0.10869565217391304,0.125,0.19230769230769232,0.24193548387096775,0.125,0.24193548387096775,0.007352941176470588,0.19230769230769232,0.125,0.021739130434782608,0.025,0.2584745762711864,0.19230769230769232,0.005376344086021506,0.15517241379310345,0.2584745762711864,0.19230769230769232,0.16176470588235295,0.11,0.31000000000000005,0.51,0.41000000000000003,0.21000000000000002,0.01],\"yaxis\":\"y4\",\"type\":\"scatter\"}],                        {\"template\":{\"data\":{\"scatter\":[{\"type\":\"scatter\"}]}},\"xaxis\":{\"anchor\":\"y\",\"domain\":[0.0,0.235],\"title\":{\"text\":\"Quantile\"}},\"yaxis\":{\"anchor\":\"x\",\"domain\":[0.0,1.0],\"title\":{\"text\":\"Number of people\"}},\"xaxis2\":{\"anchor\":\"y2\",\"domain\":[0.255,0.49],\"matches\":\"x\",\"title\":{\"text\":\"Quantile\"}},\"yaxis2\":{\"anchor\":\"x2\",\"domain\":[0.0,1.0],\"matches\":\"y\",\"showticklabels\":false},\"xaxis3\":{\"anchor\":\"y3\",\"domain\":[0.51,0.745],\"matches\":\"x\",\"title\":{\"text\":\"Quantile\"}},\"yaxis3\":{\"anchor\":\"x3\",\"domain\":[0.0,1.0],\"matches\":\"y\",\"showticklabels\":false},\"xaxis4\":{\"anchor\":\"y4\",\"domain\":[0.7649999999999999,0.9999999999999999],\"matches\":\"x\",\"title\":{\"text\":\"Quantile\"}},\"yaxis4\":{\"anchor\":\"x4\",\"domain\":[0.0,1.0],\"matches\":\"y\",\"showticklabels\":false},\"annotations\":[{\"font\":{},\"showarrow\":false,\"text\":\"pyStage=Eligibility\",\"x\":0.1175,\"xanchor\":\"center\",\"xref\":\"paper\",\"y\":1.0,\"yanchor\":\"bottom\",\"yref\":\"paper\"},{\"font\":{},\"showarrow\":false,\"text\":\"pyStage=Applicability\",\"x\":0.3725,\"xanchor\":\"center\",\"xref\":\"paper\",\"y\":1.0,\"yanchor\":\"bottom\",\"yref\":\"paper\"},{\"font\":{},\"showarrow\":false,\"text\":\"pyStage=Suitability\",\"x\":0.6275,\"xanchor\":\"center\",\"xref\":\"paper\",\"y\":1.0,\"yanchor\":\"bottom\",\"yref\":\"paper\"},{\"font\":{},\"showarrow\":false,\"text\":\"pyStage=Arbitration\",\"x\":0.8824999999999998,\"xanchor\":\"center\",\"xref\":\"paper\",\"y\":1.0,\"yanchor\":\"bottom\",\"yref\":\"paper\"}],\"legend\":{\"title\":{\"text\":\"Status\"},\"tracegroupgap\":0},\"title\":{\"text\":\"Distribution of offers per stage\"}},                        {\"responsive\": true}                    ).then(function(){\n",
       "                            \n",
       "var gd = document.getElementById('702024df-8ab6-4f09-91e4-2f090b417f79');\n",
       "var x = new MutationObserver(function (mutations, observer) {{\n",
       "        var display = window.getComputedStyle(gd).display;\n",
       "        if (!display || display === 'none') {{\n",
       "            console.log([gd, 'removed!']);\n",
       "            Plotly.purge(gd);\n",
       "            observer.disconnect();\n",
       "        }}\n",
       "}});\n",
       "\n",
       "// Listen for the removal of the full notebook cells\n",
       "var notebookContainer = gd.closest('#notebook-container');\n",
       "if (notebookContainer) {{\n",
       "    x.observe(notebookContainer, {childList: true});\n",
       "}}\n",
       "\n",
       "// Listen for the clearing of the current output cell\n",
       "var outputEl = gd.closest('.output');\n",
       "if (outputEl) {{\n",
       "    x.observe(outputEl, {childList: true});\n",
       "}}\n",
       "\n",
       "                        })                };                });            </script>        </div>"
      ]
     },
     "metadata": {},
     "output_type": "display_data"
>>>>>>> master
    }
   ],
   "source": [
    "vf.plotDistributionPerThreshold(verbose=False)"
   ]
  },
  {
   "cell_type": "code",
   "execution_count": 9,
   "metadata": {
    "execution": {
<<<<<<< HEAD
     "iopub.execute_input": "2023-03-02T17:07:40.399304Z",
     "iopub.status.busy": "2023-03-02T17:07:40.399077Z",
     "iopub.status.idle": "2023-03-02T17:07:40.426971Z",
     "shell.execute_reply": "2023-03-02T17:07:40.426097Z"
=======
     "iopub.execute_input": "2023-03-06T16:12:30.108248Z",
     "iopub.status.busy": "2023-03-06T16:12:30.108034Z",
     "iopub.status.idle": "2023-03-06T16:12:30.303949Z",
     "shell.execute_reply": "2023-03-06T16:12:30.303412Z"
>>>>>>> master
    }
   },
   "outputs": [
    {
<<<<<<< HEAD
     "ename": "AttributeError",
     "evalue": "'ValueFinder' object has no attribute 'countsPerThreshold'",
     "output_type": "error",
     "traceback": [
      "\u001b[0;31m---------------------------------------------------------------------------\u001b[0m",
      "\u001b[0;31mAttributeError\u001b[0m                            Traceback (most recent call last)",
      "Cell \u001b[0;32mIn [9], line 1\u001b[0m\n\u001b[0;32m----> 1\u001b[0m \u001b[43mvf\u001b[49m\u001b[38;5;241;43m.\u001b[39;49m\u001b[43mplotDistributionPerThreshold\u001b[49m\u001b[43m(\u001b[49m\u001b[43mtarget\u001b[49m\u001b[38;5;241;43m=\u001b[39;49m\u001b[38;5;124;43m'\u001b[39;49m\u001b[38;5;124;43mPropensity\u001b[39;49m\u001b[38;5;124;43m'\u001b[39;49m\u001b[43m,\u001b[49m\u001b[43m \u001b[49m\u001b[43mverbose\u001b[49m\u001b[38;5;241;43m=\u001b[39;49m\u001b[38;5;28;43;01mFalse\u001b[39;49;00m\u001b[43m)\u001b[49m\n",
      "File \u001b[0;32m~/Documents/Code/pdstools-polars/pega-datascientist-tools/python/docs/source/articles/../../../pdstools/valuefinder/ValueFinder.py:556\u001b[0m, in \u001b[0;36mValueFinder.plotDistributionPerThreshold\u001b[0;34m(self, target, **kwargs)\u001b[0m\n\u001b[1;32m    552\u001b[0m \u001b[38;5;28;01mif\u001b[39;00m {\u001b[38;5;124m\"\u001b[39m\u001b[38;5;124mstart\u001b[39m\u001b[38;5;124m\"\u001b[39m, \u001b[38;5;124m\"\u001b[39m\u001b[38;5;124mstop\u001b[39m\u001b[38;5;124m\"\u001b[39m, \u001b[38;5;124m\"\u001b[39m\u001b[38;5;124mstep\u001b[39m\u001b[38;5;124m\"\u001b[39m}\u001b[38;5;241m.\u001b[39missubset(kwargs):\n\u001b[1;32m    553\u001b[0m     \u001b[38;5;28mself\u001b[39m\u001b[38;5;241m.\u001b[39maddCountsPerThresholdRange(\n\u001b[1;32m    554\u001b[0m         kwargs\u001b[38;5;241m.\u001b[39mget(\u001b[38;5;124m\"\u001b[39m\u001b[38;5;124mstart\u001b[39m\u001b[38;5;124m\"\u001b[39m), kwargs\u001b[38;5;241m.\u001b[39mget(\u001b[38;5;124m\"\u001b[39m\u001b[38;5;124mstop\u001b[39m\u001b[38;5;124m\"\u001b[39m), kwargs\u001b[38;5;241m.\u001b[39mget(\u001b[38;5;124m\"\u001b[39m\u001b[38;5;124mstep\u001b[39m\u001b[38;5;124m\"\u001b[39m)\n\u001b[1;32m    555\u001b[0m     )\n\u001b[0;32m--> 556\u001b[0m \u001b[38;5;28;43mself\u001b[39;49m\u001b[38;5;241;43m.\u001b[39;49m\u001b[43maddCountsPerThresholdRange\u001b[49m\u001b[43m(\u001b[49m\u001b[38;5;241;43m0.01\u001b[39;49m\u001b[43m,\u001b[49m\u001b[43m \u001b[49m\u001b[38;5;241;43m1\u001b[39;49m\u001b[43m,\u001b[49m\u001b[43m \u001b[49m\u001b[38;5;241;43m0.1\u001b[39;49m\u001b[43m)\u001b[49m\n\u001b[1;32m    558\u001b[0m df \u001b[38;5;241m=\u001b[39m \u001b[38;5;28mlist\u001b[39m()\n\u001b[1;32m    559\u001b[0m \u001b[38;5;28;01mfor\u001b[39;00m quantile, data \u001b[38;5;129;01min\u001b[39;00m \u001b[38;5;28mself\u001b[39m\u001b[38;5;241m.\u001b[39mcountsPerThreshold\u001b[38;5;241m.\u001b[39mitems():\n",
      "File \u001b[0;32m~/Documents/Code/pdstools-polars/pega-datascientist-tools/python/docs/source/articles/../../../pdstools/valuefinder/ValueFinder.py:243\u001b[0m, in \u001b[0;36mValueFinder.addCountsPerThresholdRange\u001b[0;34m(self, start, stop, step, verbose)\u001b[0m\n\u001b[1;32m    220\u001b[0m \u001b[38;5;28;01mdef\u001b[39;00m \u001b[38;5;21maddCountsPerThresholdRange\u001b[39m(\n\u001b[1;32m    221\u001b[0m     \u001b[38;5;28mself\u001b[39m, start: \u001b[38;5;28mfloat\u001b[39m, stop: \u001b[38;5;28mfloat\u001b[39m, step: \u001b[38;5;28mfloat\u001b[39m, verbose: \u001b[38;5;28mbool\u001b[39m \u001b[38;5;241m=\u001b[39m \u001b[38;5;28;01mTrue\u001b[39;00m\n\u001b[1;32m    222\u001b[0m ):\n\u001b[1;32m    223\u001b[0m     \u001b[38;5;124;03m\"\"\"Adds the counts per stage for a range of quantiles.\u001b[39;00m\n\u001b[1;32m    224\u001b[0m \n\u001b[1;32m    225\u001b[0m \u001b[38;5;124;03m    In the background, uses numpy's arange function\u001b[39;00m\n\u001b[0;32m   (...)\u001b[0m\n\u001b[1;32m    241\u001b[0m \u001b[38;5;124;03m        Whether to print out the progress of computation\u001b[39;00m\n\u001b[1;32m    242\u001b[0m \u001b[38;5;124;03m    \"\"\"\u001b[39;00m\n\u001b[0;32m--> 243\u001b[0m     to_add \u001b[38;5;241m=\u001b[39m \u001b[38;5;28mset\u001b[39m(np\u001b[38;5;241m.\u001b[39marange(start, stop, step)) \u001b[38;5;241m-\u001b[39m \u001b[38;5;28;43mself\u001b[39;49m\u001b[38;5;241;43m.\u001b[39;49m\u001b[43mcountsPerThreshold\u001b[49m\u001b[38;5;241m.\u001b[39mkeys()\n\u001b[1;32m    244\u001b[0m     \u001b[38;5;28;01mif\u001b[39;00m \u001b[38;5;28mlen\u001b[39m(to_add) \u001b[38;5;241m>\u001b[39m \u001b[38;5;241m0\u001b[39m:\n\u001b[1;32m    245\u001b[0m         \u001b[38;5;28mself\u001b[39m\u001b[38;5;241m.\u001b[39mskippedquantiles \u001b[38;5;241m=\u001b[39m []\n",
      "\u001b[0;31mAttributeError\u001b[0m: 'ValueFinder' object has no attribute 'countsPerThreshold'"
=======
     "data": {
      "application/vnd.jupyter.widget-view+json": {
       "model_id": "ce690226cd2946a0aeeb2e10a30b94a1",
       "version_major": 2,
       "version_minor": 0
      },
      "text/plain": [
       "  0%|          | 0/10 [00:00<?, ?it/s]"
      ]
     },
     "metadata": {},
     "output_type": "display_data"
    },
    {
     "ename": "ValueError",
     "evalue": "could not convert value '[0.0002688172043010753]' as a Literal",
     "output_type": "error",
     "traceback": [
      "\u001b[0;31m---------------------------------------------------------------------------\u001b[0m",
      "\u001b[0;31mValueError\u001b[0m                                Traceback (most recent call last)",
      "Cell \u001b[0;32mIn [9], line 1\u001b[0m\n\u001b[0;32m----> 1\u001b[0m \u001b[43mvf\u001b[49m\u001b[38;5;241;43m.\u001b[39;49m\u001b[43mplotDistributionPerThreshold\u001b[49m\u001b[43m(\u001b[49m\u001b[43mtarget\u001b[49m\u001b[38;5;241;43m=\u001b[39;49m\u001b[38;5;124;43m'\u001b[39;49m\u001b[38;5;124;43mPropensity\u001b[39;49m\u001b[38;5;124;43m'\u001b[39;49m\u001b[43m,\u001b[49m\u001b[43m \u001b[49m\u001b[43mverbose\u001b[49m\u001b[38;5;241;43m=\u001b[39;49m\u001b[38;5;28;43;01mFalse\u001b[39;49;00m\u001b[43m)\u001b[49m\n",
      "File \u001b[0;32m~/Documents/Code/pdstools-working/pega-datascientist-tools/python/docs/source/articles/../../../pdstools/valuefinder/ValueFinder.py:551\u001b[0m, in \u001b[0;36mValueFinder.plotDistributionPerThreshold\u001b[0;34m(self, target, **kwargs)\u001b[0m\n\u001b[1;32m    549\u001b[0m \u001b[38;5;28;01mfor\u001b[39;00m quantile, data \u001b[38;5;129;01min\u001b[39;00m \u001b[38;5;28mself\u001b[39m\u001b[38;5;241m.\u001b[39mcountsPerThreshold\u001b[38;5;241m.\u001b[39mitems():\n\u001b[1;32m    550\u001b[0m     target2 \u001b[38;5;241m=\u001b[39m data[\u001b[38;5;241m0\u001b[39m] \u001b[38;5;28;01mif\u001b[39;00m target\u001b[38;5;241m.\u001b[39mcasefold() \u001b[38;5;241m==\u001b[39m \u001b[38;5;124m\"\u001b[39m\u001b[38;5;124mpropensity\u001b[39m\u001b[38;5;124m\"\u001b[39m \u001b[38;5;28;01melse\u001b[39;00m quantile\n\u001b[0;32m--> 551\u001b[0m     df\u001b[38;5;241m.\u001b[39mappend(data[\u001b[38;5;241m1\u001b[39m]\u001b[38;5;241m.\u001b[39mwith_column(\u001b[43mpl\u001b[49m\u001b[38;5;241;43m.\u001b[39;49m\u001b[43mlit\u001b[49m\u001b[43m(\u001b[49m\u001b[43mtarget2\u001b[49m\u001b[43m)\u001b[49m\u001b[38;5;241m.\u001b[39malias(target)))\n\u001b[1;32m    552\u001b[0m df \u001b[38;5;241m=\u001b[39m pl\u001b[38;5;241m.\u001b[39mconcat(df)\u001b[38;5;241m.\u001b[39mcollect()\u001b[38;5;241m.\u001b[39mto_pandas()\u001b[38;5;241m.\u001b[39mset_index(target)\n\u001b[1;32m    553\u001b[0m fig \u001b[38;5;241m=\u001b[39m px\u001b[38;5;241m.\u001b[39marea(\n\u001b[1;32m    554\u001b[0m     df\u001b[38;5;241m.\u001b[39mrename(\n\u001b[1;32m    555\u001b[0m         columns\u001b[38;5;241m=\u001b[39m{\n\u001b[0;32m   (...)\u001b[0m\n\u001b[1;32m    566\u001b[0m     template\u001b[38;5;241m=\u001b[39m\u001b[38;5;124m\"\u001b[39m\u001b[38;5;124mnone\u001b[39m\u001b[38;5;124m\"\u001b[39m,\n\u001b[1;32m    567\u001b[0m )\n",
      "File \u001b[0;32m/Library/Frameworks/Python.framework/Versions/3.11/lib/python3.11/site-packages/polars/utils.py:531\u001b[0m, in \u001b[0;36mdeprecate_nonkeyword_arguments.<locals>.decorate.<locals>.wrapper\u001b[0;34m(*args, **kwargs)\u001b[0m\n\u001b[1;32m    529\u001b[0m \u001b[38;5;28;01mif\u001b[39;00m \u001b[38;5;28mlen\u001b[39m(args) \u001b[38;5;241m>\u001b[39m num_allowed_args:\n\u001b[1;32m    530\u001b[0m     warnings\u001b[38;5;241m.\u001b[39mwarn(msg, \u001b[38;5;167;01mDeprecationWarning\u001b[39;00m, stacklevel\u001b[38;5;241m=\u001b[39m\u001b[38;5;241m2\u001b[39m)\n\u001b[0;32m--> 531\u001b[0m \u001b[38;5;28;01mreturn\u001b[39;00m \u001b[43mfunction\u001b[49m\u001b[43m(\u001b[49m\u001b[38;5;241;43m*\u001b[39;49m\u001b[43margs\u001b[49m\u001b[43m,\u001b[49m\u001b[43m \u001b[49m\u001b[38;5;241;43m*\u001b[39;49m\u001b[38;5;241;43m*\u001b[39;49m\u001b[43mkwargs\u001b[49m\u001b[43m)\u001b[49m\n",
      "File \u001b[0;32m/Library/Frameworks/Python.framework/Versions/3.11/lib/python3.11/site-packages/polars/internals/lazy_functions.py:1217\u001b[0m, in \u001b[0;36mlit\u001b[0;34m(value, dtype, allow_object)\u001b[0m\n\u001b[1;32m   1215\u001b[0m \u001b[38;5;28;01mexcept\u001b[39;00m \u001b[38;5;167;01mAttributeError\u001b[39;00m:\n\u001b[1;32m   1216\u001b[0m     item \u001b[38;5;241m=\u001b[39m value\n\u001b[0;32m-> 1217\u001b[0m \u001b[38;5;28;01mreturn\u001b[39;00m pli\u001b[38;5;241m.\u001b[39mwrap_expr(\u001b[43mpylit\u001b[49m\u001b[43m(\u001b[49m\u001b[43mitem\u001b[49m\u001b[43m,\u001b[49m\u001b[43m \u001b[49m\u001b[43mallow_object\u001b[49m\u001b[43m)\u001b[49m)\n",
      "\u001b[0;31mValueError\u001b[0m: could not convert value '[0.0002688172043010753]' as a Literal"
>>>>>>> master
     ]
    }
   ],
   "source": [
    "vf.plotDistributionPerThreshold(target='Propensity', verbose=False)"
   ]
  },
  {
   "cell_type": "markdown",
   "metadata": {},
   "source": [
    "One area to consider is how your action distribution changes through the stages. Simply call the `plotFunnelChart()` function for an overview of this funnel effect throughout each stage. As a rule of thumb, if there are only a few actions in each stage, this is not a good sign. If certain actions are completely filtered out from one stage to the next, it may also be a warning of agressive filtering. In this case, let’s also use the `‘query’` functionality to only look at actions in the `'Sales'` issue"
   ]
  },
  {
   "cell_type": "code",
   "execution_count": 10,
   "metadata": {
    "execution": {
<<<<<<< HEAD
     "iopub.execute_input": "2023-03-02T17:07:40.431216Z",
     "iopub.status.busy": "2023-03-02T17:07:40.430720Z",
     "iopub.status.idle": "2023-03-02T17:07:40.458859Z",
     "shell.execute_reply": "2023-03-02T17:07:40.458112Z"
=======
     "iopub.execute_input": "2023-03-06T16:12:30.307338Z",
     "iopub.status.busy": "2023-03-06T16:12:30.307100Z",
     "iopub.status.idle": "2023-03-06T16:12:30.415162Z",
     "shell.execute_reply": "2023-03-06T16:12:30.414485Z"
>>>>>>> master
    }
   },
   "outputs": [
    {
<<<<<<< HEAD
     "ename": "NameError",
     "evalue": "name 'pd' is not defined",
     "output_type": "error",
     "traceback": [
      "\u001b[0;31m---------------------------------------------------------------------------\u001b[0m",
      "\u001b[0;31mNameError\u001b[0m                                 Traceback (most recent call last)",
      "Cell \u001b[0;32mIn [10], line 1\u001b[0m\n\u001b[0;32m----> 1\u001b[0m \u001b[43mvf\u001b[49m\u001b[38;5;241;43m.\u001b[39;49m\u001b[43mplotFunnelChart\u001b[49m\u001b[43m(\u001b[49m\u001b[38;5;124;43m'\u001b[39;49m\u001b[38;5;124;43mAction\u001b[39;49m\u001b[38;5;124;43m'\u001b[39;49m\u001b[43m,\u001b[49m\u001b[43m \u001b[49m\u001b[43mquery\u001b[49m\u001b[38;5;241;43m=\u001b[39;49m\u001b[43mpl\u001b[49m\u001b[38;5;241;43m.\u001b[39;49m\u001b[43mcol\u001b[49m\u001b[43m(\u001b[49m\u001b[38;5;124;43m'\u001b[39;49m\u001b[38;5;124;43mpyIssue\u001b[39;49m\u001b[38;5;124;43m'\u001b[39;49m\u001b[43m)\u001b[49m\u001b[38;5;241;43m==\u001b[39;49m\u001b[38;5;124;43m'\u001b[39;49m\u001b[38;5;124;43mSales\u001b[39;49m\u001b[38;5;124;43m'\u001b[39;49m\u001b[43m)\u001b[49m\n",
      "File \u001b[0;32m~/Documents/Code/pdstools-polars/pega-datascientist-tools/python/docs/source/articles/../../../pdstools/valuefinder/ValueFinder.py:591\u001b[0m, in \u001b[0;36mValueFinder.plotFunnelChart\u001b[0;34m(self, level, query)\u001b[0m\n\u001b[1;32m    581\u001b[0m \u001b[38;5;28;01mdef\u001b[39;00m \u001b[38;5;21mplotFunnelChart\u001b[39m(\u001b[38;5;28mself\u001b[39m, level: \u001b[38;5;28mstr\u001b[39m \u001b[38;5;241m=\u001b[39m \u001b[38;5;124m\"\u001b[39m\u001b[38;5;124mAction\u001b[39m\u001b[38;5;124m\"\u001b[39m, query\u001b[38;5;241m=\u001b[39m\u001b[38;5;28;01mNone\u001b[39;00m):\n\u001b[1;32m    582\u001b[0m     \u001b[38;5;124;03m\"\"\"Plots the funnel of actions or issues per stage.\u001b[39;00m\n\u001b[1;32m    583\u001b[0m \n\u001b[1;32m    584\u001b[0m \u001b[38;5;124;03m    Parameters\u001b[39;00m\n\u001b[0;32m   (...)\u001b[0m\n\u001b[1;32m    589\u001b[0m \u001b[38;5;124;03m        - If 'Issues', plots the distribution of issues\u001b[39;00m\n\u001b[1;32m    590\u001b[0m \u001b[38;5;124;03m    \"\"\"\u001b[39;00m\n\u001b[0;32m--> 591\u001b[0m     funneldf \u001b[38;5;241m=\u001b[39m \u001b[43mpd\u001b[49m\u001b[38;5;241m.\u001b[39mDataFrame()\n\u001b[1;32m    592\u001b[0m     \u001b[38;5;28;01mif\u001b[39;00m level\u001b[38;5;241m.\u001b[39mcasefold() \u001b[38;5;129;01min\u001b[39;00m {\u001b[38;5;124m\"\u001b[39m\u001b[38;5;124maction\u001b[39m\u001b[38;5;124m\"\u001b[39m, \u001b[38;5;124m\"\u001b[39m\u001b[38;5;124mname\u001b[39m\u001b[38;5;124m\"\u001b[39m, \u001b[38;5;124m\"\u001b[39m\u001b[38;5;124mpyname\u001b[39m\u001b[38;5;124m\"\u001b[39m}:\n\u001b[1;32m    593\u001b[0m         level, cat \u001b[38;5;241m=\u001b[39m \u001b[38;5;124m\"\u001b[39m\u001b[38;5;124mpyName\u001b[39m\u001b[38;5;124m\"\u001b[39m, \u001b[38;5;124m\"\u001b[39m\u001b[38;5;124mActions\u001b[39m\u001b[38;5;124m\"\u001b[39m\n",
      "\u001b[0;31mNameError\u001b[0m: name 'pd' is not defined"
     ]
=======
     "data": {
      "text/html": [
       "<div>                            <div id=\"10773264-d2c7-457b-9329-20c4e9c70c0b\" class=\"plotly-graph-div\" style=\"height:525px; width:100%;\"></div>            <script type=\"text/javascript\">                require([\"plotly\"], function(Plotly) {                    window.PLOTLYENV=window.PLOTLYENV || {};                                    if (document.getElementById(\"10773264-d2c7-457b-9329-20c4e9c70c0b\")) {                    Plotly.newPlot(                        \"10773264-d2c7-457b-9329-20c4e9c70c0b\",                        [{\"hovertemplate\":\"Name=%{text}<br>Stage=%{x}<br>Count=%{y}<extra></extra>\",\"legendgroup\":\"AMEXPersonal\",\"marker\":{\"color\":\"#1F77B4\"},\"name\":\"AMEXPersonal\",\"orientation\":\"v\",\"showlegend\":true,\"text\":[\"AMEXPersonal\",\"AMEXPersonal\",\"AMEXPersonal\",\"AMEXPersonal\"],\"x\":[\"Eligibility\",\"Suitability\",\"Arbitration\",\"Applicability\"],\"xaxis\":\"x\",\"y\":[261,44,43,63],\"yaxis\":\"y\",\"type\":\"funnel\"},{\"hovertemplate\":\"Name=%{text}<br>Stage=%{x}<br>Count=%{y}<extra></extra>\",\"legendgroup\":\"AutoNew36Months\",\"marker\":{\"color\":\"#FF7F0E\"},\"name\":\"AutoNew36Months\",\"orientation\":\"v\",\"showlegend\":true,\"text\":[\"AutoNew36Months\",\"AutoNew36Months\",\"AutoNew36Months\",\"AutoNew36Months\"],\"x\":[\"Eligibility\",\"Applicability\",\"Suitability\",\"Arbitration\"],\"xaxis\":\"x\",\"y\":[264,293,299,292],\"yaxis\":\"y\",\"type\":\"funnel\"},{\"hovertemplate\":\"Name=%{text}<br>Stage=%{x}<br>Count=%{y}<extra></extra>\",\"legendgroup\":\"AutoNew48Months\",\"marker\":{\"color\":\"#2CA02C\"},\"name\":\"AutoNew48Months\",\"orientation\":\"v\",\"showlegend\":true,\"text\":[\"AutoNew48Months\",\"AutoNew48Months\",\"AutoNew48Months\",\"AutoNew48Months\"],\"x\":[\"Arbitration\",\"Applicability\",\"Suitability\",\"Eligibility\"],\"xaxis\":\"x\",\"y\":[156,137,143,119],\"yaxis\":\"y\",\"type\":\"funnel\"},{\"hovertemplate\":\"Name=%{text}<br>Stage=%{x}<br>Count=%{y}<extra></extra>\",\"legendgroup\":\"AutoNew84Months\",\"marker\":{\"color\":\"#D62728\"},\"name\":\"AutoNew84Months\",\"orientation\":\"v\",\"showlegend\":true,\"text\":[\"AutoNew84Months\",\"AutoNew84Months\",\"AutoNew84Months\",\"AutoNew84Months\"],\"x\":[\"Eligibility\",\"Applicability\",\"Suitability\",\"Arbitration\"],\"xaxis\":\"x\",\"y\":[441,477,488,513],\"yaxis\":\"y\",\"type\":\"funnel\"},{\"hovertemplate\":\"Name=%{text}<br>Stage=%{x}<br>Count=%{y}<extra></extra>\",\"legendgroup\":\"AutoUsed36Months\",\"marker\":{\"color\":\"#9467BD\"},\"name\":\"AutoUsed36Months\",\"orientation\":\"v\",\"showlegend\":true,\"text\":[\"AutoUsed36Months\",\"AutoUsed36Months\",\"AutoUsed36Months\",\"AutoUsed36Months\"],\"x\":[\"Eligibility\",\"Applicability\",\"Suitability\",\"Arbitration\"],\"xaxis\":\"x\",\"y\":[80,93,98,108],\"yaxis\":\"y\",\"type\":\"funnel\"},{\"hovertemplate\":\"Name=%{text}<br>Stage=%{x}<br>Count=%{y}<extra></extra>\",\"legendgroup\":\"AutoUsed48Months\",\"marker\":{\"color\":\"#8C564B\"},\"name\":\"AutoUsed48Months\",\"orientation\":\"v\",\"showlegend\":true,\"text\":[\"AutoUsed48Months\",\"AutoUsed48Months\",\"AutoUsed48Months\",\"AutoUsed48Months\"],\"x\":[\"Arbitration\",\"Eligibility\",\"Suitability\",\"Applicability\"],\"xaxis\":\"x\",\"y\":[1001,905,1002,979],\"yaxis\":\"y\",\"type\":\"funnel\"},{\"hovertemplate\":\"Name=%{text}<br>Stage=%{x}<br>Count=%{y}<extra></extra>\",\"legendgroup\":\"AutoUsed60Months\",\"marker\":{\"color\":\"#E377C2\"},\"name\":\"AutoUsed60Months\",\"orientation\":\"v\",\"showlegend\":true,\"text\":[\"AutoUsed60Months\",\"AutoUsed60Months\",\"AutoUsed60Months\",\"AutoUsed60Months\"],\"x\":[\"Suitability\",\"Eligibility\",\"Arbitration\",\"Applicability\"],\"xaxis\":\"x\",\"y\":[210,169,223,200],\"yaxis\":\"y\",\"type\":\"funnel\"},{\"hovertemplate\":\"Name=%{text}<br>Stage=%{x}<br>Count=%{y}<extra></extra>\",\"legendgroup\":\"AutoUsed84Months\",\"marker\":{\"color\":\"#7F7F7F\"},\"name\":\"AutoUsed84Months\",\"orientation\":\"v\",\"showlegend\":true,\"text\":[\"AutoUsed84Months\",\"AutoUsed84Months\",\"AutoUsed84Months\",\"AutoUsed84Months\"],\"x\":[\"Arbitration\",\"Applicability\",\"Eligibility\",\"Suitability\"],\"xaxis\":\"x\",\"y\":[72,61,56,60],\"yaxis\":\"y\",\"type\":\"funnel\"},{\"hovertemplate\":\"Name=%{text}<br>Stage=%{x}<br>Count=%{y}<extra></extra>\",\"legendgroup\":\"CongratsOnYourNewMortgage\",\"marker\":{\"color\":\"#BCBD22\"},\"name\":\"CongratsOnYourNewMortgage\",\"orientation\":\"v\",\"showlegend\":true,\"text\":[\"CongratsOnYourNewMortgage\",\"CongratsOnYourNewMortgage\",\"CongratsOnYourNewMortgage\",\"CongratsOnYourNewMortgage\"],\"x\":[\"Applicability\",\"Eligibility\",\"Arbitration\",\"Suitability\"],\"xaxis\":\"x\",\"y\":[21,17,26,23],\"yaxis\":\"y\",\"type\":\"funnel\"},{\"hovertemplate\":\"Name=%{text}<br>Stage=%{x}<br>Count=%{y}<extra></extra>\",\"legendgroup\":\"CongratsYourLoanIsApproved\",\"marker\":{\"color\":\"#17BECF\"},\"name\":\"CongratsYourLoanIsApproved\",\"orientation\":\"v\",\"showlegend\":true,\"text\":[\"CongratsYourLoanIsApproved\",\"CongratsYourLoanIsApproved\",\"CongratsYourLoanIsApproved\",\"CongratsYourLoanIsApproved\"],\"x\":[\"Eligibility\",\"Suitability\",\"Arbitration\",\"Applicability\"],\"xaxis\":\"x\",\"y\":[25,40,44,35],\"yaxis\":\"y\",\"type\":\"funnel\"},{\"hovertemplate\":\"Name=%{text}<br>Stage=%{x}<br>Count=%{y}<extra></extra>\",\"legendgroup\":\"FirstMortgage\",\"marker\":{\"color\":\"#1F77B4\"},\"name\":\"FirstMortgage\",\"orientation\":\"v\",\"showlegend\":true,\"text\":[\"FirstMortgage\",\"FirstMortgage\",\"FirstMortgage\",\"FirstMortgage\"],\"x\":[\"Applicability\",\"Eligibility\",\"Arbitration\",\"Suitability\"],\"xaxis\":\"x\",\"y\":[5,4,7,6],\"yaxis\":\"y\",\"type\":\"funnel\"},{\"hovertemplate\":\"Name=%{text}<br>Stage=%{x}<br>Count=%{y}<extra></extra>\",\"legendgroup\":\"FirstMortgage15yr\",\"marker\":{\"color\":\"#FF7F0E\"},\"name\":\"FirstMortgage15yr\",\"orientation\":\"v\",\"showlegend\":true,\"text\":[\"FirstMortgage15yr\",\"FirstMortgage15yr\",\"FirstMortgage15yr\",\"FirstMortgage15yr\"],\"x\":[\"Arbitration\",\"Applicability\",\"Eligibility\",\"Suitability\"],\"xaxis\":\"x\",\"y\":[28,25,25,28],\"yaxis\":\"y\",\"type\":\"funnel\"},{\"hovertemplate\":\"Name=%{text}<br>Stage=%{x}<br>Count=%{y}<extra></extra>\",\"legendgroup\":\"FirstMortgageFHA\",\"marker\":{\"color\":\"#2CA02C\"},\"name\":\"FirstMortgageFHA\",\"orientation\":\"v\",\"showlegend\":true,\"text\":[\"FirstMortgageFHA\",\"FirstMortgageFHA\",\"FirstMortgageFHA\",\"FirstMortgageFHA\"],\"x\":[\"Applicability\",\"Eligibility\",\"Arbitration\",\"Suitability\"],\"xaxis\":\"x\",\"y\":[60,47,57,64],\"yaxis\":\"y\",\"type\":\"funnel\"},{\"hovertemplate\":\"Name=%{text}<br>Stage=%{x}<br>Count=%{y}<extra></extra>\",\"legendgroup\":\"FirstMortgageFiveOneARM\",\"marker\":{\"color\":\"#D62728\"},\"name\":\"FirstMortgageFiveOneARM\",\"orientation\":\"v\",\"showlegend\":true,\"text\":[\"FirstMortgageFiveOneARM\",\"FirstMortgageFiveOneARM\",\"FirstMortgageFiveOneARM\",\"FirstMortgageFiveOneARM\"],\"x\":[\"Applicability\",\"Eligibility\",\"Arbitration\",\"Suitability\"],\"xaxis\":\"x\",\"y\":[27,22,37,32],\"yaxis\":\"y\",\"type\":\"funnel\"},{\"hovertemplate\":\"Name=%{text}<br>Stage=%{x}<br>Count=%{y}<extra></extra>\",\"legendgroup\":\"FirstMortgageFloat\",\"marker\":{\"color\":\"#9467BD\"},\"name\":\"FirstMortgageFloat\",\"orientation\":\"v\",\"showlegend\":true,\"text\":[\"FirstMortgageFloat\",\"FirstMortgageFloat\",\"FirstMortgageFloat\",\"FirstMortgageFloat\"],\"x\":[\"Arbitration\",\"Suitability\",\"Eligibility\",\"Applicability\"],\"xaxis\":\"x\",\"y\":[123,133,106,126],\"yaxis\":\"y\",\"type\":\"funnel\"},{\"hovertemplate\":\"Name=%{text}<br>Stage=%{x}<br>Count=%{y}<extra></extra>\",\"legendgroup\":\"FirstMortgageSevenOneARM\",\"marker\":{\"color\":\"#8C564B\"},\"name\":\"FirstMortgageSevenOneARM\",\"orientation\":\"v\",\"showlegend\":true,\"text\":[\"FirstMortgageSevenOneARM\",\"FirstMortgageSevenOneARM\",\"FirstMortgageSevenOneARM\",\"FirstMortgageSevenOneARM\"],\"x\":[\"Arbitration\",\"Applicability\",\"Eligibility\",\"Suitability\"],\"xaxis\":\"x\",\"y\":[58,51,36,56],\"yaxis\":\"y\",\"type\":\"funnel\"},{\"hovertemplate\":\"Name=%{text}<br>Stage=%{x}<br>Count=%{y}<extra></extra>\",\"legendgroup\":\"FirstMortgageThreeOneARM\",\"marker\":{\"color\":\"#E377C2\"},\"name\":\"FirstMortgageThreeOneARM\",\"orientation\":\"v\",\"showlegend\":true,\"text\":[\"FirstMortgageThreeOneARM\",\"FirstMortgageThreeOneARM\",\"FirstMortgageThreeOneARM\",\"FirstMortgageThreeOneARM\"],\"x\":[\"Eligibility\",\"Applicability\",\"Suitability\",\"Arbitration\"],\"xaxis\":\"x\",\"y\":[68,82,87,94],\"yaxis\":\"y\",\"type\":\"funnel\"},{\"hovertemplate\":\"Name=%{text}<br>Stage=%{x}<br>Count=%{y}<extra></extra>\",\"legendgroup\":\"FreeChecking\",\"marker\":{\"color\":\"#7F7F7F\"},\"name\":\"FreeChecking\",\"orientation\":\"v\",\"showlegend\":true,\"text\":[\"FreeChecking\",\"FreeChecking\",\"FreeChecking\",\"FreeChecking\"],\"x\":[\"Suitability\",\"Arbitration\",\"Eligibility\",\"Applicability\"],\"xaxis\":\"x\",\"y\":[392,438,360,386],\"yaxis\":\"y\",\"type\":\"funnel\"},{\"hovertemplate\":\"Name=%{text}<br>Stage=%{x}<br>Count=%{y}<extra></extra>\",\"legendgroup\":\"GetAPersonalizedRateQuoteToday\",\"marker\":{\"color\":\"#BCBD22\"},\"name\":\"GetAPersonalizedRateQuoteToday\",\"orientation\":\"v\",\"showlegend\":true,\"text\":[\"GetAPersonalizedRateQuoteToday\",\"GetAPersonalizedRateQuoteToday\",\"GetAPersonalizedRateQuoteToday\",\"GetAPersonalizedRateQuoteToday\"],\"x\":[\"Eligibility\",\"Applicability\",\"Suitability\",\"Arbitration\"],\"xaxis\":\"x\",\"y\":[31,39,42,48],\"yaxis\":\"y\",\"type\":\"funnel\"},{\"hovertemplate\":\"Name=%{text}<br>Stage=%{x}<br>Count=%{y}<extra></extra>\",\"legendgroup\":\"MasterCardGold\",\"marker\":{\"color\":\"#17BECF\"},\"name\":\"MasterCardGold\",\"orientation\":\"v\",\"showlegend\":true,\"text\":[\"MasterCardGold\",\"MasterCardGold\",\"MasterCardGold\"],\"x\":[\"Eligibility\",\"Applicability\",\"Suitability\"],\"xaxis\":\"x\",\"y\":[59,72,56],\"yaxis\":\"y\",\"type\":\"funnel\"},{\"hovertemplate\":\"Name=%{text}<br>Stage=%{x}<br>Count=%{y}<extra></extra>\",\"legendgroup\":\"MasterCardWorld\",\"marker\":{\"color\":\"#1F77B4\"},\"name\":\"MasterCardWorld\",\"orientation\":\"v\",\"showlegend\":true,\"text\":[\"MasterCardWorld\",\"MasterCardWorld\",\"MasterCardWorld\"],\"x\":[\"Eligibility\",\"Suitability\",\"Applicability\"],\"xaxis\":\"x\",\"y\":[29,9,12],\"yaxis\":\"y\",\"type\":\"funnel\"},{\"hovertemplate\":\"Name=%{text}<br>Stage=%{x}<br>Count=%{y}<extra></extra>\",\"legendgroup\":\"MoneyMarketSavingsAccount\",\"marker\":{\"color\":\"#FF7F0E\"},\"name\":\"MoneyMarketSavingsAccount\",\"orientation\":\"v\",\"showlegend\":true,\"text\":[\"MoneyMarketSavingsAccount\",\"MoneyMarketSavingsAccount\",\"MoneyMarketSavingsAccount\",\"MoneyMarketSavingsAccount\"],\"x\":[\"Arbitration\",\"Suitability\",\"Applicability\",\"Eligibility\"],\"xaxis\":\"x\",\"y\":[36,37,32,20],\"yaxis\":\"y\",\"type\":\"funnel\"},{\"hovertemplate\":\"Name=%{text}<br>Stage=%{x}<br>Count=%{y}<extra></extra>\",\"legendgroup\":\"PremierChecking\",\"marker\":{\"color\":\"#2CA02C\"},\"name\":\"PremierChecking\",\"orientation\":\"v\",\"showlegend\":true,\"text\":[\"PremierChecking\",\"PremierChecking\",\"PremierChecking\",\"PremierChecking\"],\"x\":[\"Arbitration\",\"Eligibility\",\"Suitability\",\"Applicability\"],\"xaxis\":\"x\",\"y\":[4,44,4,4],\"yaxis\":\"y\",\"type\":\"funnel\"},{\"hovertemplate\":\"Name=%{text}<br>Stage=%{x}<br>Count=%{y}<extra></extra>\",\"legendgroup\":\"PremiumBanking\",\"marker\":{\"color\":\"#D62728\"},\"name\":\"PremiumBanking\",\"orientation\":\"v\",\"showlegend\":true,\"text\":[\"PremiumBanking\",\"PremiumBanking\",\"PremiumBanking\",\"PremiumBanking\"],\"x\":[\"Arbitration\",\"Eligibility\",\"Applicability\",\"Suitability\"],\"xaxis\":\"x\",\"y\":[27,22,25,26],\"yaxis\":\"y\",\"type\":\"funnel\"},{\"hovertemplate\":\"Name=%{text}<br>Stage=%{x}<br>Count=%{y}<extra></extra>\",\"legendgroup\":\"RatesAreFalling\",\"marker\":{\"color\":\"#9467BD\"},\"name\":\"RatesAreFalling\",\"orientation\":\"v\",\"showlegend\":true,\"text\":[\"RatesAreFalling\",\"RatesAreFalling\",\"RatesAreFalling\",\"RatesAreFalling\"],\"x\":[\"Suitability\",\"Arbitration\",\"Applicability\",\"Eligibility\"],\"xaxis\":\"x\",\"y\":[55,56,49,35],\"yaxis\":\"y\",\"type\":\"funnel\"},{\"hovertemplate\":\"Name=%{text}<br>Stage=%{x}<br>Count=%{y}<extra></extra>\",\"legendgroup\":\"RegularSaving\",\"marker\":{\"color\":\"#8C564B\"},\"name\":\"RegularSaving\",\"orientation\":\"v\",\"showlegend\":true,\"text\":[\"RegularSaving\",\"RegularSaving\",\"RegularSaving\",\"RegularSaving\"],\"x\":[\"Arbitration\",\"Eligibility\",\"Applicability\",\"Suitability\"],\"xaxis\":\"x\",\"y\":[90,67,78,77],\"yaxis\":\"y\",\"type\":\"funnel\"},{\"hovertemplate\":\"Name=%{text}<br>Stage=%{x}<br>Count=%{y}<extra></extra>\",\"legendgroup\":\"SeniorChecking\",\"marker\":{\"color\":\"#E377C2\"},\"name\":\"SeniorChecking\",\"orientation\":\"v\",\"showlegend\":true,\"text\":[\"SeniorChecking\",\"SeniorChecking\"],\"x\":[\"Arbitration\",\"Suitability\"],\"xaxis\":\"x\",\"y\":[1,1],\"yaxis\":\"y\",\"type\":\"funnel\"},{\"hovertemplate\":\"Name=%{text}<br>Stage=%{x}<br>Count=%{y}<extra></extra>\",\"legendgroup\":\"StillWorkingOnYourLoanApplication\",\"marker\":{\"color\":\"#7F7F7F\"},\"name\":\"StillWorkingOnYourLoanApplication\",\"orientation\":\"v\",\"showlegend\":true,\"text\":[\"StillWorkingOnYourLoanApplication\",\"StillWorkingOnYourLoanApplication\",\"StillWorkingOnYourLoanApplication\",\"StillWorkingOnYourLoanApplication\"],\"x\":[\"Arbitration\",\"Suitability\",\"Eligibility\",\"Applicability\"],\"xaxis\":\"x\",\"y\":[32,30,17,26],\"yaxis\":\"y\",\"type\":\"funnel\"},{\"hovertemplate\":\"Name=%{text}<br>Stage=%{x}<br>Count=%{y}<extra></extra>\",\"legendgroup\":\"StudentChecking\",\"marker\":{\"color\":\"#BCBD22\"},\"name\":\"StudentChecking\",\"orientation\":\"v\",\"showlegend\":true,\"text\":[\"StudentChecking\",\"StudentChecking\",\"StudentChecking\",\"StudentChecking\"],\"x\":[\"Arbitration\",\"Suitability\",\"Applicability\",\"Eligibility\"],\"xaxis\":\"x\",\"y\":[650,718,705,657],\"yaxis\":\"y\",\"type\":\"funnel\"},{\"hovertemplate\":\"Name=%{text}<br>Stage=%{x}<br>Count=%{y}<extra></extra>\",\"legendgroup\":\"StudentChoice\",\"marker\":{\"color\":\"#17BECF\"},\"name\":\"StudentChoice\",\"orientation\":\"v\",\"showlegend\":true,\"text\":[\"StudentChoice\",\"StudentChoice\",\"StudentChoice\",\"StudentChoice\"],\"x\":[\"Applicability\",\"Eligibility\",\"Suitability\",\"Arbitration\"],\"xaxis\":\"x\",\"y\":[34,32,33,39],\"yaxis\":\"y\",\"type\":\"funnel\"},{\"hovertemplate\":\"Name=%{text}<br>Stage=%{x}<br>Count=%{y}<extra></extra>\",\"legendgroup\":\"SuperSaver\",\"marker\":{\"color\":\"#1F77B4\"},\"name\":\"SuperSaver\",\"orientation\":\"v\",\"showlegend\":true,\"text\":[\"SuperSaver\",\"SuperSaver\",\"SuperSaver\",\"SuperSaver\"],\"x\":[\"Suitability\",\"Arbitration\",\"Eligibility\",\"Applicability\"],\"xaxis\":\"x\",\"y\":[90,100,74,84],\"yaxis\":\"y\",\"type\":\"funnel\"},{\"hovertemplate\":\"Name=%{text}<br>Stage=%{x}<br>Count=%{y}<extra></extra>\",\"legendgroup\":\"UFixedRateMortgage\",\"marker\":{\"color\":\"#FF7F0E\"},\"name\":\"UFixedRateMortgage\",\"orientation\":\"v\",\"showlegend\":true,\"text\":[\"UFixedRateMortgage\",\"UFixedRateMortgage\",\"UFixedRateMortgage\",\"UFixedRateMortgage\"],\"x\":[\"Applicability\",\"Arbitration\",\"Eligibility\",\"Suitability\"],\"xaxis\":\"x\",\"y\":[36,233,28,40],\"yaxis\":\"y\",\"type\":\"funnel\"},{\"hovertemplate\":\"Name=%{text}<br>Stage=%{x}<br>Count=%{y}<extra></extra>\",\"legendgroup\":\"UPlusFinGold\",\"marker\":{\"color\":\"#2CA02C\"},\"name\":\"UPlusFinGold\",\"orientation\":\"v\",\"showlegend\":true,\"text\":[\"UPlusFinGold\",\"UPlusFinGold\",\"UPlusFinGold\",\"UPlusFinGold\"],\"x\":[\"Arbitration\",\"Eligibility\",\"Suitability\",\"Applicability\"],\"xaxis\":\"x\",\"y\":[23,22,21,28],\"yaxis\":\"y\",\"type\":\"funnel\"},{\"hovertemplate\":\"Name=%{text}<br>Stage=%{x}<br>Count=%{y}<extra></extra>\",\"legendgroup\":\"UPlusFinPersonal\",\"marker\":{\"color\":\"#D62728\"},\"name\":\"UPlusFinPersonal\",\"orientation\":\"v\",\"showlegend\":true,\"text\":[\"UPlusFinPersonal\",\"UPlusFinPersonal\",\"UPlusFinPersonal\",\"UPlusFinPersonal\"],\"x\":[\"Arbitration\",\"Suitability\",\"Applicability\",\"Eligibility\"],\"xaxis\":\"x\",\"y\":[22,21,28,24],\"yaxis\":\"y\",\"type\":\"funnel\"},{\"hovertemplate\":\"Name=%{text}<br>Stage=%{x}<br>Count=%{y}<extra></extra>\",\"legendgroup\":\"UPlusPersonal\",\"marker\":{\"color\":\"#9467BD\"},\"name\":\"UPlusPersonal\",\"orientation\":\"v\",\"showlegend\":true,\"text\":[\"UPlusPersonal\",\"UPlusPersonal\",\"UPlusPersonal\",\"UPlusPersonal\"],\"x\":[\"Eligibility\",\"Applicability\",\"Suitability\",\"Arbitration\"],\"xaxis\":\"x\",\"y\":[157,39,35,37],\"yaxis\":\"y\",\"type\":\"funnel\"},{\"hovertemplate\":\"Name=%{text}<br>Stage=%{x}<br>Count=%{y}<extra></extra>\",\"legendgroup\":\"UPlusProductBundles\",\"marker\":{\"color\":\"#8C564B\"},\"name\":\"UPlusProductBundles\",\"orientation\":\"v\",\"showlegend\":true,\"text\":[\"UPlusProductBundles\",\"UPlusProductBundles\",\"UPlusProductBundles\",\"UPlusProductBundles\"],\"x\":[\"Suitability\",\"Arbitration\",\"Eligibility\",\"Applicability\"],\"xaxis\":\"x\",\"y\":[201,211,158,185],\"yaxis\":\"y\",\"type\":\"funnel\"},{\"hovertemplate\":\"Name=%{text}<br>Stage=%{x}<br>Count=%{y}<extra></extra>\",\"legendgroup\":\"VisaGold\",\"marker\":{\"color\":\"#E377C2\"},\"name\":\"VisaGold\",\"orientation\":\"v\",\"showlegend\":true,\"text\":[\"VisaGold\",\"VisaGold\",\"VisaGold\"],\"x\":[\"Applicability\",\"Suitability\",\"Eligibility\"],\"xaxis\":\"x\",\"y\":[42,27,33],\"yaxis\":\"y\",\"type\":\"funnel\"}],                        {\"template\":{\"data\":{\"scatter\":[{\"type\":\"scatter\"}]}},\"xaxis\":{\"anchor\":\"y\",\"domain\":[0.0,1.0],\"title\":{\"text\":\"Stage\"},\"categoryorder\":\"array\",\"categoryarray\":[\"Eligibility\",\"Applicability\",\"Suitability\",\"Arbitration\"]},\"yaxis\":{\"anchor\":\"x\",\"domain\":[0.0,1.0],\"title\":{\"text\":\"Count\"}},\"legend\":{\"title\":{\"text\":\"Actions\"},\"tracegroupgap\":0},\"title\":{\"text\":\"Distribution of actions over the stages\"}},                        {\"responsive\": true}                    ).then(function(){\n",
       "                            \n",
       "var gd = document.getElementById('10773264-d2c7-457b-9329-20c4e9c70c0b');\n",
       "var x = new MutationObserver(function (mutations, observer) {{\n",
       "        var display = window.getComputedStyle(gd).display;\n",
       "        if (!display || display === 'none') {{\n",
       "            console.log([gd, 'removed!']);\n",
       "            Plotly.purge(gd);\n",
       "            observer.disconnect();\n",
       "        }}\n",
       "}});\n",
       "\n",
       "// Listen for the removal of the full notebook cells\n",
       "var notebookContainer = gd.closest('#notebook-container');\n",
       "if (notebookContainer) {{\n",
       "    x.observe(notebookContainer, {childList: true});\n",
       "}}\n",
       "\n",
       "// Listen for the clearing of the current output cell\n",
       "var outputEl = gd.closest('.output');\n",
       "if (outputEl) {{\n",
       "    x.observe(outputEl, {childList: true});\n",
       "}}\n",
       "\n",
       "                        })                };                });            </script>        </div>"
      ]
     },
     "metadata": {},
     "output_type": "display_data"
>>>>>>> master
    }
   ],
   "source": [
    "vf.plotFunnelChart('Action', query=pl.col('pyIssue')=='Sales')"
   ]
  },
  {
   "cell_type": "markdown",
   "metadata": {},
   "source": [
    "Of course this is quite a lot of information. If instead we want to look at the distribution of *issues* over each stage, simply supply the `level` parameters as `'Issue'`:"
   ]
  },
  {
   "cell_type": "code",
   "execution_count": 11,
   "metadata": {
    "execution": {
<<<<<<< HEAD
     "iopub.execute_input": "2023-03-02T17:07:40.462438Z",
     "iopub.status.busy": "2023-03-02T17:07:40.462141Z",
     "iopub.status.idle": "2023-03-02T17:07:40.486328Z",
     "shell.execute_reply": "2023-03-02T17:07:40.485577Z"
=======
     "iopub.execute_input": "2023-03-06T16:12:30.417892Z",
     "iopub.status.busy": "2023-03-06T16:12:30.417677Z",
     "iopub.status.idle": "2023-03-06T16:12:30.460261Z",
     "shell.execute_reply": "2023-03-06T16:12:30.459677Z"
>>>>>>> master
    }
   },
   "outputs": [
    {
<<<<<<< HEAD
     "ename": "NameError",
     "evalue": "name 'pd' is not defined",
     "output_type": "error",
     "traceback": [
      "\u001b[0;31m---------------------------------------------------------------------------\u001b[0m",
      "\u001b[0;31mNameError\u001b[0m                                 Traceback (most recent call last)",
      "Cell \u001b[0;32mIn [11], line 1\u001b[0m\n\u001b[0;32m----> 1\u001b[0m \u001b[43mvf\u001b[49m\u001b[38;5;241;43m.\u001b[39;49m\u001b[43mplotFunnelChart\u001b[49m\u001b[43m(\u001b[49m\u001b[38;5;124;43m'\u001b[39;49m\u001b[38;5;124;43mIssue\u001b[39;49m\u001b[38;5;124;43m'\u001b[39;49m\u001b[43m)\u001b[49m\n",
      "File \u001b[0;32m~/Documents/Code/pdstools-polars/pega-datascientist-tools/python/docs/source/articles/../../../pdstools/valuefinder/ValueFinder.py:591\u001b[0m, in \u001b[0;36mValueFinder.plotFunnelChart\u001b[0;34m(self, level, query)\u001b[0m\n\u001b[1;32m    581\u001b[0m \u001b[38;5;28;01mdef\u001b[39;00m \u001b[38;5;21mplotFunnelChart\u001b[39m(\u001b[38;5;28mself\u001b[39m, level: \u001b[38;5;28mstr\u001b[39m \u001b[38;5;241m=\u001b[39m \u001b[38;5;124m\"\u001b[39m\u001b[38;5;124mAction\u001b[39m\u001b[38;5;124m\"\u001b[39m, query\u001b[38;5;241m=\u001b[39m\u001b[38;5;28;01mNone\u001b[39;00m):\n\u001b[1;32m    582\u001b[0m     \u001b[38;5;124;03m\"\"\"Plots the funnel of actions or issues per stage.\u001b[39;00m\n\u001b[1;32m    583\u001b[0m \n\u001b[1;32m    584\u001b[0m \u001b[38;5;124;03m    Parameters\u001b[39;00m\n\u001b[0;32m   (...)\u001b[0m\n\u001b[1;32m    589\u001b[0m \u001b[38;5;124;03m        - If 'Issues', plots the distribution of issues\u001b[39;00m\n\u001b[1;32m    590\u001b[0m \u001b[38;5;124;03m    \"\"\"\u001b[39;00m\n\u001b[0;32m--> 591\u001b[0m     funneldf \u001b[38;5;241m=\u001b[39m \u001b[43mpd\u001b[49m\u001b[38;5;241m.\u001b[39mDataFrame()\n\u001b[1;32m    592\u001b[0m     \u001b[38;5;28;01mif\u001b[39;00m level\u001b[38;5;241m.\u001b[39mcasefold() \u001b[38;5;129;01min\u001b[39;00m {\u001b[38;5;124m\"\u001b[39m\u001b[38;5;124maction\u001b[39m\u001b[38;5;124m\"\u001b[39m, \u001b[38;5;124m\"\u001b[39m\u001b[38;5;124mname\u001b[39m\u001b[38;5;124m\"\u001b[39m, \u001b[38;5;124m\"\u001b[39m\u001b[38;5;124mpyname\u001b[39m\u001b[38;5;124m\"\u001b[39m}:\n\u001b[1;32m    593\u001b[0m         level, cat \u001b[38;5;241m=\u001b[39m \u001b[38;5;124m\"\u001b[39m\u001b[38;5;124mpyName\u001b[39m\u001b[38;5;124m\"\u001b[39m, \u001b[38;5;124m\"\u001b[39m\u001b[38;5;124mActions\u001b[39m\u001b[38;5;124m\"\u001b[39m\n",
      "\u001b[0;31mNameError\u001b[0m: name 'pd' is not defined"
     ]
=======
     "data": {
      "text/html": [
       "<div>                            <div id=\"f9cd65b7-9675-4b07-a86f-afcce522030b\" class=\"plotly-graph-div\" style=\"height:525px; width:100%;\"></div>            <script type=\"text/javascript\">                require([\"plotly\"], function(Plotly) {                    window.PLOTLYENV=window.PLOTLYENV || {};                                    if (document.getElementById(\"f9cd65b7-9675-4b07-a86f-afcce522030b\")) {                    Plotly.newPlot(                        \"f9cd65b7-9675-4b07-a86f-afcce522030b\",                        [{\"hovertemplate\":\"Name=%{text}<br>Stage=%{x}<br>Count=%{y}<extra></extra>\",\"legendgroup\":\"Collections\",\"marker\":{\"color\":\"#1F77B4\"},\"name\":\"Collections\",\"orientation\":\"v\",\"showlegend\":true,\"text\":[\"Collections\",\"Collections\",\"Collections\",\"Collections\"],\"x\":[\"Eligibility\",\"Applicability\",\"Arbitration\",\"Suitability\"],\"xaxis\":\"x\",\"y\":[170,170,65,94],\"yaxis\":\"y\",\"type\":\"funnel\"},{\"hovertemplate\":\"Name=%{text}<br>Stage=%{x}<br>Count=%{y}<extra></extra>\",\"legendgroup\":\"Crosssell\",\"marker\":{\"color\":\"#FF7F0E\"},\"name\":\"Crosssell\",\"orientation\":\"v\",\"showlegend\":true,\"text\":[\"Crosssell\",\"Crosssell\",\"Crosssell\",\"Crosssell\"],\"x\":[\"Eligibility\",\"Applicability\",\"Suitability\",\"Arbitration\"],\"xaxis\":\"x\",\"y\":[1095,467,361,291],\"yaxis\":\"y\",\"type\":\"funnel\"},{\"hovertemplate\":\"Name=%{text}<br>Stage=%{x}<br>Count=%{y}<extra></extra>\",\"legendgroup\":\"Financialliteracy\",\"marker\":{\"color\":\"#2CA02C\"},\"name\":\"Financialliteracy\",\"orientation\":\"v\",\"showlegend\":true,\"text\":[\"Financialliteracy\",\"Financialliteracy\",\"Financialliteracy\",\"Financialliteracy\"],\"x\":[\"Eligibility\",\"Applicability\",\"Suitability\",\"Arbitration\"],\"xaxis\":\"x\",\"y\":[751,825,841,784],\"yaxis\":\"y\",\"type\":\"funnel\"},{\"hovertemplate\":\"Name=%{text}<br>Stage=%{x}<br>Count=%{y}<extra></extra>\",\"legendgroup\":\"Sales\",\"marker\":{\"color\":\"#D62728\"},\"name\":\"Sales\",\"orientation\":\"v\",\"showlegend\":true,\"text\":[\"Sales\",\"Sales\",\"Sales\",\"Sales\"],\"x\":[\"Arbitration\",\"Suitability\",\"Applicability\",\"Eligibility\"],\"xaxis\":\"x\",\"y\":[4929,4728,4639,4514],\"yaxis\":\"y\",\"type\":\"funnel\"},{\"hovertemplate\":\"Name=%{text}<br>Stage=%{x}<br>Count=%{y}<extra></extra>\",\"legendgroup\":\"Services\",\"marker\":{\"color\":\"#9467BD\"},\"name\":\"Services\",\"orientation\":\"v\",\"showlegend\":true,\"text\":[\"Services\",\"Services\",\"Services\",\"Services\"],\"x\":[\"Eligibility\",\"Arbitration\",\"Applicability\",\"Suitability\"],\"xaxis\":\"x\",\"y\":[392,255,441,252],\"yaxis\":\"y\",\"type\":\"funnel\"},{\"hovertemplate\":\"Name=%{text}<br>Stage=%{x}<br>Count=%{y}<extra></extra>\",\"legendgroup\":\"Usage\",\"marker\":{\"color\":\"#8C564B\"},\"name\":\"Usage\",\"orientation\":\"v\",\"showlegend\":true,\"text\":[\"Usage\",\"Usage\",\"Usage\",\"Usage\"],\"x\":[\"Eligibility\",\"Applicability\",\"Suitability\",\"Arbitration\"],\"xaxis\":\"x\",\"y\":[336,261,287,185],\"yaxis\":\"y\",\"type\":\"funnel\"}],                        {\"template\":{\"data\":{\"scatter\":[{\"type\":\"scatter\"}]}},\"xaxis\":{\"anchor\":\"y\",\"domain\":[0.0,1.0],\"title\":{\"text\":\"Stage\"},\"categoryorder\":\"array\",\"categoryarray\":[\"Eligibility\",\"Applicability\",\"Suitability\",\"Arbitration\"]},\"yaxis\":{\"anchor\":\"x\",\"domain\":[0.0,1.0],\"title\":{\"text\":\"Count\"}},\"legend\":{\"title\":{\"text\":\"Issues\"},\"tracegroupgap\":0},\"title\":{\"text\":\"Distribution of issues over the stages\"}},                        {\"responsive\": true}                    ).then(function(){\n",
       "                            \n",
       "var gd = document.getElementById('f9cd65b7-9675-4b07-a86f-afcce522030b');\n",
       "var x = new MutationObserver(function (mutations, observer) {{\n",
       "        var display = window.getComputedStyle(gd).display;\n",
       "        if (!display || display === 'none') {{\n",
       "            console.log([gd, 'removed!']);\n",
       "            Plotly.purge(gd);\n",
       "            observer.disconnect();\n",
       "        }}\n",
       "}});\n",
       "\n",
       "// Listen for the removal of the full notebook cells\n",
       "var notebookContainer = gd.closest('#notebook-container');\n",
       "if (notebookContainer) {{\n",
       "    x.observe(notebookContainer, {childList: true});\n",
       "}}\n",
       "\n",
       "// Listen for the clearing of the current output cell\n",
       "var outputEl = gd.closest('.output');\n",
       "if (outputEl) {{\n",
       "    x.observe(outputEl, {childList: true});\n",
       "}}\n",
       "\n",
       "                        })                };                });            </script>        </div>"
      ]
     },
     "metadata": {},
     "output_type": "display_data"
>>>>>>> master
    }
   ],
   "source": [
    "vf.plotFunnelChart('Issue')"
   ]
  },
  {
   "cell_type": "markdown",
   "metadata": {},
   "source": [
    "Lastly, it may also be interesting to look at the distribution of groups over the different stages. Here, let's again filter on the `'Sales'` issue only."
   ]
  },
  {
   "cell_type": "code",
   "execution_count": 12,
   "metadata": {
    "execution": {
<<<<<<< HEAD
     "iopub.execute_input": "2023-03-02T17:07:40.490095Z",
     "iopub.status.busy": "2023-03-02T17:07:40.489812Z",
     "iopub.status.idle": "2023-03-02T17:07:40.514857Z",
     "shell.execute_reply": "2023-03-02T17:07:40.514167Z"
=======
     "iopub.execute_input": "2023-03-06T16:12:30.463021Z",
     "iopub.status.busy": "2023-03-06T16:12:30.462833Z",
     "iopub.status.idle": "2023-03-06T16:12:30.508148Z",
     "shell.execute_reply": "2023-03-06T16:12:30.507715Z"
>>>>>>> master
    }
   },
   "outputs": [
    {
<<<<<<< HEAD
     "ename": "NameError",
     "evalue": "name 'pd' is not defined",
     "output_type": "error",
     "traceback": [
      "\u001b[0;31m---------------------------------------------------------------------------\u001b[0m",
      "\u001b[0;31mNameError\u001b[0m                                 Traceback (most recent call last)",
      "Cell \u001b[0;32mIn [12], line 1\u001b[0m\n\u001b[0;32m----> 1\u001b[0m \u001b[43mvf\u001b[49m\u001b[38;5;241;43m.\u001b[39;49m\u001b[43mplotFunnelChart\u001b[49m\u001b[43m(\u001b[49m\u001b[38;5;124;43m'\u001b[39;49m\u001b[38;5;124;43mGroup\u001b[39;49m\u001b[38;5;124;43m'\u001b[39;49m\u001b[43m,\u001b[49m\u001b[43m \u001b[49m\u001b[43mquery\u001b[49m\u001b[38;5;241;43m=\u001b[39;49m\u001b[43mpl\u001b[49m\u001b[38;5;241;43m.\u001b[39;49m\u001b[43mcol\u001b[49m\u001b[43m(\u001b[49m\u001b[38;5;124;43m'\u001b[39;49m\u001b[38;5;124;43mpyIssue\u001b[39;49m\u001b[38;5;124;43m'\u001b[39;49m\u001b[43m)\u001b[49m\u001b[38;5;241;43m==\u001b[39;49m\u001b[38;5;124;43m'\u001b[39;49m\u001b[38;5;124;43mSales\u001b[39;49m\u001b[38;5;124;43m'\u001b[39;49m\u001b[43m)\u001b[49m\n",
      "File \u001b[0;32m~/Documents/Code/pdstools-polars/pega-datascientist-tools/python/docs/source/articles/../../../pdstools/valuefinder/ValueFinder.py:591\u001b[0m, in \u001b[0;36mValueFinder.plotFunnelChart\u001b[0;34m(self, level, query)\u001b[0m\n\u001b[1;32m    581\u001b[0m \u001b[38;5;28;01mdef\u001b[39;00m \u001b[38;5;21mplotFunnelChart\u001b[39m(\u001b[38;5;28mself\u001b[39m, level: \u001b[38;5;28mstr\u001b[39m \u001b[38;5;241m=\u001b[39m \u001b[38;5;124m\"\u001b[39m\u001b[38;5;124mAction\u001b[39m\u001b[38;5;124m\"\u001b[39m, query\u001b[38;5;241m=\u001b[39m\u001b[38;5;28;01mNone\u001b[39;00m):\n\u001b[1;32m    582\u001b[0m     \u001b[38;5;124;03m\"\"\"Plots the funnel of actions or issues per stage.\u001b[39;00m\n\u001b[1;32m    583\u001b[0m \n\u001b[1;32m    584\u001b[0m \u001b[38;5;124;03m    Parameters\u001b[39;00m\n\u001b[0;32m   (...)\u001b[0m\n\u001b[1;32m    589\u001b[0m \u001b[38;5;124;03m        - If 'Issues', plots the distribution of issues\u001b[39;00m\n\u001b[1;32m    590\u001b[0m \u001b[38;5;124;03m    \"\"\"\u001b[39;00m\n\u001b[0;32m--> 591\u001b[0m     funneldf \u001b[38;5;241m=\u001b[39m \u001b[43mpd\u001b[49m\u001b[38;5;241m.\u001b[39mDataFrame()\n\u001b[1;32m    592\u001b[0m     \u001b[38;5;28;01mif\u001b[39;00m level\u001b[38;5;241m.\u001b[39mcasefold() \u001b[38;5;129;01min\u001b[39;00m {\u001b[38;5;124m\"\u001b[39m\u001b[38;5;124maction\u001b[39m\u001b[38;5;124m\"\u001b[39m, \u001b[38;5;124m\"\u001b[39m\u001b[38;5;124mname\u001b[39m\u001b[38;5;124m\"\u001b[39m, \u001b[38;5;124m\"\u001b[39m\u001b[38;5;124mpyname\u001b[39m\u001b[38;5;124m\"\u001b[39m}:\n\u001b[1;32m    593\u001b[0m         level, cat \u001b[38;5;241m=\u001b[39m \u001b[38;5;124m\"\u001b[39m\u001b[38;5;124mpyName\u001b[39m\u001b[38;5;124m\"\u001b[39m, \u001b[38;5;124m\"\u001b[39m\u001b[38;5;124mActions\u001b[39m\u001b[38;5;124m\"\u001b[39m\n",
      "\u001b[0;31mNameError\u001b[0m: name 'pd' is not defined"
     ]
=======
     "data": {
      "text/html": [
       "<div>                            <div id=\"0841c83c-3e5f-48e5-bf2d-a2aa8db9f99c\" class=\"plotly-graph-div\" style=\"height:525px; width:100%;\"></div>            <script type=\"text/javascript\">                require([\"plotly\"], function(Plotly) {                    window.PLOTLYENV=window.PLOTLYENV || {};                                    if (document.getElementById(\"0841c83c-3e5f-48e5-bf2d-a2aa8db9f99c\")) {                    Plotly.newPlot(                        \"0841c83c-3e5f-48e5-bf2d-a2aa8db9f99c\",                        [{\"hovertemplate\":\"Name=%{text}<br>Stage=%{x}<br>Count=%{y}<extra></extra>\",\"legendgroup\":\"AutoLoans\",\"marker\":{\"color\":\"#1F77B4\"},\"name\":\"AutoLoans\",\"orientation\":\"v\",\"showlegend\":true,\"text\":[\"AutoLoans\",\"AutoLoans\",\"AutoLoans\",\"AutoLoans\"],\"x\":[\"Eligibility\",\"Applicability\",\"Suitability\",\"Arbitration\"],\"xaxis\":\"x\",\"y\":[2034,2240,2300,2365],\"yaxis\":\"y\",\"type\":\"funnel\"},{\"hovertemplate\":\"Name=%{text}<br>Stage=%{x}<br>Count=%{y}<extra></extra>\",\"legendgroup\":\"Bundles\",\"marker\":{\"color\":\"#FF7F0E\"},\"name\":\"Bundles\",\"orientation\":\"v\",\"showlegend\":true,\"text\":[\"Bundles\",\"Bundles\",\"Bundles\",\"Bundles\"],\"x\":[\"Eligibility\",\"Applicability\",\"Suitability\",\"Arbitration\"],\"xaxis\":\"x\",\"y\":[286,328,350,377],\"yaxis\":\"y\",\"type\":\"funnel\"},{\"hovertemplate\":\"Name=%{text}<br>Stage=%{x}<br>Count=%{y}<extra></extra>\",\"legendgroup\":\"CreditCards\",\"marker\":{\"color\":\"#2CA02C\"},\"name\":\"CreditCards\",\"orientation\":\"v\",\"showlegend\":true,\"text\":[\"CreditCards\",\"CreditCards\",\"CreditCards\",\"CreditCards\"],\"x\":[\"Arbitration\",\"Applicability\",\"Eligibility\",\"Suitability\"],\"xaxis\":\"x\",\"y\":[125,284,585,213],\"yaxis\":\"y\",\"type\":\"funnel\"},{\"hovertemplate\":\"Name=%{text}<br>Stage=%{x}<br>Count=%{y}<extra></extra>\",\"legendgroup\":\"DepositAccounts\",\"marker\":{\"color\":\"#D62728\"},\"name\":\"DepositAccounts\",\"orientation\":\"v\",\"showlegend\":true,\"text\":[\"DepositAccounts\",\"DepositAccounts\",\"DepositAccounts\",\"DepositAccounts\"],\"x\":[\"Applicability\",\"Suitability\",\"Arbitration\",\"Eligibility\"],\"xaxis\":\"x\",\"y\":[1205,1229,1219,1148],\"yaxis\":\"y\",\"type\":\"funnel\"},{\"hovertemplate\":\"Name=%{text}<br>Stage=%{x}<br>Count=%{y}<extra></extra>\",\"legendgroup\":\"HomeLoans\",\"marker\":{\"color\":\"#9467BD\"},\"name\":\"HomeLoans\",\"orientation\":\"v\",\"showlegend\":true,\"text\":[\"HomeLoans\",\"HomeLoans\",\"HomeLoans\",\"HomeLoans\"],\"x\":[\"Eligibility\",\"Applicability\",\"Suitability\",\"Arbitration\"],\"xaxis\":\"x\",\"y\":[461,582,636,843],\"yaxis\":\"y\",\"type\":\"funnel\"}],                        {\"template\":{\"data\":{\"scatter\":[{\"type\":\"scatter\"}]}},\"xaxis\":{\"anchor\":\"y\",\"domain\":[0.0,1.0],\"title\":{\"text\":\"Stage\"},\"categoryorder\":\"array\",\"categoryarray\":[\"Eligibility\",\"Applicability\",\"Suitability\",\"Arbitration\"]},\"yaxis\":{\"anchor\":\"x\",\"domain\":[0.0,1.0],\"title\":{\"text\":\"Count\"}},\"legend\":{\"title\":{\"text\":\"Groups\"},\"tracegroupgap\":0},\"title\":{\"text\":\"Distribution of groups over the stages\"}},                        {\"responsive\": true}                    ).then(function(){\n",
       "                            \n",
       "var gd = document.getElementById('0841c83c-3e5f-48e5-bf2d-a2aa8db9f99c');\n",
       "var x = new MutationObserver(function (mutations, observer) {{\n",
       "        var display = window.getComputedStyle(gd).display;\n",
       "        if (!display || display === 'none') {{\n",
       "            console.log([gd, 'removed!']);\n",
       "            Plotly.purge(gd);\n",
       "            observer.disconnect();\n",
       "        }}\n",
       "}});\n",
       "\n",
       "// Listen for the removal of the full notebook cells\n",
       "var notebookContainer = gd.closest('#notebook-container');\n",
       "if (notebookContainer) {{\n",
       "    x.observe(notebookContainer, {childList: true});\n",
       "}}\n",
       "\n",
       "// Listen for the clearing of the current output cell\n",
       "var outputEl = gd.closest('.output');\n",
       "if (outputEl) {{\n",
       "    x.observe(outputEl, {childList: true});\n",
       "}}\n",
       "\n",
       "                        })                };                });            </script>        </div>"
      ]
     },
     "metadata": {},
     "output_type": "display_data"
>>>>>>> master
    }
   ],
   "source": [
    "vf.plotFunnelChart('Group', query=pl.col('pyIssue')=='Sales')"
   ]
  }
 ],
 "metadata": {
  "interpreter": {
   "hash": "7e1998ff7f8aa20ada591c520b972326324e5ea05489af9e422744c7c09f6dad"
  },
  "kernelspec": {
   "display_name": "Python 3.10.2 64-bit",
   "language": "python",
   "name": "python3"
  },
  "language_info": {
   "codemirror_mode": {
    "name": "ipython",
    "version": 3
   },
   "file_extension": ".py",
   "mimetype": "text/x-python",
   "name": "python",
   "nbconvert_exporter": "python",
   "pygments_lexer": "ipython3",
   "version": "3.11.0"
<<<<<<< HEAD
=======
  },
  "widgets": {
   "application/vnd.jupyter.widget-state+json": {
    "state": {
     "0007c9a8f74a488c994e3ebcea47ffb4": {
      "model_module": "@jupyter-widgets/base",
      "model_module_version": "2.0.0",
      "model_name": "LayoutModel",
      "state": {
       "_model_module": "@jupyter-widgets/base",
       "_model_module_version": "2.0.0",
       "_model_name": "LayoutModel",
       "_view_count": null,
       "_view_module": "@jupyter-widgets/base",
       "_view_module_version": "2.0.0",
       "_view_name": "LayoutView",
       "align_content": null,
       "align_items": null,
       "align_self": null,
       "border_bottom": null,
       "border_left": null,
       "border_right": null,
       "border_top": null,
       "bottom": null,
       "display": null,
       "flex": null,
       "flex_flow": null,
       "grid_area": null,
       "grid_auto_columns": null,
       "grid_auto_flow": null,
       "grid_auto_rows": null,
       "grid_column": null,
       "grid_gap": null,
       "grid_row": null,
       "grid_template_areas": null,
       "grid_template_columns": null,
       "grid_template_rows": null,
       "height": null,
       "justify_content": null,
       "justify_items": null,
       "left": null,
       "margin": null,
       "max_height": null,
       "max_width": null,
       "min_height": null,
       "min_width": null,
       "object_fit": null,
       "object_position": null,
       "order": null,
       "overflow": null,
       "padding": null,
       "right": null,
       "top": null,
       "visibility": null,
       "width": null
      }
     },
     "06fe501f2e4b4db4901934c42ba6f219": {
      "model_module": "@jupyter-widgets/base",
      "model_module_version": "2.0.0",
      "model_name": "LayoutModel",
      "state": {
       "_model_module": "@jupyter-widgets/base",
       "_model_module_version": "2.0.0",
       "_model_name": "LayoutModel",
       "_view_count": null,
       "_view_module": "@jupyter-widgets/base",
       "_view_module_version": "2.0.0",
       "_view_name": "LayoutView",
       "align_content": null,
       "align_items": null,
       "align_self": null,
       "border_bottom": null,
       "border_left": null,
       "border_right": null,
       "border_top": null,
       "bottom": null,
       "display": null,
       "flex": null,
       "flex_flow": null,
       "grid_area": null,
       "grid_auto_columns": null,
       "grid_auto_flow": null,
       "grid_auto_rows": null,
       "grid_column": null,
       "grid_gap": null,
       "grid_row": null,
       "grid_template_areas": null,
       "grid_template_columns": null,
       "grid_template_rows": null,
       "height": null,
       "justify_content": null,
       "justify_items": null,
       "left": null,
       "margin": null,
       "max_height": null,
       "max_width": null,
       "min_height": null,
       "min_width": null,
       "object_fit": null,
       "object_position": null,
       "order": null,
       "overflow": null,
       "padding": null,
       "right": null,
       "top": null,
       "visibility": null,
       "width": null
      }
     },
     "082f83e8c4654f65bb75a5c2b7a7d963": {
      "model_module": "@jupyter-widgets/controls",
      "model_module_version": "2.0.0",
      "model_name": "HTMLModel",
      "state": {
       "_dom_classes": [],
       "_model_module": "@jupyter-widgets/controls",
       "_model_module_version": "2.0.0",
       "_model_name": "HTMLModel",
       "_view_count": null,
       "_view_module": "@jupyter-widgets/controls",
       "_view_module_version": "2.0.0",
       "_view_name": "HTMLView",
       "description": "",
       "description_allow_html": false,
       "layout": "IPY_MODEL_b60aa73493a4473da864bd9beb622c3a",
       "placeholder": "​",
       "style": "IPY_MODEL_53a4e7f83a0a48afa2d22b023a6d5602",
       "tabbable": null,
       "tooltip": null,
       "value": " 10/10 [00:00&lt;00:00, 1467.36it/s]"
      }
     },
     "1566ff76040943c8ab645acb13db8a3b": {
      "model_module": "@jupyter-widgets/base",
      "model_module_version": "2.0.0",
      "model_name": "LayoutModel",
      "state": {
       "_model_module": "@jupyter-widgets/base",
       "_model_module_version": "2.0.0",
       "_model_name": "LayoutModel",
       "_view_count": null,
       "_view_module": "@jupyter-widgets/base",
       "_view_module_version": "2.0.0",
       "_view_name": "LayoutView",
       "align_content": null,
       "align_items": null,
       "align_self": null,
       "border_bottom": null,
       "border_left": null,
       "border_right": null,
       "border_top": null,
       "bottom": null,
       "display": null,
       "flex": null,
       "flex_flow": null,
       "grid_area": null,
       "grid_auto_columns": null,
       "grid_auto_flow": null,
       "grid_auto_rows": null,
       "grid_column": null,
       "grid_gap": null,
       "grid_row": null,
       "grid_template_areas": null,
       "grid_template_columns": null,
       "grid_template_rows": null,
       "height": null,
       "justify_content": null,
       "justify_items": null,
       "left": null,
       "margin": null,
       "max_height": null,
       "max_width": null,
       "min_height": null,
       "min_width": null,
       "object_fit": null,
       "object_position": null,
       "order": null,
       "overflow": null,
       "padding": null,
       "right": null,
       "top": null,
       "visibility": null,
       "width": null
      }
     },
     "182de14a855b46bd8dd8616a58378eac": {
      "model_module": "@jupyter-widgets/controls",
      "model_module_version": "2.0.0",
      "model_name": "ProgressStyleModel",
      "state": {
       "_model_module": "@jupyter-widgets/controls",
       "_model_module_version": "2.0.0",
       "_model_name": "ProgressStyleModel",
       "_view_count": null,
       "_view_module": "@jupyter-widgets/base",
       "_view_module_version": "2.0.0",
       "_view_name": "StyleView",
       "bar_color": null,
       "description_width": ""
      }
     },
     "4f26d6af4e06412d89a704d118781771": {
      "model_module": "@jupyter-widgets/controls",
      "model_module_version": "2.0.0",
      "model_name": "HTMLModel",
      "state": {
       "_dom_classes": [],
       "_model_module": "@jupyter-widgets/controls",
       "_model_module_version": "2.0.0",
       "_model_name": "HTMLModel",
       "_view_count": null,
       "_view_module": "@jupyter-widgets/controls",
       "_view_module_version": "2.0.0",
       "_view_name": "HTMLView",
       "description": "",
       "description_allow_html": false,
       "layout": "IPY_MODEL_1566ff76040943c8ab645acb13db8a3b",
       "placeholder": "​",
       "style": "IPY_MODEL_a6a03dc9dc504cdf91506d0499fb8e22",
       "tabbable": null,
       "tooltip": null,
       "value": "100%"
      }
     },
     "53a4e7f83a0a48afa2d22b023a6d5602": {
      "model_module": "@jupyter-widgets/controls",
      "model_module_version": "2.0.0",
      "model_name": "HTMLStyleModel",
      "state": {
       "_model_module": "@jupyter-widgets/controls",
       "_model_module_version": "2.0.0",
       "_model_name": "HTMLStyleModel",
       "_view_count": null,
       "_view_module": "@jupyter-widgets/base",
       "_view_module_version": "2.0.0",
       "_view_name": "StyleView",
       "background": null,
       "description_width": "",
       "font_size": null,
       "text_color": null
      }
     },
     "5e2c57adc9224c678b224cbf28a47f6a": {
      "model_module": "@jupyter-widgets/controls",
      "model_module_version": "2.0.0",
      "model_name": "FloatProgressModel",
      "state": {
       "_dom_classes": [],
       "_model_module": "@jupyter-widgets/controls",
       "_model_module_version": "2.0.0",
       "_model_name": "FloatProgressModel",
       "_view_count": null,
       "_view_module": "@jupyter-widgets/controls",
       "_view_module_version": "2.0.0",
       "_view_name": "ProgressView",
       "bar_style": "success",
       "description": "",
       "description_allow_html": false,
       "layout": "IPY_MODEL_e47b59b29f3640a8ace5b6c9fe12f048",
       "max": 10.0,
       "min": 0.0,
       "orientation": "horizontal",
       "style": "IPY_MODEL_fd9613d62cc64b8d9190cc7d322d3c2b",
       "tabbable": null,
       "tooltip": null,
       "value": 10.0
      }
     },
     "a5ed24c6b783478297d85e46bb2dd178": {
      "model_module": "@jupyter-widgets/base",
      "model_module_version": "2.0.0",
      "model_name": "LayoutModel",
      "state": {
       "_model_module": "@jupyter-widgets/base",
       "_model_module_version": "2.0.0",
       "_model_name": "LayoutModel",
       "_view_count": null,
       "_view_module": "@jupyter-widgets/base",
       "_view_module_version": "2.0.0",
       "_view_name": "LayoutView",
       "align_content": null,
       "align_items": null,
       "align_self": null,
       "border_bottom": null,
       "border_left": null,
       "border_right": null,
       "border_top": null,
       "bottom": null,
       "display": null,
       "flex": null,
       "flex_flow": null,
       "grid_area": null,
       "grid_auto_columns": null,
       "grid_auto_flow": null,
       "grid_auto_rows": null,
       "grid_column": null,
       "grid_gap": null,
       "grid_row": null,
       "grid_template_areas": null,
       "grid_template_columns": null,
       "grid_template_rows": null,
       "height": null,
       "justify_content": null,
       "justify_items": null,
       "left": null,
       "margin": null,
       "max_height": null,
       "max_width": null,
       "min_height": null,
       "min_width": null,
       "object_fit": null,
       "object_position": null,
       "order": null,
       "overflow": null,
       "padding": null,
       "right": null,
       "top": null,
       "visibility": null,
       "width": null
      }
     },
     "a684329045dd4c8380188ad1d5957d1e": {
      "model_module": "@jupyter-widgets/controls",
      "model_module_version": "2.0.0",
      "model_name": "FloatProgressModel",
      "state": {
       "_dom_classes": [],
       "_model_module": "@jupyter-widgets/controls",
       "_model_module_version": "2.0.0",
       "_model_name": "FloatProgressModel",
       "_view_count": null,
       "_view_module": "@jupyter-widgets/controls",
       "_view_module_version": "2.0.0",
       "_view_name": "ProgressView",
       "bar_style": "success",
       "description": "",
       "description_allow_html": false,
       "layout": "IPY_MODEL_deb51eef0a5e42379462288440be81e7",
       "max": 10.0,
       "min": 0.0,
       "orientation": "horizontal",
       "style": "IPY_MODEL_182de14a855b46bd8dd8616a58378eac",
       "tabbable": null,
       "tooltip": null,
       "value": 10.0
      }
     },
     "a6a03dc9dc504cdf91506d0499fb8e22": {
      "model_module": "@jupyter-widgets/controls",
      "model_module_version": "2.0.0",
      "model_name": "HTMLStyleModel",
      "state": {
       "_model_module": "@jupyter-widgets/controls",
       "_model_module_version": "2.0.0",
       "_model_name": "HTMLStyleModel",
       "_view_count": null,
       "_view_module": "@jupyter-widgets/base",
       "_view_module_version": "2.0.0",
       "_view_name": "StyleView",
       "background": null,
       "description_width": "",
       "font_size": null,
       "text_color": null
      }
     },
     "b0ca2ba3fbd64622b021075334090c1a": {
      "model_module": "@jupyter-widgets/base",
      "model_module_version": "2.0.0",
      "model_name": "LayoutModel",
      "state": {
       "_model_module": "@jupyter-widgets/base",
       "_model_module_version": "2.0.0",
       "_model_name": "LayoutModel",
       "_view_count": null,
       "_view_module": "@jupyter-widgets/base",
       "_view_module_version": "2.0.0",
       "_view_name": "LayoutView",
       "align_content": null,
       "align_items": null,
       "align_self": null,
       "border_bottom": null,
       "border_left": null,
       "border_right": null,
       "border_top": null,
       "bottom": null,
       "display": null,
       "flex": null,
       "flex_flow": null,
       "grid_area": null,
       "grid_auto_columns": null,
       "grid_auto_flow": null,
       "grid_auto_rows": null,
       "grid_column": null,
       "grid_gap": null,
       "grid_row": null,
       "grid_template_areas": null,
       "grid_template_columns": null,
       "grid_template_rows": null,
       "height": null,
       "justify_content": null,
       "justify_items": null,
       "left": null,
       "margin": null,
       "max_height": null,
       "max_width": null,
       "min_height": null,
       "min_width": null,
       "object_fit": null,
       "object_position": null,
       "order": null,
       "overflow": null,
       "padding": null,
       "right": null,
       "top": null,
       "visibility": null,
       "width": null
      }
     },
     "b60aa73493a4473da864bd9beb622c3a": {
      "model_module": "@jupyter-widgets/base",
      "model_module_version": "2.0.0",
      "model_name": "LayoutModel",
      "state": {
       "_model_module": "@jupyter-widgets/base",
       "_model_module_version": "2.0.0",
       "_model_name": "LayoutModel",
       "_view_count": null,
       "_view_module": "@jupyter-widgets/base",
       "_view_module_version": "2.0.0",
       "_view_name": "LayoutView",
       "align_content": null,
       "align_items": null,
       "align_self": null,
       "border_bottom": null,
       "border_left": null,
       "border_right": null,
       "border_top": null,
       "bottom": null,
       "display": null,
       "flex": null,
       "flex_flow": null,
       "grid_area": null,
       "grid_auto_columns": null,
       "grid_auto_flow": null,
       "grid_auto_rows": null,
       "grid_column": null,
       "grid_gap": null,
       "grid_row": null,
       "grid_template_areas": null,
       "grid_template_columns": null,
       "grid_template_rows": null,
       "height": null,
       "justify_content": null,
       "justify_items": null,
       "left": null,
       "margin": null,
       "max_height": null,
       "max_width": null,
       "min_height": null,
       "min_width": null,
       "object_fit": null,
       "object_position": null,
       "order": null,
       "overflow": null,
       "padding": null,
       "right": null,
       "top": null,
       "visibility": null,
       "width": null
      }
     },
     "b85e58a2cb3140a68626adb7049e1c5a": {
      "model_module": "@jupyter-widgets/controls",
      "model_module_version": "2.0.0",
      "model_name": "HTMLStyleModel",
      "state": {
       "_model_module": "@jupyter-widgets/controls",
       "_model_module_version": "2.0.0",
       "_model_name": "HTMLStyleModel",
       "_view_count": null,
       "_view_module": "@jupyter-widgets/base",
       "_view_module_version": "2.0.0",
       "_view_name": "StyleView",
       "background": null,
       "description_width": "",
       "font_size": null,
       "text_color": null
      }
     },
     "cd63f8e243944534bcd064335f39d73f": {
      "model_module": "@jupyter-widgets/controls",
      "model_module_version": "2.0.0",
      "model_name": "HTMLModel",
      "state": {
       "_dom_classes": [],
       "_model_module": "@jupyter-widgets/controls",
       "_model_module_version": "2.0.0",
       "_model_name": "HTMLModel",
       "_view_count": null,
       "_view_module": "@jupyter-widgets/controls",
       "_view_module_version": "2.0.0",
       "_view_name": "HTMLView",
       "description": "",
       "description_allow_html": false,
       "layout": "IPY_MODEL_b0ca2ba3fbd64622b021075334090c1a",
       "placeholder": "​",
       "style": "IPY_MODEL_b85e58a2cb3140a68626adb7049e1c5a",
       "tabbable": null,
       "tooltip": null,
       "value": "100%"
      }
     },
     "ce690226cd2946a0aeeb2e10a30b94a1": {
      "model_module": "@jupyter-widgets/controls",
      "model_module_version": "2.0.0",
      "model_name": "HBoxModel",
      "state": {
       "_dom_classes": [],
       "_model_module": "@jupyter-widgets/controls",
       "_model_module_version": "2.0.0",
       "_model_name": "HBoxModel",
       "_view_count": null,
       "_view_module": "@jupyter-widgets/controls",
       "_view_module_version": "2.0.0",
       "_view_name": "HBoxView",
       "box_style": "",
       "children": [
        "IPY_MODEL_cd63f8e243944534bcd064335f39d73f",
        "IPY_MODEL_5e2c57adc9224c678b224cbf28a47f6a",
        "IPY_MODEL_082f83e8c4654f65bb75a5c2b7a7d963"
       ],
       "layout": "IPY_MODEL_a5ed24c6b783478297d85e46bb2dd178",
       "tabbable": null,
       "tooltip": null
      }
     },
     "d410675de42046a1a353b46de4183831": {
      "model_module": "@jupyter-widgets/controls",
      "model_module_version": "2.0.0",
      "model_name": "HTMLModel",
      "state": {
       "_dom_classes": [],
       "_model_module": "@jupyter-widgets/controls",
       "_model_module_version": "2.0.0",
       "_model_name": "HTMLModel",
       "_view_count": null,
       "_view_module": "@jupyter-widgets/controls",
       "_view_module_version": "2.0.0",
       "_view_name": "HTMLView",
       "description": "",
       "description_allow_html": false,
       "layout": "IPY_MODEL_06fe501f2e4b4db4901934c42ba6f219",
       "placeholder": "​",
       "style": "IPY_MODEL_da75bcf7674d4281a31b41a9d03f8b65",
       "tabbable": null,
       "tooltip": null,
       "value": " 10/10 [00:00&lt;00:00, 1270.15it/s]"
      }
     },
     "da75bcf7674d4281a31b41a9d03f8b65": {
      "model_module": "@jupyter-widgets/controls",
      "model_module_version": "2.0.0",
      "model_name": "HTMLStyleModel",
      "state": {
       "_model_module": "@jupyter-widgets/controls",
       "_model_module_version": "2.0.0",
       "_model_name": "HTMLStyleModel",
       "_view_count": null,
       "_view_module": "@jupyter-widgets/base",
       "_view_module_version": "2.0.0",
       "_view_name": "StyleView",
       "background": null,
       "description_width": "",
       "font_size": null,
       "text_color": null
      }
     },
     "deb51eef0a5e42379462288440be81e7": {
      "model_module": "@jupyter-widgets/base",
      "model_module_version": "2.0.0",
      "model_name": "LayoutModel",
      "state": {
       "_model_module": "@jupyter-widgets/base",
       "_model_module_version": "2.0.0",
       "_model_name": "LayoutModel",
       "_view_count": null,
       "_view_module": "@jupyter-widgets/base",
       "_view_module_version": "2.0.0",
       "_view_name": "LayoutView",
       "align_content": null,
       "align_items": null,
       "align_self": null,
       "border_bottom": null,
       "border_left": null,
       "border_right": null,
       "border_top": null,
       "bottom": null,
       "display": null,
       "flex": null,
       "flex_flow": null,
       "grid_area": null,
       "grid_auto_columns": null,
       "grid_auto_flow": null,
       "grid_auto_rows": null,
       "grid_column": null,
       "grid_gap": null,
       "grid_row": null,
       "grid_template_areas": null,
       "grid_template_columns": null,
       "grid_template_rows": null,
       "height": null,
       "justify_content": null,
       "justify_items": null,
       "left": null,
       "margin": null,
       "max_height": null,
       "max_width": null,
       "min_height": null,
       "min_width": null,
       "object_fit": null,
       "object_position": null,
       "order": null,
       "overflow": null,
       "padding": null,
       "right": null,
       "top": null,
       "visibility": null,
       "width": null
      }
     },
     "e47b59b29f3640a8ace5b6c9fe12f048": {
      "model_module": "@jupyter-widgets/base",
      "model_module_version": "2.0.0",
      "model_name": "LayoutModel",
      "state": {
       "_model_module": "@jupyter-widgets/base",
       "_model_module_version": "2.0.0",
       "_model_name": "LayoutModel",
       "_view_count": null,
       "_view_module": "@jupyter-widgets/base",
       "_view_module_version": "2.0.0",
       "_view_name": "LayoutView",
       "align_content": null,
       "align_items": null,
       "align_self": null,
       "border_bottom": null,
       "border_left": null,
       "border_right": null,
       "border_top": null,
       "bottom": null,
       "display": null,
       "flex": null,
       "flex_flow": null,
       "grid_area": null,
       "grid_auto_columns": null,
       "grid_auto_flow": null,
       "grid_auto_rows": null,
       "grid_column": null,
       "grid_gap": null,
       "grid_row": null,
       "grid_template_areas": null,
       "grid_template_columns": null,
       "grid_template_rows": null,
       "height": null,
       "justify_content": null,
       "justify_items": null,
       "left": null,
       "margin": null,
       "max_height": null,
       "max_width": null,
       "min_height": null,
       "min_width": null,
       "object_fit": null,
       "object_position": null,
       "order": null,
       "overflow": null,
       "padding": null,
       "right": null,
       "top": null,
       "visibility": null,
       "width": null
      }
     },
     "e8bbac32a987493baed575d20d9a0fef": {
      "model_module": "@jupyter-widgets/controls",
      "model_module_version": "2.0.0",
      "model_name": "HBoxModel",
      "state": {
       "_dom_classes": [],
       "_model_module": "@jupyter-widgets/controls",
       "_model_module_version": "2.0.0",
       "_model_name": "HBoxModel",
       "_view_count": null,
       "_view_module": "@jupyter-widgets/controls",
       "_view_module_version": "2.0.0",
       "_view_name": "HBoxView",
       "box_style": "",
       "children": [
        "IPY_MODEL_4f26d6af4e06412d89a704d118781771",
        "IPY_MODEL_a684329045dd4c8380188ad1d5957d1e",
        "IPY_MODEL_d410675de42046a1a353b46de4183831"
       ],
       "layout": "IPY_MODEL_0007c9a8f74a488c994e3ebcea47ffb4",
       "tabbable": null,
       "tooltip": null
      }
     },
     "fd9613d62cc64b8d9190cc7d322d3c2b": {
      "model_module": "@jupyter-widgets/controls",
      "model_module_version": "2.0.0",
      "model_name": "ProgressStyleModel",
      "state": {
       "_model_module": "@jupyter-widgets/controls",
       "_model_module_version": "2.0.0",
       "_model_name": "ProgressStyleModel",
       "_view_count": null,
       "_view_module": "@jupyter-widgets/base",
       "_view_module_version": "2.0.0",
       "_view_name": "StyleView",
       "bar_color": null,
       "description_width": ""
      }
     }
    },
    "version_major": 2,
    "version_minor": 0
   }
>>>>>>> master
  }
 },
 "nbformat": 4,
 "nbformat_minor": 2
}
