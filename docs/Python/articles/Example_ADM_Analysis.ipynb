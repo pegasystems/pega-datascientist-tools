{
 "cells": [
  {
   "cell_type": "markdown",
   "metadata": {
    "nbsphinx": "hidden"
   },
   "source": [
    "## Link to article\n",
    "\n",
    "This notebook is included in the documentation, where the interactive Plotly charts show up. See:\n",
    "https://pegasystems.github.io/pega-datascientist-tools/Python/articles/Example_ADM_Analysis.html"
   ]
  },
  {
   "cell_type": "markdown",
   "metadata": {},
   "source": [
    "# Example ADM analysis\n",
    "See this notebook for an introduction to the ADMDatamart class to get an overview of the currently implemented features in the Python version of CDH Tools. If you have any suggestions for new features, please do not hesitate to raise an issue in Git, or even better: create a pull request yourself!\n",
    "\n",
    "This notebook builds upon the [Getting Started guide](https://github.com/pegasystems/pega-datascientist-tools/wiki#using-the-python-tools). "
   ]
  },
  {
   "cell_type": "markdown",
   "metadata": {},
   "source": [
    "## Reading the data\n",
    "Reading the data is quite simple. All you need to do is to give a directory location to the ADMSnapshot class and it will automatically detect the latest files and import them. There is also a default function to import the CDH Sample data directly from the internet, as you can see below:"
   ]
  },
  {
   "cell_type": "code",
   "execution_count": 1,
   "metadata": {
    "execution": {
     "iopub.execute_input": "2023-03-02T17:07:13.846643Z",
     "iopub.status.busy": "2023-03-02T17:07:13.846418Z",
     "iopub.status.idle": "2023-03-02T17:07:14.195002Z",
     "shell.execute_reply": "2023-03-02T17:07:14.194335Z"
    },
    "nbsphinx": "hidden"
   },
   "outputs": [],
   "source": [
    "# These lines are only for rendering in the docs, and are hidden through Jupyter tags\n",
    "# Do not run if you're running the notebook seperately\n",
    "\n",
    "import plotly.io as pio\n",
    "pio.renderers.default='notebook_connected'\n",
    "\n",
    "import sys\n",
    "sys.path.append('../../../')"
   ]
  },
  {
   "cell_type": "code",
   "execution_count": 2,
   "metadata": {
    "execution": {
     "iopub.execute_input": "2023-03-02T17:07:14.198222Z",
     "iopub.status.busy": "2023-03-02T17:07:14.197946Z",
     "iopub.status.idle": "2023-03-02T17:07:17.154401Z",
     "shell.execute_reply": "2023-03-02T17:07:17.152179Z"
    }
   },
   "outputs": [],
   "source": [
    "from pdstools import ADMDatamart, datasets\n",
    "\n",
    "CDHSample = datasets.CDHSample()"
   ]
  },
  {
   "cell_type": "markdown",
   "metadata": {},
   "source": [
    "## Visualisations\n",
    "The following visualisations are currently available in the python version of CDH Tools. See the table below for which visualisations are applicable to what types of data:"
   ]
  },
  {
   "cell_type": "code",
   "execution_count": 3,
   "metadata": {
    "execution": {
     "iopub.execute_input": "2023-03-02T17:07:17.159704Z",
     "iopub.status.busy": "2023-03-02T17:07:17.159266Z",
     "iopub.status.idle": "2023-03-02T17:07:17.175596Z",
     "shell.execute_reply": "2023-03-02T17:07:17.170234Z"
    }
   },
   "outputs": [
    {
     "data": {
      "text/html": [
       "<div>\n",
       "<style>\n",
       ".pl-dataframe > thead > tr > th {\n",
       "  text-align: right;\n",
       "}\n",
       "</style>\n",
       "\n",
       "<table border=\"1\" class=\"dataframe pl-dataframe\">\n",
       "<small>shape: (13, 4)</small>\n",
       "<thead>\n",
       "<tr>\n",
       "<th>\n",
       "Type\n",
       "</th>\n",
       "<th>\n",
       "modelData\n",
       "</th>\n",
       "<th>\n",
       "predictorData\n",
       "</th>\n",
       "<th>\n",
       "Multiple snapshots\n",
       "</th>\n",
       "</tr>\n",
       "<tr>\n",
       "<td>\n",
       "str\n",
       "</td>\n",
       "<td>\n",
       "i64\n",
       "</td>\n",
       "<td>\n",
       "i64\n",
       "</td>\n",
       "<td>\n",
       "i64\n",
       "</td>\n",
       "</tr>\n",
       "</thead>\n",
       "<tbody>\n",
       "<tr>\n",
       "<td>\n",
       "&quot;plotPerformanc...\n",
       "</td>\n",
       "<td>\n",
       "1\n",
       "</td>\n",
       "<td>\n",
       "0\n",
       "</td>\n",
       "<td>\n",
       "0\n",
       "</td>\n",
       "</tr>\n",
       "<tr>\n",
       "<td>\n",
       "&quot;plotPerformanc...\n",
       "</td>\n",
       "<td>\n",
       "1\n",
       "</td>\n",
       "<td>\n",
       "0\n",
       "</td>\n",
       "<td>\n",
       "1\n",
       "</td>\n",
       "</tr>\n",
       "<tr>\n",
       "<td>\n",
       "&quot;plotOverTime&quot;\n",
       "</td>\n",
       "<td>\n",
       "1\n",
       "</td>\n",
       "<td>\n",
       "0\n",
       "</td>\n",
       "<td>\n",
       "1\n",
       "</td>\n",
       "</tr>\n",
       "<tr>\n",
       "<td>\n",
       "&quot;plotResponseCo...\n",
       "</td>\n",
       "<td>\n",
       "1\n",
       "</td>\n",
       "<td>\n",
       "0\n",
       "</td>\n",
       "<td>\n",
       "1\n",
       "</td>\n",
       "</tr>\n",
       "<tr>\n",
       "<td>\n",
       "&quot;plotPropositio...\n",
       "</td>\n",
       "<td>\n",
       "1\n",
       "</td>\n",
       "<td>\n",
       "0\n",
       "</td>\n",
       "<td>\n",
       "0\n",
       "</td>\n",
       "</tr>\n",
       "<tr>\n",
       "<td>\n",
       "&quot;plotScoreDistr...\n",
       "</td>\n",
       "<td>\n",
       "1\n",
       "</td>\n",
       "<td>\n",
       "1\n",
       "</td>\n",
       "<td>\n",
       "0\n",
       "</td>\n",
       "</tr>\n",
       "<tr>\n",
       "<td>\n",
       "&quot;plotPredictorB...\n",
       "</td>\n",
       "<td>\n",
       "1\n",
       "</td>\n",
       "<td>\n",
       "1\n",
       "</td>\n",
       "<td>\n",
       "0\n",
       "</td>\n",
       "</tr>\n",
       "<tr>\n",
       "<td>\n",
       "&quot;plotPredictorP...\n",
       "</td>\n",
       "<td>\n",
       "1\n",
       "</td>\n",
       "<td>\n",
       "1\n",
       "</td>\n",
       "<td>\n",
       "0\n",
       "</td>\n",
       "</tr>\n",
       "<tr>\n",
       "<td>\n",
       "&quot;plotPredictorP...\n",
       "</td>\n",
       "<td>\n",
       "1\n",
       "</td>\n",
       "<td>\n",
       "1\n",
       "</td>\n",
       "<td>\n",
       "0\n",
       "</td>\n",
       "</tr>\n",
       "<tr>\n",
       "<td>\n",
       "&quot;plotImpactInfl...\n",
       "</td>\n",
       "<td>\n",
       "1\n",
       "</td>\n",
       "<td>\n",
       "1\n",
       "</td>\n",
       "<td>\n",
       "0\n",
       "</td>\n",
       "</tr>\n",
       "<tr>\n",
       "<td>\n",
       "&quot;plotResponseGa...\n",
       "</td>\n",
       "<td>\n",
       "1\n",
       "</td>\n",
       "<td>\n",
       "0\n",
       "</td>\n",
       "<td>\n",
       "0\n",
       "</td>\n",
       "</tr>\n",
       "<tr>\n",
       "<td>\n",
       "&quot;plotModelsByPo...\n",
       "</td>\n",
       "<td>\n",
       "1\n",
       "</td>\n",
       "<td>\n",
       "0\n",
       "</td>\n",
       "<td>\n",
       "0\n",
       "</td>\n",
       "</tr>\n",
       "<tr>\n",
       "<td>\n",
       "&quot;plotTreeMap&quot;\n",
       "</td>\n",
       "<td>\n",
       "1\n",
       "</td>\n",
       "<td>\n",
       "0\n",
       "</td>\n",
       "<td>\n",
       "0\n",
       "</td>\n",
       "</tr>\n",
       "</tbody>\n",
       "</table>\n",
       "</div>"
      ],
      "text/plain": [
       "shape: (13, 4)\n",
       "┌─────────────────────────────────────┬───────────┬───────────────┬────────────────────┐\n",
       "│ Type                                ┆ modelData ┆ predictorData ┆ Multiple snapshots │\n",
       "│ ---                                 ┆ ---       ┆ ---           ┆ ---                │\n",
       "│ str                                 ┆ i64       ┆ i64           ┆ i64                │\n",
       "╞═════════════════════════════════════╪═══════════╪═══════════════╪════════════════════╡\n",
       "│ plotPerformanceSuccessRateBubble... ┆ 1         ┆ 0             ┆ 0                  │\n",
       "│ plotPerformanceAndSuccessRateOve... ┆ 1         ┆ 0             ┆ 1                  │\n",
       "│ plotOverTime                        ┆ 1         ┆ 0             ┆ 1                  │\n",
       "│ plotResponseCountMatrix             ┆ 1         ┆ 0             ┆ 1                  │\n",
       "│ ...                                 ┆ ...       ┆ ...           ┆ ...                │\n",
       "│ plotImpactInfluence                 ┆ 1         ┆ 1             ┆ 0                  │\n",
       "│ plotResponseGain                    ┆ 1         ┆ 0             ┆ 0                  │\n",
       "│ plotModelsByPositives               ┆ 1         ┆ 0             ┆ 0                  │\n",
       "│ plotTreeMap                         ┆ 1         ┆ 0             ┆ 0                  │\n",
       "└─────────────────────────────────────┴───────────┴───────────────┴────────────────────┘"
      ]
     },
     "execution_count": 3,
     "metadata": {},
     "output_type": "execute_result"
    }
   ],
   "source": [
    "CDHSample.AvailableVisualisations"
   ]
  },
  {
   "cell_type": "markdown",
   "metadata": {},
   "source": [
    "As you can see, every visualisation needs modelData, a few also need predictorData, and plotPerformanceAndSuccessRateOverTime, plotOverTime and plotResponseCountMatrix are the only visualisations requiring multiple snapshots.\n",
    "\n",
    "Let's quickly go over some easy ones to see what it does below. To start out with the bubble chart, which we can simply call by calling plotPerformanceSuccessRateBubbleChart with our main class."
   ]
  },
  {
   "cell_type": "code",
   "execution_count": 4,
   "metadata": {
    "execution": {
     "iopub.execute_input": "2023-03-02T17:07:17.183811Z",
     "iopub.status.busy": "2023-03-02T17:07:17.182606Z",
     "iopub.status.idle": "2023-03-02T17:07:17.672141Z",
     "shell.execute_reply": "2023-03-02T17:07:17.670732Z"
    }
   },
   "outputs": [
    {
     "name": "stdout",
     "output_type": "stream",
     "text": [
      "None\n"
     ]
    },
    {
     "data": {
      "text/html": [
       "        <script type=\"text/javascript\">\n",
       "        window.PlotlyConfig = {MathJaxConfig: 'local'};\n",
       "        if (window.MathJax && window.MathJax.Hub && window.MathJax.Hub.Config) {window.MathJax.Hub.Config({SVG: {font: \"STIX-Web\"}});}\n",
       "        if (typeof require !== 'undefined') {\n",
       "        require.undef(\"plotly\");\n",
       "        requirejs.config({\n",
       "            paths: {\n",
       "                'plotly': ['https://cdn.plot.ly/plotly-2.16.1.min']\n",
       "            }\n",
       "        });\n",
       "        require(['plotly'], function(Plotly) {\n",
       "            window._Plotly = Plotly;\n",
       "        });\n",
       "        }\n",
       "        </script>\n",
       "        "
      ]
     },
     "metadata": {},
     "output_type": "display_data"
    },
    {
     "data": {
      "text/html": [
       "<div>                            <div id=\"13b4f70d-c7f4-4865-9775-668ce88b8cb9\" class=\"plotly-graph-div\" style=\"height:525px; width:100%;\"></div>            <script type=\"text/javascript\">                require([\"plotly\"], function(Plotly) {                    window.PLOTLYENV=window.PLOTLYENV || {};                                    if (document.getElementById(\"13b4f70d-c7f4-4865-9775-668ce88b8cb9\")) {                    Plotly.newPlot(                        \"13b4f70d-c7f4-4865-9775-668ce88b8cb9\",                        [{\"customdata\":[[\"f3afaa9b-d0d5-5be9-a3b9-9fdfc4847411\",\"Email\",\"Outbound\",\"Sales\",\"AutoLoans\"],[\"e4ea7a89-c394-5014-ac26-34b8eee475bd\",\"SMS\",\"Outbound\",\"Sales\",\"CreditCards\"],[\"1289c4af-1d3f-5265-9fe5-173e1ddaadc3\",\"SMS\",\"Outbound\",\"Sales\",\"HomeLoans\"],[\"3c892256-f415-5408-905d-3158345b10bf\",\"Email\",\"Outbound\",\"Sales\",\"Bundles\"],[\"a87d51fb-cfdc-598d-b84a-dcdd64e1e750\",\"Web\",\"Inbound\",\"Sales\",\"HomeLoans\"],[\"cc9b9b1b-c2f9-5e8c-a54a-f13e0559ebd6\",\"Email\",\"Outbound\",\"Sales\",\"CreditCards\"],[\"9e9e8c2e-6d19-538c-8e7b-a73070717ecf\",\"Web\",\"Inbound\",\"Sales\",\"CreditCards\"],[\"ea0a225a-7d09-5d90-88f6-d0e8380d67cc\",\"Web\",\"Inbound\",\"Sales\",\"DepositAccounts\"],[\"b27d8eb5-7ff6-5706-ae90-6d61ce695f78\",\"SMS\",\"Outbound\",\"Sales\",\"Bundles\"],[\"84107ad6-c998-5377-b0d0-e02be2a8d768\",\"Email\",\"Outbound\",\"Sales\",\"AutoLoans\"],[\"5ca51e1e-49f0-58d2-8ab7-4a0ccbb326fd\",\"SMS\",\"Outbound\",\"Sales\",\"DepositAccounts\"],[\"b216413c-8c2e-5e1b-860b-07dfc69efa69\",\"SMS\",\"Outbound\",\"Sales\",\"AutoLoans\"],[\"c8a529fb-9d2c-5069-a50f-42ee1ea9341a\",\"Web\",\"Inbound\",\"Services\",\"Account\"],[\"f9fc995f-3f02-5e9e-8e22-b72909054f3a\",\"SMS\",\"Outbound\",\"Sales\",\"AutoLoans\"],[\"59f06605-5b39-57dd-945b-637a72fa9085\",\"Web\",\"Inbound\",\"Sales\",\"CreditCards\"],[\"7ffc8c26-8473-5c8e-bcc3-48e5b162da7a\",\"SMS\",\"Outbound\",\"Sales\",\"CreditCards\"],[\"692f453a-f825-5a90-ab40-f83cbb34b058\",\"Web\",\"Inbound\",\"Sales\",\"HomeLoans\"],[\"b5338016-1fee-5745-80ee-7bd6d51f2920\",\"Email\",\"Outbound\",\"Sales\",\"CreditCards\"],[\"26dda9e0-34a2-5e0a-8ee2-fd0c39de729e\",\"SMS\",\"Outbound\",\"Sales\",\"CreditCards\"],[\"24f11deb-a6fa-59bf-b5f7-c61abffc9482\",\"Email\",\"Outbound\",\"Sales\",\"AutoLoans\"],[\"cb67c091-5a81-56f4-9845-71afa9c8076e\",\"Email\",\"Outbound\",\"Sales\",\"HomeLoans\"],[\"95ae0f10-297a-5c01-94d8-914bb89df969\",\"Web\",\"Inbound\",\"Sales\",\"DepositAccounts\"],[\"c3f445b2-6037-5560-9f16-71a7259d2c2c\",\"SMS\",\"Outbound\",\"Sales\",\"HomeLoans\"],[\"a8cde9d1-c720-537c-8fb8-8c59506bddfe\",\"Web\",\"Inbound\",\"Sales\",\"CreditCards\"],[\"34f7d1b9-92f7-57dc-ab62-0de35dda0221\",\"SMS\",\"Outbound\",\"Services\",\"Account\"],[\"69a8e56f-6327-5a66-a9a3-9b0c106641ec\",\"SMS\",\"Outbound\",\"Sales\",\"AutoLoans\"],[\"8e40882a-aacf-5f03-9be8-f833c7932da2\",\"Web\",\"Inbound\",\"Sales\",\"Bundles\"],[\"4efdb97d-288d-518f-a3e0-8314bbd7f2a3\",\"SMS\",\"Outbound\",\"Sales\",\"CreditCards\"],[\"470485f7-3b20-58f7-a3aa-1f12c2bb99b7\",\"Email\",\"Outbound\",\"Sales\",\"HomeLoans\"],[\"79e3f70f-dc6a-5bea-8006-02a6e91ad256\",\"Email\",\"Outbound\",\"Sales\",\"DepositAccounts\"],[\"98aeb30c-d896-51bd-b421-a650f0522335\",\"SMS\",\"Outbound\",\"Sales\",\"CreditCards\"],[\"08ca1302-9fc0-57bf-9031-d4179d400493\",\"Web\",\"Inbound\",\"Sales\",\"Bundles\"],[\"68e1d164-81e3-5da0-816c-0bbc3c20ac6c\",\"Web\",\"Inbound\",\"Sales\",\"AutoLoans\"],[\"c4cd4c00-87bf-562e-9ab8-20af64a81757\",\"Email\",\"Outbound\",\"Sales\",\"DepositAccounts\"],[\"c29ffcfa-5210-5998-a826-f3a8db57c610\",\"Web\",\"Inbound\",\"Sales\",\"CreditCards\"],[\"a8cd5e12-5d10-5b62-95f6-c5bb6344a83a\",\"Web\",\"Inbound\",\"Sales\",\"DepositAccounts\"],[\"708be173-0f46-55ee-add6-6fdca447a70a\",\"SMS\",\"Outbound\",\"Sales\",\"HomeLoans\"],[\"cffb1b5d-219e-5137-9036-4e2136be6a8f\",\"Email\",\"Outbound\",\"Sales\",\"DepositAccounts\"],[\"0b363d7f-68f8-5e9e-a843-40ca8849e05b\",\"Email\",\"Outbound\",\"Sales\",\"HomeLoans\"],[\"277a2c48-8888-5b71-911e-443d52c9b50f\",\"SMS\",\"Outbound\",\"Sales\",\"Bundles\"],[\"ab4592bc-df16-5372-86e7-0caea36ac877\",\"Email\",\"Outbound\",\"Sales\",\"CreditCards\"],[\"a75db3a2-fecc-5cc8-b75f-0a44447f9cca\",\"SMS\",\"Outbound\",\"Sales\",\"AutoLoans\"],[\"602303a4-5243-523d-8964-473f3ea1200b\",\"SMS\",\"Outbound\",\"Sales\",\"CreditCards\"],[\"30cc2c18-5852-581a-abaa-555bf46a3b9c\",\"Email\",\"Outbound\",\"Services\",\"Account\"],[\"320c4d01-43a5-510e-8fa8-1fc1bb4216da\",\"Email\",\"Outbound\",\"Sales\",\"Bundles\"],[\"0469930e-8d83-5c81-ba28-a8ec488f8e4d\",\"SMS\",\"Outbound\",\"Sales\",\"DepositAccounts\"],[\"d6e132b6-ad92-5ece-8db5-b42d9d151f73\",\"SMS\",\"Outbound\",\"Sales\",\"Bundles\"],[\"0ad9da35-f171-5ab9-973f-1cc4b89b4e8f\",\"Web\",\"Inbound\",\"Sales\",\"Bundles\"],[\"bd70a915-697a-5d43-ab2c-53b0557c85a0\",\"Email\",\"Outbound\",\"Sales\",\"AutoLoans\"],[\"d5e2f4b1-249a-58c0-8a2f-2d314eada5fe\",\"SMS\",\"Outbound\",\"Sales\",\"AutoLoans\"],[\"708f20ef-7ca1-58f4-9dfa-b7efb5342fcf\",\"Web\",\"Inbound\",\"Sales\",\"HomeLoans\"],[\"5cb8d642-390e-5c3e-8868-d34768f9535c\",\"Web\",\"Inbound\",\"Sales\",\"AutoLoans\"],[\"1be7cd72-741b-5d68-b148-c1af0142fd4a\",\"SMS\",\"Outbound\",\"Sales\",\"CreditCards\"],[\"838ca9ec-74ea-5a54-8c57-f45295116921\",\"SMS\",\"Outbound\",\"Services\",\"Account\"],[\"17571d69-f802-5122-9bfe-6f3f4ef9073b\",\"Web\",\"Inbound\",\"Sales\",\"CreditCards\"],[\"a63f2f06-1e31-5691-a6df-48916a066c23\",\"Email\",\"Outbound\",\"Sales\",\"DepositAccounts\"],[\"dd502275-e98b-51f7-8935-c30c84641871\",\"Web\",\"Inbound\",\"Services\",\"Account\"],[\"f38b5b50-b01b-5fd9-8120-7470320d6664\",\"SMS\",\"Outbound\",\"Sales\",\"DepositAccounts\"],[\"7d2046d5-be79-5f5a-a858-dcd9c65fd086\",\"Web\",\"Inbound\",\"Sales\",\"AutoLoans\"],[\"2c8e753a-9e85-5060-ac5b-073e79e755c0\",\"Email\",\"Outbound\",\"Sales\",\"CreditCards\"],[\"4954d7a5-b75e-5c71-89d6-e8340feb5022\",\"Email\",\"Outbound\",\"Sales\",\"DepositAccounts\"],[\"081d0acf-bfc3-5c0a-abc4-29106252efb8\",\"SMS\",\"Outbound\",\"Sales\",\"CreditCards\"],[\"aaf75ad6-c71a-5fd8-b2eb-782cdbd30337\",\"SMS\",\"Outbound\",\"Services\",\"Account\"],[\"bb02128b-d6df-52f3-9983-316f9fce47c7\",\"Email\",\"Outbound\",\"Sales\",\"CreditCards\"],[\"baae77a0-099a-5104-b7a9-b9b1a23290fc\",\"SMS\",\"Outbound\",\"Services\",\"Customer\"],[\"a7bb008a-0514-5d41-b014-3e0b1b308382\",\"SMS\",\"Outbound\",\"Sales\",\"DepositAccounts\"],[\"85d9dd89-93e5-55a0-b05f-e68bba9c97d1\",\"Email\",\"Outbound\",\"Sales\",\"CreditCards\"],[\"ebb6d905-7c43-5422-a813-f770feba7114\",\"Email\",\"Outbound\",\"Sales\",\"AutoLoans\"]],\"hovertemplate\":\"<b>%{hovertext}</b><br><br>Performance=%{marker.color}<br>SuccessRate=%{y}<br>ResponseCount=%{marker.size}<br>ModelID=%{customdata[0]}<br>Channel=%{customdata[1]}<br>Direction=%{customdata[2]}<br>Issue=%{customdata[3]}<br>Group=%{customdata[4]}<extra></extra>\",\"hovertext\":[\"AutoNew84Months\",\"PaymentProtection\",\"FirstMortgageFHA\",\"StudentChoice\",\"FirstMortgage\",\"IdentityTheftProtection\",\"MasterCardGold\",\"PremierChecking\",\"PremiumBanking\",\"AutoUsed60Months\",\"RegularSaving\",\"AutoUsed36Months\",\"IncreaseYourCreditLine\",\"AutoNew36Months\",\"PlatinumRewardsCard\",\"MasterCardWorld\",\"FirstMortgageFloat\",\"PaymentProtection\",\"ChannelAction_Template\",\"AutoUsed84Months\",\"FirstMortgageFHA\",\"MoneyMarketSavingsAccount\",\"FirstMortgage\",\"UPlusFinGold\",\"Services_ChannelAction_Template\",\"AutoNew48Months\",\"PremiumBanking\",\"MasterCardGold\",\"FirstMortgageFloat\",\"MoneyMarketSavingsAccount\",\"IdentityTheftProtection\",\"HomeOwners\",\"AutoNew84Months\",\"RegularSaving\",\"PaymentProtection\",\"SeniorChecking\",\"FirstMortgageFiveOneARM\",\"PremierChecking\",\"FirstMortgageFiveOneARM\",\"HomeOwners\",\"UPlusFinPersonal\",\"AutoUsed48Months\",\"UPlusFinPersonal\",\"Services_ChannelAction_Template\",\"PremiumBanking\",\"SeniorChecking\",\"SuperSaver\",\"SuperSaver\",\"AutoNew36Months\",\"AutoUsed84Months\",\"FirstMortgageFiveOneARM\",\"AutoUsed36Months\",\"VisaGold\",\"GoPaperless\",\"VisaGold\",\"BasicChecking\",\"Services_ChannelAction_Template\",\"MoneyMarketSavingsAccount\",\"AutoNew36Months\",\"UPlusFinGold\",\"SeniorChecking\",\"UPlusFinGold\",\"IncreaseYourCreditLine\",\"PlatinumRewardsCard\",\"MissingContactInformation\",\"PremierChecking\",\"MasterCardGold\",\"AutoNew48Months\"],\"legendgroup\":\"\",\"marker\":{\"color\":[0.642461,0.514945,0.527779,0.601887,0.647708,0.5,0.571711,0.524186,0.616472,0.653775,0.511978,0.542851,0.592788,0.605845,0.579772,0.551591,0.646733,0.525041,0.697884,0.5,0.676805,0.5,0.64851,0.686745,0.710618,0.618246,0.65264,0.5,0.5,0.5,0.530707,0.756002,0.774901,0.614512,0.581586,0.549147,0.65202,0.521103,0.530007,0.773211,0.619665,0.693922,0.629893,0.629442,0.62467,0.565227,0.61812,0.757296,0.523734,0.622813,0.527198,0.578638,0.531863,0.712165,0.519586,0.510276,0.663954,0.513569,0.565041,0.53496,0.549252,0.66541,0.564527,0.5,0.622187,0.516802,0.5,0.580125],\"coloraxis\":\"coloraxis\",\"size\":[1184,722,477,5203,4076,808,835,4404,5052,1378,1221,1622,6471,5602,907,634,518,537,828,1243,362,1206,3946,3760,7287,5743,5176,1080,444,1096,855,4605,1636,1069,686,3024,482,3355,404,4976,3508,1447,3588,7415,5430,3424,1106,1267,5817,1347,449,1688,822,8174,778,3868,7073,1185,5499,3545,2883,3854,7668,989,7096,4658,875,5198],\"sizemode\":\"area\",\"sizeref\":20.435,\"symbol\":\"circle\",\"line\":{\"color\":\"black\"}},\"mode\":\"markers\",\"name\":\"\",\"orientation\":\"v\",\"showlegend\":false,\"x\":[0.642461,0.514945,0.527779,0.601887,0.647708,0.5,0.571711,0.524186,0.616472,0.653775,0.511978,0.542851,0.592788,0.605845,0.579772,0.551591,0.646733,0.525041,0.697884,0.5,0.676805,0.5,0.64851,0.686745,0.710618,0.618246,0.65264,0.5,0.5,0.5,0.530707,0.756002,0.774901,0.614512,0.581586,0.549147,0.65202,0.521103,0.530007,0.773211,0.619665,0.693922,0.629893,0.629442,0.62467,0.565227,0.61812,0.757296,0.523734,0.622813,0.527198,0.578638,0.531863,0.712165,0.519586,0.510276,0.663954,0.513569,0.565041,0.53496,0.549252,0.66541,0.564527,0.5,0.622187,0.516802,0.5,0.580125],\"xaxis\":\"x\",\"y\":[0.056587837837837836,0.22437673130193905,0.10062893081761007,0.016913319238900635,0.22154072620215898,0.0024752475247524753,0.02155688622754491,0.27770208900999094,0.020387965162311956,0.03918722786647315,0.06388206388206388,0.08754623921085081,0.041879153144799876,0.006426276329882185,0.015435501653803748,0.056782334384858045,0.025096525096525095,0.054003724394785846,0.06280193236714976,0.010458567980691875,0.03591160220994475,0.0912106135986733,0.16852508869741512,0.059308510638297875,0.03252367229312474,0.07191363398920425,0.019513137557959814,0.002777777777777778,0.0045045045045045045,0.017335766423357664,0.011695906432748537,0.13224755700325733,0.12591687041564792,0.01403180542563143,0.25072886297376096,0.19014550264550265,0.1037344398340249,0.08703427719821162,0.024752475247524754,0.10771704180064309,0.01539338654503991,0.035245335176226675,0.051839464882943144,0.0072825354012137555,0.004419889502762431,0.1582943925233645,0.12025316455696203,0.08839779005524862,0.0020629190304280558,0.03711952487008166,0.17371937639198218,0.10248815165876778,0.032846715328467155,0.11059456814289209,0.05912596401028278,0.07290589451913133,0.05089778029124841,0.09957805907172995,0.024913620658301508,0.010719322990126939,0.05064169268123483,0.042812662169174884,0.02608242044861763,0.0020222446916076846,0.18940248027057496,0.23658222413052812,0.005714285714285714,0.027510580992689496],\"yaxis\":\"y\",\"type\":\"scatter\"}],                        {\"template\":{\"data\":{\"scatter\":[{\"type\":\"scatter\"}]}},\"xaxis\":{\"anchor\":\"y\",\"domain\":[0.0,1.0],\"title\":{\"text\":\"Performance\"}},\"yaxis\":{\"anchor\":\"x\",\"domain\":[0.0,1.0],\"title\":{\"text\":\"SuccessRate\"}},\"coloraxis\":{\"colorbar\":{\"title\":{\"text\":\"Performance\"}},\"colorscale\":[[0.0,\"rgb(0,0,255)\"],[1.0,\"rgb(255,0,0)\"]]},\"legend\":{\"tracegroupgap\":0,\"itemsizing\":\"constant\"},\"title\":{\"text\":\"Bubble Chart over all models <br><sup>68 models: 0 (0.0%) at (50,0)</sup>\"}},                        {\"responsive\": true}                    ).then(function(){\n",
       "                            \n",
       "var gd = document.getElementById('13b4f70d-c7f4-4865-9775-668ce88b8cb9');\n",
       "var x = new MutationObserver(function (mutations, observer) {{\n",
       "        var display = window.getComputedStyle(gd).display;\n",
       "        if (!display || display === 'none') {{\n",
       "            console.log([gd, 'removed!']);\n",
       "            Plotly.purge(gd);\n",
       "            observer.disconnect();\n",
       "        }}\n",
       "}});\n",
       "\n",
       "// Listen for the removal of the full notebook cells\n",
       "var notebookContainer = gd.closest('#notebook-container');\n",
       "if (notebookContainer) {{\n",
       "    x.observe(notebookContainer, {childList: true});\n",
       "}}\n",
       "\n",
       "// Listen for the clearing of the current output cell\n",
       "var outputEl = gd.closest('.output');\n",
       "if (outputEl) {{\n",
       "    x.observe(outputEl, {childList: true});\n",
       "}}\n",
       "\n",
       "                        })                };                });            </script>        </div>"
      ]
     },
     "metadata": {},
     "output_type": "display_data"
    }
   ],
   "source": [
    "CDHSample.plotPerformanceSuccessRateBubbleChart()"
   ]
  },
  {
   "cell_type": "markdown",
   "metadata": {},
   "source": [
    "Looks like a healthy bubble plot, but sometimes it is useful to consider only certain models in the analysis. Note that the bubble chart automatically considers only the last snapshot by default, though this is a parameter. \n",
    "\n",
    "To reduce the information, let's only consider models with more than 500 responses within the CreditCards group. "
   ]
  },
  {
   "cell_type": "code",
   "execution_count": 5,
   "metadata": {
    "execution": {
     "iopub.execute_input": "2023-03-02T17:07:17.681797Z",
     "iopub.status.busy": "2023-03-02T17:07:17.680954Z",
     "iopub.status.idle": "2023-03-02T17:07:18.038635Z",
     "shell.execute_reply": "2023-03-02T17:07:18.037858Z"
    }
   },
   "outputs": [
    {
     "name": "stdout",
     "output_type": "stream",
     "text": [
      "Pandas query detected. This will be slow, and only works in eager mode  because we turn the dataframe to pandas, query, and then turn it back  to Polars. For faster performance, please pass a Polars Expression  which can be used in the `filter()` method.\n"
     ]
    },
    {
     "ename": "NotEagerError",
     "evalue": "Applying pandas queries is only possible in eager mode",
     "output_type": "error",
     "traceback": [
      "\u001b[0;31m---------------------------------------------------------------------------\u001b[0m",
      "\u001b[0;31mNotEagerError\u001b[0m                             Traceback (most recent call last)",
      "Cell \u001b[0;32mIn [5], line 2\u001b[0m\n\u001b[1;32m      1\u001b[0m query\u001b[38;5;241m=\u001b[39m\u001b[38;5;124m'\u001b[39m\u001b[38;5;124mResponseCount > 500 and Group == \u001b[39m\u001b[38;5;124m\"\u001b[39m\u001b[38;5;124mCreditCards\u001b[39m\u001b[38;5;124m\"\u001b[39m\u001b[38;5;124m'\u001b[39m\n\u001b[0;32m----> 2\u001b[0m \u001b[43mCDHSample\u001b[49m\u001b[38;5;241;43m.\u001b[39;49m\u001b[43mplotPerformanceSuccessRateBubbleChart\u001b[49m\u001b[43m(\u001b[49m\u001b[43mquery\u001b[49m\u001b[38;5;241;43m=\u001b[39;49m\u001b[43mquery\u001b[49m\u001b[43m)\u001b[49m\n",
      "File \u001b[0;32m~/Documents/Code/pdstools-polars/pega-datascientist-tools/python/docs/source/articles/../../../pdstools/plots/plot_base.py:267\u001b[0m, in \u001b[0;36mPlots.plotPerformanceSuccessRateBubbleChart\u001b[0;34m(self, last, add_bottom_left_text, query, facets, **kwargs)\u001b[0m\n\u001b[1;32m    258\u001b[0m table \u001b[38;5;241m=\u001b[39m \u001b[38;5;124m\"\u001b[39m\u001b[38;5;124mmodelData\u001b[39m\u001b[38;5;124m\"\u001b[39m\n\u001b[1;32m    259\u001b[0m required_columns \u001b[38;5;241m=\u001b[39m {\n\u001b[1;32m    260\u001b[0m     \u001b[38;5;124m\"\u001b[39m\u001b[38;5;124mModelID\u001b[39m\u001b[38;5;124m\"\u001b[39m,\n\u001b[1;32m    261\u001b[0m     \u001b[38;5;124m\"\u001b[39m\u001b[38;5;124mPerformance\u001b[39m\u001b[38;5;124m\"\u001b[39m,\n\u001b[0;32m   (...)\u001b[0m\n\u001b[1;32m    264\u001b[0m     \u001b[38;5;124m\"\u001b[39m\u001b[38;5;124mName\u001b[39m\u001b[38;5;124m\"\u001b[39m,\n\u001b[1;32m    265\u001b[0m }\n\u001b[0;32m--> 267\u001b[0m df, facets \u001b[38;5;241m=\u001b[39m \u001b[38;5;28;43mself\u001b[39;49m\u001b[38;5;241;43m.\u001b[39;49m\u001b[43m_subset_data\u001b[49m\u001b[43m(\u001b[49m\n\u001b[1;32m    268\u001b[0m \u001b[43m    \u001b[49m\u001b[43mtable\u001b[49m\u001b[38;5;241;43m=\u001b[39;49m\u001b[43mtable\u001b[49m\u001b[43m,\u001b[49m\n\u001b[1;32m    269\u001b[0m \u001b[43m    \u001b[49m\u001b[43mrequired_columns\u001b[49m\u001b[38;5;241;43m=\u001b[39;49m\u001b[43mrequired_columns\u001b[49m\u001b[43m,\u001b[49m\n\u001b[1;32m    270\u001b[0m \u001b[43m    \u001b[49m\u001b[43mquery\u001b[49m\u001b[38;5;241;43m=\u001b[39;49m\u001b[43mquery\u001b[49m\u001b[43m,\u001b[49m\n\u001b[1;32m    271\u001b[0m \u001b[43m    \u001b[49m\u001b[43mfacets\u001b[49m\u001b[38;5;241;43m=\u001b[39;49m\u001b[43mfacets\u001b[49m\u001b[43m,\u001b[49m\n\u001b[1;32m    272\u001b[0m \u001b[43m    \u001b[49m\u001b[43mlast\u001b[49m\u001b[38;5;241;43m=\u001b[39;49m\u001b[43mlast\u001b[49m\u001b[43m,\u001b[49m\n\u001b[1;32m    273\u001b[0m \u001b[43m\u001b[49m\u001b[43m)\u001b[49m\n\u001b[1;32m    274\u001b[0m df\u001b[38;5;241m.\u001b[39mwith_columns(\n\u001b[1;32m    275\u001b[0m     (pl\u001b[38;5;241m.\u001b[39mcol([\u001b[38;5;124m\"\u001b[39m\u001b[38;5;124mPerformance\u001b[39m\u001b[38;5;124m\"\u001b[39m, \u001b[38;5;124m\"\u001b[39m\u001b[38;5;124mSuccessRate\u001b[39m\u001b[38;5;124m\"\u001b[39m]) \u001b[38;5;241m*\u001b[39m pl\u001b[38;5;241m.\u001b[39mlit(\u001b[38;5;241m100\u001b[39m))\u001b[38;5;241m.\u001b[39mround(\n\u001b[1;32m    276\u001b[0m         kwargs\u001b[38;5;241m.\u001b[39mpop(\u001b[38;5;124m\"\u001b[39m\u001b[38;5;124mround\u001b[39m\u001b[38;5;124m\"\u001b[39m, \u001b[38;5;241m5\u001b[39m)\n\u001b[1;32m    277\u001b[0m     )\n\u001b[1;32m    278\u001b[0m )\n\u001b[1;32m    279\u001b[0m \u001b[38;5;28;01mwith\u001b[39;00m pl\u001b[38;5;241m.\u001b[39mStringCache():\n",
      "File \u001b[0;32m~/Documents/Code/pdstools-polars/pega-datascientist-tools/python/docs/source/articles/../../../pdstools/plots/plot_base.py:138\u001b[0m, in \u001b[0;36mPlots._subset_data\u001b[0;34m(self, table, required_columns, query, multi_snapshot, last, facets, active_only, include_cols)\u001b[0m\n\u001b[1;32m    132\u001b[0m     required_columns \u001b[38;5;241m=\u001b[39m required_columns\u001b[38;5;241m.\u001b[39munion(\u001b[38;5;28mself\u001b[39m\u001b[38;5;241m.\u001b[39mcontext_keys)\n\u001b[1;32m    134\u001b[0m \u001b[38;5;28;01massert\u001b[39;00m required_columns\u001b[38;5;241m.\u001b[39missubset(\n\u001b[1;32m    135\u001b[0m     df\u001b[38;5;241m.\u001b[39mcolumns\n\u001b[1;32m    136\u001b[0m ), \u001b[38;5;124mf\u001b[39m\u001b[38;5;124m\"\u001b[39m\u001b[38;5;124mThe following columns are missing in the data: \u001b[39m\u001b[38;5;132;01m{\u001b[39;00mrequired_columns \u001b[38;5;241m-\u001b[39m \u001b[38;5;28mset\u001b[39m(df\u001b[38;5;241m.\u001b[39mcolumns)\u001b[38;5;132;01m}\u001b[39;00m\u001b[38;5;124m\"\u001b[39m\n\u001b[0;32m--> 138\u001b[0m df \u001b[38;5;241m=\u001b[39m \u001b[38;5;28;43mself\u001b[39;49m\u001b[38;5;241;43m.\u001b[39;49m\u001b[43m_apply_query\u001b[49m\u001b[43m(\u001b[49m\u001b[43mdf\u001b[49m\u001b[43m,\u001b[49m\u001b[43m \u001b[49m\u001b[43mquery\u001b[49m\u001b[43m)\u001b[49m\n\u001b[1;32m    140\u001b[0m \u001b[38;5;66;03m# if multi_snapshot and not last:\u001b[39;00m\n\u001b[1;32m    141\u001b[0m \u001b[38;5;66;03m#     if not df[\"SnapshotTime\"].nunique() > 1:\u001b[39;00m\n\u001b[1;32m    142\u001b[0m \u001b[38;5;66;03m#         raise self.NotApplicableError(\u001b[39;00m\n\u001b[1;32m    143\u001b[0m \u001b[38;5;66;03m#             \"There is only one snapshot, so this visualisation doesn't make sense.\"\u001b[39;00m\n\u001b[1;32m    144\u001b[0m \u001b[38;5;66;03m#         ) #Move check to plots directly\u001b[39;00m\n\u001b[1;32m    146\u001b[0m \u001b[38;5;28;01mif\u001b[39;00m last:\n",
      "File \u001b[0;32m~/Documents/Code/pdstools-polars/pega-datascientist-tools/python/docs/source/articles/../../../pdstools/adm/ADMDatamart.py:615\u001b[0m, in \u001b[0;36mADMDatamart._apply_query\u001b[0;34m(self, df, query)\u001b[0m\n\u001b[1;32m    608\u001b[0m \u001b[38;5;28mprint\u001b[39m(\n\u001b[1;32m    609\u001b[0m     \u001b[38;5;124m\"\u001b[39m\u001b[38;5;124mPandas query detected. This will be slow, and only works in eager mode \u001b[39m\u001b[38;5;124m\"\u001b[39m,\n\u001b[1;32m    610\u001b[0m     \u001b[38;5;124m\"\u001b[39m\u001b[38;5;124mbecause we turn the dataframe to pandas, query, and then turn it back \u001b[39m\u001b[38;5;124m\"\u001b[39m,\n\u001b[1;32m    611\u001b[0m     \u001b[38;5;124m\"\u001b[39m\u001b[38;5;124mto Polars. For faster performance, please pass a Polars Expression \u001b[39m\u001b[38;5;124m\"\u001b[39m,\n\u001b[1;32m    612\u001b[0m     \u001b[38;5;124m\"\u001b[39m\u001b[38;5;124mwhich can be used in the `filter()` method.\u001b[39m\u001b[38;5;124m\"\u001b[39m,\n\u001b[1;32m    613\u001b[0m )\n\u001b[1;32m    614\u001b[0m \u001b[38;5;28;01mif\u001b[39;00m \u001b[38;5;28misinstance\u001b[39m(df, pl\u001b[38;5;241m.\u001b[39mLazyFrame):\n\u001b[0;32m--> 615\u001b[0m     \u001b[38;5;28;01mraise\u001b[39;00m NotEagerError(\u001b[38;5;124m\"\u001b[39m\u001b[38;5;124mApplying pandas queries\u001b[39m\u001b[38;5;124m\"\u001b[39m)\n\u001b[1;32m    616\u001b[0m \u001b[38;5;28;01melse\u001b[39;00m:\n\u001b[1;32m    617\u001b[0m     \u001b[38;5;28;01mreturn\u001b[39;00m pl\u001b[38;5;241m.\u001b[39mDataFrame(df\u001b[38;5;241m.\u001b[39mto_pandas()\u001b[38;5;241m.\u001b[39mquery(query))\n",
      "\u001b[0;31mNotEagerError\u001b[0m: Applying pandas queries is only possible in eager mode"
     ]
    }
   ],
   "source": [
    "query='ResponseCount > 500 and Group == \"CreditCards\"'\n",
    "CDHSample.plotPerformanceSuccessRateBubbleChart(query=query)"
   ]
  },
  {
   "cell_type": "markdown",
   "metadata": {},
   "source": [
    "Alternatively, we could only look at the top n best performing models within our query. To do this, we need to supply a list of model IDs which we can easily extract from the data as such.\n",
    "\n",
    "Note here the alternative querying syntax you can use, which was default in the previous version of CDH Tools: if you have a list (list) to subset a column's values with, you can simply supply a dictionary with 'column name':list to only get values in that list for that column."
   ]
  },
  {
   "cell_type": "code",
   "execution_count": 6,
   "metadata": {
    "execution": {
     "iopub.execute_input": "2023-03-02T17:07:18.042387Z",
     "iopub.status.busy": "2023-03-02T17:07:18.042039Z",
     "iopub.status.idle": "2023-03-02T17:07:18.102296Z",
     "shell.execute_reply": "2023-03-02T17:07:18.101332Z"
    }
   },
   "outputs": [
    {
     "ename": "AttributeError",
     "evalue": "'DataFrame' object has no attribute 'sort_values'",
     "output_type": "error",
     "traceback": [
      "\u001b[0;31m---------------------------------------------------------------------------\u001b[0m",
      "\u001b[0;31mAttributeError\u001b[0m                            Traceback (most recent call last)",
      "Cell \u001b[0;32mIn [6], line 1\u001b[0m\n\u001b[0;32m----> 1\u001b[0m top30ids \u001b[38;5;241m=\u001b[39m \u001b[38;5;28mlist\u001b[39m(\u001b[43mCDHSample\u001b[49m\u001b[38;5;241;43m.\u001b[39;49m\u001b[43mlast\u001b[49m\u001b[43m(\u001b[49m\u001b[43mCDHSample\u001b[49m\u001b[38;5;241;43m.\u001b[39;49m\u001b[43mmodelData\u001b[49m\u001b[43m)\u001b[49m\u001b[38;5;241;43m.\u001b[39;49m\u001b[43msort_values\u001b[49m(\u001b[38;5;124m'\u001b[39m\u001b[38;5;124mPerformance\u001b[39m\u001b[38;5;124m'\u001b[39m, ascending\u001b[38;5;241m=\u001b[39m\u001b[38;5;28;01mFalse\u001b[39;00m)\u001b[38;5;241m.\u001b[39mreset_index()[\u001b[38;5;124m'\u001b[39m\u001b[38;5;124mModelID\u001b[39m\u001b[38;5;124m'\u001b[39m][\u001b[38;5;241m0\u001b[39m:\u001b[38;5;241m30\u001b[39m])\n\u001b[1;32m      3\u001b[0m CDHSample\u001b[38;5;241m.\u001b[39mplotPerformanceSuccessRateBubbleChart(query\u001b[38;5;241m=\u001b[39m{\u001b[38;5;124m'\u001b[39m\u001b[38;5;124mModelID\u001b[39m\u001b[38;5;124m'\u001b[39m:top30ids})\n",
      "File \u001b[0;32m/Library/Frameworks/Python.framework/Versions/3.11/lib/python3.11/site-packages/polars/utils.py:524\u001b[0m, in \u001b[0;36mredirect.<locals>._redirecting_getattr_\u001b[0;34m(obj, item)\u001b[0m\n\u001b[1;32m    517\u001b[0m     warnings\u001b[38;5;241m.\u001b[39mwarn(\n\u001b[1;32m    518\u001b[0m         \u001b[38;5;124mf\u001b[39m\u001b[38;5;124m\"\u001b[39m\u001b[38;5;124m`\u001b[39m\u001b[38;5;132;01m{\u001b[39;00m\u001b[38;5;28mtype\u001b[39m(obj)\u001b[38;5;241m.\u001b[39m\u001b[38;5;18m__name__\u001b[39m\u001b[38;5;132;01m}\u001b[39;00m\u001b[38;5;124m.\u001b[39m\u001b[38;5;132;01m{\u001b[39;00mitem\u001b[38;5;132;01m}\u001b[39;00m\u001b[38;5;124m` has been renamed; this\u001b[39m\u001b[38;5;124m\"\u001b[39m\n\u001b[1;32m    519\u001b[0m         \u001b[38;5;124mf\u001b[39m\u001b[38;5;124m\"\u001b[39m\u001b[38;5;124m redirect is temporary, please use `.\u001b[39m\u001b[38;5;132;01m{\u001b[39;00mnew_item\u001b[38;5;132;01m}\u001b[39;00m\u001b[38;5;124m` instead\u001b[39m\u001b[38;5;124m\"\u001b[39m,\n\u001b[1;32m    520\u001b[0m         category\u001b[38;5;241m=\u001b[39m\u001b[38;5;167;01mDeprecationWarning\u001b[39;00m,\n\u001b[1;32m    521\u001b[0m         stacklevel\u001b[38;5;241m=\u001b[39m\u001b[38;5;241m2\u001b[39m,\n\u001b[1;32m    522\u001b[0m     )\n\u001b[1;32m    523\u001b[0m     item \u001b[38;5;241m=\u001b[39m new_item\n\u001b[0;32m--> 524\u001b[0m \u001b[38;5;28;01mreturn\u001b[39;00m \u001b[43mobj\u001b[49m\u001b[38;5;241;43m.\u001b[39;49m\u001b[38;5;21;43m__getattribute__\u001b[39;49m\u001b[43m(\u001b[49m\u001b[43mitem\u001b[49m\u001b[43m)\u001b[49m\n",
      "\u001b[0;31mAttributeError\u001b[0m: 'DataFrame' object has no attribute 'sort_values'"
     ]
    }
   ],
   "source": [
    "top30ids = list(CDHSample.last(CDHSample.modelData).sort_values('Performance', ascending=False).reset_index()['ModelID'][0:30])\n",
    "\n",
    "CDHSample.plotPerformanceSuccessRateBubbleChart(query={'ModelID':top30ids})"
   ]
  },
  {
   "cell_type": "markdown",
   "metadata": {},
   "source": [
    "The bubble chart gives some information about which models perform well, but that is not always informative: if we don't know in which channels, issues or groups our issues lie then we may not be looking in the right place. This is where the Treemap visualisation is quite handy. "
   ]
  },
  {
   "cell_type": "code",
   "execution_count": 7,
   "metadata": {
    "execution": {
     "iopub.execute_input": "2023-03-02T17:07:18.106214Z",
     "iopub.status.busy": "2023-03-02T17:07:18.105747Z",
     "iopub.status.idle": "2023-03-02T17:07:19.233844Z",
     "shell.execute_reply": "2023-03-02T17:07:19.233408Z"
    }
   },
   "outputs": [
    {
     "data": {
      "text/html": [
       "<div>                            <div id=\"91e74eed-cc39-4819-af23-b3d884983ac6\" class=\"plotly-graph-div\" style=\"height:525px; width:100%;\"></div>            <script type=\"text/javascript\">                require([\"plotly\"], function(Plotly) {                    window.PLOTLYENV=window.PLOTLYENV || {};                                    if (document.getElementById(\"91e74eed-cc39-4819-af23-b3d884983ac6\")) {                    Plotly.newPlot(                        \"91e74eed-cc39-4819-af23-b3d884983ac6\",                        [{\"branchvalues\":\"total\",\"customdata\":[[2,0.0,13544,0.04638846671802414,0.6299525834317778,631],[1,0.0,7415,0.0072825354012137555,0.629442,54],[3,0.0,23129,0.05640022029487816,0.6627309054433826,1341],[3,0.0,8823,0.0844395475775724,0.6065555297517852,516],[5,0.0,14820,0.027161426741624084,0.5630989340080973,289],[5,0.0,15761,0.047650201915249116,0.6134172346297823,692],[3,0.0,11048,0.08005282820548858,0.7077251884503982,822],[2,0.0,10633,0.010666604370831534,0.6135216929370826,112],[3,0.0,11134,0.08278605717330569,0.6866853960840668,772],[5,0.0,6966,0.08123114510073806,0.6300027265288544,473],[6,0.0,10262,0.015054701976766428,0.554294000877022,130],[8,0.0,12383,0.0607416905806323,0.6100976363562949,641],[1,0.0,7096,0.18940248027057496,0.6221869999999999,1344],[3,0.0,8634,0.1863527350847223,0.5295501125781793,1908],[5,0.0,12271,0.04838988724951338,0.5305561875152799,754],[4,0.0,10488,0.13958418490192162,0.5316843408657514,1840],[3,0.0,5043,0.14011887589688876,0.6368783271861986,994],[3,0.0,1210,0.021722860653991333,0.5629142462809917,25],[3,0.0,4905,0.12429615311635002,0.637114104587156,763],[17,0.0,\"(?)\",\"(?)\",0.6230671239143504,\"(?)\"],[21,0.0,\"(?)\",\"(?)\",0.5576107494093409,\"(?)\"],[23,0.0,\"(?)\",\"(?)\",0.6106957882380846,\"(?)\"],[2,0.0,13544,0.04638846671802414,0.6299525834317778,631],[1,0.0,7415,0.0072825354012137555,0.629442,54],[4,0.0,\"(?)\",\"(?)\",0.6525949290825369,\"(?)\"],[19,0.0,\"(?)\",\"(?)\",0.6237919091267111,\"(?)\"],[22,0.0,\"(?)\",\"(?)\",0.5608758062543708,\"(?)\"],[27,0.0,\"(?)\",\"(?)\",0.6169030683631886,\"(?)\"],[22,0.0,\"(?)\",\"(?)\",0.5608758062543708,\"(?)\"],[27,0.0,\"(?)\",\"(?)\",0.6169030683631886,\"(?)\"],[19,0.0,\"(?)\",\"(?)\",0.6237919091267111,\"(?)\"],[68,0.0,\"(?)\",\"(?)\",0.6007014243648493,\"(?)\"]],\"domain\":{\"x\":[0.0,1.0],\"y\":[0.0,1.0]},\"hovertemplate\":\"labels=%{label}<br>Model count=%{customdata[0]:.d}<br>parent=%{parent}<br>id=%{id}<br>Percentage without responses=%{customdata[1]:.0%}<br>Response Count sum=%{customdata[2]:.d}<br>Success Rate mean=%{customdata[3]:.3%}<br>Performance weighted mean=%{color:.0%}<br>Positives sum=%{customdata[5]:.d}<extra></extra>\",\"ids\":[\"All contexts/Web/Inbound/Services/Account\",\"All contexts/Email/Outbound/Services/Account\",\"All contexts/SMS/Outbound/Services/Account\",\"All contexts/Web/Inbound/Sales/AutoLoans\",\"All contexts/Email/Outbound/Sales/AutoLoans\",\"All contexts/SMS/Outbound/Sales/AutoLoans\",\"All contexts/Web/Inbound/Sales/Bundles\",\"All contexts/Email/Outbound/Sales/Bundles\",\"All contexts/SMS/Outbound/Sales/Bundles\",\"All contexts/Web/Inbound/Sales/CreditCards\",\"All contexts/Email/Outbound/Sales/CreditCards\",\"All contexts/SMS/Outbound/Sales/CreditCards\",\"All contexts/SMS/Outbound/Services/Customer\",\"All contexts/Web/Inbound/Sales/DepositAccounts\",\"All contexts/Email/Outbound/Sales/DepositAccounts\",\"All contexts/SMS/Outbound/Sales/DepositAccounts\",\"All contexts/Web/Inbound/Sales/HomeLoans\",\"All contexts/Email/Outbound/Sales/HomeLoans\",\"All contexts/SMS/Outbound/Sales/HomeLoans\",\"All contexts/Web/Inbound/Sales\",\"All contexts/Email/Outbound/Sales\",\"All contexts/SMS/Outbound/Sales\",\"All contexts/Web/Inbound/Services\",\"All contexts/Email/Outbound/Services\",\"All contexts/SMS/Outbound/Services\",\"All contexts/Web/Inbound\",\"All contexts/Email/Outbound\",\"All contexts/SMS/Outbound\",\"All contexts/Email\",\"All contexts/SMS\",\"All contexts/Web\",\"All contexts\"],\"labels\":[\"Account\",\"Account\",\"Account\",\"AutoLoans\",\"AutoLoans\",\"AutoLoans\",\"Bundles\",\"Bundles\",\"Bundles\",\"CreditCards\",\"CreditCards\",\"CreditCards\",\"Customer\",\"DepositAccounts\",\"DepositAccounts\",\"DepositAccounts\",\"HomeLoans\",\"HomeLoans\",\"HomeLoans\",\"Sales\",\"Sales\",\"Sales\",\"Services\",\"Services\",\"Services\",\"Inbound\",\"Outbound\",\"Outbound\",\"Email\",\"SMS\",\"Web\",\"All contexts\"],\"marker\":{\"coloraxis\":\"coloraxis\",\"colors\":[0.6299525834317778,0.629442,0.6627309054433826,0.6065555297517852,0.5630989340080973,0.6134172346297823,0.7077251884503982,0.6135216929370826,0.6866853960840668,0.6300027265288544,0.554294000877022,0.6100976363562949,0.6221869999999999,0.5295501125781793,0.5305561875152799,0.5316843408657514,0.6368783271861986,0.5629142462809917,0.637114104587156,0.6230671239143504,0.5576107494093409,0.6106957882380846,0.6299525834317778,0.629442,0.6525949290825369,0.6237919091267111,0.5608758062543708,0.6169030683631886,0.5608758062543708,0.6169030683631886,0.6237919091267111,0.6007014243648493]},\"name\":\"\",\"parents\":[\"All contexts/Web/Inbound/Services\",\"All contexts/Email/Outbound/Services\",\"All contexts/SMS/Outbound/Services\",\"All contexts/Web/Inbound/Sales\",\"All contexts/Email/Outbound/Sales\",\"All contexts/SMS/Outbound/Sales\",\"All contexts/Web/Inbound/Sales\",\"All contexts/Email/Outbound/Sales\",\"All contexts/SMS/Outbound/Sales\",\"All contexts/Web/Inbound/Sales\",\"All contexts/Email/Outbound/Sales\",\"All contexts/SMS/Outbound/Sales\",\"All contexts/SMS/Outbound/Services\",\"All contexts/Web/Inbound/Sales\",\"All contexts/Email/Outbound/Sales\",\"All contexts/SMS/Outbound/Sales\",\"All contexts/Web/Inbound/Sales\",\"All contexts/Email/Outbound/Sales\",\"All contexts/SMS/Outbound/Sales\",\"All contexts/Web/Inbound\",\"All contexts/Email/Outbound\",\"All contexts/SMS/Outbound\",\"All contexts/Web/Inbound\",\"All contexts/Email/Outbound\",\"All contexts/SMS/Outbound\",\"All contexts/Web\",\"All contexts/Email\",\"All contexts/SMS\",\"All contexts\",\"All contexts\",\"All contexts\",\"\"],\"values\":[2,1,3,3,5,5,3,2,3,5,6,8,1,3,5,4,3,3,3,17,21,23,2,1,4,19,22,27,22,27,19,68],\"type\":\"treemap\",\"text\":[0.63,0.629,0.663,0.607,0.563,0.613,0.708,0.614,0.687,0.63,0.554,0.61,0.622,0.53,0.531,0.532,0.637,0.563,0.637,0.623,0.558,0.611,0.63,0.629,0.653,0.624,0.561,0.617,0.561,0.617,0.624,0.601],\"textinfo\":\"label+text\",\"texttemplate\":\"%{label}<br>%{text:.2%}\"}],                        {\"template\":{\"data\":{\"histogram2dcontour\":[{\"type\":\"histogram2dcontour\",\"colorbar\":{\"outlinewidth\":0,\"ticks\":\"\"},\"colorscale\":[[0.0,\"#0d0887\"],[0.1111111111111111,\"#46039f\"],[0.2222222222222222,\"#7201a8\"],[0.3333333333333333,\"#9c179e\"],[0.4444444444444444,\"#bd3786\"],[0.5555555555555556,\"#d8576b\"],[0.6666666666666666,\"#ed7953\"],[0.7777777777777778,\"#fb9f3a\"],[0.8888888888888888,\"#fdca26\"],[1.0,\"#f0f921\"]]}],\"choropleth\":[{\"type\":\"choropleth\",\"colorbar\":{\"outlinewidth\":0,\"ticks\":\"\"}}],\"histogram2d\":[{\"type\":\"histogram2d\",\"colorbar\":{\"outlinewidth\":0,\"ticks\":\"\"},\"colorscale\":[[0.0,\"#0d0887\"],[0.1111111111111111,\"#46039f\"],[0.2222222222222222,\"#7201a8\"],[0.3333333333333333,\"#9c179e\"],[0.4444444444444444,\"#bd3786\"],[0.5555555555555556,\"#d8576b\"],[0.6666666666666666,\"#ed7953\"],[0.7777777777777778,\"#fb9f3a\"],[0.8888888888888888,\"#fdca26\"],[1.0,\"#f0f921\"]]}],\"heatmap\":[{\"type\":\"heatmap\",\"colorbar\":{\"outlinewidth\":0,\"ticks\":\"\"},\"colorscale\":[[0.0,\"#0d0887\"],[0.1111111111111111,\"#46039f\"],[0.2222222222222222,\"#7201a8\"],[0.3333333333333333,\"#9c179e\"],[0.4444444444444444,\"#bd3786\"],[0.5555555555555556,\"#d8576b\"],[0.6666666666666666,\"#ed7953\"],[0.7777777777777778,\"#fb9f3a\"],[0.8888888888888888,\"#fdca26\"],[1.0,\"#f0f921\"]]}],\"heatmapgl\":[{\"type\":\"heatmapgl\",\"colorbar\":{\"outlinewidth\":0,\"ticks\":\"\"},\"colorscale\":[[0.0,\"#0d0887\"],[0.1111111111111111,\"#46039f\"],[0.2222222222222222,\"#7201a8\"],[0.3333333333333333,\"#9c179e\"],[0.4444444444444444,\"#bd3786\"],[0.5555555555555556,\"#d8576b\"],[0.6666666666666666,\"#ed7953\"],[0.7777777777777778,\"#fb9f3a\"],[0.8888888888888888,\"#fdca26\"],[1.0,\"#f0f921\"]]}],\"contourcarpet\":[{\"type\":\"contourcarpet\",\"colorbar\":{\"outlinewidth\":0,\"ticks\":\"\"}}],\"contour\":[{\"type\":\"contour\",\"colorbar\":{\"outlinewidth\":0,\"ticks\":\"\"},\"colorscale\":[[0.0,\"#0d0887\"],[0.1111111111111111,\"#46039f\"],[0.2222222222222222,\"#7201a8\"],[0.3333333333333333,\"#9c179e\"],[0.4444444444444444,\"#bd3786\"],[0.5555555555555556,\"#d8576b\"],[0.6666666666666666,\"#ed7953\"],[0.7777777777777778,\"#fb9f3a\"],[0.8888888888888888,\"#fdca26\"],[1.0,\"#f0f921\"]]}],\"surface\":[{\"type\":\"surface\",\"colorbar\":{\"outlinewidth\":0,\"ticks\":\"\"},\"colorscale\":[[0.0,\"#0d0887\"],[0.1111111111111111,\"#46039f\"],[0.2222222222222222,\"#7201a8\"],[0.3333333333333333,\"#9c179e\"],[0.4444444444444444,\"#bd3786\"],[0.5555555555555556,\"#d8576b\"],[0.6666666666666666,\"#ed7953\"],[0.7777777777777778,\"#fb9f3a\"],[0.8888888888888888,\"#fdca26\"],[1.0,\"#f0f921\"]]}],\"mesh3d\":[{\"type\":\"mesh3d\",\"colorbar\":{\"outlinewidth\":0,\"ticks\":\"\"}}],\"scatter\":[{\"fillpattern\":{\"fillmode\":\"overlay\",\"size\":10,\"solidity\":0.2},\"type\":\"scatter\"}],\"parcoords\":[{\"type\":\"parcoords\",\"line\":{\"colorbar\":{\"outlinewidth\":0,\"ticks\":\"\"}}}],\"scatterpolargl\":[{\"type\":\"scatterpolargl\",\"marker\":{\"colorbar\":{\"outlinewidth\":0,\"ticks\":\"\"}}}],\"bar\":[{\"error_x\":{\"color\":\"#2a3f5f\"},\"error_y\":{\"color\":\"#2a3f5f\"},\"marker\":{\"line\":{\"color\":\"#E5ECF6\",\"width\":0.5},\"pattern\":{\"fillmode\":\"overlay\",\"size\":10,\"solidity\":0.2}},\"type\":\"bar\"}],\"scattergeo\":[{\"type\":\"scattergeo\",\"marker\":{\"colorbar\":{\"outlinewidth\":0,\"ticks\":\"\"}}}],\"scatterpolar\":[{\"type\":\"scatterpolar\",\"marker\":{\"colorbar\":{\"outlinewidth\":0,\"ticks\":\"\"}}}],\"histogram\":[{\"marker\":{\"pattern\":{\"fillmode\":\"overlay\",\"size\":10,\"solidity\":0.2}},\"type\":\"histogram\"}],\"scattergl\":[{\"type\":\"scattergl\",\"marker\":{\"colorbar\":{\"outlinewidth\":0,\"ticks\":\"\"}}}],\"scatter3d\":[{\"type\":\"scatter3d\",\"line\":{\"colorbar\":{\"outlinewidth\":0,\"ticks\":\"\"}},\"marker\":{\"colorbar\":{\"outlinewidth\":0,\"ticks\":\"\"}}}],\"scattermapbox\":[{\"type\":\"scattermapbox\",\"marker\":{\"colorbar\":{\"outlinewidth\":0,\"ticks\":\"\"}}}],\"scatterternary\":[{\"type\":\"scatterternary\",\"marker\":{\"colorbar\":{\"outlinewidth\":0,\"ticks\":\"\"}}}],\"scattercarpet\":[{\"type\":\"scattercarpet\",\"marker\":{\"colorbar\":{\"outlinewidth\":0,\"ticks\":\"\"}}}],\"carpet\":[{\"aaxis\":{\"endlinecolor\":\"#2a3f5f\",\"gridcolor\":\"white\",\"linecolor\":\"white\",\"minorgridcolor\":\"white\",\"startlinecolor\":\"#2a3f5f\"},\"baxis\":{\"endlinecolor\":\"#2a3f5f\",\"gridcolor\":\"white\",\"linecolor\":\"white\",\"minorgridcolor\":\"white\",\"startlinecolor\":\"#2a3f5f\"},\"type\":\"carpet\"}],\"table\":[{\"cells\":{\"fill\":{\"color\":\"#EBF0F8\"},\"line\":{\"color\":\"white\"}},\"header\":{\"fill\":{\"color\":\"#C8D4E3\"},\"line\":{\"color\":\"white\"}},\"type\":\"table\"}],\"barpolar\":[{\"marker\":{\"line\":{\"color\":\"#E5ECF6\",\"width\":0.5},\"pattern\":{\"fillmode\":\"overlay\",\"size\":10,\"solidity\":0.2}},\"type\":\"barpolar\"}],\"pie\":[{\"automargin\":true,\"type\":\"pie\"}]},\"layout\":{\"autotypenumbers\":\"strict\",\"colorway\":[\"#636efa\",\"#EF553B\",\"#00cc96\",\"#ab63fa\",\"#FFA15A\",\"#19d3f3\",\"#FF6692\",\"#B6E880\",\"#FF97FF\",\"#FECB52\"],\"font\":{\"color\":\"#2a3f5f\"},\"hovermode\":\"closest\",\"hoverlabel\":{\"align\":\"left\"},\"paper_bgcolor\":\"white\",\"plot_bgcolor\":\"#E5ECF6\",\"polar\":{\"bgcolor\":\"#E5ECF6\",\"angularaxis\":{\"gridcolor\":\"white\",\"linecolor\":\"white\",\"ticks\":\"\"},\"radialaxis\":{\"gridcolor\":\"white\",\"linecolor\":\"white\",\"ticks\":\"\"}},\"ternary\":{\"bgcolor\":\"#E5ECF6\",\"aaxis\":{\"gridcolor\":\"white\",\"linecolor\":\"white\",\"ticks\":\"\"},\"baxis\":{\"gridcolor\":\"white\",\"linecolor\":\"white\",\"ticks\":\"\"},\"caxis\":{\"gridcolor\":\"white\",\"linecolor\":\"white\",\"ticks\":\"\"}},\"coloraxis\":{\"colorbar\":{\"outlinewidth\":0,\"ticks\":\"\"}},\"colorscale\":{\"sequential\":[[0.0,\"#0d0887\"],[0.1111111111111111,\"#46039f\"],[0.2222222222222222,\"#7201a8\"],[0.3333333333333333,\"#9c179e\"],[0.4444444444444444,\"#bd3786\"],[0.5555555555555556,\"#d8576b\"],[0.6666666666666666,\"#ed7953\"],[0.7777777777777778,\"#fb9f3a\"],[0.8888888888888888,\"#fdca26\"],[1.0,\"#f0f921\"]],\"sequentialminus\":[[0.0,\"#0d0887\"],[0.1111111111111111,\"#46039f\"],[0.2222222222222222,\"#7201a8\"],[0.3333333333333333,\"#9c179e\"],[0.4444444444444444,\"#bd3786\"],[0.5555555555555556,\"#d8576b\"],[0.6666666666666666,\"#ed7953\"],[0.7777777777777778,\"#fb9f3a\"],[0.8888888888888888,\"#fdca26\"],[1.0,\"#f0f921\"]],\"diverging\":[[0,\"#8e0152\"],[0.1,\"#c51b7d\"],[0.2,\"#de77ae\"],[0.3,\"#f1b6da\"],[0.4,\"#fde0ef\"],[0.5,\"#f7f7f7\"],[0.6,\"#e6f5d0\"],[0.7,\"#b8e186\"],[0.8,\"#7fbc41\"],[0.9,\"#4d9221\"],[1,\"#276419\"]]},\"xaxis\":{\"gridcolor\":\"white\",\"linecolor\":\"white\",\"ticks\":\"\",\"title\":{\"standoff\":15},\"zerolinecolor\":\"white\",\"automargin\":true,\"zerolinewidth\":2},\"yaxis\":{\"gridcolor\":\"white\",\"linecolor\":\"white\",\"ticks\":\"\",\"title\":{\"standoff\":15},\"zerolinecolor\":\"white\",\"automargin\":true,\"zerolinewidth\":2},\"scene\":{\"xaxis\":{\"backgroundcolor\":\"#E5ECF6\",\"gridcolor\":\"white\",\"linecolor\":\"white\",\"showbackground\":true,\"ticks\":\"\",\"zerolinecolor\":\"white\",\"gridwidth\":2},\"yaxis\":{\"backgroundcolor\":\"#E5ECF6\",\"gridcolor\":\"white\",\"linecolor\":\"white\",\"showbackground\":true,\"ticks\":\"\",\"zerolinecolor\":\"white\",\"gridwidth\":2},\"zaxis\":{\"backgroundcolor\":\"#E5ECF6\",\"gridcolor\":\"white\",\"linecolor\":\"white\",\"showbackground\":true,\"ticks\":\"\",\"zerolinecolor\":\"white\",\"gridwidth\":2}},\"shapedefaults\":{\"line\":{\"color\":\"#2a3f5f\"}},\"annotationdefaults\":{\"arrowcolor\":\"#2a3f5f\",\"arrowhead\":0,\"arrowwidth\":1},\"geo\":{\"bgcolor\":\"white\",\"landcolor\":\"#E5ECF6\",\"subunitcolor\":\"white\",\"showland\":true,\"showlakes\":true,\"lakecolor\":\"white\"},\"title\":{\"x\":0.05},\"mapbox\":{\"style\":\"light\"}}},\"coloraxis\":{\"colorbar\":{\"title\":{\"text\":\"Performance weighted mean\"}},\"colorscale\":[[0,\"#d91c29\"],[0.01,\"#F76923\"],[0.3,\"#20aa50\"],[0.8,\"#20aa50\"],[1,\"#0000FF\"]],\"cmin\":0.5,\"cmax\":1,\"reversescale\":false},\"legend\":{\"tracegroupgap\":0},\"title\":{\"text\":\"Weighted mean performance, per context key combination\"}},                        {\"responsive\": true}                    ).then(function(){\n",
       "                            \n",
       "var gd = document.getElementById('91e74eed-cc39-4819-af23-b3d884983ac6');\n",
       "var x = new MutationObserver(function (mutations, observer) {{\n",
       "        var display = window.getComputedStyle(gd).display;\n",
       "        if (!display || display === 'none') {{\n",
       "            console.log([gd, 'removed!']);\n",
       "            Plotly.purge(gd);\n",
       "            observer.disconnect();\n",
       "        }}\n",
       "}});\n",
       "\n",
       "// Listen for the removal of the full notebook cells\n",
       "var notebookContainer = gd.closest('#notebook-container');\n",
       "if (notebookContainer) {{\n",
       "    x.observe(notebookContainer, {childList: true});\n",
       "}}\n",
       "\n",
       "// Listen for the clearing of the current output cell\n",
       "var outputEl = gd.closest('.output');\n",
       "if (outputEl) {{\n",
       "    x.observe(outputEl, {childList: true});\n",
       "}}\n",
       "\n",
       "                        })                };                });            </script>        </div>"
      ]
     },
     "metadata": {},
     "output_type": "display_data"
    }
   ],
   "source": [
    "CDHSample.plotTreeMap()"
   ]
  },
  {
   "cell_type": "markdown",
   "metadata": {},
   "source": [
    "By default the Treemap shows the weighted performance, where the performance is weighted by the response count. The squares represent Model IDs: the larger a square, the more model IDs are within that combination of context keys. We can also color the Treemap by another variable, such as the SuccessRate:"
   ]
  },
  {
   "cell_type": "code",
   "execution_count": 8,
   "metadata": {
    "execution": {
     "iopub.execute_input": "2023-03-02T17:07:19.236333Z",
     "iopub.status.busy": "2023-03-02T17:07:19.236156Z",
     "iopub.status.idle": "2023-03-02T17:07:19.357362Z",
     "shell.execute_reply": "2023-03-02T17:07:19.356945Z"
    }
   },
   "outputs": [
    {
     "data": {
      "text/html": [
       "<div>                            <div id=\"edaf542b-24f1-40bf-85a8-dd4553c4e098\" class=\"plotly-graph-div\" style=\"height:525px; width:100%;\"></div>            <script type=\"text/javascript\">                require([\"plotly\"], function(Plotly) {                    window.PLOTLYENV=window.PLOTLYENV || {};                                    if (document.getElementById(\"edaf542b-24f1-40bf-85a8-dd4553c4e098\")) {                    Plotly.newPlot(                        \"edaf542b-24f1-40bf-85a8-dd4553c4e098\",                        [{\"branchvalues\":\"total\",\"customdata\":[[2,0.0,13544,0.04638846671802414,0.6299525834317778,631,0.04638846671802414],[1,0.0,7415,0.0072825354012137555,0.629442,54,0.0072825354012137555],[3,0.0,23129,0.05640022029487816,0.6627309054433826,1341,0.05640022029487816],[3,0.0,8823,0.0844395475775724,0.6065555297517852,516,0.0844395475775724],[5,0.0,14820,0.027161426741624084,0.5630989340080973,289,0.027161426741624084],[5,0.0,15761,0.047650201915249116,0.6134172346297823,692,0.047650201915249116],[3,0.0,11048,0.08005282820548858,0.7077251884503982,822,0.08005282820548858],[2,0.0,10633,0.010666604370831534,0.6135216929370826,112,0.010666604370831534],[3,0.0,11134,0.08278605717330569,0.6866853960840668,772,0.08278605717330569],[5,0.0,6966,0.08123114510073806,0.6300027265288544,473,0.08123114510073806],[6,0.0,10262,0.015054701976766428,0.554294000877022,130,0.015054701976766428],[8,0.0,12383,0.0607416905806323,0.6100976363562949,641,0.0607416905806323],[1,0.0,7096,0.18940248027057496,0.6221869999999999,1344,0.18940248027057496],[3,0.0,8634,0.1863527350847223,0.5295501125781793,1908,0.1863527350847223],[5,0.0,12271,0.04838988724951338,0.5305561875152799,754,0.04838988724951338],[4,0.0,10488,0.13958418490192162,0.5316843408657514,1840,0.13958418490192162],[3,0.0,5043,0.14011887589688876,0.6368783271861986,994,0.14011887589688876],[3,0.0,1210,0.021722860653991333,0.5629142462809917,25,0.021722860653991333],[3,0.0,4905,0.12429615311635002,0.637114104587156,763,0.12429615311635002],[17,0.0,\"(?)\",\"(?)\",\"(?)\",\"(?)\",0.11053221681162978],[21,0.0,\"(?)\",\"(?)\",\"(?)\",\"(?)\",0.026408884405710622],[23,0.0,\"(?)\",\"(?)\",\"(?)\",\"(?)\",0.08277251759556338],[2,0.0,13544,0.04638846671802414,0.6299525834317778,631,0.04638846671802414],[1,0.0,7415,0.0072825354012137555,0.629442,54,0.0072825354012137555],[4,0.0,\"(?)\",\"(?)\",\"(?)\",\"(?)\",0.08965078528880235],[19,0.0,\"(?)\",\"(?)\",\"(?)\",\"(?)\",0.10378024311756602],[22,0.0,\"(?)\",\"(?)\",\"(?)\",\"(?)\",0.025539504905506216],[27,0.0,\"(?)\",\"(?)\",\"(?)\",\"(?)\",0.08379152021678397],[22,0.0,\"(?)\",\"(?)\",\"(?)\",\"(?)\",0.025539504905506216],[27,0.0,\"(?)\",\"(?)\",\"(?)\",\"(?)\",0.08379152021678397],[19,0.0,\"(?)\",\"(?)\",\"(?)\",\"(?)\",0.10378024311756602],[68,0.0,\"(?)\",\"(?)\",\"(?)\",\"(?)\",0.07053036430894204]],\"domain\":{\"x\":[0.0,1.0],\"y\":[0.0,1.0]},\"hovertemplate\":\"labels=%{label}<br>Model count=%{customdata[0]:.d}<br>parent=%{parent}<br>id=%{id}<br>Percentage without responses=%{customdata[1]:.0%}<br>Response Count sum=%{customdata[2]:.d}<br>Success Rate mean=%{customdata[3]:.3%}<br>Performance weighted mean=%{customdata[4]:.0%}<br>Positives sum=%{customdata[5]:.d}<br>color=%{color}<extra></extra>\",\"ids\":[\"All contexts/Web/Inbound/Services/Account\",\"All contexts/Email/Outbound/Services/Account\",\"All contexts/SMS/Outbound/Services/Account\",\"All contexts/Web/Inbound/Sales/AutoLoans\",\"All contexts/Email/Outbound/Sales/AutoLoans\",\"All contexts/SMS/Outbound/Sales/AutoLoans\",\"All contexts/Web/Inbound/Sales/Bundles\",\"All contexts/Email/Outbound/Sales/Bundles\",\"All contexts/SMS/Outbound/Sales/Bundles\",\"All contexts/Web/Inbound/Sales/CreditCards\",\"All contexts/Email/Outbound/Sales/CreditCards\",\"All contexts/SMS/Outbound/Sales/CreditCards\",\"All contexts/SMS/Outbound/Services/Customer\",\"All contexts/Web/Inbound/Sales/DepositAccounts\",\"All contexts/Email/Outbound/Sales/DepositAccounts\",\"All contexts/SMS/Outbound/Sales/DepositAccounts\",\"All contexts/Web/Inbound/Sales/HomeLoans\",\"All contexts/Email/Outbound/Sales/HomeLoans\",\"All contexts/SMS/Outbound/Sales/HomeLoans\",\"All contexts/Web/Inbound/Sales\",\"All contexts/Email/Outbound/Sales\",\"All contexts/SMS/Outbound/Sales\",\"All contexts/Web/Inbound/Services\",\"All contexts/Email/Outbound/Services\",\"All contexts/SMS/Outbound/Services\",\"All contexts/Web/Inbound\",\"All contexts/Email/Outbound\",\"All contexts/SMS/Outbound\",\"All contexts/Email\",\"All contexts/SMS\",\"All contexts/Web\",\"All contexts\"],\"labels\":[\"Account\",\"Account\",\"Account\",\"AutoLoans\",\"AutoLoans\",\"AutoLoans\",\"Bundles\",\"Bundles\",\"Bundles\",\"CreditCards\",\"CreditCards\",\"CreditCards\",\"Customer\",\"DepositAccounts\",\"DepositAccounts\",\"DepositAccounts\",\"HomeLoans\",\"HomeLoans\",\"HomeLoans\",\"Sales\",\"Sales\",\"Sales\",\"Services\",\"Services\",\"Services\",\"Inbound\",\"Outbound\",\"Outbound\",\"Email\",\"SMS\",\"Web\",\"All contexts\"],\"marker\":{\"coloraxis\":\"coloraxis\",\"colors\":[0.04638846671802414,0.0072825354012137555,0.05640022029487816,0.0844395475775724,0.027161426741624084,0.047650201915249116,0.08005282820548858,0.010666604370831534,0.08278605717330569,0.08123114510073806,0.015054701976766428,0.0607416905806323,0.18940248027057496,0.1863527350847223,0.04838988724951338,0.13958418490192162,0.14011887589688876,0.021722860653991333,0.12429615311635002,0.11053221681162978,0.026408884405710622,0.08277251759556338,0.04638846671802414,0.0072825354012137555,0.08965078528880235,0.10378024311756602,0.025539504905506216,0.08379152021678397,0.025539504905506216,0.08379152021678397,0.10378024311756602,0.07053036430894204]},\"name\":\"\",\"parents\":[\"All contexts/Web/Inbound/Services\",\"All contexts/Email/Outbound/Services\",\"All contexts/SMS/Outbound/Services\",\"All contexts/Web/Inbound/Sales\",\"All contexts/Email/Outbound/Sales\",\"All contexts/SMS/Outbound/Sales\",\"All contexts/Web/Inbound/Sales\",\"All contexts/Email/Outbound/Sales\",\"All contexts/SMS/Outbound/Sales\",\"All contexts/Web/Inbound/Sales\",\"All contexts/Email/Outbound/Sales\",\"All contexts/SMS/Outbound/Sales\",\"All contexts/SMS/Outbound/Services\",\"All contexts/Web/Inbound/Sales\",\"All contexts/Email/Outbound/Sales\",\"All contexts/SMS/Outbound/Sales\",\"All contexts/Web/Inbound/Sales\",\"All contexts/Email/Outbound/Sales\",\"All contexts/SMS/Outbound/Sales\",\"All contexts/Web/Inbound\",\"All contexts/Email/Outbound\",\"All contexts/SMS/Outbound\",\"All contexts/Web/Inbound\",\"All contexts/Email/Outbound\",\"All contexts/SMS/Outbound\",\"All contexts/Web\",\"All contexts/Email\",\"All contexts/SMS\",\"All contexts\",\"All contexts\",\"All contexts\",\"\"],\"values\":[2,1,3,3,5,5,3,2,3,5,6,8,1,3,5,4,3,3,3,17,21,23,2,1,4,19,22,27,22,27,19,68],\"type\":\"treemap\",\"text\":[0.046,0.007,0.056,0.084,0.027,0.048,0.08,0.011,0.083,0.081,0.015,0.061,0.189,0.186,0.048,0.14,0.14,0.022,0.124,0.111,0.026,0.083,0.046,0.007,0.09,0.104,0.026,0.084,0.026,0.084,0.104,0.071],\"textinfo\":\"label+text\",\"texttemplate\":\"%{label}<br>%{text:.2%}\"}],                        {\"template\":{\"data\":{\"histogram2dcontour\":[{\"type\":\"histogram2dcontour\",\"colorbar\":{\"outlinewidth\":0,\"ticks\":\"\"},\"colorscale\":[[0.0,\"#0d0887\"],[0.1111111111111111,\"#46039f\"],[0.2222222222222222,\"#7201a8\"],[0.3333333333333333,\"#9c179e\"],[0.4444444444444444,\"#bd3786\"],[0.5555555555555556,\"#d8576b\"],[0.6666666666666666,\"#ed7953\"],[0.7777777777777778,\"#fb9f3a\"],[0.8888888888888888,\"#fdca26\"],[1.0,\"#f0f921\"]]}],\"choropleth\":[{\"type\":\"choropleth\",\"colorbar\":{\"outlinewidth\":0,\"ticks\":\"\"}}],\"histogram2d\":[{\"type\":\"histogram2d\",\"colorbar\":{\"outlinewidth\":0,\"ticks\":\"\"},\"colorscale\":[[0.0,\"#0d0887\"],[0.1111111111111111,\"#46039f\"],[0.2222222222222222,\"#7201a8\"],[0.3333333333333333,\"#9c179e\"],[0.4444444444444444,\"#bd3786\"],[0.5555555555555556,\"#d8576b\"],[0.6666666666666666,\"#ed7953\"],[0.7777777777777778,\"#fb9f3a\"],[0.8888888888888888,\"#fdca26\"],[1.0,\"#f0f921\"]]}],\"heatmap\":[{\"type\":\"heatmap\",\"colorbar\":{\"outlinewidth\":0,\"ticks\":\"\"},\"colorscale\":[[0.0,\"#0d0887\"],[0.1111111111111111,\"#46039f\"],[0.2222222222222222,\"#7201a8\"],[0.3333333333333333,\"#9c179e\"],[0.4444444444444444,\"#bd3786\"],[0.5555555555555556,\"#d8576b\"],[0.6666666666666666,\"#ed7953\"],[0.7777777777777778,\"#fb9f3a\"],[0.8888888888888888,\"#fdca26\"],[1.0,\"#f0f921\"]]}],\"heatmapgl\":[{\"type\":\"heatmapgl\",\"colorbar\":{\"outlinewidth\":0,\"ticks\":\"\"},\"colorscale\":[[0.0,\"#0d0887\"],[0.1111111111111111,\"#46039f\"],[0.2222222222222222,\"#7201a8\"],[0.3333333333333333,\"#9c179e\"],[0.4444444444444444,\"#bd3786\"],[0.5555555555555556,\"#d8576b\"],[0.6666666666666666,\"#ed7953\"],[0.7777777777777778,\"#fb9f3a\"],[0.8888888888888888,\"#fdca26\"],[1.0,\"#f0f921\"]]}],\"contourcarpet\":[{\"type\":\"contourcarpet\",\"colorbar\":{\"outlinewidth\":0,\"ticks\":\"\"}}],\"contour\":[{\"type\":\"contour\",\"colorbar\":{\"outlinewidth\":0,\"ticks\":\"\"},\"colorscale\":[[0.0,\"#0d0887\"],[0.1111111111111111,\"#46039f\"],[0.2222222222222222,\"#7201a8\"],[0.3333333333333333,\"#9c179e\"],[0.4444444444444444,\"#bd3786\"],[0.5555555555555556,\"#d8576b\"],[0.6666666666666666,\"#ed7953\"],[0.7777777777777778,\"#fb9f3a\"],[0.8888888888888888,\"#fdca26\"],[1.0,\"#f0f921\"]]}],\"surface\":[{\"type\":\"surface\",\"colorbar\":{\"outlinewidth\":0,\"ticks\":\"\"},\"colorscale\":[[0.0,\"#0d0887\"],[0.1111111111111111,\"#46039f\"],[0.2222222222222222,\"#7201a8\"],[0.3333333333333333,\"#9c179e\"],[0.4444444444444444,\"#bd3786\"],[0.5555555555555556,\"#d8576b\"],[0.6666666666666666,\"#ed7953\"],[0.7777777777777778,\"#fb9f3a\"],[0.8888888888888888,\"#fdca26\"],[1.0,\"#f0f921\"]]}],\"mesh3d\":[{\"type\":\"mesh3d\",\"colorbar\":{\"outlinewidth\":0,\"ticks\":\"\"}}],\"scatter\":[{\"fillpattern\":{\"fillmode\":\"overlay\",\"size\":10,\"solidity\":0.2},\"type\":\"scatter\"}],\"parcoords\":[{\"type\":\"parcoords\",\"line\":{\"colorbar\":{\"outlinewidth\":0,\"ticks\":\"\"}}}],\"scatterpolargl\":[{\"type\":\"scatterpolargl\",\"marker\":{\"colorbar\":{\"outlinewidth\":0,\"ticks\":\"\"}}}],\"bar\":[{\"error_x\":{\"color\":\"#2a3f5f\"},\"error_y\":{\"color\":\"#2a3f5f\"},\"marker\":{\"line\":{\"color\":\"#E5ECF6\",\"width\":0.5},\"pattern\":{\"fillmode\":\"overlay\",\"size\":10,\"solidity\":0.2}},\"type\":\"bar\"}],\"scattergeo\":[{\"type\":\"scattergeo\",\"marker\":{\"colorbar\":{\"outlinewidth\":0,\"ticks\":\"\"}}}],\"scatterpolar\":[{\"type\":\"scatterpolar\",\"marker\":{\"colorbar\":{\"outlinewidth\":0,\"ticks\":\"\"}}}],\"histogram\":[{\"marker\":{\"pattern\":{\"fillmode\":\"overlay\",\"size\":10,\"solidity\":0.2}},\"type\":\"histogram\"}],\"scattergl\":[{\"type\":\"scattergl\",\"marker\":{\"colorbar\":{\"outlinewidth\":0,\"ticks\":\"\"}}}],\"scatter3d\":[{\"type\":\"scatter3d\",\"line\":{\"colorbar\":{\"outlinewidth\":0,\"ticks\":\"\"}},\"marker\":{\"colorbar\":{\"outlinewidth\":0,\"ticks\":\"\"}}}],\"scattermapbox\":[{\"type\":\"scattermapbox\",\"marker\":{\"colorbar\":{\"outlinewidth\":0,\"ticks\":\"\"}}}],\"scatterternary\":[{\"type\":\"scatterternary\",\"marker\":{\"colorbar\":{\"outlinewidth\":0,\"ticks\":\"\"}}}],\"scattercarpet\":[{\"type\":\"scattercarpet\",\"marker\":{\"colorbar\":{\"outlinewidth\":0,\"ticks\":\"\"}}}],\"carpet\":[{\"aaxis\":{\"endlinecolor\":\"#2a3f5f\",\"gridcolor\":\"white\",\"linecolor\":\"white\",\"minorgridcolor\":\"white\",\"startlinecolor\":\"#2a3f5f\"},\"baxis\":{\"endlinecolor\":\"#2a3f5f\",\"gridcolor\":\"white\",\"linecolor\":\"white\",\"minorgridcolor\":\"white\",\"startlinecolor\":\"#2a3f5f\"},\"type\":\"carpet\"}],\"table\":[{\"cells\":{\"fill\":{\"color\":\"#EBF0F8\"},\"line\":{\"color\":\"white\"}},\"header\":{\"fill\":{\"color\":\"#C8D4E3\"},\"line\":{\"color\":\"white\"}},\"type\":\"table\"}],\"barpolar\":[{\"marker\":{\"line\":{\"color\":\"#E5ECF6\",\"width\":0.5},\"pattern\":{\"fillmode\":\"overlay\",\"size\":10,\"solidity\":0.2}},\"type\":\"barpolar\"}],\"pie\":[{\"automargin\":true,\"type\":\"pie\"}]},\"layout\":{\"autotypenumbers\":\"strict\",\"colorway\":[\"#636efa\",\"#EF553B\",\"#00cc96\",\"#ab63fa\",\"#FFA15A\",\"#19d3f3\",\"#FF6692\",\"#B6E880\",\"#FF97FF\",\"#FECB52\"],\"font\":{\"color\":\"#2a3f5f\"},\"hovermode\":\"closest\",\"hoverlabel\":{\"align\":\"left\"},\"paper_bgcolor\":\"white\",\"plot_bgcolor\":\"#E5ECF6\",\"polar\":{\"bgcolor\":\"#E5ECF6\",\"angularaxis\":{\"gridcolor\":\"white\",\"linecolor\":\"white\",\"ticks\":\"\"},\"radialaxis\":{\"gridcolor\":\"white\",\"linecolor\":\"white\",\"ticks\":\"\"}},\"ternary\":{\"bgcolor\":\"#E5ECF6\",\"aaxis\":{\"gridcolor\":\"white\",\"linecolor\":\"white\",\"ticks\":\"\"},\"baxis\":{\"gridcolor\":\"white\",\"linecolor\":\"white\",\"ticks\":\"\"},\"caxis\":{\"gridcolor\":\"white\",\"linecolor\":\"white\",\"ticks\":\"\"}},\"coloraxis\":{\"colorbar\":{\"outlinewidth\":0,\"ticks\":\"\"}},\"colorscale\":{\"sequential\":[[0.0,\"#0d0887\"],[0.1111111111111111,\"#46039f\"],[0.2222222222222222,\"#7201a8\"],[0.3333333333333333,\"#9c179e\"],[0.4444444444444444,\"#bd3786\"],[0.5555555555555556,\"#d8576b\"],[0.6666666666666666,\"#ed7953\"],[0.7777777777777778,\"#fb9f3a\"],[0.8888888888888888,\"#fdca26\"],[1.0,\"#f0f921\"]],\"sequentialminus\":[[0.0,\"#0d0887\"],[0.1111111111111111,\"#46039f\"],[0.2222222222222222,\"#7201a8\"],[0.3333333333333333,\"#9c179e\"],[0.4444444444444444,\"#bd3786\"],[0.5555555555555556,\"#d8576b\"],[0.6666666666666666,\"#ed7953\"],[0.7777777777777778,\"#fb9f3a\"],[0.8888888888888888,\"#fdca26\"],[1.0,\"#f0f921\"]],\"diverging\":[[0,\"#8e0152\"],[0.1,\"#c51b7d\"],[0.2,\"#de77ae\"],[0.3,\"#f1b6da\"],[0.4,\"#fde0ef\"],[0.5,\"#f7f7f7\"],[0.6,\"#e6f5d0\"],[0.7,\"#b8e186\"],[0.8,\"#7fbc41\"],[0.9,\"#4d9221\"],[1,\"#276419\"]]},\"xaxis\":{\"gridcolor\":\"white\",\"linecolor\":\"white\",\"ticks\":\"\",\"title\":{\"standoff\":15},\"zerolinecolor\":\"white\",\"automargin\":true,\"zerolinewidth\":2},\"yaxis\":{\"gridcolor\":\"white\",\"linecolor\":\"white\",\"ticks\":\"\",\"title\":{\"standoff\":15},\"zerolinecolor\":\"white\",\"automargin\":true,\"zerolinewidth\":2},\"scene\":{\"xaxis\":{\"backgroundcolor\":\"#E5ECF6\",\"gridcolor\":\"white\",\"linecolor\":\"white\",\"showbackground\":true,\"ticks\":\"\",\"zerolinecolor\":\"white\",\"gridwidth\":2},\"yaxis\":{\"backgroundcolor\":\"#E5ECF6\",\"gridcolor\":\"white\",\"linecolor\":\"white\",\"showbackground\":true,\"ticks\":\"\",\"zerolinecolor\":\"white\",\"gridwidth\":2},\"zaxis\":{\"backgroundcolor\":\"#E5ECF6\",\"gridcolor\":\"white\",\"linecolor\":\"white\",\"showbackground\":true,\"ticks\":\"\",\"zerolinecolor\":\"white\",\"gridwidth\":2}},\"shapedefaults\":{\"line\":{\"color\":\"#2a3f5f\"}},\"annotationdefaults\":{\"arrowcolor\":\"#2a3f5f\",\"arrowhead\":0,\"arrowwidth\":1},\"geo\":{\"bgcolor\":\"white\",\"landcolor\":\"#E5ECF6\",\"subunitcolor\":\"white\",\"showland\":true,\"showlakes\":true,\"lakecolor\":\"white\"},\"title\":{\"x\":0.05},\"mapbox\":{\"style\":\"light\"}}},\"coloraxis\":{\"colorbar\":{\"title\":{\"text\":\"color\"}},\"colorscale\":[[0.0,\"#d91c29\"],[0.5,\"#F76923\"],[1.0,\"#20aa50\"]],\"reversescale\":false},\"legend\":{\"tracegroupgap\":0},\"title\":{\"text\":\"Success rate, per context key combination\"}},                        {\"responsive\": true}                    ).then(function(){\n",
       "                            \n",
       "var gd = document.getElementById('edaf542b-24f1-40bf-85a8-dd4553c4e098');\n",
       "var x = new MutationObserver(function (mutations, observer) {{\n",
       "        var display = window.getComputedStyle(gd).display;\n",
       "        if (!display || display === 'none') {{\n",
       "            console.log([gd, 'removed!']);\n",
       "            Plotly.purge(gd);\n",
       "            observer.disconnect();\n",
       "        }}\n",
       "}});\n",
       "\n",
       "// Listen for the removal of the full notebook cells\n",
       "var notebookContainer = gd.closest('#notebook-container');\n",
       "if (notebookContainer) {{\n",
       "    x.observe(notebookContainer, {childList: true});\n",
       "}}\n",
       "\n",
       "// Listen for the clearing of the current output cell\n",
       "var outputEl = gd.closest('.output');\n",
       "if (outputEl) {{\n",
       "    x.observe(outputEl, {childList: true});\n",
       "}}\n",
       "\n",
       "                        })                };                });            </script>        </div>"
      ]
     },
     "metadata": {},
     "output_type": "display_data"
    }
   ],
   "source": [
    "CDHSample.plotTreeMap('SuccessRate')"
   ]
  },
  {
   "cell_type": "markdown",
   "metadata": {},
   "source": [
    "If we want to look at the response rate and the AUC of some models over time, we can call plotPerformanceAndSuccessRateOverTime. Here, we filter a bit to limit the amount of information."
   ]
  },
  {
   "cell_type": "code",
   "execution_count": 9,
   "metadata": {
    "execution": {
     "iopub.execute_input": "2023-03-02T17:07:19.359688Z",
     "iopub.status.busy": "2023-03-02T17:07:19.359511Z",
     "iopub.status.idle": "2023-03-02T17:07:19.369177Z",
     "shell.execute_reply": "2023-03-02T17:07:19.368705Z"
    }
   },
   "outputs": [
    {
     "ename": "AttributeError",
     "evalue": "'ADMDatamart' object has no attribute 'plotPerformanceAndSuccessRateOverTime'",
     "output_type": "error",
     "traceback": [
      "\u001b[0;31m---------------------------------------------------------------------------\u001b[0m",
      "\u001b[0;31mAttributeError\u001b[0m                            Traceback (most recent call last)",
      "Cell \u001b[0;32mIn [9], line 1\u001b[0m\n\u001b[0;32m----> 1\u001b[0m \u001b[43mCDHSample\u001b[49m\u001b[38;5;241;43m.\u001b[39;49m\u001b[43mplotPerformanceAndSuccessRateOverTime\u001b[49m(query \u001b[38;5;241m=\u001b[39m \u001b[38;5;124m\"\u001b[39m\u001b[38;5;124mChannel == \u001b[39m\u001b[38;5;124m'\u001b[39m\u001b[38;5;124mWeb\u001b[39m\u001b[38;5;124m'\u001b[39m\u001b[38;5;124m\"\u001b[39m)\n",
      "\u001b[0;31mAttributeError\u001b[0m: 'ADMDatamart' object has no attribute 'plotPerformanceAndSuccessRateOverTime'"
     ]
    }
   ],
   "source": [
    "CDHSample.plotPerformanceAndSuccessRateOverTime(query = \"Channel == 'Web'\")"
   ]
  },
  {
   "cell_type": "markdown",
   "metadata": {},
   "source": [
    "Similar to the responses, the success rate over time can also be of interest. With 'plotSuccessRateOverTime', you can plot the success rate of different models as they develop over time."
   ]
  },
  {
   "cell_type": "code",
   "execution_count": 10,
   "metadata": {
    "execution": {
     "iopub.execute_input": "2023-03-02T17:07:19.372463Z",
     "iopub.status.busy": "2023-03-02T17:07:19.372236Z",
     "iopub.status.idle": "2023-03-02T17:07:19.412404Z",
     "shell.execute_reply": "2023-03-02T17:07:19.411857Z"
    }
   },
   "outputs": [
    {
     "name": "stdout",
     "output_type": "stream",
     "text": [
      "Pandas query detected. This will be slow, and only works in eager mode  because we turn the dataframe to pandas, query, and then turn it back  to Polars. For faster performance, please pass a Polars Expression  which can be used in the `filter()` method.\n"
     ]
    },
    {
     "ename": "NotEagerError",
     "evalue": "Applying pandas queries is only possible in eager mode",
     "output_type": "error",
     "traceback": [
      "\u001b[0;31m---------------------------------------------------------------------------\u001b[0m",
      "\u001b[0;31mNotEagerError\u001b[0m                             Traceback (most recent call last)",
      "Cell \u001b[0;32mIn [10], line 1\u001b[0m\n\u001b[0;32m----> 1\u001b[0m \u001b[43mCDHSample\u001b[49m\u001b[38;5;241;43m.\u001b[39;49m\u001b[43mplotOverTime\u001b[49m\u001b[43m(\u001b[49m\u001b[38;5;124;43m'\u001b[39;49m\u001b[38;5;124;43mSuccessRate\u001b[39;49m\u001b[38;5;124;43m'\u001b[39;49m\u001b[43m,\u001b[49m\u001b[43mby\u001b[49m\u001b[38;5;241;43m=\u001b[39;49m\u001b[38;5;124;43m'\u001b[39;49m\u001b[38;5;124;43mModelID\u001b[39;49m\u001b[38;5;124;43m'\u001b[39;49m\u001b[43m,\u001b[49m\u001b[43m \u001b[49m\u001b[43mquery\u001b[49m\u001b[38;5;241;43m=\u001b[39;49m\u001b[38;5;124;43m\"\u001b[39;49m\u001b[38;5;124;43mChannel==\u001b[39;49m\u001b[38;5;124;43m'\u001b[39;49m\u001b[38;5;124;43mWeb\u001b[39;49m\u001b[38;5;124;43m'\u001b[39;49m\u001b[38;5;124;43m\"\u001b[39;49m\u001b[43m)\u001b[49m\n",
      "File \u001b[0;32m~/Documents/Code/pdstools-polars/pega-datascientist-tools/python/docs/source/articles/../../../pdstools/plots/plot_base.py:355\u001b[0m, in \u001b[0;36mPlots.plotOverTime\u001b[0;34m(self, metric, by, every, query, facets, **kwargs)\u001b[0m\n\u001b[1;32m    345\u001b[0m multi_snapshot \u001b[38;5;241m=\u001b[39m \u001b[38;5;28;01mTrue\u001b[39;00m\n\u001b[1;32m    346\u001b[0m required_columns \u001b[38;5;241m=\u001b[39m {\n\u001b[1;32m    347\u001b[0m     \u001b[38;5;124m\"\u001b[39m\u001b[38;5;124mModelID\u001b[39m\u001b[38;5;124m\"\u001b[39m,\n\u001b[1;32m    348\u001b[0m     \u001b[38;5;124m\"\u001b[39m\u001b[38;5;124mName\u001b[39m\u001b[38;5;124m\"\u001b[39m,\n\u001b[0;32m   (...)\u001b[0m\n\u001b[1;32m    353\u001b[0m     \u001b[38;5;124m\"\u001b[39m\u001b[38;5;124mPositives\u001b[39m\u001b[38;5;124m\"\u001b[39m,\n\u001b[1;32m    354\u001b[0m }\n\u001b[0;32m--> 355\u001b[0m df, facets \u001b[38;5;241m=\u001b[39m \u001b[38;5;28;43mself\u001b[39;49m\u001b[38;5;241;43m.\u001b[39;49m\u001b[43m_subset_data\u001b[49m\u001b[43m(\u001b[49m\n\u001b[1;32m    356\u001b[0m \u001b[43m    \u001b[49m\u001b[43mtable\u001b[49m\u001b[43m,\u001b[49m\n\u001b[1;32m    357\u001b[0m \u001b[43m    \u001b[49m\u001b[43mrequired_columns\u001b[49m\u001b[43m,\u001b[49m\n\u001b[1;32m    358\u001b[0m \u001b[43m    \u001b[49m\u001b[43mquery\u001b[49m\u001b[43m,\u001b[49m\n\u001b[1;32m    359\u001b[0m \u001b[43m    \u001b[49m\u001b[43mfacets\u001b[49m\u001b[38;5;241;43m=\u001b[39;49m\u001b[43mfacets\u001b[49m\u001b[43m,\u001b[49m\n\u001b[1;32m    360\u001b[0m \u001b[43m    \u001b[49m\u001b[43mmulti_snapshot\u001b[49m\u001b[38;5;241;43m=\u001b[39;49m\u001b[43mmulti_snapshot\u001b[49m\u001b[43m,\u001b[49m\n\u001b[1;32m    361\u001b[0m \u001b[43m    \u001b[49m\u001b[43minclude_cols\u001b[49m\u001b[38;5;241;43m=\u001b[39;49m\u001b[43m[\u001b[49m\u001b[43mby\u001b[49m\u001b[43m]\u001b[49m\u001b[43m,\u001b[49m\n\u001b[1;32m    362\u001b[0m \u001b[43m\u001b[49m\u001b[43m)\u001b[49m\n\u001b[1;32m    363\u001b[0m df \u001b[38;5;241m=\u001b[39m df\u001b[38;5;241m.\u001b[39msort(by\u001b[38;5;241m=\u001b[39m\u001b[38;5;124m\"\u001b[39m\u001b[38;5;124mSnapshotTime\u001b[39m\u001b[38;5;124m\"\u001b[39m)\n\u001b[1;32m    365\u001b[0m groupby \u001b[38;5;241m=\u001b[39m [by]\n",
      "File \u001b[0;32m~/Documents/Code/pdstools-polars/pega-datascientist-tools/python/docs/source/articles/../../../pdstools/plots/plot_base.py:138\u001b[0m, in \u001b[0;36mPlots._subset_data\u001b[0;34m(self, table, required_columns, query, multi_snapshot, last, facets, active_only, include_cols)\u001b[0m\n\u001b[1;32m    132\u001b[0m     required_columns \u001b[38;5;241m=\u001b[39m required_columns\u001b[38;5;241m.\u001b[39munion(\u001b[38;5;28mself\u001b[39m\u001b[38;5;241m.\u001b[39mcontext_keys)\n\u001b[1;32m    134\u001b[0m \u001b[38;5;28;01massert\u001b[39;00m required_columns\u001b[38;5;241m.\u001b[39missubset(\n\u001b[1;32m    135\u001b[0m     df\u001b[38;5;241m.\u001b[39mcolumns\n\u001b[1;32m    136\u001b[0m ), \u001b[38;5;124mf\u001b[39m\u001b[38;5;124m\"\u001b[39m\u001b[38;5;124mThe following columns are missing in the data: \u001b[39m\u001b[38;5;132;01m{\u001b[39;00mrequired_columns \u001b[38;5;241m-\u001b[39m \u001b[38;5;28mset\u001b[39m(df\u001b[38;5;241m.\u001b[39mcolumns)\u001b[38;5;132;01m}\u001b[39;00m\u001b[38;5;124m\"\u001b[39m\n\u001b[0;32m--> 138\u001b[0m df \u001b[38;5;241m=\u001b[39m \u001b[38;5;28;43mself\u001b[39;49m\u001b[38;5;241;43m.\u001b[39;49m\u001b[43m_apply_query\u001b[49m\u001b[43m(\u001b[49m\u001b[43mdf\u001b[49m\u001b[43m,\u001b[49m\u001b[43m \u001b[49m\u001b[43mquery\u001b[49m\u001b[43m)\u001b[49m\n\u001b[1;32m    140\u001b[0m \u001b[38;5;66;03m# if multi_snapshot and not last:\u001b[39;00m\n\u001b[1;32m    141\u001b[0m \u001b[38;5;66;03m#     if not df[\"SnapshotTime\"].nunique() > 1:\u001b[39;00m\n\u001b[1;32m    142\u001b[0m \u001b[38;5;66;03m#         raise self.NotApplicableError(\u001b[39;00m\n\u001b[1;32m    143\u001b[0m \u001b[38;5;66;03m#             \"There is only one snapshot, so this visualisation doesn't make sense.\"\u001b[39;00m\n\u001b[1;32m    144\u001b[0m \u001b[38;5;66;03m#         ) #Move check to plots directly\u001b[39;00m\n\u001b[1;32m    146\u001b[0m \u001b[38;5;28;01mif\u001b[39;00m last:\n",
      "File \u001b[0;32m~/Documents/Code/pdstools-polars/pega-datascientist-tools/python/docs/source/articles/../../../pdstools/adm/ADMDatamart.py:615\u001b[0m, in \u001b[0;36mADMDatamart._apply_query\u001b[0;34m(self, df, query)\u001b[0m\n\u001b[1;32m    608\u001b[0m \u001b[38;5;28mprint\u001b[39m(\n\u001b[1;32m    609\u001b[0m     \u001b[38;5;124m\"\u001b[39m\u001b[38;5;124mPandas query detected. This will be slow, and only works in eager mode \u001b[39m\u001b[38;5;124m\"\u001b[39m,\n\u001b[1;32m    610\u001b[0m     \u001b[38;5;124m\"\u001b[39m\u001b[38;5;124mbecause we turn the dataframe to pandas, query, and then turn it back \u001b[39m\u001b[38;5;124m\"\u001b[39m,\n\u001b[1;32m    611\u001b[0m     \u001b[38;5;124m\"\u001b[39m\u001b[38;5;124mto Polars. For faster performance, please pass a Polars Expression \u001b[39m\u001b[38;5;124m\"\u001b[39m,\n\u001b[1;32m    612\u001b[0m     \u001b[38;5;124m\"\u001b[39m\u001b[38;5;124mwhich can be used in the `filter()` method.\u001b[39m\u001b[38;5;124m\"\u001b[39m,\n\u001b[1;32m    613\u001b[0m )\n\u001b[1;32m    614\u001b[0m \u001b[38;5;28;01mif\u001b[39;00m \u001b[38;5;28misinstance\u001b[39m(df, pl\u001b[38;5;241m.\u001b[39mLazyFrame):\n\u001b[0;32m--> 615\u001b[0m     \u001b[38;5;28;01mraise\u001b[39;00m NotEagerError(\u001b[38;5;124m\"\u001b[39m\u001b[38;5;124mApplying pandas queries\u001b[39m\u001b[38;5;124m\"\u001b[39m)\n\u001b[1;32m    616\u001b[0m \u001b[38;5;28;01melse\u001b[39;00m:\n\u001b[1;32m    617\u001b[0m     \u001b[38;5;28;01mreturn\u001b[39;00m pl\u001b[38;5;241m.\u001b[39mDataFrame(df\u001b[38;5;241m.\u001b[39mto_pandas()\u001b[38;5;241m.\u001b[39mquery(query))\n",
      "\u001b[0;31mNotEagerError\u001b[0m: Applying pandas queries is only possible in eager mode"
     ]
    }
   ],
   "source": [
    "CDHSample.plotOverTime('SuccessRate',by='ModelID', query=\"Channel=='Web'\")"
   ]
  },
  {
   "cell_type": "markdown",
   "metadata": {},
   "source": [
    "And if it is not interesting to consider the success rate over time, there is also 'plotPropositionSuccessRates', which by default considers the last state of the models and plots the histogram of their success rates."
   ]
  },
  {
   "cell_type": "code",
   "execution_count": 11,
   "metadata": {
    "execution": {
     "iopub.execute_input": "2023-03-02T17:07:19.415312Z",
     "iopub.status.busy": "2023-03-02T17:07:19.415095Z",
     "iopub.status.idle": "2023-03-02T17:07:19.456160Z",
     "shell.execute_reply": "2023-03-02T17:07:19.455624Z"
    }
   },
   "outputs": [
    {
     "name": "stdout",
     "output_type": "stream",
     "text": [
      "Pandas query detected. This will be slow, and only works in eager mode  because we turn the dataframe to pandas, query, and then turn it back  to Polars. For faster performance, please pass a Polars Expression  which can be used in the `filter()` method.\n"
     ]
    },
    {
     "ename": "NotEagerError",
     "evalue": "Applying pandas queries is only possible in eager mode",
     "output_type": "error",
     "traceback": [
      "\u001b[0;31m---------------------------------------------------------------------------\u001b[0m",
      "\u001b[0;31mNotEagerError\u001b[0m                             Traceback (most recent call last)",
      "Cell \u001b[0;32mIn [11], line 1\u001b[0m\n\u001b[0;32m----> 1\u001b[0m \u001b[43mCDHSample\u001b[49m\u001b[38;5;241;43m.\u001b[39;49m\u001b[43mplotPropositionSuccessRates\u001b[49m\u001b[43m(\u001b[49m\u001b[43mquery\u001b[49m\u001b[38;5;241;43m=\u001b[39;49m\u001b[38;5;124;43m\"\u001b[39;49m\u001b[38;5;124;43mChannel==\u001b[39;49m\u001b[38;5;124;43m'\u001b[39;49m\u001b[38;5;124;43mWeb\u001b[39;49m\u001b[38;5;124;43m'\u001b[39;49m\u001b[38;5;124;43m\"\u001b[39;49m\u001b[43m)\u001b[49m\n",
      "File \u001b[0;32m~/Documents/Code/pdstools-polars/pega-datascientist-tools/python/docs/source/articles/../../../pdstools/plots/plot_base.py:461\u001b[0m, in \u001b[0;36mPlots.plotPropositionSuccessRates\u001b[0;34m(self, metric, by, show_error, top_n, subsetted_top_n, query, facets, **kwargs)\u001b[0m\n\u001b[1;32m    459\u001b[0m last \u001b[38;5;241m=\u001b[39m \u001b[38;5;28;01mTrue\u001b[39;00m\n\u001b[1;32m    460\u001b[0m required_columns \u001b[38;5;241m=\u001b[39m {\u001b[38;5;124m\"\u001b[39m\u001b[38;5;124mModelID\u001b[39m\u001b[38;5;124m\"\u001b[39m, \u001b[38;5;124m\"\u001b[39m\u001b[38;5;124mName\u001b[39m\u001b[38;5;124m\"\u001b[39m, \u001b[38;5;124m\"\u001b[39m\u001b[38;5;124mSuccessRate\u001b[39m\u001b[38;5;124m\"\u001b[39m}\n\u001b[0;32m--> 461\u001b[0m df, facets \u001b[38;5;241m=\u001b[39m \u001b[38;5;28;43mself\u001b[39;49m\u001b[38;5;241;43m.\u001b[39;49m\u001b[43m_subset_data\u001b[49m\u001b[43m(\u001b[49m\n\u001b[1;32m    462\u001b[0m \u001b[43m    \u001b[49m\u001b[43mtable\u001b[49m\u001b[43m,\u001b[49m\n\u001b[1;32m    463\u001b[0m \u001b[43m    \u001b[49m\u001b[43mrequired_columns\u001b[49m\u001b[43m,\u001b[49m\n\u001b[1;32m    464\u001b[0m \u001b[43m    \u001b[49m\u001b[43mquery\u001b[49m\u001b[43m,\u001b[49m\n\u001b[1;32m    465\u001b[0m \u001b[43m    \u001b[49m\u001b[43mfacets\u001b[49m\u001b[38;5;241;43m=\u001b[39;49m\u001b[43mfacets\u001b[49m\u001b[43m,\u001b[49m\n\u001b[1;32m    466\u001b[0m \u001b[43m    \u001b[49m\u001b[43mlast\u001b[49m\u001b[38;5;241;43m=\u001b[39;49m\u001b[43mlast\u001b[49m\u001b[43m,\u001b[49m\n\u001b[1;32m    467\u001b[0m \u001b[43m    \u001b[49m\u001b[43minclude_cols\u001b[49m\u001b[38;5;241;43m=\u001b[39;49m\u001b[43m[\u001b[49m\u001b[43mmetric\u001b[49m\u001b[43m,\u001b[49m\u001b[43m \u001b[49m\u001b[43mby\u001b[49m\u001b[43m]\u001b[49m\u001b[43m,\u001b[49m\n\u001b[1;32m    468\u001b[0m \u001b[43m\u001b[49m\u001b[43m)\u001b[49m\n\u001b[1;32m    469\u001b[0m top_n_by \u001b[38;5;241m=\u001b[39m by \u001b[38;5;28;01mif\u001b[39;00m facets \u001b[38;5;241m==\u001b[39m [\u001b[38;5;28;01mNone\u001b[39;00m] \u001b[38;5;28;01melse\u001b[39;00m facets \u001b[38;5;241m+\u001b[39m [by]\n\u001b[1;32m    470\u001b[0m \u001b[38;5;28;01mif\u001b[39;00m top_n \u001b[38;5;241m>\u001b[39m \u001b[38;5;241m0\u001b[39m:  \u001b[38;5;66;03m# TODO: fix.\u001b[39;00m\n",
      "File \u001b[0;32m~/Documents/Code/pdstools-polars/pega-datascientist-tools/python/docs/source/articles/../../../pdstools/plots/plot_base.py:138\u001b[0m, in \u001b[0;36mPlots._subset_data\u001b[0;34m(self, table, required_columns, query, multi_snapshot, last, facets, active_only, include_cols)\u001b[0m\n\u001b[1;32m    132\u001b[0m     required_columns \u001b[38;5;241m=\u001b[39m required_columns\u001b[38;5;241m.\u001b[39munion(\u001b[38;5;28mself\u001b[39m\u001b[38;5;241m.\u001b[39mcontext_keys)\n\u001b[1;32m    134\u001b[0m \u001b[38;5;28;01massert\u001b[39;00m required_columns\u001b[38;5;241m.\u001b[39missubset(\n\u001b[1;32m    135\u001b[0m     df\u001b[38;5;241m.\u001b[39mcolumns\n\u001b[1;32m    136\u001b[0m ), \u001b[38;5;124mf\u001b[39m\u001b[38;5;124m\"\u001b[39m\u001b[38;5;124mThe following columns are missing in the data: \u001b[39m\u001b[38;5;132;01m{\u001b[39;00mrequired_columns \u001b[38;5;241m-\u001b[39m \u001b[38;5;28mset\u001b[39m(df\u001b[38;5;241m.\u001b[39mcolumns)\u001b[38;5;132;01m}\u001b[39;00m\u001b[38;5;124m\"\u001b[39m\n\u001b[0;32m--> 138\u001b[0m df \u001b[38;5;241m=\u001b[39m \u001b[38;5;28;43mself\u001b[39;49m\u001b[38;5;241;43m.\u001b[39;49m\u001b[43m_apply_query\u001b[49m\u001b[43m(\u001b[49m\u001b[43mdf\u001b[49m\u001b[43m,\u001b[49m\u001b[43m \u001b[49m\u001b[43mquery\u001b[49m\u001b[43m)\u001b[49m\n\u001b[1;32m    140\u001b[0m \u001b[38;5;66;03m# if multi_snapshot and not last:\u001b[39;00m\n\u001b[1;32m    141\u001b[0m \u001b[38;5;66;03m#     if not df[\"SnapshotTime\"].nunique() > 1:\u001b[39;00m\n\u001b[1;32m    142\u001b[0m \u001b[38;5;66;03m#         raise self.NotApplicableError(\u001b[39;00m\n\u001b[1;32m    143\u001b[0m \u001b[38;5;66;03m#             \"There is only one snapshot, so this visualisation doesn't make sense.\"\u001b[39;00m\n\u001b[1;32m    144\u001b[0m \u001b[38;5;66;03m#         ) #Move check to plots directly\u001b[39;00m\n\u001b[1;32m    146\u001b[0m \u001b[38;5;28;01mif\u001b[39;00m last:\n",
      "File \u001b[0;32m~/Documents/Code/pdstools-polars/pega-datascientist-tools/python/docs/source/articles/../../../pdstools/adm/ADMDatamart.py:615\u001b[0m, in \u001b[0;36mADMDatamart._apply_query\u001b[0;34m(self, df, query)\u001b[0m\n\u001b[1;32m    608\u001b[0m \u001b[38;5;28mprint\u001b[39m(\n\u001b[1;32m    609\u001b[0m     \u001b[38;5;124m\"\u001b[39m\u001b[38;5;124mPandas query detected. This will be slow, and only works in eager mode \u001b[39m\u001b[38;5;124m\"\u001b[39m,\n\u001b[1;32m    610\u001b[0m     \u001b[38;5;124m\"\u001b[39m\u001b[38;5;124mbecause we turn the dataframe to pandas, query, and then turn it back \u001b[39m\u001b[38;5;124m\"\u001b[39m,\n\u001b[1;32m    611\u001b[0m     \u001b[38;5;124m\"\u001b[39m\u001b[38;5;124mto Polars. For faster performance, please pass a Polars Expression \u001b[39m\u001b[38;5;124m\"\u001b[39m,\n\u001b[1;32m    612\u001b[0m     \u001b[38;5;124m\"\u001b[39m\u001b[38;5;124mwhich can be used in the `filter()` method.\u001b[39m\u001b[38;5;124m\"\u001b[39m,\n\u001b[1;32m    613\u001b[0m )\n\u001b[1;32m    614\u001b[0m \u001b[38;5;28;01mif\u001b[39;00m \u001b[38;5;28misinstance\u001b[39m(df, pl\u001b[38;5;241m.\u001b[39mLazyFrame):\n\u001b[0;32m--> 615\u001b[0m     \u001b[38;5;28;01mraise\u001b[39;00m NotEagerError(\u001b[38;5;124m\"\u001b[39m\u001b[38;5;124mApplying pandas queries\u001b[39m\u001b[38;5;124m\"\u001b[39m)\n\u001b[1;32m    616\u001b[0m \u001b[38;5;28;01melse\u001b[39;00m:\n\u001b[1;32m    617\u001b[0m     \u001b[38;5;28;01mreturn\u001b[39;00m pl\u001b[38;5;241m.\u001b[39mDataFrame(df\u001b[38;5;241m.\u001b[39mto_pandas()\u001b[38;5;241m.\u001b[39mquery(query))\n",
      "\u001b[0;31mNotEagerError\u001b[0m: Applying pandas queries is only possible in eager mode"
     ]
    }
   ],
   "source": [
    "CDHSample.plotPropositionSuccessRates(query=\"Channel=='Web'\")"
   ]
  },
  {
   "cell_type": "markdown",
   "metadata": {},
   "source": [
    "If we want to look at the distribution of responses and their propensities for a given model, we can subset that model and call plotScoreDistribution. Note here we subset the model by its ID."
   ]
  },
  {
   "cell_type": "code",
   "execution_count": 12,
   "metadata": {
    "execution": {
     "iopub.execute_input": "2023-03-02T17:07:19.458566Z",
     "iopub.status.busy": "2023-03-02T17:07:19.458377Z",
     "iopub.status.idle": "2023-03-02T17:07:19.493159Z",
     "shell.execute_reply": "2023-03-02T17:07:19.492370Z"
    }
   },
   "outputs": [
    {
     "name": "stdout",
     "output_type": "stream",
     "text": [
      "Pandas query detected. This will be slow, and only works in eager mode  because we turn the dataframe to pandas, query, and then turn it back  to Polars. For faster performance, please pass a Polars Expression  which can be used in the `filter()` method.\n"
     ]
    },
    {
     "ename": "NotEagerError",
     "evalue": "Applying pandas queries is only possible in eager mode",
     "output_type": "error",
     "traceback": [
      "\u001b[0;31m---------------------------------------------------------------------------\u001b[0m",
      "\u001b[0;31mNotEagerError\u001b[0m                             Traceback (most recent call last)",
      "Cell \u001b[0;32mIn [12], line 1\u001b[0m\n\u001b[0;32m----> 1\u001b[0m \u001b[43mCDHSample\u001b[49m\u001b[38;5;241;43m.\u001b[39;49m\u001b[43mplotScoreDistribution\u001b[49m\u001b[43m(\u001b[49m\u001b[43mquery\u001b[49m\u001b[38;5;241;43m=\u001b[39;49m\u001b[38;5;124;43m'\u001b[39;49m\u001b[38;5;124;43mModelID == \u001b[39;49m\u001b[38;5;124;43m\"\u001b[39;49m\u001b[38;5;124;43m08ca1302-9fc0-57bf-9031-d4179d400493\u001b[39;49m\u001b[38;5;124;43m\"\u001b[39;49m\u001b[38;5;124;43m'\u001b[39;49m\u001b[43m,\u001b[49m\u001b[43m \u001b[49m\u001b[43mshow_each\u001b[49m\u001b[38;5;241;43m=\u001b[39;49m\u001b[38;5;28;43;01mFalse\u001b[39;49;00m\u001b[43m)\u001b[49m\n",
      "File \u001b[0;32m~/Documents/Code/pdstools-polars/pega-datascientist-tools/python/docs/source/articles/../../../pdstools/plots/plot_base.py:551\u001b[0m, in \u001b[0;36mPlots.plotScoreDistribution\u001b[0;34m(self, by, show_zero_responses, modelids, query, show_each, **kwargs)\u001b[0m\n\u001b[1;32m    541\u001b[0m table \u001b[38;5;241m=\u001b[39m \u001b[38;5;124m\"\u001b[39m\u001b[38;5;124mcombinedData\u001b[39m\u001b[38;5;124m\"\u001b[39m\n\u001b[1;32m    542\u001b[0m required_columns \u001b[38;5;241m=\u001b[39m {\n\u001b[1;32m    543\u001b[0m     \u001b[38;5;124m\"\u001b[39m\u001b[38;5;124mPredictorName\u001b[39m\u001b[38;5;124m\"\u001b[39m,\n\u001b[1;32m    544\u001b[0m     \u001b[38;5;124m\"\u001b[39m\u001b[38;5;124mName\u001b[39m\u001b[38;5;124m\"\u001b[39m,\n\u001b[0;32m   (...)\u001b[0m\n\u001b[1;32m    549\u001b[0m     \u001b[38;5;124m\"\u001b[39m\u001b[38;5;124mModelID\u001b[39m\u001b[38;5;124m\"\u001b[39m,\n\u001b[1;32m    550\u001b[0m }\n\u001b[0;32m--> 551\u001b[0m df, _ \u001b[38;5;241m=\u001b[39m \u001b[38;5;28;43mself\u001b[39;49m\u001b[38;5;241;43m.\u001b[39;49m\u001b[43m_subset_data\u001b[49m\u001b[43m(\u001b[49m\u001b[43mtable\u001b[49m\u001b[43m,\u001b[49m\u001b[43m \u001b[49m\u001b[43mrequired_columns\u001b[49m\u001b[43m,\u001b[49m\u001b[43m \u001b[49m\u001b[43mquery\u001b[49m\u001b[43m)\u001b[49m\n\u001b[1;32m    552\u001b[0m \u001b[38;5;28;01mif\u001b[39;00m modelids \u001b[38;5;129;01mis\u001b[39;00m \u001b[38;5;129;01mnot\u001b[39;00m \u001b[38;5;28;01mNone\u001b[39;00m:\n\u001b[1;32m    553\u001b[0m     df \u001b[38;5;241m=\u001b[39m df\u001b[38;5;241m.\u001b[39mfilter(pl\u001b[38;5;241m.\u001b[39mcol(\u001b[38;5;124m\"\u001b[39m\u001b[38;5;124mModelID\u001b[39m\u001b[38;5;124m\"\u001b[39m)\u001b[38;5;241m.\u001b[39mis_in(modelids))\n",
      "File \u001b[0;32m~/Documents/Code/pdstools-polars/pega-datascientist-tools/python/docs/source/articles/../../../pdstools/plots/plot_base.py:138\u001b[0m, in \u001b[0;36mPlots._subset_data\u001b[0;34m(self, table, required_columns, query, multi_snapshot, last, facets, active_only, include_cols)\u001b[0m\n\u001b[1;32m    132\u001b[0m     required_columns \u001b[38;5;241m=\u001b[39m required_columns\u001b[38;5;241m.\u001b[39munion(\u001b[38;5;28mself\u001b[39m\u001b[38;5;241m.\u001b[39mcontext_keys)\n\u001b[1;32m    134\u001b[0m \u001b[38;5;28;01massert\u001b[39;00m required_columns\u001b[38;5;241m.\u001b[39missubset(\n\u001b[1;32m    135\u001b[0m     df\u001b[38;5;241m.\u001b[39mcolumns\n\u001b[1;32m    136\u001b[0m ), \u001b[38;5;124mf\u001b[39m\u001b[38;5;124m\"\u001b[39m\u001b[38;5;124mThe following columns are missing in the data: \u001b[39m\u001b[38;5;132;01m{\u001b[39;00mrequired_columns \u001b[38;5;241m-\u001b[39m \u001b[38;5;28mset\u001b[39m(df\u001b[38;5;241m.\u001b[39mcolumns)\u001b[38;5;132;01m}\u001b[39;00m\u001b[38;5;124m\"\u001b[39m\n\u001b[0;32m--> 138\u001b[0m df \u001b[38;5;241m=\u001b[39m \u001b[38;5;28;43mself\u001b[39;49m\u001b[38;5;241;43m.\u001b[39;49m\u001b[43m_apply_query\u001b[49m\u001b[43m(\u001b[49m\u001b[43mdf\u001b[49m\u001b[43m,\u001b[49m\u001b[43m \u001b[49m\u001b[43mquery\u001b[49m\u001b[43m)\u001b[49m\n\u001b[1;32m    140\u001b[0m \u001b[38;5;66;03m# if multi_snapshot and not last:\u001b[39;00m\n\u001b[1;32m    141\u001b[0m \u001b[38;5;66;03m#     if not df[\"SnapshotTime\"].nunique() > 1:\u001b[39;00m\n\u001b[1;32m    142\u001b[0m \u001b[38;5;66;03m#         raise self.NotApplicableError(\u001b[39;00m\n\u001b[1;32m    143\u001b[0m \u001b[38;5;66;03m#             \"There is only one snapshot, so this visualisation doesn't make sense.\"\u001b[39;00m\n\u001b[1;32m    144\u001b[0m \u001b[38;5;66;03m#         ) #Move check to plots directly\u001b[39;00m\n\u001b[1;32m    146\u001b[0m \u001b[38;5;28;01mif\u001b[39;00m last:\n",
      "File \u001b[0;32m~/Documents/Code/pdstools-polars/pega-datascientist-tools/python/docs/source/articles/../../../pdstools/adm/ADMDatamart.py:615\u001b[0m, in \u001b[0;36mADMDatamart._apply_query\u001b[0;34m(self, df, query)\u001b[0m\n\u001b[1;32m    608\u001b[0m \u001b[38;5;28mprint\u001b[39m(\n\u001b[1;32m    609\u001b[0m     \u001b[38;5;124m\"\u001b[39m\u001b[38;5;124mPandas query detected. This will be slow, and only works in eager mode \u001b[39m\u001b[38;5;124m\"\u001b[39m,\n\u001b[1;32m    610\u001b[0m     \u001b[38;5;124m\"\u001b[39m\u001b[38;5;124mbecause we turn the dataframe to pandas, query, and then turn it back \u001b[39m\u001b[38;5;124m\"\u001b[39m,\n\u001b[1;32m    611\u001b[0m     \u001b[38;5;124m\"\u001b[39m\u001b[38;5;124mto Polars. For faster performance, please pass a Polars Expression \u001b[39m\u001b[38;5;124m\"\u001b[39m,\n\u001b[1;32m    612\u001b[0m     \u001b[38;5;124m\"\u001b[39m\u001b[38;5;124mwhich can be used in the `filter()` method.\u001b[39m\u001b[38;5;124m\"\u001b[39m,\n\u001b[1;32m    613\u001b[0m )\n\u001b[1;32m    614\u001b[0m \u001b[38;5;28;01mif\u001b[39;00m \u001b[38;5;28misinstance\u001b[39m(df, pl\u001b[38;5;241m.\u001b[39mLazyFrame):\n\u001b[0;32m--> 615\u001b[0m     \u001b[38;5;28;01mraise\u001b[39;00m NotEagerError(\u001b[38;5;124m\"\u001b[39m\u001b[38;5;124mApplying pandas queries\u001b[39m\u001b[38;5;124m\"\u001b[39m)\n\u001b[1;32m    616\u001b[0m \u001b[38;5;28;01melse\u001b[39;00m:\n\u001b[1;32m    617\u001b[0m     \u001b[38;5;28;01mreturn\u001b[39;00m pl\u001b[38;5;241m.\u001b[39mDataFrame(df\u001b[38;5;241m.\u001b[39mto_pandas()\u001b[38;5;241m.\u001b[39mquery(query))\n",
      "\u001b[0;31mNotEagerError\u001b[0m: Applying pandas queries is only possible in eager mode"
     ]
    }
   ],
   "source": [
    "CDHSample.plotScoreDistribution(query='ModelID == \"08ca1302-9fc0-57bf-9031-d4179d400493\"', show_each=False)"
   ]
  },
  {
   "cell_type": "markdown",
   "metadata": {},
   "source": [
    "Alternatively, we can also subset a model by its model name, and then further drill down by group/issue/channel/configuration. See the example below."
   ]
  },
  {
   "cell_type": "code",
   "execution_count": 13,
   "metadata": {
    "execution": {
     "iopub.execute_input": "2023-03-02T17:07:19.496457Z",
     "iopub.status.busy": "2023-03-02T17:07:19.496212Z",
     "iopub.status.idle": "2023-03-02T17:07:19.547118Z",
     "shell.execute_reply": "2023-03-02T17:07:19.545751Z"
    }
   },
   "outputs": [
    {
     "name": "stdout",
     "output_type": "stream",
     "text": [
      "Pandas query detected. This will be slow, and only works in eager mode  because we turn the dataframe to pandas, query, and then turn it back  to Polars. For faster performance, please pass a Polars Expression  which can be used in the `filter()` method.\n"
     ]
    },
    {
     "ename": "NotEagerError",
     "evalue": "Applying pandas queries is only possible in eager mode",
     "output_type": "error",
     "traceback": [
      "\u001b[0;31m---------------------------------------------------------------------------\u001b[0m",
      "\u001b[0;31mNotEagerError\u001b[0m                             Traceback (most recent call last)",
      "Cell \u001b[0;32mIn [13], line 1\u001b[0m\n\u001b[0;32m----> 1\u001b[0m \u001b[43mCDHSample\u001b[49m\u001b[38;5;241;43m.\u001b[39;49m\u001b[43mplotScoreDistribution\u001b[49m\u001b[43m(\u001b[49m\u001b[43mquery\u001b[49m\u001b[38;5;241;43m=\u001b[39;49m\u001b[38;5;124;43m'\u001b[39;49m\u001b[38;5;124;43mModelName == \u001b[39;49m\u001b[38;5;124;43m\"\u001b[39;49m\u001b[38;5;124;43mHomeOwners\u001b[39;49m\u001b[38;5;124;43m\"\u001b[39;49m\u001b[38;5;124;43m and Group == \u001b[39;49m\u001b[38;5;124;43m\"\u001b[39;49m\u001b[38;5;124;43mBundles\u001b[39;49m\u001b[38;5;124;43m\"\u001b[39;49m\u001b[38;5;124;43m and Issue == \u001b[39;49m\u001b[38;5;124;43m\"\u001b[39;49m\u001b[38;5;124;43mSales\u001b[39;49m\u001b[38;5;124;43m\"\u001b[39;49m\u001b[38;5;124;43m and Channel == \u001b[39;49m\u001b[38;5;124;43m\"\u001b[39;49m\u001b[38;5;124;43mWeb\u001b[39;49m\u001b[38;5;124;43m\"\u001b[39;49m\u001b[38;5;124;43m and Configuration == \u001b[39;49m\u001b[38;5;124;43m\"\u001b[39;49m\u001b[38;5;124;43mOmniAdaptiveModel\u001b[39;49m\u001b[38;5;124;43m\"\u001b[39;49m\u001b[38;5;124;43m'\u001b[39;49m\u001b[43m)\u001b[49m\n",
      "File \u001b[0;32m~/Documents/Code/pdstools-polars/pega-datascientist-tools/python/docs/source/articles/../../../pdstools/plots/plot_base.py:551\u001b[0m, in \u001b[0;36mPlots.plotScoreDistribution\u001b[0;34m(self, by, show_zero_responses, modelids, query, show_each, **kwargs)\u001b[0m\n\u001b[1;32m    541\u001b[0m table \u001b[38;5;241m=\u001b[39m \u001b[38;5;124m\"\u001b[39m\u001b[38;5;124mcombinedData\u001b[39m\u001b[38;5;124m\"\u001b[39m\n\u001b[1;32m    542\u001b[0m required_columns \u001b[38;5;241m=\u001b[39m {\n\u001b[1;32m    543\u001b[0m     \u001b[38;5;124m\"\u001b[39m\u001b[38;5;124mPredictorName\u001b[39m\u001b[38;5;124m\"\u001b[39m,\n\u001b[1;32m    544\u001b[0m     \u001b[38;5;124m\"\u001b[39m\u001b[38;5;124mName\u001b[39m\u001b[38;5;124m\"\u001b[39m,\n\u001b[0;32m   (...)\u001b[0m\n\u001b[1;32m    549\u001b[0m     \u001b[38;5;124m\"\u001b[39m\u001b[38;5;124mModelID\u001b[39m\u001b[38;5;124m\"\u001b[39m,\n\u001b[1;32m    550\u001b[0m }\n\u001b[0;32m--> 551\u001b[0m df, _ \u001b[38;5;241m=\u001b[39m \u001b[38;5;28;43mself\u001b[39;49m\u001b[38;5;241;43m.\u001b[39;49m\u001b[43m_subset_data\u001b[49m\u001b[43m(\u001b[49m\u001b[43mtable\u001b[49m\u001b[43m,\u001b[49m\u001b[43m \u001b[49m\u001b[43mrequired_columns\u001b[49m\u001b[43m,\u001b[49m\u001b[43m \u001b[49m\u001b[43mquery\u001b[49m\u001b[43m)\u001b[49m\n\u001b[1;32m    552\u001b[0m \u001b[38;5;28;01mif\u001b[39;00m modelids \u001b[38;5;129;01mis\u001b[39;00m \u001b[38;5;129;01mnot\u001b[39;00m \u001b[38;5;28;01mNone\u001b[39;00m:\n\u001b[1;32m    553\u001b[0m     df \u001b[38;5;241m=\u001b[39m df\u001b[38;5;241m.\u001b[39mfilter(pl\u001b[38;5;241m.\u001b[39mcol(\u001b[38;5;124m\"\u001b[39m\u001b[38;5;124mModelID\u001b[39m\u001b[38;5;124m\"\u001b[39m)\u001b[38;5;241m.\u001b[39mis_in(modelids))\n",
      "File \u001b[0;32m~/Documents/Code/pdstools-polars/pega-datascientist-tools/python/docs/source/articles/../../../pdstools/plots/plot_base.py:138\u001b[0m, in \u001b[0;36mPlots._subset_data\u001b[0;34m(self, table, required_columns, query, multi_snapshot, last, facets, active_only, include_cols)\u001b[0m\n\u001b[1;32m    132\u001b[0m     required_columns \u001b[38;5;241m=\u001b[39m required_columns\u001b[38;5;241m.\u001b[39munion(\u001b[38;5;28mself\u001b[39m\u001b[38;5;241m.\u001b[39mcontext_keys)\n\u001b[1;32m    134\u001b[0m \u001b[38;5;28;01massert\u001b[39;00m required_columns\u001b[38;5;241m.\u001b[39missubset(\n\u001b[1;32m    135\u001b[0m     df\u001b[38;5;241m.\u001b[39mcolumns\n\u001b[1;32m    136\u001b[0m ), \u001b[38;5;124mf\u001b[39m\u001b[38;5;124m\"\u001b[39m\u001b[38;5;124mThe following columns are missing in the data: \u001b[39m\u001b[38;5;132;01m{\u001b[39;00mrequired_columns \u001b[38;5;241m-\u001b[39m \u001b[38;5;28mset\u001b[39m(df\u001b[38;5;241m.\u001b[39mcolumns)\u001b[38;5;132;01m}\u001b[39;00m\u001b[38;5;124m\"\u001b[39m\n\u001b[0;32m--> 138\u001b[0m df \u001b[38;5;241m=\u001b[39m \u001b[38;5;28;43mself\u001b[39;49m\u001b[38;5;241;43m.\u001b[39;49m\u001b[43m_apply_query\u001b[49m\u001b[43m(\u001b[49m\u001b[43mdf\u001b[49m\u001b[43m,\u001b[49m\u001b[43m \u001b[49m\u001b[43mquery\u001b[49m\u001b[43m)\u001b[49m\n\u001b[1;32m    140\u001b[0m \u001b[38;5;66;03m# if multi_snapshot and not last:\u001b[39;00m\n\u001b[1;32m    141\u001b[0m \u001b[38;5;66;03m#     if not df[\"SnapshotTime\"].nunique() > 1:\u001b[39;00m\n\u001b[1;32m    142\u001b[0m \u001b[38;5;66;03m#         raise self.NotApplicableError(\u001b[39;00m\n\u001b[1;32m    143\u001b[0m \u001b[38;5;66;03m#             \"There is only one snapshot, so this visualisation doesn't make sense.\"\u001b[39;00m\n\u001b[1;32m    144\u001b[0m \u001b[38;5;66;03m#         ) #Move check to plots directly\u001b[39;00m\n\u001b[1;32m    146\u001b[0m \u001b[38;5;28;01mif\u001b[39;00m last:\n",
      "File \u001b[0;32m~/Documents/Code/pdstools-polars/pega-datascientist-tools/python/docs/source/articles/../../../pdstools/adm/ADMDatamart.py:615\u001b[0m, in \u001b[0;36mADMDatamart._apply_query\u001b[0;34m(self, df, query)\u001b[0m\n\u001b[1;32m    608\u001b[0m \u001b[38;5;28mprint\u001b[39m(\n\u001b[1;32m    609\u001b[0m     \u001b[38;5;124m\"\u001b[39m\u001b[38;5;124mPandas query detected. This will be slow, and only works in eager mode \u001b[39m\u001b[38;5;124m\"\u001b[39m,\n\u001b[1;32m    610\u001b[0m     \u001b[38;5;124m\"\u001b[39m\u001b[38;5;124mbecause we turn the dataframe to pandas, query, and then turn it back \u001b[39m\u001b[38;5;124m\"\u001b[39m,\n\u001b[1;32m    611\u001b[0m     \u001b[38;5;124m\"\u001b[39m\u001b[38;5;124mto Polars. For faster performance, please pass a Polars Expression \u001b[39m\u001b[38;5;124m\"\u001b[39m,\n\u001b[1;32m    612\u001b[0m     \u001b[38;5;124m\"\u001b[39m\u001b[38;5;124mwhich can be used in the `filter()` method.\u001b[39m\u001b[38;5;124m\"\u001b[39m,\n\u001b[1;32m    613\u001b[0m )\n\u001b[1;32m    614\u001b[0m \u001b[38;5;28;01mif\u001b[39;00m \u001b[38;5;28misinstance\u001b[39m(df, pl\u001b[38;5;241m.\u001b[39mLazyFrame):\n\u001b[0;32m--> 615\u001b[0m     \u001b[38;5;28;01mraise\u001b[39;00m NotEagerError(\u001b[38;5;124m\"\u001b[39m\u001b[38;5;124mApplying pandas queries\u001b[39m\u001b[38;5;124m\"\u001b[39m)\n\u001b[1;32m    616\u001b[0m \u001b[38;5;28;01melse\u001b[39;00m:\n\u001b[1;32m    617\u001b[0m     \u001b[38;5;28;01mreturn\u001b[39;00m pl\u001b[38;5;241m.\u001b[39mDataFrame(df\u001b[38;5;241m.\u001b[39mto_pandas()\u001b[38;5;241m.\u001b[39mquery(query))\n",
      "\u001b[0;31mNotEagerError\u001b[0m: Applying pandas queries is only possible in eager mode"
     ]
    }
   ],
   "source": [
    "CDHSample.plotScoreDistribution(query='ModelName == \"HomeOwners\" and Group == \"Bundles\" and Issue == \"Sales\" and Channel == \"Web\" and Configuration == \"OmniAdaptiveModel\"')"
   ]
  },
  {
   "cell_type": "markdown",
   "metadata": {},
   "source": [
    "Similarly, we can also display the distribution of a single predictor and its binning. This function loops through each predictor of a model and generates the binning image for that predictor. For that reason we recommend subsetting the predictor names ahead of time or, depending on how many predictors the model has, a lot of images will be generated."
   ]
  },
  {
   "cell_type": "code",
   "execution_count": 14,
   "metadata": {
    "execution": {
     "iopub.execute_input": "2023-03-02T17:07:19.551998Z",
     "iopub.status.busy": "2023-03-02T17:07:19.551713Z",
     "iopub.status.idle": "2023-03-02T17:07:19.592769Z",
     "shell.execute_reply": "2023-03-02T17:07:19.591939Z"
    }
   },
   "outputs": [
    {
     "name": "stdout",
     "output_type": "stream",
     "text": [
      "Pandas query detected. This will be slow, and only works in eager mode  because we turn the dataframe to pandas, query, and then turn it back  to Polars. For faster performance, please pass a Polars Expression  which can be used in the `filter()` method.\n"
     ]
    },
    {
     "ename": "NotEagerError",
     "evalue": "Applying pandas queries is only possible in eager mode",
     "output_type": "error",
     "traceback": [
      "\u001b[0;31m---------------------------------------------------------------------------\u001b[0m",
      "\u001b[0;31mNotEagerError\u001b[0m                             Traceback (most recent call last)",
      "Cell \u001b[0;32mIn [14], line 1\u001b[0m\n\u001b[0;32m----> 1\u001b[0m \u001b[43mCDHSample\u001b[49m\u001b[38;5;241;43m.\u001b[39;49m\u001b[43mplotPredictorBinning\u001b[49m\u001b[43m(\u001b[49m\u001b[43mquery\u001b[49m\u001b[38;5;241;43m=\u001b[39;49m\u001b[38;5;124;43mf\u001b[39;49m\u001b[38;5;124;43m'\u001b[39;49m\u001b[38;5;124;43mModelID == \u001b[39;49m\u001b[38;5;124;43m\"\u001b[39;49m\u001b[38;5;124;43m08ca1302-9fc0-57bf-9031-d4179d400493\u001b[39;49m\u001b[38;5;124;43m\"\u001b[39;49m\u001b[38;5;124;43m and PredictorName in \u001b[39;49m\u001b[38;5;132;43;01m{\u001b[39;49;00m\u001b[43m[\u001b[49m\u001b[38;5;124;43m\"\u001b[39;49m\u001b[38;5;124;43mCustomer.Age\u001b[39;49m\u001b[38;5;124;43m\"\u001b[39;49m\u001b[43m,\u001b[49m\u001b[43m \u001b[49m\u001b[38;5;124;43m\"\u001b[39;49m\u001b[38;5;124;43mCustomer.AnnualIncome\u001b[39;49m\u001b[38;5;124;43m\"\u001b[39;49m\u001b[43m,\u001b[49m\u001b[43m \u001b[49m\u001b[38;5;124;43m\"\u001b[39;49m\u001b[38;5;124;43mIH.Email.Outbound.Accepted.pxLastGroupID\u001b[39;49m\u001b[38;5;124;43m\"\u001b[39;49m\u001b[43m]\u001b[49m\u001b[38;5;132;43;01m}\u001b[39;49;00m\u001b[38;5;124;43m'\u001b[39;49m\u001b[43m,\u001b[49m\u001b[43m \u001b[49m\u001b[43mshow_each\u001b[49m\u001b[38;5;241;43m=\u001b[39;49m\u001b[38;5;28;43;01mTrue\u001b[39;49;00m\u001b[43m)\u001b[49m;\n",
      "File \u001b[0;32m~/Documents/Code/pdstools-polars/pega-datascientist-tools/python/docs/source/articles/../../../pdstools/plots/plot_base.py:626\u001b[0m, in \u001b[0;36mPlots.plotPredictorBinning\u001b[0;34m(self, predictors, modelids, show_each, query, **kwargs)\u001b[0m\n\u001b[1;32m    616\u001b[0m last \u001b[38;5;241m=\u001b[39m \u001b[38;5;28;01mTrue\u001b[39;00m\n\u001b[1;32m    617\u001b[0m required_columns \u001b[38;5;241m=\u001b[39m {\n\u001b[1;32m    618\u001b[0m     \u001b[38;5;124m\"\u001b[39m\u001b[38;5;124mPredictorName\u001b[39m\u001b[38;5;124m\"\u001b[39m,\n\u001b[1;32m    619\u001b[0m     \u001b[38;5;124m\"\u001b[39m\u001b[38;5;124mName\u001b[39m\u001b[38;5;124m\"\u001b[39m,\n\u001b[0;32m   (...)\u001b[0m\n\u001b[1;32m    624\u001b[0m     \u001b[38;5;124m\"\u001b[39m\u001b[38;5;124mModelID\u001b[39m\u001b[38;5;124m\"\u001b[39m,\n\u001b[1;32m    625\u001b[0m }\n\u001b[0;32m--> 626\u001b[0m df, _ \u001b[38;5;241m=\u001b[39m \u001b[38;5;28;43mself\u001b[39;49m\u001b[38;5;241;43m.\u001b[39;49m\u001b[43m_subset_data\u001b[49m\u001b[43m(\u001b[49m\u001b[43mtable\u001b[49m\u001b[43m,\u001b[49m\u001b[43m \u001b[49m\u001b[43mrequired_columns\u001b[49m\u001b[43m,\u001b[49m\u001b[43m \u001b[49m\u001b[43mquery\u001b[49m\u001b[43m,\u001b[49m\u001b[43m \u001b[49m\u001b[43mlast\u001b[49m\u001b[38;5;241;43m=\u001b[39;49m\u001b[43mlast\u001b[49m\u001b[43m)\u001b[49m\n\u001b[1;32m    627\u001b[0m df \u001b[38;5;241m=\u001b[39m df\u001b[38;5;241m.\u001b[39mfilter(pl\u001b[38;5;241m.\u001b[39mcol(\u001b[38;5;124m\"\u001b[39m\u001b[38;5;124mPredictorName\u001b[39m\u001b[38;5;124m\"\u001b[39m) \u001b[38;5;241m!=\u001b[39m \u001b[38;5;124m\"\u001b[39m\u001b[38;5;124mClassifier\u001b[39m\u001b[38;5;124m\"\u001b[39m)\n\u001b[1;32m    628\u001b[0m \u001b[38;5;28;01mif\u001b[39;00m modelids \u001b[38;5;129;01mis\u001b[39;00m \u001b[38;5;129;01mnot\u001b[39;00m \u001b[38;5;28;01mNone\u001b[39;00m:\n",
      "File \u001b[0;32m~/Documents/Code/pdstools-polars/pega-datascientist-tools/python/docs/source/articles/../../../pdstools/plots/plot_base.py:138\u001b[0m, in \u001b[0;36mPlots._subset_data\u001b[0;34m(self, table, required_columns, query, multi_snapshot, last, facets, active_only, include_cols)\u001b[0m\n\u001b[1;32m    132\u001b[0m     required_columns \u001b[38;5;241m=\u001b[39m required_columns\u001b[38;5;241m.\u001b[39munion(\u001b[38;5;28mself\u001b[39m\u001b[38;5;241m.\u001b[39mcontext_keys)\n\u001b[1;32m    134\u001b[0m \u001b[38;5;28;01massert\u001b[39;00m required_columns\u001b[38;5;241m.\u001b[39missubset(\n\u001b[1;32m    135\u001b[0m     df\u001b[38;5;241m.\u001b[39mcolumns\n\u001b[1;32m    136\u001b[0m ), \u001b[38;5;124mf\u001b[39m\u001b[38;5;124m\"\u001b[39m\u001b[38;5;124mThe following columns are missing in the data: \u001b[39m\u001b[38;5;132;01m{\u001b[39;00mrequired_columns \u001b[38;5;241m-\u001b[39m \u001b[38;5;28mset\u001b[39m(df\u001b[38;5;241m.\u001b[39mcolumns)\u001b[38;5;132;01m}\u001b[39;00m\u001b[38;5;124m\"\u001b[39m\n\u001b[0;32m--> 138\u001b[0m df \u001b[38;5;241m=\u001b[39m \u001b[38;5;28;43mself\u001b[39;49m\u001b[38;5;241;43m.\u001b[39;49m\u001b[43m_apply_query\u001b[49m\u001b[43m(\u001b[49m\u001b[43mdf\u001b[49m\u001b[43m,\u001b[49m\u001b[43m \u001b[49m\u001b[43mquery\u001b[49m\u001b[43m)\u001b[49m\n\u001b[1;32m    140\u001b[0m \u001b[38;5;66;03m# if multi_snapshot and not last:\u001b[39;00m\n\u001b[1;32m    141\u001b[0m \u001b[38;5;66;03m#     if not df[\"SnapshotTime\"].nunique() > 1:\u001b[39;00m\n\u001b[1;32m    142\u001b[0m \u001b[38;5;66;03m#         raise self.NotApplicableError(\u001b[39;00m\n\u001b[1;32m    143\u001b[0m \u001b[38;5;66;03m#             \"There is only one snapshot, so this visualisation doesn't make sense.\"\u001b[39;00m\n\u001b[1;32m    144\u001b[0m \u001b[38;5;66;03m#         ) #Move check to plots directly\u001b[39;00m\n\u001b[1;32m    146\u001b[0m \u001b[38;5;28;01mif\u001b[39;00m last:\n",
      "File \u001b[0;32m~/Documents/Code/pdstools-polars/pega-datascientist-tools/python/docs/source/articles/../../../pdstools/adm/ADMDatamart.py:615\u001b[0m, in \u001b[0;36mADMDatamart._apply_query\u001b[0;34m(self, df, query)\u001b[0m\n\u001b[1;32m    608\u001b[0m \u001b[38;5;28mprint\u001b[39m(\n\u001b[1;32m    609\u001b[0m     \u001b[38;5;124m\"\u001b[39m\u001b[38;5;124mPandas query detected. This will be slow, and only works in eager mode \u001b[39m\u001b[38;5;124m\"\u001b[39m,\n\u001b[1;32m    610\u001b[0m     \u001b[38;5;124m\"\u001b[39m\u001b[38;5;124mbecause we turn the dataframe to pandas, query, and then turn it back \u001b[39m\u001b[38;5;124m\"\u001b[39m,\n\u001b[1;32m    611\u001b[0m     \u001b[38;5;124m\"\u001b[39m\u001b[38;5;124mto Polars. For faster performance, please pass a Polars Expression \u001b[39m\u001b[38;5;124m\"\u001b[39m,\n\u001b[1;32m    612\u001b[0m     \u001b[38;5;124m\"\u001b[39m\u001b[38;5;124mwhich can be used in the `filter()` method.\u001b[39m\u001b[38;5;124m\"\u001b[39m,\n\u001b[1;32m    613\u001b[0m )\n\u001b[1;32m    614\u001b[0m \u001b[38;5;28;01mif\u001b[39;00m \u001b[38;5;28misinstance\u001b[39m(df, pl\u001b[38;5;241m.\u001b[39mLazyFrame):\n\u001b[0;32m--> 615\u001b[0m     \u001b[38;5;28;01mraise\u001b[39;00m NotEagerError(\u001b[38;5;124m\"\u001b[39m\u001b[38;5;124mApplying pandas queries\u001b[39m\u001b[38;5;124m\"\u001b[39m)\n\u001b[1;32m    616\u001b[0m \u001b[38;5;28;01melse\u001b[39;00m:\n\u001b[1;32m    617\u001b[0m     \u001b[38;5;28;01mreturn\u001b[39;00m pl\u001b[38;5;241m.\u001b[39mDataFrame(df\u001b[38;5;241m.\u001b[39mto_pandas()\u001b[38;5;241m.\u001b[39mquery(query))\n",
      "\u001b[0;31mNotEagerError\u001b[0m: Applying pandas queries is only possible in eager mode"
     ]
    }
   ],
   "source": [
    "CDHSample.plotPredictorBinning(query=f'ModelID == \"08ca1302-9fc0-57bf-9031-d4179d400493\" and PredictorName in {[\"Customer.Age\", \"Customer.AnnualIncome\", \"IH.Email.Outbound.Accepted.pxLastGroupID\"]}', show_each=True);"
   ]
  },
  {
   "cell_type": "markdown",
   "metadata": {},
   "source": [
    "Alternatively we can look at the performance of a predictor over multiple models. Again, we recommend subsetting the predictor names with a list to make it more legible. "
   ]
  },
  {
   "cell_type": "code",
   "execution_count": 15,
   "metadata": {
    "execution": {
     "iopub.execute_input": "2023-03-02T17:07:19.595700Z",
     "iopub.status.busy": "2023-03-02T17:07:19.595491Z",
     "iopub.status.idle": "2023-03-02T17:07:19.633468Z",
     "shell.execute_reply": "2023-03-02T17:07:19.632828Z"
    }
   },
   "outputs": [
    {
     "name": "stdout",
     "output_type": "stream",
     "text": [
      "Pandas query detected. This will be slow, and only works in eager mode  because we turn the dataframe to pandas, query, and then turn it back  to Polars. For faster performance, please pass a Polars Expression  which can be used in the `filter()` method.\n"
     ]
    },
    {
     "ename": "NotEagerError",
     "evalue": "Applying pandas queries is only possible in eager mode",
     "output_type": "error",
     "traceback": [
      "\u001b[0;31m---------------------------------------------------------------------------\u001b[0m",
      "\u001b[0;31mNotEagerError\u001b[0m                             Traceback (most recent call last)",
      "Cell \u001b[0;32mIn [15], line 1\u001b[0m\n\u001b[0;32m----> 1\u001b[0m \u001b[43mCDHSample\u001b[49m\u001b[38;5;241;43m.\u001b[39;49m\u001b[43mplotPredictorPerformance\u001b[49m\u001b[43m(\u001b[49m\u001b[43mquery\u001b[49m\u001b[38;5;241;43m=\u001b[39;49m\u001b[38;5;124;43mf\u001b[39;49m\u001b[38;5;124;43m'\u001b[39;49m\u001b[38;5;124;43mPredictorName in \u001b[39;49m\u001b[38;5;132;43;01m{\u001b[39;49;00m\u001b[43m[\u001b[49m\u001b[38;5;124;43m\"\u001b[39;49m\u001b[38;5;124;43mCustomer.Age\u001b[39;49m\u001b[38;5;124;43m\"\u001b[39;49m\u001b[43m,\u001b[49m\u001b[43m \u001b[49m\u001b[38;5;124;43m\"\u001b[39;49m\u001b[38;5;124;43mCustomer.AnnualIncome\u001b[39;49m\u001b[38;5;124;43m\"\u001b[39;49m\u001b[43m,\u001b[49m\u001b[43m \u001b[49m\u001b[38;5;124;43m\"\u001b[39;49m\u001b[38;5;124;43mIH.Email.Outbound.Accepted.pxLastGroupID\u001b[39;49m\u001b[38;5;124;43m\"\u001b[39;49m\u001b[43m]\u001b[49m\u001b[38;5;132;43;01m}\u001b[39;49;00m\u001b[38;5;124;43m'\u001b[39;49m\u001b[43m)\u001b[49m\n",
      "File \u001b[0;32m~/Documents/Code/pdstools-polars/pega-datascientist-tools/python/docs/source/articles/../../../pdstools/plots/plot_base.py:712\u001b[0m, in \u001b[0;36mPlots.plotPredictorPerformance\u001b[0;34m(self, top_n, active_only, to_plot, query, facets, **kwargs)\u001b[0m\n\u001b[1;32m    709\u001b[0m last \u001b[38;5;241m=\u001b[39m \u001b[38;5;28;01mTrue\u001b[39;00m\n\u001b[1;32m    710\u001b[0m required_columns \u001b[38;5;241m=\u001b[39m {\u001b[38;5;124m\"\u001b[39m\u001b[38;5;124mChannel\u001b[39m\u001b[38;5;124m\"\u001b[39m, \u001b[38;5;124m\"\u001b[39m\u001b[38;5;124mPredictorName\u001b[39m\u001b[38;5;124m\"\u001b[39m, to_plot, \u001b[38;5;124m\"\u001b[39m\u001b[38;5;124mType\u001b[39m\u001b[38;5;124m\"\u001b[39m}\n\u001b[0;32m--> 712\u001b[0m df, facets \u001b[38;5;241m=\u001b[39m \u001b[38;5;28;43mself\u001b[39;49m\u001b[38;5;241;43m.\u001b[39;49m\u001b[43m_subset_data\u001b[49m\u001b[43m(\u001b[49m\n\u001b[1;32m    713\u001b[0m \u001b[43m    \u001b[49m\u001b[43mtable\u001b[49m\u001b[43m,\u001b[49m\n\u001b[1;32m    714\u001b[0m \u001b[43m    \u001b[49m\u001b[43mrequired_columns\u001b[49m\u001b[43m,\u001b[49m\n\u001b[1;32m    715\u001b[0m \u001b[43m    \u001b[49m\u001b[43mquery\u001b[49m\u001b[43m,\u001b[49m\n\u001b[1;32m    716\u001b[0m \u001b[43m    \u001b[49m\u001b[43mlast\u001b[49m\u001b[38;5;241;43m=\u001b[39;49m\u001b[43mlast\u001b[49m\u001b[43m,\u001b[49m\n\u001b[1;32m    717\u001b[0m \u001b[43m    \u001b[49m\u001b[43mfacets\u001b[49m\u001b[38;5;241;43m=\u001b[39;49m\u001b[43mfacets\u001b[49m\u001b[43m,\u001b[49m\n\u001b[1;32m    718\u001b[0m \u001b[43m    \u001b[49m\u001b[43mactive_only\u001b[49m\u001b[38;5;241;43m=\u001b[39;49m\u001b[43mactive_only\u001b[49m\u001b[43m,\u001b[49m\n\u001b[1;32m    719\u001b[0m \u001b[43m\u001b[49m\u001b[43m)\u001b[49m\n\u001b[1;32m    720\u001b[0m df \u001b[38;5;241m=\u001b[39m df\u001b[38;5;241m.\u001b[39mfilter(pl\u001b[38;5;241m.\u001b[39mcol(\u001b[38;5;124m\"\u001b[39m\u001b[38;5;124mPredictorName\u001b[39m\u001b[38;5;124m\"\u001b[39m) \u001b[38;5;241m!=\u001b[39m \u001b[38;5;124m\"\u001b[39m\u001b[38;5;124mClassifier\u001b[39m\u001b[38;5;124m\"\u001b[39m)\n\u001b[1;32m    722\u001b[0m df \u001b[38;5;241m=\u001b[39m \u001b[38;5;28mself\u001b[39m\u001b[38;5;241m.\u001b[39mtop_n(df, top_n, to_plot)  \u001b[38;5;66;03m# TODO: add groupby\u001b[39;00m\n",
      "File \u001b[0;32m~/Documents/Code/pdstools-polars/pega-datascientist-tools/python/docs/source/articles/../../../pdstools/plots/plot_base.py:138\u001b[0m, in \u001b[0;36mPlots._subset_data\u001b[0;34m(self, table, required_columns, query, multi_snapshot, last, facets, active_only, include_cols)\u001b[0m\n\u001b[1;32m    132\u001b[0m     required_columns \u001b[38;5;241m=\u001b[39m required_columns\u001b[38;5;241m.\u001b[39munion(\u001b[38;5;28mself\u001b[39m\u001b[38;5;241m.\u001b[39mcontext_keys)\n\u001b[1;32m    134\u001b[0m \u001b[38;5;28;01massert\u001b[39;00m required_columns\u001b[38;5;241m.\u001b[39missubset(\n\u001b[1;32m    135\u001b[0m     df\u001b[38;5;241m.\u001b[39mcolumns\n\u001b[1;32m    136\u001b[0m ), \u001b[38;5;124mf\u001b[39m\u001b[38;5;124m\"\u001b[39m\u001b[38;5;124mThe following columns are missing in the data: \u001b[39m\u001b[38;5;132;01m{\u001b[39;00mrequired_columns \u001b[38;5;241m-\u001b[39m \u001b[38;5;28mset\u001b[39m(df\u001b[38;5;241m.\u001b[39mcolumns)\u001b[38;5;132;01m}\u001b[39;00m\u001b[38;5;124m\"\u001b[39m\n\u001b[0;32m--> 138\u001b[0m df \u001b[38;5;241m=\u001b[39m \u001b[38;5;28;43mself\u001b[39;49m\u001b[38;5;241;43m.\u001b[39;49m\u001b[43m_apply_query\u001b[49m\u001b[43m(\u001b[49m\u001b[43mdf\u001b[49m\u001b[43m,\u001b[49m\u001b[43m \u001b[49m\u001b[43mquery\u001b[49m\u001b[43m)\u001b[49m\n\u001b[1;32m    140\u001b[0m \u001b[38;5;66;03m# if multi_snapshot and not last:\u001b[39;00m\n\u001b[1;32m    141\u001b[0m \u001b[38;5;66;03m#     if not df[\"SnapshotTime\"].nunique() > 1:\u001b[39;00m\n\u001b[1;32m    142\u001b[0m \u001b[38;5;66;03m#         raise self.NotApplicableError(\u001b[39;00m\n\u001b[1;32m    143\u001b[0m \u001b[38;5;66;03m#             \"There is only one snapshot, so this visualisation doesn't make sense.\"\u001b[39;00m\n\u001b[1;32m    144\u001b[0m \u001b[38;5;66;03m#         ) #Move check to plots directly\u001b[39;00m\n\u001b[1;32m    146\u001b[0m \u001b[38;5;28;01mif\u001b[39;00m last:\n",
      "File \u001b[0;32m~/Documents/Code/pdstools-polars/pega-datascientist-tools/python/docs/source/articles/../../../pdstools/adm/ADMDatamart.py:615\u001b[0m, in \u001b[0;36mADMDatamart._apply_query\u001b[0;34m(self, df, query)\u001b[0m\n\u001b[1;32m    608\u001b[0m \u001b[38;5;28mprint\u001b[39m(\n\u001b[1;32m    609\u001b[0m     \u001b[38;5;124m\"\u001b[39m\u001b[38;5;124mPandas query detected. This will be slow, and only works in eager mode \u001b[39m\u001b[38;5;124m\"\u001b[39m,\n\u001b[1;32m    610\u001b[0m     \u001b[38;5;124m\"\u001b[39m\u001b[38;5;124mbecause we turn the dataframe to pandas, query, and then turn it back \u001b[39m\u001b[38;5;124m\"\u001b[39m,\n\u001b[1;32m    611\u001b[0m     \u001b[38;5;124m\"\u001b[39m\u001b[38;5;124mto Polars. For faster performance, please pass a Polars Expression \u001b[39m\u001b[38;5;124m\"\u001b[39m,\n\u001b[1;32m    612\u001b[0m     \u001b[38;5;124m\"\u001b[39m\u001b[38;5;124mwhich can be used in the `filter()` method.\u001b[39m\u001b[38;5;124m\"\u001b[39m,\n\u001b[1;32m    613\u001b[0m )\n\u001b[1;32m    614\u001b[0m \u001b[38;5;28;01mif\u001b[39;00m \u001b[38;5;28misinstance\u001b[39m(df, pl\u001b[38;5;241m.\u001b[39mLazyFrame):\n\u001b[0;32m--> 615\u001b[0m     \u001b[38;5;28;01mraise\u001b[39;00m NotEagerError(\u001b[38;5;124m\"\u001b[39m\u001b[38;5;124mApplying pandas queries\u001b[39m\u001b[38;5;124m\"\u001b[39m)\n\u001b[1;32m    616\u001b[0m \u001b[38;5;28;01melse\u001b[39;00m:\n\u001b[1;32m    617\u001b[0m     \u001b[38;5;28;01mreturn\u001b[39;00m pl\u001b[38;5;241m.\u001b[39mDataFrame(df\u001b[38;5;241m.\u001b[39mto_pandas()\u001b[38;5;241m.\u001b[39mquery(query))\n",
      "\u001b[0;31mNotEagerError\u001b[0m: Applying pandas queries is only possible in eager mode"
     ]
    }
   ],
   "source": [
    "CDHSample.plotPredictorPerformance(query=f'PredictorName in {[\"Customer.Age\", \"Customer.AnnualIncome\", \"IH.Email.Outbound.Accepted.pxLastGroupID\"]}')"
   ]
  },
  {
   "cell_type": "markdown",
   "metadata": {},
   "source": [
    "What the two previous visualisations could not represent very well is the performance of the predictors over different models. That is what the plotPredictorPerformanceHeatmap function does; again with subsetting of predictors as a recommended step."
   ]
  },
  {
   "cell_type": "code",
   "execution_count": 16,
   "metadata": {
    "execution": {
     "iopub.execute_input": "2023-03-02T17:07:19.636505Z",
     "iopub.status.busy": "2023-03-02T17:07:19.636284Z",
     "iopub.status.idle": "2023-03-02T17:07:19.673591Z",
     "shell.execute_reply": "2023-03-02T17:07:19.672865Z"
    }
   },
   "outputs": [
    {
     "name": "stdout",
     "output_type": "stream",
     "text": [
      "Pandas query detected. This will be slow, and only works in eager mode  because we turn the dataframe to pandas, query, and then turn it back  to Polars. For faster performance, please pass a Polars Expression  which can be used in the `filter()` method.\n"
     ]
    },
    {
     "ename": "NotEagerError",
     "evalue": "Applying pandas queries is only possible in eager mode",
     "output_type": "error",
     "traceback": [
      "\u001b[0;31m---------------------------------------------------------------------------\u001b[0m",
      "\u001b[0;31mNotEagerError\u001b[0m                             Traceback (most recent call last)",
      "Cell \u001b[0;32mIn [16], line 1\u001b[0m\n\u001b[0;32m----> 1\u001b[0m \u001b[43mCDHSample\u001b[49m\u001b[38;5;241;43m.\u001b[39;49m\u001b[43mplotPredictorPerformanceHeatmap\u001b[49m\u001b[43m(\u001b[49m\u001b[43mquery\u001b[49m\u001b[38;5;241;43m=\u001b[39;49m\u001b[38;5;124;43mf\u001b[39;49m\u001b[38;5;124;43m'\u001b[39;49m\u001b[38;5;124;43mPredictorName in \u001b[39;49m\u001b[38;5;132;43;01m{\u001b[39;49;00m\u001b[43m[\u001b[49m\u001b[38;5;124;43m\"\u001b[39;49m\u001b[38;5;124;43mCustomer.Age\u001b[39;49m\u001b[38;5;124;43m\"\u001b[39;49m\u001b[43m,\u001b[49m\u001b[43m \u001b[49m\u001b[38;5;124;43m\"\u001b[39;49m\u001b[38;5;124;43mCustomer.AnnualIncome\u001b[39;49m\u001b[38;5;124;43m\"\u001b[39;49m\u001b[43m,\u001b[49m\u001b[43m \u001b[49m\u001b[38;5;124;43m\"\u001b[39;49m\u001b[38;5;124;43mIH.Email.Outbound.Accepted.pxLastGroupID\u001b[39;49m\u001b[38;5;124;43m\"\u001b[39;49m\u001b[43m]\u001b[49m\u001b[38;5;132;43;01m}\u001b[39;49;00m\u001b[38;5;124;43m'\u001b[39;49m\u001b[43m)\u001b[49m\n",
      "File \u001b[0;32m~/Documents/Code/pdstools-polars/pega-datascientist-tools/python/docs/source/articles/../../../pdstools/plots/plot_base.py:810\u001b[0m, in \u001b[0;36mPlots.plotPredictorPerformanceHeatmap\u001b[0;34m(self, top_n, by, active_only, query, facets, **kwargs)\u001b[0m\n\u001b[1;32m    808\u001b[0m \u001b[38;5;28;01mif\u001b[39;00m by \u001b[38;5;129;01mis\u001b[39;00m \u001b[38;5;129;01mnot\u001b[39;00m \u001b[38;5;28;01mNone\u001b[39;00m:\n\u001b[1;32m    809\u001b[0m     required_columns \u001b[38;5;241m=\u001b[39m required_columns\u001b[38;5;241m.\u001b[39munion({by, \u001b[38;5;124m\"\u001b[39m\u001b[38;5;124mResponseCount\u001b[39m\u001b[38;5;124m\"\u001b[39m})\n\u001b[0;32m--> 810\u001b[0m df, facets \u001b[38;5;241m=\u001b[39m \u001b[38;5;28;43mself\u001b[39;49m\u001b[38;5;241;43m.\u001b[39;49m\u001b[43m_subset_data\u001b[49m\u001b[43m(\u001b[49m\n\u001b[1;32m    811\u001b[0m \u001b[43m    \u001b[49m\u001b[43mtable\u001b[49m\u001b[43m,\u001b[49m\n\u001b[1;32m    812\u001b[0m \u001b[43m    \u001b[49m\u001b[43mrequired_columns\u001b[49m\u001b[43m,\u001b[49m\n\u001b[1;32m    813\u001b[0m \u001b[43m    \u001b[49m\u001b[43mquery\u001b[49m\u001b[43m,\u001b[49m\n\u001b[1;32m    814\u001b[0m \u001b[43m    \u001b[49m\u001b[43mactive_only\u001b[49m\u001b[38;5;241;43m=\u001b[39;49m\u001b[43mactive_only\u001b[49m\u001b[43m,\u001b[49m\n\u001b[1;32m    815\u001b[0m \u001b[43m    \u001b[49m\u001b[43mfacets\u001b[49m\u001b[38;5;241;43m=\u001b[39;49m\u001b[43mfacets\u001b[49m\u001b[43m,\u001b[49m\n\u001b[1;32m    816\u001b[0m \u001b[43m    \u001b[49m\u001b[43mlast\u001b[49m\u001b[38;5;241;43m=\u001b[39;49m\u001b[38;5;28;43;01mTrue\u001b[39;49;00m\u001b[43m,\u001b[49m\n\u001b[1;32m    817\u001b[0m \u001b[43m\u001b[49m\u001b[43m)\u001b[49m\n\u001b[1;32m    818\u001b[0m df \u001b[38;5;241m=\u001b[39m df\u001b[38;5;241m.\u001b[39mfilter(pl\u001b[38;5;241m.\u001b[39mcol(\u001b[38;5;124m\"\u001b[39m\u001b[38;5;124mPredictorName\u001b[39m\u001b[38;5;124m\"\u001b[39m) \u001b[38;5;241m!=\u001b[39m \u001b[38;5;124m\"\u001b[39m\u001b[38;5;124mClassifier\u001b[39m\u001b[38;5;124m\"\u001b[39m)\n\u001b[1;32m    820\u001b[0m \u001b[38;5;66;03m# TODO: implement facets.\u001b[39;00m\n",
      "File \u001b[0;32m~/Documents/Code/pdstools-polars/pega-datascientist-tools/python/docs/source/articles/../../../pdstools/plots/plot_base.py:138\u001b[0m, in \u001b[0;36mPlots._subset_data\u001b[0;34m(self, table, required_columns, query, multi_snapshot, last, facets, active_only, include_cols)\u001b[0m\n\u001b[1;32m    132\u001b[0m     required_columns \u001b[38;5;241m=\u001b[39m required_columns\u001b[38;5;241m.\u001b[39munion(\u001b[38;5;28mself\u001b[39m\u001b[38;5;241m.\u001b[39mcontext_keys)\n\u001b[1;32m    134\u001b[0m \u001b[38;5;28;01massert\u001b[39;00m required_columns\u001b[38;5;241m.\u001b[39missubset(\n\u001b[1;32m    135\u001b[0m     df\u001b[38;5;241m.\u001b[39mcolumns\n\u001b[1;32m    136\u001b[0m ), \u001b[38;5;124mf\u001b[39m\u001b[38;5;124m\"\u001b[39m\u001b[38;5;124mThe following columns are missing in the data: \u001b[39m\u001b[38;5;132;01m{\u001b[39;00mrequired_columns \u001b[38;5;241m-\u001b[39m \u001b[38;5;28mset\u001b[39m(df\u001b[38;5;241m.\u001b[39mcolumns)\u001b[38;5;132;01m}\u001b[39;00m\u001b[38;5;124m\"\u001b[39m\n\u001b[0;32m--> 138\u001b[0m df \u001b[38;5;241m=\u001b[39m \u001b[38;5;28;43mself\u001b[39;49m\u001b[38;5;241;43m.\u001b[39;49m\u001b[43m_apply_query\u001b[49m\u001b[43m(\u001b[49m\u001b[43mdf\u001b[49m\u001b[43m,\u001b[49m\u001b[43m \u001b[49m\u001b[43mquery\u001b[49m\u001b[43m)\u001b[49m\n\u001b[1;32m    140\u001b[0m \u001b[38;5;66;03m# if multi_snapshot and not last:\u001b[39;00m\n\u001b[1;32m    141\u001b[0m \u001b[38;5;66;03m#     if not df[\"SnapshotTime\"].nunique() > 1:\u001b[39;00m\n\u001b[1;32m    142\u001b[0m \u001b[38;5;66;03m#         raise self.NotApplicableError(\u001b[39;00m\n\u001b[1;32m    143\u001b[0m \u001b[38;5;66;03m#             \"There is only one snapshot, so this visualisation doesn't make sense.\"\u001b[39;00m\n\u001b[1;32m    144\u001b[0m \u001b[38;5;66;03m#         ) #Move check to plots directly\u001b[39;00m\n\u001b[1;32m    146\u001b[0m \u001b[38;5;28;01mif\u001b[39;00m last:\n",
      "File \u001b[0;32m~/Documents/Code/pdstools-polars/pega-datascientist-tools/python/docs/source/articles/../../../pdstools/adm/ADMDatamart.py:615\u001b[0m, in \u001b[0;36mADMDatamart._apply_query\u001b[0;34m(self, df, query)\u001b[0m\n\u001b[1;32m    608\u001b[0m \u001b[38;5;28mprint\u001b[39m(\n\u001b[1;32m    609\u001b[0m     \u001b[38;5;124m\"\u001b[39m\u001b[38;5;124mPandas query detected. This will be slow, and only works in eager mode \u001b[39m\u001b[38;5;124m\"\u001b[39m,\n\u001b[1;32m    610\u001b[0m     \u001b[38;5;124m\"\u001b[39m\u001b[38;5;124mbecause we turn the dataframe to pandas, query, and then turn it back \u001b[39m\u001b[38;5;124m\"\u001b[39m,\n\u001b[1;32m    611\u001b[0m     \u001b[38;5;124m\"\u001b[39m\u001b[38;5;124mto Polars. For faster performance, please pass a Polars Expression \u001b[39m\u001b[38;5;124m\"\u001b[39m,\n\u001b[1;32m    612\u001b[0m     \u001b[38;5;124m\"\u001b[39m\u001b[38;5;124mwhich can be used in the `filter()` method.\u001b[39m\u001b[38;5;124m\"\u001b[39m,\n\u001b[1;32m    613\u001b[0m )\n\u001b[1;32m    614\u001b[0m \u001b[38;5;28;01mif\u001b[39;00m \u001b[38;5;28misinstance\u001b[39m(df, pl\u001b[38;5;241m.\u001b[39mLazyFrame):\n\u001b[0;32m--> 615\u001b[0m     \u001b[38;5;28;01mraise\u001b[39;00m NotEagerError(\u001b[38;5;124m\"\u001b[39m\u001b[38;5;124mApplying pandas queries\u001b[39m\u001b[38;5;124m\"\u001b[39m)\n\u001b[1;32m    616\u001b[0m \u001b[38;5;28;01melse\u001b[39;00m:\n\u001b[1;32m    617\u001b[0m     \u001b[38;5;28;01mreturn\u001b[39;00m pl\u001b[38;5;241m.\u001b[39mDataFrame(df\u001b[38;5;241m.\u001b[39mto_pandas()\u001b[38;5;241m.\u001b[39mquery(query))\n",
      "\u001b[0;31mNotEagerError\u001b[0m: Applying pandas queries is only possible in eager mode"
     ]
    }
   ],
   "source": [
    "CDHSample.plotPredictorPerformanceHeatmap(query=f'PredictorName in {[\"Customer.Age\", \"Customer.AnnualIncome\", \"IH.Email.Outbound.Accepted.pxLastGroupID\"]}')"
   ]
  }
 ],
 "metadata": {
  "interpreter": {
   "hash": "31f2aee4e71d21fbe5cf8b01ff0e069b9275f58929596ceb00d14d90e3e16cd6"
  },
  "kernelspec": {
   "display_name": "Python 3.8.2 64-bit",
   "language": "python",
   "name": "python3"
  },
  "language_info": {
   "codemirror_mode": {
    "name": "ipython",
    "version": 3
   },
   "file_extension": ".py",
   "mimetype": "text/x-python",
   "name": "python",
   "nbconvert_exporter": "python",
   "pygments_lexer": "ipython3",
   "version": "3.11.0"
  }
 },
 "nbformat": 4,
 "nbformat_minor": 2
}
