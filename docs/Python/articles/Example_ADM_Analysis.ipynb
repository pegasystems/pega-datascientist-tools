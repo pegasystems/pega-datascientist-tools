{
 "cells": [
  {
   "cell_type": "markdown",
   "metadata": {
    "nbsphinx": "hidden"
   },
   "source": [
    "## Link to article\n",
    "\n",
    "This notebook is included in the documentation, where the interactive Plotly charts show up. See:\n",
    "https://pegasystems.github.io/pega-datascientist-tools/Python/articles/Example_ADM_Analysis.html"
   ]
  },
  {
   "cell_type": "markdown",
   "metadata": {},
   "source": [
    "# Example ADM analysis\n",
    "See this notebook for an introduction to the ADMDatamart class to get an overview of the currently implemented features in the Python version of CDH Tools. If you have any suggestions for new features, please do not hesitate to raise an issue in Git, or even better: create a pull request yourself!\n",
    "\n",
    "This notebook builds upon the [Getting Started guide](https://github.com/pegasystems/pega-datascientist-tools/wiki#using-the-python-tools). "
   ]
  },
  {
   "cell_type": "markdown",
   "metadata": {},
   "source": [
    "## Reading the data\n",
    "Reading the data is quite simple. All you need to do is to give a directory location to the ADMSnapshot class and it will automatically detect the latest files and import them. There is also a default function to import the CDH Sample data directly from the internet, as you can see below:"
   ]
  },
  {
   "cell_type": "code",
   "execution_count": 1,
   "metadata": {
    "execution": {
     "iopub.execute_input": "2023-03-14T17:30:37.047177Z",
     "iopub.status.busy": "2023-03-14T17:30:37.046942Z",
     "iopub.status.idle": "2023-03-14T17:30:37.350837Z",
     "shell.execute_reply": "2023-03-14T17:30:37.349997Z"
    },
    "nbsphinx": "hidden"
   },
   "outputs": [],
   "source": [
    "# These lines are only for rendering in the docs, and are hidden through Jupyter tags\n",
    "# Do not run if you're running the notebook seperately\n",
    "\n",
    "import plotly.io as pio\n",
    "\n",
    "pio.renderers.default = \"notebook_connected\"\n",
    "\n",
    "import sys\n",
    "\n",
    "sys.path.append(\"../../../\")\n"
   ]
  },
  {
   "cell_type": "code",
   "execution_count": 2,
   "metadata": {
    "execution": {
     "iopub.execute_input": "2023-03-14T17:30:37.356310Z",
     "iopub.status.busy": "2023-03-14T17:30:37.355660Z",
     "iopub.status.idle": "2023-03-14T17:30:41.146059Z",
     "shell.execute_reply": "2023-03-14T17:30:41.145390Z"
    }
   },
   "outputs": [],
   "source": [
    "from pdstools import ADMDatamart, datasets\n",
    "import polars as pl\n",
    "\n",
    "CDHSample = datasets.CDHSample()\n"
   ]
  },
  {
   "cell_type": "markdown",
   "metadata": {},
   "source": [
    "## Visualisations\n",
    "The following visualisations are currently available in the python version of CDH Tools. See the table below for which visualisations are applicable to what types of data:"
   ]
  },
  {
   "cell_type": "code",
   "execution_count": 3,
   "metadata": {
    "execution": {
     "iopub.execute_input": "2023-03-14T17:30:41.149472Z",
     "iopub.status.busy": "2023-03-14T17:30:41.149137Z",
     "iopub.status.idle": "2023-03-14T17:30:41.157705Z",
     "shell.execute_reply": "2023-03-14T17:30:41.157096Z"
    }
   },
   "outputs": [
    {
     "data": {
      "text/html": [
       "<div><style>\n",
       ".dataframe > thead > tr > th,\n",
       ".dataframe > tbody > tr > td {\n",
       "  text-align: right;\n",
       "}\n",
       "</style>\n",
       "<small>shape: (13, 4)</small><table border=\"1\" class=\"dataframe\"><thead><tr><th>Type</th><th>modelData</th><th>predictorData</th><th>Multiple snapshots</th></tr><tr><td>str</td><td>i64</td><td>i64</td><td>i64</td></tr></thead><tbody><tr><td>&quot;plotPerformanc...</td><td>1</td><td>0</td><td>0</td></tr><tr><td>&quot;plotPerformanc...</td><td>1</td><td>0</td><td>1</td></tr><tr><td>&quot;plotOverTime&quot;</td><td>1</td><td>0</td><td>1</td></tr><tr><td>&quot;plotResponseCo...</td><td>1</td><td>0</td><td>1</td></tr><tr><td>&quot;plotPropositio...</td><td>1</td><td>0</td><td>0</td></tr><tr><td>&quot;plotScoreDistr...</td><td>1</td><td>1</td><td>0</td></tr><tr><td>&quot;plotPredictorB...</td><td>1</td><td>1</td><td>0</td></tr><tr><td>&quot;plotPredictorP...</td><td>1</td><td>1</td><td>0</td></tr><tr><td>&quot;plotPredictorP...</td><td>1</td><td>1</td><td>0</td></tr><tr><td>&quot;plotImpactInfl...</td><td>1</td><td>1</td><td>0</td></tr><tr><td>&quot;plotResponseGa...</td><td>1</td><td>0</td><td>0</td></tr><tr><td>&quot;plotModelsByPo...</td><td>1</td><td>0</td><td>0</td></tr><tr><td>&quot;plotTreeMap&quot;</td><td>1</td><td>0</td><td>0</td></tr></tbody></table></div>"
      ],
      "text/plain": [
       "shape: (13, 4)\n",
       "┌─────────────────────────────────────┬───────────┬───────────────┬────────────────────┐\n",
       "│ Type                                ┆ modelData ┆ predictorData ┆ Multiple snapshots │\n",
       "│ ---                                 ┆ ---       ┆ ---           ┆ ---                │\n",
       "│ str                                 ┆ i64       ┆ i64           ┆ i64                │\n",
       "╞═════════════════════════════════════╪═══════════╪═══════════════╪════════════════════╡\n",
       "│ plotPerformanceSuccessRateBubble... ┆ 1         ┆ 0             ┆ 0                  │\n",
       "│ plotPerformanceAndSuccessRateOve... ┆ 1         ┆ 0             ┆ 1                  │\n",
       "│ plotOverTime                        ┆ 1         ┆ 0             ┆ 1                  │\n",
       "│ plotResponseCountMatrix             ┆ 1         ┆ 0             ┆ 1                  │\n",
       "│ ...                                 ┆ ...       ┆ ...           ┆ ...                │\n",
       "│ plotImpactInfluence                 ┆ 1         ┆ 1             ┆ 0                  │\n",
       "│ plotResponseGain                    ┆ 1         ┆ 0             ┆ 0                  │\n",
       "│ plotModelsByPositives               ┆ 1         ┆ 0             ┆ 0                  │\n",
       "│ plotTreeMap                         ┆ 1         ┆ 0             ┆ 0                  │\n",
       "└─────────────────────────────────────┴───────────┴───────────────┴────────────────────┘"
      ]
     },
     "execution_count": 3,
     "metadata": {},
     "output_type": "execute_result"
    }
   ],
   "source": [
    "CDHSample.AvailableVisualisations\n"
   ]
  },
  {
   "cell_type": "markdown",
   "metadata": {},
   "source": [
    "As you can see, every visualisation needs modelData, a few also need predictorData, and plotPerformanceAndSuccessRateOverTime, plotOverTime and plotResponseCountMatrix are the only visualisations requiring multiple snapshots.\n",
    "\n",
    "Let's quickly go over some easy ones to see what it does below. To start out with the bubble chart, which we can simply call by calling plotPerformanceSuccessRateBubbleChart with our main class."
   ]
  },
  {
   "cell_type": "code",
   "execution_count": 4,
   "metadata": {
    "execution": {
     "iopub.execute_input": "2023-03-14T17:30:41.160788Z",
     "iopub.status.busy": "2023-03-14T17:30:41.160576Z",
     "iopub.status.idle": "2023-03-14T17:30:41.433562Z",
     "shell.execute_reply": "2023-03-14T17:30:41.433114Z"
    }
   },
   "outputs": [
    {
     "data": {
      "text/html": [
       "        <script type=\"text/javascript\">\n",
       "        window.PlotlyConfig = {MathJaxConfig: 'local'};\n",
       "        if (window.MathJax && window.MathJax.Hub && window.MathJax.Hub.Config) {window.MathJax.Hub.Config({SVG: {font: \"STIX-Web\"}});}\n",
       "        if (typeof require !== 'undefined') {\n",
       "        require.undef(\"plotly\");\n",
       "        requirejs.config({\n",
       "            paths: {\n",
       "                'plotly': ['https://cdn.plot.ly/plotly-2.18.2.min']\n",
       "            }\n",
       "        });\n",
       "        require(['plotly'], function(Plotly) {\n",
       "            window._Plotly = Plotly;\n",
       "        });\n",
       "        }\n",
       "        </script>\n",
       "        "
      ]
     },
     "metadata": {},
     "output_type": "display_data"
    },
    {
     "data": {
      "text/html": [
       "<div>                            <div id=\"74e41200-5aec-48a0-8c37-11aedda648c5\" class=\"plotly-graph-div\" style=\"height:525px; width:100%;\"></div>            <script type=\"text/javascript\">                require([\"plotly\"], function(Plotly) {                    window.PLOTLYENV=window.PLOTLYENV || {};                                    if (document.getElementById(\"74e41200-5aec-48a0-8c37-11aedda648c5\")) {                    Plotly.newPlot(                        \"74e41200-5aec-48a0-8c37-11aedda648c5\",                        [{\"customdata\":[[\"f3afaa9b-d0d5-5be9-a3b9-9fdfc4847411\",\"Email\",\"Outbound\",\"Sales\",\"AutoLoans\"],[\"e4ea7a89-c394-5014-ac26-34b8eee475bd\",\"SMS\",\"Outbound\",\"Sales\",\"CreditCards\"],[\"1289c4af-1d3f-5265-9fe5-173e1ddaadc3\",\"SMS\",\"Outbound\",\"Sales\",\"HomeLoans\"],[\"3c892256-f415-5408-905d-3158345b10bf\",\"Email\",\"Outbound\",\"Sales\",\"Bundles\"],[\"a87d51fb-cfdc-598d-b84a-dcdd64e1e750\",\"Web\",\"Inbound\",\"Sales\",\"HomeLoans\"],[\"cc9b9b1b-c2f9-5e8c-a54a-f13e0559ebd6\",\"Email\",\"Outbound\",\"Sales\",\"CreditCards\"],[\"9e9e8c2e-6d19-538c-8e7b-a73070717ecf\",\"Web\",\"Inbound\",\"Sales\",\"CreditCards\"],[\"ea0a225a-7d09-5d90-88f6-d0e8380d67cc\",\"Web\",\"Inbound\",\"Sales\",\"DepositAccounts\"],[\"b27d8eb5-7ff6-5706-ae90-6d61ce695f78\",\"SMS\",\"Outbound\",\"Sales\",\"Bundles\"],[\"84107ad6-c998-5377-b0d0-e02be2a8d768\",\"Email\",\"Outbound\",\"Sales\",\"AutoLoans\"],[\"5ca51e1e-49f0-58d2-8ab7-4a0ccbb326fd\",\"SMS\",\"Outbound\",\"Sales\",\"DepositAccounts\"],[\"b216413c-8c2e-5e1b-860b-07dfc69efa69\",\"SMS\",\"Outbound\",\"Sales\",\"AutoLoans\"],[\"c8a529fb-9d2c-5069-a50f-42ee1ea9341a\",\"Web\",\"Inbound\",\"Services\",\"Account\"],[\"f9fc995f-3f02-5e9e-8e22-b72909054f3a\",\"SMS\",\"Outbound\",\"Sales\",\"AutoLoans\"],[\"59f06605-5b39-57dd-945b-637a72fa9085\",\"Web\",\"Inbound\",\"Sales\",\"CreditCards\"],[\"7ffc8c26-8473-5c8e-bcc3-48e5b162da7a\",\"SMS\",\"Outbound\",\"Sales\",\"CreditCards\"],[\"692f453a-f825-5a90-ab40-f83cbb34b058\",\"Web\",\"Inbound\",\"Sales\",\"HomeLoans\"],[\"b5338016-1fee-5745-80ee-7bd6d51f2920\",\"Email\",\"Outbound\",\"Sales\",\"CreditCards\"],[\"26dda9e0-34a2-5e0a-8ee2-fd0c39de729e\",\"SMS\",\"Outbound\",\"Sales\",\"CreditCards\"],[\"24f11deb-a6fa-59bf-b5f7-c61abffc9482\",\"Email\",\"Outbound\",\"Sales\",\"AutoLoans\"],[\"cb67c091-5a81-56f4-9845-71afa9c8076e\",\"Email\",\"Outbound\",\"Sales\",\"HomeLoans\"],[\"95ae0f10-297a-5c01-94d8-914bb89df969\",\"Web\",\"Inbound\",\"Sales\",\"DepositAccounts\"],[\"c3f445b2-6037-5560-9f16-71a7259d2c2c\",\"SMS\",\"Outbound\",\"Sales\",\"HomeLoans\"],[\"a8cde9d1-c720-537c-8fb8-8c59506bddfe\",\"Web\",\"Inbound\",\"Sales\",\"CreditCards\"],[\"34f7d1b9-92f7-57dc-ab62-0de35dda0221\",\"SMS\",\"Outbound\",\"Services\",\"Account\"],[\"69a8e56f-6327-5a66-a9a3-9b0c106641ec\",\"SMS\",\"Outbound\",\"Sales\",\"AutoLoans\"],[\"8e40882a-aacf-5f03-9be8-f833c7932da2\",\"Web\",\"Inbound\",\"Sales\",\"Bundles\"],[\"4efdb97d-288d-518f-a3e0-8314bbd7f2a3\",\"SMS\",\"Outbound\",\"Sales\",\"CreditCards\"],[\"470485f7-3b20-58f7-a3aa-1f12c2bb99b7\",\"Email\",\"Outbound\",\"Sales\",\"HomeLoans\"],[\"79e3f70f-dc6a-5bea-8006-02a6e91ad256\",\"Email\",\"Outbound\",\"Sales\",\"DepositAccounts\"],[\"98aeb30c-d896-51bd-b421-a650f0522335\",\"SMS\",\"Outbound\",\"Sales\",\"CreditCards\"],[\"08ca1302-9fc0-57bf-9031-d4179d400493\",\"Web\",\"Inbound\",\"Sales\",\"Bundles\"],[\"68e1d164-81e3-5da0-816c-0bbc3c20ac6c\",\"Web\",\"Inbound\",\"Sales\",\"AutoLoans\"],[\"c4cd4c00-87bf-562e-9ab8-20af64a81757\",\"Email\",\"Outbound\",\"Sales\",\"DepositAccounts\"],[\"c29ffcfa-5210-5998-a826-f3a8db57c610\",\"Web\",\"Inbound\",\"Sales\",\"CreditCards\"],[\"a8cd5e12-5d10-5b62-95f6-c5bb6344a83a\",\"Web\",\"Inbound\",\"Sales\",\"DepositAccounts\"],[\"708be173-0f46-55ee-add6-6fdca447a70a\",\"SMS\",\"Outbound\",\"Sales\",\"HomeLoans\"],[\"cffb1b5d-219e-5137-9036-4e2136be6a8f\",\"Email\",\"Outbound\",\"Sales\",\"DepositAccounts\"],[\"0b363d7f-68f8-5e9e-a843-40ca8849e05b\",\"Email\",\"Outbound\",\"Sales\",\"HomeLoans\"],[\"277a2c48-8888-5b71-911e-443d52c9b50f\",\"SMS\",\"Outbound\",\"Sales\",\"Bundles\"],[\"ab4592bc-df16-5372-86e7-0caea36ac877\",\"Email\",\"Outbound\",\"Sales\",\"CreditCards\"],[\"a75db3a2-fecc-5cc8-b75f-0a44447f9cca\",\"SMS\",\"Outbound\",\"Sales\",\"AutoLoans\"],[\"602303a4-5243-523d-8964-473f3ea1200b\",\"SMS\",\"Outbound\",\"Sales\",\"CreditCards\"],[\"30cc2c18-5852-581a-abaa-555bf46a3b9c\",\"Email\",\"Outbound\",\"Services\",\"Account\"],[\"320c4d01-43a5-510e-8fa8-1fc1bb4216da\",\"Email\",\"Outbound\",\"Sales\",\"Bundles\"],[\"0469930e-8d83-5c81-ba28-a8ec488f8e4d\",\"SMS\",\"Outbound\",\"Sales\",\"DepositAccounts\"],[\"d6e132b6-ad92-5ece-8db5-b42d9d151f73\",\"SMS\",\"Outbound\",\"Sales\",\"Bundles\"],[\"0ad9da35-f171-5ab9-973f-1cc4b89b4e8f\",\"Web\",\"Inbound\",\"Sales\",\"Bundles\"],[\"bd70a915-697a-5d43-ab2c-53b0557c85a0\",\"Email\",\"Outbound\",\"Sales\",\"AutoLoans\"],[\"d5e2f4b1-249a-58c0-8a2f-2d314eada5fe\",\"SMS\",\"Outbound\",\"Sales\",\"AutoLoans\"],[\"708f20ef-7ca1-58f4-9dfa-b7efb5342fcf\",\"Web\",\"Inbound\",\"Sales\",\"HomeLoans\"],[\"5cb8d642-390e-5c3e-8868-d34768f9535c\",\"Web\",\"Inbound\",\"Sales\",\"AutoLoans\"],[\"1be7cd72-741b-5d68-b148-c1af0142fd4a\",\"SMS\",\"Outbound\",\"Sales\",\"CreditCards\"],[\"838ca9ec-74ea-5a54-8c57-f45295116921\",\"SMS\",\"Outbound\",\"Services\",\"Account\"],[\"17571d69-f802-5122-9bfe-6f3f4ef9073b\",\"Web\",\"Inbound\",\"Sales\",\"CreditCards\"],[\"a63f2f06-1e31-5691-a6df-48916a066c23\",\"Email\",\"Outbound\",\"Sales\",\"DepositAccounts\"],[\"dd502275-e98b-51f7-8935-c30c84641871\",\"Web\",\"Inbound\",\"Services\",\"Account\"],[\"f38b5b50-b01b-5fd9-8120-7470320d6664\",\"SMS\",\"Outbound\",\"Sales\",\"DepositAccounts\"],[\"7d2046d5-be79-5f5a-a858-dcd9c65fd086\",\"Web\",\"Inbound\",\"Sales\",\"AutoLoans\"],[\"2c8e753a-9e85-5060-ac5b-073e79e755c0\",\"Email\",\"Outbound\",\"Sales\",\"CreditCards\"],[\"4954d7a5-b75e-5c71-89d6-e8340feb5022\",\"Email\",\"Outbound\",\"Sales\",\"DepositAccounts\"],[\"081d0acf-bfc3-5c0a-abc4-29106252efb8\",\"SMS\",\"Outbound\",\"Sales\",\"CreditCards\"],[\"aaf75ad6-c71a-5fd8-b2eb-782cdbd30337\",\"SMS\",\"Outbound\",\"Services\",\"Account\"],[\"bb02128b-d6df-52f3-9983-316f9fce47c7\",\"Email\",\"Outbound\",\"Sales\",\"CreditCards\"],[\"baae77a0-099a-5104-b7a9-b9b1a23290fc\",\"SMS\",\"Outbound\",\"Services\",\"Customer\"],[\"a7bb008a-0514-5d41-b014-3e0b1b308382\",\"SMS\",\"Outbound\",\"Sales\",\"DepositAccounts\"],[\"85d9dd89-93e5-55a0-b05f-e68bba9c97d1\",\"Email\",\"Outbound\",\"Sales\",\"CreditCards\"],[\"ebb6d905-7c43-5422-a813-f770feba7114\",\"Email\",\"Outbound\",\"Sales\",\"AutoLoans\"]],\"hovertemplate\":\"<b>%{hovertext}</b><br><br>Performance=%{marker.color}<br>SuccessRate=%{y}<br>ResponseCount=%{marker.size}<br>ModelID=%{customdata[0]}<br>Channel=%{customdata[1]}<br>Direction=%{customdata[2]}<br>Issue=%{customdata[3]}<br>Group=%{customdata[4]}<extra></extra>\",\"hovertext\":[\"AutoNew84Months\",\"PaymentProtection\",\"FirstMortgageFHA\",\"StudentChoice\",\"FirstMortgage\",\"IdentityTheftProtection\",\"MasterCardGold\",\"PremierChecking\",\"PremiumBanking\",\"AutoUsed60Months\",\"RegularSaving\",\"AutoUsed36Months\",\"IncreaseYourCreditLine\",\"AutoNew36Months\",\"PlatinumRewardsCard\",\"MasterCardWorld\",\"FirstMortgageFloat\",\"PaymentProtection\",\"ChannelAction_Template\",\"AutoUsed84Months\",\"FirstMortgageFHA\",\"MoneyMarketSavingsAccount\",\"FirstMortgage\",\"UPlusFinGold\",\"Services_ChannelAction_Template\",\"AutoNew48Months\",\"PremiumBanking\",\"MasterCardGold\",\"FirstMortgageFloat\",\"MoneyMarketSavingsAccount\",\"IdentityTheftProtection\",\"HomeOwners\",\"AutoNew84Months\",\"RegularSaving\",\"PaymentProtection\",\"SeniorChecking\",\"FirstMortgageFiveOneARM\",\"PremierChecking\",\"FirstMortgageFiveOneARM\",\"HomeOwners\",\"UPlusFinPersonal\",\"AutoUsed48Months\",\"UPlusFinPersonal\",\"Services_ChannelAction_Template\",\"PremiumBanking\",\"SeniorChecking\",\"SuperSaver\",\"SuperSaver\",\"AutoNew36Months\",\"AutoUsed84Months\",\"FirstMortgageFiveOneARM\",\"AutoUsed36Months\",\"VisaGold\",\"GoPaperless\",\"VisaGold\",\"BasicChecking\",\"Services_ChannelAction_Template\",\"MoneyMarketSavingsAccount\",\"AutoNew36Months\",\"UPlusFinGold\",\"SeniorChecking\",\"UPlusFinGold\",\"IncreaseYourCreditLine\",\"PlatinumRewardsCard\",\"MissingContactInformation\",\"PremierChecking\",\"MasterCardGold\",\"AutoNew48Months\"],\"legendgroup\":\"\",\"marker\":{\"color\":[64.2461,51.4945,52.7779,60.1887,64.7708,50.0,57.1711,52.4186,61.6472,65.3775,51.1978,54.2851,59.2788,60.5845,57.9772,55.1591,64.6733,52.5041,69.7884,50.0,67.6805,50.0,64.851,68.6745,71.0618,61.8246,65.264,50.0,50.0,50.0,53.0707,75.6002,77.4901,61.4512,58.1586,54.9147,65.202,52.1103,53.0007,77.3211,61.9665,69.3922,62.9893,62.9442,62.467,56.5227,61.812,75.7296,52.3734,62.2813,52.7198,57.8638,53.1863,71.2165,51.9586,51.0276,66.3954,51.3569,56.5041,53.496,54.9252,66.541,56.4527,50.0,62.2187,51.6802,50.0,58.0125],\"coloraxis\":\"coloraxis\",\"size\":[1184,722,477,5203,4076,808,835,4404,5052,1378,1221,1622,6471,5602,907,634,518,537,828,1243,362,1206,3946,3760,7287,5743,5176,1080,444,1096,855,4605,1636,1069,686,3024,482,3355,404,4976,3508,1447,3588,7415,5430,3424,1106,1267,5817,1347,449,1688,822,8174,778,3868,7073,1185,5499,3545,2883,3854,7668,989,7096,4658,875,5198],\"sizemode\":\"area\",\"sizeref\":20.435,\"symbol\":\"circle\",\"line\":{\"color\":\"black\"}},\"mode\":\"markers\",\"name\":\"\",\"orientation\":\"v\",\"showlegend\":false,\"x\":[64.2461,51.4945,52.7779,60.1887,64.7708,50.0,57.1711,52.4186,61.6472,65.3775,51.1978,54.2851,59.2788,60.5845,57.9772,55.1591,64.6733,52.5041,69.7884,50.0,67.6805,50.0,64.851,68.6745,71.0618,61.8246,65.264,50.0,50.0,50.0,53.0707,75.6002,77.4901,61.4512,58.1586,54.9147,65.202,52.1103,53.0007,77.3211,61.9665,69.3922,62.9893,62.9442,62.467,56.5227,61.812,75.7296,52.3734,62.2813,52.7198,57.8638,53.1863,71.2165,51.9586,51.0276,66.3954,51.3569,56.5041,53.496,54.9252,66.541,56.4527,50.0,62.2187,51.6802,50.0,58.0125],\"xaxis\":\"x\",\"y\":[5.65878,22.43767,10.06289,1.69133,22.15407,0.24752,2.15569,27.77021,2.0388,3.91872,6.38821,8.75462,4.18792,0.64263,1.54355,5.67823,2.50965,5.40037,6.28019,1.04586,3.59116,9.12106,16.85251,5.93085,3.25237,7.19136,1.95131,0.27778,0.45045,1.73358,1.16959,13.22476,12.59169,1.40318,25.07289,19.01455,10.37344,8.70343,2.47525,10.7717,1.53934,3.52453,5.18395,0.72825,0.44199,15.82944,12.02532,8.83978,0.20629,3.71195,17.37194,10.24882,3.28467,11.05946,5.9126,7.29059,5.08978,9.95781,2.49136,1.07193,5.06417,4.28127,2.60824,0.20222,18.94025,23.65822,0.57143,2.75106],\"yaxis\":\"y\",\"type\":\"scatter\"}],                        {\"template\":{\"layout\":{\"colorway\":[\"#001F5F\",\"#10A5AC\",\"#F76923\",\"#661D34\",\"#86CAC6\",\"#005154\",\"#86CAC6\",\"#5F67B9\",\"#FFC836\",\"#E63690\",\"#AC1361\",\"#63666F\",\"#A7A9B4\",\"#D0D1DB\"],\"hovermode\":\"closest\"}},\"xaxis\":{\"anchor\":\"y\",\"domain\":[0.0,1.0],\"title\":{\"text\":\"Performance\"}},\"yaxis\":{\"anchor\":\"x\",\"domain\":[0.0,1.0],\"title\":{\"text\":\"SuccessRate\"}},\"coloraxis\":{\"colorbar\":{\"title\":{\"text\":\"Performance\"}},\"colorscale\":[[0.0,\"#440154\"],[0.1111111111111111,\"#482878\"],[0.2222222222222222,\"#3e4989\"],[0.3333333333333333,\"#31688e\"],[0.4444444444444444,\"#26828e\"],[0.5555555555555556,\"#1f9e89\"],[0.6666666666666666,\"#35b779\"],[0.7777777777777778,\"#6ece58\"],[0.8888888888888888,\"#b5de2b\"],[1.0,\"#fde725\"]]},\"legend\":{\"tracegroupgap\":0,\"itemsizing\":\"constant\"},\"title\":{\"text\":\"Bubble Chart over all models <br><sup>68 models: 0 (0.0%) at (50,0)</sup>\"}},                        {\"responsive\": true}                    ).then(function(){\n",
       "                            \n",
       "var gd = document.getElementById('74e41200-5aec-48a0-8c37-11aedda648c5');\n",
       "var x = new MutationObserver(function (mutations, observer) {{\n",
       "        var display = window.getComputedStyle(gd).display;\n",
       "        if (!display || display === 'none') {{\n",
       "            console.log([gd, 'removed!']);\n",
       "            Plotly.purge(gd);\n",
       "            observer.disconnect();\n",
       "        }}\n",
       "}});\n",
       "\n",
       "// Listen for the removal of the full notebook cells\n",
       "var notebookContainer = gd.closest('#notebook-container');\n",
       "if (notebookContainer) {{\n",
       "    x.observe(notebookContainer, {childList: true});\n",
       "}}\n",
       "\n",
       "// Listen for the clearing of the current output cell\n",
       "var outputEl = gd.closest('.output');\n",
       "if (outputEl) {{\n",
       "    x.observe(outputEl, {childList: true});\n",
       "}}\n",
       "\n",
       "                        })                };                });            </script>        </div>"
      ]
     },
     "metadata": {},
     "output_type": "display_data"
    }
   ],
   "source": [
    "CDHSample.plotPerformanceSuccessRateBubbleChart()\n"
   ]
  },
  {
   "cell_type": "markdown",
   "metadata": {},
   "source": [
    "Looks like a healthy bubble plot, but sometimes it is useful to consider only certain models in the analysis. Note that the bubble chart automatically considers only the last snapshot by default, though this is a parameter. \n",
    "\n",
    "To reduce the information, let's only consider models with more than 500 responses within the CreditCards group. "
   ]
  },
  {
   "cell_type": "code",
   "execution_count": 5,
   "metadata": {
    "execution": {
     "iopub.execute_input": "2023-03-14T17:30:41.437007Z",
     "iopub.status.busy": "2023-03-14T17:30:41.436730Z",
     "iopub.status.idle": "2023-03-14T17:30:41.473691Z",
     "shell.execute_reply": "2023-03-14T17:30:41.473043Z"
    }
   },
   "outputs": [
    {
     "data": {
      "text/html": [
       "<div>                            <div id=\"b50a8578-98ac-4075-9b05-1db41d5ea234\" class=\"plotly-graph-div\" style=\"height:525px; width:100%;\"></div>            <script type=\"text/javascript\">                require([\"plotly\"], function(Plotly) {                    window.PLOTLYENV=window.PLOTLYENV || {};                                    if (document.getElementById(\"b50a8578-98ac-4075-9b05-1db41d5ea234\")) {                    Plotly.newPlot(                        \"b50a8578-98ac-4075-9b05-1db41d5ea234\",                        [{\"customdata\":[[\"e4ea7a89-c394-5014-ac26-34b8eee475bd\",\"SMS\",\"Outbound\",\"Sales\",\"CreditCards\"],[\"cc9b9b1b-c2f9-5e8c-a54a-f13e0559ebd6\",\"Email\",\"Outbound\",\"Sales\",\"CreditCards\"],[\"9e9e8c2e-6d19-538c-8e7b-a73070717ecf\",\"Web\",\"Inbound\",\"Sales\",\"CreditCards\"],[\"59f06605-5b39-57dd-945b-637a72fa9085\",\"Web\",\"Inbound\",\"Sales\",\"CreditCards\"],[\"7ffc8c26-8473-5c8e-bcc3-48e5b162da7a\",\"SMS\",\"Outbound\",\"Sales\",\"CreditCards\"],[\"b5338016-1fee-5745-80ee-7bd6d51f2920\",\"Email\",\"Outbound\",\"Sales\",\"CreditCards\"],[\"26dda9e0-34a2-5e0a-8ee2-fd0c39de729e\",\"SMS\",\"Outbound\",\"Sales\",\"CreditCards\"],[\"a8cde9d1-c720-537c-8fb8-8c59506bddfe\",\"Web\",\"Inbound\",\"Sales\",\"CreditCards\"],[\"4efdb97d-288d-518f-a3e0-8314bbd7f2a3\",\"SMS\",\"Outbound\",\"Sales\",\"CreditCards\"],[\"98aeb30c-d896-51bd-b421-a650f0522335\",\"SMS\",\"Outbound\",\"Sales\",\"CreditCards\"],[\"c29ffcfa-5210-5998-a826-f3a8db57c610\",\"Web\",\"Inbound\",\"Sales\",\"CreditCards\"],[\"ab4592bc-df16-5372-86e7-0caea36ac877\",\"Email\",\"Outbound\",\"Sales\",\"CreditCards\"],[\"602303a4-5243-523d-8964-473f3ea1200b\",\"SMS\",\"Outbound\",\"Sales\",\"CreditCards\"],[\"1be7cd72-741b-5d68-b148-c1af0142fd4a\",\"SMS\",\"Outbound\",\"Sales\",\"CreditCards\"],[\"17571d69-f802-5122-9bfe-6f3f4ef9073b\",\"Web\",\"Inbound\",\"Sales\",\"CreditCards\"],[\"2c8e753a-9e85-5060-ac5b-073e79e755c0\",\"Email\",\"Outbound\",\"Sales\",\"CreditCards\"],[\"081d0acf-bfc3-5c0a-abc4-29106252efb8\",\"SMS\",\"Outbound\",\"Sales\",\"CreditCards\"],[\"bb02128b-d6df-52f3-9983-316f9fce47c7\",\"Email\",\"Outbound\",\"Sales\",\"CreditCards\"],[\"85d9dd89-93e5-55a0-b05f-e68bba9c97d1\",\"Email\",\"Outbound\",\"Sales\",\"CreditCards\"]],\"hovertemplate\":\"<b>%{hovertext}</b><br><br>Performance=%{marker.color}<br>SuccessRate=%{y}<br>ResponseCount=%{marker.size}<br>ModelID=%{customdata[0]}<br>Channel=%{customdata[1]}<br>Direction=%{customdata[2]}<br>Issue=%{customdata[3]}<br>Group=%{customdata[4]}<extra></extra>\",\"hovertext\":[\"PaymentProtection\",\"IdentityTheftProtection\",\"MasterCardGold\",\"PlatinumRewardsCard\",\"MasterCardWorld\",\"PaymentProtection\",\"ChannelAction_Template\",\"UPlusFinGold\",\"MasterCardGold\",\"IdentityTheftProtection\",\"PaymentProtection\",\"UPlusFinPersonal\",\"UPlusFinPersonal\",\"VisaGold\",\"VisaGold\",\"UPlusFinGold\",\"UPlusFinGold\",\"PlatinumRewardsCard\",\"MasterCardGold\"],\"legendgroup\":\"\",\"marker\":{\"color\":[51.4945,50.0,57.1711,57.9772,55.1591,52.5041,69.7884,68.6745,50.0,53.0707,58.1586,61.9665,62.9893,53.1863,51.9586,53.496,66.541,50.0,50.0],\"coloraxis\":\"coloraxis\",\"size\":[722,808,835,907,634,537,828,3760,1080,855,686,3508,3588,822,778,3545,3854,989,875],\"sizemode\":\"area\",\"sizeref\":9.635,\"symbol\":\"circle\",\"line\":{\"color\":\"black\"}},\"mode\":\"markers\",\"name\":\"\",\"orientation\":\"v\",\"showlegend\":false,\"x\":[51.4945,50.0,57.1711,57.9772,55.1591,52.5041,69.7884,68.6745,50.0,53.0707,58.1586,61.9665,62.9893,53.1863,51.9586,53.496,66.541,50.0,50.0],\"xaxis\":\"x\",\"y\":[22.43767,0.24752,2.15569,1.54355,5.67823,5.40037,6.28019,5.93085,0.27778,1.16959,25.07289,1.53934,5.18395,3.28467,5.9126,1.07193,4.28127,0.20222,0.57143],\"yaxis\":\"y\",\"type\":\"scatter\"}],                        {\"template\":{\"layout\":{\"colorway\":[\"#001F5F\",\"#10A5AC\",\"#F76923\",\"#661D34\",\"#86CAC6\",\"#005154\",\"#86CAC6\",\"#5F67B9\",\"#FFC836\",\"#E63690\",\"#AC1361\",\"#63666F\",\"#A7A9B4\",\"#D0D1DB\"],\"hovermode\":\"closest\"}},\"xaxis\":{\"anchor\":\"y\",\"domain\":[0.0,1.0],\"title\":{\"text\":\"Performance\"}},\"yaxis\":{\"anchor\":\"x\",\"domain\":[0.0,1.0],\"title\":{\"text\":\"SuccessRate\"}},\"coloraxis\":{\"colorbar\":{\"title\":{\"text\":\"Performance\"}},\"colorscale\":[[0.0,\"#440154\"],[0.1111111111111111,\"#482878\"],[0.2222222222222222,\"#3e4989\"],[0.3333333333333333,\"#31688e\"],[0.4444444444444444,\"#26828e\"],[0.5555555555555556,\"#1f9e89\"],[0.6666666666666666,\"#35b779\"],[0.7777777777777778,\"#6ece58\"],[0.8888888888888888,\"#b5de2b\"],[1.0,\"#fde725\"]]},\"legend\":{\"tracegroupgap\":0,\"itemsizing\":\"constant\"},\"title\":{\"text\":\"Bubble Chart over all models <br><sup>19 models: 0 (0.0%) at (50,0)</sup><br><sup>Query: [([(col(\\\"ResponseCount\\\")) > (500)]) & ([(col(\\\"Group\\\")) == (Utf8(CreditCards))])]</sup>\"}},                        {\"responsive\": true}                    ).then(function(){\n",
       "                            \n",
       "var gd = document.getElementById('b50a8578-98ac-4075-9b05-1db41d5ea234');\n",
       "var x = new MutationObserver(function (mutations, observer) {{\n",
       "        var display = window.getComputedStyle(gd).display;\n",
       "        if (!display || display === 'none') {{\n",
       "            console.log([gd, 'removed!']);\n",
       "            Plotly.purge(gd);\n",
       "            observer.disconnect();\n",
       "        }}\n",
       "}});\n",
       "\n",
       "// Listen for the removal of the full notebook cells\n",
       "var notebookContainer = gd.closest('#notebook-container');\n",
       "if (notebookContainer) {{\n",
       "    x.observe(notebookContainer, {childList: true});\n",
       "}}\n",
       "\n",
       "// Listen for the clearing of the current output cell\n",
       "var outputEl = gd.closest('.output');\n",
       "if (outputEl) {{\n",
       "    x.observe(outputEl, {childList: true});\n",
       "}}\n",
       "\n",
       "                        })                };                });            </script>        </div>"
      ]
     },
     "metadata": {},
     "output_type": "display_data"
    }
   ],
   "source": [
    "query = (pl.col(\"ResponseCount\") > 500) & (pl.col(\"Group\") == \"CreditCards\")\n",
    "CDHSample.plotPerformanceSuccessRateBubbleChart(query=query)\n"
   ]
  },
  {
   "cell_type": "markdown",
   "metadata": {},
   "source": [
    "Alternatively, we could only look at the top n best performing models within our query. To do this, we need to supply a list of model IDs which we can easily extract from the data as such.\n",
    "\n",
    "Note here the alternative querying syntax you can use, which was default in the previous version of CDH Tools: if you have a list (list) to subset a column's values with, you can simply supply a dictionary with 'column name':list to only get values in that list for that column."
   ]
  },
  {
   "cell_type": "code",
   "execution_count": 6,
   "metadata": {
    "execution": {
     "iopub.execute_input": "2023-03-14T17:30:41.476386Z",
     "iopub.status.busy": "2023-03-14T17:30:41.476200Z",
     "iopub.status.idle": "2023-03-14T17:30:41.511765Z",
     "shell.execute_reply": "2023-03-14T17:30:41.511249Z"
    }
   },
   "outputs": [
    {
     "data": {
      "text/html": [
       "<div>                            <div id=\"bf80f37b-30ec-4994-aab5-e1decf0195ab\" class=\"plotly-graph-div\" style=\"height:525px; width:100%;\"></div>            <script type=\"text/javascript\">                require([\"plotly\"], function(Plotly) {                    window.PLOTLYENV=window.PLOTLYENV || {};                                    if (document.getElementById(\"bf80f37b-30ec-4994-aab5-e1decf0195ab\")) {                    Plotly.newPlot(                        \"bf80f37b-30ec-4994-aab5-e1decf0195ab\",                        [{\"customdata\":[[\"f3afaa9b-d0d5-5be9-a3b9-9fdfc4847411\",\"Email\",\"Outbound\",\"Sales\",\"AutoLoans\"],[\"a87d51fb-cfdc-598d-b84a-dcdd64e1e750\",\"Web\",\"Inbound\",\"Sales\",\"HomeLoans\"],[\"b27d8eb5-7ff6-5706-ae90-6d61ce695f78\",\"SMS\",\"Outbound\",\"Sales\",\"Bundles\"],[\"84107ad6-c998-5377-b0d0-e02be2a8d768\",\"Email\",\"Outbound\",\"Sales\",\"AutoLoans\"],[\"f9fc995f-3f02-5e9e-8e22-b72909054f3a\",\"SMS\",\"Outbound\",\"Sales\",\"AutoLoans\"],[\"692f453a-f825-5a90-ab40-f83cbb34b058\",\"Web\",\"Inbound\",\"Sales\",\"HomeLoans\"],[\"26dda9e0-34a2-5e0a-8ee2-fd0c39de729e\",\"SMS\",\"Outbound\",\"Sales\",\"CreditCards\"],[\"cb67c091-5a81-56f4-9845-71afa9c8076e\",\"Email\",\"Outbound\",\"Sales\",\"HomeLoans\"],[\"c3f445b2-6037-5560-9f16-71a7259d2c2c\",\"SMS\",\"Outbound\",\"Sales\",\"HomeLoans\"],[\"a8cde9d1-c720-537c-8fb8-8c59506bddfe\",\"Web\",\"Inbound\",\"Sales\",\"CreditCards\"],[\"34f7d1b9-92f7-57dc-ab62-0de35dda0221\",\"SMS\",\"Outbound\",\"Services\",\"Account\"],[\"69a8e56f-6327-5a66-a9a3-9b0c106641ec\",\"SMS\",\"Outbound\",\"Sales\",\"AutoLoans\"],[\"8e40882a-aacf-5f03-9be8-f833c7932da2\",\"Web\",\"Inbound\",\"Sales\",\"Bundles\"],[\"08ca1302-9fc0-57bf-9031-d4179d400493\",\"Web\",\"Inbound\",\"Sales\",\"Bundles\"],[\"68e1d164-81e3-5da0-816c-0bbc3c20ac6c\",\"Web\",\"Inbound\",\"Sales\",\"AutoLoans\"],[\"c4cd4c00-87bf-562e-9ab8-20af64a81757\",\"Email\",\"Outbound\",\"Sales\",\"DepositAccounts\"],[\"708be173-0f46-55ee-add6-6fdca447a70a\",\"SMS\",\"Outbound\",\"Sales\",\"HomeLoans\"],[\"277a2c48-8888-5b71-911e-443d52c9b50f\",\"SMS\",\"Outbound\",\"Sales\",\"Bundles\"],[\"ab4592bc-df16-5372-86e7-0caea36ac877\",\"Email\",\"Outbound\",\"Sales\",\"CreditCards\"],[\"a75db3a2-fecc-5cc8-b75f-0a44447f9cca\",\"SMS\",\"Outbound\",\"Sales\",\"AutoLoans\"],[\"602303a4-5243-523d-8964-473f3ea1200b\",\"SMS\",\"Outbound\",\"Sales\",\"CreditCards\"],[\"30cc2c18-5852-581a-abaa-555bf46a3b9c\",\"Email\",\"Outbound\",\"Services\",\"Account\"],[\"320c4d01-43a5-510e-8fa8-1fc1bb4216da\",\"Email\",\"Outbound\",\"Sales\",\"Bundles\"],[\"d6e132b6-ad92-5ece-8db5-b42d9d151f73\",\"SMS\",\"Outbound\",\"Sales\",\"Bundles\"],[\"0ad9da35-f171-5ab9-973f-1cc4b89b4e8f\",\"Web\",\"Inbound\",\"Sales\",\"Bundles\"],[\"d5e2f4b1-249a-58c0-8a2f-2d314eada5fe\",\"SMS\",\"Outbound\",\"Sales\",\"AutoLoans\"],[\"838ca9ec-74ea-5a54-8c57-f45295116921\",\"SMS\",\"Outbound\",\"Services\",\"Account\"],[\"dd502275-e98b-51f7-8935-c30c84641871\",\"Web\",\"Inbound\",\"Services\",\"Account\"],[\"081d0acf-bfc3-5c0a-abc4-29106252efb8\",\"SMS\",\"Outbound\",\"Sales\",\"CreditCards\"],[\"baae77a0-099a-5104-b7a9-b9b1a23290fc\",\"SMS\",\"Outbound\",\"Services\",\"Customer\"]],\"hovertemplate\":\"<b>%{hovertext}</b><br><br>Performance=%{marker.color}<br>SuccessRate=%{y}<br>ResponseCount=%{marker.size}<br>ModelID=%{customdata[0]}<br>Channel=%{customdata[1]}<br>Direction=%{customdata[2]}<br>Issue=%{customdata[3]}<br>Group=%{customdata[4]}<extra></extra>\",\"hovertext\":[\"AutoNew84Months\",\"FirstMortgage\",\"PremiumBanking\",\"AutoUsed60Months\",\"AutoNew36Months\",\"FirstMortgageFloat\",\"ChannelAction_Template\",\"FirstMortgageFHA\",\"FirstMortgage\",\"UPlusFinGold\",\"Services_ChannelAction_Template\",\"AutoNew48Months\",\"PremiumBanking\",\"HomeOwners\",\"AutoNew84Months\",\"RegularSaving\",\"FirstMortgageFiveOneARM\",\"HomeOwners\",\"UPlusFinPersonal\",\"AutoUsed48Months\",\"UPlusFinPersonal\",\"Services_ChannelAction_Template\",\"PremiumBanking\",\"SuperSaver\",\"SuperSaver\",\"AutoUsed84Months\",\"GoPaperless\",\"Services_ChannelAction_Template\",\"UPlusFinGold\",\"MissingContactInformation\"],\"legendgroup\":\"\",\"marker\":{\"color\":[64.2461,64.7708,61.6472,65.3775,60.5845,64.6733,69.7884,67.6805,64.851,68.6745,71.0618,61.8246,65.264,75.6002,77.4901,61.4512,65.202,77.3211,61.9665,69.3922,62.9893,62.9442,62.467,61.812,75.7296,62.2813,71.2165,66.3954,66.541,62.2187],\"coloraxis\":\"coloraxis\",\"size\":[1184,4076,5052,1378,5602,518,828,362,3946,3760,7287,5743,5176,4605,1636,1069,482,4976,3508,1447,3588,7415,5430,1106,1267,1347,8174,7073,3854,7096],\"sizemode\":\"area\",\"sizeref\":20.435,\"symbol\":\"circle\",\"line\":{\"color\":\"black\"}},\"mode\":\"markers\",\"name\":\"\",\"orientation\":\"v\",\"showlegend\":false,\"x\":[64.2461,64.7708,61.6472,65.3775,60.5845,64.6733,69.7884,67.6805,64.851,68.6745,71.0618,61.8246,65.264,75.6002,77.4901,61.4512,65.202,77.3211,61.9665,69.3922,62.9893,62.9442,62.467,61.812,75.7296,62.2813,71.2165,66.3954,66.541,62.2187],\"xaxis\":\"x\",\"y\":[5.65878,22.15407,2.0388,3.91872,0.64263,2.50965,6.28019,3.59116,16.85251,5.93085,3.25237,7.19136,1.95131,13.22476,12.59169,1.40318,10.37344,10.7717,1.53934,3.52453,5.18395,0.72825,0.44199,12.02532,8.83978,3.71195,11.05946,5.08978,4.28127,18.94025],\"yaxis\":\"y\",\"type\":\"scatter\"}],                        {\"template\":{\"layout\":{\"colorway\":[\"#001F5F\",\"#10A5AC\",\"#F76923\",\"#661D34\",\"#86CAC6\",\"#005154\",\"#86CAC6\",\"#5F67B9\",\"#FFC836\",\"#E63690\",\"#AC1361\",\"#63666F\",\"#A7A9B4\",\"#D0D1DB\"],\"hovermode\":\"closest\"}},\"xaxis\":{\"anchor\":\"y\",\"domain\":[0.0,1.0],\"title\":{\"text\":\"Performance\"}},\"yaxis\":{\"anchor\":\"x\",\"domain\":[0.0,1.0],\"title\":{\"text\":\"SuccessRate\"}},\"coloraxis\":{\"colorbar\":{\"title\":{\"text\":\"Performance\"}},\"colorscale\":[[0.0,\"#440154\"],[0.1111111111111111,\"#482878\"],[0.2222222222222222,\"#3e4989\"],[0.3333333333333333,\"#31688e\"],[0.4444444444444444,\"#26828e\"],[0.5555555555555556,\"#1f9e89\"],[0.6666666666666666,\"#35b779\"],[0.7777777777777778,\"#6ece58\"],[0.8888888888888888,\"#b5de2b\"],[1.0,\"#fde725\"]]},\"legend\":{\"tracegroupgap\":0,\"itemsizing\":\"constant\"},\"title\":{\"text\":\"Bubble Chart over all models <br><sup>30 models: 0 (0.0%) at (50,0)</sup><br><sup>Query: {'ModelID': ['68e1d164-81e3-5da0-816c-0bbc3c20ac6c', '277a2c48-8888-5b71-911e-443d52c9b50f', '0ad9da35-f171-5ab9-973f-1cc4b89b4e8f', '08ca1302-9fc0-57bf-9031-d4179d400493', '838ca9ec-74ea-5a54-8c57-f45295116921', '34f7d1b9-92f7-57dc-ab62-0de35dda0221', '26dda9e0-34a2-5e0a-8ee2-fd0c39de729e', 'a75db3a2-fecc-5cc8-b75f-0a44447f9cca', 'a8cde9d1-c720-537c-8fb8-8c59506bddfe', 'cb67c091-5a81-56f4-9845-71afa9c8076e', '081d0acf-bfc3-5c0a-abc4-29106252efb8', 'dd502275-e98b-51f7-8935-c30c84641871', '84107ad6-c998-5377-b0d0-e02be2a8d768', '8e40882a-aacf-5f03-9be8-f833c7932da2', '708be173-0f46-55ee-add6-6fdca447a70a', 'c3f445b2-6037-5560-9f16-71a7259d2c2c', 'a87d51fb-cfdc-598d-b84a-dcdd64e1e750', '692f453a-f825-5a90-ab40-f83cbb34b058', 'f3afaa9b-d0d5-5be9-a3b9-9fdfc4847411', '602303a4-5243-523d-8964-473f3ea1200b', '30cc2c18-5852-581a-abaa-555bf46a3b9c', '320c4d01-43a5-510e-8fa8-1fc1bb4216da', 'd5e2f4b1-249a-58c0-8a2f-2d314eada5fe', 'baae77a0-099a-5104-b7a9-b9b1a23290fc', 'ab4592bc-df16-5372-86e7-0caea36ac877', '69a8e56f-6327-5a66-a9a3-9b0c106641ec', 'd6e132b6-ad92-5ece-8db5-b42d9d151f73', 'b27d8eb5-7ff6-5706-ae90-6d61ce695f78', 'c4cd4c00-87bf-562e-9ab8-20af64a81757', 'f9fc995f-3f02-5e9e-8e22-b72909054f3a']}</sup>\"}},                        {\"responsive\": true}                    ).then(function(){\n",
       "                            \n",
       "var gd = document.getElementById('bf80f37b-30ec-4994-aab5-e1decf0195ab');\n",
       "var x = new MutationObserver(function (mutations, observer) {{\n",
       "        var display = window.getComputedStyle(gd).display;\n",
       "        if (!display || display === 'none') {{\n",
       "            console.log([gd, 'removed!']);\n",
       "            Plotly.purge(gd);\n",
       "            observer.disconnect();\n",
       "        }}\n",
       "}});\n",
       "\n",
       "// Listen for the removal of the full notebook cells\n",
       "var notebookContainer = gd.closest('#notebook-container');\n",
       "if (notebookContainer) {{\n",
       "    x.observe(notebookContainer, {childList: true});\n",
       "}}\n",
       "\n",
       "// Listen for the clearing of the current output cell\n",
       "var outputEl = gd.closest('.output');\n",
       "if (outputEl) {{\n",
       "    x.observe(outputEl, {childList: true});\n",
       "}}\n",
       "\n",
       "                        })                };                });            </script>        </div>"
      ]
     },
     "metadata": {},
     "output_type": "display_data"
    }
   ],
   "source": [
    "top30ids = (\n",
    "    CDHSample.last(strategy='lazy').sort(\"Performance\", descending=True)\n",
    "    .select(\"ModelID\")\n",
    "    .head(30)\n",
    "    .collect()\n",
    "    .to_series()\n",
    "    .to_list()\n",
    ")\n",
    "\n",
    "CDHSample.plotPerformanceSuccessRateBubbleChart(query={\"ModelID\": top30ids})\n"
   ]
  },
  {
   "cell_type": "markdown",
   "metadata": {},
   "source": [
    "The bubble chart gives some information about which models perform well, but that is not always informative: if we don't know in which channels, issues or groups our issues lie then we may not be looking in the right place. This is where the Treemap visualisation is quite handy. "
   ]
  },
  {
   "cell_type": "code",
   "execution_count": 7,
   "metadata": {
    "execution": {
     "iopub.execute_input": "2023-03-14T17:30:41.514465Z",
     "iopub.status.busy": "2023-03-14T17:30:41.514264Z",
     "iopub.status.idle": "2023-03-14T17:30:42.248921Z",
     "shell.execute_reply": "2023-03-14T17:30:42.248496Z"
    }
   },
   "outputs": [
    {
     "data": {
      "text/html": [
       "<div>                            <div id=\"8cd13063-5746-4606-a090-730fac228088\" class=\"plotly-graph-div\" style=\"height:525px; width:100%;\"></div>            <script type=\"text/javascript\">                require([\"plotly\"], function(Plotly) {                    window.PLOTLYENV=window.PLOTLYENV || {};                                    if (document.getElementById(\"8cd13063-5746-4606-a090-730fac228088\")) {                    Plotly.newPlot(                        \"8cd13063-5746-4606-a090-730fac228088\",                        [{\"branchvalues\":\"total\",\"customdata\":[[2,0.0,13544,0.04638846671802414,62.99525834317778,631],[1,0.0,7415,0.0072825354012137555,62.944199999999995,54],[3,0.0,23129,0.05640022029487816,66.27309054433826,1341],[3,0.0,8823,0.0844395475775724,60.655552975178516,516],[5,0.0,14820,0.027161426741624084,56.309893400809734,289],[5,0.0,15761,0.047650201915249116,61.34172346297822,692],[3,0.0,11048,0.08005282820548858,70.77251884503983,822],[2,0.0,10633,0.010666604370831534,61.35216929370826,112],[3,0.0,11134,0.08278605717330569,68.66853960840668,772],[5,0.0,6966,0.08123114510073806,63.00027265288544,473],[6,0.0,10262,0.015054701976766428,55.4294000877022,130],[8,0.0,12383,0.0607416905806323,61.00976363562949,641],[1,0.0,7096,0.18940248027057496,62.21869999999999,1344],[3,0.0,8634,0.1863527350847223,52.95501125781792,1908],[5,0.0,12271,0.04838988724951338,53.05561875152798,754],[4,0.0,10488,0.13958418490192162,53.16843408657515,1840],[3,0.0,5043,0.14011887589688876,63.687832718619866,994],[3,0.0,1210,0.021722860653991333,56.29142462809917,25],[3,0.0,4905,0.12429615311635002,63.7114104587156,763],[17,0.0,\"(?)\",\"(?)\",62.30671239143503,\"(?)\"],[21,0.0,\"(?)\",\"(?)\",55.76107494093408,\"(?)\"],[23,0.0,\"(?)\",\"(?)\",61.06957882380845,\"(?)\"],[2,0.0,13544,0.04638846671802414,62.99525834317778,631],[1,0.0,7415,0.0072825354012137555,62.944199999999995,54],[4,0.0,\"(?)\",\"(?)\",65.25949290825369,\"(?)\"],[19,0.0,\"(?)\",\"(?)\",62.3791909126711,\"(?)\"],[22,0.0,\"(?)\",\"(?)\",56.08758062543707,\"(?)\"],[27,0.0,\"(?)\",\"(?)\",61.690306836318854,\"(?)\"],[22,0.0,\"(?)\",\"(?)\",56.08758062543707,\"(?)\"],[27,0.0,\"(?)\",\"(?)\",61.690306836318854,\"(?)\"],[19,0.0,\"(?)\",\"(?)\",62.3791909126711,\"(?)\"],[68,0.0,\"(?)\",\"(?)\",60.07014243648494,\"(?)\"]],\"domain\":{\"x\":[0.0,1.0],\"y\":[0.0,1.0]},\"hovertemplate\":\"labels=%{label}<br>Model count=%{customdata[0]:.d}<br>parent=%{parent}<br>id=%{id}<br>Percentage without responses=%{customdata[1]:.0%}<br>Response Count sum=%{customdata[2]:.d}<br>Success Rate mean=%{customdata[3]:.2%}<br>Performance weighted mean=%{color:.2f}<br>Positives sum=%{customdata[5]:.d}<extra></extra>\",\"ids\":[\"All contexts/Web/Inbound/Services/Account\",\"All contexts/Email/Outbound/Services/Account\",\"All contexts/SMS/Outbound/Services/Account\",\"All contexts/Web/Inbound/Sales/AutoLoans\",\"All contexts/Email/Outbound/Sales/AutoLoans\",\"All contexts/SMS/Outbound/Sales/AutoLoans\",\"All contexts/Web/Inbound/Sales/Bundles\",\"All contexts/Email/Outbound/Sales/Bundles\",\"All contexts/SMS/Outbound/Sales/Bundles\",\"All contexts/Web/Inbound/Sales/CreditCards\",\"All contexts/Email/Outbound/Sales/CreditCards\",\"All contexts/SMS/Outbound/Sales/CreditCards\",\"All contexts/SMS/Outbound/Services/Customer\",\"All contexts/Web/Inbound/Sales/DepositAccounts\",\"All contexts/Email/Outbound/Sales/DepositAccounts\",\"All contexts/SMS/Outbound/Sales/DepositAccounts\",\"All contexts/Web/Inbound/Sales/HomeLoans\",\"All contexts/Email/Outbound/Sales/HomeLoans\",\"All contexts/SMS/Outbound/Sales/HomeLoans\",\"All contexts/Web/Inbound/Sales\",\"All contexts/Email/Outbound/Sales\",\"All contexts/SMS/Outbound/Sales\",\"All contexts/Web/Inbound/Services\",\"All contexts/Email/Outbound/Services\",\"All contexts/SMS/Outbound/Services\",\"All contexts/Web/Inbound\",\"All contexts/Email/Outbound\",\"All contexts/SMS/Outbound\",\"All contexts/Email\",\"All contexts/SMS\",\"All contexts/Web\",\"All contexts\"],\"labels\":[\"Account\",\"Account\",\"Account\",\"AutoLoans\",\"AutoLoans\",\"AutoLoans\",\"Bundles\",\"Bundles\",\"Bundles\",\"CreditCards\",\"CreditCards\",\"CreditCards\",\"Customer\",\"DepositAccounts\",\"DepositAccounts\",\"DepositAccounts\",\"HomeLoans\",\"HomeLoans\",\"HomeLoans\",\"Sales\",\"Sales\",\"Sales\",\"Services\",\"Services\",\"Services\",\"Inbound\",\"Outbound\",\"Outbound\",\"Email\",\"SMS\",\"Web\",\"All contexts\"],\"marker\":{\"coloraxis\":\"coloraxis\",\"colors\":[62.99525834317778,62.944199999999995,66.27309054433826,60.655552975178516,56.309893400809734,61.34172346297822,70.77251884503983,61.35216929370826,68.66853960840668,63.00027265288544,55.4294000877022,61.00976363562949,62.21869999999999,52.95501125781792,53.05561875152798,53.16843408657515,63.687832718619866,56.29142462809917,63.7114104587156,62.30671239143503,55.76107494093408,61.06957882380845,62.99525834317778,62.944199999999995,65.25949290825369,62.3791909126711,56.08758062543707,61.690306836318854,56.08758062543707,61.690306836318854,62.3791909126711,60.07014243648494]},\"name\":\"\",\"parents\":[\"All contexts/Web/Inbound/Services\",\"All contexts/Email/Outbound/Services\",\"All contexts/SMS/Outbound/Services\",\"All contexts/Web/Inbound/Sales\",\"All contexts/Email/Outbound/Sales\",\"All contexts/SMS/Outbound/Sales\",\"All contexts/Web/Inbound/Sales\",\"All contexts/Email/Outbound/Sales\",\"All contexts/SMS/Outbound/Sales\",\"All contexts/Web/Inbound/Sales\",\"All contexts/Email/Outbound/Sales\",\"All contexts/SMS/Outbound/Sales\",\"All contexts/SMS/Outbound/Services\",\"All contexts/Web/Inbound/Sales\",\"All contexts/Email/Outbound/Sales\",\"All contexts/SMS/Outbound/Sales\",\"All contexts/Web/Inbound/Sales\",\"All contexts/Email/Outbound/Sales\",\"All contexts/SMS/Outbound/Sales\",\"All contexts/Web/Inbound\",\"All contexts/Email/Outbound\",\"All contexts/SMS/Outbound\",\"All contexts/Web/Inbound\",\"All contexts/Email/Outbound\",\"All contexts/SMS/Outbound\",\"All contexts/Web\",\"All contexts/Email\",\"All contexts/SMS\",\"All contexts\",\"All contexts\",\"All contexts\",\"\"],\"values\":[2,1,3,3,5,5,3,2,3,5,6,8,1,3,5,4,3,3,3,17,21,23,2,1,4,19,22,27,22,27,19,68],\"type\":\"treemap\",\"text\":[62.995,62.944,66.273,60.656,56.31,61.342,70.773,61.352,68.669,63.0,55.429,61.01,62.219,52.955,53.056,53.168,63.688,56.291,63.711,62.307,55.761,61.07,62.995,62.944,65.259,62.379,56.088,61.69,56.088,61.69,62.379,60.07],\"textinfo\":\"label+text\",\"texttemplate\":\"%{label}<br>%{text:.2f}%\"}],                        {\"template\":{\"data\":{\"histogram2dcontour\":[{\"type\":\"histogram2dcontour\",\"colorbar\":{\"outlinewidth\":0,\"ticks\":\"\"},\"colorscale\":[[0.0,\"#0d0887\"],[0.1111111111111111,\"#46039f\"],[0.2222222222222222,\"#7201a8\"],[0.3333333333333333,\"#9c179e\"],[0.4444444444444444,\"#bd3786\"],[0.5555555555555556,\"#d8576b\"],[0.6666666666666666,\"#ed7953\"],[0.7777777777777778,\"#fb9f3a\"],[0.8888888888888888,\"#fdca26\"],[1.0,\"#f0f921\"]]}],\"choropleth\":[{\"type\":\"choropleth\",\"colorbar\":{\"outlinewidth\":0,\"ticks\":\"\"}}],\"histogram2d\":[{\"type\":\"histogram2d\",\"colorbar\":{\"outlinewidth\":0,\"ticks\":\"\"},\"colorscale\":[[0.0,\"#0d0887\"],[0.1111111111111111,\"#46039f\"],[0.2222222222222222,\"#7201a8\"],[0.3333333333333333,\"#9c179e\"],[0.4444444444444444,\"#bd3786\"],[0.5555555555555556,\"#d8576b\"],[0.6666666666666666,\"#ed7953\"],[0.7777777777777778,\"#fb9f3a\"],[0.8888888888888888,\"#fdca26\"],[1.0,\"#f0f921\"]]}],\"heatmap\":[{\"type\":\"heatmap\",\"colorbar\":{\"outlinewidth\":0,\"ticks\":\"\"},\"colorscale\":[[0.0,\"#0d0887\"],[0.1111111111111111,\"#46039f\"],[0.2222222222222222,\"#7201a8\"],[0.3333333333333333,\"#9c179e\"],[0.4444444444444444,\"#bd3786\"],[0.5555555555555556,\"#d8576b\"],[0.6666666666666666,\"#ed7953\"],[0.7777777777777778,\"#fb9f3a\"],[0.8888888888888888,\"#fdca26\"],[1.0,\"#f0f921\"]]}],\"heatmapgl\":[{\"type\":\"heatmapgl\",\"colorbar\":{\"outlinewidth\":0,\"ticks\":\"\"},\"colorscale\":[[0.0,\"#0d0887\"],[0.1111111111111111,\"#46039f\"],[0.2222222222222222,\"#7201a8\"],[0.3333333333333333,\"#9c179e\"],[0.4444444444444444,\"#bd3786\"],[0.5555555555555556,\"#d8576b\"],[0.6666666666666666,\"#ed7953\"],[0.7777777777777778,\"#fb9f3a\"],[0.8888888888888888,\"#fdca26\"],[1.0,\"#f0f921\"]]}],\"contourcarpet\":[{\"type\":\"contourcarpet\",\"colorbar\":{\"outlinewidth\":0,\"ticks\":\"\"}}],\"contour\":[{\"type\":\"contour\",\"colorbar\":{\"outlinewidth\":0,\"ticks\":\"\"},\"colorscale\":[[0.0,\"#0d0887\"],[0.1111111111111111,\"#46039f\"],[0.2222222222222222,\"#7201a8\"],[0.3333333333333333,\"#9c179e\"],[0.4444444444444444,\"#bd3786\"],[0.5555555555555556,\"#d8576b\"],[0.6666666666666666,\"#ed7953\"],[0.7777777777777778,\"#fb9f3a\"],[0.8888888888888888,\"#fdca26\"],[1.0,\"#f0f921\"]]}],\"surface\":[{\"type\":\"surface\",\"colorbar\":{\"outlinewidth\":0,\"ticks\":\"\"},\"colorscale\":[[0.0,\"#0d0887\"],[0.1111111111111111,\"#46039f\"],[0.2222222222222222,\"#7201a8\"],[0.3333333333333333,\"#9c179e\"],[0.4444444444444444,\"#bd3786\"],[0.5555555555555556,\"#d8576b\"],[0.6666666666666666,\"#ed7953\"],[0.7777777777777778,\"#fb9f3a\"],[0.8888888888888888,\"#fdca26\"],[1.0,\"#f0f921\"]]}],\"mesh3d\":[{\"type\":\"mesh3d\",\"colorbar\":{\"outlinewidth\":0,\"ticks\":\"\"}}],\"scatter\":[{\"fillpattern\":{\"fillmode\":\"overlay\",\"size\":10,\"solidity\":0.2},\"type\":\"scatter\"}],\"parcoords\":[{\"type\":\"parcoords\",\"line\":{\"colorbar\":{\"outlinewidth\":0,\"ticks\":\"\"}}}],\"scatterpolargl\":[{\"type\":\"scatterpolargl\",\"marker\":{\"colorbar\":{\"outlinewidth\":0,\"ticks\":\"\"}}}],\"bar\":[{\"error_x\":{\"color\":\"#2a3f5f\"},\"error_y\":{\"color\":\"#2a3f5f\"},\"marker\":{\"line\":{\"color\":\"#E5ECF6\",\"width\":0.5},\"pattern\":{\"fillmode\":\"overlay\",\"size\":10,\"solidity\":0.2}},\"type\":\"bar\"}],\"scattergeo\":[{\"type\":\"scattergeo\",\"marker\":{\"colorbar\":{\"outlinewidth\":0,\"ticks\":\"\"}}}],\"scatterpolar\":[{\"type\":\"scatterpolar\",\"marker\":{\"colorbar\":{\"outlinewidth\":0,\"ticks\":\"\"}}}],\"histogram\":[{\"marker\":{\"pattern\":{\"fillmode\":\"overlay\",\"size\":10,\"solidity\":0.2}},\"type\":\"histogram\"}],\"scattergl\":[{\"type\":\"scattergl\",\"marker\":{\"colorbar\":{\"outlinewidth\":0,\"ticks\":\"\"}}}],\"scatter3d\":[{\"type\":\"scatter3d\",\"line\":{\"colorbar\":{\"outlinewidth\":0,\"ticks\":\"\"}},\"marker\":{\"colorbar\":{\"outlinewidth\":0,\"ticks\":\"\"}}}],\"scattermapbox\":[{\"type\":\"scattermapbox\",\"marker\":{\"colorbar\":{\"outlinewidth\":0,\"ticks\":\"\"}}}],\"scatterternary\":[{\"type\":\"scatterternary\",\"marker\":{\"colorbar\":{\"outlinewidth\":0,\"ticks\":\"\"}}}],\"scattercarpet\":[{\"type\":\"scattercarpet\",\"marker\":{\"colorbar\":{\"outlinewidth\":0,\"ticks\":\"\"}}}],\"carpet\":[{\"aaxis\":{\"endlinecolor\":\"#2a3f5f\",\"gridcolor\":\"white\",\"linecolor\":\"white\",\"minorgridcolor\":\"white\",\"startlinecolor\":\"#2a3f5f\"},\"baxis\":{\"endlinecolor\":\"#2a3f5f\",\"gridcolor\":\"white\",\"linecolor\":\"white\",\"minorgridcolor\":\"white\",\"startlinecolor\":\"#2a3f5f\"},\"type\":\"carpet\"}],\"table\":[{\"cells\":{\"fill\":{\"color\":\"#EBF0F8\"},\"line\":{\"color\":\"white\"}},\"header\":{\"fill\":{\"color\":\"#C8D4E3\"},\"line\":{\"color\":\"white\"}},\"type\":\"table\"}],\"barpolar\":[{\"marker\":{\"line\":{\"color\":\"#E5ECF6\",\"width\":0.5},\"pattern\":{\"fillmode\":\"overlay\",\"size\":10,\"solidity\":0.2}},\"type\":\"barpolar\"}],\"pie\":[{\"automargin\":true,\"type\":\"pie\"}]},\"layout\":{\"autotypenumbers\":\"strict\",\"colorway\":[\"#636efa\",\"#EF553B\",\"#00cc96\",\"#ab63fa\",\"#FFA15A\",\"#19d3f3\",\"#FF6692\",\"#B6E880\",\"#FF97FF\",\"#FECB52\"],\"font\":{\"color\":\"#2a3f5f\"},\"hovermode\":\"closest\",\"hoverlabel\":{\"align\":\"left\"},\"paper_bgcolor\":\"white\",\"plot_bgcolor\":\"#E5ECF6\",\"polar\":{\"bgcolor\":\"#E5ECF6\",\"angularaxis\":{\"gridcolor\":\"white\",\"linecolor\":\"white\",\"ticks\":\"\"},\"radialaxis\":{\"gridcolor\":\"white\",\"linecolor\":\"white\",\"ticks\":\"\"}},\"ternary\":{\"bgcolor\":\"#E5ECF6\",\"aaxis\":{\"gridcolor\":\"white\",\"linecolor\":\"white\",\"ticks\":\"\"},\"baxis\":{\"gridcolor\":\"white\",\"linecolor\":\"white\",\"ticks\":\"\"},\"caxis\":{\"gridcolor\":\"white\",\"linecolor\":\"white\",\"ticks\":\"\"}},\"coloraxis\":{\"colorbar\":{\"outlinewidth\":0,\"ticks\":\"\"}},\"colorscale\":{\"sequential\":[[0.0,\"#0d0887\"],[0.1111111111111111,\"#46039f\"],[0.2222222222222222,\"#7201a8\"],[0.3333333333333333,\"#9c179e\"],[0.4444444444444444,\"#bd3786\"],[0.5555555555555556,\"#d8576b\"],[0.6666666666666666,\"#ed7953\"],[0.7777777777777778,\"#fb9f3a\"],[0.8888888888888888,\"#fdca26\"],[1.0,\"#f0f921\"]],\"sequentialminus\":[[0.0,\"#0d0887\"],[0.1111111111111111,\"#46039f\"],[0.2222222222222222,\"#7201a8\"],[0.3333333333333333,\"#9c179e\"],[0.4444444444444444,\"#bd3786\"],[0.5555555555555556,\"#d8576b\"],[0.6666666666666666,\"#ed7953\"],[0.7777777777777778,\"#fb9f3a\"],[0.8888888888888888,\"#fdca26\"],[1.0,\"#f0f921\"]],\"diverging\":[[0,\"#8e0152\"],[0.1,\"#c51b7d\"],[0.2,\"#de77ae\"],[0.3,\"#f1b6da\"],[0.4,\"#fde0ef\"],[0.5,\"#f7f7f7\"],[0.6,\"#e6f5d0\"],[0.7,\"#b8e186\"],[0.8,\"#7fbc41\"],[0.9,\"#4d9221\"],[1,\"#276419\"]]},\"xaxis\":{\"gridcolor\":\"white\",\"linecolor\":\"white\",\"ticks\":\"\",\"title\":{\"standoff\":15},\"zerolinecolor\":\"white\",\"automargin\":true,\"zerolinewidth\":2},\"yaxis\":{\"gridcolor\":\"white\",\"linecolor\":\"white\",\"ticks\":\"\",\"title\":{\"standoff\":15},\"zerolinecolor\":\"white\",\"automargin\":true,\"zerolinewidth\":2},\"scene\":{\"xaxis\":{\"backgroundcolor\":\"#E5ECF6\",\"gridcolor\":\"white\",\"linecolor\":\"white\",\"showbackground\":true,\"ticks\":\"\",\"zerolinecolor\":\"white\",\"gridwidth\":2},\"yaxis\":{\"backgroundcolor\":\"#E5ECF6\",\"gridcolor\":\"white\",\"linecolor\":\"white\",\"showbackground\":true,\"ticks\":\"\",\"zerolinecolor\":\"white\",\"gridwidth\":2},\"zaxis\":{\"backgroundcolor\":\"#E5ECF6\",\"gridcolor\":\"white\",\"linecolor\":\"white\",\"showbackground\":true,\"ticks\":\"\",\"zerolinecolor\":\"white\",\"gridwidth\":2}},\"shapedefaults\":{\"line\":{\"color\":\"#2a3f5f\"}},\"annotationdefaults\":{\"arrowcolor\":\"#2a3f5f\",\"arrowhead\":0,\"arrowwidth\":1},\"geo\":{\"bgcolor\":\"white\",\"landcolor\":\"#E5ECF6\",\"subunitcolor\":\"white\",\"showland\":true,\"showlakes\":true,\"lakecolor\":\"white\"},\"title\":{\"x\":0.05},\"mapbox\":{\"style\":\"light\"}}},\"coloraxis\":{\"colorbar\":{\"title\":{\"text\":\"Performance weighted mean\"}},\"colorscale\":[[0,\"#d91c29\"],[0.01,\"#F76923\"],[0.3,\"#20aa50\"],[0.8,\"#20aa50\"],[1,\"#0000FF\"]],\"cmin\":50,\"cmax\":100,\"reversescale\":false},\"legend\":{\"tracegroupgap\":0},\"title\":{\"text\":\"Weighted mean performance, per context key combination\"}},                        {\"responsive\": true}                    ).then(function(){\n",
       "                            \n",
       "var gd = document.getElementById('8cd13063-5746-4606-a090-730fac228088');\n",
       "var x = new MutationObserver(function (mutations, observer) {{\n",
       "        var display = window.getComputedStyle(gd).display;\n",
       "        if (!display || display === 'none') {{\n",
       "            console.log([gd, 'removed!']);\n",
       "            Plotly.purge(gd);\n",
       "            observer.disconnect();\n",
       "        }}\n",
       "}});\n",
       "\n",
       "// Listen for the removal of the full notebook cells\n",
       "var notebookContainer = gd.closest('#notebook-container');\n",
       "if (notebookContainer) {{\n",
       "    x.observe(notebookContainer, {childList: true});\n",
       "}}\n",
       "\n",
       "// Listen for the clearing of the current output cell\n",
       "var outputEl = gd.closest('.output');\n",
       "if (outputEl) {{\n",
       "    x.observe(outputEl, {childList: true});\n",
       "}}\n",
       "\n",
       "                        })                };                });            </script>        </div>"
      ]
     },
     "metadata": {},
     "output_type": "display_data"
    }
   ],
   "source": [
    "CDHSample.plotTreeMap()\n"
   ]
  },
  {
   "cell_type": "markdown",
   "metadata": {},
   "source": [
    "By default the Treemap shows the weighted performance, where the performance is weighted by the response count. The squares represent Model IDs: the larger a square, the more model IDs are within that combination of context keys. We can also color the Treemap by another variable, such as the SuccessRate:"
   ]
  },
  {
   "cell_type": "code",
   "execution_count": 8,
   "metadata": {
    "execution": {
     "iopub.execute_input": "2023-03-14T17:30:42.252825Z",
     "iopub.status.busy": "2023-03-14T17:30:42.252323Z",
     "iopub.status.idle": "2023-03-14T17:30:42.395341Z",
     "shell.execute_reply": "2023-03-14T17:30:42.394863Z"
    }
   },
   "outputs": [
    {
     "data": {
      "text/html": [
       "<div>                            <div id=\"cbc9a561-d907-41cc-b29a-97013a11a70f\" class=\"plotly-graph-div\" style=\"height:525px; width:100%;\"></div>            <script type=\"text/javascript\">                require([\"plotly\"], function(Plotly) {                    window.PLOTLYENV=window.PLOTLYENV || {};                                    if (document.getElementById(\"cbc9a561-d907-41cc-b29a-97013a11a70f\")) {                    Plotly.newPlot(                        \"cbc9a561-d907-41cc-b29a-97013a11a70f\",                        [{\"branchvalues\":\"total\",\"customdata\":[[2,0.0,13544,0.04638846671802414,62.99525834317778,631],[1,0.0,7415,0.0072825354012137555,62.944199999999995,54],[3,0.0,23129,0.05640022029487816,66.27309054433826,1341],[3,0.0,8823,0.0844395475775724,60.655552975178516,516],[5,0.0,14820,0.027161426741624084,56.30989340080973,289],[5,0.0,15761,0.047650201915249116,61.34172346297822,692],[3,0.0,11048,0.08005282820548858,70.77251884503983,822],[2,0.0,10633,0.010666604370831534,61.35216929370826,112],[3,0.0,11134,0.08278605717330569,68.66853960840668,772],[5,0.0,6966,0.08123114510073806,63.000272652885435,473],[6,0.0,10262,0.015054701976766428,55.4294000877022,130],[8,0.0,12383,0.0607416905806323,61.00976363562949,641],[1,0.0,7096,0.18940248027057496,62.21869999999999,1344],[3,0.0,8634,0.1863527350847223,52.95501125781793,1908],[5,0.0,12271,0.04838988724951338,53.05561875152799,754],[4,0.0,10488,0.13958418490192162,53.16843408657515,1840],[3,0.0,5043,0.14011887589688876,63.687832718619866,994],[3,0.0,1210,0.021722860653991333,56.29142462809917,25],[3,0.0,4905,0.12429615311635002,63.7114104587156,763],[17,0.0,\"(?)\",0.11053221681162978,\"(?)\",\"(?)\"],[21,0.0,\"(?)\",0.026408884405710622,\"(?)\",\"(?)\"],[23,0.0,\"(?)\",0.08277251759556338,\"(?)\",\"(?)\"],[2,0.0,13544,0.04638846671802414,62.99525834317778,631],[1,0.0,7415,0.0072825354012137555,62.944199999999995,54],[4,0.0,\"(?)\",0.08965078528880235,\"(?)\",\"(?)\"],[19,0.0,\"(?)\",0.10378024311756602,\"(?)\",\"(?)\"],[22,0.0,\"(?)\",0.025539504905506216,\"(?)\",\"(?)\"],[27,0.0,\"(?)\",0.08379152021678397,\"(?)\",\"(?)\"],[22,0.0,\"(?)\",0.025539504905506216,\"(?)\",\"(?)\"],[27,0.0,\"(?)\",0.08379152021678397,\"(?)\",\"(?)\"],[19,0.0,\"(?)\",0.10378024311756602,\"(?)\",\"(?)\"],[68,0.0,\"(?)\",0.07053036430894204,\"(?)\",\"(?)\"]],\"domain\":{\"x\":[0.0,1.0],\"y\":[0.0,1.0]},\"hovertemplate\":\"labels=%{label}<br>Model count=%{customdata[0]:.d}<br>parent=%{parent}<br>id=%{id}<br>Percentage without responses=%{customdata[1]:.0%}<br>Response Count sum=%{customdata[2]:.d}<br>Success Rate mean=%{color:.2%}<br>Performance weighted mean=%{customdata[4]:.2f}<br>Positives sum=%{customdata[5]:.d}<extra></extra>\",\"ids\":[\"All contexts/Web/Inbound/Services/Account\",\"All contexts/Email/Outbound/Services/Account\",\"All contexts/SMS/Outbound/Services/Account\",\"All contexts/Web/Inbound/Sales/AutoLoans\",\"All contexts/Email/Outbound/Sales/AutoLoans\",\"All contexts/SMS/Outbound/Sales/AutoLoans\",\"All contexts/Web/Inbound/Sales/Bundles\",\"All contexts/Email/Outbound/Sales/Bundles\",\"All contexts/SMS/Outbound/Sales/Bundles\",\"All contexts/Web/Inbound/Sales/CreditCards\",\"All contexts/Email/Outbound/Sales/CreditCards\",\"All contexts/SMS/Outbound/Sales/CreditCards\",\"All contexts/SMS/Outbound/Services/Customer\",\"All contexts/Web/Inbound/Sales/DepositAccounts\",\"All contexts/Email/Outbound/Sales/DepositAccounts\",\"All contexts/SMS/Outbound/Sales/DepositAccounts\",\"All contexts/Web/Inbound/Sales/HomeLoans\",\"All contexts/Email/Outbound/Sales/HomeLoans\",\"All contexts/SMS/Outbound/Sales/HomeLoans\",\"All contexts/Web/Inbound/Sales\",\"All contexts/Email/Outbound/Sales\",\"All contexts/SMS/Outbound/Sales\",\"All contexts/Web/Inbound/Services\",\"All contexts/Email/Outbound/Services\",\"All contexts/SMS/Outbound/Services\",\"All contexts/Web/Inbound\",\"All contexts/Email/Outbound\",\"All contexts/SMS/Outbound\",\"All contexts/Email\",\"All contexts/SMS\",\"All contexts/Web\",\"All contexts\"],\"labels\":[\"Account\",\"Account\",\"Account\",\"AutoLoans\",\"AutoLoans\",\"AutoLoans\",\"Bundles\",\"Bundles\",\"Bundles\",\"CreditCards\",\"CreditCards\",\"CreditCards\",\"Customer\",\"DepositAccounts\",\"DepositAccounts\",\"DepositAccounts\",\"HomeLoans\",\"HomeLoans\",\"HomeLoans\",\"Sales\",\"Sales\",\"Sales\",\"Services\",\"Services\",\"Services\",\"Inbound\",\"Outbound\",\"Outbound\",\"Email\",\"SMS\",\"Web\",\"All contexts\"],\"marker\":{\"coloraxis\":\"coloraxis\",\"colors\":[0.04638846671802414,0.0072825354012137555,0.05640022029487816,0.0844395475775724,0.027161426741624084,0.047650201915249116,0.08005282820548858,0.010666604370831534,0.08278605717330569,0.08123114510073806,0.015054701976766428,0.0607416905806323,0.18940248027057496,0.1863527350847223,0.04838988724951338,0.13958418490192162,0.14011887589688876,0.021722860653991333,0.12429615311635002,0.11053221681162978,0.026408884405710622,0.08277251759556338,0.04638846671802414,0.0072825354012137555,0.08965078528880235,0.10378024311756602,0.025539504905506216,0.08379152021678397,0.025539504905506216,0.08379152021678397,0.10378024311756602,0.07053036430894204]},\"name\":\"\",\"parents\":[\"All contexts/Web/Inbound/Services\",\"All contexts/Email/Outbound/Services\",\"All contexts/SMS/Outbound/Services\",\"All contexts/Web/Inbound/Sales\",\"All contexts/Email/Outbound/Sales\",\"All contexts/SMS/Outbound/Sales\",\"All contexts/Web/Inbound/Sales\",\"All contexts/Email/Outbound/Sales\",\"All contexts/SMS/Outbound/Sales\",\"All contexts/Web/Inbound/Sales\",\"All contexts/Email/Outbound/Sales\",\"All contexts/SMS/Outbound/Sales\",\"All contexts/SMS/Outbound/Services\",\"All contexts/Web/Inbound/Sales\",\"All contexts/Email/Outbound/Sales\",\"All contexts/SMS/Outbound/Sales\",\"All contexts/Web/Inbound/Sales\",\"All contexts/Email/Outbound/Sales\",\"All contexts/SMS/Outbound/Sales\",\"All contexts/Web/Inbound\",\"All contexts/Email/Outbound\",\"All contexts/SMS/Outbound\",\"All contexts/Web/Inbound\",\"All contexts/Email/Outbound\",\"All contexts/SMS/Outbound\",\"All contexts/Web\",\"All contexts/Email\",\"All contexts/SMS\",\"All contexts\",\"All contexts\",\"All contexts\",\"\"],\"values\":[2,1,3,3,5,5,3,2,3,5,6,8,1,3,5,4,3,3,3,17,21,23,2,1,4,19,22,27,22,27,19,68],\"type\":\"treemap\",\"text\":[0.046,0.007,0.056,0.084,0.027,0.048,0.08,0.011,0.083,0.081,0.015,0.061,0.189,0.186,0.048,0.14,0.14,0.022,0.124,0.111,0.026,0.083,0.046,0.007,0.09,0.104,0.026,0.084,0.026,0.084,0.104,0.071],\"textinfo\":\"label+text\",\"texttemplate\":\"%{label}<br>%{text:.2f}%\"}],                        {\"template\":{\"data\":{\"histogram2dcontour\":[{\"type\":\"histogram2dcontour\",\"colorbar\":{\"outlinewidth\":0,\"ticks\":\"\"},\"colorscale\":[[0.0,\"#0d0887\"],[0.1111111111111111,\"#46039f\"],[0.2222222222222222,\"#7201a8\"],[0.3333333333333333,\"#9c179e\"],[0.4444444444444444,\"#bd3786\"],[0.5555555555555556,\"#d8576b\"],[0.6666666666666666,\"#ed7953\"],[0.7777777777777778,\"#fb9f3a\"],[0.8888888888888888,\"#fdca26\"],[1.0,\"#f0f921\"]]}],\"choropleth\":[{\"type\":\"choropleth\",\"colorbar\":{\"outlinewidth\":0,\"ticks\":\"\"}}],\"histogram2d\":[{\"type\":\"histogram2d\",\"colorbar\":{\"outlinewidth\":0,\"ticks\":\"\"},\"colorscale\":[[0.0,\"#0d0887\"],[0.1111111111111111,\"#46039f\"],[0.2222222222222222,\"#7201a8\"],[0.3333333333333333,\"#9c179e\"],[0.4444444444444444,\"#bd3786\"],[0.5555555555555556,\"#d8576b\"],[0.6666666666666666,\"#ed7953\"],[0.7777777777777778,\"#fb9f3a\"],[0.8888888888888888,\"#fdca26\"],[1.0,\"#f0f921\"]]}],\"heatmap\":[{\"type\":\"heatmap\",\"colorbar\":{\"outlinewidth\":0,\"ticks\":\"\"},\"colorscale\":[[0.0,\"#0d0887\"],[0.1111111111111111,\"#46039f\"],[0.2222222222222222,\"#7201a8\"],[0.3333333333333333,\"#9c179e\"],[0.4444444444444444,\"#bd3786\"],[0.5555555555555556,\"#d8576b\"],[0.6666666666666666,\"#ed7953\"],[0.7777777777777778,\"#fb9f3a\"],[0.8888888888888888,\"#fdca26\"],[1.0,\"#f0f921\"]]}],\"heatmapgl\":[{\"type\":\"heatmapgl\",\"colorbar\":{\"outlinewidth\":0,\"ticks\":\"\"},\"colorscale\":[[0.0,\"#0d0887\"],[0.1111111111111111,\"#46039f\"],[0.2222222222222222,\"#7201a8\"],[0.3333333333333333,\"#9c179e\"],[0.4444444444444444,\"#bd3786\"],[0.5555555555555556,\"#d8576b\"],[0.6666666666666666,\"#ed7953\"],[0.7777777777777778,\"#fb9f3a\"],[0.8888888888888888,\"#fdca26\"],[1.0,\"#f0f921\"]]}],\"contourcarpet\":[{\"type\":\"contourcarpet\",\"colorbar\":{\"outlinewidth\":0,\"ticks\":\"\"}}],\"contour\":[{\"type\":\"contour\",\"colorbar\":{\"outlinewidth\":0,\"ticks\":\"\"},\"colorscale\":[[0.0,\"#0d0887\"],[0.1111111111111111,\"#46039f\"],[0.2222222222222222,\"#7201a8\"],[0.3333333333333333,\"#9c179e\"],[0.4444444444444444,\"#bd3786\"],[0.5555555555555556,\"#d8576b\"],[0.6666666666666666,\"#ed7953\"],[0.7777777777777778,\"#fb9f3a\"],[0.8888888888888888,\"#fdca26\"],[1.0,\"#f0f921\"]]}],\"surface\":[{\"type\":\"surface\",\"colorbar\":{\"outlinewidth\":0,\"ticks\":\"\"},\"colorscale\":[[0.0,\"#0d0887\"],[0.1111111111111111,\"#46039f\"],[0.2222222222222222,\"#7201a8\"],[0.3333333333333333,\"#9c179e\"],[0.4444444444444444,\"#bd3786\"],[0.5555555555555556,\"#d8576b\"],[0.6666666666666666,\"#ed7953\"],[0.7777777777777778,\"#fb9f3a\"],[0.8888888888888888,\"#fdca26\"],[1.0,\"#f0f921\"]]}],\"mesh3d\":[{\"type\":\"mesh3d\",\"colorbar\":{\"outlinewidth\":0,\"ticks\":\"\"}}],\"scatter\":[{\"fillpattern\":{\"fillmode\":\"overlay\",\"size\":10,\"solidity\":0.2},\"type\":\"scatter\"}],\"parcoords\":[{\"type\":\"parcoords\",\"line\":{\"colorbar\":{\"outlinewidth\":0,\"ticks\":\"\"}}}],\"scatterpolargl\":[{\"type\":\"scatterpolargl\",\"marker\":{\"colorbar\":{\"outlinewidth\":0,\"ticks\":\"\"}}}],\"bar\":[{\"error_x\":{\"color\":\"#2a3f5f\"},\"error_y\":{\"color\":\"#2a3f5f\"},\"marker\":{\"line\":{\"color\":\"#E5ECF6\",\"width\":0.5},\"pattern\":{\"fillmode\":\"overlay\",\"size\":10,\"solidity\":0.2}},\"type\":\"bar\"}],\"scattergeo\":[{\"type\":\"scattergeo\",\"marker\":{\"colorbar\":{\"outlinewidth\":0,\"ticks\":\"\"}}}],\"scatterpolar\":[{\"type\":\"scatterpolar\",\"marker\":{\"colorbar\":{\"outlinewidth\":0,\"ticks\":\"\"}}}],\"histogram\":[{\"marker\":{\"pattern\":{\"fillmode\":\"overlay\",\"size\":10,\"solidity\":0.2}},\"type\":\"histogram\"}],\"scattergl\":[{\"type\":\"scattergl\",\"marker\":{\"colorbar\":{\"outlinewidth\":0,\"ticks\":\"\"}}}],\"scatter3d\":[{\"type\":\"scatter3d\",\"line\":{\"colorbar\":{\"outlinewidth\":0,\"ticks\":\"\"}},\"marker\":{\"colorbar\":{\"outlinewidth\":0,\"ticks\":\"\"}}}],\"scattermapbox\":[{\"type\":\"scattermapbox\",\"marker\":{\"colorbar\":{\"outlinewidth\":0,\"ticks\":\"\"}}}],\"scatterternary\":[{\"type\":\"scatterternary\",\"marker\":{\"colorbar\":{\"outlinewidth\":0,\"ticks\":\"\"}}}],\"scattercarpet\":[{\"type\":\"scattercarpet\",\"marker\":{\"colorbar\":{\"outlinewidth\":0,\"ticks\":\"\"}}}],\"carpet\":[{\"aaxis\":{\"endlinecolor\":\"#2a3f5f\",\"gridcolor\":\"white\",\"linecolor\":\"white\",\"minorgridcolor\":\"white\",\"startlinecolor\":\"#2a3f5f\"},\"baxis\":{\"endlinecolor\":\"#2a3f5f\",\"gridcolor\":\"white\",\"linecolor\":\"white\",\"minorgridcolor\":\"white\",\"startlinecolor\":\"#2a3f5f\"},\"type\":\"carpet\"}],\"table\":[{\"cells\":{\"fill\":{\"color\":\"#EBF0F8\"},\"line\":{\"color\":\"white\"}},\"header\":{\"fill\":{\"color\":\"#C8D4E3\"},\"line\":{\"color\":\"white\"}},\"type\":\"table\"}],\"barpolar\":[{\"marker\":{\"line\":{\"color\":\"#E5ECF6\",\"width\":0.5},\"pattern\":{\"fillmode\":\"overlay\",\"size\":10,\"solidity\":0.2}},\"type\":\"barpolar\"}],\"pie\":[{\"automargin\":true,\"type\":\"pie\"}]},\"layout\":{\"autotypenumbers\":\"strict\",\"colorway\":[\"#636efa\",\"#EF553B\",\"#00cc96\",\"#ab63fa\",\"#FFA15A\",\"#19d3f3\",\"#FF6692\",\"#B6E880\",\"#FF97FF\",\"#FECB52\"],\"font\":{\"color\":\"#2a3f5f\"},\"hovermode\":\"closest\",\"hoverlabel\":{\"align\":\"left\"},\"paper_bgcolor\":\"white\",\"plot_bgcolor\":\"#E5ECF6\",\"polar\":{\"bgcolor\":\"#E5ECF6\",\"angularaxis\":{\"gridcolor\":\"white\",\"linecolor\":\"white\",\"ticks\":\"\"},\"radialaxis\":{\"gridcolor\":\"white\",\"linecolor\":\"white\",\"ticks\":\"\"}},\"ternary\":{\"bgcolor\":\"#E5ECF6\",\"aaxis\":{\"gridcolor\":\"white\",\"linecolor\":\"white\",\"ticks\":\"\"},\"baxis\":{\"gridcolor\":\"white\",\"linecolor\":\"white\",\"ticks\":\"\"},\"caxis\":{\"gridcolor\":\"white\",\"linecolor\":\"white\",\"ticks\":\"\"}},\"coloraxis\":{\"colorbar\":{\"outlinewidth\":0,\"ticks\":\"\"}},\"colorscale\":{\"sequential\":[[0.0,\"#0d0887\"],[0.1111111111111111,\"#46039f\"],[0.2222222222222222,\"#7201a8\"],[0.3333333333333333,\"#9c179e\"],[0.4444444444444444,\"#bd3786\"],[0.5555555555555556,\"#d8576b\"],[0.6666666666666666,\"#ed7953\"],[0.7777777777777778,\"#fb9f3a\"],[0.8888888888888888,\"#fdca26\"],[1.0,\"#f0f921\"]],\"sequentialminus\":[[0.0,\"#0d0887\"],[0.1111111111111111,\"#46039f\"],[0.2222222222222222,\"#7201a8\"],[0.3333333333333333,\"#9c179e\"],[0.4444444444444444,\"#bd3786\"],[0.5555555555555556,\"#d8576b\"],[0.6666666666666666,\"#ed7953\"],[0.7777777777777778,\"#fb9f3a\"],[0.8888888888888888,\"#fdca26\"],[1.0,\"#f0f921\"]],\"diverging\":[[0,\"#8e0152\"],[0.1,\"#c51b7d\"],[0.2,\"#de77ae\"],[0.3,\"#f1b6da\"],[0.4,\"#fde0ef\"],[0.5,\"#f7f7f7\"],[0.6,\"#e6f5d0\"],[0.7,\"#b8e186\"],[0.8,\"#7fbc41\"],[0.9,\"#4d9221\"],[1,\"#276419\"]]},\"xaxis\":{\"gridcolor\":\"white\",\"linecolor\":\"white\",\"ticks\":\"\",\"title\":{\"standoff\":15},\"zerolinecolor\":\"white\",\"automargin\":true,\"zerolinewidth\":2},\"yaxis\":{\"gridcolor\":\"white\",\"linecolor\":\"white\",\"ticks\":\"\",\"title\":{\"standoff\":15},\"zerolinecolor\":\"white\",\"automargin\":true,\"zerolinewidth\":2},\"scene\":{\"xaxis\":{\"backgroundcolor\":\"#E5ECF6\",\"gridcolor\":\"white\",\"linecolor\":\"white\",\"showbackground\":true,\"ticks\":\"\",\"zerolinecolor\":\"white\",\"gridwidth\":2},\"yaxis\":{\"backgroundcolor\":\"#E5ECF6\",\"gridcolor\":\"white\",\"linecolor\":\"white\",\"showbackground\":true,\"ticks\":\"\",\"zerolinecolor\":\"white\",\"gridwidth\":2},\"zaxis\":{\"backgroundcolor\":\"#E5ECF6\",\"gridcolor\":\"white\",\"linecolor\":\"white\",\"showbackground\":true,\"ticks\":\"\",\"zerolinecolor\":\"white\",\"gridwidth\":2}},\"shapedefaults\":{\"line\":{\"color\":\"#2a3f5f\"}},\"annotationdefaults\":{\"arrowcolor\":\"#2a3f5f\",\"arrowhead\":0,\"arrowwidth\":1},\"geo\":{\"bgcolor\":\"white\",\"landcolor\":\"#E5ECF6\",\"subunitcolor\":\"white\",\"showland\":true,\"showlakes\":true,\"lakecolor\":\"white\"},\"title\":{\"x\":0.05},\"mapbox\":{\"style\":\"light\"}}},\"coloraxis\":{\"colorbar\":{\"title\":{\"text\":\"Success Rate mean\"}},\"colorscale\":[[0.0,\"#d91c29\"],[0.5,\"#F76923\"],[1.0,\"#20aa50\"]],\"reversescale\":false},\"legend\":{\"tracegroupgap\":0},\"title\":{\"text\":\"Success rate, per context key combination\"}},                        {\"responsive\": true}                    ).then(function(){\n",
       "                            \n",
       "var gd = document.getElementById('cbc9a561-d907-41cc-b29a-97013a11a70f');\n",
       "var x = new MutationObserver(function (mutations, observer) {{\n",
       "        var display = window.getComputedStyle(gd).display;\n",
       "        if (!display || display === 'none') {{\n",
       "            console.log([gd, 'removed!']);\n",
       "            Plotly.purge(gd);\n",
       "            observer.disconnect();\n",
       "        }}\n",
       "}});\n",
       "\n",
       "// Listen for the removal of the full notebook cells\n",
       "var notebookContainer = gd.closest('#notebook-container');\n",
       "if (notebookContainer) {{\n",
       "    x.observe(notebookContainer, {childList: true});\n",
       "}}\n",
       "\n",
       "// Listen for the clearing of the current output cell\n",
       "var outputEl = gd.closest('.output');\n",
       "if (outputEl) {{\n",
       "    x.observe(outputEl, {childList: true});\n",
       "}}\n",
       "\n",
       "                        })                };                });            </script>        </div>"
      ]
     },
     "metadata": {},
     "output_type": "display_data"
    }
   ],
   "source": [
    "CDHSample.plotTreeMap(\"SuccessRate\")\n"
   ]
  },
  {
   "attachments": {},
   "cell_type": "markdown",
   "metadata": {},
   "source": [
    "Similar to the responses, the success rate over time can also be of interest. With 'plotOverTime', you can plot the success rate of different models as they develop over time."
   ]
  },
  {
   "cell_type": "code",
   "execution_count": 9,
   "metadata": {
    "execution": {
     "iopub.execute_input": "2023-03-14T17:30:42.398096Z",
     "iopub.status.busy": "2023-03-14T17:30:42.397881Z",
     "iopub.status.idle": "2023-03-14T17:30:42.492685Z",
     "shell.execute_reply": "2023-03-14T17:30:42.492112Z"
    }
   },
   "outputs": [
    {
     "data": {
      "text/html": [
       "<div>                            <div id=\"cdb7aa36-2383-4733-bc2c-e988c665c937\" class=\"plotly-graph-div\" style=\"height:525px; width:100%;\"></div>            <script type=\"text/javascript\">                require([\"plotly\"], function(Plotly) {                    window.PLOTLYENV=window.PLOTLYENV || {};                                    if (document.getElementById(\"cdb7aa36-2383-4733-bc2c-e988c665c937\")) {                    Plotly.newPlot(                        \"cdb7aa36-2383-4733-bc2c-e988c665c937\",                        [{\"customdata\":[[\"08ca1302-9fc0-57bf-9031-d4179d400493\"]],\"hovertemplate\":\"ModelID=%{customdata[0]:.d}<br>SnapshotTime=%{x}<br>SuccessRate=%{y:.2%}<extra></extra>\",\"legendgroup\":\"08ca1302-9fc0-57bf-9031-d4179d400493\",\"line\":{\"color\":\"#001F5F\",\"dash\":\"solid\"},\"marker\":{\"symbol\":\"circle\"},\"mode\":\"markers+lines\",\"name\":\"08ca1302-9fc0-57bf-9031-d4179d400493\",\"orientation\":\"v\",\"showlegend\":true,\"x\":[\"2021-06-01T00:00:00\"],\"xaxis\":\"x\",\"y\":[0.12809095625108075],\"yaxis\":\"y\",\"type\":\"scatter\"},{\"customdata\":[[\"0ad9da35-f171-5ab9-973f-1cc4b89b4e8f\"]],\"hovertemplate\":\"ModelID=%{customdata[0]:.d}<br>SnapshotTime=%{x}<br>SuccessRate=%{y:.2%}<extra></extra>\",\"legendgroup\":\"0ad9da35-f171-5ab9-973f-1cc4b89b4e8f\",\"line\":{\"color\":\"#10A5AC\",\"dash\":\"solid\"},\"marker\":{\"symbol\":\"circle\"},\"mode\":\"markers+lines\",\"name\":\"0ad9da35-f171-5ab9-973f-1cc4b89b4e8f\",\"orientation\":\"v\",\"showlegend\":true,\"x\":[\"2021-06-01T00:00:00\"],\"xaxis\":\"x\",\"y\":[0.08783685360524399],\"yaxis\":\"y\",\"type\":\"scatter\"},{\"customdata\":[[\"17571d69-f802-5122-9bfe-6f3f4ef9073b\"]],\"hovertemplate\":\"ModelID=%{customdata[0]:.d}<br>SnapshotTime=%{x}<br>SuccessRate=%{y:.2%}<extra></extra>\",\"legendgroup\":\"17571d69-f802-5122-9bfe-6f3f4ef9073b\",\"line\":{\"color\":\"#F76923\",\"dash\":\"solid\"},\"marker\":{\"symbol\":\"circle\"},\"mode\":\"markers+lines\",\"name\":\"17571d69-f802-5122-9bfe-6f3f4ef9073b\",\"orientation\":\"v\",\"showlegend\":true,\"x\":[\"2021-06-01T00:00:00\"],\"xaxis\":\"x\",\"y\":[0.05531505531505532],\"yaxis\":\"y\",\"type\":\"scatter\"},{\"customdata\":[[\"59f06605-5b39-57dd-945b-637a72fa9085\"]],\"hovertemplate\":\"ModelID=%{customdata[0]:.d}<br>SnapshotTime=%{x}<br>SuccessRate=%{y:.2%}<extra></extra>\",\"legendgroup\":\"59f06605-5b39-57dd-945b-637a72fa9085\",\"line\":{\"color\":\"#661D34\",\"dash\":\"solid\"},\"marker\":{\"symbol\":\"circle\"},\"mode\":\"markers+lines\",\"name\":\"59f06605-5b39-57dd-945b-637a72fa9085\",\"orientation\":\"v\",\"showlegend\":true,\"x\":[\"2021-06-01T00:00:00\"],\"xaxis\":\"x\",\"y\":[0.015042306486994672],\"yaxis\":\"y\",\"type\":\"scatter\"},{\"customdata\":[[\"5cb8d642-390e-5c3e-8868-d34768f9535c\"]],\"hovertemplate\":\"ModelID=%{customdata[0]:.d}<br>SnapshotTime=%{x}<br>SuccessRate=%{y:.2%}<extra></extra>\",\"legendgroup\":\"5cb8d642-390e-5c3e-8868-d34768f9535c\",\"line\":{\"color\":\"#86CAC6\",\"dash\":\"solid\"},\"marker\":{\"symbol\":\"circle\"},\"mode\":\"markers+lines\",\"name\":\"5cb8d642-390e-5c3e-8868-d34768f9535c\",\"orientation\":\"v\",\"showlegend\":true,\"x\":[\"2021-06-01T00:00:00\"],\"xaxis\":\"x\",\"y\":[0.0990971853425385],\"yaxis\":\"y\",\"type\":\"scatter\"},{\"customdata\":[[\"68e1d164-81e3-5da0-816c-0bbc3c20ac6c\"]],\"hovertemplate\":\"ModelID=%{customdata[0]:.d}<br>SnapshotTime=%{x}<br>SuccessRate=%{y:.2%}<extra></extra>\",\"legendgroup\":\"68e1d164-81e3-5da0-816c-0bbc3c20ac6c\",\"line\":{\"color\":\"#005154\",\"dash\":\"solid\"},\"marker\":{\"symbol\":\"circle\"},\"mode\":\"markers+lines\",\"name\":\"68e1d164-81e3-5da0-816c-0bbc3c20ac6c\",\"orientation\":\"v\",\"showlegend\":true,\"x\":[\"2021-06-01T00:00:00\"],\"xaxis\":\"x\",\"y\":[0.11967532467532467],\"yaxis\":\"y\",\"type\":\"scatter\"},{\"customdata\":[[\"692f453a-f825-5a90-ab40-f83cbb34b058\"]],\"hovertemplate\":\"ModelID=%{customdata[0]:.d}<br>SnapshotTime=%{x}<br>SuccessRate=%{y:.2%}<extra></extra>\",\"legendgroup\":\"692f453a-f825-5a90-ab40-f83cbb34b058\",\"line\":{\"color\":\"#86CAC6\",\"dash\":\"solid\"},\"marker\":{\"symbol\":\"circle\"},\"mode\":\"markers+lines\",\"name\":\"692f453a-f825-5a90-ab40-f83cbb34b058\",\"orientation\":\"v\",\"showlegend\":true,\"x\":[\"2021-06-01T00:00:00\"],\"xaxis\":\"x\",\"y\":[0.017693836978131212],\"yaxis\":\"y\",\"type\":\"scatter\"},{\"customdata\":[[\"708f20ef-7ca1-58f4-9dfa-b7efb5342fcf\"]],\"hovertemplate\":\"ModelID=%{customdata[0]:.d}<br>SnapshotTime=%{x}<br>SuccessRate=%{y:.2%}<extra></extra>\",\"legendgroup\":\"708f20ef-7ca1-58f4-9dfa-b7efb5342fcf\",\"line\":{\"color\":\"#5F67B9\",\"dash\":\"solid\"},\"marker\":{\"symbol\":\"circle\"},\"mode\":\"markers+lines\",\"name\":\"708f20ef-7ca1-58f4-9dfa-b7efb5342fcf\",\"orientation\":\"v\",\"showlegend\":true,\"x\":[\"2021-06-01T00:00:00\"],\"xaxis\":\"x\",\"y\":[0.17782909930715934],\"yaxis\":\"y\",\"type\":\"scatter\"},{\"customdata\":[[\"7d2046d5-be79-5f5a-a858-dcd9c65fd086\"]],\"hovertemplate\":\"ModelID=%{customdata[0]:.d}<br>SnapshotTime=%{x}<br>SuccessRate=%{y:.2%}<extra></extra>\",\"legendgroup\":\"7d2046d5-be79-5f5a-a858-dcd9c65fd086\",\"line\":{\"color\":\"#FFC836\",\"dash\":\"solid\"},\"marker\":{\"symbol\":\"circle\"},\"mode\":\"markers+lines\",\"name\":\"7d2046d5-be79-5f5a-a858-dcd9c65fd086\",\"orientation\":\"v\",\"showlegend\":true,\"x\":[\"2021-06-01T00:00:00\"],\"xaxis\":\"x\",\"y\":[0.026831231553528307],\"yaxis\":\"y\",\"type\":\"scatter\"},{\"customdata\":[[\"8e40882a-aacf-5f03-9be8-f833c7932da2\"]],\"hovertemplate\":\"ModelID=%{customdata[0]:.d}<br>SnapshotTime=%{x}<br>SuccessRate=%{y:.2%}<extra></extra>\",\"legendgroup\":\"8e40882a-aacf-5f03-9be8-f833c7932da2\",\"line\":{\"color\":\"#E63690\",\"dash\":\"solid\"},\"marker\":{\"symbol\":\"circle\"},\"mode\":\"markers+lines\",\"name\":\"8e40882a-aacf-5f03-9be8-f833c7932da2\",\"orientation\":\"v\",\"showlegend\":true,\"x\":[\"2021-06-01T00:00:00\"],\"xaxis\":\"x\",\"y\":[0.020446435073920327],\"yaxis\":\"y\",\"type\":\"scatter\"},{\"customdata\":[[\"95ae0f10-297a-5c01-94d8-914bb89df969\"]],\"hovertemplate\":\"ModelID=%{customdata[0]:.d}<br>SnapshotTime=%{x}<br>SuccessRate=%{y:.2%}<extra></extra>\",\"legendgroup\":\"95ae0f10-297a-5c01-94d8-914bb89df969\",\"line\":{\"color\":\"#AC1361\",\"dash\":\"solid\"},\"marker\":{\"symbol\":\"circle\"},\"mode\":\"markers+lines\",\"name\":\"95ae0f10-297a-5c01-94d8-914bb89df969\",\"orientation\":\"v\",\"showlegend\":true,\"x\":[\"2021-06-01T00:00:00\"],\"xaxis\":\"x\",\"y\":[0.09730902777777778],\"yaxis\":\"y\",\"type\":\"scatter\"},{\"customdata\":[[\"9e9e8c2e-6d19-538c-8e7b-a73070717ecf\"]],\"hovertemplate\":\"ModelID=%{customdata[0]:.d}<br>SnapshotTime=%{x}<br>SuccessRate=%{y:.2%}<extra></extra>\",\"legendgroup\":\"9e9e8c2e-6d19-538c-8e7b-a73070717ecf\",\"line\":{\"color\":\"#63666F\",\"dash\":\"solid\"},\"marker\":{\"symbol\":\"circle\"},\"mode\":\"markers+lines\",\"name\":\"9e9e8c2e-6d19-538c-8e7b-a73070717ecf\",\"orientation\":\"v\",\"showlegend\":true,\"x\":[\"2021-06-01T00:00:00\"],\"xaxis\":\"x\",\"y\":[0.027344686975293835],\"yaxis\":\"y\",\"type\":\"scatter\"},{\"customdata\":[[\"a87d51fb-cfdc-598d-b84a-dcdd64e1e750\"]],\"hovertemplate\":\"ModelID=%{customdata[0]:.d}<br>SnapshotTime=%{x}<br>SuccessRate=%{y:.2%}<extra></extra>\",\"legendgroup\":\"a87d51fb-cfdc-598d-b84a-dcdd64e1e750\",\"line\":{\"color\":\"#A7A9B4\",\"dash\":\"solid\"},\"marker\":{\"symbol\":\"circle\"},\"mode\":\"markers+lines\",\"name\":\"a87d51fb-cfdc-598d-b84a-dcdd64e1e750\",\"orientation\":\"v\",\"showlegend\":true,\"x\":[\"2021-06-01T00:00:00\"],\"xaxis\":\"x\",\"y\":[0.22175775943149753],\"yaxis\":\"y\",\"type\":\"scatter\"},{\"customdata\":[[\"a8cd5e12-5d10-5b62-95f6-c5bb6344a83a\"]],\"hovertemplate\":\"ModelID=%{customdata[0]:.d}<br>SnapshotTime=%{x}<br>SuccessRate=%{y:.2%}<extra></extra>\",\"legendgroup\":\"a8cd5e12-5d10-5b62-95f6-c5bb6344a83a\",\"line\":{\"color\":\"#D0D1DB\",\"dash\":\"solid\"},\"marker\":{\"symbol\":\"circle\"},\"mode\":\"markers+lines\",\"name\":\"a8cd5e12-5d10-5b62-95f6-c5bb6344a83a\",\"orientation\":\"v\",\"showlegend\":true,\"x\":[\"2021-06-01T00:00:00\"],\"xaxis\":\"x\",\"y\":[0.1992942418046303],\"yaxis\":\"y\",\"type\":\"scatter\"},{\"customdata\":[[\"a8cde9d1-c720-537c-8fb8-8c59506bddfe\"]],\"hovertemplate\":\"ModelID=%{customdata[0]:.d}<br>SnapshotTime=%{x}<br>SuccessRate=%{y:.2%}<extra></extra>\",\"legendgroup\":\"a8cde9d1-c720-537c-8fb8-8c59506bddfe\",\"line\":{\"color\":\"#001F5F\",\"dash\":\"solid\"},\"marker\":{\"symbol\":\"circle\"},\"mode\":\"markers+lines\",\"name\":\"a8cde9d1-c720-537c-8fb8-8c59506bddfe\",\"orientation\":\"v\",\"showlegend\":true,\"x\":[\"2021-06-01T00:00:00\"],\"xaxis\":\"x\",\"y\":[0.05983045321160743],\"yaxis\":\"y\",\"type\":\"scatter\"},{\"customdata\":[[\"c29ffcfa-5210-5998-a826-f3a8db57c610\"]],\"hovertemplate\":\"ModelID=%{customdata[0]:.d}<br>SnapshotTime=%{x}<br>SuccessRate=%{y:.2%}<extra></extra>\",\"legendgroup\":\"c29ffcfa-5210-5998-a826-f3a8db57c610\",\"line\":{\"color\":\"#10A5AC\",\"dash\":\"solid\"},\"marker\":{\"symbol\":\"circle\"},\"mode\":\"markers+lines\",\"name\":\"c29ffcfa-5210-5998-a826-f3a8db57c610\",\"orientation\":\"v\",\"showlegend\":true,\"x\":[\"2021-06-01T00:00:00\"],\"xaxis\":\"x\",\"y\":[0.24501061571125266],\"yaxis\":\"y\",\"type\":\"scatter\"},{\"customdata\":[[\"c8a529fb-9d2c-5069-a50f-42ee1ea9341a\"]],\"hovertemplate\":\"ModelID=%{customdata[0]:.d}<br>SnapshotTime=%{x}<br>SuccessRate=%{y:.2%}<extra></extra>\",\"legendgroup\":\"c8a529fb-9d2c-5069-a50f-42ee1ea9341a\",\"line\":{\"color\":\"#F76923\",\"dash\":\"solid\"},\"marker\":{\"symbol\":\"circle\"},\"mode\":\"markers+lines\",\"name\":\"c8a529fb-9d2c-5069-a50f-42ee1ea9341a\",\"orientation\":\"v\",\"showlegend\":true,\"x\":[\"2021-06-01T00:00:00\"],\"xaxis\":\"x\",\"y\":[0.04353846153846154],\"yaxis\":\"y\",\"type\":\"scatter\"},{\"customdata\":[[\"dd502275-e98b-51f7-8935-c30c84641871\"]],\"hovertemplate\":\"ModelID=%{customdata[0]:.d}<br>SnapshotTime=%{x}<br>SuccessRate=%{y:.2%}<extra></extra>\",\"legendgroup\":\"dd502275-e98b-51f7-8935-c30c84641871\",\"line\":{\"color\":\"#661D34\",\"dash\":\"solid\"},\"marker\":{\"symbol\":\"circle\"},\"mode\":\"markers+lines\",\"name\":\"dd502275-e98b-51f7-8935-c30c84641871\",\"orientation\":\"v\",\"showlegend\":true,\"x\":[\"2021-06-01T00:00:00\"],\"xaxis\":\"x\",\"y\":[0.05347189665051831],\"yaxis\":\"y\",\"type\":\"scatter\"},{\"customdata\":[[\"ea0a225a-7d09-5d90-88f6-d0e8380d67cc\"]],\"hovertemplate\":\"ModelID=%{customdata[0]:.d}<br>SnapshotTime=%{x}<br>SuccessRate=%{y:.2%}<extra></extra>\",\"legendgroup\":\"ea0a225a-7d09-5d90-88f6-d0e8380d67cc\",\"line\":{\"color\":\"#86CAC6\",\"dash\":\"solid\"},\"marker\":{\"symbol\":\"circle\"},\"mode\":\"markers+lines\",\"name\":\"ea0a225a-7d09-5d90-88f6-d0e8380d67cc\",\"orientation\":\"v\",\"showlegend\":true,\"x\":[\"2021-06-01T00:00:00\"],\"xaxis\":\"x\",\"y\":[0.28196831816649814],\"yaxis\":\"y\",\"type\":\"scatter\"}],                        {\"template\":{\"layout\":{\"colorway\":[\"#001F5F\",\"#10A5AC\",\"#F76923\",\"#661D34\",\"#86CAC6\",\"#005154\",\"#86CAC6\",\"#5F67B9\",\"#FFC836\",\"#E63690\",\"#AC1361\",\"#63666F\",\"#A7A9B4\",\"#D0D1DB\"],\"hovermode\":\"closest\"}},\"xaxis\":{\"anchor\":\"y\",\"domain\":[0.0,1.0],\"title\":{\"text\":\"SnapshotTime\"}},\"yaxis\":{\"anchor\":\"x\",\"domain\":[0.0,1.0],\"title\":{\"text\":\"SuccessRate\"},\"tickformat\":\",.0%\",\"rangemode\":\"tozero\"},\"legend\":{\"title\":{\"text\":\"ModelID\"},\"tracegroupgap\":0},\"title\":{\"text\":\"SuccessRate over time, per ModelID over all models <br><sup>Query: [(col(\\\"Channel\\\")) == (Utf8(Web))]</sup>\"}},                        {\"responsive\": true}                    ).then(function(){\n",
       "                            \n",
       "var gd = document.getElementById('cdb7aa36-2383-4733-bc2c-e988c665c937');\n",
       "var x = new MutationObserver(function (mutations, observer) {{\n",
       "        var display = window.getComputedStyle(gd).display;\n",
       "        if (!display || display === 'none') {{\n",
       "            console.log([gd, 'removed!']);\n",
       "            Plotly.purge(gd);\n",
       "            observer.disconnect();\n",
       "        }}\n",
       "}});\n",
       "\n",
       "// Listen for the removal of the full notebook cells\n",
       "var notebookContainer = gd.closest('#notebook-container');\n",
       "if (notebookContainer) {{\n",
       "    x.observe(notebookContainer, {childList: true});\n",
       "}}\n",
       "\n",
       "// Listen for the clearing of the current output cell\n",
       "var outputEl = gd.closest('.output');\n",
       "if (outputEl) {{\n",
       "    x.observe(outputEl, {childList: true});\n",
       "}}\n",
       "\n",
       "                        })                };                });            </script>        </div>"
      ]
     },
     "metadata": {},
     "output_type": "display_data"
    }
   ],
   "source": [
    "CDHSample.plotOverTime(\"SuccessRate\", by=\"ModelID\", query=pl.col(\"Channel\") == \"Web\")\n"
   ]
  },
  {
   "cell_type": "markdown",
   "metadata": {},
   "source": [
    "And if it is not interesting to consider the success rate over time, there is also 'plotPropositionSuccessRates', which by default considers the last state of the models and plots the histogram of their success rates."
   ]
  },
  {
   "cell_type": "code",
   "execution_count": 10,
   "metadata": {
    "execution": {
     "iopub.execute_input": "2023-03-14T17:30:42.495357Z",
     "iopub.status.busy": "2023-03-14T17:30:42.495009Z",
     "iopub.status.idle": "2023-03-14T17:30:42.598081Z",
     "shell.execute_reply": "2023-03-14T17:30:42.597592Z"
    }
   },
   "outputs": [
    {
     "name": "stderr",
     "output_type": "stream",
     "text": [
      "The predicate 'col(\"SuccessRate\").var().is_not_nan()' in 'when->then->otherwise' is not a valid aggregation and might produce a different number of rows than the groupby operation would. This behavior is experimental and may be subject to change\n"
     ]
    },
    {
     "data": {
      "text/html": [
       "<div>                            <div id=\"7377944b-f3d6-4e35-9541-3e8f12d2494e\" class=\"plotly-graph-div\" style=\"height:525px; width:100%;\"></div>            <script type=\"text/javascript\">                require([\"plotly\"], function(Plotly) {                    window.PLOTLYENV=window.PLOTLYENV || {};                                    if (document.getElementById(\"7377944b-f3d6-4e35-9541-3e8f12d2494e\")) {                    Plotly.newPlot(                        \"7377944b-f3d6-4e35-9541-3e8f12d2494e\",                        [{\"alignmentgroup\":\"True\",\"bingroup\":\"y\",\"histfunc\":\"avg\",\"hovertemplate\":\"Name=%{y}<br>avg of SuccessRate=%{x}<extra></extra>\",\"legendgroup\":\"FirstMortgage\",\"marker\":{\"color\":\"#001F5F\",\"pattern\":{\"shape\":\"\"}},\"name\":\"FirstMortgage\",\"offsetgroup\":\"FirstMortgage\",\"orientation\":\"h\",\"showlegend\":true,\"x\":[0.22154072620215898],\"xaxis\":\"x\",\"y\":[\"FirstMortgage\"],\"yaxis\":\"y\",\"type\":\"histogram\",\"error_x\":{\"array\":[0.0],\"valueminus\":0}},{\"alignmentgroup\":\"True\",\"bingroup\":\"y\",\"histfunc\":\"avg\",\"hovertemplate\":\"Name=%{y}<br>avg of SuccessRate=%{x}<extra></extra>\",\"legendgroup\":\"MasterCardGold\",\"marker\":{\"color\":\"#10A5AC\",\"pattern\":{\"shape\":\"\"}},\"name\":\"MasterCardGold\",\"offsetgroup\":\"MasterCardGold\",\"orientation\":\"h\",\"showlegend\":true,\"x\":[0.02155688622754491],\"xaxis\":\"x\",\"y\":[\"MasterCardGold\"],\"yaxis\":\"y\",\"type\":\"histogram\",\"error_x\":{\"array\":[0.0],\"valueminus\":0}},{\"alignmentgroup\":\"True\",\"bingroup\":\"y\",\"histfunc\":\"avg\",\"hovertemplate\":\"Name=%{y}<br>avg of SuccessRate=%{x}<extra></extra>\",\"legendgroup\":\"PremierChecking\",\"marker\":{\"color\":\"#F76923\",\"pattern\":{\"shape\":\"\"}},\"name\":\"PremierChecking\",\"offsetgroup\":\"PremierChecking\",\"orientation\":\"h\",\"showlegend\":true,\"x\":[0.27770208900999094],\"xaxis\":\"x\",\"y\":[\"PremierChecking\"],\"yaxis\":\"y\",\"type\":\"histogram\",\"error_x\":{\"array\":[0.0],\"valueminus\":0}},{\"alignmentgroup\":\"True\",\"bingroup\":\"y\",\"histfunc\":\"avg\",\"hovertemplate\":\"Name=%{y}<br>avg of SuccessRate=%{x}<extra></extra>\",\"legendgroup\":\"IncreaseYourCreditLine\",\"marker\":{\"color\":\"#661D34\",\"pattern\":{\"shape\":\"\"}},\"name\":\"IncreaseYourCreditLine\",\"offsetgroup\":\"IncreaseYourCreditLine\",\"orientation\":\"h\",\"showlegend\":true,\"x\":[0.041879153144799876],\"xaxis\":\"x\",\"y\":[\"IncreaseYourCreditLine\"],\"yaxis\":\"y\",\"type\":\"histogram\",\"error_x\":{\"array\":[0.0],\"valueminus\":0}},{\"alignmentgroup\":\"True\",\"bingroup\":\"y\",\"histfunc\":\"avg\",\"hovertemplate\":\"Name=%{y}<br>avg of SuccessRate=%{x}<extra></extra>\",\"legendgroup\":\"PlatinumRewardsCard\",\"marker\":{\"color\":\"#86CAC6\",\"pattern\":{\"shape\":\"\"}},\"name\":\"PlatinumRewardsCard\",\"offsetgroup\":\"PlatinumRewardsCard\",\"orientation\":\"h\",\"showlegend\":true,\"x\":[0.015435501653803748],\"xaxis\":\"x\",\"y\":[\"PlatinumRewardsCard\"],\"yaxis\":\"y\",\"type\":\"histogram\",\"error_x\":{\"array\":[0.0],\"valueminus\":0}},{\"alignmentgroup\":\"True\",\"bingroup\":\"y\",\"histfunc\":\"avg\",\"hovertemplate\":\"Name=%{y}<br>avg of SuccessRate=%{x}<extra></extra>\",\"legendgroup\":\"FirstMortgageFloat\",\"marker\":{\"color\":\"#005154\",\"pattern\":{\"shape\":\"\"}},\"name\":\"FirstMortgageFloat\",\"offsetgroup\":\"FirstMortgageFloat\",\"orientation\":\"h\",\"showlegend\":true,\"x\":[0.025096525096525095],\"xaxis\":\"x\",\"y\":[\"FirstMortgageFloat\"],\"yaxis\":\"y\",\"type\":\"histogram\",\"error_x\":{\"array\":[0.0],\"valueminus\":0}},{\"alignmentgroup\":\"True\",\"bingroup\":\"y\",\"histfunc\":\"avg\",\"hovertemplate\":\"Name=%{y}<br>avg of SuccessRate=%{x}<extra></extra>\",\"legendgroup\":\"MoneyMarketSavingsAccount\",\"marker\":{\"color\":\"#86CAC6\",\"pattern\":{\"shape\":\"\"}},\"name\":\"MoneyMarketSavingsAccount\",\"offsetgroup\":\"MoneyMarketSavingsAccount\",\"orientation\":\"h\",\"showlegend\":true,\"x\":[0.0912106135986733],\"xaxis\":\"x\",\"y\":[\"MoneyMarketSavingsAccount\"],\"yaxis\":\"y\",\"type\":\"histogram\",\"error_x\":{\"array\":[0.0],\"valueminus\":0}},{\"alignmentgroup\":\"True\",\"bingroup\":\"y\",\"histfunc\":\"avg\",\"hovertemplate\":\"Name=%{y}<br>avg of SuccessRate=%{x}<extra></extra>\",\"legendgroup\":\"UPlusFinGold\",\"marker\":{\"color\":\"#5F67B9\",\"pattern\":{\"shape\":\"\"}},\"name\":\"UPlusFinGold\",\"offsetgroup\":\"UPlusFinGold\",\"orientation\":\"h\",\"showlegend\":true,\"x\":[0.059308510638297875],\"xaxis\":\"x\",\"y\":[\"UPlusFinGold\"],\"yaxis\":\"y\",\"type\":\"histogram\",\"error_x\":{\"array\":[0.0],\"valueminus\":0}},{\"alignmentgroup\":\"True\",\"bingroup\":\"y\",\"histfunc\":\"avg\",\"hovertemplate\":\"Name=%{y}<br>avg of SuccessRate=%{x}<extra></extra>\",\"legendgroup\":\"PremiumBanking\",\"marker\":{\"color\":\"#FFC836\",\"pattern\":{\"shape\":\"\"}},\"name\":\"PremiumBanking\",\"offsetgroup\":\"PremiumBanking\",\"orientation\":\"h\",\"showlegend\":true,\"x\":[0.019513137557959814],\"xaxis\":\"x\",\"y\":[\"PremiumBanking\"],\"yaxis\":\"y\",\"type\":\"histogram\",\"error_x\":{\"array\":[0.0],\"valueminus\":0}},{\"alignmentgroup\":\"True\",\"bingroup\":\"y\",\"histfunc\":\"avg\",\"hovertemplate\":\"Name=%{y}<br>avg of SuccessRate=%{x}<extra></extra>\",\"legendgroup\":\"HomeOwners\",\"marker\":{\"color\":\"#E63690\",\"pattern\":{\"shape\":\"\"}},\"name\":\"HomeOwners\",\"offsetgroup\":\"HomeOwners\",\"orientation\":\"h\",\"showlegend\":true,\"x\":[0.13224755700325733],\"xaxis\":\"x\",\"y\":[\"HomeOwners\"],\"yaxis\":\"y\",\"type\":\"histogram\",\"error_x\":{\"array\":[0.0],\"valueminus\":0}},{\"alignmentgroup\":\"True\",\"bingroup\":\"y\",\"histfunc\":\"avg\",\"hovertemplate\":\"Name=%{y}<br>avg of SuccessRate=%{x}<extra></extra>\",\"legendgroup\":\"AutoNew84Months\",\"marker\":{\"color\":\"#AC1361\",\"pattern\":{\"shape\":\"\"}},\"name\":\"AutoNew84Months\",\"offsetgroup\":\"AutoNew84Months\",\"orientation\":\"h\",\"showlegend\":true,\"x\":[0.12591687041564792],\"xaxis\":\"x\",\"y\":[\"AutoNew84Months\"],\"yaxis\":\"y\",\"type\":\"histogram\",\"error_x\":{\"array\":[0.0],\"valueminus\":0}},{\"alignmentgroup\":\"True\",\"bingroup\":\"y\",\"histfunc\":\"avg\",\"hovertemplate\":\"Name=%{y}<br>avg of SuccessRate=%{x}<extra></extra>\",\"legendgroup\":\"PaymentProtection\",\"marker\":{\"color\":\"#63666F\",\"pattern\":{\"shape\":\"\"}},\"name\":\"PaymentProtection\",\"offsetgroup\":\"PaymentProtection\",\"orientation\":\"h\",\"showlegend\":true,\"x\":[0.25072886297376096],\"xaxis\":\"x\",\"y\":[\"PaymentProtection\"],\"yaxis\":\"y\",\"type\":\"histogram\",\"error_x\":{\"array\":[0.0],\"valueminus\":0}},{\"alignmentgroup\":\"True\",\"bingroup\":\"y\",\"histfunc\":\"avg\",\"hovertemplate\":\"Name=%{y}<br>avg of SuccessRate=%{x}<extra></extra>\",\"legendgroup\":\"SeniorChecking\",\"marker\":{\"color\":\"#A7A9B4\",\"pattern\":{\"shape\":\"\"}},\"name\":\"SeniorChecking\",\"offsetgroup\":\"SeniorChecking\",\"orientation\":\"h\",\"showlegend\":true,\"x\":[0.19014550264550265],\"xaxis\":\"x\",\"y\":[\"SeniorChecking\"],\"yaxis\":\"y\",\"type\":\"histogram\",\"error_x\":{\"array\":[0.0],\"valueminus\":0}},{\"alignmentgroup\":\"True\",\"bingroup\":\"y\",\"histfunc\":\"avg\",\"hovertemplate\":\"Name=%{y}<br>avg of SuccessRate=%{x}<extra></extra>\",\"legendgroup\":\"SuperSaver\",\"marker\":{\"color\":\"#D0D1DB\",\"pattern\":{\"shape\":\"\"}},\"name\":\"SuperSaver\",\"offsetgroup\":\"SuperSaver\",\"orientation\":\"h\",\"showlegend\":true,\"x\":[0.08839779005524862],\"xaxis\":\"x\",\"y\":[\"SuperSaver\"],\"yaxis\":\"y\",\"type\":\"histogram\",\"error_x\":{\"array\":[0.0],\"valueminus\":0}},{\"alignmentgroup\":\"True\",\"bingroup\":\"y\",\"histfunc\":\"avg\",\"hovertemplate\":\"Name=%{y}<br>avg of SuccessRate=%{x}<extra></extra>\",\"legendgroup\":\"FirstMortgageFiveOneARM\",\"marker\":{\"color\":\"#001F5F\",\"pattern\":{\"shape\":\"\"}},\"name\":\"FirstMortgageFiveOneARM\",\"offsetgroup\":\"FirstMortgageFiveOneARM\",\"orientation\":\"h\",\"showlegend\":true,\"x\":[0.17371937639198218],\"xaxis\":\"x\",\"y\":[\"FirstMortgageFiveOneARM\"],\"yaxis\":\"y\",\"type\":\"histogram\",\"error_x\":{\"array\":[0.0],\"valueminus\":0}},{\"alignmentgroup\":\"True\",\"bingroup\":\"y\",\"histfunc\":\"avg\",\"hovertemplate\":\"Name=%{y}<br>avg of SuccessRate=%{x}<extra></extra>\",\"legendgroup\":\"AutoUsed36Months\",\"marker\":{\"color\":\"#10A5AC\",\"pattern\":{\"shape\":\"\"}},\"name\":\"AutoUsed36Months\",\"offsetgroup\":\"AutoUsed36Months\",\"orientation\":\"h\",\"showlegend\":true,\"x\":[0.10248815165876778],\"xaxis\":\"x\",\"y\":[\"AutoUsed36Months\"],\"yaxis\":\"y\",\"type\":\"histogram\",\"error_x\":{\"array\":[0.0],\"valueminus\":0}},{\"alignmentgroup\":\"True\",\"bingroup\":\"y\",\"histfunc\":\"avg\",\"hovertemplate\":\"Name=%{y}<br>avg of SuccessRate=%{x}<extra></extra>\",\"legendgroup\":\"VisaGold\",\"marker\":{\"color\":\"#F76923\",\"pattern\":{\"shape\":\"\"}},\"name\":\"VisaGold\",\"offsetgroup\":\"VisaGold\",\"orientation\":\"h\",\"showlegend\":true,\"x\":[0.05912596401028278],\"xaxis\":\"x\",\"y\":[\"VisaGold\"],\"yaxis\":\"y\",\"type\":\"histogram\",\"error_x\":{\"array\":[0.0],\"valueminus\":0}},{\"alignmentgroup\":\"True\",\"bingroup\":\"y\",\"histfunc\":\"avg\",\"hovertemplate\":\"Name=%{y}<br>avg of SuccessRate=%{x}<extra></extra>\",\"legendgroup\":\"Services_ChannelAction_Template\",\"marker\":{\"color\":\"#661D34\",\"pattern\":{\"shape\":\"\"}},\"name\":\"Services_ChannelAction_Template\",\"offsetgroup\":\"Services_ChannelAction_Template\",\"orientation\":\"h\",\"showlegend\":true,\"x\":[0.05089778029124841],\"xaxis\":\"x\",\"y\":[\"Services_ChannelAction_Template\"],\"yaxis\":\"y\",\"type\":\"histogram\",\"error_x\":{\"array\":[0.0],\"valueminus\":0}},{\"alignmentgroup\":\"True\",\"bingroup\":\"y\",\"histfunc\":\"avg\",\"hovertemplate\":\"Name=%{y}<br>avg of SuccessRate=%{x}<extra></extra>\",\"legendgroup\":\"AutoNew36Months\",\"marker\":{\"color\":\"#86CAC6\",\"pattern\":{\"shape\":\"\"}},\"name\":\"AutoNew36Months\",\"offsetgroup\":\"AutoNew36Months\",\"orientation\":\"h\",\"showlegend\":true,\"x\":[0.024913620658301508],\"xaxis\":\"x\",\"y\":[\"AutoNew36Months\"],\"yaxis\":\"y\",\"type\":\"histogram\",\"error_x\":{\"array\":[0.0],\"valueminus\":0}}],                        {\"template\":{\"layout\":{\"colorway\":[\"#001F5F\",\"#10A5AC\",\"#F76923\",\"#661D34\",\"#86CAC6\",\"#005154\",\"#86CAC6\",\"#5F67B9\",\"#FFC836\",\"#E63690\",\"#AC1361\",\"#63666F\",\"#A7A9B4\",\"#D0D1DB\"],\"hovermode\":\"closest\"}},\"xaxis\":{\"anchor\":\"y\",\"domain\":[0.0,1.0],\"title\":{\"text\":\"avg of SuccessRate\"}},\"yaxis\":{\"anchor\":\"x\",\"domain\":[0.0,1.0],\"title\":{\"text\":\"Name\"},\"categoryorder\":\"total ascending\",\"categoryarray\":[\"AutoNew36Months\",\"Services_ChannelAction_Template\",\"VisaGold\",\"AutoUsed36Months\",\"FirstMortgageFiveOneARM\",\"SuperSaver\",\"SeniorChecking\",\"PaymentProtection\",\"AutoNew84Months\",\"HomeOwners\",\"PremiumBanking\",\"UPlusFinGold\",\"MoneyMarketSavingsAccount\",\"FirstMortgageFloat\",\"PlatinumRewardsCard\",\"IncreaseYourCreditLine\",\"PremierChecking\",\"MasterCardGold\",\"FirstMortgage\"],\"dtick\":1,\"automargin\":true},\"legend\":{\"title\":{\"text\":\"Name\"},\"tracegroupgap\":0},\"title\":{\"text\":\"SuccessRate of each proposition over all models <br><sup>Query: [(col(\\\"Channel\\\")) == (Utf8(Web))]</sup>\"},\"barmode\":\"relative\",\"showlegend\":false},                        {\"responsive\": true}                    ).then(function(){\n",
       "                            \n",
       "var gd = document.getElementById('7377944b-f3d6-4e35-9541-3e8f12d2494e');\n",
       "var x = new MutationObserver(function (mutations, observer) {{\n",
       "        var display = window.getComputedStyle(gd).display;\n",
       "        if (!display || display === 'none') {{\n",
       "            console.log([gd, 'removed!']);\n",
       "            Plotly.purge(gd);\n",
       "            observer.disconnect();\n",
       "        }}\n",
       "}});\n",
       "\n",
       "// Listen for the removal of the full notebook cells\n",
       "var notebookContainer = gd.closest('#notebook-container');\n",
       "if (notebookContainer) {{\n",
       "    x.observe(notebookContainer, {childList: true});\n",
       "}}\n",
       "\n",
       "// Listen for the clearing of the current output cell\n",
       "var outputEl = gd.closest('.output');\n",
       "if (outputEl) {{\n",
       "    x.observe(outputEl, {childList: true});\n",
       "}}\n",
       "\n",
       "                        })                };                });            </script>        </div>"
      ]
     },
     "metadata": {},
     "output_type": "display_data"
    }
   ],
   "source": [
    "CDHSample.plotPropositionSuccessRates(query=pl.col(\"Channel\") == \"Web\")\n"
   ]
  },
  {
   "cell_type": "markdown",
   "metadata": {},
   "source": [
    "If we want to look at the distribution of responses and their propensities for a given model, we can subset that model and call plotScoreDistribution. Note here we subset the model by its ID."
   ]
  },
  {
   "cell_type": "code",
   "execution_count": 11,
   "metadata": {
    "execution": {
     "iopub.execute_input": "2023-03-14T17:30:42.600745Z",
     "iopub.status.busy": "2023-03-14T17:30:42.600521Z",
     "iopub.status.idle": "2023-03-14T17:30:42.632836Z",
     "shell.execute_reply": "2023-03-14T17:30:42.632325Z"
    }
   },
   "outputs": [
    {
     "data": {
      "text/html": [
       "<div>                            <div id=\"48ab22d0-b71e-4913-a67e-d02d888fb949\" class=\"plotly-graph-div\" style=\"height:525px; width:100%;\"></div>            <script type=\"text/javascript\">                require([\"plotly\"], function(Plotly) {                    window.PLOTLYENV=window.PLOTLYENV || {};                                    if (document.getElementById(\"48ab22d0-b71e-4913-a67e-d02d888fb949\")) {                    Plotly.newPlot(                        \"48ab22d0-b71e-4913-a67e-d02d888fb949\",                        [{\"name\":\"Responses\",\"x\":[\"<-0.215\",\"[-0.215, -0.2>\",\"[-0.2, -0.165>\",\"[-0.165, -0.16>\",\"[-0.16, -0.14>\",\"[-0.14, -0.115>\",\"[-0.115, -0.105>\",\"[-0.105, -0.09>\",\"[-0.09, -0.08>\",\"[-0.08, -0.065>\",\"[-0.065, -0.045>\",\"[-0.045, -0.04>\",\"[-0.04, -0.02>\",\"[-0.02, -0.01>\",\"[-0.01, 0.0>\",\"[0.0, 0.03>\",\"[0.03, 0.04>\",\"[0.04, 0.085>\",\"[0.085, 0.09>\",\"[0.09, 0.125>\",\"[0.125, 0.995>\",\">=0.995\"],\"y\":[922,216,598,122,398,491,170,250,151,213,285,63,217,81,80,161,38,96,7,30,12,4],\"type\":\"bar\"},{\"mode\":\"lines+markers\",\"name\":\"Propensity\",\"x\":[\"<-0.215\",\"[-0.215, -0.2>\",\"[-0.2, -0.165>\",\"[-0.165, -0.16>\",\"[-0.16, -0.14>\",\"[-0.14, -0.115>\",\"[-0.115, -0.105>\",\"[-0.105, -0.09>\",\"[-0.09, -0.08>\",\"[-0.08, -0.065>\",\"[-0.065, -0.045>\",\"[-0.045, -0.04>\",\"[-0.04, -0.02>\",\"[-0.02, -0.01>\",\"[-0.01, 0.0>\",\"[0.0, 0.03>\",\"[0.03, 0.04>\",\"[0.04, 0.085>\",\"[0.085, 0.09>\",\"[0.09, 0.125>\",\"[0.125, 0.995>\",\">=0.995\"],\"y\":[0.044468546637744036,0.046296296296296294,0.051839464882943144,0.05737704918032787,0.07537688442211055,0.0814663951120163,0.09411764705882353,0.108,0.1456953642384106,0.1784037558685446,0.18596491228070175,0.2698412698412698,0.28110599078341014,0.30864197530864196,0.3125,0.37267080745341613,0.39473684210526316,0.5,0.7142857142857143,0.7666666666666667,0.9166666666666666,1.0],\"yaxis\":\"y2\",\"type\":\"scatter\"}],                        {\"template\":{\"data\":{\"scatter\":[{\"type\":\"scatter\"}]}},\"xaxis\":{\"anchor\":\"y\",\"domain\":[0.0,0.94],\"title\":{\"text\":\"Range\"}},\"yaxis\":{\"anchor\":\"x\",\"domain\":[0.0,1.0],\"title\":{\"text\":\"Responses\"},\"showgrid\":false},\"yaxis2\":{\"anchor\":\"x\",\"overlaying\":\"y\",\"side\":\"right\",\"title\":{\"text\":\"Propensity\"},\"tickformat\":\",.0%\",\"zeroline\":false,\"showgrid\":false},\"title\":{\"text\":\"Classifier score distribution<br>\\n            <sup>Model name: HomeOwners\\n            <br>Model ID 0</sup><br><sup>Query: [(col(\\\"ModelID\\\")) == (Utf8(08ca1302-9fc0-57bf-9031-d4179d400493))]</sup>\"}},                        {\"responsive\": true}                    ).then(function(){\n",
       "                            \n",
       "var gd = document.getElementById('48ab22d0-b71e-4913-a67e-d02d888fb949');\n",
       "var x = new MutationObserver(function (mutations, observer) {{\n",
       "        var display = window.getComputedStyle(gd).display;\n",
       "        if (!display || display === 'none') {{\n",
       "            console.log([gd, 'removed!']);\n",
       "            Plotly.purge(gd);\n",
       "            observer.disconnect();\n",
       "        }}\n",
       "}});\n",
       "\n",
       "// Listen for the removal of the full notebook cells\n",
       "var notebookContainer = gd.closest('#notebook-container');\n",
       "if (notebookContainer) {{\n",
       "    x.observe(notebookContainer, {childList: true});\n",
       "}}\n",
       "\n",
       "// Listen for the clearing of the current output cell\n",
       "var outputEl = gd.closest('.output');\n",
       "if (outputEl) {{\n",
       "    x.observe(outputEl, {childList: true});\n",
       "}}\n",
       "\n",
       "                        })                };                });            </script>        </div>"
      ]
     },
     "metadata": {},
     "output_type": "display_data"
    }
   ],
   "source": [
    "CDHSample.plotScoreDistribution(\n",
    "    query=pl.col(\"ModelID\") == \"08ca1302-9fc0-57bf-9031-d4179d400493\", show_each=False\n",
    ")\n"
   ]
  },
  {
   "cell_type": "markdown",
   "metadata": {},
   "source": [
    "Alternatively, we can also subset a model by its model name, and then further drill down by group/issue/channel/configuration. See the example below."
   ]
  },
  {
   "cell_type": "code",
   "execution_count": 12,
   "metadata": {
    "execution": {
     "iopub.execute_input": "2023-03-14T17:30:42.635982Z",
     "iopub.status.busy": "2023-03-14T17:30:42.635727Z",
     "iopub.status.idle": "2023-03-14T17:30:42.660658Z",
     "shell.execute_reply": "2023-03-14T17:30:42.660113Z"
    }
   },
   "outputs": [
    {
     "data": {
      "text/html": [
       "<div>                            <div id=\"3b3071ce-d659-4a9b-9cd8-3bf42f9cc6db\" class=\"plotly-graph-div\" style=\"height:525px; width:100%;\"></div>            <script type=\"text/javascript\">                require([\"plotly\"], function(Plotly) {                    window.PLOTLYENV=window.PLOTLYENV || {};                                    if (document.getElementById(\"3b3071ce-d659-4a9b-9cd8-3bf42f9cc6db\")) {                    Plotly.newPlot(                        \"3b3071ce-d659-4a9b-9cd8-3bf42f9cc6db\",                        [{\"name\":\"Responses\",\"x\":[\"<-0.215\",\"[-0.215, -0.2>\",\"[-0.2, -0.165>\",\"[-0.165, -0.16>\",\"[-0.16, -0.14>\",\"[-0.14, -0.115>\",\"[-0.115, -0.105>\",\"[-0.105, -0.09>\",\"[-0.09, -0.08>\",\"[-0.08, -0.065>\",\"[-0.065, -0.045>\",\"[-0.045, -0.04>\",\"[-0.04, -0.02>\",\"[-0.02, -0.01>\",\"[-0.01, 0.0>\",\"[0.0, 0.03>\",\"[0.03, 0.04>\",\"[0.04, 0.085>\",\"[0.085, 0.09>\",\"[0.09, 0.125>\",\"[0.125, 0.995>\",\">=0.995\"],\"y\":[922,216,598,122,398,491,170,250,151,213,285,63,217,81,80,161,38,96,7,30,12,4],\"type\":\"bar\"},{\"mode\":\"lines+markers\",\"name\":\"Propensity\",\"x\":[\"<-0.215\",\"[-0.215, -0.2>\",\"[-0.2, -0.165>\",\"[-0.165, -0.16>\",\"[-0.16, -0.14>\",\"[-0.14, -0.115>\",\"[-0.115, -0.105>\",\"[-0.105, -0.09>\",\"[-0.09, -0.08>\",\"[-0.08, -0.065>\",\"[-0.065, -0.045>\",\"[-0.045, -0.04>\",\"[-0.04, -0.02>\",\"[-0.02, -0.01>\",\"[-0.01, 0.0>\",\"[0.0, 0.03>\",\"[0.03, 0.04>\",\"[0.04, 0.085>\",\"[0.085, 0.09>\",\"[0.09, 0.125>\",\"[0.125, 0.995>\",\">=0.995\"],\"y\":[0.044468546637744036,0.046296296296296294,0.051839464882943144,0.05737704918032787,0.07537688442211055,0.0814663951120163,0.09411764705882353,0.108,0.1456953642384106,0.1784037558685446,0.18596491228070175,0.2698412698412698,0.28110599078341014,0.30864197530864196,0.3125,0.37267080745341613,0.39473684210526316,0.5,0.7142857142857143,0.7666666666666667,0.9166666666666666,1.0],\"yaxis\":\"y2\",\"type\":\"scatter\"}],                        {\"template\":{\"data\":{\"scatter\":[{\"type\":\"scatter\"}]}},\"xaxis\":{\"anchor\":\"y\",\"domain\":[0.0,0.94],\"title\":{\"text\":\"Range\"}},\"yaxis\":{\"anchor\":\"x\",\"domain\":[0.0,1.0],\"title\":{\"text\":\"Responses\"},\"showgrid\":false},\"yaxis2\":{\"anchor\":\"x\",\"overlaying\":\"y\",\"side\":\"right\",\"title\":{\"text\":\"Propensity\"},\"tickformat\":\",.0%\",\"zeroline\":false,\"showgrid\":false},\"title\":{\"text\":\"Classifier score distribution<br>\\n            <sup>Model name: HomeOwners\\n            <br>Model ID 0</sup><br><sup>Query: [([([([([(col(\\\"Name\\\")) == (Utf8(HomeOwners))]) & ([(col(\\\"Group\\\")) == (Utf8(Bundles))])]) & ([(col(\\\"Issue\\\")) == (Utf8(Sales))])]) & ([(col(\\\"Channel\\\")) == (Utf8(Web))])]) & ([(col(\\\"Configuration\\\")) == (Utf8(OmniAdaptiveModel))])]</sup>\"}},                        {\"responsive\": true}                    ).then(function(){\n",
       "                            \n",
       "var gd = document.getElementById('3b3071ce-d659-4a9b-9cd8-3bf42f9cc6db');\n",
       "var x = new MutationObserver(function (mutations, observer) {{\n",
       "        var display = window.getComputedStyle(gd).display;\n",
       "        if (!display || display === 'none') {{\n",
       "            console.log([gd, 'removed!']);\n",
       "            Plotly.purge(gd);\n",
       "            observer.disconnect();\n",
       "        }}\n",
       "}});\n",
       "\n",
       "// Listen for the removal of the full notebook cells\n",
       "var notebookContainer = gd.closest('#notebook-container');\n",
       "if (notebookContainer) {{\n",
       "    x.observe(notebookContainer, {childList: true});\n",
       "}}\n",
       "\n",
       "// Listen for the clearing of the current output cell\n",
       "var outputEl = gd.closest('.output');\n",
       "if (outputEl) {{\n",
       "    x.observe(outputEl, {childList: true});\n",
       "}}\n",
       "\n",
       "                        })                };                });            </script>        </div>"
      ]
     },
     "metadata": {},
     "output_type": "display_data"
    }
   ],
   "source": [
    "CDHSample.plotScoreDistribution(\n",
    "    query=(pl.col(\"Name\") == \"HomeOwners\")\n",
    "    & (pl.col(\"Group\") == \"Bundles\")\n",
    "    & (pl.col(\"Issue\") == \"Sales\")\n",
    "    & (pl.col(\"Channel\") == \"Web\")\n",
    "    & (pl.col(\"Configuration\") == \"OmniAdaptiveModel\")\n",
    ")\n"
   ]
  },
  {
   "cell_type": "markdown",
   "metadata": {},
   "source": [
    "Similarly, we can also display the distribution of a single predictor and its binning. This function loops through each predictor of a model and generates the binning image for that predictor. For that reason we recommend subsetting the predictor names ahead of time or, depending on how many predictors the model has, a lot of images will be generated."
   ]
  },
  {
   "cell_type": "code",
   "execution_count": 13,
   "metadata": {
    "execution": {
     "iopub.execute_input": "2023-03-14T17:30:42.663483Z",
     "iopub.status.busy": "2023-03-14T17:30:42.663276Z",
     "iopub.status.idle": "2023-03-14T17:30:42.725179Z",
     "shell.execute_reply": "2023-03-14T17:30:42.724606Z"
    }
   },
   "outputs": [
    {
     "data": {
      "text/html": [
       "<div>                            <div id=\"cc88da05-7fe8-48ee-b7b2-0c6f0946afe7\" class=\"plotly-graph-div\" style=\"height:525px; width:100%;\"></div>            <script type=\"text/javascript\">                require([\"plotly\"], function(Plotly) {                    window.PLOTLYENV=window.PLOTLYENV || {};                                    if (document.getElementById(\"cc88da05-7fe8-48ee-b7b2-0c6f0946afe7\")) {                    Plotly.newPlot(                        \"cc88da05-7fe8-48ee-b7b2-0c6f0946afe7\",                        [{\"name\":\"Responses\",\"x\":[\"<5322.5409\",\"[5322.5409, 11220.7809>\",\"[11220.7809, 14825.2609>\",\"[14825.2609, 20068.1409>\",\"[20068.1409, 25311.0209>\",\"[25311.0209, 33503.0209>\",\"[33503.0209, 38418.2209>\",\"[38418.2209, 49231.6609>\",\"[49231.6609, 58079.0209>\",\">=58079.0209\"],\"y\":[348,515,370,393,507,623,268,511,284,786],\"type\":\"bar\"},{\"mode\":\"lines+markers\",\"name\":\"Propensity\",\"x\":[\"<5322.5409\",\"[5322.5409, 11220.7809>\",\"[11220.7809, 14825.2609>\",\"[14825.2609, 20068.1409>\",\"[20068.1409, 25311.0209>\",\"[25311.0209, 33503.0209>\",\"[33503.0209, 38418.2209>\",\"[38418.2209, 49231.6609>\",\"[49231.6609, 58079.0209>\",\">=58079.0209\"],\"y\":[0.13793103448275862,0.09320388349514563,0.07027027027027027,0.043256997455470736,0.08481262327416174,0.051364365971107544,0.10820895522388059,0.0821917808219178,0.16549295774647887,0.3524173027989822],\"yaxis\":\"y2\",\"type\":\"scatter\"}],                        {\"template\":{\"data\":{\"scatter\":[{\"type\":\"scatter\"}]}},\"xaxis\":{\"anchor\":\"y\",\"domain\":[0.0,0.94],\"title\":{\"text\":\"Range\"}},\"yaxis\":{\"anchor\":\"x\",\"domain\":[0.0,1.0],\"title\":{\"text\":\"Responses\"},\"showgrid\":false},\"yaxis2\":{\"anchor\":\"x\",\"overlaying\":\"y\",\"side\":\"right\",\"title\":{\"text\":\"Propensity\"},\"tickformat\":\",.0%\",\"zeroline\":false,\"showgrid\":false},\"title\":{\"text\":\"Model name: ('HomeOwners',)<br><sup>Model ID: 08ca1302-9fc0-57bf-9031-d4179d400493<br>Predictor name: Customer.AnnualIncome</sup><br><sup>Query: [([(col(\\\"ModelID\\\")) == (Utf8(08ca1302-9fc0-57bf-9031-d4179d400493))]) & (col(\\\"PredictorName\\\").is_in([Series]))]</sup>\"}},                        {\"responsive\": true}                    ).then(function(){\n",
       "                            \n",
       "var gd = document.getElementById('cc88da05-7fe8-48ee-b7b2-0c6f0946afe7');\n",
       "var x = new MutationObserver(function (mutations, observer) {{\n",
       "        var display = window.getComputedStyle(gd).display;\n",
       "        if (!display || display === 'none') {{\n",
       "            console.log([gd, 'removed!']);\n",
       "            Plotly.purge(gd);\n",
       "            observer.disconnect();\n",
       "        }}\n",
       "}});\n",
       "\n",
       "// Listen for the removal of the full notebook cells\n",
       "var notebookContainer = gd.closest('#notebook-container');\n",
       "if (notebookContainer) {{\n",
       "    x.observe(notebookContainer, {childList: true});\n",
       "}}\n",
       "\n",
       "// Listen for the clearing of the current output cell\n",
       "var outputEl = gd.closest('.output');\n",
       "if (outputEl) {{\n",
       "    x.observe(outputEl, {childList: true});\n",
       "}}\n",
       "\n",
       "                        })                };                });            </script>        </div>"
      ]
     },
     "metadata": {},
     "output_type": "display_data"
    },
    {
     "data": {
      "text/html": [
       "<div>                            <div id=\"d7e68ad1-d088-4d3d-b06b-615929001521\" class=\"plotly-graph-div\" style=\"height:525px; width:100%;\"></div>            <script type=\"text/javascript\">                require([\"plotly\"], function(Plotly) {                    window.PLOTLYENV=window.PLOTLYENV || {};                                    if (document.getElementById(\"d7e68ad1-d088-4d3d-b06b-615929001521\")) {                    Plotly.newPlot(                        \"d7e68ad1-d088-4d3d-b06b-615929001521\",                        [{\"name\":\"Responses\",\"x\":[\"<27.12\",\"[27.12, 32.08>\",\"[32.08, 34.16>\",\"[34.16, 39.12>\",\"[39.12, 42.16>\",\"[42.16, 44.08>\",\"[44.08, 47.12>\",\"[47.12, 49.04>\",\"[49.04, 52.08>\",\"[52.08, 57.04>\",\">=57.04\"],\"y\":[374,571,238,771,586,320,432,313,332,328,340],\"type\":\"bar\"},{\"mode\":\"lines+markers\",\"name\":\"Propensity\",\"x\":[\"<27.12\",\"[27.12, 32.08>\",\"[32.08, 34.16>\",\"[34.16, 39.12>\",\"[39.12, 42.16>\",\"[42.16, 44.08>\",\"[44.08, 47.12>\",\"[47.12, 49.04>\",\"[49.04, 52.08>\",\"[52.08, 57.04>\",\">=57.04\"],\"y\":[0.19518716577540107,0.09982486865148861,0.06302521008403361,0.11284046692607004,0.13993174061433447,0.09375,0.1111111111111111,0.1501597444089457,0.21987951807228914,0.18292682926829268,0.10882352941176471],\"yaxis\":\"y2\",\"type\":\"scatter\"}],                        {\"template\":{\"data\":{\"scatter\":[{\"type\":\"scatter\"}]}},\"xaxis\":{\"anchor\":\"y\",\"domain\":[0.0,0.94],\"title\":{\"text\":\"Range\"}},\"yaxis\":{\"anchor\":\"x\",\"domain\":[0.0,1.0],\"title\":{\"text\":\"Responses\"},\"showgrid\":false},\"yaxis2\":{\"anchor\":\"x\",\"overlaying\":\"y\",\"side\":\"right\",\"title\":{\"text\":\"Propensity\"},\"tickformat\":\",.0%\",\"zeroline\":false,\"showgrid\":false},\"title\":{\"text\":\"Model name: ('HomeOwners',)<br><sup>Model ID: 08ca1302-9fc0-57bf-9031-d4179d400493<br>Predictor name: Customer.Age</sup><br><sup>Query: [([(col(\\\"ModelID\\\")) == (Utf8(08ca1302-9fc0-57bf-9031-d4179d400493))]) & (col(\\\"PredictorName\\\").is_in([Series]))]</sup>\"}},                        {\"responsive\": true}                    ).then(function(){\n",
       "                            \n",
       "var gd = document.getElementById('d7e68ad1-d088-4d3d-b06b-615929001521');\n",
       "var x = new MutationObserver(function (mutations, observer) {{\n",
       "        var display = window.getComputedStyle(gd).display;\n",
       "        if (!display || display === 'none') {{\n",
       "            console.log([gd, 'removed!']);\n",
       "            Plotly.purge(gd);\n",
       "            observer.disconnect();\n",
       "        }}\n",
       "}});\n",
       "\n",
       "// Listen for the removal of the full notebook cells\n",
       "var notebookContainer = gd.closest('#notebook-container');\n",
       "if (notebookContainer) {{\n",
       "    x.observe(notebookContainer, {childList: true});\n",
       "}}\n",
       "\n",
       "// Listen for the clearing of the current output cell\n",
       "var outputEl = gd.closest('.output');\n",
       "if (outputEl) {{\n",
       "    x.observe(outputEl, {childList: true});\n",
       "}}\n",
       "\n",
       "                        })                };                });            </script>        </div>"
      ]
     },
     "metadata": {},
     "output_type": "display_data"
    },
    {
     "data": {
      "text/html": [
       "<div>                            <div id=\"0bb665a3-0623-438f-aa84-3e958d7d32a9\" class=\"plotly-graph-div\" style=\"height:525px; width:100%;\"></div>            <script type=\"text/javascript\">                require([\"plotly\"], function(Plotly) {                    window.PLOTLYENV=window.PLOTLYENV || {};                                    if (document.getElementById(\"0bb665a3-0623-438f-aa84-3e958d7d32a9\")) {                    Plotly.newPlot(                        \"0bb665a3-0623-438f-aa84-3e958d7d32a9\",                        [{\"name\":\"Responses\",\"x\":[\"MISSING\",\"DepositAccounts, AutoLoans\",\"Customer, CreditCards\",\"HomeLoans\",\"Bundles\",\"Account, WealthOffers\"],\"y\":[675,1882,864,493,462,228],\"type\":\"bar\"},{\"mode\":\"lines+markers\",\"name\":\"Propensity\",\"x\":[\"MISSING\",\"DepositAccounts, AutoLoans\",\"Customer, CreditCards\",\"HomeLoans\",\"Bundles\",\"Account, WealthOffers\"],\"y\":[0.11555555555555555,0.11211477151965994,0.12152777777777778,0.16227180527383367,0.20995670995670995,0.16666666666666666],\"yaxis\":\"y2\",\"type\":\"scatter\"}],                        {\"template\":{\"data\":{\"scatter\":[{\"type\":\"scatter\"}]}},\"xaxis\":{\"anchor\":\"y\",\"domain\":[0.0,0.94],\"title\":{\"text\":\"Range\"}},\"yaxis\":{\"anchor\":\"x\",\"domain\":[0.0,1.0],\"title\":{\"text\":\"Responses\"},\"showgrid\":false},\"yaxis2\":{\"anchor\":\"x\",\"overlaying\":\"y\",\"side\":\"right\",\"title\":{\"text\":\"Propensity\"},\"tickformat\":\",.0%\",\"zeroline\":false,\"showgrid\":false},\"title\":{\"text\":\"Model name: ('HomeOwners',)<br><sup>Model ID: 08ca1302-9fc0-57bf-9031-d4179d400493<br>Predictor name: IH.Email.Outbound.Accepted.pxLastGroupID</sup><br><sup>Query: [([(col(\\\"ModelID\\\")) == (Utf8(08ca1302-9fc0-57bf-9031-d4179d400493))]) & (col(\\\"PredictorName\\\").is_in([Series]))]</sup>\"}},                        {\"responsive\": true}                    ).then(function(){\n",
       "                            \n",
       "var gd = document.getElementById('0bb665a3-0623-438f-aa84-3e958d7d32a9');\n",
       "var x = new MutationObserver(function (mutations, observer) {{\n",
       "        var display = window.getComputedStyle(gd).display;\n",
       "        if (!display || display === 'none') {{\n",
       "            console.log([gd, 'removed!']);\n",
       "            Plotly.purge(gd);\n",
       "            observer.disconnect();\n",
       "        }}\n",
       "}});\n",
       "\n",
       "// Listen for the removal of the full notebook cells\n",
       "var notebookContainer = gd.closest('#notebook-container');\n",
       "if (notebookContainer) {{\n",
       "    x.observe(notebookContainer, {childList: true});\n",
       "}}\n",
       "\n",
       "// Listen for the clearing of the current output cell\n",
       "var outputEl = gd.closest('.output');\n",
       "if (outputEl) {{\n",
       "    x.observe(outputEl, {childList: true});\n",
       "}}\n",
       "\n",
       "                        })                };                });            </script>        </div>"
      ]
     },
     "metadata": {},
     "output_type": "display_data"
    }
   ],
   "source": [
    "CDHSample.plotPredictorBinning(\n",
    "    query=(pl.col(\"ModelID\") == \"08ca1302-9fc0-57bf-9031-d4179d400493\")\n",
    "    & (\n",
    "        pl.col(\"PredictorName\").is_in(\n",
    "            [\n",
    "                \"Customer.Age\",\n",
    "                \"Customer.AnnualIncome\",\n",
    "                \"IH.Email.Outbound.Accepted.pxLastGroupID\",\n",
    "            ]\n",
    "        )\n",
    "    ),\n",
    "    show_each=True,\n",
    ");\n"
   ]
  },
  {
   "cell_type": "markdown",
   "metadata": {},
   "source": [
    "Alternatively we can look at the performance of a predictor over multiple models. Again, we recommend subsetting the predictor names with a list to make it more legible. "
   ]
  },
  {
   "cell_type": "code",
   "execution_count": 14,
   "metadata": {
    "execution": {
     "iopub.execute_input": "2023-03-14T17:30:42.728069Z",
     "iopub.status.busy": "2023-03-14T17:30:42.727861Z",
     "iopub.status.idle": "2023-03-14T17:30:42.782012Z",
     "shell.execute_reply": "2023-03-14T17:30:42.781524Z"
    }
   },
   "outputs": [
    {
     "data": {
      "text/html": [
       "<div>                            <div id=\"62866479-bc74-4109-a7ca-2c8834ee1326\" class=\"plotly-graph-div\" style=\"height:525px; width:100%;\"></div>            <script type=\"text/javascript\">                require([\"plotly\"], function(Plotly) {                    window.PLOTLYENV=window.PLOTLYENV || {};                                    if (document.getElementById(\"62866479-bc74-4109-a7ca-2c8834ee1326\")) {                    Plotly.newPlot(                        \"62866479-bc74-4109-a7ca-2c8834ee1326\",                        [{\"alignmentgroup\":\"True\",\"hovertemplate\":\"Legend=IH<br>Performance=%{x}<br>Predictor Name=%{y}<extra></extra>\",\"legendgroup\":\"IH\",\"marker\":{\"color\":\"#001F5F\"},\"name\":\"IH\",\"notched\":false,\"offsetgroup\":\"IH\",\"orientation\":\"h\",\"showlegend\":true,\"x\":[57.652800000000006,60.5249,57.894,62.2877,55.9497,53.0076,57.2565,59.1166,54.573899999999995,57.5792,53.4604,51.019400000000005,54.817499999999995,63.696,53.98,62.7857,66.7804,56.3398,67.88300000000001,67.6683],\"x0\":\" \",\"xaxis\":\"x\",\"y\":[\"IH.Email.Outbound.Accepted.pxLastGroupID\",\"IH.Email.Outbound.Accepted.pxLastGroupID\",\"IH.Email.Outbound.Accepted.pxLastGroupID\",\"IH.Email.Outbound.Accepted.pxLastGroupID\",\"IH.Email.Outbound.Accepted.pxLastGroupID\",\"IH.Email.Outbound.Accepted.pxLastGroupID\",\"IH.Email.Outbound.Accepted.pxLastGroupID\",\"IH.Email.Outbound.Accepted.pxLastGroupID\",\"IH.Email.Outbound.Accepted.pxLastGroupID\",\"IH.Email.Outbound.Accepted.pxLastGroupID\",\"IH.Email.Outbound.Accepted.pxLastGroupID\",\"IH.Email.Outbound.Accepted.pxLastGroupID\",\"IH.Email.Outbound.Accepted.pxLastGroupID\",\"IH.Email.Outbound.Accepted.pxLastGroupID\",\"IH.Email.Outbound.Accepted.pxLastGroupID\",\"IH.Email.Outbound.Accepted.pxLastGroupID\",\"IH.Email.Outbound.Accepted.pxLastGroupID\",\"IH.Email.Outbound.Accepted.pxLastGroupID\",\"IH.Email.Outbound.Accepted.pxLastGroupID\",\"IH.Email.Outbound.Accepted.pxLastGroupID\"],\"y0\":\" \",\"yaxis\":\"y\",\"type\":\"box\"},{\"alignmentgroup\":\"True\",\"hovertemplate\":\"Legend=Customer<br>Performance=%{x}<br>Predictor Name=%{y}<extra></extra>\",\"legendgroup\":\"Customer\",\"marker\":{\"color\":\"#10A5AC\"},\"name\":\"Customer\",\"notched\":false,\"offsetgroup\":\"Customer\",\"orientation\":\"h\",\"showlegend\":true,\"x\":[58.243100000000005,59.2858,50.0,60.2006,67.8751,59.770999999999994,50.0,50.0,59.7588,60.4753,65.47619999999999,50.0,65.5934,69.9779,57.3139,50.0,61.523,50.0,72.0121,65.074,74.91409999999999,67.3194,69.0493,71.13239999999999,63.4857,50.0,65.7909,50.0,67.8122,50.0,50.0,50.0,71.921,86.3848,78.18,63.1201,63.8537,64.5449,69.0542,62.589099999999995],\"x0\":\" \",\"xaxis\":\"x\",\"y\":[\"Customer.Age\",\"Customer.Age\",\"Customer.Age\",\"Customer.Age\",\"Customer.Age\",\"Customer.Age\",\"Customer.Age\",\"Customer.Age\",\"Customer.Age\",\"Customer.Age\",\"Customer.Age\",\"Customer.Age\",\"Customer.Age\",\"Customer.Age\",\"Customer.Age\",\"Customer.Age\",\"Customer.Age\",\"Customer.Age\",\"Customer.Age\",\"Customer.Age\",\"Customer.AnnualIncome\",\"Customer.AnnualIncome\",\"Customer.AnnualIncome\",\"Customer.AnnualIncome\",\"Customer.AnnualIncome\",\"Customer.AnnualIncome\",\"Customer.AnnualIncome\",\"Customer.AnnualIncome\",\"Customer.AnnualIncome\",\"Customer.AnnualIncome\",\"Customer.AnnualIncome\",\"Customer.AnnualIncome\",\"Customer.AnnualIncome\",\"Customer.AnnualIncome\",\"Customer.AnnualIncome\",\"Customer.AnnualIncome\",\"Customer.AnnualIncome\",\"Customer.AnnualIncome\",\"Customer.AnnualIncome\",\"Customer.AnnualIncome\"],\"y0\":\" \",\"yaxis\":\"y\",\"type\":\"box\"}],                        {\"template\":{\"layout\":{\"colorway\":[\"#001F5F\",\"#10A5AC\",\"#F76923\",\"#661D34\",\"#86CAC6\",\"#005154\",\"#86CAC6\",\"#5F67B9\",\"#FFC836\",\"#E63690\",\"#AC1361\",\"#63666F\",\"#A7A9B4\",\"#D0D1DB\"],\"hovermode\":\"closest\"}},\"xaxis\":{\"anchor\":\"y\",\"domain\":[0.0,1.0],\"title\":{\"text\":\"Performance\"}},\"yaxis\":{\"anchor\":\"x\",\"domain\":[0.0,1.0],\"title\":{\"text\":\"Predictor Name\"},\"categoryorder\":\"array\",\"categoryarray\":[\"IH.Email.Outbound.Accepted.pxLastGroupID\",\"Customer.Age\",\"Customer.AnnualIncome\"],\"automargin\":true,\"dtick\":1},\"legend\":{\"title\":{\"text\":\"Predictor category\"},\"tracegroupgap\":0},\"title\":{\"text\":\"Predictor Performance over all models <br><sup>Query: col(\\\"PredictorName\\\").is_in([Series])</sup>\"},\"boxmode\":\"group\",\"boxgap\":0,\"boxgroupgap\":0},                        {\"responsive\": true}                    ).then(function(){\n",
       "                            \n",
       "var gd = document.getElementById('62866479-bc74-4109-a7ca-2c8834ee1326');\n",
       "var x = new MutationObserver(function (mutations, observer) {{\n",
       "        var display = window.getComputedStyle(gd).display;\n",
       "        if (!display || display === 'none') {{\n",
       "            console.log([gd, 'removed!']);\n",
       "            Plotly.purge(gd);\n",
       "            observer.disconnect();\n",
       "        }}\n",
       "}});\n",
       "\n",
       "// Listen for the removal of the full notebook cells\n",
       "var notebookContainer = gd.closest('#notebook-container');\n",
       "if (notebookContainer) {{\n",
       "    x.observe(notebookContainer, {childList: true});\n",
       "}}\n",
       "\n",
       "// Listen for the clearing of the current output cell\n",
       "var outputEl = gd.closest('.output');\n",
       "if (outputEl) {{\n",
       "    x.observe(outputEl, {childList: true});\n",
       "}}\n",
       "\n",
       "                        })                };                });            </script>        </div>"
      ]
     },
     "metadata": {},
     "output_type": "display_data"
    }
   ],
   "source": [
    "CDHSample.plotPredictorPerformance(\n",
    "    query=pl.col(\"PredictorName\").is_in(\n",
    "        [\n",
    "            \"Customer.Age\",\n",
    "            \"Customer.AnnualIncome\",\n",
    "            \"IH.Email.Outbound.Accepted.pxLastGroupID\",\n",
    "        ]\n",
    "    ))"
   ]
  },
  {
   "cell_type": "markdown",
   "metadata": {},
   "source": [
    "What the two previous visualisations could not represent very well is the performance of the predictors over different models. That is what the plotPredictorPerformanceHeatmap function does; again with subsetting of predictors as a recommended step."
   ]
  },
  {
   "cell_type": "code",
   "execution_count": 15,
   "metadata": {
    "execution": {
     "iopub.execute_input": "2023-03-14T17:30:42.784871Z",
     "iopub.status.busy": "2023-03-14T17:30:42.784647Z",
     "iopub.status.idle": "2023-03-14T17:30:42.834484Z",
     "shell.execute_reply": "2023-03-14T17:30:42.833904Z"
    }
   },
   "outputs": [
    {
     "data": {
      "text/html": [
       "<div>                            <div id=\"41b46ae3-b7dd-4e18-abe7-eb891dda649f\" class=\"plotly-graph-div\" style=\"height:525px; width:100%;\"></div>            <script type=\"text/javascript\">                require([\"plotly\"], function(Plotly) {                    window.PLOTLYENV=window.PLOTLYENV || {};                                    if (document.getElementById(\"41b46ae3-b7dd-4e18-abe7-eb891dda649f\")) {                    Plotly.newPlot(                        \"41b46ae3-b7dd-4e18-abe7-eb891dda649f\",                        [{\"coloraxis\":\"coloraxis\",\"name\":\"0\",\"texttemplate\":\"%{z:.1f}\",\"x\":[\"ChannelAction_Template\",\"AutoNew84Months\",\"AutoUsed60Months\",\"AutoUsed48Months\",\"HomeOwners\",\"AutoUsed36Months\",\"AutoNew48Months\",\"FirstMortgage\",\"AutoUsed84Months\",\"AutoNew36Months\",\"FirstMortgageFloat\",\"FirstMortgageFHA\",\"FirstMortgageFiveOneARM\"],\"y\":[\"Customer.AnnualIncome\",\"Customer.Age\",\"IH.Email.Outbound.Accepted.pxLastGroupID\"],\"z\":[[86.3848,74.91409999999999,69.0542,63.1201,71.921,64.5449,65.7909,63.8537,62.589099999999995,50.0,50.0,50.0,50.0],[69.9779,65.5934,67.8751,60.4753,59.7588,59.2858,57.3139,59.770999999999994,50.0,50.0,50.0,50.0,50.0],[66.7804,57.894,59.1166,67.88300000000001,56.3398,54.573899999999995,54.817499999999995,53.98,51.019400000000005,57.652800000000006,57.5792,53.4604,53.0076]],\"type\":\"heatmap\",\"xaxis\":\"x\",\"yaxis\":\"y\",\"hovertemplate\":\"PredictorName: %{y}<br>Performance: %{z:.2f}<br>Name: %{customdata[0]}\",\"customdata\":[[[\"ChannelAction_Template\"],[\"ChannelAction_Template\"],[\"ChannelAction_Template\"],[\"AutoNew84Months\"],[\"AutoNew84Months\"],[\"AutoNew84Months\"],[\"AutoUsed60Months\"],[\"AutoUsed60Months\"],[\"AutoUsed60Months\"],[\"AutoUsed48Months\"],[\"AutoUsed48Months\"],[\"AutoUsed48Months\"],[\"HomeOwners\"]],[[\"HomeOwners\"],[\"HomeOwners\"],[\"AutoUsed36Months\"],[\"AutoUsed36Months\"],[\"AutoUsed36Months\"],[\"AutoNew48Months\"],[\"AutoNew48Months\"],[\"AutoNew48Months\"],[\"FirstMortgage\"],[\"FirstMortgage\"],[\"FirstMortgage\"],[\"AutoUsed84Months\"],[\"AutoUsed84Months\"]],[[\"AutoUsed84Months\"],[\"AutoNew36Months\"],[\"AutoNew36Months\"],[\"AutoNew36Months\"],[\"FirstMortgageFloat\"],[\"FirstMortgageFloat\"],[\"FirstMortgageFloat\"],[\"FirstMortgageFHA\"],[\"FirstMortgageFHA\"],[\"FirstMortgageFHA\"],[\"FirstMortgageFiveOneARM\"],[\"FirstMortgageFiveOneARM\"],[\"FirstMortgageFiveOneARM\"]]]}],                        {\"template\":{\"data\":{\"histogram2dcontour\":[{\"type\":\"histogram2dcontour\",\"colorbar\":{\"outlinewidth\":0,\"ticks\":\"\"},\"colorscale\":[[0.0,\"#0d0887\"],[0.1111111111111111,\"#46039f\"],[0.2222222222222222,\"#7201a8\"],[0.3333333333333333,\"#9c179e\"],[0.4444444444444444,\"#bd3786\"],[0.5555555555555556,\"#d8576b\"],[0.6666666666666666,\"#ed7953\"],[0.7777777777777778,\"#fb9f3a\"],[0.8888888888888888,\"#fdca26\"],[1.0,\"#f0f921\"]]}],\"choropleth\":[{\"type\":\"choropleth\",\"colorbar\":{\"outlinewidth\":0,\"ticks\":\"\"}}],\"histogram2d\":[{\"type\":\"histogram2d\",\"colorbar\":{\"outlinewidth\":0,\"ticks\":\"\"},\"colorscale\":[[0.0,\"#0d0887\"],[0.1111111111111111,\"#46039f\"],[0.2222222222222222,\"#7201a8\"],[0.3333333333333333,\"#9c179e\"],[0.4444444444444444,\"#bd3786\"],[0.5555555555555556,\"#d8576b\"],[0.6666666666666666,\"#ed7953\"],[0.7777777777777778,\"#fb9f3a\"],[0.8888888888888888,\"#fdca26\"],[1.0,\"#f0f921\"]]}],\"heatmap\":[{\"type\":\"heatmap\",\"colorbar\":{\"outlinewidth\":0,\"ticks\":\"\"},\"colorscale\":[[0.0,\"#0d0887\"],[0.1111111111111111,\"#46039f\"],[0.2222222222222222,\"#7201a8\"],[0.3333333333333333,\"#9c179e\"],[0.4444444444444444,\"#bd3786\"],[0.5555555555555556,\"#d8576b\"],[0.6666666666666666,\"#ed7953\"],[0.7777777777777778,\"#fb9f3a\"],[0.8888888888888888,\"#fdca26\"],[1.0,\"#f0f921\"]]}],\"heatmapgl\":[{\"type\":\"heatmapgl\",\"colorbar\":{\"outlinewidth\":0,\"ticks\":\"\"},\"colorscale\":[[0.0,\"#0d0887\"],[0.1111111111111111,\"#46039f\"],[0.2222222222222222,\"#7201a8\"],[0.3333333333333333,\"#9c179e\"],[0.4444444444444444,\"#bd3786\"],[0.5555555555555556,\"#d8576b\"],[0.6666666666666666,\"#ed7953\"],[0.7777777777777778,\"#fb9f3a\"],[0.8888888888888888,\"#fdca26\"],[1.0,\"#f0f921\"]]}],\"contourcarpet\":[{\"type\":\"contourcarpet\",\"colorbar\":{\"outlinewidth\":0,\"ticks\":\"\"}}],\"contour\":[{\"type\":\"contour\",\"colorbar\":{\"outlinewidth\":0,\"ticks\":\"\"},\"colorscale\":[[0.0,\"#0d0887\"],[0.1111111111111111,\"#46039f\"],[0.2222222222222222,\"#7201a8\"],[0.3333333333333333,\"#9c179e\"],[0.4444444444444444,\"#bd3786\"],[0.5555555555555556,\"#d8576b\"],[0.6666666666666666,\"#ed7953\"],[0.7777777777777778,\"#fb9f3a\"],[0.8888888888888888,\"#fdca26\"],[1.0,\"#f0f921\"]]}],\"surface\":[{\"type\":\"surface\",\"colorbar\":{\"outlinewidth\":0,\"ticks\":\"\"},\"colorscale\":[[0.0,\"#0d0887\"],[0.1111111111111111,\"#46039f\"],[0.2222222222222222,\"#7201a8\"],[0.3333333333333333,\"#9c179e\"],[0.4444444444444444,\"#bd3786\"],[0.5555555555555556,\"#d8576b\"],[0.6666666666666666,\"#ed7953\"],[0.7777777777777778,\"#fb9f3a\"],[0.8888888888888888,\"#fdca26\"],[1.0,\"#f0f921\"]]}],\"mesh3d\":[{\"type\":\"mesh3d\",\"colorbar\":{\"outlinewidth\":0,\"ticks\":\"\"}}],\"scatter\":[{\"fillpattern\":{\"fillmode\":\"overlay\",\"size\":10,\"solidity\":0.2},\"type\":\"scatter\"}],\"parcoords\":[{\"type\":\"parcoords\",\"line\":{\"colorbar\":{\"outlinewidth\":0,\"ticks\":\"\"}}}],\"scatterpolargl\":[{\"type\":\"scatterpolargl\",\"marker\":{\"colorbar\":{\"outlinewidth\":0,\"ticks\":\"\"}}}],\"bar\":[{\"error_x\":{\"color\":\"#2a3f5f\"},\"error_y\":{\"color\":\"#2a3f5f\"},\"marker\":{\"line\":{\"color\":\"#E5ECF6\",\"width\":0.5},\"pattern\":{\"fillmode\":\"overlay\",\"size\":10,\"solidity\":0.2}},\"type\":\"bar\"}],\"scattergeo\":[{\"type\":\"scattergeo\",\"marker\":{\"colorbar\":{\"outlinewidth\":0,\"ticks\":\"\"}}}],\"scatterpolar\":[{\"type\":\"scatterpolar\",\"marker\":{\"colorbar\":{\"outlinewidth\":0,\"ticks\":\"\"}}}],\"histogram\":[{\"marker\":{\"pattern\":{\"fillmode\":\"overlay\",\"size\":10,\"solidity\":0.2}},\"type\":\"histogram\"}],\"scattergl\":[{\"type\":\"scattergl\",\"marker\":{\"colorbar\":{\"outlinewidth\":0,\"ticks\":\"\"}}}],\"scatter3d\":[{\"type\":\"scatter3d\",\"line\":{\"colorbar\":{\"outlinewidth\":0,\"ticks\":\"\"}},\"marker\":{\"colorbar\":{\"outlinewidth\":0,\"ticks\":\"\"}}}],\"scattermapbox\":[{\"type\":\"scattermapbox\",\"marker\":{\"colorbar\":{\"outlinewidth\":0,\"ticks\":\"\"}}}],\"scatterternary\":[{\"type\":\"scatterternary\",\"marker\":{\"colorbar\":{\"outlinewidth\":0,\"ticks\":\"\"}}}],\"scattercarpet\":[{\"type\":\"scattercarpet\",\"marker\":{\"colorbar\":{\"outlinewidth\":0,\"ticks\":\"\"}}}],\"carpet\":[{\"aaxis\":{\"endlinecolor\":\"#2a3f5f\",\"gridcolor\":\"white\",\"linecolor\":\"white\",\"minorgridcolor\":\"white\",\"startlinecolor\":\"#2a3f5f\"},\"baxis\":{\"endlinecolor\":\"#2a3f5f\",\"gridcolor\":\"white\",\"linecolor\":\"white\",\"minorgridcolor\":\"white\",\"startlinecolor\":\"#2a3f5f\"},\"type\":\"carpet\"}],\"table\":[{\"cells\":{\"fill\":{\"color\":\"#EBF0F8\"},\"line\":{\"color\":\"white\"}},\"header\":{\"fill\":{\"color\":\"#C8D4E3\"},\"line\":{\"color\":\"white\"}},\"type\":\"table\"}],\"barpolar\":[{\"marker\":{\"line\":{\"color\":\"#E5ECF6\",\"width\":0.5},\"pattern\":{\"fillmode\":\"overlay\",\"size\":10,\"solidity\":0.2}},\"type\":\"barpolar\"}],\"pie\":[{\"automargin\":true,\"type\":\"pie\"}]},\"layout\":{\"autotypenumbers\":\"strict\",\"colorway\":[\"#636efa\",\"#EF553B\",\"#00cc96\",\"#ab63fa\",\"#FFA15A\",\"#19d3f3\",\"#FF6692\",\"#B6E880\",\"#FF97FF\",\"#FECB52\"],\"font\":{\"color\":\"#2a3f5f\"},\"hovermode\":\"closest\",\"hoverlabel\":{\"align\":\"left\"},\"paper_bgcolor\":\"white\",\"plot_bgcolor\":\"#E5ECF6\",\"polar\":{\"bgcolor\":\"#E5ECF6\",\"angularaxis\":{\"gridcolor\":\"white\",\"linecolor\":\"white\",\"ticks\":\"\"},\"radialaxis\":{\"gridcolor\":\"white\",\"linecolor\":\"white\",\"ticks\":\"\"}},\"ternary\":{\"bgcolor\":\"#E5ECF6\",\"aaxis\":{\"gridcolor\":\"white\",\"linecolor\":\"white\",\"ticks\":\"\"},\"baxis\":{\"gridcolor\":\"white\",\"linecolor\":\"white\",\"ticks\":\"\"},\"caxis\":{\"gridcolor\":\"white\",\"linecolor\":\"white\",\"ticks\":\"\"}},\"coloraxis\":{\"colorbar\":{\"outlinewidth\":0,\"ticks\":\"\"}},\"colorscale\":{\"sequential\":[[0.0,\"#0d0887\"],[0.1111111111111111,\"#46039f\"],[0.2222222222222222,\"#7201a8\"],[0.3333333333333333,\"#9c179e\"],[0.4444444444444444,\"#bd3786\"],[0.5555555555555556,\"#d8576b\"],[0.6666666666666666,\"#ed7953\"],[0.7777777777777778,\"#fb9f3a\"],[0.8888888888888888,\"#fdca26\"],[1.0,\"#f0f921\"]],\"sequentialminus\":[[0.0,\"#0d0887\"],[0.1111111111111111,\"#46039f\"],[0.2222222222222222,\"#7201a8\"],[0.3333333333333333,\"#9c179e\"],[0.4444444444444444,\"#bd3786\"],[0.5555555555555556,\"#d8576b\"],[0.6666666666666666,\"#ed7953\"],[0.7777777777777778,\"#fb9f3a\"],[0.8888888888888888,\"#fdca26\"],[1.0,\"#f0f921\"]],\"diverging\":[[0,\"#8e0152\"],[0.1,\"#c51b7d\"],[0.2,\"#de77ae\"],[0.3,\"#f1b6da\"],[0.4,\"#fde0ef\"],[0.5,\"#f7f7f7\"],[0.6,\"#e6f5d0\"],[0.7,\"#b8e186\"],[0.8,\"#7fbc41\"],[0.9,\"#4d9221\"],[1,\"#276419\"]]},\"xaxis\":{\"gridcolor\":\"white\",\"linecolor\":\"white\",\"ticks\":\"\",\"title\":{\"standoff\":15},\"zerolinecolor\":\"white\",\"automargin\":true,\"zerolinewidth\":2},\"yaxis\":{\"gridcolor\":\"white\",\"linecolor\":\"white\",\"ticks\":\"\",\"title\":{\"standoff\":15},\"zerolinecolor\":\"white\",\"automargin\":true,\"zerolinewidth\":2},\"scene\":{\"xaxis\":{\"backgroundcolor\":\"#E5ECF6\",\"gridcolor\":\"white\",\"linecolor\":\"white\",\"showbackground\":true,\"ticks\":\"\",\"zerolinecolor\":\"white\",\"gridwidth\":2},\"yaxis\":{\"backgroundcolor\":\"#E5ECF6\",\"gridcolor\":\"white\",\"linecolor\":\"white\",\"showbackground\":true,\"ticks\":\"\",\"zerolinecolor\":\"white\",\"gridwidth\":2},\"zaxis\":{\"backgroundcolor\":\"#E5ECF6\",\"gridcolor\":\"white\",\"linecolor\":\"white\",\"showbackground\":true,\"ticks\":\"\",\"zerolinecolor\":\"white\",\"gridwidth\":2}},\"shapedefaults\":{\"line\":{\"color\":\"#2a3f5f\"}},\"annotationdefaults\":{\"arrowcolor\":\"#2a3f5f\",\"arrowhead\":0,\"arrowwidth\":1},\"geo\":{\"bgcolor\":\"white\",\"landcolor\":\"#E5ECF6\",\"subunitcolor\":\"white\",\"showland\":true,\"showlakes\":true,\"lakecolor\":\"white\"},\"title\":{\"x\":0.05},\"mapbox\":{\"style\":\"light\"}}},\"xaxis\":{\"anchor\":\"y\",\"domain\":[0.0,1.0],\"title\":{\"text\":\"Name\"},\"dtick\":1},\"yaxis\":{\"anchor\":\"x\",\"domain\":[0.0,1.0],\"autorange\":\"reversed\",\"dtick\":1,\"automargin\":true},\"coloraxis\":{\"colorscale\":[[0,\"#d91c29\"],[0.01,\"#F76923\"],[0.3,\"#20aa50\"],[0.8,\"#20aa50\"],[1,\"#0000FF\"]],\"cmin\":50,\"cmax\":100},\"title\":{\"text\":\"Top predictors over all models <br><sup>Query: col(\\\"PredictorName\\\").is_in([Series])</sup>\"}},                        {\"responsive\": true}                    ).then(function(){\n",
       "                            \n",
       "var gd = document.getElementById('41b46ae3-b7dd-4e18-abe7-eb891dda649f');\n",
       "var x = new MutationObserver(function (mutations, observer) {{\n",
       "        var display = window.getComputedStyle(gd).display;\n",
       "        if (!display || display === 'none') {{\n",
       "            console.log([gd, 'removed!']);\n",
       "            Plotly.purge(gd);\n",
       "            observer.disconnect();\n",
       "        }}\n",
       "}});\n",
       "\n",
       "// Listen for the removal of the full notebook cells\n",
       "var notebookContainer = gd.closest('#notebook-container');\n",
       "if (notebookContainer) {{\n",
       "    x.observe(notebookContainer, {childList: true});\n",
       "}}\n",
       "\n",
       "// Listen for the clearing of the current output cell\n",
       "var outputEl = gd.closest('.output');\n",
       "if (outputEl) {{\n",
       "    x.observe(outputEl, {childList: true});\n",
       "}}\n",
       "\n",
       "                        })                };                });            </script>        </div>"
      ]
     },
     "metadata": {},
     "output_type": "display_data"
    }
   ],
   "source": [
    "CDHSample.plotPredictorPerformanceHeatmap(\n",
    "    query=pl.col(\"PredictorName\").is_in(\n",
    "        [\n",
    "            \"Customer.Age\",\n",
    "            \"Customer.AnnualIncome\",\n",
    "            \"IH.Email.Outbound.Accepted.pxLastGroupID\",\n",
    "        ]\n",
    "    )\n",
    ")\n"
   ]
  }
 ],
 "metadata": {
  "interpreter": {
   "hash": "31f2aee4e71d21fbe5cf8b01ff0e069b9275f58929596ceb00d14d90e3e16cd6"
  },
  "kernelspec": {
   "display_name": "Python 3.8.2 64-bit",
   "language": "python",
   "name": "python3"
  },
  "language_info": {
   "codemirror_mode": {
    "name": "ipython",
    "version": 3
   },
   "file_extension": ".py",
   "mimetype": "text/x-python",
   "name": "python",
   "nbconvert_exporter": "python",
   "pygments_lexer": "ipython3",
   "version": "3.11.0"
  }
 },
 "nbformat": 4,
 "nbformat_minor": 2
}
