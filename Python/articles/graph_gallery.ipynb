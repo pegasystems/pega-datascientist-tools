{
 "cells": [
  {
   "cell_type": "markdown",
   "metadata": {
    "nbsphinx": "hidden"
   },
   "source": [
    "## Link to article\n",
    "\n",
    "This notebook is included in the documentation, where the interactive Plotly charts show up. See:\n",
    "https://pegasystems.github.io/pega-datascientist-tools/Python/articles/graph_gallery.html"
   ]
  },
  {
   "cell_type": "markdown",
   "metadata": {},
   "source": [
    "# Graph Gallery"
   ]
  },
  {
   "cell_type": "code",
   "execution_count": 1,
   "metadata": {
    "execution": {
     "iopub.execute_input": "2023-03-24T17:48:46.004749Z",
     "iopub.status.busy": "2023-03-24T17:48:46.004242Z",
     "iopub.status.idle": "2023-03-24T17:48:46.067864Z",
     "shell.execute_reply": "2023-03-24T17:48:46.067238Z"
    },
    "nbsphinx": "hidden"
   },
   "outputs": [],
   "source": [
    "# These lines are only for rendering in the docs, and are hidden through Jupyter tags\n",
    "# Do not run if you're running the notebook seperately\n",
    "import plotly.io as pio\n",
    "\n",
    "pio.renderers.default = \"notebook_connected\"\n",
    "\n",
    "import sys\n",
    "\n",
    "sys.path.append(\"../../../\")\n"
   ]
  },
  {
   "cell_type": "code",
   "execution_count": 2,
   "metadata": {
    "execution": {
     "iopub.execute_input": "2023-03-24T17:48:46.070591Z",
     "iopub.status.busy": "2023-03-24T17:48:46.070242Z",
     "iopub.status.idle": "2023-03-24T17:48:47.939453Z",
     "shell.execute_reply": "2023-03-24T17:48:47.938838Z"
    }
   },
   "outputs": [
    {
     "name": "stderr",
     "output_type": "stream",
     "text": [
      "/opt/hostedtoolcache/Python/3.11.2/x64/lib/python3.11/site-packages/tqdm/auto.py:21: TqdmWarning:\n",
      "\n",
      "IProgress not found. Please update jupyter and ipywidgets. See https://ipywidgets.readthedocs.io/en/stable/user_install.html\n",
      "\n"
     ]
    }
   ],
   "source": [
    "import polars as pl\n",
    "from pdstools import datasets\n",
    "\n",
    "data = datasets.CDHSample()\n"
   ]
  },
  {
   "cell_type": "markdown",
   "metadata": {},
   "source": [
    "## Models By Positives"
   ]
  },
  {
   "cell_type": "code",
   "execution_count": 3,
   "metadata": {
    "execution": {
     "iopub.execute_input": "2023-03-24T17:48:47.942380Z",
     "iopub.status.busy": "2023-03-24T17:48:47.941720Z",
     "iopub.status.idle": "2023-03-24T17:48:48.025177Z",
     "shell.execute_reply": "2023-03-24T17:48:48.024616Z"
    }
   },
   "outputs": [
    {
     "data": {
      "text/html": [
       "        <script type=\"text/javascript\">\n",
       "        window.PlotlyConfig = {MathJaxConfig: 'local'};\n",
       "        if (window.MathJax && window.MathJax.Hub && window.MathJax.Hub.Config) {window.MathJax.Hub.Config({SVG: {font: \"STIX-Web\"}});}\n",
       "        if (typeof require !== 'undefined') {\n",
       "        require.undef(\"plotly\");\n",
       "        requirejs.config({\n",
       "            paths: {\n",
       "                'plotly': ['https://cdn.plot.ly/plotly-2.18.2.min']\n",
       "            }\n",
       "        });\n",
       "        require(['plotly'], function(Plotly) {\n",
       "            window._Plotly = Plotly;\n",
       "        });\n",
       "        }\n",
       "        </script>\n",
       "        "
      ]
     },
     "metadata": {},
     "output_type": "display_data"
    },
    {
     "data": {
      "text/html": [
       "<div>                            <div id=\"e1dfb317-de5b-4d98-9bc4-ab50a589a87d\" class=\"plotly-graph-div\" style=\"height:525px; width:100%;\"></div>            <script type=\"text/javascript\">                require([\"plotly\"], function(Plotly) {                    window.PLOTLYENV=window.PLOTLYENV || {};                                    if (document.getElementById(\"e1dfb317-de5b-4d98-9bc4-ab50a589a87d\")) {                    Plotly.newPlot(                        \"e1dfb317-de5b-4d98-9bc4-ab50a589a87d\",                        [{\"hovertemplate\":\"Channel=Email<br>Positives=%{x}<br>Percentage of Models=%{y}<extra></extra>\",\"legendgroup\":\"Email\",\"line\":{\"color\":\"#001F5F\",\"dash\":\"solid\"},\"marker\":{\"symbol\":\"circle\"},\"mode\":\"markers+lines\",\"name\":\"Email\",\"orientation\":\"v\",\"showlegend\":true,\"x\":[\"(0.0, 10.0]\",\"(10.0, 20.0]\",\"(20.0, 30.0]\",\"(30.0, 40.0]\",\"(50.0, 60.0]\",\"(60.0, 70.0]\",\"(80.0, 90.0]\",\"(140.0, 150.0]\",\"(200.0, inf]\"],\"xaxis\":\"x\",\"y\":[0.22727272727272727,0.22727272727272727,0.09090909090909091,0.045454545454545456,0.13636363636363635,0.045454545454545456,0.045454545454545456,0.09090909090909091,0.09090909090909091],\"yaxis\":\"y\",\"type\":\"scatter\"},{\"hovertemplate\":\"Channel=SMS<br>Positives=%{x}<br>Percentage of Models=%{y}<extra></extra>\",\"legendgroup\":\"SMS\",\"line\":{\"color\":\"#10A5AC\",\"dash\":\"solid\"},\"marker\":{\"symbol\":\"circle\"},\"mode\":\"markers+lines\",\"name\":\"SMS\",\"orientation\":\"v\",\"showlegend\":true,\"x\":[\"(0.0, 10.0]\",\"(20.0, 30.0]\",\"(30.0, 40.0]\",\"(40.0, 50.0]\",\"(50.0, 60.0]\",\"(70.0, 80.0]\",\"(100.0, 110.0]\",\"(110.0, 120.0]\",\"(130.0, 140.0]\",\"(140.0, 150.0]\",\"(160.0, 170.0]\",\"(180.0, 190.0]\",\"(190.0, 200.0]\",\"(200.0, inf]\"],\"xaxis\":\"x\",\"y\":[0.07407407407407407,0.037037037037037035,0.07407407407407407,0.1111111111111111,0.07407407407407407,0.037037037037037035,0.037037037037037035,0.037037037037037035,0.037037037037037035,0.037037037037037035,0.07407407407407407,0.037037037037037035,0.037037037037037035,0.2962962962962963],\"yaxis\":\"y\",\"type\":\"scatter\"},{\"hovertemplate\":\"Channel=Web<br>Positives=%{x}<br>Percentage of Models=%{y}<extra></extra>\",\"legendgroup\":\"Web\",\"line\":{\"color\":\"#F76923\",\"dash\":\"solid\"},\"marker\":{\"symbol\":\"circle\"},\"mode\":\"markers+lines\",\"name\":\"Web\",\"orientation\":\"v\",\"showlegend\":true,\"x\":[\"(10.0, 20.0]\",\"(40.0, 50.0]\",\"(70.0, 80.0]\",\"(100.0, 110.0]\",\"(110.0, 120.0]\",\"(130.0, 140.0]\",\"(170.0, 180.0]\",\"(200.0, inf]\"],\"xaxis\":\"x\",\"y\":[0.15789473684210525,0.05263157894736842,0.05263157894736842,0.10526315789473684,0.05263157894736842,0.05263157894736842,0.10526315789473684,0.42105263157894735],\"yaxis\":\"y\",\"type\":\"scatter\"}],                        {\"template\":{\"layout\":{\"colorway\":[\"#001F5F\",\"#10A5AC\",\"#F76923\",\"#661D34\",\"#86CAC6\",\"#005154\",\"#86CAC6\",\"#5F67B9\",\"#FFC836\",\"#E63690\",\"#AC1361\",\"#63666F\",\"#A7A9B4\",\"#D0D1DB\"],\"hovermode\":\"closest\"}},\"xaxis\":{\"anchor\":\"y\",\"domain\":[0.0,1.0],\"title\":{\"text\":\"Positives\"},\"categoryorder\":\"array\",\"categoryarray\":[\"(0.0, 10.0]\",\"(10.0, 20.0]\",\"(20.0, 30.0]\",\"(30.0, 40.0]\",\"(40.0, 50.0]\",\"(50.0, 60.0]\",\"(60.0, 70.0]\",\"(70.0, 80.0]\",\"(80.0, 90.0]\",\"(100.0, 110.0]\",\"(110.0, 120.0]\",\"(130.0, 140.0]\",\"(140.0, 150.0]\",\"(160.0, 170.0]\",\"(170.0, 180.0]\",\"(180.0, 190.0]\",\"(190.0, 200.0]\",\"(200.0, inf]\"]},\"yaxis\":{\"anchor\":\"x\",\"domain\":[0.0,1.0],\"title\":{\"text\":\"Percentage of Models\"},\"tickformat\":\",.0%\"},\"legend\":{\"title\":{\"text\":\"Channel\"},\"tracegroupgap\":0},\"title\":{\"text\":\"Percentage of models vs number of positive responses <br><sup>By Channel</sup>\"}},                        {\"responsive\": true}                    ).then(function(){\n",
       "                            \n",
       "var gd = document.getElementById('e1dfb317-de5b-4d98-9bc4-ab50a589a87d');\n",
       "var x = new MutationObserver(function (mutations, observer) {{\n",
       "        var display = window.getComputedStyle(gd).display;\n",
       "        if (!display || display === 'none') {{\n",
       "            console.log([gd, 'removed!']);\n",
       "            Plotly.purge(gd);\n",
       "            observer.disconnect();\n",
       "        }}\n",
       "}});\n",
       "\n",
       "// Listen for the removal of the full notebook cells\n",
       "var notebookContainer = gd.closest('#notebook-container');\n",
       "if (notebookContainer) {{\n",
       "    x.observe(notebookContainer, {childList: true});\n",
       "}}\n",
       "\n",
       "// Listen for the clearing of the current output cell\n",
       "var outputEl = gd.closest('.output');\n",
       "if (outputEl) {{\n",
       "    x.observe(outputEl, {childList: true});\n",
       "}}\n",
       "\n",
       "                        })                };                });            </script>        </div>"
      ]
     },
     "metadata": {},
     "output_type": "display_data"
    }
   ],
   "source": [
    "data.plotModelsByPositives()\n"
   ]
  },
  {
   "cell_type": "markdown",
   "metadata": {},
   "source": [
    "## Over Time"
   ]
  },
  {
   "cell_type": "code",
   "execution_count": 4,
   "metadata": {
    "execution": {
     "iopub.execute_input": "2023-03-24T17:48:48.027635Z",
     "iopub.status.busy": "2023-03-24T17:48:48.027255Z",
     "iopub.status.idle": "2023-03-24T17:48:48.186161Z",
     "shell.execute_reply": "2023-03-24T17:48:48.185585Z"
    }
   },
   "outputs": [
    {
     "data": {
      "text/html": [
       "<div>                            <div id=\"00dde58f-1eeb-4068-acd8-5ccd47938fc5\" class=\"plotly-graph-div\" style=\"height:525px; width:100%;\"></div>            <script type=\"text/javascript\">                require([\"plotly\"], function(Plotly) {                    window.PLOTLYENV=window.PLOTLYENV || {};                                    if (document.getElementById(\"00dde58f-1eeb-4068-acd8-5ccd47938fc5\")) {                    Plotly.newPlot(                        \"00dde58f-1eeb-4068-acd8-5ccd47938fc5\",                        [{\"customdata\":[[\"AutoNew36Months\"]],\"hovertemplate\":\"Name=%{customdata[0]:.d}<br>SnapshotTime=%{x}<br>weighted_performance=%{y:.2f}<extra></extra>\",\"legendgroup\":\"AutoNew36Months\",\"line\":{\"color\":\"#001F5F\",\"dash\":\"solid\"},\"marker\":{\"symbol\":\"circle\"},\"mode\":\"markers+lines\",\"name\":\"AutoNew36Months\",\"orientation\":\"v\",\"showlegend\":true,\"x\":[\"2021-06-01T00:00:00\"],\"xaxis\":\"x\",\"y\":[56.575561658170116],\"yaxis\":\"y\",\"type\":\"scatter\"},{\"customdata\":[[\"AutoNew84Months\"]],\"hovertemplate\":\"Name=%{customdata[0]:.d}<br>SnapshotTime=%{x}<br>weighted_performance=%{y:.2f}<extra></extra>\",\"legendgroup\":\"AutoNew84Months\",\"line\":{\"color\":\"#10A5AC\",\"dash\":\"solid\"},\"marker\":{\"symbol\":\"circle\"},\"mode\":\"markers+lines\",\"name\":\"AutoNew84Months\",\"orientation\":\"v\",\"showlegend\":true,\"x\":[\"2021-06-01T00:00:00\"],\"xaxis\":\"x\",\"y\":[72.49891951948052],\"yaxis\":\"y\",\"type\":\"scatter\"},{\"customdata\":[[\"AutoUsed36Months\"]],\"hovertemplate\":\"Name=%{customdata[0]:.d}<br>SnapshotTime=%{x}<br>weighted_performance=%{y:.2f}<extra></extra>\",\"legendgroup\":\"AutoUsed36Months\",\"line\":{\"color\":\"#F76923\",\"dash\":\"solid\"},\"marker\":{\"symbol\":\"circle\"},\"mode\":\"markers+lines\",\"name\":\"AutoUsed36Months\",\"orientation\":\"v\",\"showlegend\":true,\"x\":[\"2021-06-01T00:00:00\"],\"xaxis\":\"x\",\"y\":[56.02125684545938],\"yaxis\":\"y\",\"type\":\"scatter\"},{\"customdata\":[[\"FirstMortgage\"]],\"hovertemplate\":\"Name=%{customdata[0]:.d}<br>SnapshotTime=%{x}<br>weighted_performance=%{y:.2f}<extra></extra>\",\"legendgroup\":\"FirstMortgage\",\"line\":{\"color\":\"#661D34\",\"dash\":\"solid\"},\"marker\":{\"symbol\":\"circle\"},\"mode\":\"markers+lines\",\"name\":\"FirstMortgage\",\"orientation\":\"v\",\"showlegend\":true,\"x\":[\"2021-06-01T00:00:00\"],\"xaxis\":\"x\",\"y\":[63.34021106176194],\"yaxis\":\"y\",\"type\":\"scatter\"},{\"customdata\":[[\"FirstMortgageFiveOneARM\"]],\"hovertemplate\":\"Name=%{customdata[0]:.d}<br>SnapshotTime=%{x}<br>weighted_performance=%{y:.2f}<extra></extra>\",\"legendgroup\":\"FirstMortgageFiveOneARM\",\"line\":{\"color\":\"#86CAC6\",\"dash\":\"solid\"},\"marker\":{\"symbol\":\"circle\"},\"mode\":\"markers+lines\",\"name\":\"FirstMortgageFiveOneARM\",\"orientation\":\"v\",\"showlegend\":true,\"x\":[\"2021-06-01T00:00:00\"],\"xaxis\":\"x\",\"y\":[53.82122628175519],\"yaxis\":\"y\",\"type\":\"scatter\"},{\"customdata\":[[\"FirstMortgageFloat\"]],\"hovertemplate\":\"Name=%{customdata[0]:.d}<br>SnapshotTime=%{x}<br>weighted_performance=%{y:.2f}<extra></extra>\",\"legendgroup\":\"FirstMortgageFloat\",\"line\":{\"color\":\"#005154\",\"dash\":\"solid\"},\"marker\":{\"symbol\":\"circle\"},\"mode\":\"markers+lines\",\"name\":\"FirstMortgageFloat\",\"orientation\":\"v\",\"showlegend\":true,\"x\":[\"2021-06-01T00:00:00\"],\"xaxis\":\"x\",\"y\":[59.02094234592447],\"yaxis\":\"y\",\"type\":\"scatter\"},{\"customdata\":[[\"HomeOwners\"]],\"hovertemplate\":\"Name=%{customdata[0]:.d}<br>SnapshotTime=%{x}<br>weighted_performance=%{y:.2f}<extra></extra>\",\"legendgroup\":\"HomeOwners\",\"line\":{\"color\":\"#86CAC6\",\"dash\":\"solid\"},\"marker\":{\"symbol\":\"circle\"},\"mode\":\"markers+lines\",\"name\":\"HomeOwners\",\"orientation\":\"v\",\"showlegend\":true,\"x\":[\"2021-06-01T00:00:00\"],\"xaxis\":\"x\",\"y\":[71.57897451149923],\"yaxis\":\"y\",\"type\":\"scatter\"},{\"customdata\":[[\"IncreaseYourCreditLine\"]],\"hovertemplate\":\"Name=%{customdata[0]:.d}<br>SnapshotTime=%{x}<br>weighted_performance=%{y:.2f}<extra></extra>\",\"legendgroup\":\"IncreaseYourCreditLine\",\"line\":{\"color\":\"#5F67B9\",\"dash\":\"solid\"},\"marker\":{\"symbol\":\"circle\"},\"mode\":\"markers+lines\",\"name\":\"IncreaseYourCreditLine\",\"orientation\":\"v\",\"showlegend\":true,\"x\":[\"2021-06-01T00:00:00\"],\"xaxis\":\"x\",\"y\":[58.7052482123077],\"yaxis\":\"y\",\"type\":\"scatter\"},{\"customdata\":[[\"MasterCardGold\"]],\"hovertemplate\":\"Name=%{customdata[0]:.d}<br>SnapshotTime=%{x}<br>weighted_performance=%{y:.2f}<extra></extra>\",\"legendgroup\":\"MasterCardGold\",\"line\":{\"color\":\"#FFC836\",\"dash\":\"solid\"},\"marker\":{\"symbol\":\"circle\"},\"mode\":\"markers+lines\",\"name\":\"MasterCardGold\",\"orientation\":\"v\",\"showlegend\":true,\"x\":[\"2021-06-01T00:00:00\"],\"xaxis\":\"x\",\"y\":[56.4042011033821],\"yaxis\":\"y\",\"type\":\"scatter\"},{\"customdata\":[[\"MoneyMarketSavingsAccount\"]],\"hovertemplate\":\"Name=%{customdata[0]:.d}<br>SnapshotTime=%{x}<br>weighted_performance=%{y:.2f}<extra></extra>\",\"legendgroup\":\"MoneyMarketSavingsAccount\",\"line\":{\"color\":\"#E63690\",\"dash\":\"solid\"},\"marker\":{\"symbol\":\"circle\"},\"mode\":\"markers+lines\",\"name\":\"MoneyMarketSavingsAccount\",\"orientation\":\"v\",\"showlegend\":true,\"x\":[\"2021-06-01T00:00:00\"],\"xaxis\":\"x\",\"y\":[50.0],\"yaxis\":\"y\",\"type\":\"scatter\"},{\"customdata\":[[\"PaymentProtection\"]],\"hovertemplate\":\"Name=%{customdata[0]:.d}<br>SnapshotTime=%{x}<br>weighted_performance=%{y:.2f}<extra></extra>\",\"legendgroup\":\"PaymentProtection\",\"line\":{\"color\":\"#AC1361\",\"dash\":\"solid\"},\"marker\":{\"symbol\":\"circle\"},\"mode\":\"markers+lines\",\"name\":\"PaymentProtection\",\"orientation\":\"v\",\"showlegend\":true,\"x\":[\"2021-06-01T00:00:00\"],\"xaxis\":\"x\",\"y\":[55.92534992215145],\"yaxis\":\"y\",\"type\":\"scatter\"},{\"customdata\":[[\"PlatinumRewardsCard\"]],\"hovertemplate\":\"Name=%{customdata[0]:.d}<br>SnapshotTime=%{x}<br>weighted_performance=%{y:.2f}<extra></extra>\",\"legendgroup\":\"PlatinumRewardsCard\",\"line\":{\"color\":\"#63666F\",\"dash\":\"solid\"},\"marker\":{\"symbol\":\"circle\"},\"mode\":\"markers+lines\",\"name\":\"PlatinumRewardsCard\",\"orientation\":\"v\",\"showlegend\":true,\"x\":[\"2021-06-01T00:00:00\"],\"xaxis\":\"x\",\"y\":[59.15322127859606],\"yaxis\":\"y\",\"type\":\"scatter\"},{\"customdata\":[[\"PremierChecking\"]],\"hovertemplate\":\"Name=%{customdata[0]:.d}<br>SnapshotTime=%{x}<br>weighted_performance=%{y:.2f}<extra></extra>\",\"legendgroup\":\"PremierChecking\",\"line\":{\"color\":\"#A7A9B4\",\"dash\":\"solid\"},\"marker\":{\"symbol\":\"circle\"},\"mode\":\"markers+lines\",\"name\":\"PremierChecking\",\"orientation\":\"v\",\"showlegend\":true,\"x\":[\"2021-06-01T00:00:00\"],\"xaxis\":\"x\",\"y\":[53.13052330749354],\"yaxis\":\"y\",\"type\":\"scatter\"},{\"customdata\":[[\"PremiumBanking\"]],\"hovertemplate\":\"Name=%{customdata[0]:.d}<br>SnapshotTime=%{x}<br>weighted_performance=%{y:.2f}<extra></extra>\",\"legendgroup\":\"PremiumBanking\",\"line\":{\"color\":\"#D0D1DB\",\"dash\":\"solid\"},\"marker\":{\"symbol\":\"circle\"},\"mode\":\"markers+lines\",\"name\":\"PremiumBanking\",\"orientation\":\"v\",\"showlegend\":true,\"x\":[\"2021-06-01T00:00:00\"],\"xaxis\":\"x\",\"y\":[62.19324250964971],\"yaxis\":\"y\",\"type\":\"scatter\"},{\"customdata\":[[\"SeniorChecking\"]],\"hovertemplate\":\"Name=%{customdata[0]:.d}<br>SnapshotTime=%{x}<br>weighted_performance=%{y:.2f}<extra></extra>\",\"legendgroup\":\"SeniorChecking\",\"line\":{\"color\":\"#001F5F\",\"dash\":\"solid\"},\"marker\":{\"symbol\":\"circle\"},\"mode\":\"markers+lines\",\"name\":\"SeniorChecking\",\"orientation\":\"v\",\"showlegend\":true,\"x\":[\"2021-06-01T00:00:00\"],\"xaxis\":\"x\",\"y\":[53.70358239891827],\"yaxis\":\"y\",\"type\":\"scatter\"},{\"customdata\":[[\"Services_ChannelAction_Template\"]],\"hovertemplate\":\"Name=%{customdata[0]:.d}<br>SnapshotTime=%{x}<br>weighted_performance=%{y:.2f}<extra></extra>\",\"legendgroup\":\"Services_ChannelAction_Template\",\"line\":{\"color\":\"#10A5AC\",\"dash\":\"solid\"},\"marker\":{\"symbol\":\"circle\"},\"mode\":\"markers+lines\",\"name\":\"Services_ChannelAction_Template\",\"orientation\":\"v\",\"showlegend\":true,\"x\":[\"2021-06-01T00:00:00\"],\"xaxis\":\"x\",\"y\":[64.87774700213575],\"yaxis\":\"y\",\"type\":\"scatter\"},{\"customdata\":[[\"SuperSaver\"]],\"hovertemplate\":\"Name=%{customdata[0]:.d}<br>SnapshotTime=%{x}<br>weighted_performance=%{y:.2f}<extra></extra>\",\"legendgroup\":\"SuperSaver\",\"line\":{\"color\":\"#F76923\",\"dash\":\"solid\"},\"marker\":{\"symbol\":\"circle\"},\"mode\":\"markers+lines\",\"name\":\"SuperSaver\",\"orientation\":\"v\",\"showlegend\":true,\"x\":[\"2021-06-01T00:00:00\"],\"xaxis\":\"x\",\"y\":[69.42290362709396],\"yaxis\":\"y\",\"type\":\"scatter\"},{\"customdata\":[[\"UPlusFinGold\"]],\"hovertemplate\":\"Name=%{customdata[0]:.d}<br>SnapshotTime=%{x}<br>weighted_performance=%{y:.2f}<extra></extra>\",\"legendgroup\":\"UPlusFinGold\",\"line\":{\"color\":\"#661D34\",\"dash\":\"solid\"},\"marker\":{\"symbol\":\"circle\"},\"mode\":\"markers+lines\",\"name\":\"UPlusFinGold\",\"orientation\":\"v\",\"showlegend\":true,\"x\":[\"2021-06-01T00:00:00\"],\"xaxis\":\"x\",\"y\":[68.06227184001739],\"yaxis\":\"y\",\"type\":\"scatter\"},{\"customdata\":[[\"VisaGold\"]],\"hovertemplate\":\"Name=%{customdata[0]:.d}<br>SnapshotTime=%{x}<br>weighted_performance=%{y:.2f}<extra></extra>\",\"legendgroup\":\"VisaGold\",\"line\":{\"color\":\"#86CAC6\",\"dash\":\"solid\"},\"marker\":{\"symbol\":\"circle\"},\"mode\":\"markers+lines\",\"name\":\"VisaGold\",\"orientation\":\"v\",\"showlegend\":true,\"x\":[\"2021-06-01T00:00:00\"],\"xaxis\":\"x\",\"y\":[53.59593556998558],\"yaxis\":\"y\",\"type\":\"scatter\"}],                        {\"template\":{\"layout\":{\"colorway\":[\"#001F5F\",\"#10A5AC\",\"#F76923\",\"#661D34\",\"#86CAC6\",\"#005154\",\"#86CAC6\",\"#5F67B9\",\"#FFC836\",\"#E63690\",\"#AC1361\",\"#63666F\",\"#A7A9B4\",\"#D0D1DB\"],\"hovermode\":\"closest\"}},\"xaxis\":{\"anchor\":\"y\",\"domain\":[0.0,1.0],\"title\":{\"text\":\"SnapshotTime\"}},\"yaxis\":{\"anchor\":\"x\",\"domain\":[0.0,1.0],\"title\":{\"text\":\"weighted_performance\"}},\"legend\":{\"title\":{\"text\":\"Name\"},\"tracegroupgap\":0},\"title\":{\"text\":\"weighted_performance over time, per Name over all models <br><sup>Query: [(col(\\\"Channel\\\")) == (Utf8(Web))]</sup>\"}},                        {\"responsive\": true}                    ).then(function(){\n",
       "                            \n",
       "var gd = document.getElementById('00dde58f-1eeb-4068-acd8-5ccd47938fc5');\n",
       "var x = new MutationObserver(function (mutations, observer) {{\n",
       "        var display = window.getComputedStyle(gd).display;\n",
       "        if (!display || display === 'none') {{\n",
       "            console.log([gd, 'removed!']);\n",
       "            Plotly.purge(gd);\n",
       "            observer.disconnect();\n",
       "        }}\n",
       "}});\n",
       "\n",
       "// Listen for the removal of the full notebook cells\n",
       "var notebookContainer = gd.closest('#notebook-container');\n",
       "if (notebookContainer) {{\n",
       "    x.observe(notebookContainer, {childList: true});\n",
       "}}\n",
       "\n",
       "// Listen for the clearing of the current output cell\n",
       "var outputEl = gd.closest('.output');\n",
       "if (outputEl) {{\n",
       "    x.observe(outputEl, {childList: true});\n",
       "}}\n",
       "\n",
       "                        })                };                });            </script>        </div>"
      ]
     },
     "metadata": {},
     "output_type": "display_data"
    }
   ],
   "source": [
    "data.plotOverTime(query=pl.col(\"Channel\") == \"Web\", by=\"Name\")\n"
   ]
  },
  {
   "cell_type": "markdown",
   "metadata": {},
   "source": [
    "## Performance Success Rate Bubble Chart"
   ]
  },
  {
   "cell_type": "code",
   "execution_count": 5,
   "metadata": {
    "execution": {
     "iopub.execute_input": "2023-03-24T17:48:48.188821Z",
     "iopub.status.busy": "2023-03-24T17:48:48.188394Z",
     "iopub.status.idle": "2023-03-24T17:48:48.234073Z",
     "shell.execute_reply": "2023-03-24T17:48:48.233543Z"
    }
   },
   "outputs": [
    {
     "data": {
      "text/html": [
       "<div>                            <div id=\"0f2c8711-956f-4571-8f40-992bd3532ae5\" class=\"plotly-graph-div\" style=\"height:525px; width:100%;\"></div>            <script type=\"text/javascript\">                require([\"plotly\"], function(Plotly) {                    window.PLOTLYENV=window.PLOTLYENV || {};                                    if (document.getElementById(\"0f2c8711-956f-4571-8f40-992bd3532ae5\")) {                    Plotly.newPlot(                        \"0f2c8711-956f-4571-8f40-992bd3532ae5\",                        [{\"customdata\":[[\"f3afaa9b-d0d5-5be9-a3b9-9fdfc4847411\",\"Email\",\"Outbound\",\"Sales\",\"AutoLoans\"],[\"e4ea7a89-c394-5014-ac26-34b8eee475bd\",\"SMS\",\"Outbound\",\"Sales\",\"CreditCards\"],[\"1289c4af-1d3f-5265-9fe5-173e1ddaadc3\",\"SMS\",\"Outbound\",\"Sales\",\"HomeLoans\"],[\"3c892256-f415-5408-905d-3158345b10bf\",\"Email\",\"Outbound\",\"Sales\",\"Bundles\"],[\"a87d51fb-cfdc-598d-b84a-dcdd64e1e750\",\"Web\",\"Inbound\",\"Sales\",\"HomeLoans\"],[\"cc9b9b1b-c2f9-5e8c-a54a-f13e0559ebd6\",\"Email\",\"Outbound\",\"Sales\",\"CreditCards\"],[\"9e9e8c2e-6d19-538c-8e7b-a73070717ecf\",\"Web\",\"Inbound\",\"Sales\",\"CreditCards\"],[\"ea0a225a-7d09-5d90-88f6-d0e8380d67cc\",\"Web\",\"Inbound\",\"Sales\",\"DepositAccounts\"],[\"b27d8eb5-7ff6-5706-ae90-6d61ce695f78\",\"SMS\",\"Outbound\",\"Sales\",\"Bundles\"],[\"84107ad6-c998-5377-b0d0-e02be2a8d768\",\"Email\",\"Outbound\",\"Sales\",\"AutoLoans\"],[\"5ca51e1e-49f0-58d2-8ab7-4a0ccbb326fd\",\"SMS\",\"Outbound\",\"Sales\",\"DepositAccounts\"],[\"b216413c-8c2e-5e1b-860b-07dfc69efa69\",\"SMS\",\"Outbound\",\"Sales\",\"AutoLoans\"],[\"c8a529fb-9d2c-5069-a50f-42ee1ea9341a\",\"Web\",\"Inbound\",\"Services\",\"Account\"],[\"f9fc995f-3f02-5e9e-8e22-b72909054f3a\",\"SMS\",\"Outbound\",\"Sales\",\"AutoLoans\"],[\"59f06605-5b39-57dd-945b-637a72fa9085\",\"Web\",\"Inbound\",\"Sales\",\"CreditCards\"],[\"7ffc8c26-8473-5c8e-bcc3-48e5b162da7a\",\"SMS\",\"Outbound\",\"Sales\",\"CreditCards\"],[\"692f453a-f825-5a90-ab40-f83cbb34b058\",\"Web\",\"Inbound\",\"Sales\",\"HomeLoans\"],[\"b5338016-1fee-5745-80ee-7bd6d51f2920\",\"Email\",\"Outbound\",\"Sales\",\"CreditCards\"],[\"26dda9e0-34a2-5e0a-8ee2-fd0c39de729e\",\"SMS\",\"Outbound\",\"Sales\",\"CreditCards\"],[\"24f11deb-a6fa-59bf-b5f7-c61abffc9482\",\"Email\",\"Outbound\",\"Sales\",\"AutoLoans\"],[\"cb67c091-5a81-56f4-9845-71afa9c8076e\",\"Email\",\"Outbound\",\"Sales\",\"HomeLoans\"],[\"95ae0f10-297a-5c01-94d8-914bb89df969\",\"Web\",\"Inbound\",\"Sales\",\"DepositAccounts\"],[\"c3f445b2-6037-5560-9f16-71a7259d2c2c\",\"SMS\",\"Outbound\",\"Sales\",\"HomeLoans\"],[\"a8cde9d1-c720-537c-8fb8-8c59506bddfe\",\"Web\",\"Inbound\",\"Sales\",\"CreditCards\"],[\"34f7d1b9-92f7-57dc-ab62-0de35dda0221\",\"SMS\",\"Outbound\",\"Services\",\"Account\"],[\"69a8e56f-6327-5a66-a9a3-9b0c106641ec\",\"SMS\",\"Outbound\",\"Sales\",\"AutoLoans\"],[\"8e40882a-aacf-5f03-9be8-f833c7932da2\",\"Web\",\"Inbound\",\"Sales\",\"Bundles\"],[\"4efdb97d-288d-518f-a3e0-8314bbd7f2a3\",\"SMS\",\"Outbound\",\"Sales\",\"CreditCards\"],[\"470485f7-3b20-58f7-a3aa-1f12c2bb99b7\",\"Email\",\"Outbound\",\"Sales\",\"HomeLoans\"],[\"79e3f70f-dc6a-5bea-8006-02a6e91ad256\",\"Email\",\"Outbound\",\"Sales\",\"DepositAccounts\"],[\"98aeb30c-d896-51bd-b421-a650f0522335\",\"SMS\",\"Outbound\",\"Sales\",\"CreditCards\"],[\"08ca1302-9fc0-57bf-9031-d4179d400493\",\"Web\",\"Inbound\",\"Sales\",\"Bundles\"],[\"68e1d164-81e3-5da0-816c-0bbc3c20ac6c\",\"Web\",\"Inbound\",\"Sales\",\"AutoLoans\"],[\"c4cd4c00-87bf-562e-9ab8-20af64a81757\",\"Email\",\"Outbound\",\"Sales\",\"DepositAccounts\"],[\"c29ffcfa-5210-5998-a826-f3a8db57c610\",\"Web\",\"Inbound\",\"Sales\",\"CreditCards\"],[\"a8cd5e12-5d10-5b62-95f6-c5bb6344a83a\",\"Web\",\"Inbound\",\"Sales\",\"DepositAccounts\"],[\"708be173-0f46-55ee-add6-6fdca447a70a\",\"SMS\",\"Outbound\",\"Sales\",\"HomeLoans\"],[\"cffb1b5d-219e-5137-9036-4e2136be6a8f\",\"Email\",\"Outbound\",\"Sales\",\"DepositAccounts\"],[\"0b363d7f-68f8-5e9e-a843-40ca8849e05b\",\"Email\",\"Outbound\",\"Sales\",\"HomeLoans\"],[\"277a2c48-8888-5b71-911e-443d52c9b50f\",\"SMS\",\"Outbound\",\"Sales\",\"Bundles\"],[\"ab4592bc-df16-5372-86e7-0caea36ac877\",\"Email\",\"Outbound\",\"Sales\",\"CreditCards\"],[\"a75db3a2-fecc-5cc8-b75f-0a44447f9cca\",\"SMS\",\"Outbound\",\"Sales\",\"AutoLoans\"],[\"602303a4-5243-523d-8964-473f3ea1200b\",\"SMS\",\"Outbound\",\"Sales\",\"CreditCards\"],[\"30cc2c18-5852-581a-abaa-555bf46a3b9c\",\"Email\",\"Outbound\",\"Services\",\"Account\"],[\"320c4d01-43a5-510e-8fa8-1fc1bb4216da\",\"Email\",\"Outbound\",\"Sales\",\"Bundles\"],[\"0469930e-8d83-5c81-ba28-a8ec488f8e4d\",\"SMS\",\"Outbound\",\"Sales\",\"DepositAccounts\"],[\"d6e132b6-ad92-5ece-8db5-b42d9d151f73\",\"SMS\",\"Outbound\",\"Sales\",\"Bundles\"],[\"0ad9da35-f171-5ab9-973f-1cc4b89b4e8f\",\"Web\",\"Inbound\",\"Sales\",\"Bundles\"],[\"bd70a915-697a-5d43-ab2c-53b0557c85a0\",\"Email\",\"Outbound\",\"Sales\",\"AutoLoans\"],[\"d5e2f4b1-249a-58c0-8a2f-2d314eada5fe\",\"SMS\",\"Outbound\",\"Sales\",\"AutoLoans\"],[\"708f20ef-7ca1-58f4-9dfa-b7efb5342fcf\",\"Web\",\"Inbound\",\"Sales\",\"HomeLoans\"],[\"5cb8d642-390e-5c3e-8868-d34768f9535c\",\"Web\",\"Inbound\",\"Sales\",\"AutoLoans\"],[\"1be7cd72-741b-5d68-b148-c1af0142fd4a\",\"SMS\",\"Outbound\",\"Sales\",\"CreditCards\"],[\"838ca9ec-74ea-5a54-8c57-f45295116921\",\"SMS\",\"Outbound\",\"Services\",\"Account\"],[\"17571d69-f802-5122-9bfe-6f3f4ef9073b\",\"Web\",\"Inbound\",\"Sales\",\"CreditCards\"],[\"a63f2f06-1e31-5691-a6df-48916a066c23\",\"Email\",\"Outbound\",\"Sales\",\"DepositAccounts\"],[\"dd502275-e98b-51f7-8935-c30c84641871\",\"Web\",\"Inbound\",\"Services\",\"Account\"],[\"f38b5b50-b01b-5fd9-8120-7470320d6664\",\"SMS\",\"Outbound\",\"Sales\",\"DepositAccounts\"],[\"7d2046d5-be79-5f5a-a858-dcd9c65fd086\",\"Web\",\"Inbound\",\"Sales\",\"AutoLoans\"],[\"2c8e753a-9e85-5060-ac5b-073e79e755c0\",\"Email\",\"Outbound\",\"Sales\",\"CreditCards\"],[\"4954d7a5-b75e-5c71-89d6-e8340feb5022\",\"Email\",\"Outbound\",\"Sales\",\"DepositAccounts\"],[\"081d0acf-bfc3-5c0a-abc4-29106252efb8\",\"SMS\",\"Outbound\",\"Sales\",\"CreditCards\"],[\"aaf75ad6-c71a-5fd8-b2eb-782cdbd30337\",\"SMS\",\"Outbound\",\"Services\",\"Account\"],[\"bb02128b-d6df-52f3-9983-316f9fce47c7\",\"Email\",\"Outbound\",\"Sales\",\"CreditCards\"],[\"baae77a0-099a-5104-b7a9-b9b1a23290fc\",\"SMS\",\"Outbound\",\"Services\",\"Customer\"],[\"a7bb008a-0514-5d41-b014-3e0b1b308382\",\"SMS\",\"Outbound\",\"Sales\",\"DepositAccounts\"],[\"85d9dd89-93e5-55a0-b05f-e68bba9c97d1\",\"Email\",\"Outbound\",\"Sales\",\"CreditCards\"],[\"ebb6d905-7c43-5422-a813-f770feba7114\",\"Email\",\"Outbound\",\"Sales\",\"AutoLoans\"]],\"hovertemplate\":\"<b>%{hovertext}</b><br><br>Performance=%{marker.color}<br>SuccessRate=%{y}<br>ResponseCount=%{marker.size}<br>ModelID=%{customdata[0]}<br>Channel=%{customdata[1]}<br>Direction=%{customdata[2]}<br>Issue=%{customdata[3]}<br>Group=%{customdata[4]}<extra></extra>\",\"hovertext\":[\"AutoNew84Months\",\"PaymentProtection\",\"FirstMortgageFHA\",\"StudentChoice\",\"FirstMortgage\",\"IdentityTheftProtection\",\"MasterCardGold\",\"PremierChecking\",\"PremiumBanking\",\"AutoUsed60Months\",\"RegularSaving\",\"AutoUsed36Months\",\"IncreaseYourCreditLine\",\"AutoNew36Months\",\"PlatinumRewardsCard\",\"MasterCardWorld\",\"FirstMortgageFloat\",\"PaymentProtection\",\"ChannelAction_Template\",\"AutoUsed84Months\",\"FirstMortgageFHA\",\"MoneyMarketSavingsAccount\",\"FirstMortgage\",\"UPlusFinGold\",\"Services_ChannelAction_Template\",\"AutoNew48Months\",\"PremiumBanking\",\"MasterCardGold\",\"FirstMortgageFloat\",\"MoneyMarketSavingsAccount\",\"IdentityTheftProtection\",\"HomeOwners\",\"AutoNew84Months\",\"RegularSaving\",\"PaymentProtection\",\"SeniorChecking\",\"FirstMortgageFiveOneARM\",\"PremierChecking\",\"FirstMortgageFiveOneARM\",\"HomeOwners\",\"UPlusFinPersonal\",\"AutoUsed48Months\",\"UPlusFinPersonal\",\"Services_ChannelAction_Template\",\"PremiumBanking\",\"SeniorChecking\",\"SuperSaver\",\"SuperSaver\",\"AutoNew36Months\",\"AutoUsed84Months\",\"FirstMortgageFiveOneARM\",\"AutoUsed36Months\",\"VisaGold\",\"GoPaperless\",\"VisaGold\",\"BasicChecking\",\"Services_ChannelAction_Template\",\"MoneyMarketSavingsAccount\",\"AutoNew36Months\",\"UPlusFinGold\",\"SeniorChecking\",\"UPlusFinGold\",\"IncreaseYourCreditLine\",\"PlatinumRewardsCard\",\"MissingContactInformation\",\"PremierChecking\",\"MasterCardGold\",\"AutoNew48Months\"],\"legendgroup\":\"\",\"marker\":{\"color\":[64.2461,51.4945,52.7779,60.1887,64.7708,50.0,57.1711,52.4186,61.6472,65.3775,51.1978,54.2851,59.2788,60.5845,57.9772,55.1591,64.6733,52.5041,69.7884,50.0,67.6805,50.0,64.851,68.6745,71.0618,61.8246,65.264,50.0,50.0,50.0,53.0707,75.6002,77.4901,61.4512,58.1586,54.9147,65.202,52.1103,53.0007,77.3211,61.9665,69.3922,62.9893,62.9442,62.467,56.5227,61.812,75.7296,52.3734,62.2813,52.7198,57.8638,53.1863,71.2165,51.9586,51.0276,66.3954,51.3569,56.5041,53.496,54.9252,66.541,56.4527,50.0,62.2187,51.6802,50.0,58.0125],\"coloraxis\":\"coloraxis\",\"size\":[1184,722,477,5203,4076,808,835,4404,5052,1378,1221,1622,6471,5602,907,634,518,537,828,1243,362,1206,3946,3760,7287,5743,5176,1080,444,1096,855,4605,1636,1069,686,3024,482,3355,404,4976,3508,1447,3588,7415,5430,3424,1106,1267,5817,1347,449,1688,822,8174,778,3868,7073,1185,5499,3545,2883,3854,7668,989,7096,4658,875,5198],\"sizemode\":\"area\",\"sizeref\":20.435,\"symbol\":\"circle\",\"line\":{\"color\":\"black\"}},\"mode\":\"markers\",\"name\":\"\",\"orientation\":\"v\",\"showlegend\":false,\"x\":[64.2461,51.4945,52.7779,60.1887,64.7708,50.0,57.1711,52.4186,61.6472,65.3775,51.1978,54.2851,59.2788,60.5845,57.9772,55.1591,64.6733,52.5041,69.7884,50.0,67.6805,50.0,64.851,68.6745,71.0618,61.8246,65.264,50.0,50.0,50.0,53.0707,75.6002,77.4901,61.4512,58.1586,54.9147,65.202,52.1103,53.0007,77.3211,61.9665,69.3922,62.9893,62.9442,62.467,56.5227,61.812,75.7296,52.3734,62.2813,52.7198,57.8638,53.1863,71.2165,51.9586,51.0276,66.3954,51.3569,56.5041,53.496,54.9252,66.541,56.4527,50.0,62.2187,51.6802,50.0,58.0125],\"xaxis\":\"x\",\"y\":[5.65878,22.43767,10.06289,1.69133,22.15407,0.24752,2.15569,27.77021,2.0388,3.91872,6.38821,8.75462,4.18792,0.64263,1.54355,5.67823,2.50965,5.40037,6.28019,1.04586,3.59116,9.12106,16.85251,5.93085,3.25237,7.19136,1.95131,0.27778,0.45045,1.73358,1.16959,13.22476,12.59169,1.40318,25.07289,19.01455,10.37344,8.70343,2.47525,10.7717,1.53934,3.52453,5.18395,0.72825,0.44199,15.82944,12.02532,8.83978,0.20629,3.71195,17.37194,10.24882,3.28467,11.05946,5.9126,7.29059,5.08978,9.95781,2.49136,1.07193,5.06417,4.28127,2.60824,0.20222,18.94025,23.65822,0.57143,2.75106],\"yaxis\":\"y\",\"type\":\"scatter\"}],                        {\"template\":{\"layout\":{\"colorway\":[\"#001F5F\",\"#10A5AC\",\"#F76923\",\"#661D34\",\"#86CAC6\",\"#005154\",\"#86CAC6\",\"#5F67B9\",\"#FFC836\",\"#E63690\",\"#AC1361\",\"#63666F\",\"#A7A9B4\",\"#D0D1DB\"],\"hovermode\":\"closest\"}},\"xaxis\":{\"anchor\":\"y\",\"domain\":[0.0,1.0],\"title\":{\"text\":\"Performance\"}},\"yaxis\":{\"anchor\":\"x\",\"domain\":[0.0,1.0],\"title\":{\"text\":\"SuccessRate\"}},\"coloraxis\":{\"colorbar\":{\"title\":{\"text\":\"Performance\"}},\"colorscale\":[[0.0,\"#440154\"],[0.1111111111111111,\"#482878\"],[0.2222222222222222,\"#3e4989\"],[0.3333333333333333,\"#31688e\"],[0.4444444444444444,\"#26828e\"],[0.5555555555555556,\"#1f9e89\"],[0.6666666666666666,\"#35b779\"],[0.7777777777777778,\"#6ece58\"],[0.8888888888888888,\"#b5de2b\"],[1.0,\"#fde725\"]]},\"legend\":{\"tracegroupgap\":0,\"itemsizing\":\"constant\"},\"title\":{\"text\":\"Bubble Chart over all models <br><sup>68 models: 0 (0.0%) at (50,0)</sup>\"}},                        {\"responsive\": true}                    ).then(function(){\n",
       "                            \n",
       "var gd = document.getElementById('0f2c8711-956f-4571-8f40-992bd3532ae5');\n",
       "var x = new MutationObserver(function (mutations, observer) {{\n",
       "        var display = window.getComputedStyle(gd).display;\n",
       "        if (!display || display === 'none') {{\n",
       "            console.log([gd, 'removed!']);\n",
       "            Plotly.purge(gd);\n",
       "            observer.disconnect();\n",
       "        }}\n",
       "}});\n",
       "\n",
       "// Listen for the removal of the full notebook cells\n",
       "var notebookContainer = gd.closest('#notebook-container');\n",
       "if (notebookContainer) {{\n",
       "    x.observe(notebookContainer, {childList: true});\n",
       "}}\n",
       "\n",
       "// Listen for the clearing of the current output cell\n",
       "var outputEl = gd.closest('.output');\n",
       "if (outputEl) {{\n",
       "    x.observe(outputEl, {childList: true});\n",
       "}}\n",
       "\n",
       "                        })                };                });            </script>        </div>"
      ]
     },
     "metadata": {},
     "output_type": "display_data"
    }
   ],
   "source": [
    "data.plotPerformanceSuccessRateBubbleChart()\n"
   ]
  },
  {
   "cell_type": "markdown",
   "metadata": {},
   "source": [
    "## Predictor Binning"
   ]
  },
  {
   "cell_type": "code",
   "execution_count": 6,
   "metadata": {
    "execution": {
     "iopub.execute_input": "2023-03-24T17:48:48.236354Z",
     "iopub.status.busy": "2023-03-24T17:48:48.235981Z",
     "iopub.status.idle": "2023-03-24T17:48:48.308133Z",
     "shell.execute_reply": "2023-03-24T17:48:48.307553Z"
    }
   },
   "outputs": [
    {
     "data": {
      "text/html": [
       "<div>                            <div id=\"804a4448-609e-4b29-a6ec-cb9b7d91a144\" class=\"plotly-graph-div\" style=\"height:525px; width:100%;\"></div>            <script type=\"text/javascript\">                require([\"plotly\"], function(Plotly) {                    window.PLOTLYENV=window.PLOTLYENV || {};                                    if (document.getElementById(\"804a4448-609e-4b29-a6ec-cb9b7d91a144\")) {                    Plotly.newPlot(                        \"804a4448-609e-4b29-a6ec-cb9b7d91a144\",                        [{\"name\":\"Responses\",\"x\":[\"<27.12\",\"[27.12, 32.08>\",\"[32.08, 34.16>\",\"[34.16, 39.12>\",\"[39.12, 42.16>\",\"[42.16, 44.08>\",\"[44.08, 47.12>\",\"[47.12, 49.04>\",\"[49.04, 52.08>\",\"[52.08, 57.04>\",\">=57.04\"],\"y\":[374,571,238,771,586,320,432,313,332,328,340],\"type\":\"bar\"},{\"mode\":\"lines+markers\",\"name\":\"Propensity\",\"x\":[\"<27.12\",\"[27.12, 32.08>\",\"[32.08, 34.16>\",\"[34.16, 39.12>\",\"[39.12, 42.16>\",\"[42.16, 44.08>\",\"[44.08, 47.12>\",\"[47.12, 49.04>\",\"[49.04, 52.08>\",\"[52.08, 57.04>\",\">=57.04\"],\"y\":[0.19518716577540107,0.09982486865148861,0.06302521008403361,0.11284046692607004,0.13993174061433447,0.09375,0.1111111111111111,0.1501597444089457,0.21987951807228914,0.18292682926829268,0.10882352941176471],\"yaxis\":\"y2\",\"type\":\"scatter\"}],                        {\"template\":{\"data\":{\"scatter\":[{\"type\":\"scatter\"}]}},\"xaxis\":{\"anchor\":\"y\",\"domain\":[0.0,0.94],\"title\":{\"text\":\"Range\"}},\"yaxis\":{\"anchor\":\"x\",\"domain\":[0.0,1.0],\"title\":{\"text\":\"Responses\"},\"showgrid\":false},\"yaxis2\":{\"anchor\":\"x\",\"overlaying\":\"y\",\"side\":\"right\",\"title\":{\"text\":\"Propensity\"},\"tickformat\":\",.0%\",\"zeroline\":false,\"showgrid\":false},\"title\":{\"text\":\"Model name: ('HomeOwners',)<br><sup>Model ID: 08ca1302-9fc0-57bf-9031-d4179d400493<br>Predictor name: Customer.Age</sup><br><sup>Query: [([(col(\\\"ModelID\\\")) == (Utf8(08ca1302-9fc0-57bf-9031-d4179d400493))]) & (col(\\\"PredictorName\\\").is_in([Series]))]</sup>\"}},                        {\"responsive\": true}                    ).then(function(){\n",
       "                            \n",
       "var gd = document.getElementById('804a4448-609e-4b29-a6ec-cb9b7d91a144');\n",
       "var x = new MutationObserver(function (mutations, observer) {{\n",
       "        var display = window.getComputedStyle(gd).display;\n",
       "        if (!display || display === 'none') {{\n",
       "            console.log([gd, 'removed!']);\n",
       "            Plotly.purge(gd);\n",
       "            observer.disconnect();\n",
       "        }}\n",
       "}});\n",
       "\n",
       "// Listen for the removal of the full notebook cells\n",
       "var notebookContainer = gd.closest('#notebook-container');\n",
       "if (notebookContainer) {{\n",
       "    x.observe(notebookContainer, {childList: true});\n",
       "}}\n",
       "\n",
       "// Listen for the clearing of the current output cell\n",
       "var outputEl = gd.closest('.output');\n",
       "if (outputEl) {{\n",
       "    x.observe(outputEl, {childList: true});\n",
       "}}\n",
       "\n",
       "                        })                };                });            </script>        </div>"
      ]
     },
     "metadata": {},
     "output_type": "display_data"
    },
    {
     "data": {
      "text/html": [
       "<div>                            <div id=\"beae96a4-f1e8-461d-89dc-b2967c9ecf8d\" class=\"plotly-graph-div\" style=\"height:525px; width:100%;\"></div>            <script type=\"text/javascript\">                require([\"plotly\"], function(Plotly) {                    window.PLOTLYENV=window.PLOTLYENV || {};                                    if (document.getElementById(\"beae96a4-f1e8-461d-89dc-b2967c9ecf8d\")) {                    Plotly.newPlot(                        \"beae96a4-f1e8-461d-89dc-b2967c9ecf8d\",                        [{\"name\":\"Responses\",\"x\":[\"<5322.5409\",\"[5322.5409, 11220.7809>\",\"[11220.7809, 14825.2609>\",\"[14825.2609, 20068.1409>\",\"[20068.1409, 25311.0209>\",\"[25311.0209, 33503.0209>\",\"[33503.0209, 38418.2209>\",\"[38418.2209, 49231.6609>\",\"[49231.6609, 58079.0209>\",\">=58079.0209\"],\"y\":[348,515,370,393,507,623,268,511,284,786],\"type\":\"bar\"},{\"mode\":\"lines+markers\",\"name\":\"Propensity\",\"x\":[\"<5322.5409\",\"[5322.5409, 11220.7809>\",\"[11220.7809, 14825.2609>\",\"[14825.2609, 20068.1409>\",\"[20068.1409, 25311.0209>\",\"[25311.0209, 33503.0209>\",\"[33503.0209, 38418.2209>\",\"[38418.2209, 49231.6609>\",\"[49231.6609, 58079.0209>\",\">=58079.0209\"],\"y\":[0.13793103448275862,0.09320388349514563,0.07027027027027027,0.043256997455470736,0.08481262327416174,0.051364365971107544,0.10820895522388059,0.0821917808219178,0.16549295774647887,0.3524173027989822],\"yaxis\":\"y2\",\"type\":\"scatter\"}],                        {\"template\":{\"data\":{\"scatter\":[{\"type\":\"scatter\"}]}},\"xaxis\":{\"anchor\":\"y\",\"domain\":[0.0,0.94],\"title\":{\"text\":\"Range\"}},\"yaxis\":{\"anchor\":\"x\",\"domain\":[0.0,1.0],\"title\":{\"text\":\"Responses\"},\"showgrid\":false},\"yaxis2\":{\"anchor\":\"x\",\"overlaying\":\"y\",\"side\":\"right\",\"title\":{\"text\":\"Propensity\"},\"tickformat\":\",.0%\",\"zeroline\":false,\"showgrid\":false},\"title\":{\"text\":\"Model name: ('HomeOwners',)<br><sup>Model ID: 08ca1302-9fc0-57bf-9031-d4179d400493<br>Predictor name: Customer.AnnualIncome</sup><br><sup>Query: [([(col(\\\"ModelID\\\")) == (Utf8(08ca1302-9fc0-57bf-9031-d4179d400493))]) & (col(\\\"PredictorName\\\").is_in([Series]))]</sup>\"}},                        {\"responsive\": true}                    ).then(function(){\n",
       "                            \n",
       "var gd = document.getElementById('beae96a4-f1e8-461d-89dc-b2967c9ecf8d');\n",
       "var x = new MutationObserver(function (mutations, observer) {{\n",
       "        var display = window.getComputedStyle(gd).display;\n",
       "        if (!display || display === 'none') {{\n",
       "            console.log([gd, 'removed!']);\n",
       "            Plotly.purge(gd);\n",
       "            observer.disconnect();\n",
       "        }}\n",
       "}});\n",
       "\n",
       "// Listen for the removal of the full notebook cells\n",
       "var notebookContainer = gd.closest('#notebook-container');\n",
       "if (notebookContainer) {{\n",
       "    x.observe(notebookContainer, {childList: true});\n",
       "}}\n",
       "\n",
       "// Listen for the clearing of the current output cell\n",
       "var outputEl = gd.closest('.output');\n",
       "if (outputEl) {{\n",
       "    x.observe(outputEl, {childList: true});\n",
       "}}\n",
       "\n",
       "                        })                };                });            </script>        </div>"
      ]
     },
     "metadata": {},
     "output_type": "display_data"
    },
    {
     "data": {
      "text/html": [
       "<div>                            <div id=\"ec4f3198-399e-4dff-9d72-c0c97ff36a73\" class=\"plotly-graph-div\" style=\"height:525px; width:100%;\"></div>            <script type=\"text/javascript\">                require([\"plotly\"], function(Plotly) {                    window.PLOTLYENV=window.PLOTLYENV || {};                                    if (document.getElementById(\"ec4f3198-399e-4dff-9d72-c0c97ff36a73\")) {                    Plotly.newPlot(                        \"ec4f3198-399e-4dff-9d72-c0c97ff36a73\",                        [{\"name\":\"Responses\",\"x\":[\"MISSING\",\"DepositAccounts, AutoLoans\",\"Customer, CreditCards\",\"HomeLoans\",\"Bundles\",\"Account, WealthOffers\"],\"y\":[675,1882,864,493,462,228],\"type\":\"bar\"},{\"mode\":\"lines+markers\",\"name\":\"Propensity\",\"x\":[\"MISSING\",\"DepositAccounts, AutoLoans\",\"Customer, CreditCards\",\"HomeLoans\",\"Bundles\",\"Account, WealthOffers\"],\"y\":[0.11555555555555555,0.11211477151965994,0.12152777777777778,0.16227180527383367,0.20995670995670995,0.16666666666666666],\"yaxis\":\"y2\",\"type\":\"scatter\"}],                        {\"template\":{\"data\":{\"scatter\":[{\"type\":\"scatter\"}]}},\"xaxis\":{\"anchor\":\"y\",\"domain\":[0.0,0.94],\"title\":{\"text\":\"Range\"}},\"yaxis\":{\"anchor\":\"x\",\"domain\":[0.0,1.0],\"title\":{\"text\":\"Responses\"},\"showgrid\":false},\"yaxis2\":{\"anchor\":\"x\",\"overlaying\":\"y\",\"side\":\"right\",\"title\":{\"text\":\"Propensity\"},\"tickformat\":\",.0%\",\"zeroline\":false,\"showgrid\":false},\"title\":{\"text\":\"Model name: ('HomeOwners',)<br><sup>Model ID: 08ca1302-9fc0-57bf-9031-d4179d400493<br>Predictor name: IH.Email.Outbound.Accepted.pxLastGroupID</sup><br><sup>Query: [([(col(\\\"ModelID\\\")) == (Utf8(08ca1302-9fc0-57bf-9031-d4179d400493))]) & (col(\\\"PredictorName\\\").is_in([Series]))]</sup>\"}},                        {\"responsive\": true}                    ).then(function(){\n",
       "                            \n",
       "var gd = document.getElementById('ec4f3198-399e-4dff-9d72-c0c97ff36a73');\n",
       "var x = new MutationObserver(function (mutations, observer) {{\n",
       "        var display = window.getComputedStyle(gd).display;\n",
       "        if (!display || display === 'none') {{\n",
       "            console.log([gd, 'removed!']);\n",
       "            Plotly.purge(gd);\n",
       "            observer.disconnect();\n",
       "        }}\n",
       "}});\n",
       "\n",
       "// Listen for the removal of the full notebook cells\n",
       "var notebookContainer = gd.closest('#notebook-container');\n",
       "if (notebookContainer) {{\n",
       "    x.observe(notebookContainer, {childList: true});\n",
       "}}\n",
       "\n",
       "// Listen for the clearing of the current output cell\n",
       "var outputEl = gd.closest('.output');\n",
       "if (outputEl) {{\n",
       "    x.observe(outputEl, {childList: true});\n",
       "}}\n",
       "\n",
       "                        })                };                });            </script>        </div>"
      ]
     },
     "metadata": {},
     "output_type": "display_data"
    }
   ],
   "source": [
    "data.plotPredictorBinning(\n",
    "    query=(pl.col(\"ModelID\") == \"08ca1302-9fc0-57bf-9031-d4179d400493\")\n",
    "    & pl.col(\"PredictorName\").is_in(\n",
    "        [\n",
    "            \"Customer.Age\",\n",
    "            \"Customer.AnnualIncome\",\n",
    "            \"IH.Email.Outbound.Accepted.pxLastGroupID\",\n",
    "        ]\n",
    "    )\n",
    ",show_each=True);\n"
   ]
  },
  {
   "cell_type": "markdown",
   "metadata": {},
   "source": [
    "## Predictor Performance"
   ]
  },
  {
   "cell_type": "code",
   "execution_count": 7,
   "metadata": {
    "execution": {
     "iopub.execute_input": "2023-03-24T17:48:48.310876Z",
     "iopub.status.busy": "2023-03-24T17:48:48.310421Z",
     "iopub.status.idle": "2023-03-24T17:48:48.365804Z",
     "shell.execute_reply": "2023-03-24T17:48:48.365255Z"
    }
   },
   "outputs": [
    {
     "data": {
      "text/html": [
       "<div>                            <div id=\"c1a690b8-c2f6-4666-9e55-48e57e20a993\" class=\"plotly-graph-div\" style=\"height:525px; width:100%;\"></div>            <script type=\"text/javascript\">                require([\"plotly\"], function(Plotly) {                    window.PLOTLYENV=window.PLOTLYENV || {};                                    if (document.getElementById(\"c1a690b8-c2f6-4666-9e55-48e57e20a993\")) {                    Plotly.newPlot(                        \"c1a690b8-c2f6-4666-9e55-48e57e20a993\",                        [{\"alignmentgroup\":\"True\",\"hovertemplate\":\"Legend=Customer<br>Performance=%{x}<br>Predictor Name=%{y}<extra></extra>\",\"legendgroup\":\"Customer\",\"marker\":{\"color\":\"#001F5F\"},\"name\":\"Customer\",\"notched\":false,\"offsetgroup\":\"Customer\",\"orientation\":\"h\",\"showlegend\":true,\"x\":[58.077999999999996,61.5168,50.0073,56.164899999999996,52.6235,69.3831,64.2534,50.23609999999999,54.4162,53.1076,57.0117,52.8648,63.051100000000005,50.949999999999996,53.371199999999995,51.9228,58.34160000000001,56.15520000000001,50.321400000000004,54.325,53.3915,50.0,54.813900000000004,58.02850000000001,50.0,53.9408,59.6243,55.1646,53.357299999999995,50.0,57.9302,56.1343,55.559999999999995,50.0,50.0,50.0,55.9508,58.278200000000005,51.9761,57.2828,56.6492,50.0,53.689299999999996,54.585499999999996,50.0,51.4385,56.2588,61.9112,50.0,68.11120000000001,52.990899999999996,57.8542,57.908300000000004,64.99549999999999,54.202099999999994,58.4965,55.4379,51.5258,61.8981,50.0,50.342,60.520399999999995,54.905300000000004,51.2269,71.8279,57.5545,61.4975,65.18969999999999,50.156800000000004,54.395700000000005,53.6961,55.212700000000005,56.8581,51.739900000000006,57.557199999999995,56.25059999999999,55.0814,59.3529,53.260600000000004,51.4401,55.6875,54.0976,56.7403,50.0,55.5095,57.792500000000004,50.0,50.0,50.0,58.9005,50.0,61.5379,54.611399999999996,67.7474,69.2803,60.742399999999996,63.2074,55.72279999999999,54.802099999999996,59.4035,60.520399999999995,54.395700000000005,51.605199999999996,51.2269,50.404700000000005,53.736700000000006,71.8279,61.4975,55.1373,51.3856,65.18969999999999,50.2131,57.5545,53.3458,59.164300000000004,56.25059999999999,55.212700000000005,57.604299999999995,57.7999,58.8394,56.9839,57.9354,50.0,60.99,50.0,50.0,56.37,53.464299999999994,55.116699999999994,50.0,61.2906,60.3538,56.9369,52.8998,53.62050000000001,60.64190000000001,50.0,57.085699999999996,58.192299999999996,62.205999999999996,59.4924,60.2228,60.912,56.5815,50.0,50.0,56.6963,50.0,50.0,50.0,57.1878,56.0249,50.0,59.8607,58.8009,58.857400000000005,53.9098,64.76849999999999,57.233999999999995,61.8656,56.7884,59.6731,59.2558,50.0,61.8852,50.0,56.704699999999995,57.67250000000001,50.0,60.7897,59.412200000000006,53.880700000000004,50.0,59.206599999999995,63.1562,63.2781,57.4949,57.2222,69.4885,50.0,60.919000000000004,55.489200000000004,53.7008,56.3236,62.77779999999999,58.720099999999995,60.044799999999995,55.825,68.42240000000001,50.0,58.7225,59.8314,61.0174,54.7925,58.3999,60.9977,50.0,50.0,59.2995,50.0,64.2321,59.3662,63.151,62.566500000000005,58.8784,50.0,57.8851,60.130300000000005,56.0964,50.0,61.563599999999994,50.0,60.260999999999996,64.4263,58.7996,50.0,50.0,50.0,64.26389999999999,58.884499999999996,72.0121,50.0,58.243100000000005,69.9779,50.0,50.0,65.5934,61.523,59.2858,67.8751,57.3139,50.0,60.2006,59.7588,50.0,60.4753,50.0,65.074,65.47619999999999,59.770999999999994,50.0,65.8252,50.0,66.76910000000001,50.0,62.7574,66.3934,50.0,50.0,66.14,79.5234,69.6095,67.091,69.1364,61.9755,61.2695,55.9398,50.0,61.677899999999994,67.843,68.8072,67.6933,50.0,63.101,68.5224,60.002900000000004,66.4995,63.6825,72.2077,61.277800000000006,60.4482,50.0,50.0,50.0,50.0,65.94139999999999,50.0,68.10810000000001,68.40990000000001,67.90079999999999,50.0,58.949600000000004,70.54169999999999,60.4125,50.0,60.348,50.0,75.493,50.0,67.85679999999999,72.70830000000001,50.0,64.193,72.2297,50.0,65.1779,67.8088,67.7885,68.0832,67.284,69.0493,50.0,74.91409999999999,71.13239999999999,71.921,50.0,67.3194,63.1201,50.0,50.0,65.7909,62.589099999999995,64.5449,63.4857,78.18,67.8122,69.0542,63.8537,50.0,86.3848],\"x0\":\" \",\"xaxis\":\"x\",\"y\":[\"Customer.CLV\",\"Customer.CLV\",\"Customer.CLV\",\"Customer.CLV\",\"Customer.CLV\",\"Customer.CLV\",\"Customer.CLV\",\"Customer.CLV\",\"Customer.CLV\",\"Customer.CLV\",\"Customer.CLV\",\"Customer.CLV\",\"Customer.CLV\",\"Customer.CLV\",\"Customer.CLV\",\"Customer.CLV\",\"Customer.CLV\",\"Customer.CLV\",\"Customer.CLV\",\"Customer.CLV\",\"Customer.NoOfDependents\",\"Customer.NoOfDependents\",\"Customer.NoOfDependents\",\"Customer.NoOfDependents\",\"Customer.NoOfDependents\",\"Customer.NoOfDependents\",\"Customer.NoOfDependents\",\"Customer.NoOfDependents\",\"Customer.NoOfDependents\",\"Customer.NoOfDependents\",\"Customer.NoOfDependents\",\"Customer.NoOfDependents\",\"Customer.NoOfDependents\",\"Customer.NoOfDependents\",\"Customer.NoOfDependents\",\"Customer.NoOfDependents\",\"Customer.NoOfDependents\",\"Customer.NoOfDependents\",\"Customer.NoOfDependents\",\"Customer.NoOfDependents\",\"Customer.Prefix\",\"Customer.Prefix\",\"Customer.Prefix\",\"Customer.Prefix\",\"Customer.Prefix\",\"Customer.Prefix\",\"Customer.Prefix\",\"Customer.Prefix\",\"Customer.Prefix\",\"Customer.Prefix\",\"Customer.Prefix\",\"Customer.Prefix\",\"Customer.Prefix\",\"Customer.Prefix\",\"Customer.Prefix\",\"Customer.Prefix\",\"Customer.Prefix\",\"Customer.Prefix\",\"Customer.Prefix\",\"Customer.Prefix\",\"Customer.City\",\"Customer.City\",\"Customer.City\",\"Customer.City\",\"Customer.City\",\"Customer.City\",\"Customer.City\",\"Customer.City\",\"Customer.City\",\"Customer.City\",\"Customer.City\",\"Customer.City\",\"Customer.City\",\"Customer.City\",\"Customer.City\",\"Customer.City\",\"Customer.City\",\"Customer.City\",\"Customer.City\",\"Customer.City\",\"Customer.BusinessSegment\",\"Customer.BusinessSegment\",\"Customer.BusinessSegment\",\"Customer.BusinessSegment\",\"Customer.BusinessSegment\",\"Customer.BusinessSegment\",\"Customer.BusinessSegment\",\"Customer.BusinessSegment\",\"Customer.BusinessSegment\",\"Customer.BusinessSegment\",\"Customer.BusinessSegment\",\"Customer.BusinessSegment\",\"Customer.BusinessSegment\",\"Customer.BusinessSegment\",\"Customer.BusinessSegment\",\"Customer.BusinessSegment\",\"Customer.BusinessSegment\",\"Customer.BusinessSegment\",\"Customer.BusinessSegment\",\"Customer.BusinessSegment\",\"Customer.C_CIFNBR\",\"Customer.C_CIFNBR\",\"Customer.C_CIFNBR\",\"Customer.C_CIFNBR\",\"Customer.C_CIFNBR\",\"Customer.C_CIFNBR\",\"Customer.C_CIFNBR\",\"Customer.C_CIFNBR\",\"Customer.C_CIFNBR\",\"Customer.C_CIFNBR\",\"Customer.C_CIFNBR\",\"Customer.C_CIFNBR\",\"Customer.C_CIFNBR\",\"Customer.C_CIFNBR\",\"Customer.C_CIFNBR\",\"Customer.C_CIFNBR\",\"Customer.C_CIFNBR\",\"Customer.C_CIFNBR\",\"Customer.C_CIFNBR\",\"Customer.C_CIFNBR\",\"Customer.Date_of_Birth\",\"Customer.Date_of_Birth\",\"Customer.Date_of_Birth\",\"Customer.Date_of_Birth\",\"Customer.Date_of_Birth\",\"Customer.Date_of_Birth\",\"Customer.Date_of_Birth\",\"Customer.Date_of_Birth\",\"Customer.Date_of_Birth\",\"Customer.Date_of_Birth\",\"Customer.Date_of_Birth\",\"Customer.Date_of_Birth\",\"Customer.Date_of_Birth\",\"Customer.Date_of_Birth\",\"Customer.Date_of_Birth\",\"Customer.Date_of_Birth\",\"Customer.Date_of_Birth\",\"Customer.Date_of_Birth\",\"Customer.Date_of_Birth\",\"Customer.Date_of_Birth\",\"Customer.RelationshipStartDate\",\"Customer.RelationshipStartDate\",\"Customer.RelationshipStartDate\",\"Customer.RelationshipStartDate\",\"Customer.RelationshipStartDate\",\"Customer.RelationshipStartDate\",\"Customer.RelationshipStartDate\",\"Customer.RelationshipStartDate\",\"Customer.RelationshipStartDate\",\"Customer.RelationshipStartDate\",\"Customer.RelationshipStartDate\",\"Customer.RelationshipStartDate\",\"Customer.RelationshipStartDate\",\"Customer.RelationshipStartDate\",\"Customer.RelationshipStartDate\",\"Customer.RelationshipStartDate\",\"Customer.RelationshipStartDate\",\"Customer.RelationshipStartDate\",\"Customer.RelationshipStartDate\",\"Customer.RelationshipStartDate\",\"Customer.MaritalStatus\",\"Customer.MaritalStatus\",\"Customer.MaritalStatus\",\"Customer.MaritalStatus\",\"Customer.MaritalStatus\",\"Customer.MaritalStatus\",\"Customer.MaritalStatus\",\"Customer.MaritalStatus\",\"Customer.MaritalStatus\",\"Customer.MaritalStatus\",\"Customer.MaritalStatus\",\"Customer.MaritalStatus\",\"Customer.MaritalStatus\",\"Customer.MaritalStatus\",\"Customer.MaritalStatus\",\"Customer.MaritalStatus\",\"Customer.MaritalStatus\",\"Customer.MaritalStatus\",\"Customer.MaritalStatus\",\"Customer.MaritalStatus\",\"Customer.RiskCode\",\"Customer.RiskCode\",\"Customer.RiskCode\",\"Customer.RiskCode\",\"Customer.RiskCode\",\"Customer.RiskCode\",\"Customer.RiskCode\",\"Customer.RiskCode\",\"Customer.RiskCode\",\"Customer.RiskCode\",\"Customer.RiskCode\",\"Customer.RiskCode\",\"Customer.RiskCode\",\"Customer.RiskCode\",\"Customer.RiskCode\",\"Customer.RiskCode\",\"Customer.RiskCode\",\"Customer.RiskCode\",\"Customer.RiskCode\",\"Customer.RiskCode\",\"Customer.CLV_VALUE\",\"Customer.CLV_VALUE\",\"Customer.CLV_VALUE\",\"Customer.CLV_VALUE\",\"Customer.CLV_VALUE\",\"Customer.CLV_VALUE\",\"Customer.CLV_VALUE\",\"Customer.CLV_VALUE\",\"Customer.CLV_VALUE\",\"Customer.CLV_VALUE\",\"Customer.CLV_VALUE\",\"Customer.CLV_VALUE\",\"Customer.CLV_VALUE\",\"Customer.CLV_VALUE\",\"Customer.CLV_VALUE\",\"Customer.CLV_VALUE\",\"Customer.CLV_VALUE\",\"Customer.CLV_VALUE\",\"Customer.CLV_VALUE\",\"Customer.CLV_VALUE\",\"Customer.Age\",\"Customer.Age\",\"Customer.Age\",\"Customer.Age\",\"Customer.Age\",\"Customer.Age\",\"Customer.Age\",\"Customer.Age\",\"Customer.Age\",\"Customer.Age\",\"Customer.Age\",\"Customer.Age\",\"Customer.Age\",\"Customer.Age\",\"Customer.Age\",\"Customer.Age\",\"Customer.Age\",\"Customer.Age\",\"Customer.Age\",\"Customer.Age\",\"Customer.WinScore\",\"Customer.WinScore\",\"Customer.WinScore\",\"Customer.WinScore\",\"Customer.WinScore\",\"Customer.WinScore\",\"Customer.WinScore\",\"Customer.WinScore\",\"Customer.WinScore\",\"Customer.WinScore\",\"Customer.WinScore\",\"Customer.WinScore\",\"Customer.WinScore\",\"Customer.WinScore\",\"Customer.WinScore\",\"Customer.WinScore\",\"Customer.WinScore\",\"Customer.WinScore\",\"Customer.WinScore\",\"Customer.WinScore\",\"Customer.NetWealth\",\"Customer.NetWealth\",\"Customer.NetWealth\",\"Customer.NetWealth\",\"Customer.NetWealth\",\"Customer.NetWealth\",\"Customer.NetWealth\",\"Customer.NetWealth\",\"Customer.NetWealth\",\"Customer.NetWealth\",\"Customer.NetWealth\",\"Customer.NetWealth\",\"Customer.NetWealth\",\"Customer.NetWealth\",\"Customer.NetWealth\",\"Customer.NetWealth\",\"Customer.NetWealth\",\"Customer.NetWealth\",\"Customer.NetWealth\",\"Customer.NetWealth\",\"Customer.CreditScore\",\"Customer.CreditScore\",\"Customer.CreditScore\",\"Customer.CreditScore\",\"Customer.CreditScore\",\"Customer.CreditScore\",\"Customer.CreditScore\",\"Customer.CreditScore\",\"Customer.CreditScore\",\"Customer.CreditScore\",\"Customer.CreditScore\",\"Customer.CreditScore\",\"Customer.CreditScore\",\"Customer.CreditScore\",\"Customer.CreditScore\",\"Customer.CreditScore\",\"Customer.CreditScore\",\"Customer.CreditScore\",\"Customer.CreditScore\",\"Customer.CreditScore\",\"Customer.AnnualIncome\",\"Customer.AnnualIncome\",\"Customer.AnnualIncome\",\"Customer.AnnualIncome\",\"Customer.AnnualIncome\",\"Customer.AnnualIncome\",\"Customer.AnnualIncome\",\"Customer.AnnualIncome\",\"Customer.AnnualIncome\",\"Customer.AnnualIncome\",\"Customer.AnnualIncome\",\"Customer.AnnualIncome\",\"Customer.AnnualIncome\",\"Customer.AnnualIncome\",\"Customer.AnnualIncome\",\"Customer.AnnualIncome\",\"Customer.AnnualIncome\",\"Customer.AnnualIncome\",\"Customer.AnnualIncome\",\"Customer.AnnualIncome\"],\"y0\":\" \",\"yaxis\":\"y\",\"type\":\"box\"},{\"alignmentgroup\":\"True\",\"hovertemplate\":\"Legend=IH<br>Performance=%{x}<br>Predictor Name=%{y}<extra></extra>\",\"legendgroup\":\"IH\",\"marker\":{\"color\":\"#10A5AC\"},\"name\":\"IH\",\"notched\":false,\"offsetgroup\":\"IH\",\"orientation\":\"h\",\"showlegend\":true,\"x\":[55.16799999999999,62.185500000000005,51.401399999999995,57.798899999999996,55.755900000000004,53.4709,67.5339,54.684999999999995,54.454,55.1111,56.1223,57.8135,53.3948,54.6213,56.0681,53.90859999999999,53.0768,53.60549999999999,56.424099999999996,52.753099999999996,57.1655,53.0192,64.51400000000001,54.4977,54.652100000000004,55.3206,55.3455,56.0083,55.156400000000005,70.9567,54.343399999999995,53.654,56.282399999999996,61.2984,52.2733,52.9915,53.934000000000005,58.796499999999995,52.643499999999996,52.6125,52.405699999999996,55.3316,53.71,51.5159,59.973,56.26219999999999,58.7655,50.662600000000005,63.037200000000006,54.0659,56.9168,51.903600000000004,54.98800000000001,61.919900000000005,51.696799999999996,52.5888,57.469300000000004,57.8241,58.883700000000005,57.6847,61.28940000000001,56.2361,55.9603,53.046499999999995,56.368300000000005,56.7851,53.6446,58.19800000000001,71.0407,64.4175,54.526799999999994,60.62030000000001,55.9403,55.2365,54.0076,52.290800000000004,59.79750000000001,55.0376,55.209399999999995,58.0686,57.15710000000001,60.398700000000005,63.035,55.5577,52.4236,52.868,60.6094,56.884,50.985,57.5792,58.0908,56.8518,55.4017,53.37,56.295700000000004,61.487700000000004,54.2427,60.8391,70.32509999999999,53.4604,50.232600000000005,57.4326,59.461,65.08,50.3252,57.550599999999996,56.7448,57.5397,50.1131,55.513400000000004,50.3807,59.829100000000004,58.3707,58.6947,50.286500000000004,53.1967,55.04710000000001,56.3673,68.6689,59.594899999999996,57.9052,50.099000000000004,53.630599999999994,50.2262,60.3909,59.6171,55.761300000000006,56.8491,59.319900000000004,56.74550000000001,57.419399999999996,58.6283,56.9537,63.4496,54.748799999999996,50.286500000000004,58.32000000000001,68.4031,62.490100000000005,50.253800000000005,57.652800000000006,60.5249,51.019400000000005,63.696,57.894,53.4604,57.5792,62.7857,67.6683,55.9497,59.1166,53.0076,54.573899999999995,62.2877,56.3398,57.2565,66.7804,67.88300000000001,54.817499999999995,53.98,64.2375,50.0,57.7587,50.0,59.488,57.578300000000006,60.1503,50.0,58.5596,57.776300000000006,50.0,63.8987,54.7725,59.5351,50.0,58.72730000000001,50.0,59.24850000000001,57.6265,50.0,50.0,57.3605,57.152899999999995,63.5993,61.483200000000004,60.2962,58.8884,50.0,60.467999999999996,58.4571,50.0,61.12499999999999,64.67150000000001,50.0,57.129,59.18560000000001,50.0,64.3524,56.049499999999995,55.31270000000001,54.759299999999996,60.552099999999996,59.4537,64.6274,60.6255,61.175000000000004,54.1848,63.0443,65.4153,55.7909,50.068900000000006,50.286500000000004,59.5125,50.2262,50.099000000000004,61.272000000000006,54.6334,58.097100000000005,63.4209,50.1269,60.9884,58.7307,50.0,63.8127,57.999500000000005,57.6318,59.7952,50.0,50.0,61.1115,50.0,65.2045,50.0,58.902699999999996,61.351,61.1295,56.3731,62.590599999999995,64.48129999999999,50.0,58.847899999999996,53.259,50.0,61.4148,56.7573,56.41929999999999,60.255,58.4923,61.3475,65.3965,60.7985,59.39919999999999,61.20060000000001,50.0,58.870400000000004,50.0,50.0,50.0258,62.9572,59.809599999999996],\"x0\":\" \",\"xaxis\":\"x\",\"y\":[\"IH.SMS.Outbound.Rejected.pxLastGroupID\",\"IH.SMS.Outbound.Rejected.pxLastGroupID\",\"IH.SMS.Outbound.Rejected.pxLastGroupID\",\"IH.SMS.Outbound.Rejected.pxLastGroupID\",\"IH.SMS.Outbound.Rejected.pxLastGroupID\",\"IH.SMS.Outbound.Rejected.pxLastGroupID\",\"IH.SMS.Outbound.Rejected.pxLastGroupID\",\"IH.SMS.Outbound.Rejected.pxLastGroupID\",\"IH.SMS.Outbound.Rejected.pxLastGroupID\",\"IH.SMS.Outbound.Rejected.pxLastGroupID\",\"IH.SMS.Outbound.Rejected.pxLastGroupID\",\"IH.SMS.Outbound.Rejected.pxLastGroupID\",\"IH.SMS.Outbound.Rejected.pxLastGroupID\",\"IH.SMS.Outbound.Rejected.pxLastGroupID\",\"IH.SMS.Outbound.Rejected.pxLastGroupID\",\"IH.SMS.Outbound.Rejected.pxLastGroupID\",\"IH.SMS.Outbound.Rejected.pxLastGroupID\",\"IH.SMS.Outbound.Rejected.pxLastGroupID\",\"IH.SMS.Outbound.Rejected.pxLastGroupID\",\"IH.SMS.Outbound.Rejected.pxLastGroupID\",\"IH.Web.Inbound.Loyal.pyHistoricalOutcomeCount\",\"IH.Web.Inbound.Loyal.pyHistoricalOutcomeCount\",\"IH.Web.Inbound.Loyal.pyHistoricalOutcomeCount\",\"IH.Web.Inbound.Loyal.pyHistoricalOutcomeCount\",\"IH.Web.Inbound.Loyal.pyHistoricalOutcomeCount\",\"IH.Web.Inbound.Loyal.pyHistoricalOutcomeCount\",\"IH.Web.Inbound.Loyal.pyHistoricalOutcomeCount\",\"IH.Web.Inbound.Loyal.pyHistoricalOutcomeCount\",\"IH.Web.Inbound.Loyal.pyHistoricalOutcomeCount\",\"IH.Web.Inbound.Loyal.pyHistoricalOutcomeCount\",\"IH.Web.Inbound.Loyal.pyHistoricalOutcomeCount\",\"IH.Web.Inbound.Loyal.pyHistoricalOutcomeCount\",\"IH.Web.Inbound.Loyal.pyHistoricalOutcomeCount\",\"IH.Web.Inbound.Loyal.pyHistoricalOutcomeCount\",\"IH.Web.Inbound.Loyal.pyHistoricalOutcomeCount\",\"IH.Web.Inbound.Loyal.pyHistoricalOutcomeCount\",\"IH.Web.Inbound.Loyal.pyHistoricalOutcomeCount\",\"IH.Web.Inbound.Loyal.pyHistoricalOutcomeCount\",\"IH.Web.Inbound.Loyal.pyHistoricalOutcomeCount\",\"IH.Web.Inbound.Loyal.pyHistoricalOutcomeCount\",\"IH.Web.Inbound.Rejected.pxLastGroupID\",\"IH.Web.Inbound.Rejected.pxLastGroupID\",\"IH.Web.Inbound.Rejected.pxLastGroupID\",\"IH.Web.Inbound.Rejected.pxLastGroupID\",\"IH.Web.Inbound.Rejected.pxLastGroupID\",\"IH.Web.Inbound.Rejected.pxLastGroupID\",\"IH.Web.Inbound.Rejected.pxLastGroupID\",\"IH.Web.Inbound.Rejected.pxLastGroupID\",\"IH.Web.Inbound.Rejected.pxLastGroupID\",\"IH.Web.Inbound.Rejected.pxLastGroupID\",\"IH.Web.Inbound.Rejected.pxLastGroupID\",\"IH.Web.Inbound.Rejected.pxLastGroupID\",\"IH.Web.Inbound.Rejected.pxLastGroupID\",\"IH.Web.Inbound.Rejected.pxLastGroupID\",\"IH.Web.Inbound.Rejected.pxLastGroupID\",\"IH.Web.Inbound.Rejected.pxLastGroupID\",\"IH.Web.Inbound.Rejected.pxLastGroupID\",\"IH.Web.Inbound.Rejected.pxLastGroupID\",\"IH.Web.Inbound.Rejected.pxLastGroupID\",\"IH.Web.Inbound.Rejected.pxLastGroupID\",\"IH.Web.Inbound.Churned.pyHistoricalOutcomeCount\",\"IH.Web.Inbound.Churned.pyHistoricalOutcomeCount\",\"IH.Web.Inbound.Churned.pyHistoricalOutcomeCount\",\"IH.Web.Inbound.Churned.pyHistoricalOutcomeCount\",\"IH.Web.Inbound.Churned.pyHistoricalOutcomeCount\",\"IH.Web.Inbound.Churned.pyHistoricalOutcomeCount\",\"IH.Web.Inbound.Churned.pyHistoricalOutcomeCount\",\"IH.Web.Inbound.Churned.pyHistoricalOutcomeCount\",\"IH.Web.Inbound.Churned.pyHistoricalOutcomeCount\",\"IH.Web.Inbound.Churned.pyHistoricalOutcomeCount\",\"IH.Web.Inbound.Churned.pyHistoricalOutcomeCount\",\"IH.Web.Inbound.Churned.pyHistoricalOutcomeCount\",\"IH.Web.Inbound.Churned.pyHistoricalOutcomeCount\",\"IH.Web.Inbound.Churned.pyHistoricalOutcomeCount\",\"IH.Web.Inbound.Churned.pyHistoricalOutcomeCount\",\"IH.Web.Inbound.Churned.pyHistoricalOutcomeCount\",\"IH.Web.Inbound.Churned.pyHistoricalOutcomeCount\",\"IH.Web.Inbound.Churned.pyHistoricalOutcomeCount\",\"IH.Web.Inbound.Churned.pyHistoricalOutcomeCount\",\"IH.Web.Inbound.Churned.pyHistoricalOutcomeCount\",\"IH.Email.Outbound.Accepted.pyHistoricalOutcomeCount\",\"IH.Email.Outbound.Accepted.pyHistoricalOutcomeCount\",\"IH.Email.Outbound.Accepted.pyHistoricalOutcomeCount\",\"IH.Email.Outbound.Accepted.pyHistoricalOutcomeCount\",\"IH.Email.Outbound.Accepted.pyHistoricalOutcomeCount\",\"IH.Email.Outbound.Accepted.pyHistoricalOutcomeCount\",\"IH.Email.Outbound.Accepted.pyHistoricalOutcomeCount\",\"IH.Email.Outbound.Accepted.pyHistoricalOutcomeCount\",\"IH.Email.Outbound.Accepted.pyHistoricalOutcomeCount\",\"IH.Email.Outbound.Accepted.pyHistoricalOutcomeCount\",\"IH.Email.Outbound.Accepted.pyHistoricalOutcomeCount\",\"IH.Email.Outbound.Accepted.pyHistoricalOutcomeCount\",\"IH.Email.Outbound.Accepted.pyHistoricalOutcomeCount\",\"IH.Email.Outbound.Accepted.pyHistoricalOutcomeCount\",\"IH.Email.Outbound.Accepted.pyHistoricalOutcomeCount\",\"IH.Email.Outbound.Accepted.pyHistoricalOutcomeCount\",\"IH.Email.Outbound.Accepted.pyHistoricalOutcomeCount\",\"IH.Email.Outbound.Accepted.pyHistoricalOutcomeCount\",\"IH.Email.Outbound.Accepted.pyHistoricalOutcomeCount\",\"IH.Email.Outbound.Accepted.pyHistoricalOutcomeCount\",\"IH.Web.Inbound.Accepted.pxLastGroupID\",\"IH.Web.Inbound.Accepted.pxLastGroupID\",\"IH.Web.Inbound.Accepted.pxLastGroupID\",\"IH.Web.Inbound.Accepted.pxLastGroupID\",\"IH.Web.Inbound.Accepted.pxLastGroupID\",\"IH.Web.Inbound.Accepted.pxLastGroupID\",\"IH.Web.Inbound.Accepted.pxLastGroupID\",\"IH.Web.Inbound.Accepted.pxLastGroupID\",\"IH.Web.Inbound.Accepted.pxLastGroupID\",\"IH.Web.Inbound.Accepted.pxLastGroupID\",\"IH.Web.Inbound.Accepted.pxLastGroupID\",\"IH.Web.Inbound.Accepted.pxLastGroupID\",\"IH.Web.Inbound.Accepted.pxLastGroupID\",\"IH.Web.Inbound.Accepted.pxLastGroupID\",\"IH.Web.Inbound.Accepted.pxLastGroupID\",\"IH.Web.Inbound.Accepted.pxLastGroupID\",\"IH.Web.Inbound.Accepted.pxLastGroupID\",\"IH.Web.Inbound.Accepted.pxLastGroupID\",\"IH.Web.Inbound.Accepted.pxLastGroupID\",\"IH.Web.Inbound.Accepted.pxLastGroupID\",\"IH.SMS.Outbound.Accepted.pxLastGroupID\",\"IH.SMS.Outbound.Accepted.pxLastGroupID\",\"IH.SMS.Outbound.Accepted.pxLastGroupID\",\"IH.SMS.Outbound.Accepted.pxLastGroupID\",\"IH.SMS.Outbound.Accepted.pxLastGroupID\",\"IH.SMS.Outbound.Accepted.pxLastGroupID\",\"IH.SMS.Outbound.Accepted.pxLastGroupID\",\"IH.SMS.Outbound.Accepted.pxLastGroupID\",\"IH.SMS.Outbound.Accepted.pxLastGroupID\",\"IH.SMS.Outbound.Accepted.pxLastGroupID\",\"IH.SMS.Outbound.Accepted.pxLastGroupID\",\"IH.SMS.Outbound.Accepted.pxLastGroupID\",\"IH.SMS.Outbound.Accepted.pxLastGroupID\",\"IH.SMS.Outbound.Accepted.pxLastGroupID\",\"IH.SMS.Outbound.Accepted.pxLastGroupID\",\"IH.SMS.Outbound.Accepted.pxLastGroupID\",\"IH.SMS.Outbound.Accepted.pxLastGroupID\",\"IH.SMS.Outbound.Accepted.pxLastGroupID\",\"IH.SMS.Outbound.Accepted.pxLastGroupID\",\"IH.SMS.Outbound.Accepted.pxLastGroupID\",\"IH.Email.Outbound.Accepted.pxLastGroupID\",\"IH.Email.Outbound.Accepted.pxLastGroupID\",\"IH.Email.Outbound.Accepted.pxLastGroupID\",\"IH.Email.Outbound.Accepted.pxLastGroupID\",\"IH.Email.Outbound.Accepted.pxLastGroupID\",\"IH.Email.Outbound.Accepted.pxLastGroupID\",\"IH.Email.Outbound.Accepted.pxLastGroupID\",\"IH.Email.Outbound.Accepted.pxLastGroupID\",\"IH.Email.Outbound.Accepted.pxLastGroupID\",\"IH.Email.Outbound.Accepted.pxLastGroupID\",\"IH.Email.Outbound.Accepted.pxLastGroupID\",\"IH.Email.Outbound.Accepted.pxLastGroupID\",\"IH.Email.Outbound.Accepted.pxLastGroupID\",\"IH.Email.Outbound.Accepted.pxLastGroupID\",\"IH.Email.Outbound.Accepted.pxLastGroupID\",\"IH.Email.Outbound.Accepted.pxLastGroupID\",\"IH.Email.Outbound.Accepted.pxLastGroupID\",\"IH.Email.Outbound.Accepted.pxLastGroupID\",\"IH.Email.Outbound.Accepted.pxLastGroupID\",\"IH.Email.Outbound.Accepted.pxLastGroupID\",\"IH.Web.Inbound.Rejected.pyHistoricalOutcomeCount\",\"IH.Web.Inbound.Rejected.pyHistoricalOutcomeCount\",\"IH.Web.Inbound.Rejected.pyHistoricalOutcomeCount\",\"IH.Web.Inbound.Rejected.pyHistoricalOutcomeCount\",\"IH.Web.Inbound.Rejected.pyHistoricalOutcomeCount\",\"IH.Web.Inbound.Rejected.pyHistoricalOutcomeCount\",\"IH.Web.Inbound.Rejected.pyHistoricalOutcomeCount\",\"IH.Web.Inbound.Rejected.pyHistoricalOutcomeCount\",\"IH.Web.Inbound.Rejected.pyHistoricalOutcomeCount\",\"IH.Web.Inbound.Rejected.pyHistoricalOutcomeCount\",\"IH.Web.Inbound.Rejected.pyHistoricalOutcomeCount\",\"IH.Web.Inbound.Rejected.pyHistoricalOutcomeCount\",\"IH.Web.Inbound.Rejected.pyHistoricalOutcomeCount\",\"IH.Web.Inbound.Rejected.pyHistoricalOutcomeCount\",\"IH.Web.Inbound.Rejected.pyHistoricalOutcomeCount\",\"IH.Web.Inbound.Rejected.pyHistoricalOutcomeCount\",\"IH.Web.Inbound.Rejected.pyHistoricalOutcomeCount\",\"IH.Web.Inbound.Rejected.pyHistoricalOutcomeCount\",\"IH.Web.Inbound.Rejected.pyHistoricalOutcomeCount\",\"IH.Web.Inbound.Rejected.pyHistoricalOutcomeCount\",\"IH.SMS.Outbound.Rejected.pyHistoricalOutcomeCount\",\"IH.SMS.Outbound.Rejected.pyHistoricalOutcomeCount\",\"IH.SMS.Outbound.Rejected.pyHistoricalOutcomeCount\",\"IH.SMS.Outbound.Rejected.pyHistoricalOutcomeCount\",\"IH.SMS.Outbound.Rejected.pyHistoricalOutcomeCount\",\"IH.SMS.Outbound.Rejected.pyHistoricalOutcomeCount\",\"IH.SMS.Outbound.Rejected.pyHistoricalOutcomeCount\",\"IH.SMS.Outbound.Rejected.pyHistoricalOutcomeCount\",\"IH.SMS.Outbound.Rejected.pyHistoricalOutcomeCount\",\"IH.SMS.Outbound.Rejected.pyHistoricalOutcomeCount\",\"IH.SMS.Outbound.Rejected.pyHistoricalOutcomeCount\",\"IH.SMS.Outbound.Rejected.pyHistoricalOutcomeCount\",\"IH.SMS.Outbound.Rejected.pyHistoricalOutcomeCount\",\"IH.SMS.Outbound.Rejected.pyHistoricalOutcomeCount\",\"IH.SMS.Outbound.Rejected.pyHistoricalOutcomeCount\",\"IH.SMS.Outbound.Rejected.pyHistoricalOutcomeCount\",\"IH.SMS.Outbound.Rejected.pyHistoricalOutcomeCount\",\"IH.SMS.Outbound.Rejected.pyHistoricalOutcomeCount\",\"IH.SMS.Outbound.Rejected.pyHistoricalOutcomeCount\",\"IH.SMS.Outbound.Rejected.pyHistoricalOutcomeCount\",\"IH.SMS.Outbound.Accepted.pyHistoricalOutcomeCount\",\"IH.SMS.Outbound.Accepted.pyHistoricalOutcomeCount\",\"IH.SMS.Outbound.Accepted.pyHistoricalOutcomeCount\",\"IH.SMS.Outbound.Accepted.pyHistoricalOutcomeCount\",\"IH.SMS.Outbound.Accepted.pyHistoricalOutcomeCount\",\"IH.SMS.Outbound.Accepted.pyHistoricalOutcomeCount\",\"IH.SMS.Outbound.Accepted.pyHistoricalOutcomeCount\",\"IH.SMS.Outbound.Accepted.pyHistoricalOutcomeCount\",\"IH.SMS.Outbound.Accepted.pyHistoricalOutcomeCount\",\"IH.SMS.Outbound.Accepted.pyHistoricalOutcomeCount\",\"IH.SMS.Outbound.Accepted.pyHistoricalOutcomeCount\",\"IH.SMS.Outbound.Accepted.pyHistoricalOutcomeCount\",\"IH.SMS.Outbound.Accepted.pyHistoricalOutcomeCount\",\"IH.SMS.Outbound.Accepted.pyHistoricalOutcomeCount\",\"IH.SMS.Outbound.Accepted.pyHistoricalOutcomeCount\",\"IH.SMS.Outbound.Accepted.pyHistoricalOutcomeCount\",\"IH.SMS.Outbound.Accepted.pyHistoricalOutcomeCount\",\"IH.SMS.Outbound.Accepted.pyHistoricalOutcomeCount\",\"IH.SMS.Outbound.Accepted.pyHistoricalOutcomeCount\",\"IH.SMS.Outbound.Accepted.pyHistoricalOutcomeCount\",\"IH.Email.Outbound.Rejected.pyHistoricalOutcomeCount\",\"IH.Email.Outbound.Rejected.pyHistoricalOutcomeCount\",\"IH.Email.Outbound.Rejected.pyHistoricalOutcomeCount\",\"IH.Email.Outbound.Rejected.pyHistoricalOutcomeCount\",\"IH.Email.Outbound.Rejected.pyHistoricalOutcomeCount\",\"IH.Email.Outbound.Rejected.pyHistoricalOutcomeCount\",\"IH.Email.Outbound.Rejected.pyHistoricalOutcomeCount\",\"IH.Email.Outbound.Rejected.pyHistoricalOutcomeCount\",\"IH.Email.Outbound.Rejected.pyHistoricalOutcomeCount\",\"IH.Email.Outbound.Rejected.pyHistoricalOutcomeCount\",\"IH.Email.Outbound.Rejected.pyHistoricalOutcomeCount\",\"IH.Email.Outbound.Rejected.pyHistoricalOutcomeCount\",\"IH.Email.Outbound.Rejected.pyHistoricalOutcomeCount\",\"IH.Email.Outbound.Rejected.pyHistoricalOutcomeCount\",\"IH.Email.Outbound.Rejected.pyHistoricalOutcomeCount\",\"IH.Email.Outbound.Rejected.pyHistoricalOutcomeCount\",\"IH.Email.Outbound.Rejected.pyHistoricalOutcomeCount\",\"IH.Email.Outbound.Rejected.pyHistoricalOutcomeCount\",\"IH.Email.Outbound.Rejected.pyHistoricalOutcomeCount\",\"IH.Email.Outbound.Rejected.pyHistoricalOutcomeCount\",\"IH.Web.Inbound.Accepted.pyHistoricalOutcomeCount\",\"IH.Web.Inbound.Accepted.pyHistoricalOutcomeCount\",\"IH.Web.Inbound.Accepted.pyHistoricalOutcomeCount\",\"IH.Web.Inbound.Accepted.pyHistoricalOutcomeCount\",\"IH.Web.Inbound.Accepted.pyHistoricalOutcomeCount\",\"IH.Web.Inbound.Accepted.pyHistoricalOutcomeCount\",\"IH.Web.Inbound.Accepted.pyHistoricalOutcomeCount\",\"IH.Web.Inbound.Accepted.pyHistoricalOutcomeCount\",\"IH.Web.Inbound.Accepted.pyHistoricalOutcomeCount\",\"IH.Web.Inbound.Accepted.pyHistoricalOutcomeCount\",\"IH.Web.Inbound.Accepted.pyHistoricalOutcomeCount\",\"IH.Web.Inbound.Accepted.pyHistoricalOutcomeCount\",\"IH.Web.Inbound.Accepted.pyHistoricalOutcomeCount\",\"IH.Web.Inbound.Accepted.pyHistoricalOutcomeCount\",\"IH.Web.Inbound.Accepted.pyHistoricalOutcomeCount\",\"IH.Web.Inbound.Accepted.pyHistoricalOutcomeCount\",\"IH.Web.Inbound.Accepted.pyHistoricalOutcomeCount\",\"IH.Web.Inbound.Accepted.pyHistoricalOutcomeCount\",\"IH.Web.Inbound.Accepted.pyHistoricalOutcomeCount\",\"IH.Web.Inbound.Accepted.pyHistoricalOutcomeCount\"],\"y0\":\" \",\"yaxis\":\"y\",\"type\":\"box\"},{\"alignmentgroup\":\"True\",\"hovertemplate\":\"Legend=Param<br>Performance=%{x}<br>Predictor Name=%{y}<extra></extra>\",\"legendgroup\":\"Param\",\"marker\":{\"color\":\"#F76923\"},\"name\":\"Param\",\"notched\":false,\"offsetgroup\":\"Param\",\"orientation\":\"h\",\"showlegend\":true,\"x\":[71.8279,53.736700000000006,58.8394,54.395700000000005,51.605199999999996,65.18969999999999,57.5545,57.604299999999995,55.212700000000005,59.164300000000004,61.4975,51.3856,55.2592,50.2131,53.3458,60.520399999999995,57.7999,51.2269,56.25059999999999,50.404700000000005],\"x0\":\" \",\"xaxis\":\"x\",\"y\":[\"Param.ExtGroupCreditcards\",\"Param.ExtGroupCreditcards\",\"Param.ExtGroupCreditcards\",\"Param.ExtGroupCreditcards\",\"Param.ExtGroupCreditcards\",\"Param.ExtGroupCreditcards\",\"Param.ExtGroupCreditcards\",\"Param.ExtGroupCreditcards\",\"Param.ExtGroupCreditcards\",\"Param.ExtGroupCreditcards\",\"Param.ExtGroupCreditcards\",\"Param.ExtGroupCreditcards\",\"Param.ExtGroupCreditcards\",\"Param.ExtGroupCreditcards\",\"Param.ExtGroupCreditcards\",\"Param.ExtGroupCreditcards\",\"Param.ExtGroupCreditcards\",\"Param.ExtGroupCreditcards\",\"Param.ExtGroupCreditcards\",\"Param.ExtGroupCreditcards\"],\"y0\":\" \",\"yaxis\":\"y\",\"type\":\"box\"}],                        {\"template\":{\"layout\":{\"colorway\":[\"#001F5F\",\"#10A5AC\",\"#F76923\",\"#661D34\",\"#86CAC6\",\"#005154\",\"#86CAC6\",\"#5F67B9\",\"#FFC836\",\"#E63690\",\"#AC1361\",\"#63666F\",\"#A7A9B4\",\"#D0D1DB\"],\"hovermode\":\"closest\"}},\"xaxis\":{\"anchor\":\"y\",\"domain\":[0.0,1.0],\"title\":{\"text\":\"Performance\"}},\"yaxis\":{\"anchor\":\"x\",\"domain\":[0.0,1.0],\"title\":{\"text\":\"Predictor Name\"},\"categoryorder\":\"array\",\"categoryarray\":[\"Customer.CLV\",\"Customer.NoOfDependents\",\"IH.SMS.Outbound.Rejected.pxLastGroupID\",\"IH.Web.Inbound.Loyal.pyHistoricalOutcomeCount\",\"Customer.Prefix\",\"Customer.City\",\"Customer.BusinessSegment\",\"Customer.C_CIFNBR\",\"Param.ExtGroupCreditcards\",\"IH.Web.Inbound.Rejected.pxLastGroupID\",\"IH.Web.Inbound.Churned.pyHistoricalOutcomeCount\",\"Customer.Date_of_Birth\",\"IH.Email.Outbound.Accepted.pyHistoricalOutcomeCount\",\"Customer.RelationshipStartDate\",\"IH.Web.Inbound.Accepted.pxLastGroupID\",\"IH.SMS.Outbound.Accepted.pxLastGroupID\",\"Customer.MaritalStatus\",\"IH.Email.Outbound.Accepted.pxLastGroupID\",\"IH.Web.Inbound.Rejected.pyHistoricalOutcomeCount\",\"IH.SMS.Outbound.Rejected.pyHistoricalOutcomeCount\",\"Customer.RiskCode\",\"IH.SMS.Outbound.Accepted.pyHistoricalOutcomeCount\",\"IH.Email.Outbound.Rejected.pyHistoricalOutcomeCount\",\"IH.Web.Inbound.Accepted.pyHistoricalOutcomeCount\",\"Customer.CLV_VALUE\",\"Customer.Age\",\"Customer.WinScore\",\"Customer.NetWealth\",\"Customer.CreditScore\",\"Customer.AnnualIncome\"],\"automargin\":true,\"dtick\":1},\"legend\":{\"title\":{\"text\":\"Predictor category\"},\"tracegroupgap\":0},\"title\":{\"text\":\"Predictor Performance over all models \"},\"boxmode\":\"group\",\"boxgap\":0,\"boxgroupgap\":0},                        {\"responsive\": true}                    ).then(function(){\n",
       "                            \n",
       "var gd = document.getElementById('c1a690b8-c2f6-4666-9e55-48e57e20a993');\n",
       "var x = new MutationObserver(function (mutations, observer) {{\n",
       "        var display = window.getComputedStyle(gd).display;\n",
       "        if (!display || display === 'none') {{\n",
       "            console.log([gd, 'removed!']);\n",
       "            Plotly.purge(gd);\n",
       "            observer.disconnect();\n",
       "        }}\n",
       "}});\n",
       "\n",
       "// Listen for the removal of the full notebook cells\n",
       "var notebookContainer = gd.closest('#notebook-container');\n",
       "if (notebookContainer) {{\n",
       "    x.observe(notebookContainer, {childList: true});\n",
       "}}\n",
       "\n",
       "// Listen for the clearing of the current output cell\n",
       "var outputEl = gd.closest('.output');\n",
       "if (outputEl) {{\n",
       "    x.observe(outputEl, {childList: true});\n",
       "}}\n",
       "\n",
       "                        })                };                });            </script>        </div>"
      ]
     },
     "metadata": {},
     "output_type": "display_data"
    }
   ],
   "source": [
    "data.plotPredictorPerformance(top_n=30)\n"
   ]
  },
  {
   "cell_type": "markdown",
   "metadata": {},
   "source": [
    "## Predictor Performance Heatmap"
   ]
  },
  {
   "cell_type": "code",
   "execution_count": 8,
   "metadata": {
    "execution": {
     "iopub.execute_input": "2023-03-24T17:48:48.367966Z",
     "iopub.status.busy": "2023-03-24T17:48:48.367656Z",
     "iopub.status.idle": "2023-03-24T17:48:48.499980Z",
     "shell.execute_reply": "2023-03-24T17:48:48.499357Z"
    }
   },
   "outputs": [
    {
     "data": {
      "text/html": [
       "<div>                            <div id=\"04515e19-9da9-4024-ad20-73751f0cd769\" class=\"plotly-graph-div\" style=\"height:525px; width:100%;\"></div>            <script type=\"text/javascript\">                require([\"plotly\"], function(Plotly) {                    window.PLOTLYENV=window.PLOTLYENV || {};                                    if (document.getElementById(\"04515e19-9da9-4024-ad20-73751f0cd769\")) {                    Plotly.newPlot(                        \"04515e19-9da9-4024-ad20-73751f0cd769\",                        [{\"coloraxis\":\"coloraxis\",\"name\":\"0\",\"texttemplate\":\"%{z:.1f}\",\"x\":[\"FirstMortgageFloat\",\"ChannelAction_Template\",\"AutoUsed48Months\",\"AutoNew36Months\",\"AutoUsed60Months\",\"AutoNew84Months\"],\"y\":[\"Customer.AnnualIncome\",\"IH.Email.Outbound.Churned.pxLastGroupID\",\"IH.Email.Outbound.Churned.pxLastOutcomeTime.DaysSince\",\"IH.Email.Outbound.Churned.pyHistoricalOutcomeCount\",\"Customer.WinScore\",\"Customer.CreditScore\"],\"z\":[[50.0,86.3848,50.0,78.18,50.0,74.91409999999999],[81.9005,50.0,50.0,50.0,50.0,50.0],[81.9005,50.0,50.0,50.0,50.0,50.0],[81.9005,50.0,50.0,50.0,50.0,50.0],[50.0,50.0,79.5234,50.0,50.0,50.0],[50.0,50.0,50.0,50.0,75.493,50.0]],\"type\":\"heatmap\",\"xaxis\":\"x\",\"yaxis\":\"y\",\"hovertemplate\":\"PredictorName: %{y}<br>Performance: %{z:.2f}<br>Name: %{customdata[0]}\",\"customdata\":[[[\"FirstMortgageFloat\"],[\"FirstMortgageFloat\"],[\"FirstMortgageFloat\"],[\"FirstMortgageFloat\"],[\"FirstMortgageFloat\"],[\"FirstMortgageFloat\"]],[[\"ChannelAction_Template\"],[\"ChannelAction_Template\"],[\"ChannelAction_Template\"],[\"ChannelAction_Template\"],[\"ChannelAction_Template\"],[\"ChannelAction_Template\"]],[[\"AutoUsed48Months\"],[\"AutoUsed48Months\"],[\"AutoUsed48Months\"],[\"AutoUsed48Months\"],[\"AutoUsed48Months\"],[\"AutoUsed48Months\"]],[[\"AutoNew36Months\"],[\"AutoNew36Months\"],[\"AutoNew36Months\"],[\"AutoNew36Months\"],[\"AutoNew36Months\"],[\"AutoNew36Months\"]],[[\"AutoUsed60Months\"],[\"AutoUsed60Months\"],[\"AutoUsed60Months\"],[\"AutoUsed60Months\"],[\"AutoUsed60Months\"],[\"AutoUsed60Months\"]],[[\"AutoNew84Months\"],[\"AutoNew84Months\"],[\"AutoNew84Months\"],[\"AutoNew84Months\"],[\"AutoNew84Months\"],[\"AutoNew84Months\"]]]}],                        {\"template\":{\"data\":{\"histogram2dcontour\":[{\"type\":\"histogram2dcontour\",\"colorbar\":{\"outlinewidth\":0,\"ticks\":\"\"},\"colorscale\":[[0.0,\"#0d0887\"],[0.1111111111111111,\"#46039f\"],[0.2222222222222222,\"#7201a8\"],[0.3333333333333333,\"#9c179e\"],[0.4444444444444444,\"#bd3786\"],[0.5555555555555556,\"#d8576b\"],[0.6666666666666666,\"#ed7953\"],[0.7777777777777778,\"#fb9f3a\"],[0.8888888888888888,\"#fdca26\"],[1.0,\"#f0f921\"]]}],\"choropleth\":[{\"type\":\"choropleth\",\"colorbar\":{\"outlinewidth\":0,\"ticks\":\"\"}}],\"histogram2d\":[{\"type\":\"histogram2d\",\"colorbar\":{\"outlinewidth\":0,\"ticks\":\"\"},\"colorscale\":[[0.0,\"#0d0887\"],[0.1111111111111111,\"#46039f\"],[0.2222222222222222,\"#7201a8\"],[0.3333333333333333,\"#9c179e\"],[0.4444444444444444,\"#bd3786\"],[0.5555555555555556,\"#d8576b\"],[0.6666666666666666,\"#ed7953\"],[0.7777777777777778,\"#fb9f3a\"],[0.8888888888888888,\"#fdca26\"],[1.0,\"#f0f921\"]]}],\"heatmap\":[{\"type\":\"heatmap\",\"colorbar\":{\"outlinewidth\":0,\"ticks\":\"\"},\"colorscale\":[[0.0,\"#0d0887\"],[0.1111111111111111,\"#46039f\"],[0.2222222222222222,\"#7201a8\"],[0.3333333333333333,\"#9c179e\"],[0.4444444444444444,\"#bd3786\"],[0.5555555555555556,\"#d8576b\"],[0.6666666666666666,\"#ed7953\"],[0.7777777777777778,\"#fb9f3a\"],[0.8888888888888888,\"#fdca26\"],[1.0,\"#f0f921\"]]}],\"heatmapgl\":[{\"type\":\"heatmapgl\",\"colorbar\":{\"outlinewidth\":0,\"ticks\":\"\"},\"colorscale\":[[0.0,\"#0d0887\"],[0.1111111111111111,\"#46039f\"],[0.2222222222222222,\"#7201a8\"],[0.3333333333333333,\"#9c179e\"],[0.4444444444444444,\"#bd3786\"],[0.5555555555555556,\"#d8576b\"],[0.6666666666666666,\"#ed7953\"],[0.7777777777777778,\"#fb9f3a\"],[0.8888888888888888,\"#fdca26\"],[1.0,\"#f0f921\"]]}],\"contourcarpet\":[{\"type\":\"contourcarpet\",\"colorbar\":{\"outlinewidth\":0,\"ticks\":\"\"}}],\"contour\":[{\"type\":\"contour\",\"colorbar\":{\"outlinewidth\":0,\"ticks\":\"\"},\"colorscale\":[[0.0,\"#0d0887\"],[0.1111111111111111,\"#46039f\"],[0.2222222222222222,\"#7201a8\"],[0.3333333333333333,\"#9c179e\"],[0.4444444444444444,\"#bd3786\"],[0.5555555555555556,\"#d8576b\"],[0.6666666666666666,\"#ed7953\"],[0.7777777777777778,\"#fb9f3a\"],[0.8888888888888888,\"#fdca26\"],[1.0,\"#f0f921\"]]}],\"surface\":[{\"type\":\"surface\",\"colorbar\":{\"outlinewidth\":0,\"ticks\":\"\"},\"colorscale\":[[0.0,\"#0d0887\"],[0.1111111111111111,\"#46039f\"],[0.2222222222222222,\"#7201a8\"],[0.3333333333333333,\"#9c179e\"],[0.4444444444444444,\"#bd3786\"],[0.5555555555555556,\"#d8576b\"],[0.6666666666666666,\"#ed7953\"],[0.7777777777777778,\"#fb9f3a\"],[0.8888888888888888,\"#fdca26\"],[1.0,\"#f0f921\"]]}],\"mesh3d\":[{\"type\":\"mesh3d\",\"colorbar\":{\"outlinewidth\":0,\"ticks\":\"\"}}],\"scatter\":[{\"fillpattern\":{\"fillmode\":\"overlay\",\"size\":10,\"solidity\":0.2},\"type\":\"scatter\"}],\"parcoords\":[{\"type\":\"parcoords\",\"line\":{\"colorbar\":{\"outlinewidth\":0,\"ticks\":\"\"}}}],\"scatterpolargl\":[{\"type\":\"scatterpolargl\",\"marker\":{\"colorbar\":{\"outlinewidth\":0,\"ticks\":\"\"}}}],\"bar\":[{\"error_x\":{\"color\":\"#2a3f5f\"},\"error_y\":{\"color\":\"#2a3f5f\"},\"marker\":{\"line\":{\"color\":\"#E5ECF6\",\"width\":0.5},\"pattern\":{\"fillmode\":\"overlay\",\"size\":10,\"solidity\":0.2}},\"type\":\"bar\"}],\"scattergeo\":[{\"type\":\"scattergeo\",\"marker\":{\"colorbar\":{\"outlinewidth\":0,\"ticks\":\"\"}}}],\"scatterpolar\":[{\"type\":\"scatterpolar\",\"marker\":{\"colorbar\":{\"outlinewidth\":0,\"ticks\":\"\"}}}],\"histogram\":[{\"marker\":{\"pattern\":{\"fillmode\":\"overlay\",\"size\":10,\"solidity\":0.2}},\"type\":\"histogram\"}],\"scattergl\":[{\"type\":\"scattergl\",\"marker\":{\"colorbar\":{\"outlinewidth\":0,\"ticks\":\"\"}}}],\"scatter3d\":[{\"type\":\"scatter3d\",\"line\":{\"colorbar\":{\"outlinewidth\":0,\"ticks\":\"\"}},\"marker\":{\"colorbar\":{\"outlinewidth\":0,\"ticks\":\"\"}}}],\"scattermapbox\":[{\"type\":\"scattermapbox\",\"marker\":{\"colorbar\":{\"outlinewidth\":0,\"ticks\":\"\"}}}],\"scatterternary\":[{\"type\":\"scatterternary\",\"marker\":{\"colorbar\":{\"outlinewidth\":0,\"ticks\":\"\"}}}],\"scattercarpet\":[{\"type\":\"scattercarpet\",\"marker\":{\"colorbar\":{\"outlinewidth\":0,\"ticks\":\"\"}}}],\"carpet\":[{\"aaxis\":{\"endlinecolor\":\"#2a3f5f\",\"gridcolor\":\"white\",\"linecolor\":\"white\",\"minorgridcolor\":\"white\",\"startlinecolor\":\"#2a3f5f\"},\"baxis\":{\"endlinecolor\":\"#2a3f5f\",\"gridcolor\":\"white\",\"linecolor\":\"white\",\"minorgridcolor\":\"white\",\"startlinecolor\":\"#2a3f5f\"},\"type\":\"carpet\"}],\"table\":[{\"cells\":{\"fill\":{\"color\":\"#EBF0F8\"},\"line\":{\"color\":\"white\"}},\"header\":{\"fill\":{\"color\":\"#C8D4E3\"},\"line\":{\"color\":\"white\"}},\"type\":\"table\"}],\"barpolar\":[{\"marker\":{\"line\":{\"color\":\"#E5ECF6\",\"width\":0.5},\"pattern\":{\"fillmode\":\"overlay\",\"size\":10,\"solidity\":0.2}},\"type\":\"barpolar\"}],\"pie\":[{\"automargin\":true,\"type\":\"pie\"}]},\"layout\":{\"autotypenumbers\":\"strict\",\"colorway\":[\"#636efa\",\"#EF553B\",\"#00cc96\",\"#ab63fa\",\"#FFA15A\",\"#19d3f3\",\"#FF6692\",\"#B6E880\",\"#FF97FF\",\"#FECB52\"],\"font\":{\"color\":\"#2a3f5f\"},\"hovermode\":\"closest\",\"hoverlabel\":{\"align\":\"left\"},\"paper_bgcolor\":\"white\",\"plot_bgcolor\":\"#E5ECF6\",\"polar\":{\"bgcolor\":\"#E5ECF6\",\"angularaxis\":{\"gridcolor\":\"white\",\"linecolor\":\"white\",\"ticks\":\"\"},\"radialaxis\":{\"gridcolor\":\"white\",\"linecolor\":\"white\",\"ticks\":\"\"}},\"ternary\":{\"bgcolor\":\"#E5ECF6\",\"aaxis\":{\"gridcolor\":\"white\",\"linecolor\":\"white\",\"ticks\":\"\"},\"baxis\":{\"gridcolor\":\"white\",\"linecolor\":\"white\",\"ticks\":\"\"},\"caxis\":{\"gridcolor\":\"white\",\"linecolor\":\"white\",\"ticks\":\"\"}},\"coloraxis\":{\"colorbar\":{\"outlinewidth\":0,\"ticks\":\"\"}},\"colorscale\":{\"sequential\":[[0.0,\"#0d0887\"],[0.1111111111111111,\"#46039f\"],[0.2222222222222222,\"#7201a8\"],[0.3333333333333333,\"#9c179e\"],[0.4444444444444444,\"#bd3786\"],[0.5555555555555556,\"#d8576b\"],[0.6666666666666666,\"#ed7953\"],[0.7777777777777778,\"#fb9f3a\"],[0.8888888888888888,\"#fdca26\"],[1.0,\"#f0f921\"]],\"sequentialminus\":[[0.0,\"#0d0887\"],[0.1111111111111111,\"#46039f\"],[0.2222222222222222,\"#7201a8\"],[0.3333333333333333,\"#9c179e\"],[0.4444444444444444,\"#bd3786\"],[0.5555555555555556,\"#d8576b\"],[0.6666666666666666,\"#ed7953\"],[0.7777777777777778,\"#fb9f3a\"],[0.8888888888888888,\"#fdca26\"],[1.0,\"#f0f921\"]],\"diverging\":[[0,\"#8e0152\"],[0.1,\"#c51b7d\"],[0.2,\"#de77ae\"],[0.3,\"#f1b6da\"],[0.4,\"#fde0ef\"],[0.5,\"#f7f7f7\"],[0.6,\"#e6f5d0\"],[0.7,\"#b8e186\"],[0.8,\"#7fbc41\"],[0.9,\"#4d9221\"],[1,\"#276419\"]]},\"xaxis\":{\"gridcolor\":\"white\",\"linecolor\":\"white\",\"ticks\":\"\",\"title\":{\"standoff\":15},\"zerolinecolor\":\"white\",\"automargin\":true,\"zerolinewidth\":2},\"yaxis\":{\"gridcolor\":\"white\",\"linecolor\":\"white\",\"ticks\":\"\",\"title\":{\"standoff\":15},\"zerolinecolor\":\"white\",\"automargin\":true,\"zerolinewidth\":2},\"scene\":{\"xaxis\":{\"backgroundcolor\":\"#E5ECF6\",\"gridcolor\":\"white\",\"linecolor\":\"white\",\"showbackground\":true,\"ticks\":\"\",\"zerolinecolor\":\"white\",\"gridwidth\":2},\"yaxis\":{\"backgroundcolor\":\"#E5ECF6\",\"gridcolor\":\"white\",\"linecolor\":\"white\",\"showbackground\":true,\"ticks\":\"\",\"zerolinecolor\":\"white\",\"gridwidth\":2},\"zaxis\":{\"backgroundcolor\":\"#E5ECF6\",\"gridcolor\":\"white\",\"linecolor\":\"white\",\"showbackground\":true,\"ticks\":\"\",\"zerolinecolor\":\"white\",\"gridwidth\":2}},\"shapedefaults\":{\"line\":{\"color\":\"#2a3f5f\"}},\"annotationdefaults\":{\"arrowcolor\":\"#2a3f5f\",\"arrowhead\":0,\"arrowwidth\":1},\"geo\":{\"bgcolor\":\"white\",\"landcolor\":\"#E5ECF6\",\"subunitcolor\":\"white\",\"showland\":true,\"showlakes\":true,\"lakecolor\":\"white\"},\"title\":{\"x\":0.05},\"mapbox\":{\"style\":\"light\"}}},\"xaxis\":{\"anchor\":\"y\",\"domain\":[0.0,1.0],\"title\":{\"text\":\"Name\"},\"dtick\":1},\"yaxis\":{\"anchor\":\"x\",\"domain\":[0.0,1.0],\"autorange\":\"reversed\",\"dtick\":1,\"automargin\":true},\"coloraxis\":{\"colorscale\":[[0,\"#d91c29\"],[0.01,\"#F76923\"],[0.3,\"#20aa50\"],[0.8,\"#20aa50\"],[1,\"#0000FF\"]],\"cmin\":50,\"cmax\":100},\"title\":{\"text\":\"Top predictors over all models \"}},                        {\"responsive\": true}                    ).then(function(){\n",
       "                            \n",
       "var gd = document.getElementById('04515e19-9da9-4024-ad20-73751f0cd769');\n",
       "var x = new MutationObserver(function (mutations, observer) {{\n",
       "        var display = window.getComputedStyle(gd).display;\n",
       "        if (!display || display === 'none') {{\n",
       "            console.log([gd, 'removed!']);\n",
       "            Plotly.purge(gd);\n",
       "            observer.disconnect();\n",
       "        }}\n",
       "}});\n",
       "\n",
       "// Listen for the removal of the full notebook cells\n",
       "var notebookContainer = gd.closest('#notebook-container');\n",
       "if (notebookContainer) {{\n",
       "    x.observe(notebookContainer, {childList: true});\n",
       "}}\n",
       "\n",
       "// Listen for the clearing of the current output cell\n",
       "var outputEl = gd.closest('.output');\n",
       "if (outputEl) {{\n",
       "    x.observe(outputEl, {childList: true});\n",
       "}}\n",
       "\n",
       "                        })                };                });            </script>        </div>"
      ]
     },
     "metadata": {},
     "output_type": "display_data"
    }
   ],
   "source": [
    "data.plotPredictorPerformanceHeatmap(top_n=20)\n"
   ]
  },
  {
   "cell_type": "markdown",
   "metadata": {},
   "source": [
    "## Proposition Success Rates"
   ]
  },
  {
   "cell_type": "code",
   "execution_count": 9,
   "metadata": {
    "execution": {
     "iopub.execute_input": "2023-03-24T17:48:48.502522Z",
     "iopub.status.busy": "2023-03-24T17:48:48.502152Z",
     "iopub.status.idle": "2023-03-24T17:48:48.590169Z",
     "shell.execute_reply": "2023-03-24T17:48:48.589579Z"
    }
   },
   "outputs": [
    {
     "name": "stderr",
     "output_type": "stream",
     "text": [
      "The predicate 'col(\"SuccessRate\").var().is_not_nan()' in 'when->then->otherwise' is not a valid aggregation and might produce a different number of rows than the groupby operation would. This behavior is experimental and may be subject to change\n"
     ]
    },
    {
     "data": {
      "text/html": [
       "<div>                            <div id=\"0690df6c-d954-4e7b-8acb-6712d59660fd\" class=\"plotly-graph-div\" style=\"height:525px; width:100%;\"></div>            <script type=\"text/javascript\">                require([\"plotly\"], function(Plotly) {                    window.PLOTLYENV=window.PLOTLYENV || {};                                    if (document.getElementById(\"0690df6c-d954-4e7b-8acb-6712d59660fd\")) {                    Plotly.newPlot(                        \"0690df6c-d954-4e7b-8acb-6712d59660fd\",                        [{\"alignmentgroup\":\"True\",\"bingroup\":\"y\",\"histfunc\":\"avg\",\"hovertemplate\":\"Name=%{y}<br>avg of SuccessRate=%{x}<extra></extra>\",\"legendgroup\":\"FirstMortgage\",\"marker\":{\"color\":\"#001F5F\",\"pattern\":{\"shape\":\"\"}},\"name\":\"FirstMortgage\",\"offsetgroup\":\"FirstMortgage\",\"orientation\":\"h\",\"showlegend\":true,\"x\":[0.22154072620215898],\"xaxis\":\"x\",\"y\":[\"FirstMortgage\"],\"yaxis\":\"y\",\"type\":\"histogram\",\"error_x\":{\"array\":[0.0],\"valueminus\":0}},{\"alignmentgroup\":\"True\",\"bingroup\":\"y\",\"histfunc\":\"avg\",\"hovertemplate\":\"Name=%{y}<br>avg of SuccessRate=%{x}<extra></extra>\",\"legendgroup\":\"MasterCardGold\",\"marker\":{\"color\":\"#10A5AC\",\"pattern\":{\"shape\":\"\"}},\"name\":\"MasterCardGold\",\"offsetgroup\":\"MasterCardGold\",\"orientation\":\"h\",\"showlegend\":true,\"x\":[0.02155688622754491],\"xaxis\":\"x\",\"y\":[\"MasterCardGold\"],\"yaxis\":\"y\",\"type\":\"histogram\",\"error_x\":{\"array\":[0.0],\"valueminus\":0}},{\"alignmentgroup\":\"True\",\"bingroup\":\"y\",\"histfunc\":\"avg\",\"hovertemplate\":\"Name=%{y}<br>avg of SuccessRate=%{x}<extra></extra>\",\"legendgroup\":\"PremierChecking\",\"marker\":{\"color\":\"#F76923\",\"pattern\":{\"shape\":\"\"}},\"name\":\"PremierChecking\",\"offsetgroup\":\"PremierChecking\",\"orientation\":\"h\",\"showlegend\":true,\"x\":[0.27770208900999094],\"xaxis\":\"x\",\"y\":[\"PremierChecking\"],\"yaxis\":\"y\",\"type\":\"histogram\",\"error_x\":{\"array\":[0.0],\"valueminus\":0}},{\"alignmentgroup\":\"True\",\"bingroup\":\"y\",\"histfunc\":\"avg\",\"hovertemplate\":\"Name=%{y}<br>avg of SuccessRate=%{x}<extra></extra>\",\"legendgroup\":\"IncreaseYourCreditLine\",\"marker\":{\"color\":\"#661D34\",\"pattern\":{\"shape\":\"\"}},\"name\":\"IncreaseYourCreditLine\",\"offsetgroup\":\"IncreaseYourCreditLine\",\"orientation\":\"h\",\"showlegend\":true,\"x\":[0.041879153144799876],\"xaxis\":\"x\",\"y\":[\"IncreaseYourCreditLine\"],\"yaxis\":\"y\",\"type\":\"histogram\",\"error_x\":{\"array\":[0.0],\"valueminus\":0}},{\"alignmentgroup\":\"True\",\"bingroup\":\"y\",\"histfunc\":\"avg\",\"hovertemplate\":\"Name=%{y}<br>avg of SuccessRate=%{x}<extra></extra>\",\"legendgroup\":\"PlatinumRewardsCard\",\"marker\":{\"color\":\"#86CAC6\",\"pattern\":{\"shape\":\"\"}},\"name\":\"PlatinumRewardsCard\",\"offsetgroup\":\"PlatinumRewardsCard\",\"orientation\":\"h\",\"showlegend\":true,\"x\":[0.015435501653803748],\"xaxis\":\"x\",\"y\":[\"PlatinumRewardsCard\"],\"yaxis\":\"y\",\"type\":\"histogram\",\"error_x\":{\"array\":[0.0],\"valueminus\":0}},{\"alignmentgroup\":\"True\",\"bingroup\":\"y\",\"histfunc\":\"avg\",\"hovertemplate\":\"Name=%{y}<br>avg of SuccessRate=%{x}<extra></extra>\",\"legendgroup\":\"FirstMortgageFloat\",\"marker\":{\"color\":\"#005154\",\"pattern\":{\"shape\":\"\"}},\"name\":\"FirstMortgageFloat\",\"offsetgroup\":\"FirstMortgageFloat\",\"orientation\":\"h\",\"showlegend\":true,\"x\":[0.025096525096525095],\"xaxis\":\"x\",\"y\":[\"FirstMortgageFloat\"],\"yaxis\":\"y\",\"type\":\"histogram\",\"error_x\":{\"array\":[0.0],\"valueminus\":0}},{\"alignmentgroup\":\"True\",\"bingroup\":\"y\",\"histfunc\":\"avg\",\"hovertemplate\":\"Name=%{y}<br>avg of SuccessRate=%{x}<extra></extra>\",\"legendgroup\":\"MoneyMarketSavingsAccount\",\"marker\":{\"color\":\"#86CAC6\",\"pattern\":{\"shape\":\"\"}},\"name\":\"MoneyMarketSavingsAccount\",\"offsetgroup\":\"MoneyMarketSavingsAccount\",\"orientation\":\"h\",\"showlegend\":true,\"x\":[0.0912106135986733],\"xaxis\":\"x\",\"y\":[\"MoneyMarketSavingsAccount\"],\"yaxis\":\"y\",\"type\":\"histogram\",\"error_x\":{\"array\":[0.0],\"valueminus\":0}},{\"alignmentgroup\":\"True\",\"bingroup\":\"y\",\"histfunc\":\"avg\",\"hovertemplate\":\"Name=%{y}<br>avg of SuccessRate=%{x}<extra></extra>\",\"legendgroup\":\"UPlusFinGold\",\"marker\":{\"color\":\"#5F67B9\",\"pattern\":{\"shape\":\"\"}},\"name\":\"UPlusFinGold\",\"offsetgroup\":\"UPlusFinGold\",\"orientation\":\"h\",\"showlegend\":true,\"x\":[0.059308510638297875],\"xaxis\":\"x\",\"y\":[\"UPlusFinGold\"],\"yaxis\":\"y\",\"type\":\"histogram\",\"error_x\":{\"array\":[0.0],\"valueminus\":0}},{\"alignmentgroup\":\"True\",\"bingroup\":\"y\",\"histfunc\":\"avg\",\"hovertemplate\":\"Name=%{y}<br>avg of SuccessRate=%{x}<extra></extra>\",\"legendgroup\":\"PremiumBanking\",\"marker\":{\"color\":\"#FFC836\",\"pattern\":{\"shape\":\"\"}},\"name\":\"PremiumBanking\",\"offsetgroup\":\"PremiumBanking\",\"orientation\":\"h\",\"showlegend\":true,\"x\":[0.019513137557959814],\"xaxis\":\"x\",\"y\":[\"PremiumBanking\"],\"yaxis\":\"y\",\"type\":\"histogram\",\"error_x\":{\"array\":[0.0],\"valueminus\":0}},{\"alignmentgroup\":\"True\",\"bingroup\":\"y\",\"histfunc\":\"avg\",\"hovertemplate\":\"Name=%{y}<br>avg of SuccessRate=%{x}<extra></extra>\",\"legendgroup\":\"HomeOwners\",\"marker\":{\"color\":\"#E63690\",\"pattern\":{\"shape\":\"\"}},\"name\":\"HomeOwners\",\"offsetgroup\":\"HomeOwners\",\"orientation\":\"h\",\"showlegend\":true,\"x\":[0.13224755700325733],\"xaxis\":\"x\",\"y\":[\"HomeOwners\"],\"yaxis\":\"y\",\"type\":\"histogram\",\"error_x\":{\"array\":[0.0],\"valueminus\":0}},{\"alignmentgroup\":\"True\",\"bingroup\":\"y\",\"histfunc\":\"avg\",\"hovertemplate\":\"Name=%{y}<br>avg of SuccessRate=%{x}<extra></extra>\",\"legendgroup\":\"AutoNew84Months\",\"marker\":{\"color\":\"#AC1361\",\"pattern\":{\"shape\":\"\"}},\"name\":\"AutoNew84Months\",\"offsetgroup\":\"AutoNew84Months\",\"orientation\":\"h\",\"showlegend\":true,\"x\":[0.12591687041564792],\"xaxis\":\"x\",\"y\":[\"AutoNew84Months\"],\"yaxis\":\"y\",\"type\":\"histogram\",\"error_x\":{\"array\":[0.0],\"valueminus\":0}},{\"alignmentgroup\":\"True\",\"bingroup\":\"y\",\"histfunc\":\"avg\",\"hovertemplate\":\"Name=%{y}<br>avg of SuccessRate=%{x}<extra></extra>\",\"legendgroup\":\"PaymentProtection\",\"marker\":{\"color\":\"#63666F\",\"pattern\":{\"shape\":\"\"}},\"name\":\"PaymentProtection\",\"offsetgroup\":\"PaymentProtection\",\"orientation\":\"h\",\"showlegend\":true,\"x\":[0.25072886297376096],\"xaxis\":\"x\",\"y\":[\"PaymentProtection\"],\"yaxis\":\"y\",\"type\":\"histogram\",\"error_x\":{\"array\":[0.0],\"valueminus\":0}},{\"alignmentgroup\":\"True\",\"bingroup\":\"y\",\"histfunc\":\"avg\",\"hovertemplate\":\"Name=%{y}<br>avg of SuccessRate=%{x}<extra></extra>\",\"legendgroup\":\"SeniorChecking\",\"marker\":{\"color\":\"#A7A9B4\",\"pattern\":{\"shape\":\"\"}},\"name\":\"SeniorChecking\",\"offsetgroup\":\"SeniorChecking\",\"orientation\":\"h\",\"showlegend\":true,\"x\":[0.19014550264550265],\"xaxis\":\"x\",\"y\":[\"SeniorChecking\"],\"yaxis\":\"y\",\"type\":\"histogram\",\"error_x\":{\"array\":[0.0],\"valueminus\":0}},{\"alignmentgroup\":\"True\",\"bingroup\":\"y\",\"histfunc\":\"avg\",\"hovertemplate\":\"Name=%{y}<br>avg of SuccessRate=%{x}<extra></extra>\",\"legendgroup\":\"SuperSaver\",\"marker\":{\"color\":\"#D0D1DB\",\"pattern\":{\"shape\":\"\"}},\"name\":\"SuperSaver\",\"offsetgroup\":\"SuperSaver\",\"orientation\":\"h\",\"showlegend\":true,\"x\":[0.08839779005524862],\"xaxis\":\"x\",\"y\":[\"SuperSaver\"],\"yaxis\":\"y\",\"type\":\"histogram\",\"error_x\":{\"array\":[0.0],\"valueminus\":0}},{\"alignmentgroup\":\"True\",\"bingroup\":\"y\",\"histfunc\":\"avg\",\"hovertemplate\":\"Name=%{y}<br>avg of SuccessRate=%{x}<extra></extra>\",\"legendgroup\":\"FirstMortgageFiveOneARM\",\"marker\":{\"color\":\"#001F5F\",\"pattern\":{\"shape\":\"\"}},\"name\":\"FirstMortgageFiveOneARM\",\"offsetgroup\":\"FirstMortgageFiveOneARM\",\"orientation\":\"h\",\"showlegend\":true,\"x\":[0.17371937639198218],\"xaxis\":\"x\",\"y\":[\"FirstMortgageFiveOneARM\"],\"yaxis\":\"y\",\"type\":\"histogram\",\"error_x\":{\"array\":[0.0],\"valueminus\":0}},{\"alignmentgroup\":\"True\",\"bingroup\":\"y\",\"histfunc\":\"avg\",\"hovertemplate\":\"Name=%{y}<br>avg of SuccessRate=%{x}<extra></extra>\",\"legendgroup\":\"AutoUsed36Months\",\"marker\":{\"color\":\"#10A5AC\",\"pattern\":{\"shape\":\"\"}},\"name\":\"AutoUsed36Months\",\"offsetgroup\":\"AutoUsed36Months\",\"orientation\":\"h\",\"showlegend\":true,\"x\":[0.10248815165876778],\"xaxis\":\"x\",\"y\":[\"AutoUsed36Months\"],\"yaxis\":\"y\",\"type\":\"histogram\",\"error_x\":{\"array\":[0.0],\"valueminus\":0}},{\"alignmentgroup\":\"True\",\"bingroup\":\"y\",\"histfunc\":\"avg\",\"hovertemplate\":\"Name=%{y}<br>avg of SuccessRate=%{x}<extra></extra>\",\"legendgroup\":\"VisaGold\",\"marker\":{\"color\":\"#F76923\",\"pattern\":{\"shape\":\"\"}},\"name\":\"VisaGold\",\"offsetgroup\":\"VisaGold\",\"orientation\":\"h\",\"showlegend\":true,\"x\":[0.05912596401028278],\"xaxis\":\"x\",\"y\":[\"VisaGold\"],\"yaxis\":\"y\",\"type\":\"histogram\",\"error_x\":{\"array\":[0.0],\"valueminus\":0}},{\"alignmentgroup\":\"True\",\"bingroup\":\"y\",\"histfunc\":\"avg\",\"hovertemplate\":\"Name=%{y}<br>avg of SuccessRate=%{x}<extra></extra>\",\"legendgroup\":\"Services_ChannelAction_Template\",\"marker\":{\"color\":\"#661D34\",\"pattern\":{\"shape\":\"\"}},\"name\":\"Services_ChannelAction_Template\",\"offsetgroup\":\"Services_ChannelAction_Template\",\"orientation\":\"h\",\"showlegend\":true,\"x\":[0.05089778029124841],\"xaxis\":\"x\",\"y\":[\"Services_ChannelAction_Template\"],\"yaxis\":\"y\",\"type\":\"histogram\",\"error_x\":{\"array\":[0.0],\"valueminus\":0}},{\"alignmentgroup\":\"True\",\"bingroup\":\"y\",\"histfunc\":\"avg\",\"hovertemplate\":\"Name=%{y}<br>avg of SuccessRate=%{x}<extra></extra>\",\"legendgroup\":\"AutoNew36Months\",\"marker\":{\"color\":\"#86CAC6\",\"pattern\":{\"shape\":\"\"}},\"name\":\"AutoNew36Months\",\"offsetgroup\":\"AutoNew36Months\",\"orientation\":\"h\",\"showlegend\":true,\"x\":[0.024913620658301508],\"xaxis\":\"x\",\"y\":[\"AutoNew36Months\"],\"yaxis\":\"y\",\"type\":\"histogram\",\"error_x\":{\"array\":[0.0],\"valueminus\":0}}],                        {\"template\":{\"layout\":{\"colorway\":[\"#001F5F\",\"#10A5AC\",\"#F76923\",\"#661D34\",\"#86CAC6\",\"#005154\",\"#86CAC6\",\"#5F67B9\",\"#FFC836\",\"#E63690\",\"#AC1361\",\"#63666F\",\"#A7A9B4\",\"#D0D1DB\"],\"hovermode\":\"closest\"}},\"xaxis\":{\"anchor\":\"y\",\"domain\":[0.0,1.0],\"title\":{\"text\":\"avg of SuccessRate\"}},\"yaxis\":{\"anchor\":\"x\",\"domain\":[0.0,1.0],\"title\":{\"text\":\"Name\"},\"categoryorder\":\"total ascending\",\"categoryarray\":[\"AutoNew36Months\",\"Services_ChannelAction_Template\",\"VisaGold\",\"AutoUsed36Months\",\"FirstMortgageFiveOneARM\",\"SuperSaver\",\"SeniorChecking\",\"PaymentProtection\",\"AutoNew84Months\",\"HomeOwners\",\"PremiumBanking\",\"UPlusFinGold\",\"MoneyMarketSavingsAccount\",\"FirstMortgageFloat\",\"PlatinumRewardsCard\",\"IncreaseYourCreditLine\",\"PremierChecking\",\"MasterCardGold\",\"FirstMortgage\"],\"dtick\":1,\"automargin\":true},\"legend\":{\"title\":{\"text\":\"Name\"},\"tracegroupgap\":0},\"title\":{\"text\":\"SuccessRate of each proposition over all models <br><sup>Query: [(col(\\\"Channel\\\")) == (Utf8(Web))]</sup>\"},\"barmode\":\"relative\",\"showlegend\":false},                        {\"responsive\": true}                    ).then(function(){\n",
       "                            \n",
       "var gd = document.getElementById('0690df6c-d954-4e7b-8acb-6712d59660fd');\n",
       "var x = new MutationObserver(function (mutations, observer) {{\n",
       "        var display = window.getComputedStyle(gd).display;\n",
       "        if (!display || display === 'none') {{\n",
       "            console.log([gd, 'removed!']);\n",
       "            Plotly.purge(gd);\n",
       "            observer.disconnect();\n",
       "        }}\n",
       "}});\n",
       "\n",
       "// Listen for the removal of the full notebook cells\n",
       "var notebookContainer = gd.closest('#notebook-container');\n",
       "if (notebookContainer) {{\n",
       "    x.observe(notebookContainer, {childList: true});\n",
       "}}\n",
       "\n",
       "// Listen for the clearing of the current output cell\n",
       "var outputEl = gd.closest('.output');\n",
       "if (outputEl) {{\n",
       "    x.observe(outputEl, {childList: true});\n",
       "}}\n",
       "\n",
       "                        })                };                });            </script>        </div>"
      ]
     },
     "metadata": {},
     "output_type": "display_data"
    }
   ],
   "source": [
    "data.plotPropositionSuccessRates(query=pl.col(\"Channel\") == \"Web\")\n"
   ]
  },
  {
   "cell_type": "markdown",
   "metadata": {},
   "source": [
    "## Response Gain"
   ]
  },
  {
   "cell_type": "code",
   "execution_count": 10,
   "metadata": {
    "execution": {
     "iopub.execute_input": "2023-03-24T17:48:48.592738Z",
     "iopub.status.busy": "2023-03-24T17:48:48.592419Z",
     "iopub.status.idle": "2023-03-24T17:48:48.627454Z",
     "shell.execute_reply": "2023-03-24T17:48:48.625893Z"
    }
   },
   "outputs": [
    {
     "data": {
      "text/html": [
       "<div>                            <div id=\"c3e9c498-5701-43a4-930d-664378f1ce95\" class=\"plotly-graph-div\" style=\"height:525px; width:100%;\"></div>            <script type=\"text/javascript\">                require([\"plotly\"], function(Plotly) {                    window.PLOTLYENV=window.PLOTLYENV || {};                                    if (document.getElementById(\"c3e9c498-5701-43a4-930d-664378f1ce95\")) {                    Plotly.newPlot(                        \"c3e9c498-5701-43a4-930d-664378f1ce95\",                        [{\"hovertemplate\":\"Channel=Email<br>Percentage of Models=%{x}<br>Percentage of Responses=%{y}<extra></extra>\",\"legendgroup\":\"Email\",\"line\":{\"color\":\"#001F5F\",\"dash\":\"solid\"},\"marker\":{\"symbol\":\"circle\"},\"mode\":\"lines\",\"name\":\"Email\",\"orientation\":\"v\",\"showlegend\":true,\"x\":[0.043478260869565216,0.08695652173913043,0.13043478260869565,0.17391304347826086,0.21739130434782608,0.2608695652173913,0.30434782608695654,0.34782608695652173,0.391304347826087,0.43478260869565216,0.4782608695652174,0.5217391304347826,0.5652173913043478,0.6086956521739131,0.6521739130434783,0.6956521739130435,0.7391304347826086,0.782608695652174,0.8260869565217391,0.8695652173913043,0.9130434782608695,0.9565217391304348,1.0],\"xaxis\":\"x\",\"y\":[0.13057336056913432,0.2330069733042192,0.32862576600690285,0.42024723533140806,0.5117806578854688,0.5798936395013031,0.6423187997464253,0.7040924138902585,0.7631717968584912,0.8139395646967669,0.8382052546312602,0.8600936817637529,0.880943157005001,0.9002430090864267,0.9190674086074523,0.9364830598013665,0.951891244629147,0.9661196027329717,0.9755758258787067,0.9833943790941748,0.9905085581460872,0.9968831443262661,1.0],\"yaxis\":\"y\",\"type\":\"scatter\"},{\"hovertemplate\":\"Channel=SMS<br>Percentage of Models=%{x}<br>Percentage of Responses=%{y}<extra></extra>\",\"legendgroup\":\"SMS\",\"line\":{\"color\":\"#10A5AC\",\"dash\":\"solid\"},\"marker\":{\"symbol\":\"circle\"},\"mode\":\"lines\",\"name\":\"SMS\",\"orientation\":\"v\",\"showlegend\":true,\"x\":[0.037037037037037035,0.07407407407407407,0.1111111111111111,0.14814814814814814,0.18518518518518517,0.2222222222222222,0.25925925925925924,0.2962962962962963,0.3333333333333333,0.37037037037037035,0.4074074074074074,0.4444444444444444,0.48148148148148145,0.5185185185185185,0.5555555555555556,0.5925925925925926,0.6296296296296297,0.6666666666666666,0.7037037037037037,0.7407407407407407,0.7777777777777778,0.8148148148148148,0.8518518518518519,0.8888888888888888,0.9259259259259259,0.9629629629629629,1.0],\"xaxis\":\"x\",\"y\":[0.09628251036562382,0.18660478703354694,0.27243921975122504,0.3560238409347908,0.42367131549189596,0.48965793441387107,0.549166038447041,0.607778929513758,0.6626460610629477,0.7091264606106294,0.7545231813041839,0.7967866566151527,0.8371183565774595,0.8562240859404447,0.8732684696569921,0.8891349415755748,0.9035172446287222,0.9174754994346024,0.9305032039200904,0.9432246513381078,0.9532957972107049,0.9630489068978515,0.9727313418771203,0.9812358650584244,0.9887038258575198,0.994381360723709,1.0],\"yaxis\":\"y\",\"type\":\"scatter\"},{\"hovertemplate\":\"Channel=Web<br>Percentage of Models=%{x}<br>Percentage of Responses=%{y}<extra></extra>\",\"legendgroup\":\"Web\",\"line\":{\"color\":\"#F76923\",\"dash\":\"solid\"},\"marker\":{\"symbol\":\"circle\"},\"mode\":\"lines\",\"name\":\"Web\",\"orientation\":\"v\",\"showlegend\":true,\"x\":[0.05263157894736842,0.10526315789473684,0.15789473684210525,0.21052631578947367,0.2631578947368421,0.3157894736842105,0.3684210526315789,0.42105263157894735,0.47368421052631576,0.5263157894736842,0.5789473684210527,0.631578947368421,0.6842105263157895,0.7368421052631579,0.7894736842105263,0.8421052631578947,0.8947368421052632,0.9473684210526315,1.0],\"xaxis\":\"x\",\"y\":[0.1308409486107514,0.2505457101631581,0.3522697843057457,0.44801879462799216,0.5332050760294499,0.6146731288615931,0.6900736246254023,0.7596285471160605,0.8155684635021644,0.8467941840245662,0.877057974767842,0.9004957638092419,0.9228051352251285,0.93958341041104,0.9550297828258537,0.9694217322135484,0.9821118058381738,0.9916941063302379,1.0],\"yaxis\":\"y\",\"type\":\"scatter\"}],                        {\"template\":{\"layout\":{\"colorway\":[\"#001F5F\",\"#10A5AC\",\"#F76923\",\"#661D34\",\"#86CAC6\",\"#005154\",\"#86CAC6\",\"#5F67B9\",\"#FFC836\",\"#E63690\",\"#AC1361\",\"#63666F\",\"#A7A9B4\",\"#D0D1DB\"],\"hovermode\":\"closest\"}},\"xaxis\":{\"anchor\":\"y\",\"domain\":[0.0,1.0],\"title\":{\"text\":\"Percentage of Models\"},\"tickformat\":\",.1%\"},\"yaxis\":{\"anchor\":\"x\",\"domain\":[0.0,1.0],\"title\":{\"text\":\"Percentage of Responses\"},\"tickformat\":\",.1%\"},\"legend\":{\"title\":{\"text\":\"Channel\"},\"tracegroupgap\":0},\"title\":{\"text\":\"Cumulative Responses over all models <br><sup>by Channel</sup>\"}},                        {\"responsive\": true}                    ).then(function(){\n",
       "                            \n",
       "var gd = document.getElementById('c3e9c498-5701-43a4-930d-664378f1ce95');\n",
       "var x = new MutationObserver(function (mutations, observer) {{\n",
       "        var display = window.getComputedStyle(gd).display;\n",
       "        if (!display || display === 'none') {{\n",
       "            console.log([gd, 'removed!']);\n",
       "            Plotly.purge(gd);\n",
       "            observer.disconnect();\n",
       "        }}\n",
       "}});\n",
       "\n",
       "// Listen for the removal of the full notebook cells\n",
       "var notebookContainer = gd.closest('#notebook-container');\n",
       "if (notebookContainer) {{\n",
       "    x.observe(notebookContainer, {childList: true});\n",
       "}}\n",
       "\n",
       "// Listen for the clearing of the current output cell\n",
       "var outputEl = gd.closest('.output');\n",
       "if (outputEl) {{\n",
       "    x.observe(outputEl, {childList: true});\n",
       "}}\n",
       "\n",
       "                        })                };                });            </script>        </div>"
      ]
     },
     "metadata": {},
     "output_type": "display_data"
    }
   ],
   "source": [
    "data.plotResponseGain()\n"
   ]
  },
  {
   "cell_type": "markdown",
   "metadata": {},
   "source": [
    "## Score Distribution"
   ]
  },
  {
   "cell_type": "code",
   "execution_count": 11,
   "metadata": {
    "execution": {
     "iopub.execute_input": "2023-03-24T17:48:48.629807Z",
     "iopub.status.busy": "2023-03-24T17:48:48.629502Z",
     "iopub.status.idle": "2023-03-24T17:48:49.051702Z",
     "shell.execute_reply": "2023-03-24T17:48:49.050997Z"
    }
   },
   "outputs": [
    {
     "data": {
      "text/html": [
       "<div>                            <div id=\"e3dc6e92-5718-43ea-a1a3-70eb74c7beef\" class=\"plotly-graph-div\" style=\"height:525px; width:100%;\"></div>            <script type=\"text/javascript\">                require([\"plotly\"], function(Plotly) {                    window.PLOTLYENV=window.PLOTLYENV || {};                                    if (document.getElementById(\"e3dc6e92-5718-43ea-a1a3-70eb74c7beef\")) {                    Plotly.newPlot(                        \"e3dc6e92-5718-43ea-a1a3-70eb74c7beef\",                        [{\"name\":\"Responses\",\"x\":[\"<-0.63\",\"[-0.63, -0.31>\",\"[-0.31, -0.28>\",\"[-0.28, -0.25>\",\"[-0.25, 0.99>\",\">=0.99\"],\"y\":[99,135,30,16,69,13],\"type\":\"bar\"},{\"mode\":\"lines+markers\",\"name\":\"Propensity\",\"x\":[\"<-0.63\",\"[-0.63, -0.31>\",\"[-0.31, -0.28>\",\"[-0.28, -0.25>\",\"[-0.25, 0.99>\",\">=0.99\"],\"y\":[0.010101010101010102,0.02962962962962963,0.03333333333333333,0.0625,0.07246376811594203,0.07692307692307693],\"yaxis\":\"y2\",\"type\":\"scatter\"}],                        {\"template\":{\"data\":{\"scatter\":[{\"type\":\"scatter\"}]}},\"xaxis\":{\"anchor\":\"y\",\"domain\":[0.0,0.94],\"title\":{\"text\":\"Range\"}},\"yaxis\":{\"anchor\":\"x\",\"domain\":[0.0,1.0],\"title\":{\"text\":\"Responses\"},\"showgrid\":false},\"yaxis2\":{\"anchor\":\"x\",\"overlaying\":\"y\",\"side\":\"right\",\"title\":{\"text\":\"Propensity\"},\"tickformat\":\",.0%\",\"zeroline\":false,\"showgrid\":false},\"title\":{\"text\":\"Classifier score distribution<br>\\n            <sup>Model name: FirstMortgageFHA\\n            <br>Model ID c</sup>\"}},                        {\"responsive\": true}                    ).then(function(){\n",
       "                            \n",
       "var gd = document.getElementById('e3dc6e92-5718-43ea-a1a3-70eb74c7beef');\n",
       "var x = new MutationObserver(function (mutations, observer) {{\n",
       "        var display = window.getComputedStyle(gd).display;\n",
       "        if (!display || display === 'none') {{\n",
       "            console.log([gd, 'removed!']);\n",
       "            Plotly.purge(gd);\n",
       "            observer.disconnect();\n",
       "        }}\n",
       "}});\n",
       "\n",
       "// Listen for the removal of the full notebook cells\n",
       "var notebookContainer = gd.closest('#notebook-container');\n",
       "if (notebookContainer) {{\n",
       "    x.observe(notebookContainer, {childList: true});\n",
       "}}\n",
       "\n",
       "// Listen for the clearing of the current output cell\n",
       "var outputEl = gd.closest('.output');\n",
       "if (outputEl) {{\n",
       "    x.observe(outputEl, {childList: true});\n",
       "}}\n",
       "\n",
       "                        })                };                });            </script>        </div>"
      ]
     },
     "metadata": {},
     "output_type": "display_data"
    },
    {
     "data": {
      "text/html": [
       "<div>                            <div id=\"70bbcbc3-1a29-4c41-a2e6-54274f815261\" class=\"plotly-graph-div\" style=\"height:525px; width:100%;\"></div>            <script type=\"text/javascript\">                require([\"plotly\"], function(Plotly) {                    window.PLOTLYENV=window.PLOTLYENV || {};                                    if (document.getElementById(\"70bbcbc3-1a29-4c41-a2e6-54274f815261\")) {                    Plotly.newPlot(                        \"70bbcbc3-1a29-4c41-a2e6-54274f815261\",                        [{\"name\":\"Responses\",\"x\":[\"<-1.95\",\"[-1.95, -0.23>\",\"[-0.23, -0.18>\",\"[-0.18, -0.075>\",\"[-0.075, -0.06>\",\"[-0.06, -0.01>\",\"[-0.01, 0.005>\",\"[0.005, 0.08>\",\"[0.08, 0.165>\",\"[0.165, 0.995>\",\">=0.995\"],\"y\":[27,671,254,353,30,59,13,29,7,2,2],\"type\":\"bar\"},{\"mode\":\"lines+markers\",\"name\":\"Propensity\",\"x\":[\"<-1.95\",\"[-1.95, -0.23>\",\"[-0.23, -0.18>\",\"[-0.18, -0.075>\",\"[-0.075, -0.06>\",\"[-0.06, -0.01>\",\"[-0.01, 0.005>\",\"[0.005, 0.08>\",\"[0.08, 0.165>\",\"[0.165, 0.995>\",\">=0.995\"],\"y\":[0.0,0.019374068554396422,0.023622047244094488,0.025495750708215296,0.03333333333333333,0.15254237288135594,0.15384615384615385,0.20689655172413793,0.2857142857142857,0.5,1.0],\"yaxis\":\"y2\",\"type\":\"scatter\"}],                        {\"template\":{\"data\":{\"scatter\":[{\"type\":\"scatter\"}]}},\"xaxis\":{\"anchor\":\"y\",\"domain\":[0.0,0.94],\"title\":{\"text\":\"Range\"}},\"yaxis\":{\"anchor\":\"x\",\"domain\":[0.0,1.0],\"title\":{\"text\":\"Responses\"},\"showgrid\":false},\"yaxis2\":{\"anchor\":\"x\",\"overlaying\":\"y\",\"side\":\"right\",\"title\":{\"text\":\"Propensity\"},\"tickformat\":\",.0%\",\"zeroline\":false,\"showgrid\":false},\"title\":{\"text\":\"Classifier score distribution<br>\\n            <sup>Model name: AutoUsed48Months\\n            <br>Model ID a</sup>\"}},                        {\"responsive\": true}                    ).then(function(){\n",
       "                            \n",
       "var gd = document.getElementById('70bbcbc3-1a29-4c41-a2e6-54274f815261');\n",
       "var x = new MutationObserver(function (mutations, observer) {{\n",
       "        var display = window.getComputedStyle(gd).display;\n",
       "        if (!display || display === 'none') {{\n",
       "            console.log([gd, 'removed!']);\n",
       "            Plotly.purge(gd);\n",
       "            observer.disconnect();\n",
       "        }}\n",
       "}});\n",
       "\n",
       "// Listen for the removal of the full notebook cells\n",
       "var notebookContainer = gd.closest('#notebook-container');\n",
       "if (notebookContainer) {{\n",
       "    x.observe(notebookContainer, {childList: true});\n",
       "}}\n",
       "\n",
       "// Listen for the clearing of the current output cell\n",
       "var outputEl = gd.closest('.output');\n",
       "if (outputEl) {{\n",
       "    x.observe(outputEl, {childList: true});\n",
       "}}\n",
       "\n",
       "                        })                };                });            </script>        </div>"
      ]
     },
     "metadata": {},
     "output_type": "display_data"
    },
    {
     "data": {
      "text/html": [
       "<div>                            <div id=\"459045b2-b2d1-4246-9ffc-ff993d83c96c\" class=\"plotly-graph-div\" style=\"height:525px; width:100%;\"></div>            <script type=\"text/javascript\">                require([\"plotly\"], function(Plotly) {                    window.PLOTLYENV=window.PLOTLYENV || {};                                    if (document.getElementById(\"459045b2-b2d1-4246-9ffc-ff993d83c96c\")) {                    Plotly.newPlot(                        \"459045b2-b2d1-4246-9ffc-ff993d83c96c\",                        [{\"name\":\"Responses\",\"x\":[\"<-0.45\",\"[-0.45, 0.99>\",\">=0.99\"],\"y\":[167,218,19],\"type\":\"bar\"},{\"mode\":\"lines+markers\",\"name\":\"Propensity\",\"x\":[\"<-0.45\",\"[-0.45, 0.99>\",\">=0.99\"],\"y\":[0.017964071856287425,0.022935779816513763,0.10526315789473684],\"yaxis\":\"y2\",\"type\":\"scatter\"}],                        {\"template\":{\"data\":{\"scatter\":[{\"type\":\"scatter\"}]}},\"xaxis\":{\"anchor\":\"y\",\"domain\":[0.0,0.94],\"title\":{\"text\":\"Range\"}},\"yaxis\":{\"anchor\":\"x\",\"domain\":[0.0,1.0],\"title\":{\"text\":\"Responses\"},\"showgrid\":false},\"yaxis2\":{\"anchor\":\"x\",\"overlaying\":\"y\",\"side\":\"right\",\"title\":{\"text\":\"Propensity\"},\"tickformat\":\",.0%\",\"zeroline\":false,\"showgrid\":false},\"title\":{\"text\":\"Classifier score distribution<br>\\n            <sup>Model name: FirstMortgageFiveOneARM\\n            <br>Model ID 0</sup>\"}},                        {\"responsive\": true}                    ).then(function(){\n",
       "                            \n",
       "var gd = document.getElementById('459045b2-b2d1-4246-9ffc-ff993d83c96c');\n",
       "var x = new MutationObserver(function (mutations, observer) {{\n",
       "        var display = window.getComputedStyle(gd).display;\n",
       "        if (!display || display === 'none') {{\n",
       "            console.log([gd, 'removed!']);\n",
       "            Plotly.purge(gd);\n",
       "            observer.disconnect();\n",
       "        }}\n",
       "}});\n",
       "\n",
       "// Listen for the removal of the full notebook cells\n",
       "var notebookContainer = gd.closest('#notebook-container');\n",
       "if (notebookContainer) {{\n",
       "    x.observe(notebookContainer, {childList: true});\n",
       "}}\n",
       "\n",
       "// Listen for the clearing of the current output cell\n",
       "var outputEl = gd.closest('.output');\n",
       "if (outputEl) {{\n",
       "    x.observe(outputEl, {childList: true});\n",
       "}}\n",
       "\n",
       "                        })                };                });            </script>        </div>"
      ]
     },
     "metadata": {},
     "output_type": "display_data"
    },
    {
     "data": {
      "text/html": [
       "<div>                            <div id=\"d0bfaa95-695b-4587-a1f4-ebca388670f9\" class=\"plotly-graph-div\" style=\"height:525px; width:100%;\"></div>            <script type=\"text/javascript\">                require([\"plotly\"], function(Plotly) {                    window.PLOTLYENV=window.PLOTLYENV || {};                                    if (document.getElementById(\"d0bfaa95-695b-4587-a1f4-ebca388670f9\")) {                    Plotly.newPlot(                        \"d0bfaa95-695b-4587-a1f4-ebca388670f9\",                        [{\"name\":\"Responses\",\"x\":[\"<-0.255\",\"[-0.255, -0.24>\",\"[-0.24, -0.235>\",\"[-0.235, -0.195>\",\"[-0.195, -0.16>\",\"[-0.16, -0.14>\",\"[-0.14, -0.125>\",\"[-0.125, -0.05>\",\"[-0.05, 0.995>\",\">=0.995\"],\"y\":[134,18,13,75,41,38,26,93,42,2],\"type\":\"bar\"},{\"mode\":\"lines+markers\",\"name\":\"Propensity\",\"x\":[\"<-0.255\",\"[-0.255, -0.24>\",\"[-0.24, -0.235>\",\"[-0.235, -0.195>\",\"[-0.195, -0.16>\",\"[-0.16, -0.14>\",\"[-0.14, -0.125>\",\"[-0.125, -0.05>\",\"[-0.05, 0.995>\",\">=0.995\"],\"y\":[0.05223880597014925,0.05555555555555555,0.07692307692307693,0.08,0.0975609756097561,0.10526315789473684,0.11538461538461539,0.12903225806451613,0.2619047619047619,0.5],\"yaxis\":\"y2\",\"type\":\"scatter\"}],                        {\"template\":{\"data\":{\"scatter\":[{\"type\":\"scatter\"}]}},\"xaxis\":{\"anchor\":\"y\",\"domain\":[0.0,0.94],\"title\":{\"text\":\"Range\"}},\"yaxis\":{\"anchor\":\"x\",\"domain\":[0.0,1.0],\"title\":{\"text\":\"Responses\"},\"showgrid\":false},\"yaxis2\":{\"anchor\":\"x\",\"overlaying\":\"y\",\"side\":\"right\",\"title\":{\"text\":\"Propensity\"},\"tickformat\":\",.0%\",\"zeroline\":false,\"showgrid\":false},\"title\":{\"text\":\"Classifier score distribution<br>\\n            <sup>Model name: FirstMortgageFiveOneARM\\n            <br>Model ID 7</sup>\"}},                        {\"responsive\": true}                    ).then(function(){\n",
       "                            \n",
       "var gd = document.getElementById('d0bfaa95-695b-4587-a1f4-ebca388670f9');\n",
       "var x = new MutationObserver(function (mutations, observer) {{\n",
       "        var display = window.getComputedStyle(gd).display;\n",
       "        if (!display || display === 'none') {{\n",
       "            console.log([gd, 'removed!']);\n",
       "            Plotly.purge(gd);\n",
       "            observer.disconnect();\n",
       "        }}\n",
       "}});\n",
       "\n",
       "// Listen for the removal of the full notebook cells\n",
       "var notebookContainer = gd.closest('#notebook-container');\n",
       "if (notebookContainer) {{\n",
       "    x.observe(notebookContainer, {childList: true});\n",
       "}}\n",
       "\n",
       "// Listen for the clearing of the current output cell\n",
       "var outputEl = gd.closest('.output');\n",
       "if (outputEl) {{\n",
       "    x.observe(outputEl, {childList: true});\n",
       "}}\n",
       "\n",
       "                        })                };                });            </script>        </div>"
      ]
     },
     "metadata": {},
     "output_type": "display_data"
    },
    {
     "data": {
      "text/html": [
       "<div>                            <div id=\"6648749f-b2a1-4a39-8389-bad7dc194f3b\" class=\"plotly-graph-div\" style=\"height:525px; width:100%;\"></div>            <script type=\"text/javascript\">                require([\"plotly\"], function(Plotly) {                    window.PLOTLYENV=window.PLOTLYENV || {};                                    if (document.getElementById(\"6648749f-b2a1-4a39-8389-bad7dc194f3b\")) {                    Plotly.newPlot(                        \"6648749f-b2a1-4a39-8389-bad7dc194f3b\",                        [{\"name\":\"Responses\",\"x\":[\"<-0.57\",\"[-0.57, -0.4>\",\"[-0.4, -0.34>\",\"[-0.34, -0.29>\",\"[-0.29, 0.99>\",\">=0.99\"],\"y\":[202,118,52,31,45,70],\"type\":\"bar\"},{\"mode\":\"lines+markers\",\"name\":\"Propensity\",\"x\":[\"<-0.57\",\"[-0.57, -0.4>\",\"[-0.4, -0.34>\",\"[-0.34, -0.29>\",\"[-0.29, 0.99>\",\">=0.99\"],\"y\":[0.009900990099009901,0.01694915254237288,0.019230769230769232,0.03225806451612903,0.044444444444444446,0.07142857142857142],\"yaxis\":\"y2\",\"type\":\"scatter\"}],                        {\"template\":{\"data\":{\"scatter\":[{\"type\":\"scatter\"}]}},\"xaxis\":{\"anchor\":\"y\",\"domain\":[0.0,0.94],\"title\":{\"text\":\"Range\"}},\"yaxis\":{\"anchor\":\"x\",\"domain\":[0.0,1.0],\"title\":{\"text\":\"Responses\"},\"showgrid\":false},\"yaxis2\":{\"anchor\":\"x\",\"overlaying\":\"y\",\"side\":\"right\",\"title\":{\"text\":\"Propensity\"},\"tickformat\":\",.0%\",\"zeroline\":false,\"showgrid\":false},\"title\":{\"text\":\"Classifier score distribution<br>\\n            <sup>Model name: FirstMortgageFloat\\n            <br>Model ID 6</sup>\"}},                        {\"responsive\": true}                    ).then(function(){\n",
       "                            \n",
       "var gd = document.getElementById('6648749f-b2a1-4a39-8389-bad7dc194f3b');\n",
       "var x = new MutationObserver(function (mutations, observer) {{\n",
       "        var display = window.getComputedStyle(gd).display;\n",
       "        if (!display || display === 'none') {{\n",
       "            console.log([gd, 'removed!']);\n",
       "            Plotly.purge(gd);\n",
       "            observer.disconnect();\n",
       "        }}\n",
       "}});\n",
       "\n",
       "// Listen for the removal of the full notebook cells\n",
       "var notebookContainer = gd.closest('#notebook-container');\n",
       "if (notebookContainer) {{\n",
       "    x.observe(notebookContainer, {childList: true});\n",
       "}}\n",
       "\n",
       "// Listen for the clearing of the current output cell\n",
       "var outputEl = gd.closest('.output');\n",
       "if (outputEl) {{\n",
       "    x.observe(outputEl, {childList: true});\n",
       "}}\n",
       "\n",
       "                        })                };                });            </script>        </div>"
      ]
     },
     "metadata": {},
     "output_type": "display_data"
    },
    {
     "data": {
      "text/html": [
       "<div>                            <div id=\"b3c427ca-bdd1-4b12-b66a-e374c1673a61\" class=\"plotly-graph-div\" style=\"height:525px; width:100%;\"></div>            <script type=\"text/javascript\">                require([\"plotly\"], function(Plotly) {                    window.PLOTLYENV=window.PLOTLYENV || {};                                    if (document.getElementById(\"b3c427ca-bdd1-4b12-b66a-e374c1673a61\")) {                    Plotly.newPlot(                        \"b3c427ca-bdd1-4b12-b66a-e374c1673a61\",                        [{\"name\":\"Responses\",\"x\":[\"<-0.16\",\"[-0.16, -0.145>\",\"[-0.145, -0.14>\",\"[-0.14, -0.125>\",\"[-0.125, -0.1>\",\"[-0.1, -0.085>\",\"[-0.085, -0.07>\",\"[-0.07, -0.035>\",\"[-0.035, 0.01>\",\"[0.01, 0.015>\",\"[0.015, 0.025>\",\"[0.025, 0.03>\",\"[0.03, 0.995>\",\">=0.995\"],\"y\":[2426,430,149,472,709,380,312,439,294,20,31,10,9,62],\"type\":\"bar\"},{\"mode\":\"lines+markers\",\"name\":\"Propensity\",\"x\":[\"<-0.16\",\"[-0.16, -0.145>\",\"[-0.145, -0.14>\",\"[-0.14, -0.125>\",\"[-0.125, -0.1>\",\"[-0.1, -0.085>\",\"[-0.085, -0.07>\",\"[-0.07, -0.035>\",\"[-0.035, 0.01>\",\"[0.01, 0.015>\",\"[0.015, 0.025>\",\"[0.025, 0.03>\",\"[0.03, 0.995>\",\">=0.995\"],\"y\":[0.04657873042044518,0.05116279069767442,0.053691275167785234,0.06779661016949153,0.07052186177715092,0.0868421052631579,0.08974358974358974,0.12072892938496584,0.14965986394557823,0.15,0.16129032258064516,0.2,0.2222222222222222,0.2903225806451613],\"yaxis\":\"y2\",\"type\":\"scatter\"}],                        {\"template\":{\"data\":{\"scatter\":[{\"type\":\"scatter\"}]}},\"xaxis\":{\"anchor\":\"y\",\"domain\":[0.0,0.94],\"title\":{\"text\":\"Range\"}},\"yaxis\":{\"anchor\":\"x\",\"domain\":[0.0,1.0],\"title\":{\"text\":\"Responses\"},\"showgrid\":false},\"yaxis2\":{\"anchor\":\"x\",\"overlaying\":\"y\",\"side\":\"right\",\"title\":{\"text\":\"Propensity\"},\"tickformat\":\",.0%\",\"zeroline\":false,\"showgrid\":false},\"title\":{\"text\":\"Classifier score distribution<br>\\n            <sup>Model name: AutoNew48Months\\n            <br>Model ID 6</sup>\"}},                        {\"responsive\": true}                    ).then(function(){\n",
       "                            \n",
       "var gd = document.getElementById('b3c427ca-bdd1-4b12-b66a-e374c1673a61');\n",
       "var x = new MutationObserver(function (mutations, observer) {{\n",
       "        var display = window.getComputedStyle(gd).display;\n",
       "        if (!display || display === 'none') {{\n",
       "            console.log([gd, 'removed!']);\n",
       "            Plotly.purge(gd);\n",
       "            observer.disconnect();\n",
       "        }}\n",
       "}});\n",
       "\n",
       "// Listen for the removal of the full notebook cells\n",
       "var notebookContainer = gd.closest('#notebook-container');\n",
       "if (notebookContainer) {{\n",
       "    x.observe(notebookContainer, {childList: true});\n",
       "}}\n",
       "\n",
       "// Listen for the clearing of the current output cell\n",
       "var outputEl = gd.closest('.output');\n",
       "if (outputEl) {{\n",
       "    x.observe(outputEl, {childList: true});\n",
       "}}\n",
       "\n",
       "                        })                };                });            </script>        </div>"
      ]
     },
     "metadata": {},
     "output_type": "display_data"
    },
    {
     "data": {
      "text/html": [
       "<div>                            <div id=\"35bbbbe3-4b78-47af-9585-5bd317b4af07\" class=\"plotly-graph-div\" style=\"height:525px; width:100%;\"></div>            <script type=\"text/javascript\">                require([\"plotly\"], function(Plotly) {                    window.PLOTLYENV=window.PLOTLYENV || {};                                    if (document.getElementById(\"35bbbbe3-4b78-47af-9585-5bd317b4af07\")) {                    Plotly.newPlot(                        \"35bbbbe3-4b78-47af-9585-5bd317b4af07\",                        [{\"name\":\"Responses\",\"x\":[\"<-0.36\",\"[-0.36, -0.13>\",\"[-0.13, 0.995>\",\">=0.995\"],\"y\":[403,609,256,79],\"type\":\"bar\"},{\"mode\":\"lines+markers\",\"name\":\"Propensity\",\"x\":[\"<-0.36\",\"[-0.36, -0.13>\",\"[-0.13, 0.995>\",\">=0.995\"],\"y\":[0.01488833746898263,0.03940886699507389,0.05859375,0.06329113924050633],\"yaxis\":\"y2\",\"type\":\"scatter\"}],                        {\"template\":{\"data\":{\"scatter\":[{\"type\":\"scatter\"}]}},\"xaxis\":{\"anchor\":\"y\",\"domain\":[0.0,0.94],\"title\":{\"text\":\"Range\"}},\"yaxis\":{\"anchor\":\"x\",\"domain\":[0.0,1.0],\"title\":{\"text\":\"Responses\"},\"showgrid\":false},\"yaxis2\":{\"anchor\":\"x\",\"overlaying\":\"y\",\"side\":\"right\",\"title\":{\"text\":\"Propensity\"},\"tickformat\":\",.0%\",\"zeroline\":false,\"showgrid\":false},\"title\":{\"text\":\"Classifier score distribution<br>\\n            <sup>Model name: AutoUsed84Months\\n            <br>Model ID d</sup>\"}},                        {\"responsive\": true}                    ).then(function(){\n",
       "                            \n",
       "var gd = document.getElementById('35bbbbe3-4b78-47af-9585-5bd317b4af07');\n",
       "var x = new MutationObserver(function (mutations, observer) {{\n",
       "        var display = window.getComputedStyle(gd).display;\n",
       "        if (!display || display === 'none') {{\n",
       "            console.log([gd, 'removed!']);\n",
       "            Plotly.purge(gd);\n",
       "            observer.disconnect();\n",
       "        }}\n",
       "}});\n",
       "\n",
       "// Listen for the removal of the full notebook cells\n",
       "var notebookContainer = gd.closest('#notebook-container');\n",
       "if (notebookContainer) {{\n",
       "    x.observe(notebookContainer, {childList: true});\n",
       "}}\n",
       "\n",
       "// Listen for the clearing of the current output cell\n",
       "var outputEl = gd.closest('.output');\n",
       "if (outputEl) {{\n",
       "    x.observe(outputEl, {childList: true});\n",
       "}}\n",
       "\n",
       "                        })                };                });            </script>        </div>"
      ]
     },
     "metadata": {},
     "output_type": "display_data"
    },
    {
     "data": {
      "text/html": [
       "<div>                            <div id=\"480ff024-e6e1-4feb-b6c8-582cea0b1cd5\" class=\"plotly-graph-div\" style=\"height:525px; width:100%;\"></div>            <script type=\"text/javascript\">                require([\"plotly\"], function(Plotly) {                    window.PLOTLYENV=window.PLOTLYENV || {};                                    if (document.getElementById(\"480ff024-e6e1-4feb-b6c8-582cea0b1cd5\")) {                    Plotly.newPlot(                        \"480ff024-e6e1-4feb-b6c8-582cea0b1cd5\",                        [{\"name\":\"Responses\",\"x\":[\"<-1.95\",\"[-1.95, -0.63>\",\"[-0.63, -0.5>\",\"[-0.5, -0.36>\",\"[-0.36, -0.29>\",\"[-0.29, -0.22>\",\"[-0.22, 0.99>\",\">=0.99\"],\"y\":[35,1946,1338,1133,450,322,146,232],\"type\":\"bar\"},{\"mode\":\"lines+markers\",\"name\":\"Propensity\",\"x\":[\"<-1.95\",\"[-1.95, -0.63>\",\"[-0.63, -0.5>\",\"[-0.5, -0.36>\",\"[-0.36, -0.29>\",\"[-0.29, -0.22>\",\"[-0.22, 0.99>\",\">=0.99\"],\"y\":[0.0,0.0035971223021582736,0.00523168908819133,0.00706090026478376,0.008888888888888889,0.009316770186335404,0.0136986301369863,0.021551724137931036],\"yaxis\":\"y2\",\"type\":\"scatter\"}],                        {\"template\":{\"data\":{\"scatter\":[{\"type\":\"scatter\"}]}},\"xaxis\":{\"anchor\":\"y\",\"domain\":[0.0,0.94],\"title\":{\"text\":\"Range\"}},\"yaxis\":{\"anchor\":\"x\",\"domain\":[0.0,1.0],\"title\":{\"text\":\"Responses\"},\"showgrid\":false},\"yaxis2\":{\"anchor\":\"x\",\"overlaying\":\"y\",\"side\":\"right\",\"title\":{\"text\":\"Propensity\"},\"tickformat\":\",.0%\",\"zeroline\":false,\"showgrid\":false},\"title\":{\"text\":\"Classifier score distribution<br>\\n            <sup>Model name: AutoNew36Months\\n            <br>Model ID f</sup>\"}},                        {\"responsive\": true}                    ).then(function(){\n",
       "                            \n",
       "var gd = document.getElementById('480ff024-e6e1-4feb-b6c8-582cea0b1cd5');\n",
       "var x = new MutationObserver(function (mutations, observer) {{\n",
       "        var display = window.getComputedStyle(gd).display;\n",
       "        if (!display || display === 'none') {{\n",
       "            console.log([gd, 'removed!']);\n",
       "            Plotly.purge(gd);\n",
       "            observer.disconnect();\n",
       "        }}\n",
       "}});\n",
       "\n",
       "// Listen for the removal of the full notebook cells\n",
       "var notebookContainer = gd.closest('#notebook-container');\n",
       "if (notebookContainer) {{\n",
       "    x.observe(notebookContainer, {childList: true});\n",
       "}}\n",
       "\n",
       "// Listen for the clearing of the current output cell\n",
       "var outputEl = gd.closest('.output');\n",
       "if (outputEl) {{\n",
       "    x.observe(outputEl, {childList: true});\n",
       "}}\n",
       "\n",
       "                        })                };                });            </script>        </div>"
      ]
     },
     "metadata": {},
     "output_type": "display_data"
    },
    {
     "data": {
      "text/html": [
       "<div>                            <div id=\"264ace3d-bb30-43dc-bc82-9c0eb15a7351\" class=\"plotly-graph-div\" style=\"height:525px; width:100%;\"></div>            <script type=\"text/javascript\">                require([\"plotly\"], function(Plotly) {                    window.PLOTLYENV=window.PLOTLYENV || {};                                    if (document.getElementById(\"264ace3d-bb30-43dc-bc82-9c0eb15a7351\")) {                    Plotly.newPlot(                        \"264ace3d-bb30-43dc-bc82-9c0eb15a7351\",                        [{\"name\":\"Responses\",\"x\":[\"<-0.205\",\"[-0.205, -0.165>\",\"[-0.165, -0.085>\",\"[-0.085, -0.02>\",\"[-0.02, 0.02>\",\"[0.02, 0.05>\",\"[0.05, 0.065>\",\"[0.065, 0.08>\",\"[0.08, 0.995>\",\">=0.995\"],\"y\":[840,142,241,94,31,9,4,8,6,3],\"type\":\"bar\"},{\"mode\":\"lines+markers\",\"name\":\"Propensity\",\"x\":[\"<-0.205\",\"[-0.205, -0.165>\",\"[-0.165, -0.085>\",\"[-0.085, -0.02>\",\"[-0.02, 0.02>\",\"[0.02, 0.05>\",\"[0.05, 0.065>\",\"[0.065, 0.08>\",\"[0.08, 0.995>\",\">=0.995\"],\"y\":[0.025,0.028169014084507043,0.029045643153526972,0.06382978723404255,0.0967741935483871,0.2222222222222222,0.25,0.375,0.6666666666666666,1.0],\"yaxis\":\"y2\",\"type\":\"scatter\"}],                        {\"template\":{\"data\":{\"scatter\":[{\"type\":\"scatter\"}]}},\"xaxis\":{\"anchor\":\"y\",\"domain\":[0.0,0.94],\"title\":{\"text\":\"Range\"}},\"yaxis\":{\"anchor\":\"x\",\"domain\":[0.0,1.0],\"title\":{\"text\":\"Responses\"},\"showgrid\":false},\"yaxis2\":{\"anchor\":\"x\",\"overlaying\":\"y\",\"side\":\"right\",\"title\":{\"text\":\"Propensity\"},\"tickformat\":\",.0%\",\"zeroline\":false,\"showgrid\":false},\"title\":{\"text\":\"Classifier score distribution<br>\\n            <sup>Model name: AutoUsed60Months\\n            <br>Model ID 8</sup>\"}},                        {\"responsive\": true}                    ).then(function(){\n",
       "                            \n",
       "var gd = document.getElementById('264ace3d-bb30-43dc-bc82-9c0eb15a7351');\n",
       "var x = new MutationObserver(function (mutations, observer) {{\n",
       "        var display = window.getComputedStyle(gd).display;\n",
       "        if (!display || display === 'none') {{\n",
       "            console.log([gd, 'removed!']);\n",
       "            Plotly.purge(gd);\n",
       "            observer.disconnect();\n",
       "        }}\n",
       "}});\n",
       "\n",
       "// Listen for the removal of the full notebook cells\n",
       "var notebookContainer = gd.closest('#notebook-container');\n",
       "if (notebookContainer) {{\n",
       "    x.observe(notebookContainer, {childList: true});\n",
       "}}\n",
       "\n",
       "// Listen for the clearing of the current output cell\n",
       "var outputEl = gd.closest('.output');\n",
       "if (outputEl) {{\n",
       "    x.observe(outputEl, {childList: true});\n",
       "}}\n",
       "\n",
       "                        })                };                });            </script>        </div>"
      ]
     },
     "metadata": {},
     "output_type": "display_data"
    },
    {
     "data": {
      "text/html": [
       "<div>                            <div id=\"5619ad3c-f2bc-4e25-887c-cb7e971554b6\" class=\"plotly-graph-div\" style=\"height:525px; width:100%;\"></div>            <script type=\"text/javascript\">                require([\"plotly\"], function(Plotly) {                    window.PLOTLYENV=window.PLOTLYENV || {};                                    if (document.getElementById(\"5619ad3c-f2bc-4e25-887c-cb7e971554b6\")) {                    Plotly.newPlot(                        \"5619ad3c-f2bc-4e25-887c-cb7e971554b6\",                        [{\"name\":\"Responses\",\"x\":[\"<-2.4\",\"[-2.4, 0.99>\",\">=0.99\"],\"y\":[27,1128,88],\"type\":\"bar\"},{\"mode\":\"lines+markers\",\"name\":\"Propensity\",\"x\":[\"<-2.4\",\"[-2.4, 0.99>\",\">=0.99\"],\"y\":[0.0,0.010638297872340425,0.011363636363636364],\"yaxis\":\"y2\",\"type\":\"scatter\"}],                        {\"template\":{\"data\":{\"scatter\":[{\"type\":\"scatter\"}]}},\"xaxis\":{\"anchor\":\"y\",\"domain\":[0.0,0.94],\"title\":{\"text\":\"Range\"}},\"yaxis\":{\"anchor\":\"x\",\"domain\":[0.0,1.0],\"title\":{\"text\":\"Responses\"},\"showgrid\":false},\"yaxis2\":{\"anchor\":\"x\",\"overlaying\":\"y\",\"side\":\"right\",\"title\":{\"text\":\"Propensity\"},\"tickformat\":\",.0%\",\"zeroline\":false,\"showgrid\":false},\"title\":{\"text\":\"Classifier score distribution<br>\\n            <sup>Model name: AutoUsed84Months\\n            <br>Model ID 2</sup>\"}},                        {\"responsive\": true}                    ).then(function(){\n",
       "                            \n",
       "var gd = document.getElementById('5619ad3c-f2bc-4e25-887c-cb7e971554b6');\n",
       "var x = new MutationObserver(function (mutations, observer) {{\n",
       "        var display = window.getComputedStyle(gd).display;\n",
       "        if (!display || display === 'none') {{\n",
       "            console.log([gd, 'removed!']);\n",
       "            Plotly.purge(gd);\n",
       "            observer.disconnect();\n",
       "        }}\n",
       "}});\n",
       "\n",
       "// Listen for the removal of the full notebook cells\n",
       "var notebookContainer = gd.closest('#notebook-container');\n",
       "if (notebookContainer) {{\n",
       "    x.observe(notebookContainer, {childList: true});\n",
       "}}\n",
       "\n",
       "// Listen for the clearing of the current output cell\n",
       "var outputEl = gd.closest('.output');\n",
       "if (outputEl) {{\n",
       "    x.observe(outputEl, {childList: true});\n",
       "}}\n",
       "\n",
       "                        })                };                });            </script>        </div>"
      ]
     },
     "metadata": {},
     "output_type": "display_data"
    },
    {
     "data": {
      "text/html": [
       "<div>                            <div id=\"bd5fcf1e-ff88-4379-9e5d-ee9862ba081a\" class=\"plotly-graph-div\" style=\"height:525px; width:100%;\"></div>            <script type=\"text/javascript\">                require([\"plotly\"], function(Plotly) {                    window.PLOTLYENV=window.PLOTLYENV || {};                                    if (document.getElementById(\"bd5fcf1e-ff88-4379-9e5d-ee9862ba081a\")) {                    Plotly.newPlot(                        \"bd5fcf1e-ff88-4379-9e5d-ee9862ba081a\",                        [{\"name\":\"Responses\",\"x\":[\"<-0.065\",\"[-0.065, -0.04>\",\"[-0.04, 0.995>\",\">=0.995\"],\"y\":[300,46,40,63],\"type\":\"bar\"},{\"mode\":\"lines+markers\",\"name\":\"Propensity\",\"x\":[\"<-0.065\",\"[-0.065, -0.04>\",\"[-0.04, 0.995>\",\">=0.995\"],\"y\":[0.14666666666666667,0.17391304347826086,0.2,0.2857142857142857],\"yaxis\":\"y2\",\"type\":\"scatter\"}],                        {\"template\":{\"data\":{\"scatter\":[{\"type\":\"scatter\"}]}},\"xaxis\":{\"anchor\":\"y\",\"domain\":[0.0,0.94],\"title\":{\"text\":\"Range\"}},\"yaxis\":{\"anchor\":\"x\",\"domain\":[0.0,1.0],\"title\":{\"text\":\"Responses\"},\"showgrid\":false},\"yaxis2\":{\"anchor\":\"x\",\"overlaying\":\"y\",\"side\":\"right\",\"title\":{\"text\":\"Propensity\"},\"tickformat\":\",.0%\",\"zeroline\":false,\"showgrid\":false},\"title\":{\"text\":\"Classifier score distribution<br>\\n            <sup>Model name: FirstMortgageFiveOneARM\\n            <br>Model ID 7</sup>\"}},                        {\"responsive\": true}                    ).then(function(){\n",
       "                            \n",
       "var gd = document.getElementById('bd5fcf1e-ff88-4379-9e5d-ee9862ba081a');\n",
       "var x = new MutationObserver(function (mutations, observer) {{\n",
       "        var display = window.getComputedStyle(gd).display;\n",
       "        if (!display || display === 'none') {{\n",
       "            console.log([gd, 'removed!']);\n",
       "            Plotly.purge(gd);\n",
       "            observer.disconnect();\n",
       "        }}\n",
       "}});\n",
       "\n",
       "// Listen for the removal of the full notebook cells\n",
       "var notebookContainer = gd.closest('#notebook-container');\n",
       "if (notebookContainer) {{\n",
       "    x.observe(notebookContainer, {childList: true});\n",
       "}}\n",
       "\n",
       "// Listen for the clearing of the current output cell\n",
       "var outputEl = gd.closest('.output');\n",
       "if (outputEl) {{\n",
       "    x.observe(outputEl, {childList: true});\n",
       "}}\n",
       "\n",
       "                        })                };                });            </script>        </div>"
      ]
     },
     "metadata": {},
     "output_type": "display_data"
    },
    {
     "data": {
      "text/html": [
       "<div>                            <div id=\"2576c4d8-abd7-4b5d-b653-fac35fff4b5e\" class=\"plotly-graph-div\" style=\"height:525px; width:100%;\"></div>            <script type=\"text/javascript\">                require([\"plotly\"], function(Plotly) {                    window.PLOTLYENV=window.PLOTLYENV || {};                                    if (document.getElementById(\"2576c4d8-abd7-4b5d-b653-fac35fff4b5e\")) {                    Plotly.newPlot(                        \"2576c4d8-abd7-4b5d-b653-fac35fff4b5e\",                        [{\"name\":\"Responses\",\"x\":[\"<-1.33\",\"[-1.33, -0.15>\",\"[-0.15, -0.11>\",\"[-0.11, -0.1>\",\"[-0.1, -0.09>\",\"[-0.09, -0.06>\",\"[-0.06, -0.055>\",\"[-0.055, -0.05>\",\"[-0.05, -0.02>\",\"[-0.02, 0.03>\",\"[0.03, 0.085>\",\"[0.085, 0.995>\",\">=0.995\"],\"y\":[4,949,870,220,234,563,77,79,419,374,129,12,16],\"type\":\"bar\"},{\"mode\":\"lines+markers\",\"name\":\"Propensity\",\"x\":[\"<-1.33\",\"[-1.33, -0.15>\",\"[-0.15, -0.11>\",\"[-0.11, -0.1>\",\"[-0.1, -0.09>\",\"[-0.09, -0.06>\",\"[-0.06, -0.055>\",\"[-0.055, -0.05>\",\"[-0.05, -0.02>\",\"[-0.02, 0.03>\",\"[0.03, 0.085>\",\"[0.085, 0.995>\",\">=0.995\"],\"y\":[0.0,0.09378292939936776,0.10919540229885058,0.1409090909090909,0.15384615384615385,0.1882770870337478,0.19480519480519481,0.25316455696202533,0.2577565632458234,0.27540106951871657,0.3798449612403101,0.4166666666666667,0.5],\"yaxis\":\"y2\",\"type\":\"scatter\"}],                        {\"template\":{\"data\":{\"scatter\":[{\"type\":\"scatter\"}]}},\"xaxis\":{\"anchor\":\"y\",\"domain\":[0.0,0.94],\"title\":{\"text\":\"Range\"}},\"yaxis\":{\"anchor\":\"x\",\"domain\":[0.0,1.0],\"title\":{\"text\":\"Responses\"},\"showgrid\":false},\"yaxis2\":{\"anchor\":\"x\",\"overlaying\":\"y\",\"side\":\"right\",\"title\":{\"text\":\"Propensity\"},\"tickformat\":\",.0%\",\"zeroline\":false,\"showgrid\":false},\"title\":{\"text\":\"Classifier score distribution<br>\\n            <sup>Model name: FirstMortgage\\n            <br>Model ID c</sup>\"}},                        {\"responsive\": true}                    ).then(function(){\n",
       "                            \n",
       "var gd = document.getElementById('2576c4d8-abd7-4b5d-b653-fac35fff4b5e');\n",
       "var x = new MutationObserver(function (mutations, observer) {{\n",
       "        var display = window.getComputedStyle(gd).display;\n",
       "        if (!display || display === 'none') {{\n",
       "            console.log([gd, 'removed!']);\n",
       "            Plotly.purge(gd);\n",
       "            observer.disconnect();\n",
       "        }}\n",
       "}});\n",
       "\n",
       "// Listen for the removal of the full notebook cells\n",
       "var notebookContainer = gd.closest('#notebook-container');\n",
       "if (notebookContainer) {{\n",
       "    x.observe(notebookContainer, {childList: true});\n",
       "}}\n",
       "\n",
       "// Listen for the clearing of the current output cell\n",
       "var outputEl = gd.closest('.output');\n",
       "if (outputEl) {{\n",
       "    x.observe(outputEl, {childList: true});\n",
       "}}\n",
       "\n",
       "                        })                };                });            </script>        </div>"
      ]
     },
     "metadata": {},
     "output_type": "display_data"
    },
    {
     "data": {
      "text/html": [
       "<div>                            <div id=\"351ecd8a-ee36-42ef-9444-b2aedf315fdf\" class=\"plotly-graph-div\" style=\"height:525px; width:100%;\"></div>            <script type=\"text/javascript\">                require([\"plotly\"], function(Plotly) {                    window.PLOTLYENV=window.PLOTLYENV || {};                                    if (document.getElementById(\"351ecd8a-ee36-42ef-9444-b2aedf315fdf\")) {                    Plotly.newPlot(                        \"351ecd8a-ee36-42ef-9444-b2aedf315fdf\",                        [{\"name\":\"Responses\",\"x\":[\"<-0.21\",\"[-0.21, -0.185>\",\"[-0.185, -0.175>\",\"[-0.175, -0.105>\",\"[-0.105, -0.095>\",\"[-0.095, -0.09>\",\"[-0.09, -0.065>\",\"[-0.065, -0.02>\",\"[-0.02, 0.03>\",\"[0.03, 0.06>\",\"[0.06, 0.12>\",\"[0.12, 0.125>\",\"[0.125, 0.13>\",\"[0.13, 0.995>\",\">=0.995\"],\"y\":[460,141,51,398,55,21,86,184,102,49,63,4,6,11,5],\"type\":\"bar\"},{\"mode\":\"lines+markers\",\"name\":\"Propensity\",\"x\":[\"<-0.21\",\"[-0.21, -0.185>\",\"[-0.185, -0.175>\",\"[-0.175, -0.105>\",\"[-0.105, -0.095>\",\"[-0.095, -0.09>\",\"[-0.09, -0.065>\",\"[-0.065, -0.02>\",\"[-0.02, 0.03>\",\"[0.03, 0.06>\",\"[0.06, 0.12>\",\"[0.12, 0.125>\",\"[0.125, 0.13>\",\"[0.13, 0.995>\",\">=0.995\"],\"y\":[0.03695652173913044,0.05673758865248227,0.058823529411764705,0.07035175879396985,0.07272727272727272,0.09523809523809523,0.10465116279069768,0.16304347826086957,0.3627450980392157,0.40816326530612246,0.47619047619047616,0.5,0.6666666666666666,0.7272727272727273,0.8],\"yaxis\":\"y2\",\"type\":\"scatter\"}],                        {\"template\":{\"data\":{\"scatter\":[{\"type\":\"scatter\"}]}},\"xaxis\":{\"anchor\":\"y\",\"domain\":[0.0,0.94],\"title\":{\"text\":\"Range\"}},\"yaxis\":{\"anchor\":\"x\",\"domain\":[0.0,1.0],\"title\":{\"text\":\"Responses\"},\"showgrid\":false},\"yaxis2\":{\"anchor\":\"x\",\"overlaying\":\"y\",\"side\":\"right\",\"title\":{\"text\":\"Propensity\"},\"tickformat\":\",.0%\",\"zeroline\":false,\"showgrid\":false},\"title\":{\"text\":\"Classifier score distribution<br>\\n            <sup>Model name: AutoNew84Months\\n            <br>Model ID 6</sup>\"}},                        {\"responsive\": true}                    ).then(function(){\n",
       "                            \n",
       "var gd = document.getElementById('351ecd8a-ee36-42ef-9444-b2aedf315fdf');\n",
       "var x = new MutationObserver(function (mutations, observer) {{\n",
       "        var display = window.getComputedStyle(gd).display;\n",
       "        if (!display || display === 'none') {{\n",
       "            console.log([gd, 'removed!']);\n",
       "            Plotly.purge(gd);\n",
       "            observer.disconnect();\n",
       "        }}\n",
       "}});\n",
       "\n",
       "// Listen for the removal of the full notebook cells\n",
       "var notebookContainer = gd.closest('#notebook-container');\n",
       "if (notebookContainer) {{\n",
       "    x.observe(notebookContainer, {childList: true});\n",
       "}}\n",
       "\n",
       "// Listen for the clearing of the current output cell\n",
       "var outputEl = gd.closest('.output');\n",
       "if (outputEl) {{\n",
       "    x.observe(outputEl, {childList: true});\n",
       "}}\n",
       "\n",
       "                        })                };                });            </script>        </div>"
      ]
     },
     "metadata": {},
     "output_type": "display_data"
    },
    {
     "data": {
      "text/html": [
       "<div>                            <div id=\"c362a4b9-ed99-4a96-ada1-aaecdb7188cf\" class=\"plotly-graph-div\" style=\"height:525px; width:100%;\"></div>            <script type=\"text/javascript\">                require([\"plotly\"], function(Plotly) {                    window.PLOTLYENV=window.PLOTLYENV || {};                                    if (document.getElementById(\"c362a4b9-ed99-4a96-ada1-aaecdb7188cf\")) {                    Plotly.newPlot(                        \"c362a4b9-ed99-4a96-ada1-aaecdb7188cf\",                        [{\"name\":\"Responses\",\"x\":[\"<-0.215\",\"[-0.215, -0.2>\",\"[-0.2, -0.165>\",\"[-0.165, -0.16>\",\"[-0.16, -0.14>\",\"[-0.14, -0.115>\",\"[-0.115, -0.105>\",\"[-0.105, -0.09>\",\"[-0.09, -0.08>\",\"[-0.08, -0.065>\",\"[-0.065, -0.045>\",\"[-0.045, -0.04>\",\"[-0.04, -0.02>\",\"[-0.02, -0.01>\",\"[-0.01, 0.0>\",\"[0.0, 0.03>\",\"[0.03, 0.04>\",\"[0.04, 0.085>\",\"[0.085, 0.09>\",\"[0.09, 0.125>\",\"[0.125, 0.995>\",\">=0.995\"],\"y\":[922,216,598,122,398,491,170,250,151,213,285,63,217,81,80,161,38,96,7,30,12,4],\"type\":\"bar\"},{\"mode\":\"lines+markers\",\"name\":\"Propensity\",\"x\":[\"<-0.215\",\"[-0.215, -0.2>\",\"[-0.2, -0.165>\",\"[-0.165, -0.16>\",\"[-0.16, -0.14>\",\"[-0.14, -0.115>\",\"[-0.115, -0.105>\",\"[-0.105, -0.09>\",\"[-0.09, -0.08>\",\"[-0.08, -0.065>\",\"[-0.065, -0.045>\",\"[-0.045, -0.04>\",\"[-0.04, -0.02>\",\"[-0.02, -0.01>\",\"[-0.01, 0.0>\",\"[0.0, 0.03>\",\"[0.03, 0.04>\",\"[0.04, 0.085>\",\"[0.085, 0.09>\",\"[0.09, 0.125>\",\"[0.125, 0.995>\",\">=0.995\"],\"y\":[0.044468546637744036,0.046296296296296294,0.051839464882943144,0.05737704918032787,0.07537688442211055,0.0814663951120163,0.09411764705882353,0.108,0.1456953642384106,0.1784037558685446,0.18596491228070175,0.2698412698412698,0.28110599078341014,0.30864197530864196,0.3125,0.37267080745341613,0.39473684210526316,0.5,0.7142857142857143,0.7666666666666667,0.9166666666666666,1.0],\"yaxis\":\"y2\",\"type\":\"scatter\"}],                        {\"template\":{\"data\":{\"scatter\":[{\"type\":\"scatter\"}]}},\"xaxis\":{\"anchor\":\"y\",\"domain\":[0.0,0.94],\"title\":{\"text\":\"Range\"}},\"yaxis\":{\"anchor\":\"x\",\"domain\":[0.0,1.0],\"title\":{\"text\":\"Responses\"},\"showgrid\":false},\"yaxis2\":{\"anchor\":\"x\",\"overlaying\":\"y\",\"side\":\"right\",\"title\":{\"text\":\"Propensity\"},\"tickformat\":\",.0%\",\"zeroline\":false,\"showgrid\":false},\"title\":{\"text\":\"Classifier score distribution<br>\\n            <sup>Model name: HomeOwners\\n            <br>Model ID 0</sup>\"}},                        {\"responsive\": true}                    ).then(function(){\n",
       "                            \n",
       "var gd = document.getElementById('c362a4b9-ed99-4a96-ada1-aaecdb7188cf');\n",
       "var x = new MutationObserver(function (mutations, observer) {{\n",
       "        var display = window.getComputedStyle(gd).display;\n",
       "        if (!display || display === 'none') {{\n",
       "            console.log([gd, 'removed!']);\n",
       "            Plotly.purge(gd);\n",
       "            observer.disconnect();\n",
       "        }}\n",
       "}});\n",
       "\n",
       "// Listen for the removal of the full notebook cells\n",
       "var notebookContainer = gd.closest('#notebook-container');\n",
       "if (notebookContainer) {{\n",
       "    x.observe(notebookContainer, {childList: true});\n",
       "}}\n",
       "\n",
       "// Listen for the clearing of the current output cell\n",
       "var outputEl = gd.closest('.output');\n",
       "if (outputEl) {{\n",
       "    x.observe(outputEl, {childList: true});\n",
       "}}\n",
       "\n",
       "                        })                };                });            </script>        </div>"
      ]
     },
     "metadata": {},
     "output_type": "display_data"
    },
    {
     "data": {
      "text/html": [
       "<div>                            <div id=\"740ddd58-47ab-4ddd-8cf4-383d4a3aec0b\" class=\"plotly-graph-div\" style=\"height:525px; width:100%;\"></div>            <script type=\"text/javascript\">                require([\"plotly\"], function(Plotly) {                    window.PLOTLYENV=window.PLOTLYENV || {};                                    if (document.getElementById(\"740ddd58-47ab-4ddd-8cf4-383d4a3aec0b\")) {                    Plotly.newPlot(                        \"740ddd58-47ab-4ddd-8cf4-383d4a3aec0b\",                        [{\"name\":\"Responses\",\"x\":[\"<-0.155\",\"[-0.155, -0.14>\",\"[-0.14, -0.13>\",\"[-0.13, -0.125>\",\"[-0.125, -0.12>\",\"[-0.12, -0.1>\",\"[-0.1, -0.09>\",\"[-0.09, -0.055>\",\"[-0.055, -0.05>\",\"[-0.05, -0.045>\",\"[-0.045, -0.005>\",\"[-0.005, 0.005>\",\"[0.005, 0.02>\",\"[0.02, 0.035>\",\"[0.035, 0.04>\",\"[0.04, 0.06>\",\"[0.06, 0.065>\",\"[0.065, 0.085>\",\"[0.085, 0.09>\",\"[0.09, 0.125>\",\"[0.125, 0.995>\",\">=0.995\"],\"y\":[2305,331,241,107,102,417,190,550,56,53,323,54,72,57,18,38,9,23,3,21,5,1],\"type\":\"bar\"},{\"mode\":\"lines+markers\",\"name\":\"Propensity\",\"x\":[\"<-0.155\",\"[-0.155, -0.14>\",\"[-0.14, -0.13>\",\"[-0.13, -0.125>\",\"[-0.125, -0.12>\",\"[-0.12, -0.1>\",\"[-0.1, -0.09>\",\"[-0.09, -0.055>\",\"[-0.055, -0.05>\",\"[-0.05, -0.045>\",\"[-0.045, -0.005>\",\"[-0.005, 0.005>\",\"[0.005, 0.02>\",\"[0.02, 0.035>\",\"[0.035, 0.04>\",\"[0.04, 0.06>\",\"[0.06, 0.065>\",\"[0.065, 0.085>\",\"[0.085, 0.09>\",\"[0.09, 0.125>\",\"[0.125, 0.995>\",\">=0.995\"],\"y\":[0.03600867678958785,0.045317220543806644,0.06224066390041494,0.06542056074766354,0.08823529411764706,0.09832134292565947,0.11052631578947368,0.15272727272727274,0.23214285714285715,0.24528301886792453,0.2848297213622291,0.4074074074074074,0.4305555555555556,0.43859649122807015,0.4444444444444444,0.4473684210526316,0.5555555555555556,0.5652173913043478,0.6666666666666666,0.7142857142857143,0.8,1.0],\"yaxis\":\"y2\",\"type\":\"scatter\"}],                        {\"template\":{\"data\":{\"scatter\":[{\"type\":\"scatter\"}]}},\"xaxis\":{\"anchor\":\"y\",\"domain\":[0.0,0.94],\"title\":{\"text\":\"Range\"}},\"yaxis\":{\"anchor\":\"x\",\"domain\":[0.0,1.0],\"title\":{\"text\":\"Responses\"},\"showgrid\":false},\"yaxis2\":{\"anchor\":\"x\",\"overlaying\":\"y\",\"side\":\"right\",\"title\":{\"text\":\"Propensity\"},\"tickformat\":\",.0%\",\"zeroline\":false,\"showgrid\":false},\"title\":{\"text\":\"Classifier score distribution<br>\\n            <sup>Model name: HomeOwners\\n            <br>Model ID 2</sup>\"}},                        {\"responsive\": true}                    ).then(function(){\n",
       "                            \n",
       "var gd = document.getElementById('740ddd58-47ab-4ddd-8cf4-383d4a3aec0b');\n",
       "var x = new MutationObserver(function (mutations, observer) {{\n",
       "        var display = window.getComputedStyle(gd).display;\n",
       "        if (!display || display === 'none') {{\n",
       "            console.log([gd, 'removed!']);\n",
       "            Plotly.purge(gd);\n",
       "            observer.disconnect();\n",
       "        }}\n",
       "}});\n",
       "\n",
       "// Listen for the removal of the full notebook cells\n",
       "var notebookContainer = gd.closest('#notebook-container');\n",
       "if (notebookContainer) {{\n",
       "    x.observe(notebookContainer, {childList: true});\n",
       "}}\n",
       "\n",
       "// Listen for the clearing of the current output cell\n",
       "var outputEl = gd.closest('.output');\n",
       "if (outputEl) {{\n",
       "    x.observe(outputEl, {childList: true});\n",
       "}}\n",
       "\n",
       "                        })                };                });            </script>        </div>"
      ]
     },
     "metadata": {},
     "output_type": "display_data"
    },
    {
     "data": {
      "text/html": [
       "<div>                            <div id=\"90701e19-4108-442b-820a-b7706bfc4d71\" class=\"plotly-graph-div\" style=\"height:525px; width:100%;\"></div>            <script type=\"text/javascript\">                require([\"plotly\"], function(Plotly) {                    window.PLOTLYENV=window.PLOTLYENV || {};                                    if (document.getElementById(\"90701e19-4108-442b-820a-b7706bfc4d71\")) {                    Plotly.newPlot(                        \"90701e19-4108-442b-820a-b7706bfc4d71\",                        [{\"name\":\"Responses\",\"x\":[\"<-1.65\",\"[-1.65, -0.245>\",\"[-0.245, -0.16>\",\"[-0.16, 0.02>\",\"[0.02, 0.075>\",\"[0.075, 0.995>\",\">=0.995\"],\"y\":[14,376,153,219,32,31,3],\"type\":\"bar\"},{\"mode\":\"lines+markers\",\"name\":\"Propensity\",\"x\":[\"<-1.65\",\"[-1.65, -0.245>\",\"[-0.245, -0.16>\",\"[-0.16, 0.02>\",\"[0.02, 0.075>\",\"[0.075, 0.995>\",\">=0.995\"],\"y\":[0.0,0.02925531914893617,0.05228758169934641,0.0684931506849315,0.1875,0.3225806451612903,0.6666666666666666],\"yaxis\":\"y2\",\"type\":\"scatter\"}],                        {\"template\":{\"data\":{\"scatter\":[{\"type\":\"scatter\"}]}},\"xaxis\":{\"anchor\":\"y\",\"domain\":[0.0,0.94],\"title\":{\"text\":\"Range\"}},\"yaxis\":{\"anchor\":\"x\",\"domain\":[0.0,1.0],\"title\":{\"text\":\"Responses\"},\"showgrid\":false},\"yaxis2\":{\"anchor\":\"x\",\"overlaying\":\"y\",\"side\":\"right\",\"title\":{\"text\":\"Propensity\"},\"tickformat\":\",.0%\",\"zeroline\":false,\"showgrid\":false},\"title\":{\"text\":\"Classifier score distribution<br>\\n            <sup>Model name: ChannelAction_Template\\n            <br>Model ID 2</sup>\"}},                        {\"responsive\": true}                    ).then(function(){\n",
       "                            \n",
       "var gd = document.getElementById('90701e19-4108-442b-820a-b7706bfc4d71');\n",
       "var x = new MutationObserver(function (mutations, observer) {{\n",
       "        var display = window.getComputedStyle(gd).display;\n",
       "        if (!display || display === 'none') {{\n",
       "            console.log([gd, 'removed!']);\n",
       "            Plotly.purge(gd);\n",
       "            observer.disconnect();\n",
       "        }}\n",
       "}});\n",
       "\n",
       "// Listen for the removal of the full notebook cells\n",
       "var notebookContainer = gd.closest('#notebook-container');\n",
       "if (notebookContainer) {{\n",
       "    x.observe(notebookContainer, {childList: true});\n",
       "}}\n",
       "\n",
       "// Listen for the clearing of the current output cell\n",
       "var outputEl = gd.closest('.output');\n",
       "if (outputEl) {{\n",
       "    x.observe(outputEl, {childList: true});\n",
       "}}\n",
       "\n",
       "                        })                };                });            </script>        </div>"
      ]
     },
     "metadata": {},
     "output_type": "display_data"
    },
    {
     "data": {
      "text/html": [
       "<div>                            <div id=\"9fa4f786-8b37-47ed-9917-4bc21c043a9c\" class=\"plotly-graph-div\" style=\"height:525px; width:100%;\"></div>            <script type=\"text/javascript\">                require([\"plotly\"], function(Plotly) {                    window.PLOTLYENV=window.PLOTLYENV || {};                                    if (document.getElementById(\"9fa4f786-8b37-47ed-9917-4bc21c043a9c\")) {                    Plotly.newPlot(                        \"9fa4f786-8b37-47ed-9917-4bc21c043a9c\",                        [{\"name\":\"Responses\",\"x\":[\"<-0.125\",\"[-0.125, -0.06>\",\"[-0.06, 0.015>\",\"[0.015, 0.025>\",\"[0.025, 0.995>\",\">=0.995\"],\"y\":[886,465,223,16,7,25],\"type\":\"bar\"},{\"mode\":\"lines+markers\",\"name\":\"Propensity\",\"x\":[\"<-0.125\",\"[-0.125, -0.06>\",\"[-0.06, 0.015>\",\"[0.015, 0.025>\",\"[0.025, 0.995>\",\">=0.995\"],\"y\":[0.0744920993227991,0.0967741935483871,0.1031390134529148,0.125,0.14285714285714285,0.2],\"yaxis\":\"y2\",\"type\":\"scatter\"}],                        {\"template\":{\"data\":{\"scatter\":[{\"type\":\"scatter\"}]}},\"xaxis\":{\"anchor\":\"y\",\"domain\":[0.0,0.94],\"title\":{\"text\":\"Range\"}},\"yaxis\":{\"anchor\":\"x\",\"domain\":[0.0,1.0],\"title\":{\"text\":\"Responses\"},\"showgrid\":false},\"yaxis2\":{\"anchor\":\"x\",\"overlaying\":\"y\",\"side\":\"right\",\"title\":{\"text\":\"Propensity\"},\"tickformat\":\",.0%\",\"zeroline\":false,\"showgrid\":false},\"title\":{\"text\":\"Classifier score distribution<br>\\n            <sup>Model name: AutoUsed36Months\\n            <br>Model ID b</sup>\"}},                        {\"responsive\": true}                    ).then(function(){\n",
       "                            \n",
       "var gd = document.getElementById('9fa4f786-8b37-47ed-9917-4bc21c043a9c');\n",
       "var x = new MutationObserver(function (mutations, observer) {{\n",
       "        var display = window.getComputedStyle(gd).display;\n",
       "        if (!display || display === 'none') {{\n",
       "            console.log([gd, 'removed!']);\n",
       "            Plotly.purge(gd);\n",
       "            observer.disconnect();\n",
       "        }}\n",
       "}});\n",
       "\n",
       "// Listen for the removal of the full notebook cells\n",
       "var notebookContainer = gd.closest('#notebook-container');\n",
       "if (notebookContainer) {{\n",
       "    x.observe(notebookContainer, {childList: true});\n",
       "}}\n",
       "\n",
       "// Listen for the clearing of the current output cell\n",
       "var outputEl = gd.closest('.output');\n",
       "if (outputEl) {{\n",
       "    x.observe(outputEl, {childList: true});\n",
       "}}\n",
       "\n",
       "                        })                };                });            </script>        </div>"
      ]
     },
     "metadata": {},
     "output_type": "display_data"
    },
    {
     "data": {
      "text/html": [
       "<div>                            <div id=\"d83aca4a-b9a7-4a72-93f0-61f6a0a78015\" class=\"plotly-graph-div\" style=\"height:525px; width:100%;\"></div>            <script type=\"text/javascript\">                require([\"plotly\"], function(Plotly) {                    window.PLOTLYENV=window.PLOTLYENV || {};                                    if (document.getElementById(\"d83aca4a-b9a7-4a72-93f0-61f6a0a78015\")) {                    Plotly.newPlot(                        \"d83aca4a-b9a7-4a72-93f0-61f6a0a78015\",                        [{\"name\":\"Responses\",\"x\":[\"<-0.47\",\"[-0.47, -0.205>\",\"[-0.205, -0.12>\",\"[-0.12, -0.115>\",\"[-0.115, -0.085>\",\"[-0.085, -0.01>\",\"[-0.01, 0.155>\",\"[0.155, 0.995>\",\">=0.995\"],\"y\":[72,451,308,19,102,165,62,4,1],\"type\":\"bar\"},{\"mode\":\"lines+markers\",\"name\":\"Propensity\",\"x\":[\"<-0.47\",\"[-0.47, -0.205>\",\"[-0.205, -0.12>\",\"[-0.12, -0.115>\",\"[-0.115, -0.085>\",\"[-0.085, -0.01>\",\"[-0.01, 0.155>\",\"[0.155, 0.995>\",\">=0.995\"],\"y\":[0.027777777777777776,0.03325942350332594,0.048701298701298704,0.05263157894736842,0.0784313725490196,0.10303030303030303,0.11290322580645161,0.25,1.0],\"yaxis\":\"y2\",\"type\":\"scatter\"}],                        {\"template\":{\"data\":{\"scatter\":[{\"type\":\"scatter\"}]}},\"xaxis\":{\"anchor\":\"y\",\"domain\":[0.0,0.94],\"title\":{\"text\":\"Range\"}},\"yaxis\":{\"anchor\":\"x\",\"domain\":[0.0,1.0],\"title\":{\"text\":\"Responses\"},\"showgrid\":false},\"yaxis2\":{\"anchor\":\"x\",\"overlaying\":\"y\",\"side\":\"right\",\"title\":{\"text\":\"Propensity\"},\"tickformat\":\",.0%\",\"zeroline\":false,\"showgrid\":false},\"title\":{\"text\":\"Classifier score distribution<br>\\n            <sup>Model name: AutoNew84Months\\n            <br>Model ID f</sup>\"}},                        {\"responsive\": true}                    ).then(function(){\n",
       "                            \n",
       "var gd = document.getElementById('d83aca4a-b9a7-4a72-93f0-61f6a0a78015');\n",
       "var x = new MutationObserver(function (mutations, observer) {{\n",
       "        var display = window.getComputedStyle(gd).display;\n",
       "        if (!display || display === 'none') {{\n",
       "            console.log([gd, 'removed!']);\n",
       "            Plotly.purge(gd);\n",
       "            observer.disconnect();\n",
       "        }}\n",
       "}});\n",
       "\n",
       "// Listen for the removal of the full notebook cells\n",
       "var notebookContainer = gd.closest('#notebook-container');\n",
       "if (notebookContainer) {{\n",
       "    x.observe(notebookContainer, {childList: true});\n",
       "}}\n",
       "\n",
       "// Listen for the clearing of the current output cell\n",
       "var outputEl = gd.closest('.output');\n",
       "if (outputEl) {{\n",
       "    x.observe(outputEl, {childList: true});\n",
       "}}\n",
       "\n",
       "                        })                };                });            </script>        </div>"
      ]
     },
     "metadata": {},
     "output_type": "display_data"
    },
    {
     "data": {
      "text/html": [
       "<div>                            <div id=\"22a5e115-4ce8-4410-a794-c474ae1286ca\" class=\"plotly-graph-div\" style=\"height:525px; width:100%;\"></div>            <script type=\"text/javascript\">                require([\"plotly\"], function(Plotly) {                    window.PLOTLYENV=window.PLOTLYENV || {};                                    if (document.getElementById(\"22a5e115-4ce8-4410-a794-c474ae1286ca\")) {                    Plotly.newPlot(                        \"22a5e115-4ce8-4410-a794-c474ae1286ca\",                        [{\"name\":\"Responses\",\"x\":[\"<0.99\",\">=0.99\"],\"y\":[344,100],\"type\":\"bar\"},{\"mode\":\"lines+markers\",\"name\":\"Propensity\",\"x\":[\"<0.99\",\">=0.99\"],\"y\":[0.0029069767441860465,0.01],\"yaxis\":\"y2\",\"type\":\"scatter\"}],                        {\"template\":{\"data\":{\"scatter\":[{\"type\":\"scatter\"}]}},\"xaxis\":{\"anchor\":\"y\",\"domain\":[0.0,0.94],\"title\":{\"text\":\"Range\"}},\"yaxis\":{\"anchor\":\"x\",\"domain\":[0.0,1.0],\"title\":{\"text\":\"Responses\"},\"showgrid\":false},\"yaxis2\":{\"anchor\":\"x\",\"overlaying\":\"y\",\"side\":\"right\",\"title\":{\"text\":\"Propensity\"},\"tickformat\":\",.0%\",\"zeroline\":false,\"showgrid\":false},\"title\":{\"text\":\"Classifier score distribution<br>\\n            <sup>Model name: FirstMortgageFloat\\n            <br>Model ID 4</sup>\"}},                        {\"responsive\": true}                    ).then(function(){\n",
       "                            \n",
       "var gd = document.getElementById('22a5e115-4ce8-4410-a794-c474ae1286ca');\n",
       "var x = new MutationObserver(function (mutations, observer) {{\n",
       "        var display = window.getComputedStyle(gd).display;\n",
       "        if (!display || display === 'none') {{\n",
       "            console.log([gd, 'removed!']);\n",
       "            Plotly.purge(gd);\n",
       "            observer.disconnect();\n",
       "        }}\n",
       "}});\n",
       "\n",
       "// Listen for the removal of the full notebook cells\n",
       "var notebookContainer = gd.closest('#notebook-container');\n",
       "if (notebookContainer) {{\n",
       "    x.observe(notebookContainer, {childList: true});\n",
       "}}\n",
       "\n",
       "// Listen for the clearing of the current output cell\n",
       "var outputEl = gd.closest('.output');\n",
       "if (outputEl) {{\n",
       "    x.observe(outputEl, {childList: true});\n",
       "}}\n",
       "\n",
       "                        })                };                });            </script>        </div>"
      ]
     },
     "metadata": {},
     "output_type": "display_data"
    },
    {
     "data": {
      "text/html": [
       "<div>                            <div id=\"a516bc80-cc73-4a8d-b7b5-859691b20fc9\" class=\"plotly-graph-div\" style=\"height:525px; width:100%;\"></div>            <script type=\"text/javascript\">                require([\"plotly\"], function(Plotly) {                    window.PLOTLYENV=window.PLOTLYENV || {};                                    if (document.getElementById(\"a516bc80-cc73-4a8d-b7b5-859691b20fc9\")) {                    Plotly.newPlot(                        \"a516bc80-cc73-4a8d-b7b5-859691b20fc9\",                        [{\"name\":\"Responses\",\"x\":[\"<-0.79\",\"[-0.79, 0.99>\",\">=0.99\"],\"y\":[2871,2849,97],\"type\":\"bar\"},{\"mode\":\"lines+markers\",\"name\":\"Propensity\",\"x\":[\"<-0.79\",\"[-0.79, 0.99>\",\">=0.99\"],\"y\":[0.0017415534656913968,0.002106002106002106,0.010309278350515464],\"yaxis\":\"y2\",\"type\":\"scatter\"}],                        {\"template\":{\"data\":{\"scatter\":[{\"type\":\"scatter\"}]}},\"xaxis\":{\"anchor\":\"y\",\"domain\":[0.0,0.94],\"title\":{\"text\":\"Range\"}},\"yaxis\":{\"anchor\":\"x\",\"domain\":[0.0,1.0],\"title\":{\"text\":\"Responses\"},\"showgrid\":false},\"yaxis2\":{\"anchor\":\"x\",\"overlaying\":\"y\",\"side\":\"right\",\"title\":{\"text\":\"Propensity\"},\"tickformat\":\",.0%\",\"zeroline\":false,\"showgrid\":false},\"title\":{\"text\":\"Classifier score distribution<br>\\n            <sup>Model name: AutoNew36Months\\n            <br>Model ID b</sup>\"}},                        {\"responsive\": true}                    ).then(function(){\n",
       "                            \n",
       "var gd = document.getElementById('a516bc80-cc73-4a8d-b7b5-859691b20fc9');\n",
       "var x = new MutationObserver(function (mutations, observer) {{\n",
       "        var display = window.getComputedStyle(gd).display;\n",
       "        if (!display || display === 'none') {{\n",
       "            console.log([gd, 'removed!']);\n",
       "            Plotly.purge(gd);\n",
       "            observer.disconnect();\n",
       "        }}\n",
       "}});\n",
       "\n",
       "// Listen for the removal of the full notebook cells\n",
       "var notebookContainer = gd.closest('#notebook-container');\n",
       "if (notebookContainer) {{\n",
       "    x.observe(notebookContainer, {childList: true});\n",
       "}}\n",
       "\n",
       "// Listen for the clearing of the current output cell\n",
       "var outputEl = gd.closest('.output');\n",
       "if (outputEl) {{\n",
       "    x.observe(outputEl, {childList: true});\n",
       "}}\n",
       "\n",
       "                        })                };                });            </script>        </div>"
      ]
     },
     "metadata": {},
     "output_type": "display_data"
    }
   ],
   "source": [
    "data.plotScoreDistribution(show_each=True);\n"
   ]
  },
  {
   "cell_type": "markdown",
   "metadata": {},
   "source": [
    "## Tree Map"
   ]
  },
  {
   "cell_type": "code",
   "execution_count": 12,
   "metadata": {
    "execution": {
     "iopub.execute_input": "2023-03-24T17:48:49.054183Z",
     "iopub.status.busy": "2023-03-24T17:48:49.053875Z",
     "iopub.status.idle": "2023-03-24T17:48:49.213200Z",
     "shell.execute_reply": "2023-03-24T17:48:49.212214Z"
    }
   },
   "outputs": [
    {
     "data": {
      "text/html": [
       "<div>                            <div id=\"d86f3bdb-fb5e-4d43-a81e-cad23513ac46\" class=\"plotly-graph-div\" style=\"height:525px; width:100%;\"></div>            <script type=\"text/javascript\">                require([\"plotly\"], function(Plotly) {                    window.PLOTLYENV=window.PLOTLYENV || {};                                    if (document.getElementById(\"d86f3bdb-fb5e-4d43-a81e-cad23513ac46\")) {                    Plotly.newPlot(                        \"d86f3bdb-fb5e-4d43-a81e-cad23513ac46\",                        [{\"branchvalues\":\"total\",\"customdata\":[[2,0.0,13544,0.04638846671802414,62.99525834317778,631],[1,0.0,7415,0.0072825354012137555,62.944199999999995,54],[3,0.0,23129,0.05640022029487816,66.27309054433826,1341],[3,0.0,8823,0.0844395475775724,60.655552975178516,516],[5,0.0,14820,0.027161426741624084,56.309893400809734,289],[5,0.0,15761,0.047650201915249116,61.34172346297822,692],[3,0.0,11048,0.08005282820548858,70.77251884503983,822],[2,0.0,10633,0.010666604370831534,61.35216929370826,112],[3,0.0,11134,0.08278605717330569,68.66853960840668,772],[5,0.0,6966,0.08123114510073806,63.00027265288544,473],[6,0.0,10262,0.015054701976766428,55.4294000877022,130],[8,0.0,12383,0.0607416905806323,61.00976363562949,641],[1,0.0,7096,0.18940248027057496,62.21869999999999,1344],[3,0.0,8634,0.1863527350847223,52.95501125781792,1908],[5,0.0,12271,0.04838988724951338,53.05561875152798,754],[4,0.0,10488,0.13958418490192162,53.16843408657515,1840],[3,0.0,5043,0.14011887589688876,63.687832718619866,994],[3,0.0,1210,0.021722860653991333,56.29142462809917,25],[3,0.0,4905,0.12429615311635002,63.7114104587156,763],[17,0.0,\"(?)\",\"(?)\",62.30671239143503,\"(?)\"],[21,0.0,\"(?)\",\"(?)\",55.76107494093408,\"(?)\"],[23,0.0,\"(?)\",\"(?)\",61.06957882380845,\"(?)\"],[2,0.0,13544,0.04638846671802414,62.99525834317778,631],[1,0.0,7415,0.0072825354012137555,62.944199999999995,54],[4,0.0,\"(?)\",\"(?)\",65.25949290825369,\"(?)\"],[19,0.0,\"(?)\",\"(?)\",62.3791909126711,\"(?)\"],[22,0.0,\"(?)\",\"(?)\",56.08758062543707,\"(?)\"],[27,0.0,\"(?)\",\"(?)\",61.690306836318854,\"(?)\"],[22,0.0,\"(?)\",\"(?)\",56.08758062543707,\"(?)\"],[27,0.0,\"(?)\",\"(?)\",61.690306836318854,\"(?)\"],[19,0.0,\"(?)\",\"(?)\",62.3791909126711,\"(?)\"],[68,0.0,\"(?)\",\"(?)\",60.07014243648494,\"(?)\"]],\"domain\":{\"x\":[0.0,1.0],\"y\":[0.0,1.0]},\"hovertemplate\":\"labels=%{label}<br>Model count=%{customdata[0]:.d}<br>parent=%{parent}<br>id=%{id}<br>Percentage without responses=%{customdata[1]:.0%}<br>Response Count sum=%{customdata[2]:.d}<br>Success Rate mean=%{customdata[3]:.2%}<br>Performance weighted mean=%{color:.2f}<br>Positives sum=%{customdata[5]:.d}<extra></extra>\",\"ids\":[\"All contexts/Web/Inbound/Services/Account\",\"All contexts/Email/Outbound/Services/Account\",\"All contexts/SMS/Outbound/Services/Account\",\"All contexts/Web/Inbound/Sales/AutoLoans\",\"All contexts/Email/Outbound/Sales/AutoLoans\",\"All contexts/SMS/Outbound/Sales/AutoLoans\",\"All contexts/Web/Inbound/Sales/Bundles\",\"All contexts/Email/Outbound/Sales/Bundles\",\"All contexts/SMS/Outbound/Sales/Bundles\",\"All contexts/Web/Inbound/Sales/CreditCards\",\"All contexts/Email/Outbound/Sales/CreditCards\",\"All contexts/SMS/Outbound/Sales/CreditCards\",\"All contexts/SMS/Outbound/Services/Customer\",\"All contexts/Web/Inbound/Sales/DepositAccounts\",\"All contexts/Email/Outbound/Sales/DepositAccounts\",\"All contexts/SMS/Outbound/Sales/DepositAccounts\",\"All contexts/Web/Inbound/Sales/HomeLoans\",\"All contexts/Email/Outbound/Sales/HomeLoans\",\"All contexts/SMS/Outbound/Sales/HomeLoans\",\"All contexts/Web/Inbound/Sales\",\"All contexts/Email/Outbound/Sales\",\"All contexts/SMS/Outbound/Sales\",\"All contexts/Web/Inbound/Services\",\"All contexts/Email/Outbound/Services\",\"All contexts/SMS/Outbound/Services\",\"All contexts/Web/Inbound\",\"All contexts/Email/Outbound\",\"All contexts/SMS/Outbound\",\"All contexts/Email\",\"All contexts/SMS\",\"All contexts/Web\",\"All contexts\"],\"labels\":[\"Account\",\"Account\",\"Account\",\"AutoLoans\",\"AutoLoans\",\"AutoLoans\",\"Bundles\",\"Bundles\",\"Bundles\",\"CreditCards\",\"CreditCards\",\"CreditCards\",\"Customer\",\"DepositAccounts\",\"DepositAccounts\",\"DepositAccounts\",\"HomeLoans\",\"HomeLoans\",\"HomeLoans\",\"Sales\",\"Sales\",\"Sales\",\"Services\",\"Services\",\"Services\",\"Inbound\",\"Outbound\",\"Outbound\",\"Email\",\"SMS\",\"Web\",\"All contexts\"],\"marker\":{\"coloraxis\":\"coloraxis\",\"colors\":[62.99525834317778,62.944199999999995,66.27309054433826,60.655552975178516,56.309893400809734,61.34172346297822,70.77251884503983,61.35216929370826,68.66853960840668,63.00027265288544,55.4294000877022,61.00976363562949,62.21869999999999,52.95501125781792,53.05561875152798,53.16843408657515,63.687832718619866,56.29142462809917,63.7114104587156,62.30671239143503,55.76107494093408,61.06957882380845,62.99525834317778,62.944199999999995,65.25949290825369,62.3791909126711,56.08758062543707,61.690306836318854,56.08758062543707,61.690306836318854,62.3791909126711,60.07014243648494]},\"name\":\"\",\"parents\":[\"All contexts/Web/Inbound/Services\",\"All contexts/Email/Outbound/Services\",\"All contexts/SMS/Outbound/Services\",\"All contexts/Web/Inbound/Sales\",\"All contexts/Email/Outbound/Sales\",\"All contexts/SMS/Outbound/Sales\",\"All contexts/Web/Inbound/Sales\",\"All contexts/Email/Outbound/Sales\",\"All contexts/SMS/Outbound/Sales\",\"All contexts/Web/Inbound/Sales\",\"All contexts/Email/Outbound/Sales\",\"All contexts/SMS/Outbound/Sales\",\"All contexts/SMS/Outbound/Services\",\"All contexts/Web/Inbound/Sales\",\"All contexts/Email/Outbound/Sales\",\"All contexts/SMS/Outbound/Sales\",\"All contexts/Web/Inbound/Sales\",\"All contexts/Email/Outbound/Sales\",\"All contexts/SMS/Outbound/Sales\",\"All contexts/Web/Inbound\",\"All contexts/Email/Outbound\",\"All contexts/SMS/Outbound\",\"All contexts/Web/Inbound\",\"All contexts/Email/Outbound\",\"All contexts/SMS/Outbound\",\"All contexts/Web\",\"All contexts/Email\",\"All contexts/SMS\",\"All contexts\",\"All contexts\",\"All contexts\",\"\"],\"values\":[2,1,3,3,5,5,3,2,3,5,6,8,1,3,5,4,3,3,3,17,21,23,2,1,4,19,22,27,22,27,19,68],\"type\":\"treemap\",\"text\":[62.995,62.944,66.273,60.656,56.31,61.342,70.773,61.352,68.669,63.0,55.429,61.01,62.219,52.955,53.056,53.168,63.688,56.291,63.711,62.307,55.761,61.07,62.995,62.944,65.259,62.379,56.088,61.69,56.088,61.69,62.379,60.07],\"textinfo\":\"label+text\",\"texttemplate\":\"%{label}<br>%{text:.2f}%\"}],                        {\"template\":{\"data\":{\"histogram2dcontour\":[{\"type\":\"histogram2dcontour\",\"colorbar\":{\"outlinewidth\":0,\"ticks\":\"\"},\"colorscale\":[[0.0,\"#0d0887\"],[0.1111111111111111,\"#46039f\"],[0.2222222222222222,\"#7201a8\"],[0.3333333333333333,\"#9c179e\"],[0.4444444444444444,\"#bd3786\"],[0.5555555555555556,\"#d8576b\"],[0.6666666666666666,\"#ed7953\"],[0.7777777777777778,\"#fb9f3a\"],[0.8888888888888888,\"#fdca26\"],[1.0,\"#f0f921\"]]}],\"choropleth\":[{\"type\":\"choropleth\",\"colorbar\":{\"outlinewidth\":0,\"ticks\":\"\"}}],\"histogram2d\":[{\"type\":\"histogram2d\",\"colorbar\":{\"outlinewidth\":0,\"ticks\":\"\"},\"colorscale\":[[0.0,\"#0d0887\"],[0.1111111111111111,\"#46039f\"],[0.2222222222222222,\"#7201a8\"],[0.3333333333333333,\"#9c179e\"],[0.4444444444444444,\"#bd3786\"],[0.5555555555555556,\"#d8576b\"],[0.6666666666666666,\"#ed7953\"],[0.7777777777777778,\"#fb9f3a\"],[0.8888888888888888,\"#fdca26\"],[1.0,\"#f0f921\"]]}],\"heatmap\":[{\"type\":\"heatmap\",\"colorbar\":{\"outlinewidth\":0,\"ticks\":\"\"},\"colorscale\":[[0.0,\"#0d0887\"],[0.1111111111111111,\"#46039f\"],[0.2222222222222222,\"#7201a8\"],[0.3333333333333333,\"#9c179e\"],[0.4444444444444444,\"#bd3786\"],[0.5555555555555556,\"#d8576b\"],[0.6666666666666666,\"#ed7953\"],[0.7777777777777778,\"#fb9f3a\"],[0.8888888888888888,\"#fdca26\"],[1.0,\"#f0f921\"]]}],\"heatmapgl\":[{\"type\":\"heatmapgl\",\"colorbar\":{\"outlinewidth\":0,\"ticks\":\"\"},\"colorscale\":[[0.0,\"#0d0887\"],[0.1111111111111111,\"#46039f\"],[0.2222222222222222,\"#7201a8\"],[0.3333333333333333,\"#9c179e\"],[0.4444444444444444,\"#bd3786\"],[0.5555555555555556,\"#d8576b\"],[0.6666666666666666,\"#ed7953\"],[0.7777777777777778,\"#fb9f3a\"],[0.8888888888888888,\"#fdca26\"],[1.0,\"#f0f921\"]]}],\"contourcarpet\":[{\"type\":\"contourcarpet\",\"colorbar\":{\"outlinewidth\":0,\"ticks\":\"\"}}],\"contour\":[{\"type\":\"contour\",\"colorbar\":{\"outlinewidth\":0,\"ticks\":\"\"},\"colorscale\":[[0.0,\"#0d0887\"],[0.1111111111111111,\"#46039f\"],[0.2222222222222222,\"#7201a8\"],[0.3333333333333333,\"#9c179e\"],[0.4444444444444444,\"#bd3786\"],[0.5555555555555556,\"#d8576b\"],[0.6666666666666666,\"#ed7953\"],[0.7777777777777778,\"#fb9f3a\"],[0.8888888888888888,\"#fdca26\"],[1.0,\"#f0f921\"]]}],\"surface\":[{\"type\":\"surface\",\"colorbar\":{\"outlinewidth\":0,\"ticks\":\"\"},\"colorscale\":[[0.0,\"#0d0887\"],[0.1111111111111111,\"#46039f\"],[0.2222222222222222,\"#7201a8\"],[0.3333333333333333,\"#9c179e\"],[0.4444444444444444,\"#bd3786\"],[0.5555555555555556,\"#d8576b\"],[0.6666666666666666,\"#ed7953\"],[0.7777777777777778,\"#fb9f3a\"],[0.8888888888888888,\"#fdca26\"],[1.0,\"#f0f921\"]]}],\"mesh3d\":[{\"type\":\"mesh3d\",\"colorbar\":{\"outlinewidth\":0,\"ticks\":\"\"}}],\"scatter\":[{\"fillpattern\":{\"fillmode\":\"overlay\",\"size\":10,\"solidity\":0.2},\"type\":\"scatter\"}],\"parcoords\":[{\"type\":\"parcoords\",\"line\":{\"colorbar\":{\"outlinewidth\":0,\"ticks\":\"\"}}}],\"scatterpolargl\":[{\"type\":\"scatterpolargl\",\"marker\":{\"colorbar\":{\"outlinewidth\":0,\"ticks\":\"\"}}}],\"bar\":[{\"error_x\":{\"color\":\"#2a3f5f\"},\"error_y\":{\"color\":\"#2a3f5f\"},\"marker\":{\"line\":{\"color\":\"#E5ECF6\",\"width\":0.5},\"pattern\":{\"fillmode\":\"overlay\",\"size\":10,\"solidity\":0.2}},\"type\":\"bar\"}],\"scattergeo\":[{\"type\":\"scattergeo\",\"marker\":{\"colorbar\":{\"outlinewidth\":0,\"ticks\":\"\"}}}],\"scatterpolar\":[{\"type\":\"scatterpolar\",\"marker\":{\"colorbar\":{\"outlinewidth\":0,\"ticks\":\"\"}}}],\"histogram\":[{\"marker\":{\"pattern\":{\"fillmode\":\"overlay\",\"size\":10,\"solidity\":0.2}},\"type\":\"histogram\"}],\"scattergl\":[{\"type\":\"scattergl\",\"marker\":{\"colorbar\":{\"outlinewidth\":0,\"ticks\":\"\"}}}],\"scatter3d\":[{\"type\":\"scatter3d\",\"line\":{\"colorbar\":{\"outlinewidth\":0,\"ticks\":\"\"}},\"marker\":{\"colorbar\":{\"outlinewidth\":0,\"ticks\":\"\"}}}],\"scattermapbox\":[{\"type\":\"scattermapbox\",\"marker\":{\"colorbar\":{\"outlinewidth\":0,\"ticks\":\"\"}}}],\"scatterternary\":[{\"type\":\"scatterternary\",\"marker\":{\"colorbar\":{\"outlinewidth\":0,\"ticks\":\"\"}}}],\"scattercarpet\":[{\"type\":\"scattercarpet\",\"marker\":{\"colorbar\":{\"outlinewidth\":0,\"ticks\":\"\"}}}],\"carpet\":[{\"aaxis\":{\"endlinecolor\":\"#2a3f5f\",\"gridcolor\":\"white\",\"linecolor\":\"white\",\"minorgridcolor\":\"white\",\"startlinecolor\":\"#2a3f5f\"},\"baxis\":{\"endlinecolor\":\"#2a3f5f\",\"gridcolor\":\"white\",\"linecolor\":\"white\",\"minorgridcolor\":\"white\",\"startlinecolor\":\"#2a3f5f\"},\"type\":\"carpet\"}],\"table\":[{\"cells\":{\"fill\":{\"color\":\"#EBF0F8\"},\"line\":{\"color\":\"white\"}},\"header\":{\"fill\":{\"color\":\"#C8D4E3\"},\"line\":{\"color\":\"white\"}},\"type\":\"table\"}],\"barpolar\":[{\"marker\":{\"line\":{\"color\":\"#E5ECF6\",\"width\":0.5},\"pattern\":{\"fillmode\":\"overlay\",\"size\":10,\"solidity\":0.2}},\"type\":\"barpolar\"}],\"pie\":[{\"automargin\":true,\"type\":\"pie\"}]},\"layout\":{\"autotypenumbers\":\"strict\",\"colorway\":[\"#636efa\",\"#EF553B\",\"#00cc96\",\"#ab63fa\",\"#FFA15A\",\"#19d3f3\",\"#FF6692\",\"#B6E880\",\"#FF97FF\",\"#FECB52\"],\"font\":{\"color\":\"#2a3f5f\"},\"hovermode\":\"closest\",\"hoverlabel\":{\"align\":\"left\"},\"paper_bgcolor\":\"white\",\"plot_bgcolor\":\"#E5ECF6\",\"polar\":{\"bgcolor\":\"#E5ECF6\",\"angularaxis\":{\"gridcolor\":\"white\",\"linecolor\":\"white\",\"ticks\":\"\"},\"radialaxis\":{\"gridcolor\":\"white\",\"linecolor\":\"white\",\"ticks\":\"\"}},\"ternary\":{\"bgcolor\":\"#E5ECF6\",\"aaxis\":{\"gridcolor\":\"white\",\"linecolor\":\"white\",\"ticks\":\"\"},\"baxis\":{\"gridcolor\":\"white\",\"linecolor\":\"white\",\"ticks\":\"\"},\"caxis\":{\"gridcolor\":\"white\",\"linecolor\":\"white\",\"ticks\":\"\"}},\"coloraxis\":{\"colorbar\":{\"outlinewidth\":0,\"ticks\":\"\"}},\"colorscale\":{\"sequential\":[[0.0,\"#0d0887\"],[0.1111111111111111,\"#46039f\"],[0.2222222222222222,\"#7201a8\"],[0.3333333333333333,\"#9c179e\"],[0.4444444444444444,\"#bd3786\"],[0.5555555555555556,\"#d8576b\"],[0.6666666666666666,\"#ed7953\"],[0.7777777777777778,\"#fb9f3a\"],[0.8888888888888888,\"#fdca26\"],[1.0,\"#f0f921\"]],\"sequentialminus\":[[0.0,\"#0d0887\"],[0.1111111111111111,\"#46039f\"],[0.2222222222222222,\"#7201a8\"],[0.3333333333333333,\"#9c179e\"],[0.4444444444444444,\"#bd3786\"],[0.5555555555555556,\"#d8576b\"],[0.6666666666666666,\"#ed7953\"],[0.7777777777777778,\"#fb9f3a\"],[0.8888888888888888,\"#fdca26\"],[1.0,\"#f0f921\"]],\"diverging\":[[0,\"#8e0152\"],[0.1,\"#c51b7d\"],[0.2,\"#de77ae\"],[0.3,\"#f1b6da\"],[0.4,\"#fde0ef\"],[0.5,\"#f7f7f7\"],[0.6,\"#e6f5d0\"],[0.7,\"#b8e186\"],[0.8,\"#7fbc41\"],[0.9,\"#4d9221\"],[1,\"#276419\"]]},\"xaxis\":{\"gridcolor\":\"white\",\"linecolor\":\"white\",\"ticks\":\"\",\"title\":{\"standoff\":15},\"zerolinecolor\":\"white\",\"automargin\":true,\"zerolinewidth\":2},\"yaxis\":{\"gridcolor\":\"white\",\"linecolor\":\"white\",\"ticks\":\"\",\"title\":{\"standoff\":15},\"zerolinecolor\":\"white\",\"automargin\":true,\"zerolinewidth\":2},\"scene\":{\"xaxis\":{\"backgroundcolor\":\"#E5ECF6\",\"gridcolor\":\"white\",\"linecolor\":\"white\",\"showbackground\":true,\"ticks\":\"\",\"zerolinecolor\":\"white\",\"gridwidth\":2},\"yaxis\":{\"backgroundcolor\":\"#E5ECF6\",\"gridcolor\":\"white\",\"linecolor\":\"white\",\"showbackground\":true,\"ticks\":\"\",\"zerolinecolor\":\"white\",\"gridwidth\":2},\"zaxis\":{\"backgroundcolor\":\"#E5ECF6\",\"gridcolor\":\"white\",\"linecolor\":\"white\",\"showbackground\":true,\"ticks\":\"\",\"zerolinecolor\":\"white\",\"gridwidth\":2}},\"shapedefaults\":{\"line\":{\"color\":\"#2a3f5f\"}},\"annotationdefaults\":{\"arrowcolor\":\"#2a3f5f\",\"arrowhead\":0,\"arrowwidth\":1},\"geo\":{\"bgcolor\":\"white\",\"landcolor\":\"#E5ECF6\",\"subunitcolor\":\"white\",\"showland\":true,\"showlakes\":true,\"lakecolor\":\"white\"},\"title\":{\"x\":0.05},\"mapbox\":{\"style\":\"light\"}}},\"coloraxis\":{\"colorbar\":{\"title\":{\"text\":\"Performance weighted mean\"}},\"colorscale\":[[0,\"#d91c29\"],[0.01,\"#F76923\"],[0.3,\"#20aa50\"],[0.8,\"#20aa50\"],[1,\"#0000FF\"]],\"cmin\":50,\"cmax\":100,\"reversescale\":false},\"legend\":{\"tracegroupgap\":0},\"title\":{\"text\":\"Weighted mean performance, per context key combination\"}},                        {\"responsive\": true}                    ).then(function(){\n",
       "                            \n",
       "var gd = document.getElementById('d86f3bdb-fb5e-4d43-a81e-cad23513ac46');\n",
       "var x = new MutationObserver(function (mutations, observer) {{\n",
       "        var display = window.getComputedStyle(gd).display;\n",
       "        if (!display || display === 'none') {{\n",
       "            console.log([gd, 'removed!']);\n",
       "            Plotly.purge(gd);\n",
       "            observer.disconnect();\n",
       "        }}\n",
       "}});\n",
       "\n",
       "// Listen for the removal of the full notebook cells\n",
       "var notebookContainer = gd.closest('#notebook-container');\n",
       "if (notebookContainer) {{\n",
       "    x.observe(notebookContainer, {childList: true});\n",
       "}}\n",
       "\n",
       "// Listen for the clearing of the current output cell\n",
       "var outputEl = gd.closest('.output');\n",
       "if (outputEl) {{\n",
       "    x.observe(outputEl, {childList: true});\n",
       "}}\n",
       "\n",
       "                        })                };                });            </script>        </div>"
      ]
     },
     "metadata": {},
     "output_type": "display_data"
    }
   ],
   "source": [
    "data.plotTreeMap()\n"
   ]
  }
 ],
 "metadata": {
  "interpreter": {
   "hash": "aee8b7b246df8f9039afb4144a1f6fd8d2ca17a180786b69acc140d282b71a49"
  },
  "kernelspec": {
   "display_name": "Python 3.10.2 64-bit",
   "language": "python",
   "name": "python3"
  },
  "language_info": {
   "codemirror_mode": {
    "name": "ipython",
    "version": 3
   },
   "file_extension": ".py",
   "mimetype": "text/x-python",
   "name": "python",
   "nbconvert_exporter": "python",
   "pygments_lexer": "ipython3",
   "version": "3.11.2"
  }
 },
 "nbformat": 4,
 "nbformat_minor": 2
}
