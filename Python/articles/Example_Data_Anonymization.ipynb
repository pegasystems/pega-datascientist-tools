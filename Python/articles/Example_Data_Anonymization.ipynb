{
 "cells": [
  {
   "attachments": {},
   "cell_type": "markdown",
   "metadata": {},
   "source": [
    "# Example data anonymization\n",
    "\n",
    "In Pega CDH 8.5 and up, it's now possible to record the historical data as seen by the Adaptive Models. See [this academy challenge](https://academy.pega.com/challenge/exporting-historical-data/v4) for reference. This historical data can be further used to experiment with offline models, but also to fine-tune the OOTB Gradient Boosting model. However, sharing this information with Pega can be sensitive as it contains raw predictor data. \n",
    "\n",
    "To this end, we provide a simple and transparent script to fully anonimize this dataset.\n",
    "\n",
    "The DataAnonymization script is now part of pdstools, and you can import it directly as such."
   ]
  },
  {
   "cell_type": "code",
   "execution_count": 1,
   "metadata": {
    "execution": {
     "iopub.execute_input": "2023-03-24T17:25:27.948944Z",
     "iopub.status.busy": "2023-03-24T17:25:27.948358Z",
     "iopub.status.idle": "2023-03-24T17:25:27.955600Z",
     "shell.execute_reply": "2023-03-24T17:25:27.954990Z"
    },
    "nbsphinx": "hidden"
   },
   "outputs": [],
   "source": [
    "# These lines are only for rendering in the docs, and are hidden through Jupyter tags\n",
    "# Do not run if you're running the notebook seperately\n",
    "\n",
    "import sys\n",
    "sys.path.append('../../../')"
   ]
  },
  {
   "cell_type": "code",
   "execution_count": 2,
   "metadata": {
    "execution": {
     "iopub.execute_input": "2023-03-24T17:25:27.958648Z",
     "iopub.status.busy": "2023-03-24T17:25:27.958094Z",
     "iopub.status.idle": "2023-03-24T17:25:28.960065Z",
     "shell.execute_reply": "2023-03-24T17:25:28.959372Z"
    }
   },
   "outputs": [
    {
     "name": "stderr",
     "output_type": "stream",
     "text": [
      "/opt/hostedtoolcache/Python/3.11.2/x64/lib/python3.11/site-packages/tqdm/auto.py:21: TqdmWarning: IProgress not found. Please update jupyter and ipywidgets. See https://ipywidgets.readthedocs.io/en/stable/user_install.html\n",
      "  from .autonotebook import tqdm as notebook_tqdm\n"
     ]
    }
   ],
   "source": [
    "from pdstools import ADMDatamart\n",
    "from pdstools import Config, DataAnonymization\n",
    "import polars as pl"
   ]
  },
  {
   "attachments": {},
   "cell_type": "markdown",
   "metadata": {},
   "source": [
    "## Input data\n",
    "\n",
    "To demonstrate this process, we're going to anonymise this toy example dataframe:"
   ]
  },
  {
   "cell_type": "code",
   "execution_count": 3,
   "metadata": {
    "execution": {
     "iopub.execute_input": "2023-03-24T17:25:28.963399Z",
     "iopub.status.busy": "2023-03-24T17:25:28.962802Z",
     "iopub.status.idle": "2023-03-24T17:25:28.975483Z",
     "shell.execute_reply": "2023-03-24T17:25:28.974768Z"
    }
   },
   "outputs": [
    {
     "data": {
      "text/html": [
       "<div><style>\n",
       ".dataframe > thead > tr > th,\n",
       ".dataframe > tbody > tr > td {\n",
       "  text-align: right;\n",
       "}\n",
       "</style>\n",
       "<small>shape: (7, 6)</small><table border=\"1\" class=\"dataframe\"><thead><tr><th>Context_Name</th><th>Customer_MaritalStatus</th><th>Customer_CLV</th><th>Customer_City</th><th>IH_Web_Inbound_Accepted_pxLastGroupID</th><th>Decision_Outcome</th></tr><tr><td>str</td><td>str</td><td>i64</td><td>str</td><td>str</td><td>str</td></tr></thead><tbody><tr><td>&quot;FirstMortgage3…</td><td>&quot;Married&quot;</td><td>1460</td><td>&quot;Port Raoul&quot;</td><td>&quot;Account&quot;</td><td>&quot;Rejected&quot;</td></tr><tr><td>&quot;FirstMortgage3…</td><td>&quot;Unknown&quot;</td><td>669</td><td>&quot;Laurianneshire…</td><td>&quot;AutoLoans&quot;</td><td>&quot;Accepted&quot;</td></tr><tr><td>&quot;MoneyMarketSav…</td><td>&quot;No Resp+&quot;</td><td>1174</td><td>&quot;Jacobshaven&quot;</td><td>&quot;Account&quot;</td><td>&quot;Rejected&quot;</td></tr><tr><td>&quot;BasicChecking&quot;</td><td>&quot;Unknown&quot;</td><td>1476</td><td>&quot;Lindton&quot;</td><td>&quot;Account&quot;</td><td>&quot;Rejected&quot;</td></tr><tr><td>&quot;BasicChecking&quot;</td><td>&quot;Married&quot;</td><td>1211</td><td>&quot;South Jimmiesh…</td><td>&quot;DepositAccount…</td><td>&quot;Accepted&quot;</td></tr><tr><td>&quot;UPlusFinPerson…</td><td>&quot;No Resp+&quot;</td><td>533</td><td>&quot;Bergeville&quot;</td><td>null</td><td>&quot;Rejected&quot;</td></tr><tr><td>&quot;BasicChecking&quot;</td><td>&quot;No Resp+&quot;</td><td>555</td><td>&quot;Willyville&quot;</td><td>&quot;DepositAccount…</td><td>&quot;Rejected&quot;</td></tr></tbody></table></div>"
      ],
      "text/plain": [
       "shape: (7, 6)\n",
       "┌────────────────┬────────────────┬──────────────┬────────────────┬────────────────┬───────────────┐\n",
       "│ Context_Name   ┆ Customer_Marit ┆ Customer_CLV ┆ Customer_City  ┆ IH_Web_Inbound ┆ Decision_Outc │\n",
       "│ ---            ┆ alStatus       ┆ ---          ┆ ---            ┆ _Accepted_pxLa ┆ ome           │\n",
       "│ str            ┆ ---            ┆ i64          ┆ str            ┆ stGr…          ┆ ---           │\n",
       "│                ┆ str            ┆              ┆                ┆ ---            ┆ str           │\n",
       "│                ┆                ┆              ┆                ┆ str            ┆               │\n",
       "╞════════════════╪════════════════╪══════════════╪════════════════╪════════════════╪═══════════════╡\n",
       "│ FirstMortgage3 ┆ Married        ┆ 1460         ┆ Port Raoul     ┆ Account        ┆ Rejected      │\n",
       "│ 0yr            ┆                ┆              ┆                ┆                ┆               │\n",
       "│ FirstMortgage3 ┆ Unknown        ┆ 669          ┆ Laurianneshire ┆ AutoLoans      ┆ Accepted      │\n",
       "│ 0yr            ┆                ┆              ┆                ┆                ┆               │\n",
       "│ MoneyMarketSav ┆ No Resp+       ┆ 1174         ┆ Jacobshaven    ┆ Account        ┆ Rejected      │\n",
       "│ ingsAccount    ┆                ┆              ┆                ┆                ┆               │\n",
       "│ BasicChecking  ┆ Unknown        ┆ 1476         ┆ Lindton        ┆ Account        ┆ Rejected      │\n",
       "│ BasicChecking  ┆ Married        ┆ 1211         ┆ South          ┆ DepositAccount ┆ Accepted      │\n",
       "│                ┆                ┆              ┆ Jimmieshire    ┆ s              ┆               │\n",
       "│ UPlusFinPerson ┆ No Resp+       ┆ 533          ┆ Bergeville     ┆ null           ┆ Rejected      │\n",
       "│ al             ┆                ┆              ┆                ┆                ┆               │\n",
       "│ BasicChecking  ┆ No Resp+       ┆ 555          ┆ Willyville     ┆ DepositAccount ┆ Rejected      │\n",
       "│                ┆                ┆              ┆                ┆ s              ┆               │\n",
       "└────────────────┴────────────────┴──────────────┴────────────────┴────────────────┴───────────────┘"
      ]
     },
     "execution_count": 3,
     "metadata": {},
     "output_type": "execute_result"
    }
   ],
   "source": [
    "pl.read_ndjson('../../../../data/SampleHDS.json')"
   ]
  },
  {
   "attachments": {},
   "cell_type": "markdown",
   "metadata": {},
   "source": [
    "As you can see, this dataset consists of regular predictors, IH predictors, context keys and the outcome column. Additionally, some columns are numeric, others are strings. Let's first initialize the DataAnonymization class."
   ]
  },
  {
   "cell_type": "code",
   "execution_count": 4,
   "metadata": {
    "execution": {
     "iopub.execute_input": "2023-03-24T17:25:28.978376Z",
     "iopub.status.busy": "2023-03-24T17:25:28.977921Z",
     "iopub.status.idle": "2023-03-24T17:25:28.984321Z",
     "shell.execute_reply": "2023-03-24T17:25:28.983749Z"
    }
   },
   "outputs": [],
   "source": [
    "anon = DataAnonymization(hds_folder='../../../../data/')"
   ]
  },
  {
   "attachments": {},
   "cell_type": "markdown",
   "metadata": {},
   "source": [
    "By default, the class applies a set of anonymisation techniques:\n",
    "- Column names are remapped to a non-descriptive name\n",
    "- Categorical values are hashed with a random seed\n",
    "- Numerical values are normalized between 0 and 1\n",
    "- Outcomes are mapped to a binary outcome.\n",
    "\n",
    "To apply these techniques, simply call `.process()`:"
   ]
  },
  {
   "cell_type": "code",
   "execution_count": 5,
   "metadata": {
    "execution": {
     "iopub.execute_input": "2023-03-24T17:25:28.987110Z",
     "iopub.status.busy": "2023-03-24T17:25:28.986878Z",
     "iopub.status.idle": "2023-03-24T17:25:28.994713Z",
     "shell.execute_reply": "2023-03-24T17:25:28.994150Z"
    }
   },
   "outputs": [
    {
     "data": {
      "text/html": [
       "<div><style>\n",
       ".dataframe > thead > tr > th,\n",
       ".dataframe > tbody > tr > td {\n",
       "  text-align: right;\n",
       "}\n",
       "</style>\n",
       "<small>shape: (7, 6)</small><table border=\"1\" class=\"dataframe\"><thead><tr><th>PREDICTOR_0</th><th>PREDICTOR_1</th><th>PREDICTOR_2</th><th>CK_PREDICTOR_0</th><th>IH_PREDICTOR_0</th><th>OUTCOME</th></tr><tr><td>str</td><td>f64</td><td>str</td><td>str</td><td>str</td><td>bool</td></tr></thead><tbody><tr><td>&quot;23716298007734…</td><td>0.983033</td><td>&quot;10351438876947…</td><td>&quot;17925016031664…</td><td>&quot;54819093375454…</td><td>false</td></tr><tr><td>&quot;58335094937080…</td><td>0.144221</td><td>&quot;87523394113139…</td><td>&quot;17925016031664…</td><td>&quot;56575436797742…</td><td>true</td></tr><tr><td>&quot;82891935285723…</td><td>0.679745</td><td>&quot;11497268930446…</td><td>&quot;17584060957230…</td><td>&quot;54819093375454…</td><td>false</td></tr><tr><td>&quot;76635517368914…</td><td>1.0</td><td>&quot;87523394113139…</td><td>&quot;10616365382318…</td><td>&quot;54819093375454…</td><td>false</td></tr><tr><td>&quot;96034035185335…</td><td>0.718982</td><td>&quot;10351438876947…</td><td>&quot;10616365382318…</td><td>&quot;51444888907670…</td><td>true</td></tr><tr><td>&quot;35479062579420…</td><td>0.0</td><td>&quot;11497268930446…</td><td>&quot;10922250202202…</td><td>null</td><td>false</td></tr><tr><td>&quot;13951124795423…</td><td>0.02333</td><td>&quot;11497268930446…</td><td>&quot;10616365382318…</td><td>&quot;51444888907670…</td><td>false</td></tr></tbody></table></div>"
      ],
      "text/plain": [
       "shape: (7, 6)\n",
       "┌──────────────────┬─────────────┬──────────────────┬──────────────────┬─────────────────┬─────────┐\n",
       "│ PREDICTOR_0      ┆ PREDICTOR_1 ┆ PREDICTOR_2      ┆ CK_PREDICTOR_0   ┆ IH_PREDICTOR_0  ┆ OUTCOME │\n",
       "│ ---              ┆ ---         ┆ ---              ┆ ---              ┆ ---             ┆ ---     │\n",
       "│ str              ┆ f64         ┆ str              ┆ str              ┆ str             ┆ bool    │\n",
       "╞══════════════════╪═════════════╪══════════════════╪══════════════════╪═════════════════╪═════════╡\n",
       "│ 2371629800773493 ┆ 0.983033    ┆ 1035143887694749 ┆ 1792501603166480 ┆ 548190933754547 ┆ false   │\n",
       "│ 794              ┆             ┆ 9169             ┆ 370              ┆ 8419            ┆         │\n",
       "│ 5833509493708080 ┆ 0.144221    ┆ 8752339411313915 ┆ 1792501603166480 ┆ 565754367977423 ┆ true    │\n",
       "│ 753              ┆             ┆ 618              ┆ 370              ┆ 1321            ┆         │\n",
       "│ 8289193528572396 ┆ 0.679745    ┆ 1149726893044678 ┆ 1758406095723033 ┆ 548190933754547 ┆ false   │\n",
       "│ 789              ┆             ┆ 9427             ┆ 4776             ┆ 8419            ┆         │\n",
       "│ 7663551736891421 ┆ 1.0         ┆ 8752339411313915 ┆ 1061636538231857 ┆ 548190933754547 ┆ false   │\n",
       "│ 821              ┆             ┆ 618              ┆ 5624             ┆ 8419            ┆         │\n",
       "│ 9603403518533525 ┆ 0.718982    ┆ 1035143887694749 ┆ 1061636538231857 ┆ 514448889076707 ┆ true    │\n",
       "│ 041              ┆             ┆ 9169             ┆ 5624             ┆ 4554            ┆         │\n",
       "│ 3547906257942035 ┆ 0.0         ┆ 1149726893044678 ┆ 1092225020220287 ┆ null            ┆ false   │\n",
       "│ 421              ┆             ┆ 9427             ┆ 6846             ┆                 ┆         │\n",
       "│ 1395112479542336 ┆ 0.02333     ┆ 1149726893044678 ┆ 1061636538231857 ┆ 514448889076707 ┆ false   │\n",
       "│ 5945             ┆             ┆ 9427             ┆ 5624             ┆ 4554            ┆         │\n",
       "└──────────────────┴─────────────┴──────────────────┴──────────────────┴─────────────────┴─────────┘"
      ]
     },
     "execution_count": 5,
     "metadata": {},
     "output_type": "execute_result"
    }
   ],
   "source": [
    "anon.process()"
   ]
  },
  {
   "attachments": {},
   "cell_type": "markdown",
   "metadata": {},
   "source": [
    "To trace back the columns to their original names, the class also contains a mapping, which does not have to be provided."
   ]
  },
  {
   "cell_type": "code",
   "execution_count": 6,
   "metadata": {
    "execution": {
     "iopub.execute_input": "2023-03-24T17:25:28.997457Z",
     "iopub.status.busy": "2023-03-24T17:25:28.997119Z",
     "iopub.status.idle": "2023-03-24T17:25:29.002891Z",
     "shell.execute_reply": "2023-03-24T17:25:29.002304Z"
    }
   },
   "outputs": [
    {
     "data": {
      "text/plain": [
       "{'Customer_City': 'PREDICTOR_0',\n",
       " 'Customer_CLV': 'PREDICTOR_1',\n",
       " 'Customer_MaritalStatus': 'PREDICTOR_2',\n",
       " 'Context_Name': 'CK_PREDICTOR_0',\n",
       " 'IH_Web_Inbound_Accepted_pxLastGroupID': 'IH_PREDICTOR_0',\n",
       " 'Decision_Outcome': 'OUTCOME'}"
      ]
     },
     "execution_count": 6,
     "metadata": {},
     "output_type": "execute_result"
    }
   ],
   "source": [
    "anon.column_mapping"
   ]
  },
  {
   "attachments": {},
   "cell_type": "markdown",
   "metadata": {},
   "source": [
    "## Configs\n",
    "\n",
    "Each capability can optionally be turned off - see below for the full list of config options, and refer to the API reference for the full description."
   ]
  },
  {
   "cell_type": "code",
   "execution_count": 7,
   "metadata": {
    "execution": {
     "iopub.execute_input": "2023-03-24T17:25:29.005457Z",
     "iopub.status.busy": "2023-03-24T17:25:29.005148Z",
     "iopub.status.idle": "2023-03-24T17:25:29.013483Z",
     "shell.execute_reply": "2023-03-24T17:25:29.012924Z"
    }
   },
   "outputs": [
    {
     "data": {
      "text/plain": [
       "{'config_file': None,\n",
       " 'hds_folder': '.',\n",
       " 'use_datamart': False,\n",
       " 'datamart_folder': 'datamart',\n",
       " 'output_format': 'ndjson',\n",
       " 'output_folder': 'output',\n",
       " 'mapping_file': 'mapping.map',\n",
       " 'mask_predictor_names': True,\n",
       " 'mask_context_key_names': True,\n",
       " 'mask_ih_names': True,\n",
       " 'mask_outcome_name': True,\n",
       " 'mask_predictor_values': True,\n",
       " 'mask_context_key_values': True,\n",
       " 'mask_ih_values': True,\n",
       " 'mask_outcome_values': True,\n",
       " 'context_key_label': 'Context_*',\n",
       " 'ih_label': 'IH_*',\n",
       " 'outcome_column': 'Decision_Outcome',\n",
       " 'positive_outcomes': ['Accepted', 'Clicked'],\n",
       " 'negative_outcomes': ['Rejected', 'Impression'],\n",
       " 'special_predictors': ['Decision_DecisionTime', 'Decision_OutcomeTime']}"
      ]
     },
     "execution_count": 7,
     "metadata": {},
     "output_type": "execute_result"
    }
   ],
   "source": [
    "dict(zip(Config.__init__.__code__.co_varnames[1:], Config.__init__.__defaults__))"
   ]
  },
  {
   "attachments": {},
   "cell_type": "markdown",
   "metadata": {},
   "source": [
    "It's easy to change these parameters by just passing the keyword arguments. In the following example, we\n",
    "- Keep the IH predictor names\n",
    "- Keep the outcome values\n",
    "- Keep the context key values\n",
    "- Keep the context key predictor names"
   ]
  },
  {
   "cell_type": "code",
   "execution_count": 8,
   "metadata": {
    "execution": {
     "iopub.execute_input": "2023-03-24T17:25:29.016357Z",
     "iopub.status.busy": "2023-03-24T17:25:29.016130Z",
     "iopub.status.idle": "2023-03-24T17:25:29.026018Z",
     "shell.execute_reply": "2023-03-24T17:25:29.025441Z"
    }
   },
   "outputs": [
    {
     "data": {
      "text/html": [
       "<div><style>\n",
       ".dataframe > thead > tr > th,\n",
       ".dataframe > tbody > tr > td {\n",
       "  text-align: right;\n",
       "}\n",
       "</style>\n",
       "<small>shape: (7, 6)</small><table border=\"1\" class=\"dataframe\"><thead><tr><th>PREDICTOR_0</th><th>PREDICTOR_1</th><th>PREDICTOR_2</th><th>Context_Name</th><th>IH_Web_Inbound_Accepted_pxLastGroupID</th><th>OUTCOME</th></tr><tr><td>str</td><td>f64</td><td>str</td><td>str</td><td>str</td><td>str</td></tr></thead><tbody><tr><td>&quot;23716298007734…</td><td>0.983033</td><td>&quot;10351438876947…</td><td>&quot;FirstMortgage3…</td><td>&quot;54819093375454…</td><td>&quot;Rejected&quot;</td></tr><tr><td>&quot;58335094937080…</td><td>0.144221</td><td>&quot;87523394113139…</td><td>&quot;FirstMortgage3…</td><td>&quot;56575436797742…</td><td>&quot;Accepted&quot;</td></tr><tr><td>&quot;82891935285723…</td><td>0.679745</td><td>&quot;11497268930446…</td><td>&quot;MoneyMarketSav…</td><td>&quot;54819093375454…</td><td>&quot;Rejected&quot;</td></tr><tr><td>&quot;76635517368914…</td><td>1.0</td><td>&quot;87523394113139…</td><td>&quot;BasicChecking&quot;</td><td>&quot;54819093375454…</td><td>&quot;Rejected&quot;</td></tr><tr><td>&quot;96034035185335…</td><td>0.718982</td><td>&quot;10351438876947…</td><td>&quot;BasicChecking&quot;</td><td>&quot;51444888907670…</td><td>&quot;Accepted&quot;</td></tr><tr><td>&quot;35479062579420…</td><td>0.0</td><td>&quot;11497268930446…</td><td>&quot;UPlusFinPerson…</td><td>null</td><td>&quot;Rejected&quot;</td></tr><tr><td>&quot;13951124795423…</td><td>0.02333</td><td>&quot;11497268930446…</td><td>&quot;BasicChecking&quot;</td><td>&quot;51444888907670…</td><td>&quot;Rejected&quot;</td></tr></tbody></table></div>"
      ],
      "text/plain": [
       "shape: (7, 6)\n",
       "┌──────────────────┬─────────────┬──────────────────┬─────────────────┬─────────────────┬──────────┐\n",
       "│ PREDICTOR_0      ┆ PREDICTOR_1 ┆ PREDICTOR_2      ┆ Context_Name    ┆ IH_Web_Inbound_ ┆ OUTCOME  │\n",
       "│ ---              ┆ ---         ┆ ---              ┆ ---             ┆ Accepted_pxLast ┆ ---      │\n",
       "│ str              ┆ f64         ┆ str              ┆ str             ┆ Gr…             ┆ str      │\n",
       "│                  ┆             ┆                  ┆                 ┆ ---             ┆          │\n",
       "│                  ┆             ┆                  ┆                 ┆ str             ┆          │\n",
       "╞══════════════════╪═════════════╪══════════════════╪═════════════════╪═════════════════╪══════════╡\n",
       "│ 2371629800773493 ┆ 0.983033    ┆ 1035143887694749 ┆ FirstMortgage30 ┆ 548190933754547 ┆ Rejected │\n",
       "│ 794              ┆             ┆ 9169             ┆ yr              ┆ 8419            ┆          │\n",
       "│ 5833509493708080 ┆ 0.144221    ┆ 8752339411313915 ┆ FirstMortgage30 ┆ 565754367977423 ┆ Accepted │\n",
       "│ 753              ┆             ┆ 618              ┆ yr              ┆ 1321            ┆          │\n",
       "│ 8289193528572396 ┆ 0.679745    ┆ 1149726893044678 ┆ MoneyMarketSavi ┆ 548190933754547 ┆ Rejected │\n",
       "│ 789              ┆             ┆ 9427             ┆ ngsAccount      ┆ 8419            ┆          │\n",
       "│ 7663551736891421 ┆ 1.0         ┆ 8752339411313915 ┆ BasicChecking   ┆ 548190933754547 ┆ Rejected │\n",
       "│ 821              ┆             ┆ 618              ┆                 ┆ 8419            ┆          │\n",
       "│ 9603403518533525 ┆ 0.718982    ┆ 1035143887694749 ┆ BasicChecking   ┆ 514448889076707 ┆ Accepted │\n",
       "│ 041              ┆             ┆ 9169             ┆                 ┆ 4554            ┆          │\n",
       "│ 3547906257942035 ┆ 0.0         ┆ 1149726893044678 ┆ UPlusFinPersona ┆ null            ┆ Rejected │\n",
       "│ 421              ┆             ┆ 9427             ┆ l               ┆                 ┆          │\n",
       "│ 1395112479542336 ┆ 0.02333     ┆ 1149726893044678 ┆ BasicChecking   ┆ 514448889076707 ┆ Rejected │\n",
       "│ 5945             ┆             ┆ 9427             ┆                 ┆ 4554            ┆          │\n",
       "└──────────────────┴─────────────┴──────────────────┴─────────────────┴─────────────────┴──────────┘"
      ]
     },
     "execution_count": 8,
     "metadata": {},
     "output_type": "execute_result"
    }
   ],
   "source": [
    "anon = DataAnonymization(\n",
    "    hds_folder='../../../../data/',\n",
    "    mask_ih_names=False,\n",
    "    mask_outcome_values=False,\n",
    "    mask_context_key_values=False,\n",
    "    mask_context_key_names=False,\n",
    ")\n",
    "anon.process()\n"
   ]
  },
  {
   "attachments": {},
   "cell_type": "markdown",
   "metadata": {},
   "source": [
    "The configs can also be written and read as such:"
   ]
  },
  {
   "cell_type": "code",
   "execution_count": 9,
   "metadata": {
    "execution": {
     "iopub.execute_input": "2023-03-24T17:25:29.028968Z",
     "iopub.status.busy": "2023-03-24T17:25:29.028515Z",
     "iopub.status.idle": "2023-03-24T17:25:29.032586Z",
     "shell.execute_reply": "2023-03-24T17:25:29.032009Z"
    }
   },
   "outputs": [],
   "source": [
    "anon.config.save_to_config_file('config.json')"
   ]
  },
  {
   "cell_type": "code",
   "execution_count": 10,
   "metadata": {
    "execution": {
     "iopub.execute_input": "2023-03-24T17:25:29.035191Z",
     "iopub.status.busy": "2023-03-24T17:25:29.034705Z",
     "iopub.status.idle": "2023-03-24T17:25:29.044082Z",
     "shell.execute_reply": "2023-03-24T17:25:29.043525Z"
    }
   },
   "outputs": [
    {
     "data": {
      "text/html": [
       "<div><style>\n",
       ".dataframe > thead > tr > th,\n",
       ".dataframe > tbody > tr > td {\n",
       "  text-align: right;\n",
       "}\n",
       "</style>\n",
       "<small>shape: (7, 6)</small><table border=\"1\" class=\"dataframe\"><thead><tr><th>PREDICTOR_0</th><th>PREDICTOR_1</th><th>PREDICTOR_2</th><th>Context_Name</th><th>IH_Web_Inbound_Accepted_pxLastGroupID</th><th>OUTCOME</th></tr><tr><td>str</td><td>f64</td><td>str</td><td>str</td><td>str</td><td>str</td></tr></thead><tbody><tr><td>&quot;23716298007734…</td><td>0.983033</td><td>&quot;10351438876947…</td><td>&quot;FirstMortgage3…</td><td>&quot;54819093375454…</td><td>&quot;Rejected&quot;</td></tr><tr><td>&quot;58335094937080…</td><td>0.144221</td><td>&quot;87523394113139…</td><td>&quot;FirstMortgage3…</td><td>&quot;56575436797742…</td><td>&quot;Accepted&quot;</td></tr><tr><td>&quot;82891935285723…</td><td>0.679745</td><td>&quot;11497268930446…</td><td>&quot;MoneyMarketSav…</td><td>&quot;54819093375454…</td><td>&quot;Rejected&quot;</td></tr><tr><td>&quot;76635517368914…</td><td>1.0</td><td>&quot;87523394113139…</td><td>&quot;BasicChecking&quot;</td><td>&quot;54819093375454…</td><td>&quot;Rejected&quot;</td></tr><tr><td>&quot;96034035185335…</td><td>0.718982</td><td>&quot;10351438876947…</td><td>&quot;BasicChecking&quot;</td><td>&quot;51444888907670…</td><td>&quot;Accepted&quot;</td></tr><tr><td>&quot;35479062579420…</td><td>0.0</td><td>&quot;11497268930446…</td><td>&quot;UPlusFinPerson…</td><td>null</td><td>&quot;Rejected&quot;</td></tr><tr><td>&quot;13951124795423…</td><td>0.02333</td><td>&quot;11497268930446…</td><td>&quot;BasicChecking&quot;</td><td>&quot;51444888907670…</td><td>&quot;Rejected&quot;</td></tr></tbody></table></div>"
      ],
      "text/plain": [
       "shape: (7, 6)\n",
       "┌──────────────────┬─────────────┬──────────────────┬─────────────────┬─────────────────┬──────────┐\n",
       "│ PREDICTOR_0      ┆ PREDICTOR_1 ┆ PREDICTOR_2      ┆ Context_Name    ┆ IH_Web_Inbound_ ┆ OUTCOME  │\n",
       "│ ---              ┆ ---         ┆ ---              ┆ ---             ┆ Accepted_pxLast ┆ ---      │\n",
       "│ str              ┆ f64         ┆ str              ┆ str             ┆ Gr…             ┆ str      │\n",
       "│                  ┆             ┆                  ┆                 ┆ ---             ┆          │\n",
       "│                  ┆             ┆                  ┆                 ┆ str             ┆          │\n",
       "╞══════════════════╪═════════════╪══════════════════╪═════════════════╪═════════════════╪══════════╡\n",
       "│ 2371629800773493 ┆ 0.983033    ┆ 1035143887694749 ┆ FirstMortgage30 ┆ 548190933754547 ┆ Rejected │\n",
       "│ 794              ┆             ┆ 9169             ┆ yr              ┆ 8419            ┆          │\n",
       "│ 5833509493708080 ┆ 0.144221    ┆ 8752339411313915 ┆ FirstMortgage30 ┆ 565754367977423 ┆ Accepted │\n",
       "│ 753              ┆             ┆ 618              ┆ yr              ┆ 1321            ┆          │\n",
       "│ 8289193528572396 ┆ 0.679745    ┆ 1149726893044678 ┆ MoneyMarketSavi ┆ 548190933754547 ┆ Rejected │\n",
       "│ 789              ┆             ┆ 9427             ┆ ngsAccount      ┆ 8419            ┆          │\n",
       "│ 7663551736891421 ┆ 1.0         ┆ 8752339411313915 ┆ BasicChecking   ┆ 548190933754547 ┆ Rejected │\n",
       "│ 821              ┆             ┆ 618              ┆                 ┆ 8419            ┆          │\n",
       "│ 9603403518533525 ┆ 0.718982    ┆ 1035143887694749 ┆ BasicChecking   ┆ 514448889076707 ┆ Accepted │\n",
       "│ 041              ┆             ┆ 9169             ┆                 ┆ 4554            ┆          │\n",
       "│ 3547906257942035 ┆ 0.0         ┆ 1149726893044678 ┆ UPlusFinPersona ┆ null            ┆ Rejected │\n",
       "│ 421              ┆             ┆ 9427             ┆ l               ┆                 ┆          │\n",
       "│ 1395112479542336 ┆ 0.02333     ┆ 1149726893044678 ┆ BasicChecking   ┆ 514448889076707 ┆ Rejected │\n",
       "│ 5945             ┆             ┆ 9427             ┆                 ┆ 4554            ┆          │\n",
       "└──────────────────┴─────────────┴──────────────────┴─────────────────┴─────────────────┴──────────┘"
      ]
     },
     "execution_count": 10,
     "metadata": {},
     "output_type": "execute_result"
    }
   ],
   "source": [
    "anon = DataAnonymization(config=Config(config_file='config.json'))\n",
    "anon.process()"
   ]
  },
  {
   "attachments": {},
   "cell_type": "markdown",
   "metadata": {},
   "source": [
    "## Exporting\n",
    "Two functions export:\n",
    "- `create_mapping_file()` writes the mapping file of the predictor names\n",
    "- `write_to_output()` writes the processed dataframe to disk\n",
    "\n",
    "Write to output accepts the following extensions: `[\"ndjson\", \"parquet\", \"arrow\", \"csv\"]`"
   ]
  },
  {
   "cell_type": "code",
   "execution_count": 11,
   "metadata": {
    "execution": {
     "iopub.execute_input": "2023-03-24T17:25:29.046753Z",
     "iopub.status.busy": "2023-03-24T17:25:29.046298Z",
     "iopub.status.idle": "2023-03-24T17:25:29.051528Z",
     "shell.execute_reply": "2023-03-24T17:25:29.050808Z"
    }
   },
   "outputs": [
    {
     "name": "stdout",
     "output_type": "stream",
     "text": [
      "Customer_City=PREDICTOR_0\n",
      "Customer_CLV=PREDICTOR_1\n",
      "Customer_MaritalStatus=PREDICTOR_2\n",
      "Context_Name=Context_Name\n",
      "IH_Web_Inbound_Accepted_pxLastGroupID=IH_Web_Inbound_Accepted_pxLastGroupID\n",
      "Decision_Outcome=OUTCOME\n",
      "\n"
     ]
    }
   ],
   "source": [
    "anon.create_mapping_file()\n",
    "with open('mapping.map') as f:\n",
    "    print(f.read())"
   ]
  },
  {
   "cell_type": "code",
   "execution_count": 12,
   "metadata": {
    "execution": {
     "iopub.execute_input": "2023-03-24T17:25:29.054302Z",
     "iopub.status.busy": "2023-03-24T17:25:29.053935Z",
     "iopub.status.idle": "2023-03-24T17:25:29.059320Z",
     "shell.execute_reply": "2023-03-24T17:25:29.058521Z"
    }
   },
   "outputs": [],
   "source": [
    "anon.write_to_output(ext='arrow')"
   ]
  },
  {
   "cell_type": "code",
   "execution_count": 13,
   "metadata": {
    "execution": {
     "iopub.execute_input": "2023-03-24T17:25:29.061996Z",
     "iopub.status.busy": "2023-03-24T17:25:29.061718Z",
     "iopub.status.idle": "2023-03-24T17:25:29.068240Z",
     "shell.execute_reply": "2023-03-24T17:25:29.067646Z"
    }
   },
   "outputs": [
    {
     "data": {
      "text/html": [
       "<div><style>\n",
       ".dataframe > thead > tr > th,\n",
       ".dataframe > tbody > tr > td {\n",
       "  text-align: right;\n",
       "}\n",
       "</style>\n",
       "<small>shape: (7, 6)</small><table border=\"1\" class=\"dataframe\"><thead><tr><th>PREDICTOR_0</th><th>PREDICTOR_1</th><th>PREDICTOR_2</th><th>Context_Name</th><th>IH_Web_Inbound_Accepted_pxLastGroupID</th><th>OUTCOME</th></tr><tr><td>str</td><td>f64</td><td>str</td><td>str</td><td>str</td><td>str</td></tr></thead><tbody><tr><td>&quot;23716298007734…</td><td>0.983033</td><td>&quot;10351438876947…</td><td>&quot;FirstMortgage3…</td><td>&quot;54819093375454…</td><td>&quot;Rejected&quot;</td></tr><tr><td>&quot;58335094937080…</td><td>0.144221</td><td>&quot;87523394113139…</td><td>&quot;FirstMortgage3…</td><td>&quot;56575436797742…</td><td>&quot;Accepted&quot;</td></tr><tr><td>&quot;82891935285723…</td><td>0.679745</td><td>&quot;11497268930446…</td><td>&quot;MoneyMarketSav…</td><td>&quot;54819093375454…</td><td>&quot;Rejected&quot;</td></tr><tr><td>&quot;76635517368914…</td><td>1.0</td><td>&quot;87523394113139…</td><td>&quot;BasicChecking&quot;</td><td>&quot;54819093375454…</td><td>&quot;Rejected&quot;</td></tr><tr><td>&quot;96034035185335…</td><td>0.718982</td><td>&quot;10351438876947…</td><td>&quot;BasicChecking&quot;</td><td>&quot;51444888907670…</td><td>&quot;Accepted&quot;</td></tr><tr><td>&quot;35479062579420…</td><td>0.0</td><td>&quot;11497268930446…</td><td>&quot;UPlusFinPerson…</td><td>null</td><td>&quot;Rejected&quot;</td></tr><tr><td>&quot;13951124795423…</td><td>0.02333</td><td>&quot;11497268930446…</td><td>&quot;BasicChecking&quot;</td><td>&quot;51444888907670…</td><td>&quot;Rejected&quot;</td></tr></tbody></table></div>"
      ],
      "text/plain": [
       "shape: (7, 6)\n",
       "┌──────────────────┬─────────────┬──────────────────┬─────────────────┬─────────────────┬──────────┐\n",
       "│ PREDICTOR_0      ┆ PREDICTOR_1 ┆ PREDICTOR_2      ┆ Context_Name    ┆ IH_Web_Inbound_ ┆ OUTCOME  │\n",
       "│ ---              ┆ ---         ┆ ---              ┆ ---             ┆ Accepted_pxLast ┆ ---      │\n",
       "│ str              ┆ f64         ┆ str              ┆ str             ┆ Gr…             ┆ str      │\n",
       "│                  ┆             ┆                  ┆                 ┆ ---             ┆          │\n",
       "│                  ┆             ┆                  ┆                 ┆ str             ┆          │\n",
       "╞══════════════════╪═════════════╪══════════════════╪═════════════════╪═════════════════╪══════════╡\n",
       "│ 2371629800773493 ┆ 0.983033    ┆ 1035143887694749 ┆ FirstMortgage30 ┆ 548190933754547 ┆ Rejected │\n",
       "│ 794              ┆             ┆ 9169             ┆ yr              ┆ 8419            ┆          │\n",
       "│ 5833509493708080 ┆ 0.144221    ┆ 8752339411313915 ┆ FirstMortgage30 ┆ 565754367977423 ┆ Accepted │\n",
       "│ 753              ┆             ┆ 618              ┆ yr              ┆ 1321            ┆          │\n",
       "│ 8289193528572396 ┆ 0.679745    ┆ 1149726893044678 ┆ MoneyMarketSavi ┆ 548190933754547 ┆ Rejected │\n",
       "│ 789              ┆             ┆ 9427             ┆ ngsAccount      ┆ 8419            ┆          │\n",
       "│ 7663551736891421 ┆ 1.0         ┆ 8752339411313915 ┆ BasicChecking   ┆ 548190933754547 ┆ Rejected │\n",
       "│ 821              ┆             ┆ 618              ┆                 ┆ 8419            ┆          │\n",
       "│ 9603403518533525 ┆ 0.718982    ┆ 1035143887694749 ┆ BasicChecking   ┆ 514448889076707 ┆ Accepted │\n",
       "│ 041              ┆             ┆ 9169             ┆                 ┆ 4554            ┆          │\n",
       "│ 3547906257942035 ┆ 0.0         ┆ 1149726893044678 ┆ UPlusFinPersona ┆ null            ┆ Rejected │\n",
       "│ 421              ┆             ┆ 9427             ┆ l               ┆                 ┆          │\n",
       "│ 1395112479542336 ┆ 0.02333     ┆ 1149726893044678 ┆ BasicChecking   ┆ 514448889076707 ┆ Rejected │\n",
       "│ 5945             ┆             ┆ 9427             ┆                 ┆ 4554            ┆          │\n",
       "└──────────────────┴─────────────┴──────────────────┴─────────────────┴─────────────────┴──────────┘"
      ]
     },
     "execution_count": 13,
     "metadata": {},
     "output_type": "execute_result"
    }
   ],
   "source": [
    "pl.read_ipc('output/hds.arrow')"
   ]
  },
  {
   "attachments": {},
   "cell_type": "markdown",
   "metadata": {},
   "source": [
    "## Advanced: Hash fuctions\n",
    "\n",
    "By default, we use [the same hashing algorithm Polars](https://pola-rs.github.io/polars/py-polars/html/reference/expressions/api/polars.Expr.hash.html#polars.Expr.hash) uses: [xxhash](https://github.com/Cyan4973/xxHash), as implemented [here](https://github.com/pola-rs/polars/blob/3f287f370b3c388ed2f3f218b2c096382548136f/polars/polars-core/src/vector_hasher.rs#L266). xxhash is fast to compute, and you can check its performance in collision, dispersion and randomness [here](https://github.com/Cyan4973/xxHash/tree/dev/tests). \n",
    "\n",
    "xxhash accepts four distinct seeds, but by default we set the seeds to `0`. It is possible to set the `seed` argument of the `process()` function to `'random'`, which will set all four seeds to a random integer between `0` and `1000000000`. Alternatively, it is possible to supply the four seeds manually with arguments `seed`, `seed_1`, `seed_2` and `seed_3`. \n",
    "\n",
    "If the xxhash with (random) seed(s) is not deemed sufficiently secure, it is possible to use your own hashing algorithm.\n",
    "\n",
    "Note that since we're now running python code and not native Polars code anymore, this will be _significantly_ slower. Nonetheless, it is possible.\n",
    "\n",
    "Just as an example - this is how one would use sha3_256:"
   ]
  },
  {
   "cell_type": "code",
   "execution_count": 14,
   "metadata": {
    "execution": {
     "iopub.execute_input": "2023-03-24T17:25:29.070629Z",
     "iopub.status.busy": "2023-03-24T17:25:29.070289Z",
     "iopub.status.idle": "2023-03-24T17:25:29.078277Z",
     "shell.execute_reply": "2023-03-24T17:25:29.077672Z"
    }
   },
   "outputs": [
    {
     "data": {
      "text/html": [
       "<div><style>\n",
       ".dataframe > thead > tr > th,\n",
       ".dataframe > tbody > tr > td {\n",
       "  text-align: right;\n",
       "}\n",
       "</style>\n",
       "<small>shape: (7, 6)</small><table border=\"1\" class=\"dataframe\"><thead><tr><th>PREDICTOR_0</th><th>PREDICTOR_1</th><th>PREDICTOR_2</th><th>Context_Name</th><th>IH_Web_Inbound_Accepted_pxLastGroupID</th><th>OUTCOME</th></tr><tr><td>str</td><td>f64</td><td>str</td><td>str</td><td>str</td><td>str</td></tr></thead><tbody><tr><td>&quot;c73023dda51de1…</td><td>0.983033</td><td>&quot;af486bc1815c72…</td><td>&quot;FirstMortgage3…</td><td>&quot;2513d0e24d8d02…</td><td>&quot;Rejected&quot;</td></tr><tr><td>&quot;5414b197fb87b3…</td><td>0.144221</td><td>&quot;3cdf7b1ae1342e…</td><td>&quot;FirstMortgage3…</td><td>&quot;8b55bf62fc2ecd…</td><td>&quot;Accepted&quot;</td></tr><tr><td>&quot;892f5d61a9215e…</td><td>0.679745</td><td>&quot;806ef34eb8237f…</td><td>&quot;MoneyMarketSav…</td><td>&quot;2513d0e24d8d02…</td><td>&quot;Rejected&quot;</td></tr><tr><td>&quot;c3aa807d9e927a…</td><td>1.0</td><td>&quot;3cdf7b1ae1342e…</td><td>&quot;BasicChecking&quot;</td><td>&quot;2513d0e24d8d02…</td><td>&quot;Rejected&quot;</td></tr><tr><td>&quot;c2d492f9a05073…</td><td>0.718982</td><td>&quot;af486bc1815c72…</td><td>&quot;BasicChecking&quot;</td><td>&quot;1cd082ecbd5dd9…</td><td>&quot;Accepted&quot;</td></tr><tr><td>&quot;b21059221605c4…</td><td>0.0</td><td>&quot;806ef34eb8237f…</td><td>&quot;UPlusFinPerson…</td><td>null</td><td>&quot;Rejected&quot;</td></tr><tr><td>&quot;80cbe489dcecd4…</td><td>0.02333</td><td>&quot;806ef34eb8237f…</td><td>&quot;BasicChecking&quot;</td><td>&quot;1cd082ecbd5dd9…</td><td>&quot;Rejected&quot;</td></tr></tbody></table></div>"
      ],
      "text/plain": [
       "shape: (7, 6)\n",
       "┌──────────────────┬─────────────┬──────────────────┬─────────────────┬─────────────────┬──────────┐\n",
       "│ PREDICTOR_0      ┆ PREDICTOR_1 ┆ PREDICTOR_2      ┆ Context_Name    ┆ IH_Web_Inbound_ ┆ OUTCOME  │\n",
       "│ ---              ┆ ---         ┆ ---              ┆ ---             ┆ Accepted_pxLast ┆ ---      │\n",
       "│ str              ┆ f64         ┆ str              ┆ str             ┆ Gr…             ┆ str      │\n",
       "│                  ┆             ┆                  ┆                 ┆ ---             ┆          │\n",
       "│                  ┆             ┆                  ┆                 ┆ str             ┆          │\n",
       "╞══════════════════╪═════════════╪══════════════════╪═════════════════╪═════════════════╪══════════╡\n",
       "│ c73023dda51de1b8 ┆ 0.983033    ┆ af486bc1815c726c ┆ FirstMortgage30 ┆ 2513d0e24d8d021 ┆ Rejected │\n",
       "│ 4f7af774fd6f8c73 ┆             ┆ 357890ac2a40ba98 ┆ yr              ┆ 4eda4fb45444716 ┆          │\n",
       "│ …                ┆             ┆ …                ┆                 ┆ 2b…             ┆          │\n",
       "│ 5414b197fb87b3f2 ┆ 0.144221    ┆ 3cdf7b1ae1342ef9 ┆ FirstMortgage30 ┆ 8b55bf62fc2ecd1 ┆ Accepted │\n",
       "│ e350d7a74a840a81 ┆             ┆ 79ea2a782541ad05 ┆ yr              ┆ 6af97d48e469362 ┆          │\n",
       "│ …                ┆             ┆ …                ┆                 ┆ cf…             ┆          │\n",
       "│ 892f5d61a9215ef9 ┆ 0.679745    ┆ 806ef34eb8237f4d ┆ MoneyMarketSavi ┆ 2513d0e24d8d021 ┆ Rejected │\n",
       "│ 85f3fa293d51c92e ┆             ┆ b85004e96dc471d8 ┆ ngsAccount      ┆ 4eda4fb45444716 ┆          │\n",
       "│ …                ┆             ┆ …                ┆                 ┆ 2b…             ┆          │\n",
       "│ c3aa807d9e927ae4 ┆ 1.0         ┆ 3cdf7b1ae1342ef9 ┆ BasicChecking   ┆ 2513d0e24d8d021 ┆ Rejected │\n",
       "│ 26a89e76a12b9160 ┆             ┆ 79ea2a782541ad05 ┆                 ┆ 4eda4fb45444716 ┆          │\n",
       "│ …                ┆             ┆ …                ┆                 ┆ 2b…             ┆          │\n",
       "│ c2d492f9a0507327 ┆ 0.718982    ┆ af486bc1815c726c ┆ BasicChecking   ┆ 1cd082ecbd5dd95 ┆ Accepted │\n",
       "│ c14285e94e8ee54c ┆             ┆ 357890ac2a40ba98 ┆                 ┆ 383b10465e395c1 ┆          │\n",
       "│ …                ┆             ┆ …                ┆                 ┆ f7…             ┆          │\n",
       "│ b21059221605c497 ┆ 0.0         ┆ 806ef34eb8237f4d ┆ UPlusFinPersona ┆ null            ┆ Rejected │\n",
       "│ 57cfe0fee45640db ┆             ┆ b85004e96dc471d8 ┆ l               ┆                 ┆          │\n",
       "│ …                ┆             ┆ …                ┆                 ┆                 ┆          │\n",
       "│ 80cbe489dcecd4b9 ┆ 0.02333     ┆ 806ef34eb8237f4d ┆ BasicChecking   ┆ 1cd082ecbd5dd95 ┆ Rejected │\n",
       "│ 304898c9986afeeb ┆             ┆ b85004e96dc471d8 ┆                 ┆ 383b10465e395c1 ┆          │\n",
       "│ …                ┆             ┆ …                ┆                 ┆ f7…             ┆          │\n",
       "└──────────────────┴─────────────┴──────────────────┴─────────────────┴─────────────────┴──────────┘"
      ]
     },
     "execution_count": 14,
     "metadata": {},
     "output_type": "execute_result"
    }
   ],
   "source": [
    "from hashlib import sha3_256\n",
    "\n",
    "anon.process(algorithm=lambda x: sha3_256(x.encode()).hexdigest())"
   ]
  }
 ],
 "metadata": {
  "kernelspec": {
   "display_name": "Python 3",
   "language": "python",
   "name": "python3"
  },
  "language_info": {
   "codemirror_mode": {
    "name": "ipython",
    "version": 3
   },
   "file_extension": ".py",
   "mimetype": "text/x-python",
   "name": "python",
   "nbconvert_exporter": "python",
   "pygments_lexer": "ipython3",
   "version": "3.11.2"
  },
  "vscode": {
   "interpreter": {
    "hash": "aee8b7b246df8f9039afb4144a1f6fd8d2ca17a180786b69acc140d282b71a49"
   }
  }
 },
 "nbformat": 4,
 "nbformat_minor": 2
}
