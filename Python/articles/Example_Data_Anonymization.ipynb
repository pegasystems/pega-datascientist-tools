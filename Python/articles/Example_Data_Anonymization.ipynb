{
 "cells": [
  {
   "attachments": {},
   "cell_type": "markdown",
   "metadata": {},
   "source": [
    "# Example data anonymization\n",
    "\n",
    "In Pega CDH 8.5 and up, it's now possible to record the historical data as seen by the Adaptive Models. See [this academy challenge](https://academy.pega.com/challenge/exporting-historical-data/v4) for reference. This historical data can be further used to experiment with offline models, but also to fine-tune the OOTB Gradient Boosting model. However, sharing this information with Pega can be sensitive as it contains raw predictor data. \n",
    "\n",
    "To this end, we provide a simple and transparent script to fully anonimize this dataset.\n",
    "\n",
    "The DataAnonymization script is now part of pdstools, and you can import it directly as such."
   ]
  },
  {
   "cell_type": "code",
   "execution_count": 1,
   "metadata": {
    "execution": {
     "iopub.execute_input": "2023-03-24T17:57:11.871016Z",
     "iopub.status.busy": "2023-03-24T17:57:11.870608Z",
     "iopub.status.idle": "2023-03-24T17:57:11.876730Z",
     "shell.execute_reply": "2023-03-24T17:57:11.876236Z"
    },
    "nbsphinx": "hidden"
   },
   "outputs": [],
   "source": [
    "# These lines are only for rendering in the docs, and are hidden through Jupyter tags\n",
    "# Do not run if you're running the notebook seperately\n",
    "\n",
    "import sys\n",
    "sys.path.append('../../../')"
   ]
  },
  {
   "cell_type": "code",
   "execution_count": 2,
   "metadata": {
    "execution": {
     "iopub.execute_input": "2023-03-24T17:57:11.879079Z",
     "iopub.status.busy": "2023-03-24T17:57:11.878695Z",
     "iopub.status.idle": "2023-03-24T17:57:12.676281Z",
     "shell.execute_reply": "2023-03-24T17:57:12.675698Z"
    }
   },
   "outputs": [
    {
     "name": "stderr",
     "output_type": "stream",
     "text": [
      "/opt/hostedtoolcache/Python/3.11.2/x64/lib/python3.11/site-packages/tqdm/auto.py:21: TqdmWarning: IProgress not found. Please update jupyter and ipywidgets. See https://ipywidgets.readthedocs.io/en/stable/user_install.html\n",
      "  from .autonotebook import tqdm as notebook_tqdm\n"
     ]
    }
   ],
   "source": [
    "from pdstools import ADMDatamart\n",
    "from pdstools import Config, DataAnonymization\n",
    "import polars as pl"
   ]
  },
  {
   "attachments": {},
   "cell_type": "markdown",
   "metadata": {},
   "source": [
    "## Input data\n",
    "\n",
    "To demonstrate this process, we're going to anonymise this toy example dataframe:"
   ]
  },
  {
   "cell_type": "code",
   "execution_count": 3,
   "metadata": {
    "execution": {
     "iopub.execute_input": "2023-03-24T17:57:12.679183Z",
     "iopub.status.busy": "2023-03-24T17:57:12.678643Z",
     "iopub.status.idle": "2023-03-24T17:57:12.689063Z",
     "shell.execute_reply": "2023-03-24T17:57:12.688549Z"
    }
   },
   "outputs": [
    {
     "data": {
      "text/html": [
       "<div><style>\n",
       ".dataframe > thead > tr > th,\n",
       ".dataframe > tbody > tr > td {\n",
       "  text-align: right;\n",
       "}\n",
       "</style>\n",
       "<small>shape: (7, 6)</small><table border=\"1\" class=\"dataframe\"><thead><tr><th>Context_Name</th><th>Customer_MaritalStatus</th><th>Customer_CLV</th><th>Customer_City</th><th>IH_Web_Inbound_Accepted_pxLastGroupID</th><th>Decision_Outcome</th></tr><tr><td>str</td><td>str</td><td>i64</td><td>str</td><td>str</td><td>str</td></tr></thead><tbody><tr><td>&quot;FirstMortgage3…</td><td>&quot;Married&quot;</td><td>1460</td><td>&quot;Port Raoul&quot;</td><td>&quot;Account&quot;</td><td>&quot;Rejected&quot;</td></tr><tr><td>&quot;FirstMortgage3…</td><td>&quot;Unknown&quot;</td><td>669</td><td>&quot;Laurianneshire…</td><td>&quot;AutoLoans&quot;</td><td>&quot;Accepted&quot;</td></tr><tr><td>&quot;MoneyMarketSav…</td><td>&quot;No Resp+&quot;</td><td>1174</td><td>&quot;Jacobshaven&quot;</td><td>&quot;Account&quot;</td><td>&quot;Rejected&quot;</td></tr><tr><td>&quot;BasicChecking&quot;</td><td>&quot;Unknown&quot;</td><td>1476</td><td>&quot;Lindton&quot;</td><td>&quot;Account&quot;</td><td>&quot;Rejected&quot;</td></tr><tr><td>&quot;BasicChecking&quot;</td><td>&quot;Married&quot;</td><td>1211</td><td>&quot;South Jimmiesh…</td><td>&quot;DepositAccount…</td><td>&quot;Accepted&quot;</td></tr><tr><td>&quot;UPlusFinPerson…</td><td>&quot;No Resp+&quot;</td><td>533</td><td>&quot;Bergeville&quot;</td><td>null</td><td>&quot;Rejected&quot;</td></tr><tr><td>&quot;BasicChecking&quot;</td><td>&quot;No Resp+&quot;</td><td>555</td><td>&quot;Willyville&quot;</td><td>&quot;DepositAccount…</td><td>&quot;Rejected&quot;</td></tr></tbody></table></div>"
      ],
      "text/plain": [
       "shape: (7, 6)\n",
       "┌────────────────┬────────────────┬──────────────┬────────────────┬────────────────┬───────────────┐\n",
       "│ Context_Name   ┆ Customer_Marit ┆ Customer_CLV ┆ Customer_City  ┆ IH_Web_Inbound ┆ Decision_Outc │\n",
       "│ ---            ┆ alStatus       ┆ ---          ┆ ---            ┆ _Accepted_pxLa ┆ ome           │\n",
       "│ str            ┆ ---            ┆ i64          ┆ str            ┆ stGr…          ┆ ---           │\n",
       "│                ┆ str            ┆              ┆                ┆ ---            ┆ str           │\n",
       "│                ┆                ┆              ┆                ┆ str            ┆               │\n",
       "╞════════════════╪════════════════╪══════════════╪════════════════╪════════════════╪═══════════════╡\n",
       "│ FirstMortgage3 ┆ Married        ┆ 1460         ┆ Port Raoul     ┆ Account        ┆ Rejected      │\n",
       "│ 0yr            ┆                ┆              ┆                ┆                ┆               │\n",
       "│ FirstMortgage3 ┆ Unknown        ┆ 669          ┆ Laurianneshire ┆ AutoLoans      ┆ Accepted      │\n",
       "│ 0yr            ┆                ┆              ┆                ┆                ┆               │\n",
       "│ MoneyMarketSav ┆ No Resp+       ┆ 1174         ┆ Jacobshaven    ┆ Account        ┆ Rejected      │\n",
       "│ ingsAccount    ┆                ┆              ┆                ┆                ┆               │\n",
       "│ BasicChecking  ┆ Unknown        ┆ 1476         ┆ Lindton        ┆ Account        ┆ Rejected      │\n",
       "│ BasicChecking  ┆ Married        ┆ 1211         ┆ South          ┆ DepositAccount ┆ Accepted      │\n",
       "│                ┆                ┆              ┆ Jimmieshire    ┆ s              ┆               │\n",
       "│ UPlusFinPerson ┆ No Resp+       ┆ 533          ┆ Bergeville     ┆ null           ┆ Rejected      │\n",
       "│ al             ┆                ┆              ┆                ┆                ┆               │\n",
       "│ BasicChecking  ┆ No Resp+       ┆ 555          ┆ Willyville     ┆ DepositAccount ┆ Rejected      │\n",
       "│                ┆                ┆              ┆                ┆ s              ┆               │\n",
       "└────────────────┴────────────────┴──────────────┴────────────────┴────────────────┴───────────────┘"
      ]
     },
     "execution_count": 3,
     "metadata": {},
     "output_type": "execute_result"
    }
   ],
   "source": [
    "pl.read_ndjson('../../../../data/SampleHDS.json')"
   ]
  },
  {
   "attachments": {},
   "cell_type": "markdown",
   "metadata": {},
   "source": [
    "As you can see, this dataset consists of regular predictors, IH predictors, context keys and the outcome column. Additionally, some columns are numeric, others are strings. Let's first initialize the DataAnonymization class."
   ]
  },
  {
   "cell_type": "code",
   "execution_count": 4,
   "metadata": {
    "execution": {
     "iopub.execute_input": "2023-03-24T17:57:12.691385Z",
     "iopub.status.busy": "2023-03-24T17:57:12.691101Z",
     "iopub.status.idle": "2023-03-24T17:57:12.696429Z",
     "shell.execute_reply": "2023-03-24T17:57:12.695935Z"
    }
   },
   "outputs": [],
   "source": [
    "anon = DataAnonymization(hds_folder='../../../../data/')"
   ]
  },
  {
   "attachments": {},
   "cell_type": "markdown",
   "metadata": {},
   "source": [
    "By default, the class applies a set of anonymisation techniques:\n",
    "- Column names are remapped to a non-descriptive name\n",
    "- Categorical values are hashed with a random seed\n",
    "- Numerical values are normalized between 0 and 1\n",
    "- Outcomes are mapped to a binary outcome.\n",
    "\n",
    "To apply these techniques, simply call `.process()`:"
   ]
  },
  {
   "cell_type": "code",
   "execution_count": 5,
   "metadata": {
    "execution": {
     "iopub.execute_input": "2023-03-24T17:57:12.698759Z",
     "iopub.status.busy": "2023-03-24T17:57:12.698557Z",
     "iopub.status.idle": "2023-03-24T17:57:12.705246Z",
     "shell.execute_reply": "2023-03-24T17:57:12.704738Z"
    }
   },
   "outputs": [
    {
     "data": {
      "text/html": [
       "<div><style>\n",
       ".dataframe > thead > tr > th,\n",
       ".dataframe > tbody > tr > td {\n",
       "  text-align: right;\n",
       "}\n",
       "</style>\n",
       "<small>shape: (7, 6)</small><table border=\"1\" class=\"dataframe\"><thead><tr><th>PREDICTOR_0</th><th>PREDICTOR_1</th><th>PREDICTOR_2</th><th>CK_PREDICTOR_0</th><th>IH_PREDICTOR_0</th><th>OUTCOME</th></tr><tr><td>f64</td><td>str</td><td>str</td><td>str</td><td>str</td><td>bool</td></tr></thead><tbody><tr><td>0.983033</td><td>&quot;23716298007734…</td><td>&quot;10351438876947…</td><td>&quot;17925016031664…</td><td>&quot;54819093375454…</td><td>false</td></tr><tr><td>0.144221</td><td>&quot;58335094937080…</td><td>&quot;87523394113139…</td><td>&quot;17925016031664…</td><td>&quot;56575436797742…</td><td>true</td></tr><tr><td>0.679745</td><td>&quot;82891935285723…</td><td>&quot;11497268930446…</td><td>&quot;17584060957230…</td><td>&quot;54819093375454…</td><td>false</td></tr><tr><td>1.0</td><td>&quot;76635517368914…</td><td>&quot;87523394113139…</td><td>&quot;10616365382318…</td><td>&quot;54819093375454…</td><td>false</td></tr><tr><td>0.718982</td><td>&quot;96034035185335…</td><td>&quot;10351438876947…</td><td>&quot;10616365382318…</td><td>&quot;51444888907670…</td><td>true</td></tr><tr><td>0.0</td><td>&quot;35479062579420…</td><td>&quot;11497268930446…</td><td>&quot;10922250202202…</td><td>null</td><td>false</td></tr><tr><td>0.02333</td><td>&quot;13951124795423…</td><td>&quot;11497268930446…</td><td>&quot;10616365382318…</td><td>&quot;51444888907670…</td><td>false</td></tr></tbody></table></div>"
      ],
      "text/plain": [
       "shape: (7, 6)\n",
       "┌─────────────┬──────────────────┬──────────────────┬──────────────────┬─────────────────┬─────────┐\n",
       "│ PREDICTOR_0 ┆ PREDICTOR_1      ┆ PREDICTOR_2      ┆ CK_PREDICTOR_0   ┆ IH_PREDICTOR_0  ┆ OUTCOME │\n",
       "│ ---         ┆ ---              ┆ ---              ┆ ---              ┆ ---             ┆ ---     │\n",
       "│ f64         ┆ str              ┆ str              ┆ str              ┆ str             ┆ bool    │\n",
       "╞═════════════╪══════════════════╪══════════════════╪══════════════════╪═════════════════╪═════════╡\n",
       "│ 0.983033    ┆ 2371629800773493 ┆ 1035143887694749 ┆ 1792501603166480 ┆ 548190933754547 ┆ false   │\n",
       "│             ┆ 794              ┆ 9169             ┆ 370              ┆ 8419            ┆         │\n",
       "│ 0.144221    ┆ 5833509493708080 ┆ 8752339411313915 ┆ 1792501603166480 ┆ 565754367977423 ┆ true    │\n",
       "│             ┆ 753              ┆ 618              ┆ 370              ┆ 1321            ┆         │\n",
       "│ 0.679745    ┆ 8289193528572396 ┆ 1149726893044678 ┆ 1758406095723033 ┆ 548190933754547 ┆ false   │\n",
       "│             ┆ 789              ┆ 9427             ┆ 4776             ┆ 8419            ┆         │\n",
       "│ 1.0         ┆ 7663551736891421 ┆ 8752339411313915 ┆ 1061636538231857 ┆ 548190933754547 ┆ false   │\n",
       "│             ┆ 821              ┆ 618              ┆ 5624             ┆ 8419            ┆         │\n",
       "│ 0.718982    ┆ 9603403518533525 ┆ 1035143887694749 ┆ 1061636538231857 ┆ 514448889076707 ┆ true    │\n",
       "│             ┆ 041              ┆ 9169             ┆ 5624             ┆ 4554            ┆         │\n",
       "│ 0.0         ┆ 3547906257942035 ┆ 1149726893044678 ┆ 1092225020220287 ┆ null            ┆ false   │\n",
       "│             ┆ 421              ┆ 9427             ┆ 6846             ┆                 ┆         │\n",
       "│ 0.02333     ┆ 1395112479542336 ┆ 1149726893044678 ┆ 1061636538231857 ┆ 514448889076707 ┆ false   │\n",
       "│             ┆ 5945             ┆ 9427             ┆ 5624             ┆ 4554            ┆         │\n",
       "└─────────────┴──────────────────┴──────────────────┴──────────────────┴─────────────────┴─────────┘"
      ]
     },
     "execution_count": 5,
     "metadata": {},
     "output_type": "execute_result"
    }
   ],
   "source": [
    "anon.process()"
   ]
  },
  {
   "attachments": {},
   "cell_type": "markdown",
   "metadata": {},
   "source": [
    "To trace back the columns to their original names, the class also contains a mapping, which does not have to be provided."
   ]
  },
  {
   "cell_type": "code",
   "execution_count": 6,
   "metadata": {
    "execution": {
     "iopub.execute_input": "2023-03-24T17:57:12.707377Z",
     "iopub.status.busy": "2023-03-24T17:57:12.707198Z",
     "iopub.status.idle": "2023-03-24T17:57:12.711876Z",
     "shell.execute_reply": "2023-03-24T17:57:12.711394Z"
    }
   },
   "outputs": [
    {
     "data": {
      "text/plain": [
       "{'Customer_CLV': 'PREDICTOR_0',\n",
       " 'Customer_City': 'PREDICTOR_1',\n",
       " 'Customer_MaritalStatus': 'PREDICTOR_2',\n",
       " 'Context_Name': 'CK_PREDICTOR_0',\n",
       " 'IH_Web_Inbound_Accepted_pxLastGroupID': 'IH_PREDICTOR_0',\n",
       " 'Decision_Outcome': 'OUTCOME'}"
      ]
     },
     "execution_count": 6,
     "metadata": {},
     "output_type": "execute_result"
    }
   ],
   "source": [
    "anon.column_mapping"
   ]
  },
  {
   "attachments": {},
   "cell_type": "markdown",
   "metadata": {},
   "source": [
    "## Configs\n",
    "\n",
    "Each capability can optionally be turned off - see below for the full list of config options, and refer to the API reference for the full description."
   ]
  },
  {
   "cell_type": "code",
   "execution_count": 7,
   "metadata": {
    "execution": {
     "iopub.execute_input": "2023-03-24T17:57:12.713896Z",
     "iopub.status.busy": "2023-03-24T17:57:12.713718Z",
     "iopub.status.idle": "2023-03-24T17:57:12.718798Z",
     "shell.execute_reply": "2023-03-24T17:57:12.718319Z"
    }
   },
   "outputs": [
    {
     "data": {
      "text/plain": [
       "{'config_file': None,\n",
       " 'hds_folder': '.',\n",
       " 'use_datamart': False,\n",
       " 'datamart_folder': 'datamart',\n",
       " 'output_format': 'ndjson',\n",
       " 'output_folder': 'output',\n",
       " 'mapping_file': 'mapping.map',\n",
       " 'mask_predictor_names': True,\n",
       " 'mask_context_key_names': True,\n",
       " 'mask_ih_names': True,\n",
       " 'mask_outcome_name': True,\n",
       " 'mask_predictor_values': True,\n",
       " 'mask_context_key_values': True,\n",
       " 'mask_ih_values': True,\n",
       " 'mask_outcome_values': True,\n",
       " 'context_key_label': 'Context_*',\n",
       " 'ih_label': 'IH_*',\n",
       " 'outcome_column': 'Decision_Outcome',\n",
       " 'positive_outcomes': ['Accepted', 'Clicked'],\n",
       " 'negative_outcomes': ['Rejected', 'Impression'],\n",
       " 'special_predictors': ['Decision_DecisionTime', 'Decision_OutcomeTime']}"
      ]
     },
     "execution_count": 7,
     "metadata": {},
     "output_type": "execute_result"
    }
   ],
   "source": [
    "dict(zip(Config.__init__.__code__.co_varnames[1:], Config.__init__.__defaults__))"
   ]
  },
  {
   "attachments": {},
   "cell_type": "markdown",
   "metadata": {},
   "source": [
    "It's easy to change these parameters by just passing the keyword arguments. In the following example, we\n",
    "- Keep the IH predictor names\n",
    "- Keep the outcome values\n",
    "- Keep the context key values\n",
    "- Keep the context key predictor names"
   ]
  },
  {
   "cell_type": "code",
   "execution_count": 8,
   "metadata": {
    "execution": {
     "iopub.execute_input": "2023-03-24T17:57:12.720762Z",
     "iopub.status.busy": "2023-03-24T17:57:12.720578Z",
     "iopub.status.idle": "2023-03-24T17:57:12.728525Z",
     "shell.execute_reply": "2023-03-24T17:57:12.728063Z"
    }
   },
   "outputs": [
    {
     "data": {
      "text/html": [
       "<div><style>\n",
       ".dataframe > thead > tr > th,\n",
       ".dataframe > tbody > tr > td {\n",
       "  text-align: right;\n",
       "}\n",
       "</style>\n",
       "<small>shape: (7, 6)</small><table border=\"1\" class=\"dataframe\"><thead><tr><th>PREDICTOR_0</th><th>PREDICTOR_1</th><th>PREDICTOR_2</th><th>Context_Name</th><th>IH_Web_Inbound_Accepted_pxLastGroupID</th><th>OUTCOME</th></tr><tr><td>f64</td><td>str</td><td>str</td><td>str</td><td>str</td><td>str</td></tr></thead><tbody><tr><td>0.983033</td><td>&quot;23716298007734…</td><td>&quot;10351438876947…</td><td>&quot;FirstMortgage3…</td><td>&quot;54819093375454…</td><td>&quot;Rejected&quot;</td></tr><tr><td>0.144221</td><td>&quot;58335094937080…</td><td>&quot;87523394113139…</td><td>&quot;FirstMortgage3…</td><td>&quot;56575436797742…</td><td>&quot;Accepted&quot;</td></tr><tr><td>0.679745</td><td>&quot;82891935285723…</td><td>&quot;11497268930446…</td><td>&quot;MoneyMarketSav…</td><td>&quot;54819093375454…</td><td>&quot;Rejected&quot;</td></tr><tr><td>1.0</td><td>&quot;76635517368914…</td><td>&quot;87523394113139…</td><td>&quot;BasicChecking&quot;</td><td>&quot;54819093375454…</td><td>&quot;Rejected&quot;</td></tr><tr><td>0.718982</td><td>&quot;96034035185335…</td><td>&quot;10351438876947…</td><td>&quot;BasicChecking&quot;</td><td>&quot;51444888907670…</td><td>&quot;Accepted&quot;</td></tr><tr><td>0.0</td><td>&quot;35479062579420…</td><td>&quot;11497268930446…</td><td>&quot;UPlusFinPerson…</td><td>null</td><td>&quot;Rejected&quot;</td></tr><tr><td>0.02333</td><td>&quot;13951124795423…</td><td>&quot;11497268930446…</td><td>&quot;BasicChecking&quot;</td><td>&quot;51444888907670…</td><td>&quot;Rejected&quot;</td></tr></tbody></table></div>"
      ],
      "text/plain": [
       "shape: (7, 6)\n",
       "┌─────────────┬──────────────────┬──────────────────┬─────────────────┬─────────────────┬──────────┐\n",
       "│ PREDICTOR_0 ┆ PREDICTOR_1      ┆ PREDICTOR_2      ┆ Context_Name    ┆ IH_Web_Inbound_ ┆ OUTCOME  │\n",
       "│ ---         ┆ ---              ┆ ---              ┆ ---             ┆ Accepted_pxLast ┆ ---      │\n",
       "│ f64         ┆ str              ┆ str              ┆ str             ┆ Gr…             ┆ str      │\n",
       "│             ┆                  ┆                  ┆                 ┆ ---             ┆          │\n",
       "│             ┆                  ┆                  ┆                 ┆ str             ┆          │\n",
       "╞═════════════╪══════════════════╪══════════════════╪═════════════════╪═════════════════╪══════════╡\n",
       "│ 0.983033    ┆ 2371629800773493 ┆ 1035143887694749 ┆ FirstMortgage30 ┆ 548190933754547 ┆ Rejected │\n",
       "│             ┆ 794              ┆ 9169             ┆ yr              ┆ 8419            ┆          │\n",
       "│ 0.144221    ┆ 5833509493708080 ┆ 8752339411313915 ┆ FirstMortgage30 ┆ 565754367977423 ┆ Accepted │\n",
       "│             ┆ 753              ┆ 618              ┆ yr              ┆ 1321            ┆          │\n",
       "│ 0.679745    ┆ 8289193528572396 ┆ 1149726893044678 ┆ MoneyMarketSavi ┆ 548190933754547 ┆ Rejected │\n",
       "│             ┆ 789              ┆ 9427             ┆ ngsAccount      ┆ 8419            ┆          │\n",
       "│ 1.0         ┆ 7663551736891421 ┆ 8752339411313915 ┆ BasicChecking   ┆ 548190933754547 ┆ Rejected │\n",
       "│             ┆ 821              ┆ 618              ┆                 ┆ 8419            ┆          │\n",
       "│ 0.718982    ┆ 9603403518533525 ┆ 1035143887694749 ┆ BasicChecking   ┆ 514448889076707 ┆ Accepted │\n",
       "│             ┆ 041              ┆ 9169             ┆                 ┆ 4554            ┆          │\n",
       "│ 0.0         ┆ 3547906257942035 ┆ 1149726893044678 ┆ UPlusFinPersona ┆ null            ┆ Rejected │\n",
       "│             ┆ 421              ┆ 9427             ┆ l               ┆                 ┆          │\n",
       "│ 0.02333     ┆ 1395112479542336 ┆ 1149726893044678 ┆ BasicChecking   ┆ 514448889076707 ┆ Rejected │\n",
       "│             ┆ 5945             ┆ 9427             ┆                 ┆ 4554            ┆          │\n",
       "└─────────────┴──────────────────┴──────────────────┴─────────────────┴─────────────────┴──────────┘"
      ]
     },
     "execution_count": 8,
     "metadata": {},
     "output_type": "execute_result"
    }
   ],
   "source": [
    "anon = DataAnonymization(\n",
    "    hds_folder='../../../../data/',\n",
    "    mask_ih_names=False,\n",
    "    mask_outcome_values=False,\n",
    "    mask_context_key_values=False,\n",
    "    mask_context_key_names=False,\n",
    ")\n",
    "anon.process()\n"
   ]
  },
  {
   "attachments": {},
   "cell_type": "markdown",
   "metadata": {},
   "source": [
    "The configs can also be written and read as such:"
   ]
  },
  {
   "cell_type": "code",
   "execution_count": 9,
   "metadata": {
    "execution": {
     "iopub.execute_input": "2023-03-24T17:57:12.730696Z",
     "iopub.status.busy": "2023-03-24T17:57:12.730518Z",
     "iopub.status.idle": "2023-03-24T17:57:12.733781Z",
     "shell.execute_reply": "2023-03-24T17:57:12.733310Z"
    }
   },
   "outputs": [],
   "source": [
    "anon.config.save_to_config_file('config.json')"
   ]
  },
  {
   "cell_type": "code",
   "execution_count": 10,
   "metadata": {
    "execution": {
     "iopub.execute_input": "2023-03-24T17:57:12.735802Z",
     "iopub.status.busy": "2023-03-24T17:57:12.735624Z",
     "iopub.status.idle": "2023-03-24T17:57:12.743934Z",
     "shell.execute_reply": "2023-03-24T17:57:12.743475Z"
    }
   },
   "outputs": [
    {
     "data": {
      "text/html": [
       "<div><style>\n",
       ".dataframe > thead > tr > th,\n",
       ".dataframe > tbody > tr > td {\n",
       "  text-align: right;\n",
       "}\n",
       "</style>\n",
       "<small>shape: (7, 6)</small><table border=\"1\" class=\"dataframe\"><thead><tr><th>PREDICTOR_0</th><th>PREDICTOR_1</th><th>PREDICTOR_2</th><th>Context_Name</th><th>IH_Web_Inbound_Accepted_pxLastGroupID</th><th>OUTCOME</th></tr><tr><td>f64</td><td>str</td><td>str</td><td>str</td><td>str</td><td>str</td></tr></thead><tbody><tr><td>0.983033</td><td>&quot;23716298007734…</td><td>&quot;10351438876947…</td><td>&quot;FirstMortgage3…</td><td>&quot;54819093375454…</td><td>&quot;Rejected&quot;</td></tr><tr><td>0.144221</td><td>&quot;58335094937080…</td><td>&quot;87523394113139…</td><td>&quot;FirstMortgage3…</td><td>&quot;56575436797742…</td><td>&quot;Accepted&quot;</td></tr><tr><td>0.679745</td><td>&quot;82891935285723…</td><td>&quot;11497268930446…</td><td>&quot;MoneyMarketSav…</td><td>&quot;54819093375454…</td><td>&quot;Rejected&quot;</td></tr><tr><td>1.0</td><td>&quot;76635517368914…</td><td>&quot;87523394113139…</td><td>&quot;BasicChecking&quot;</td><td>&quot;54819093375454…</td><td>&quot;Rejected&quot;</td></tr><tr><td>0.718982</td><td>&quot;96034035185335…</td><td>&quot;10351438876947…</td><td>&quot;BasicChecking&quot;</td><td>&quot;51444888907670…</td><td>&quot;Accepted&quot;</td></tr><tr><td>0.0</td><td>&quot;35479062579420…</td><td>&quot;11497268930446…</td><td>&quot;UPlusFinPerson…</td><td>null</td><td>&quot;Rejected&quot;</td></tr><tr><td>0.02333</td><td>&quot;13951124795423…</td><td>&quot;11497268930446…</td><td>&quot;BasicChecking&quot;</td><td>&quot;51444888907670…</td><td>&quot;Rejected&quot;</td></tr></tbody></table></div>"
      ],
      "text/plain": [
       "shape: (7, 6)\n",
       "┌─────────────┬──────────────────┬──────────────────┬─────────────────┬─────────────────┬──────────┐\n",
       "│ PREDICTOR_0 ┆ PREDICTOR_1      ┆ PREDICTOR_2      ┆ Context_Name    ┆ IH_Web_Inbound_ ┆ OUTCOME  │\n",
       "│ ---         ┆ ---              ┆ ---              ┆ ---             ┆ Accepted_pxLast ┆ ---      │\n",
       "│ f64         ┆ str              ┆ str              ┆ str             ┆ Gr…             ┆ str      │\n",
       "│             ┆                  ┆                  ┆                 ┆ ---             ┆          │\n",
       "│             ┆                  ┆                  ┆                 ┆ str             ┆          │\n",
       "╞═════════════╪══════════════════╪══════════════════╪═════════════════╪═════════════════╪══════════╡\n",
       "│ 0.983033    ┆ 2371629800773493 ┆ 1035143887694749 ┆ FirstMortgage30 ┆ 548190933754547 ┆ Rejected │\n",
       "│             ┆ 794              ┆ 9169             ┆ yr              ┆ 8419            ┆          │\n",
       "│ 0.144221    ┆ 5833509493708080 ┆ 8752339411313915 ┆ FirstMortgage30 ┆ 565754367977423 ┆ Accepted │\n",
       "│             ┆ 753              ┆ 618              ┆ yr              ┆ 1321            ┆          │\n",
       "│ 0.679745    ┆ 8289193528572396 ┆ 1149726893044678 ┆ MoneyMarketSavi ┆ 548190933754547 ┆ Rejected │\n",
       "│             ┆ 789              ┆ 9427             ┆ ngsAccount      ┆ 8419            ┆          │\n",
       "│ 1.0         ┆ 7663551736891421 ┆ 8752339411313915 ┆ BasicChecking   ┆ 548190933754547 ┆ Rejected │\n",
       "│             ┆ 821              ┆ 618              ┆                 ┆ 8419            ┆          │\n",
       "│ 0.718982    ┆ 9603403518533525 ┆ 1035143887694749 ┆ BasicChecking   ┆ 514448889076707 ┆ Accepted │\n",
       "│             ┆ 041              ┆ 9169             ┆                 ┆ 4554            ┆          │\n",
       "│ 0.0         ┆ 3547906257942035 ┆ 1149726893044678 ┆ UPlusFinPersona ┆ null            ┆ Rejected │\n",
       "│             ┆ 421              ┆ 9427             ┆ l               ┆                 ┆          │\n",
       "│ 0.02333     ┆ 1395112479542336 ┆ 1149726893044678 ┆ BasicChecking   ┆ 514448889076707 ┆ Rejected │\n",
       "│             ┆ 5945             ┆ 9427             ┆                 ┆ 4554            ┆          │\n",
       "└─────────────┴──────────────────┴──────────────────┴─────────────────┴─────────────────┴──────────┘"
      ]
     },
     "execution_count": 10,
     "metadata": {},
     "output_type": "execute_result"
    }
   ],
   "source": [
    "anon = DataAnonymization(config=Config(config_file='config.json'))\n",
    "anon.process()"
   ]
  },
  {
   "attachments": {},
   "cell_type": "markdown",
   "metadata": {},
   "source": [
    "## Exporting\n",
    "Two functions export:\n",
    "- `create_mapping_file()` writes the mapping file of the predictor names\n",
    "- `write_to_output()` writes the processed dataframe to disk\n",
    "\n",
    "Write to output accepts the following extensions: `[\"ndjson\", \"parquet\", \"arrow\", \"csv\"]`"
   ]
  },
  {
   "cell_type": "code",
   "execution_count": 11,
   "metadata": {
    "execution": {
     "iopub.execute_input": "2023-03-24T17:57:12.745860Z",
     "iopub.status.busy": "2023-03-24T17:57:12.745680Z",
     "iopub.status.idle": "2023-03-24T17:57:12.749060Z",
     "shell.execute_reply": "2023-03-24T17:57:12.748535Z"
    }
   },
   "outputs": [
    {
     "name": "stdout",
     "output_type": "stream",
     "text": [
      "Customer_CLV=PREDICTOR_0\n",
      "Customer_City=PREDICTOR_1\n",
      "Customer_MaritalStatus=PREDICTOR_2\n",
      "Context_Name=Context_Name\n",
      "IH_Web_Inbound_Accepted_pxLastGroupID=IH_Web_Inbound_Accepted_pxLastGroupID\n",
      "Decision_Outcome=OUTCOME\n",
      "\n"
     ]
    }
   ],
   "source": [
    "anon.create_mapping_file()\n",
    "with open('mapping.map') as f:\n",
    "    print(f.read())"
   ]
  },
  {
   "cell_type": "code",
   "execution_count": 12,
   "metadata": {
    "execution": {
     "iopub.execute_input": "2023-03-24T17:57:12.750935Z",
     "iopub.status.busy": "2023-03-24T17:57:12.750759Z",
     "iopub.status.idle": "2023-03-24T17:57:12.754035Z",
     "shell.execute_reply": "2023-03-24T17:57:12.753516Z"
    }
   },
   "outputs": [],
   "source": [
    "anon.write_to_output(ext='arrow')"
   ]
  },
  {
   "cell_type": "code",
   "execution_count": 13,
   "metadata": {
    "execution": {
     "iopub.execute_input": "2023-03-24T17:57:12.756009Z",
     "iopub.status.busy": "2023-03-24T17:57:12.755831Z",
     "iopub.status.idle": "2023-03-24T17:57:12.760446Z",
     "shell.execute_reply": "2023-03-24T17:57:12.759936Z"
    }
   },
   "outputs": [
    {
     "data": {
      "text/html": [
       "<div><style>\n",
       ".dataframe > thead > tr > th,\n",
       ".dataframe > tbody > tr > td {\n",
       "  text-align: right;\n",
       "}\n",
       "</style>\n",
       "<small>shape: (7, 6)</small><table border=\"1\" class=\"dataframe\"><thead><tr><th>PREDICTOR_0</th><th>PREDICTOR_1</th><th>PREDICTOR_2</th><th>Context_Name</th><th>IH_Web_Inbound_Accepted_pxLastGroupID</th><th>OUTCOME</th></tr><tr><td>f64</td><td>str</td><td>str</td><td>str</td><td>str</td><td>str</td></tr></thead><tbody><tr><td>0.983033</td><td>&quot;23716298007734…</td><td>&quot;10351438876947…</td><td>&quot;FirstMortgage3…</td><td>&quot;54819093375454…</td><td>&quot;Rejected&quot;</td></tr><tr><td>0.144221</td><td>&quot;58335094937080…</td><td>&quot;87523394113139…</td><td>&quot;FirstMortgage3…</td><td>&quot;56575436797742…</td><td>&quot;Accepted&quot;</td></tr><tr><td>0.679745</td><td>&quot;82891935285723…</td><td>&quot;11497268930446…</td><td>&quot;MoneyMarketSav…</td><td>&quot;54819093375454…</td><td>&quot;Rejected&quot;</td></tr><tr><td>1.0</td><td>&quot;76635517368914…</td><td>&quot;87523394113139…</td><td>&quot;BasicChecking&quot;</td><td>&quot;54819093375454…</td><td>&quot;Rejected&quot;</td></tr><tr><td>0.718982</td><td>&quot;96034035185335…</td><td>&quot;10351438876947…</td><td>&quot;BasicChecking&quot;</td><td>&quot;51444888907670…</td><td>&quot;Accepted&quot;</td></tr><tr><td>0.0</td><td>&quot;35479062579420…</td><td>&quot;11497268930446…</td><td>&quot;UPlusFinPerson…</td><td>null</td><td>&quot;Rejected&quot;</td></tr><tr><td>0.02333</td><td>&quot;13951124795423…</td><td>&quot;11497268930446…</td><td>&quot;BasicChecking&quot;</td><td>&quot;51444888907670…</td><td>&quot;Rejected&quot;</td></tr></tbody></table></div>"
      ],
      "text/plain": [
       "shape: (7, 6)\n",
       "┌─────────────┬──────────────────┬──────────────────┬─────────────────┬─────────────────┬──────────┐\n",
       "│ PREDICTOR_0 ┆ PREDICTOR_1      ┆ PREDICTOR_2      ┆ Context_Name    ┆ IH_Web_Inbound_ ┆ OUTCOME  │\n",
       "│ ---         ┆ ---              ┆ ---              ┆ ---             ┆ Accepted_pxLast ┆ ---      │\n",
       "│ f64         ┆ str              ┆ str              ┆ str             ┆ Gr…             ┆ str      │\n",
       "│             ┆                  ┆                  ┆                 ┆ ---             ┆          │\n",
       "│             ┆                  ┆                  ┆                 ┆ str             ┆          │\n",
       "╞═════════════╪══════════════════╪══════════════════╪═════════════════╪═════════════════╪══════════╡\n",
       "│ 0.983033    ┆ 2371629800773493 ┆ 1035143887694749 ┆ FirstMortgage30 ┆ 548190933754547 ┆ Rejected │\n",
       "│             ┆ 794              ┆ 9169             ┆ yr              ┆ 8419            ┆          │\n",
       "│ 0.144221    ┆ 5833509493708080 ┆ 8752339411313915 ┆ FirstMortgage30 ┆ 565754367977423 ┆ Accepted │\n",
       "│             ┆ 753              ┆ 618              ┆ yr              ┆ 1321            ┆          │\n",
       "│ 0.679745    ┆ 8289193528572396 ┆ 1149726893044678 ┆ MoneyMarketSavi ┆ 548190933754547 ┆ Rejected │\n",
       "│             ┆ 789              ┆ 9427             ┆ ngsAccount      ┆ 8419            ┆          │\n",
       "│ 1.0         ┆ 7663551736891421 ┆ 8752339411313915 ┆ BasicChecking   ┆ 548190933754547 ┆ Rejected │\n",
       "│             ┆ 821              ┆ 618              ┆                 ┆ 8419            ┆          │\n",
       "│ 0.718982    ┆ 9603403518533525 ┆ 1035143887694749 ┆ BasicChecking   ┆ 514448889076707 ┆ Accepted │\n",
       "│             ┆ 041              ┆ 9169             ┆                 ┆ 4554            ┆          │\n",
       "│ 0.0         ┆ 3547906257942035 ┆ 1149726893044678 ┆ UPlusFinPersona ┆ null            ┆ Rejected │\n",
       "│             ┆ 421              ┆ 9427             ┆ l               ┆                 ┆          │\n",
       "│ 0.02333     ┆ 1395112479542336 ┆ 1149726893044678 ┆ BasicChecking   ┆ 514448889076707 ┆ Rejected │\n",
       "│             ┆ 5945             ┆ 9427             ┆                 ┆ 4554            ┆          │\n",
       "└─────────────┴──────────────────┴──────────────────┴─────────────────┴─────────────────┴──────────┘"
      ]
     },
     "execution_count": 13,
     "metadata": {},
     "output_type": "execute_result"
    }
   ],
   "source": [
    "pl.read_ipc('output/hds.arrow')"
   ]
  },
  {
   "attachments": {},
   "cell_type": "markdown",
   "metadata": {},
   "source": [
    "## Advanced: Hash fuctions\n",
    "\n",
    "By default, we use [the same hashing algorithm Polars](https://pola-rs.github.io/polars/py-polars/html/reference/expressions/api/polars.Expr.hash.html#polars.Expr.hash) uses: [xxhash](https://github.com/Cyan4973/xxHash), as implemented [here](https://github.com/pola-rs/polars/blob/3f287f370b3c388ed2f3f218b2c096382548136f/polars/polars-core/src/vector_hasher.rs#L266). xxhash is fast to compute, and you can check its performance in collision, dispersion and randomness [here](https://github.com/Cyan4973/xxHash/tree/dev/tests). \n",
    "\n",
    "xxhash accepts four distinct seeds, but by default we set the seeds to `0`. It is possible to set the `seed` argument of the `process()` function to `'random'`, which will set all four seeds to a random integer between `0` and `1000000000`. Alternatively, it is possible to supply the four seeds manually with arguments `seed`, `seed_1`, `seed_2` and `seed_3`. \n",
    "\n",
    "If the xxhash with (random) seed(s) is not deemed sufficiently secure, it is possible to use your own hashing algorithm.\n",
    "\n",
    "Note that since we're now running python code and not native Polars code anymore, this will be _significantly_ slower. Nonetheless, it is possible.\n",
    "\n",
    "Just as an example - this is how one would use sha3_256:"
   ]
  },
  {
   "cell_type": "code",
   "execution_count": 14,
   "metadata": {
    "execution": {
     "iopub.execute_input": "2023-03-24T17:57:12.762640Z",
     "iopub.status.busy": "2023-03-24T17:57:12.762459Z",
     "iopub.status.idle": "2023-03-24T17:57:12.768197Z",
     "shell.execute_reply": "2023-03-24T17:57:12.767695Z"
    }
   },
   "outputs": [
    {
     "data": {
      "text/html": [
       "<div><style>\n",
       ".dataframe > thead > tr > th,\n",
       ".dataframe > tbody > tr > td {\n",
       "  text-align: right;\n",
       "}\n",
       "</style>\n",
       "<small>shape: (7, 6)</small><table border=\"1\" class=\"dataframe\"><thead><tr><th>PREDICTOR_0</th><th>PREDICTOR_1</th><th>PREDICTOR_2</th><th>Context_Name</th><th>IH_Web_Inbound_Accepted_pxLastGroupID</th><th>OUTCOME</th></tr><tr><td>f64</td><td>str</td><td>str</td><td>str</td><td>str</td><td>str</td></tr></thead><tbody><tr><td>0.983033</td><td>&quot;c73023dda51de1…</td><td>&quot;af486bc1815c72…</td><td>&quot;FirstMortgage3…</td><td>&quot;2513d0e24d8d02…</td><td>&quot;Rejected&quot;</td></tr><tr><td>0.144221</td><td>&quot;5414b197fb87b3…</td><td>&quot;3cdf7b1ae1342e…</td><td>&quot;FirstMortgage3…</td><td>&quot;8b55bf62fc2ecd…</td><td>&quot;Accepted&quot;</td></tr><tr><td>0.679745</td><td>&quot;892f5d61a9215e…</td><td>&quot;806ef34eb8237f…</td><td>&quot;MoneyMarketSav…</td><td>&quot;2513d0e24d8d02…</td><td>&quot;Rejected&quot;</td></tr><tr><td>1.0</td><td>&quot;c3aa807d9e927a…</td><td>&quot;3cdf7b1ae1342e…</td><td>&quot;BasicChecking&quot;</td><td>&quot;2513d0e24d8d02…</td><td>&quot;Rejected&quot;</td></tr><tr><td>0.718982</td><td>&quot;c2d492f9a05073…</td><td>&quot;af486bc1815c72…</td><td>&quot;BasicChecking&quot;</td><td>&quot;1cd082ecbd5dd9…</td><td>&quot;Accepted&quot;</td></tr><tr><td>0.0</td><td>&quot;b21059221605c4…</td><td>&quot;806ef34eb8237f…</td><td>&quot;UPlusFinPerson…</td><td>null</td><td>&quot;Rejected&quot;</td></tr><tr><td>0.02333</td><td>&quot;80cbe489dcecd4…</td><td>&quot;806ef34eb8237f…</td><td>&quot;BasicChecking&quot;</td><td>&quot;1cd082ecbd5dd9…</td><td>&quot;Rejected&quot;</td></tr></tbody></table></div>"
      ],
      "text/plain": [
       "shape: (7, 6)\n",
       "┌─────────────┬──────────────────┬──────────────────┬─────────────────┬─────────────────┬──────────┐\n",
       "│ PREDICTOR_0 ┆ PREDICTOR_1      ┆ PREDICTOR_2      ┆ Context_Name    ┆ IH_Web_Inbound_ ┆ OUTCOME  │\n",
       "│ ---         ┆ ---              ┆ ---              ┆ ---             ┆ Accepted_pxLast ┆ ---      │\n",
       "│ f64         ┆ str              ┆ str              ┆ str             ┆ Gr…             ┆ str      │\n",
       "│             ┆                  ┆                  ┆                 ┆ ---             ┆          │\n",
       "│             ┆                  ┆                  ┆                 ┆ str             ┆          │\n",
       "╞═════════════╪══════════════════╪══════════════════╪═════════════════╪═════════════════╪══════════╡\n",
       "│ 0.983033    ┆ c73023dda51de1b8 ┆ af486bc1815c726c ┆ FirstMortgage30 ┆ 2513d0e24d8d021 ┆ Rejected │\n",
       "│             ┆ 4f7af774fd6f8c73 ┆ 357890ac2a40ba98 ┆ yr              ┆ 4eda4fb45444716 ┆          │\n",
       "│             ┆ …                ┆ …                ┆                 ┆ 2b…             ┆          │\n",
       "│ 0.144221    ┆ 5414b197fb87b3f2 ┆ 3cdf7b1ae1342ef9 ┆ FirstMortgage30 ┆ 8b55bf62fc2ecd1 ┆ Accepted │\n",
       "│             ┆ e350d7a74a840a81 ┆ 79ea2a782541ad05 ┆ yr              ┆ 6af97d48e469362 ┆          │\n",
       "│             ┆ …                ┆ …                ┆                 ┆ cf…             ┆          │\n",
       "│ 0.679745    ┆ 892f5d61a9215ef9 ┆ 806ef34eb8237f4d ┆ MoneyMarketSavi ┆ 2513d0e24d8d021 ┆ Rejected │\n",
       "│             ┆ 85f3fa293d51c92e ┆ b85004e96dc471d8 ┆ ngsAccount      ┆ 4eda4fb45444716 ┆          │\n",
       "│             ┆ …                ┆ …                ┆                 ┆ 2b…             ┆          │\n",
       "│ 1.0         ┆ c3aa807d9e927ae4 ┆ 3cdf7b1ae1342ef9 ┆ BasicChecking   ┆ 2513d0e24d8d021 ┆ Rejected │\n",
       "│             ┆ 26a89e76a12b9160 ┆ 79ea2a782541ad05 ┆                 ┆ 4eda4fb45444716 ┆          │\n",
       "│             ┆ …                ┆ …                ┆                 ┆ 2b…             ┆          │\n",
       "│ 0.718982    ┆ c2d492f9a0507327 ┆ af486bc1815c726c ┆ BasicChecking   ┆ 1cd082ecbd5dd95 ┆ Accepted │\n",
       "│             ┆ c14285e94e8ee54c ┆ 357890ac2a40ba98 ┆                 ┆ 383b10465e395c1 ┆          │\n",
       "│             ┆ …                ┆ …                ┆                 ┆ f7…             ┆          │\n",
       "│ 0.0         ┆ b21059221605c497 ┆ 806ef34eb8237f4d ┆ UPlusFinPersona ┆ null            ┆ Rejected │\n",
       "│             ┆ 57cfe0fee45640db ┆ b85004e96dc471d8 ┆ l               ┆                 ┆          │\n",
       "│             ┆ …                ┆ …                ┆                 ┆                 ┆          │\n",
       "│ 0.02333     ┆ 80cbe489dcecd4b9 ┆ 806ef34eb8237f4d ┆ BasicChecking   ┆ 1cd082ecbd5dd95 ┆ Rejected │\n",
       "│             ┆ 304898c9986afeeb ┆ b85004e96dc471d8 ┆                 ┆ 383b10465e395c1 ┆          │\n",
       "│             ┆ …                ┆ …                ┆                 ┆ f7…             ┆          │\n",
       "└─────────────┴──────────────────┴──────────────────┴─────────────────┴─────────────────┴──────────┘"
      ]
     },
     "execution_count": 14,
     "metadata": {},
     "output_type": "execute_result"
    }
   ],
   "source": [
    "from hashlib import sha3_256\n",
    "\n",
    "anon.process(algorithm=lambda x: sha3_256(x.encode()).hexdigest())"
   ]
  }
 ],
 "metadata": {
  "kernelspec": {
   "display_name": "Python 3",
   "language": "python",
   "name": "python3"
  },
  "language_info": {
   "codemirror_mode": {
    "name": "ipython",
    "version": 3
   },
   "file_extension": ".py",
   "mimetype": "text/x-python",
   "name": "python",
   "nbconvert_exporter": "python",
   "pygments_lexer": "ipython3",
   "version": "3.11.2"
  },
  "vscode": {
   "interpreter": {
    "hash": "aee8b7b246df8f9039afb4144a1f6fd8d2ca17a180786b69acc140d282b71a49"
   }
  }
 },
 "nbformat": 4,
 "nbformat_minor": 2
}
