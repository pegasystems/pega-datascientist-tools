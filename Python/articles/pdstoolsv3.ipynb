{
 "cells": [
  {
   "attachments": {},
   "cell_type": "markdown",
   "metadata": {},
   "source": [
    "# pdstools version 3: Polars\n",
    "\n",
    "With the version 3 release of pdstools, the back-end of the libary has shifted to use [Polars](https://github.com/pola-rs/polars). Polars is a blazingly fast DataFrames library implemented in Rust using Apache Arrow Columnar Format as the memory model. This means faster analyses and a more robust API: both externally and internally within our library. However, it is not a minor change, and will change the way you interact with the library. This article goes over some of the most notable changes, and most importantly: best practices.\n",
    "\n",
    "First off:\n",
    "\n",
    "## Lazy execution graphs\n",
    "\n",
    "One of the, if not the single most powerful feature of Polars is its `lazy execution API`. This allows you to iteratively build up your query, have Polars optimise it for you, and only `collect` the data after your entire query. In practice, this means that all row-wise filters & column-wise selects are shifted right to whenever you read the file, and all computations are optimised further. Let's look at an example, and one close to home!\n",
    "\n",
    "If we simply read in the shipped CDHSample dataset, and pass in the keyword `import_strategy='lazy'`, it will allow us to demonstrate this effect. Note: by default the import strategy is `'eager'`. We'll get to that later."
   ]
  },
  {
   "cell_type": "code",
   "execution_count": 1,
   "metadata": {
    "execution": {
     "iopub.execute_input": "2023-03-24T17:14:55.915865Z",
     "iopub.status.busy": "2023-03-24T17:14:55.915618Z",
     "iopub.status.idle": "2023-03-24T17:14:56.008345Z",
     "shell.execute_reply": "2023-03-24T17:14:56.007564Z"
    },
    "nbsphinx": "hidden"
   },
   "outputs": [],
   "source": [
    "# These lines are only for rendering in the docs, and are hidden through Jupyter tags\n",
    "# Do not run if you're running the notebook seperately\n",
    "\n",
    "import plotly.io as pio\n",
    "\n",
    "pio.renderers.default = \"notebook_connected\"\n",
    "\n",
    "import sys\n",
    "\n",
    "sys.path.append(\"../../../\")\n",
    "sys.path.append('../../python')"
   ]
  },
  {
   "cell_type": "code",
   "execution_count": 2,
   "metadata": {
    "execution": {
     "iopub.execute_input": "2023-03-24T17:14:56.011505Z",
     "iopub.status.busy": "2023-03-24T17:14:56.011068Z",
     "iopub.status.idle": "2023-03-24T17:14:58.163079Z",
     "shell.execute_reply": "2023-03-24T17:14:58.162301Z"
    }
   },
   "outputs": [
    {
     "name": "stderr",
     "output_type": "stream",
     "text": [
      "/opt/hostedtoolcache/Python/3.11.2/x64/lib/python3.11/site-packages/tqdm/auto.py:21: TqdmWarning:\n",
      "\n",
      "IProgress not found. Please update jupyter and ipywidgets. See https://ipywidgets.readthedocs.io/en/stable/user_install.html\n",
      "\n"
     ]
    },
    {
     "data": {
      "text/plain": [
       "<pdstools.adm.ADMDatamart.ADMDatamart at 0x7fde1a0b1a10>"
      ]
     },
     "execution_count": 2,
     "metadata": {},
     "output_type": "execute_result"
    }
   ],
   "source": [
    "from pdstools import datasets, ADMDatamart\n",
    "import polars as pl\n",
    "dm = datasets.CDHSample(import_strategy='lazy')\n",
    "dm"
   ]
  },
  {
   "attachments": {},
   "cell_type": "markdown",
   "metadata": {},
   "source": [
    "If you've used the previous version of pdstools, you've probably noticed nothing's changed. You still get the same `ADMDatamart` object. \n",
    "\n",
    "Try accessing the `modelData`, `predictorData` or `combinedData` property however, and things are different."
   ]
  },
  {
   "cell_type": "code",
   "execution_count": 3,
   "metadata": {
    "execution": {
     "iopub.execute_input": "2023-03-24T17:14:58.167313Z",
     "iopub.status.busy": "2023-03-24T17:14:58.166634Z",
     "iopub.status.idle": "2023-03-24T17:14:58.174505Z",
     "shell.execute_reply": "2023-03-24T17:14:58.173779Z"
    }
   },
   "outputs": [
    {
     "data": {
      "text/html": [
       "<i>naive plan: (run <b>LazyFrame.explain(optimized=True)</b> to see the optimized plan)</i>\n",
       "    <p></p>\n",
       "    <div> WITH_COLUMNS:<p></p> [<p></p>WHEN [(col(\"Positives\")) / (col(\"ResponseCount\"))].is_not_nan()<p></p>THEN<p></p>\t[(col(\"Positives\")) / (col(\"ResponseCount\"))]<p></p>OTHERWISE<p></p>\t0.alias(\"SuccessRate\"), col(\"SnapshotTime\")<p></p>FILTER WHERE [(col(\"Positives\").diff()) != (0)].max().over([col(\"ModelID\")]).alias(\"Last_Positives\"), col(\"SnapshotTime\")<p></p>FILTER WHERE [(col(\"ResponseCount\").diff()) != (0)].max().over([col(\"ModelID\")]).alias(\"Last_ResponseCount\")]<p></p>   WITH_COLUMNS:<p></p>   [col(\"SnapshotTime\").str.strptime()]<p></p>     WITH_COLUMNS:<p></p>     [col(\"Issue\").strict_cast(Categorical(None)), col(\"Group\").strict_cast(Categorical(None)), col(\"Channel\").strict_cast(Categorical(None)), col(\"Direction\").strict_cast(Categorical(None)), col(\"Configuration\").strict_cast(Categorical(None)), col(\"Performance\").strict_cast(Float64)]<p></p>       SELECT [col(\"SnapshotTime\"), col(\"Configuration\"), col(\"ResponseCount\"), col(\"Positives\"), col(\"Treatment\"), col(\"Issue\"), col(\"Name\"), col(\"Direction\"), col(\"Performance\"), col(\"Group\"), col(\"ModelID\"), col(\"Channel\")] FROM<p></p>        RENAME<p></p>          DF [\"ModelID\", \"Issue\", \"Group\", \"Name\"]; PROJECT */27 COLUMNS; SELECTION: \"None\"</div>"
      ],
      "text/plain": [
       "<polars.LazyFrame object at 0x7FDE0FACCC90>"
      ]
     },
     "execution_count": 3,
     "metadata": {},
     "output_type": "execute_result"
    }
   ],
   "source": [
    "dm.modelData"
   ]
  },
  {
   "attachments": {},
   "cell_type": "markdown",
   "metadata": {},
   "source": [
    "Not a dataframe - but a `NAIVE QUERY PLAN`. It's relatively intuitive, but you'd read this chart bottom-to-top: \n",
    "\n",
    "- We read the table, $\\pi$ `*/27;` (reading all columns out of the 27 available) and $\\sigma$ `-;` (no row-wise filters applied).\n",
    "- We then rename the columns by a predefined manner\n",
    "- Then we only keep 12 out of the 27 available columns\n",
    "- Change `[\"Issue\",\"Group\",\"Channel\",\"Direction\",\"Configuration\"]` to be categorical, `\"Performance\"` to numeric.\n",
    "- Transform `\"SnapshotTime\"` to datetime\n",
    "- Add `[\"SuccessRate\",\"Last_Positives\",\"Last_ResponseCount\"]` as columns.\n",
    "\n",
    "A sharp eye might already notice an inefficiency here. If we first read in all columns, then rename and then filter, can't we already infer which columns we need based on our predefined function, and filter when reading? Well - yes!\n",
    "\n",
    "This is the `naive` plan. If we call `.show_graph()`, we get the optimized version:"
   ]
  },
  {
   "cell_type": "code",
   "execution_count": 4,
   "metadata": {
    "execution": {
     "iopub.execute_input": "2023-03-24T17:14:58.177257Z",
     "iopub.status.busy": "2023-03-24T17:14:58.176885Z",
     "iopub.status.idle": "2023-03-24T17:14:58.859685Z",
     "shell.execute_reply": "2023-03-24T17:14:58.858849Z"
    }
   },
   "outputs": [
    {
     "ename": "ImportError",
     "evalue": "Graphviz dot binary should be on your PATH",
     "output_type": "error",
     "traceback": [
      "\u001b[0;31m---------------------------------------------------------------------------\u001b[0m",
      "\u001b[0;31mImportError\u001b[0m                               Traceback (most recent call last)",
      "Cell \u001b[0;32mIn[4], line 1\u001b[0m\n\u001b[0;32m----> 1\u001b[0m \u001b[43mdm\u001b[49m\u001b[38;5;241;43m.\u001b[39;49m\u001b[43mmodelData\u001b[49m\u001b[38;5;241;43m.\u001b[39;49m\u001b[43mshow_graph\u001b[49m\u001b[43m(\u001b[49m\u001b[43m)\u001b[49m\n",
      "File \u001b[0;32m/opt/hostedtoolcache/Python/3.11.2/x64/lib/python3.11/site-packages/polars/utils/decorators.py:126\u001b[0m, in \u001b[0;36mdeprecate_nonkeyword_arguments.<locals>.decorate.<locals>.wrapper\u001b[0;34m(*args, **kwargs)\u001b[0m\n\u001b[1;32m    124\u001b[0m \u001b[38;5;28;01mif\u001b[39;00m \u001b[38;5;28mlen\u001b[39m(args) \u001b[38;5;241m>\u001b[39m num_allowed_args:\n\u001b[1;32m    125\u001b[0m     warnings\u001b[38;5;241m.\u001b[39mwarn(msg, \u001b[38;5;167;01mDeprecationWarning\u001b[39;00m, stacklevel\u001b[38;5;241m=\u001b[39m\u001b[38;5;241m2\u001b[39m)\n\u001b[0;32m--> 126\u001b[0m \u001b[38;5;28;01mreturn\u001b[39;00m \u001b[43mfunction\u001b[49m\u001b[43m(\u001b[49m\u001b[38;5;241;43m*\u001b[39;49m\u001b[43margs\u001b[49m\u001b[43m,\u001b[49m\u001b[43m \u001b[49m\u001b[38;5;241;43m*\u001b[39;49m\u001b[38;5;241;43m*\u001b[39;49m\u001b[43mkwargs\u001b[49m\u001b[43m)\u001b[49m\n",
      "File \u001b[0;32m/opt/hostedtoolcache/Python/3.11.2/x64/lib/python3.11/site-packages/polars/lazyframe/frame.py:1066\u001b[0m, in \u001b[0;36mLazyFrame.show_graph\u001b[0;34m(self, optimized, show, output_path, raw_output, figsize, type_coercion, predicate_pushdown, projection_pushdown, simplify_expression, slice_pushdown, common_subplan_elimination, streaming)\u001b[0m\n\u001b[1;32m   1062\u001b[0m     graph \u001b[38;5;241m=\u001b[39m subprocess\u001b[38;5;241m.\u001b[39mcheck_output(\n\u001b[1;32m   1063\u001b[0m         [\u001b[38;5;124m\"\u001b[39m\u001b[38;5;124mdot\u001b[39m\u001b[38;5;124m\"\u001b[39m, \u001b[38;5;124m\"\u001b[39m\u001b[38;5;124m-Nshape=box\u001b[39m\u001b[38;5;124m\"\u001b[39m, \u001b[38;5;124m\"\u001b[39m\u001b[38;5;124m-T\u001b[39m\u001b[38;5;124m\"\u001b[39m \u001b[38;5;241m+\u001b[39m output_type], \u001b[38;5;28minput\u001b[39m\u001b[38;5;241m=\u001b[39m\u001b[38;5;124mf\u001b[39m\u001b[38;5;124m\"\u001b[39m\u001b[38;5;132;01m{\u001b[39;00mdot\u001b[38;5;132;01m}\u001b[39;00m\u001b[38;5;124m\"\u001b[39m\u001b[38;5;241m.\u001b[39mencode()\n\u001b[1;32m   1064\u001b[0m     )\n\u001b[1;32m   1065\u001b[0m \u001b[38;5;28;01mexcept\u001b[39;00m (\u001b[38;5;167;01mImportError\u001b[39;00m, \u001b[38;5;167;01mFileNotFoundError\u001b[39;00m):\n\u001b[0;32m-> 1066\u001b[0m     \u001b[38;5;28;01mraise\u001b[39;00m \u001b[38;5;167;01mImportError\u001b[39;00m(\u001b[38;5;124m\"\u001b[39m\u001b[38;5;124mGraphviz dot binary should be on your PATH\u001b[39m\u001b[38;5;124m\"\u001b[39m) \u001b[38;5;28;01mfrom\u001b[39;00m \u001b[38;5;28mNone\u001b[39m\n\u001b[1;32m   1068\u001b[0m \u001b[38;5;28;01mif\u001b[39;00m output_path:\n\u001b[1;32m   1069\u001b[0m     \u001b[38;5;28;01mwith\u001b[39;00m Path(output_path)\u001b[38;5;241m.\u001b[39mopen(mode\u001b[38;5;241m=\u001b[39m\u001b[38;5;124m\"\u001b[39m\u001b[38;5;124mwb\u001b[39m\u001b[38;5;124m\"\u001b[39m) \u001b[38;5;28;01mas\u001b[39;00m file:\n",
      "\u001b[0;31mImportError\u001b[0m: Graphviz dot binary should be on your PATH"
     ]
    }
   ],
   "source": [
    "dm.modelData.show_graph()"
   ]
  },
  {
   "attachments": {},
   "cell_type": "markdown",
   "metadata": {},
   "source": [
    "At first glance; not a huge change. However, note at the bottom we import $\\pi$ `12/27;`: we filter right when reading the file, and only read in 12 columns! This can make a big difference, especially because one column (`\"pyModelData\"`) is very big. \n",
    "\n",
    "Thus far, the $\\sigma$ symbol has been `-`. We can also change that: the $\\sigma$ symbol shows you which filters it applies on the rows when it's reading. For our example purpose, Let's say we're only interested in actions containing `Visa`. We can add that filter right to our execution plan!\n",
    "\n",
    "To tell Polars we're trying to filter on a `column`, we simply start our query with `pl.col(\"Name\")`. The `Name` column, containing the action names, is a string column. Therefore, to access `string`-based operations, we simply use `.str` to go to the `string namespace`. We want the string to `contain` `Visa`, therefore: `query=pl.col(\"Name\").str.contains(\"Visa\")`."
   ]
  },
  {
   "cell_type": "code",
   "execution_count": 5,
   "metadata": {
    "execution": {
     "iopub.execute_input": "2023-03-24T17:14:58.863529Z",
     "iopub.status.busy": "2023-03-24T17:14:58.863067Z",
     "iopub.status.idle": "2023-03-24T17:14:59.935699Z",
     "shell.execute_reply": "2023-03-24T17:14:59.934925Z"
    }
   },
   "outputs": [
    {
     "ename": "ImportError",
     "evalue": "Graphviz dot binary should be on your PATH",
     "output_type": "error",
     "traceback": [
      "\u001b[0;31m---------------------------------------------------------------------------\u001b[0m",
      "\u001b[0;31mImportError\u001b[0m                               Traceback (most recent call last)",
      "Cell \u001b[0;32mIn[5], line 4\u001b[0m\n\u001b[1;32m      1\u001b[0m dm \u001b[38;5;241m=\u001b[39m datasets\u001b[38;5;241m.\u001b[39mCDHSample(\n\u001b[1;32m      2\u001b[0m     import_strategy\u001b[38;5;241m=\u001b[39m\u001b[38;5;124m\"\u001b[39m\u001b[38;5;124mlazy\u001b[39m\u001b[38;5;124m\"\u001b[39m, query\u001b[38;5;241m=\u001b[39mpl\u001b[38;5;241m.\u001b[39mcol(\u001b[38;5;124m\"\u001b[39m\u001b[38;5;124mName\u001b[39m\u001b[38;5;124m\"\u001b[39m)\u001b[38;5;241m.\u001b[39mstr\u001b[38;5;241m.\u001b[39mcontains(\u001b[38;5;124m\"\u001b[39m\u001b[38;5;124mVisa\u001b[39m\u001b[38;5;124m\"\u001b[39m)\n\u001b[1;32m      3\u001b[0m )\n\u001b[0;32m----> 4\u001b[0m \u001b[43mdm\u001b[49m\u001b[38;5;241;43m.\u001b[39;49m\u001b[43mmodelData\u001b[49m\u001b[38;5;241;43m.\u001b[39;49m\u001b[43mshow_graph\u001b[49m\u001b[43m(\u001b[49m\u001b[43m)\u001b[49m\n",
      "File \u001b[0;32m/opt/hostedtoolcache/Python/3.11.2/x64/lib/python3.11/site-packages/polars/utils/decorators.py:126\u001b[0m, in \u001b[0;36mdeprecate_nonkeyword_arguments.<locals>.decorate.<locals>.wrapper\u001b[0;34m(*args, **kwargs)\u001b[0m\n\u001b[1;32m    124\u001b[0m \u001b[38;5;28;01mif\u001b[39;00m \u001b[38;5;28mlen\u001b[39m(args) \u001b[38;5;241m>\u001b[39m num_allowed_args:\n\u001b[1;32m    125\u001b[0m     warnings\u001b[38;5;241m.\u001b[39mwarn(msg, \u001b[38;5;167;01mDeprecationWarning\u001b[39;00m, stacklevel\u001b[38;5;241m=\u001b[39m\u001b[38;5;241m2\u001b[39m)\n\u001b[0;32m--> 126\u001b[0m \u001b[38;5;28;01mreturn\u001b[39;00m \u001b[43mfunction\u001b[49m\u001b[43m(\u001b[49m\u001b[38;5;241;43m*\u001b[39;49m\u001b[43margs\u001b[49m\u001b[43m,\u001b[49m\u001b[43m \u001b[49m\u001b[38;5;241;43m*\u001b[39;49m\u001b[38;5;241;43m*\u001b[39;49m\u001b[43mkwargs\u001b[49m\u001b[43m)\u001b[49m\n",
      "File \u001b[0;32m/opt/hostedtoolcache/Python/3.11.2/x64/lib/python3.11/site-packages/polars/lazyframe/frame.py:1066\u001b[0m, in \u001b[0;36mLazyFrame.show_graph\u001b[0;34m(self, optimized, show, output_path, raw_output, figsize, type_coercion, predicate_pushdown, projection_pushdown, simplify_expression, slice_pushdown, common_subplan_elimination, streaming)\u001b[0m\n\u001b[1;32m   1062\u001b[0m     graph \u001b[38;5;241m=\u001b[39m subprocess\u001b[38;5;241m.\u001b[39mcheck_output(\n\u001b[1;32m   1063\u001b[0m         [\u001b[38;5;124m\"\u001b[39m\u001b[38;5;124mdot\u001b[39m\u001b[38;5;124m\"\u001b[39m, \u001b[38;5;124m\"\u001b[39m\u001b[38;5;124m-Nshape=box\u001b[39m\u001b[38;5;124m\"\u001b[39m, \u001b[38;5;124m\"\u001b[39m\u001b[38;5;124m-T\u001b[39m\u001b[38;5;124m\"\u001b[39m \u001b[38;5;241m+\u001b[39m output_type], \u001b[38;5;28minput\u001b[39m\u001b[38;5;241m=\u001b[39m\u001b[38;5;124mf\u001b[39m\u001b[38;5;124m\"\u001b[39m\u001b[38;5;132;01m{\u001b[39;00mdot\u001b[38;5;132;01m}\u001b[39;00m\u001b[38;5;124m\"\u001b[39m\u001b[38;5;241m.\u001b[39mencode()\n\u001b[1;32m   1064\u001b[0m     )\n\u001b[1;32m   1065\u001b[0m \u001b[38;5;28;01mexcept\u001b[39;00m (\u001b[38;5;167;01mImportError\u001b[39;00m, \u001b[38;5;167;01mFileNotFoundError\u001b[39;00m):\n\u001b[0;32m-> 1066\u001b[0m     \u001b[38;5;28;01mraise\u001b[39;00m \u001b[38;5;167;01mImportError\u001b[39;00m(\u001b[38;5;124m\"\u001b[39m\u001b[38;5;124mGraphviz dot binary should be on your PATH\u001b[39m\u001b[38;5;124m\"\u001b[39m) \u001b[38;5;28;01mfrom\u001b[39;00m \u001b[38;5;28mNone\u001b[39m\n\u001b[1;32m   1068\u001b[0m \u001b[38;5;28;01mif\u001b[39;00m output_path:\n\u001b[1;32m   1069\u001b[0m     \u001b[38;5;28;01mwith\u001b[39;00m Path(output_path)\u001b[38;5;241m.\u001b[39mopen(mode\u001b[38;5;241m=\u001b[39m\u001b[38;5;124m\"\u001b[39m\u001b[38;5;124mwb\u001b[39m\u001b[38;5;124m\"\u001b[39m) \u001b[38;5;28;01mas\u001b[39;00m file:\n",
      "\u001b[0;31mImportError\u001b[0m: Graphviz dot binary should be on your PATH"
     ]
    }
   ],
   "source": [
    "dm = datasets.CDHSample(\n",
    "    import_strategy=\"lazy\", query=pl.col(\"Name\").str.contains(\"Visa\")\n",
    ")\n",
    "dm.modelData.show_graph()"
   ]
  },
  {
   "attachments": {},
   "cell_type": "markdown",
   "metadata": {},
   "source": [
    "\"Okay, but how do we actually get to the data?\" - Simple! Just use `.collect()`."
   ]
  },
  {
   "cell_type": "code",
   "execution_count": 6,
   "metadata": {
    "execution": {
     "iopub.execute_input": "2023-03-24T17:14:59.939591Z",
     "iopub.status.busy": "2023-03-24T17:14:59.938957Z",
     "iopub.status.idle": "2023-03-24T17:14:59.953424Z",
     "shell.execute_reply": "2023-03-24T17:14:59.952641Z"
    }
   },
   "outputs": [
    {
     "data": {
      "text/html": [
       "<div><style>\n",
       ".dataframe > thead > tr > th,\n",
       ".dataframe > tbody > tr > td {\n",
       "  text-align: right;\n",
       "}\n",
       "</style>\n",
       "<small>shape: (22, 15)</small><table border=\"1\" class=\"dataframe\"><thead><tr><th>SnapshotTime</th><th>Configuration</th><th>ResponseCount</th><th>Positives</th><th>Treatment</th><th>Issue</th><th>Name</th><th>Direction</th><th>Performance</th><th>Group</th><th>ModelID</th><th>Channel</th><th>SuccessRate</th><th>Last_Positives</th><th>Last_ResponseCount</th></tr><tr><td>datetime[ns]</td><td>cat</td><td>i64</td><td>i64</td><td>null</td><td>cat</td><td>str</td><td>cat</td><td>f64</td><td>cat</td><td>str</td><td>cat</td><td>f64</td><td>datetime[ns]</td><td>datetime[ns]</td></tr></thead><tbody><tr><td>2021-06-01 08:23:26.000000789</td><td>&quot;OmniAdaptiveMo…</td><td>72</td><td>1</td><td>null</td><td>&quot;Sales&quot;</td><td>&quot;VisaGold&quot;</td><td>&quot;Inbound&quot;</td><td>0.5</td><td>&quot;CreditCards&quot;</td><td>&quot;17571d69-f802-…</td><td>&quot;Web&quot;</td><td>0.013889</td><td>2021-06-01 13:23:26.000000789</td><td>2021-06-01 13:23:26.000000789</td></tr><tr><td>2021-06-01 08:23:26.000000789</td><td>&quot;OmniAdaptiveMo…</td><td>166</td><td>4</td><td>null</td><td>&quot;Sales&quot;</td><td>&quot;VisaGold&quot;</td><td>&quot;Outbound&quot;</td><td>0.5</td><td>&quot;CreditCards&quot;</td><td>&quot;1be7cd72-741b-…</td><td>&quot;SMS&quot;</td><td>0.024096</td><td>2021-06-01 13:23:26.000000789</td><td>2021-06-01 13:23:26.000000789</td></tr><tr><td>2021-06-01 08:27:55.000000789</td><td>&quot;OmniAdaptiveMo…</td><td>161</td><td>3</td><td>null</td><td>&quot;Sales&quot;</td><td>&quot;VisaGold&quot;</td><td>&quot;Inbound&quot;</td><td>0.5</td><td>&quot;CreditCards&quot;</td><td>&quot;17571d69-f802-…</td><td>&quot;Web&quot;</td><td>0.018634</td><td>2021-06-01 13:23:26.000000789</td><td>2021-06-01 13:23:26.000000789</td></tr><tr><td>2021-06-01 09:03:01.000000789</td><td>&quot;OmniAdaptiveMo…</td><td>161</td><td>3</td><td>null</td><td>&quot;Sales&quot;</td><td>&quot;VisaGold&quot;</td><td>&quot;Inbound&quot;</td><td>0.5</td><td>&quot;CreditCards&quot;</td><td>&quot;17571d69-f802-…</td><td>&quot;Web&quot;</td><td>0.018634</td><td>2021-06-01 13:23:26.000000789</td><td>2021-06-01 13:23:26.000000789</td></tr><tr><td>2021-06-01 09:03:01.000000789</td><td>&quot;OmniAdaptiveMo…</td><td>166</td><td>4</td><td>null</td><td>&quot;Sales&quot;</td><td>&quot;VisaGold&quot;</td><td>&quot;Outbound&quot;</td><td>0.5</td><td>&quot;CreditCards&quot;</td><td>&quot;1be7cd72-741b-…</td><td>&quot;SMS&quot;</td><td>0.024096</td><td>2021-06-01 13:23:26.000000789</td><td>2021-06-01 13:23:26.000000789</td></tr><tr><td>2021-06-01 09:06:33.000000789</td><td>&quot;OmniAdaptiveMo…</td><td>271</td><td>7</td><td>null</td><td>&quot;Sales&quot;</td><td>&quot;VisaGold&quot;</td><td>&quot;Outbound&quot;</td><td>0.5</td><td>&quot;CreditCards&quot;</td><td>&quot;1be7cd72-741b-…</td><td>&quot;SMS&quot;</td><td>0.02583</td><td>2021-06-01 13:23:26.000000789</td><td>2021-06-01 13:23:26.000000789</td></tr><tr><td>2021-06-01 09:06:33.000000789</td><td>&quot;OmniAdaptiveMo…</td><td>233</td><td>12</td><td>null</td><td>&quot;Sales&quot;</td><td>&quot;VisaGold&quot;</td><td>&quot;Inbound&quot;</td><td>0.554538</td><td>&quot;CreditCards&quot;</td><td>&quot;17571d69-f802-…</td><td>&quot;Web&quot;</td><td>0.051502</td><td>2021-06-01 13:23:26.000000789</td><td>2021-06-01 13:23:26.000000789</td></tr><tr><td>2021-06-01 09:34:34.000000789</td><td>&quot;OmniAdaptiveMo…</td><td>233</td><td>12</td><td>null</td><td>&quot;Sales&quot;</td><td>&quot;VisaGold&quot;</td><td>&quot;Inbound&quot;</td><td>0.554538</td><td>&quot;CreditCards&quot;</td><td>&quot;17571d69-f802-…</td><td>&quot;Web&quot;</td><td>0.051502</td><td>2021-06-01 13:23:26.000000789</td><td>2021-06-01 13:23:26.000000789</td></tr><tr><td>2021-06-01 09:43:16.000000789</td><td>&quot;OmniAdaptiveMo…</td><td>353</td><td>8</td><td>null</td><td>&quot;Sales&quot;</td><td>&quot;VisaGold&quot;</td><td>&quot;Outbound&quot;</td><td>0.5</td><td>&quot;CreditCards&quot;</td><td>&quot;1be7cd72-741b-…</td><td>&quot;SMS&quot;</td><td>0.022663</td><td>2021-06-01 13:23:26.000000789</td><td>2021-06-01 13:23:26.000000789</td></tr><tr><td>2021-06-01 09:43:16.000000789</td><td>&quot;OmniAdaptiveMo…</td><td>320</td><td>19</td><td>null</td><td>&quot;Sales&quot;</td><td>&quot;VisaGold&quot;</td><td>&quot;Inbound&quot;</td><td>0.541487</td><td>&quot;CreditCards&quot;</td><td>&quot;17571d69-f802-…</td><td>&quot;Web&quot;</td><td>0.059375</td><td>2021-06-01 13:23:26.000000789</td><td>2021-06-01 13:23:26.000000789</td></tr><tr><td>2021-06-01 10:07:35.000000789</td><td>&quot;OmniAdaptiveMo…</td><td>437</td><td>10</td><td>null</td><td>&quot;Sales&quot;</td><td>&quot;VisaGold&quot;</td><td>&quot;Outbound&quot;</td><td>0.5</td><td>&quot;CreditCards&quot;</td><td>&quot;1be7cd72-741b-…</td><td>&quot;SMS&quot;</td><td>0.022883</td><td>2021-06-01 13:23:26.000000789</td><td>2021-06-01 13:23:26.000000789</td></tr><tr><td>2021-06-01 10:07:35.000000789</td><td>&quot;OmniAdaptiveMo…</td><td>391</td><td>24</td><td>null</td><td>&quot;Sales&quot;</td><td>&quot;VisaGold&quot;</td><td>&quot;Inbound&quot;</td><td>0.557512</td><td>&quot;CreditCards&quot;</td><td>&quot;17571d69-f802-…</td><td>&quot;Web&quot;</td><td>0.061381</td><td>2021-06-01 13:23:26.000000789</td><td>2021-06-01 13:23:26.000000789</td></tr><tr><td>2021-06-01 10:58:26.000000789</td><td>&quot;OmniAdaptiveMo…</td><td>470</td><td>28</td><td>null</td><td>&quot;Sales&quot;</td><td>&quot;VisaGold&quot;</td><td>&quot;Inbound&quot;</td><td>0.531173</td><td>&quot;CreditCards&quot;</td><td>&quot;17571d69-f802-…</td><td>&quot;Web&quot;</td><td>0.059574</td><td>2021-06-01 13:23:26.000000789</td><td>2021-06-01 13:23:26.000000789</td></tr><tr><td>2021-06-01 10:58:26.000000789</td><td>&quot;OmniAdaptiveMo…</td><td>507</td><td>17</td><td>null</td><td>&quot;Sales&quot;</td><td>&quot;VisaGold&quot;</td><td>&quot;Outbound&quot;</td><td>0.551713</td><td>&quot;CreditCards&quot;</td><td>&quot;1be7cd72-741b-…</td><td>&quot;SMS&quot;</td><td>0.033531</td><td>2021-06-01 13:23:26.000000789</td><td>2021-06-01 13:23:26.000000789</td></tr><tr><td>2021-06-01 11:29:54.000000789</td><td>&quot;OmniAdaptiveMo…</td><td>507</td><td>17</td><td>null</td><td>&quot;Sales&quot;</td><td>&quot;VisaGold&quot;</td><td>&quot;Outbound&quot;</td><td>0.551713</td><td>&quot;CreditCards&quot;</td><td>&quot;1be7cd72-741b-…</td><td>&quot;SMS&quot;</td><td>0.033531</td><td>2021-06-01 13:23:26.000000789</td><td>2021-06-01 13:23:26.000000789</td></tr><tr><td>2021-06-01 12:15:05.000000789</td><td>&quot;OmniAdaptiveMo…</td><td>674</td><td>21</td><td>null</td><td>&quot;Sales&quot;</td><td>&quot;VisaGold&quot;</td><td>&quot;Outbound&quot;</td><td>0.524312</td><td>&quot;CreditCards&quot;</td><td>&quot;1be7cd72-741b-…</td><td>&quot;SMS&quot;</td><td>0.031157</td><td>2021-06-01 13:23:26.000000789</td><td>2021-06-01 13:23:26.000000789</td></tr><tr><td>2021-06-01 12:15:05.000000789</td><td>&quot;OmniAdaptiveMo…</td><td>633</td><td>39</td><td>null</td><td>&quot;Sales&quot;</td><td>&quot;VisaGold&quot;</td><td>&quot;Inbound&quot;</td><td>0.549843</td><td>&quot;CreditCards&quot;</td><td>&quot;17571d69-f802-…</td><td>&quot;Web&quot;</td><td>0.061611</td><td>2021-06-01 13:23:26.000000789</td><td>2021-06-01 13:23:26.000000789</td></tr><tr><td>2021-06-01 12:42:04.000000789</td><td>&quot;OmniAdaptiveMo…</td><td>674</td><td>21</td><td>null</td><td>&quot;Sales&quot;</td><td>&quot;VisaGold&quot;</td><td>&quot;Outbound&quot;</td><td>0.524312</td><td>&quot;CreditCards&quot;</td><td>&quot;1be7cd72-741b-…</td><td>&quot;SMS&quot;</td><td>0.031157</td><td>2021-06-01 13:23:26.000000789</td><td>2021-06-01 13:23:26.000000789</td></tr><tr><td>2021-06-01 12:45:20.000000789</td><td>&quot;OmniAdaptiveMo…</td><td>746</td><td>24</td><td>null</td><td>&quot;Sales&quot;</td><td>&quot;VisaGold&quot;</td><td>&quot;Outbound&quot;</td><td>0.535621</td><td>&quot;CreditCards&quot;</td><td>&quot;1be7cd72-741b-…</td><td>&quot;SMS&quot;</td><td>0.032172</td><td>2021-06-01 13:23:26.000000789</td><td>2021-06-01 13:23:26.000000789</td></tr><tr><td>2021-06-01 13:18:21.000000789</td><td>&quot;OmniAdaptiveMo…</td><td>706</td><td>43</td><td>null</td><td>&quot;Sales&quot;</td><td>&quot;VisaGold&quot;</td><td>&quot;Inbound&quot;</td><td>0.538104</td><td>&quot;CreditCards&quot;</td><td>&quot;17571d69-f802-…</td><td>&quot;Web&quot;</td><td>0.060907</td><td>2021-06-01 13:23:26.000000789</td><td>2021-06-01 13:23:26.000000789</td></tr><tr><td>2021-06-01 13:23:26.000000789</td><td>&quot;OmniAdaptiveMo…</td><td>822</td><td>27</td><td>null</td><td>&quot;Sales&quot;</td><td>&quot;VisaGold&quot;</td><td>&quot;Outbound&quot;</td><td>0.531863</td><td>&quot;CreditCards&quot;</td><td>&quot;1be7cd72-741b-…</td><td>&quot;SMS&quot;</td><td>0.032847</td><td>2021-06-01 13:23:26.000000789</td><td>2021-06-01 13:23:26.000000789</td></tr><tr><td>2021-06-01 13:23:26.000000789</td><td>&quot;OmniAdaptiveMo…</td><td>778</td><td>46</td><td>null</td><td>&quot;Sales&quot;</td><td>&quot;VisaGold&quot;</td><td>&quot;Inbound&quot;</td><td>0.519586</td><td>&quot;CreditCards&quot;</td><td>&quot;17571d69-f802-…</td><td>&quot;Web&quot;</td><td>0.059126</td><td>2021-06-01 13:23:26.000000789</td><td>2021-06-01 13:23:26.000000789</td></tr></tbody></table></div>"
      ],
      "text/plain": [
       "shape: (22, 15)\n",
       "┌────────────┬────────────┬────────────┬───────────┬───┬─────────┬───────────┬────────────┬────────────┐\n",
       "│ SnapshotTi ┆ Configurat ┆ ResponseCo ┆ Positives ┆ … ┆ Channel ┆ SuccessRa ┆ Last_Posit ┆ Last_Respo │\n",
       "│ me         ┆ ion        ┆ unt        ┆ ---       ┆   ┆ ---     ┆ te        ┆ ives       ┆ nseCount   │\n",
       "│ ---        ┆ ---        ┆ ---        ┆ i64       ┆   ┆ cat     ┆ ---       ┆ ---        ┆ ---        │\n",
       "│ datetime[n ┆ cat        ┆ i64        ┆           ┆   ┆         ┆ f64       ┆ datetime[n ┆ datetime[n │\n",
       "│ s]         ┆            ┆            ┆           ┆   ┆         ┆           ┆ s]         ┆ s]         │\n",
       "╞════════════╪════════════╪════════════╪═══════════╪═══╪═════════╪═══════════╪════════════╪════════════╡\n",
       "│ 2021-06-01 ┆ OmniAdapti ┆ 72         ┆ 1         ┆ … ┆ Web     ┆ 0.013889  ┆ 2021-06-01 ┆ 2021-06-01 │\n",
       "│ 08:23:26.0 ┆ veModel    ┆            ┆           ┆   ┆         ┆           ┆ 13:23:26.0 ┆ 13:23:26.0 │\n",
       "│ 00000789   ┆            ┆            ┆           ┆   ┆         ┆           ┆ 00000789   ┆ 00000789   │\n",
       "│ 2021-06-01 ┆ OmniAdapti ┆ 166        ┆ 4         ┆ … ┆ SMS     ┆ 0.024096  ┆ 2021-06-01 ┆ 2021-06-01 │\n",
       "│ 08:23:26.0 ┆ veModel    ┆            ┆           ┆   ┆         ┆           ┆ 13:23:26.0 ┆ 13:23:26.0 │\n",
       "│ 00000789   ┆            ┆            ┆           ┆   ┆         ┆           ┆ 00000789   ┆ 00000789   │\n",
       "│ 2021-06-01 ┆ OmniAdapti ┆ 161        ┆ 3         ┆ … ┆ Web     ┆ 0.018634  ┆ 2021-06-01 ┆ 2021-06-01 │\n",
       "│ 08:27:55.0 ┆ veModel    ┆            ┆           ┆   ┆         ┆           ┆ 13:23:26.0 ┆ 13:23:26.0 │\n",
       "│ 00000789   ┆            ┆            ┆           ┆   ┆         ┆           ┆ 00000789   ┆ 00000789   │\n",
       "│ 2021-06-01 ┆ OmniAdapti ┆ 161        ┆ 3         ┆ … ┆ Web     ┆ 0.018634  ┆ 2021-06-01 ┆ 2021-06-01 │\n",
       "│ 09:03:01.0 ┆ veModel    ┆            ┆           ┆   ┆         ┆           ┆ 13:23:26.0 ┆ 13:23:26.0 │\n",
       "│ 00000789   ┆            ┆            ┆           ┆   ┆         ┆           ┆ 00000789   ┆ 00000789   │\n",
       "│ …          ┆ …          ┆ …          ┆ …         ┆ … ┆ …       ┆ …         ┆ …          ┆ …          │\n",
       "│ 2021-06-01 ┆ OmniAdapti ┆ 746        ┆ 24        ┆ … ┆ SMS     ┆ 0.032172  ┆ 2021-06-01 ┆ 2021-06-01 │\n",
       "│ 12:45:20.0 ┆ veModel    ┆            ┆           ┆   ┆         ┆           ┆ 13:23:26.0 ┆ 13:23:26.0 │\n",
       "│ 00000789   ┆            ┆            ┆           ┆   ┆         ┆           ┆ 00000789   ┆ 00000789   │\n",
       "│ 2021-06-01 ┆ OmniAdapti ┆ 706        ┆ 43        ┆ … ┆ Web     ┆ 0.060907  ┆ 2021-06-01 ┆ 2021-06-01 │\n",
       "│ 13:18:21.0 ┆ veModel    ┆            ┆           ┆   ┆         ┆           ┆ 13:23:26.0 ┆ 13:23:26.0 │\n",
       "│ 00000789   ┆            ┆            ┆           ┆   ┆         ┆           ┆ 00000789   ┆ 00000789   │\n",
       "│ 2021-06-01 ┆ OmniAdapti ┆ 822        ┆ 27        ┆ … ┆ SMS     ┆ 0.032847  ┆ 2021-06-01 ┆ 2021-06-01 │\n",
       "│ 13:23:26.0 ┆ veModel    ┆            ┆           ┆   ┆         ┆           ┆ 13:23:26.0 ┆ 13:23:26.0 │\n",
       "│ 00000789   ┆            ┆            ┆           ┆   ┆         ┆           ┆ 00000789   ┆ 00000789   │\n",
       "│ 2021-06-01 ┆ OmniAdapti ┆ 778        ┆ 46        ┆ … ┆ Web     ┆ 0.059126  ┆ 2021-06-01 ┆ 2021-06-01 │\n",
       "│ 13:23:26.0 ┆ veModel    ┆            ┆           ┆   ┆         ┆           ┆ 13:23:26.0 ┆ 13:23:26.0 │\n",
       "│ 00000789   ┆            ┆            ┆           ┆   ┆         ┆           ┆ 00000789   ┆ 00000789   │\n",
       "└────────────┴────────────┴────────────┴───────────┴───┴─────────┴───────────┴────────────┴────────────┘"
      ]
     },
     "execution_count": 6,
     "metadata": {},
     "output_type": "execute_result"
    }
   ],
   "source": [
    "dm.modelData.collect()"
   ]
  },
  {
   "attachments": {},
   "cell_type": "markdown",
   "metadata": {},
   "source": [
    "This table is very similar to Pandas tables, though there are some slight differences. The types are explicitly mentioned in the header, string values are in quotes, and long string values get cut off more agressively. Other than that, there's no real change! And if you still want to use pandas, just call `.to_pandas()` :)"
   ]
  },
  {
   "cell_type": "code",
   "execution_count": 7,
   "metadata": {
    "execution": {
     "iopub.execute_input": "2023-03-24T17:14:59.956356Z",
     "iopub.status.busy": "2023-03-24T17:14:59.955924Z",
     "iopub.status.idle": "2023-03-24T17:14:59.985405Z",
     "shell.execute_reply": "2023-03-24T17:14:59.984586Z"
    }
   },
   "outputs": [
    {
     "data": {
      "text/html": [
       "<div>\n",
       "<style scoped>\n",
       "    .dataframe tbody tr th:only-of-type {\n",
       "        vertical-align: middle;\n",
       "    }\n",
       "\n",
       "    .dataframe tbody tr th {\n",
       "        vertical-align: top;\n",
       "    }\n",
       "\n",
       "    .dataframe thead th {\n",
       "        text-align: right;\n",
       "    }\n",
       "</style>\n",
       "<table border=\"1\" class=\"dataframe\">\n",
       "  <thead>\n",
       "    <tr style=\"text-align: right;\">\n",
       "      <th></th>\n",
       "      <th>SnapshotTime</th>\n",
       "      <th>Configuration</th>\n",
       "      <th>ResponseCount</th>\n",
       "      <th>Positives</th>\n",
       "      <th>Treatment</th>\n",
       "      <th>Issue</th>\n",
       "      <th>Name</th>\n",
       "      <th>Direction</th>\n",
       "      <th>Performance</th>\n",
       "      <th>Group</th>\n",
       "      <th>ModelID</th>\n",
       "      <th>Channel</th>\n",
       "      <th>SuccessRate</th>\n",
       "      <th>Last_Positives</th>\n",
       "      <th>Last_ResponseCount</th>\n",
       "    </tr>\n",
       "  </thead>\n",
       "  <tbody>\n",
       "    <tr>\n",
       "      <th>0</th>\n",
       "      <td>2021-06-01 08:23:26.000000789</td>\n",
       "      <td>OmniAdaptiveModel</td>\n",
       "      <td>72</td>\n",
       "      <td>1</td>\n",
       "      <td>None</td>\n",
       "      <td>Sales</td>\n",
       "      <td>VisaGold</td>\n",
       "      <td>Inbound</td>\n",
       "      <td>0.500000</td>\n",
       "      <td>CreditCards</td>\n",
       "      <td>17571d69-f802-5122-9bfe-6f3f4ef9073b</td>\n",
       "      <td>Web</td>\n",
       "      <td>0.013889</td>\n",
       "      <td>2021-06-01 13:23:26.000000789</td>\n",
       "      <td>2021-06-01 13:23:26.000000789</td>\n",
       "    </tr>\n",
       "    <tr>\n",
       "      <th>1</th>\n",
       "      <td>2021-06-01 08:23:26.000000789</td>\n",
       "      <td>OmniAdaptiveModel</td>\n",
       "      <td>166</td>\n",
       "      <td>4</td>\n",
       "      <td>None</td>\n",
       "      <td>Sales</td>\n",
       "      <td>VisaGold</td>\n",
       "      <td>Outbound</td>\n",
       "      <td>0.500000</td>\n",
       "      <td>CreditCards</td>\n",
       "      <td>1be7cd72-741b-5d68-b148-c1af0142fd4a</td>\n",
       "      <td>SMS</td>\n",
       "      <td>0.024096</td>\n",
       "      <td>2021-06-01 13:23:26.000000789</td>\n",
       "      <td>2021-06-01 13:23:26.000000789</td>\n",
       "    </tr>\n",
       "    <tr>\n",
       "      <th>2</th>\n",
       "      <td>2021-06-01 08:27:55.000000789</td>\n",
       "      <td>OmniAdaptiveModel</td>\n",
       "      <td>161</td>\n",
       "      <td>3</td>\n",
       "      <td>None</td>\n",
       "      <td>Sales</td>\n",
       "      <td>VisaGold</td>\n",
       "      <td>Inbound</td>\n",
       "      <td>0.500000</td>\n",
       "      <td>CreditCards</td>\n",
       "      <td>17571d69-f802-5122-9bfe-6f3f4ef9073b</td>\n",
       "      <td>Web</td>\n",
       "      <td>0.018634</td>\n",
       "      <td>2021-06-01 13:23:26.000000789</td>\n",
       "      <td>2021-06-01 13:23:26.000000789</td>\n",
       "    </tr>\n",
       "    <tr>\n",
       "      <th>3</th>\n",
       "      <td>2021-06-01 09:03:01.000000789</td>\n",
       "      <td>OmniAdaptiveModel</td>\n",
       "      <td>161</td>\n",
       "      <td>3</td>\n",
       "      <td>None</td>\n",
       "      <td>Sales</td>\n",
       "      <td>VisaGold</td>\n",
       "      <td>Inbound</td>\n",
       "      <td>0.500000</td>\n",
       "      <td>CreditCards</td>\n",
       "      <td>17571d69-f802-5122-9bfe-6f3f4ef9073b</td>\n",
       "      <td>Web</td>\n",
       "      <td>0.018634</td>\n",
       "      <td>2021-06-01 13:23:26.000000789</td>\n",
       "      <td>2021-06-01 13:23:26.000000789</td>\n",
       "    </tr>\n",
       "    <tr>\n",
       "      <th>4</th>\n",
       "      <td>2021-06-01 09:03:01.000000789</td>\n",
       "      <td>OmniAdaptiveModel</td>\n",
       "      <td>166</td>\n",
       "      <td>4</td>\n",
       "      <td>None</td>\n",
       "      <td>Sales</td>\n",
       "      <td>VisaGold</td>\n",
       "      <td>Outbound</td>\n",
       "      <td>0.500000</td>\n",
       "      <td>CreditCards</td>\n",
       "      <td>1be7cd72-741b-5d68-b148-c1af0142fd4a</td>\n",
       "      <td>SMS</td>\n",
       "      <td>0.024096</td>\n",
       "      <td>2021-06-01 13:23:26.000000789</td>\n",
       "      <td>2021-06-01 13:23:26.000000789</td>\n",
       "    </tr>\n",
       "    <tr>\n",
       "      <th>5</th>\n",
       "      <td>2021-06-01 09:06:33.000000789</td>\n",
       "      <td>OmniAdaptiveModel</td>\n",
       "      <td>271</td>\n",
       "      <td>7</td>\n",
       "      <td>None</td>\n",
       "      <td>Sales</td>\n",
       "      <td>VisaGold</td>\n",
       "      <td>Outbound</td>\n",
       "      <td>0.500000</td>\n",
       "      <td>CreditCards</td>\n",
       "      <td>1be7cd72-741b-5d68-b148-c1af0142fd4a</td>\n",
       "      <td>SMS</td>\n",
       "      <td>0.025830</td>\n",
       "      <td>2021-06-01 13:23:26.000000789</td>\n",
       "      <td>2021-06-01 13:23:26.000000789</td>\n",
       "    </tr>\n",
       "    <tr>\n",
       "      <th>6</th>\n",
       "      <td>2021-06-01 09:06:33.000000789</td>\n",
       "      <td>OmniAdaptiveModel</td>\n",
       "      <td>233</td>\n",
       "      <td>12</td>\n",
       "      <td>None</td>\n",
       "      <td>Sales</td>\n",
       "      <td>VisaGold</td>\n",
       "      <td>Inbound</td>\n",
       "      <td>0.554538</td>\n",
       "      <td>CreditCards</td>\n",
       "      <td>17571d69-f802-5122-9bfe-6f3f4ef9073b</td>\n",
       "      <td>Web</td>\n",
       "      <td>0.051502</td>\n",
       "      <td>2021-06-01 13:23:26.000000789</td>\n",
       "      <td>2021-06-01 13:23:26.000000789</td>\n",
       "    </tr>\n",
       "    <tr>\n",
       "      <th>7</th>\n",
       "      <td>2021-06-01 09:34:34.000000789</td>\n",
       "      <td>OmniAdaptiveModel</td>\n",
       "      <td>233</td>\n",
       "      <td>12</td>\n",
       "      <td>None</td>\n",
       "      <td>Sales</td>\n",
       "      <td>VisaGold</td>\n",
       "      <td>Inbound</td>\n",
       "      <td>0.554538</td>\n",
       "      <td>CreditCards</td>\n",
       "      <td>17571d69-f802-5122-9bfe-6f3f4ef9073b</td>\n",
       "      <td>Web</td>\n",
       "      <td>0.051502</td>\n",
       "      <td>2021-06-01 13:23:26.000000789</td>\n",
       "      <td>2021-06-01 13:23:26.000000789</td>\n",
       "    </tr>\n",
       "    <tr>\n",
       "      <th>8</th>\n",
       "      <td>2021-06-01 09:43:16.000000789</td>\n",
       "      <td>OmniAdaptiveModel</td>\n",
       "      <td>353</td>\n",
       "      <td>8</td>\n",
       "      <td>None</td>\n",
       "      <td>Sales</td>\n",
       "      <td>VisaGold</td>\n",
       "      <td>Outbound</td>\n",
       "      <td>0.500000</td>\n",
       "      <td>CreditCards</td>\n",
       "      <td>1be7cd72-741b-5d68-b148-c1af0142fd4a</td>\n",
       "      <td>SMS</td>\n",
       "      <td>0.022663</td>\n",
       "      <td>2021-06-01 13:23:26.000000789</td>\n",
       "      <td>2021-06-01 13:23:26.000000789</td>\n",
       "    </tr>\n",
       "    <tr>\n",
       "      <th>9</th>\n",
       "      <td>2021-06-01 09:43:16.000000789</td>\n",
       "      <td>OmniAdaptiveModel</td>\n",
       "      <td>320</td>\n",
       "      <td>19</td>\n",
       "      <td>None</td>\n",
       "      <td>Sales</td>\n",
       "      <td>VisaGold</td>\n",
       "      <td>Inbound</td>\n",
       "      <td>0.541487</td>\n",
       "      <td>CreditCards</td>\n",
       "      <td>17571d69-f802-5122-9bfe-6f3f4ef9073b</td>\n",
       "      <td>Web</td>\n",
       "      <td>0.059375</td>\n",
       "      <td>2021-06-01 13:23:26.000000789</td>\n",
       "      <td>2021-06-01 13:23:26.000000789</td>\n",
       "    </tr>\n",
       "    <tr>\n",
       "      <th>10</th>\n",
       "      <td>2021-06-01 10:07:35.000000789</td>\n",
       "      <td>OmniAdaptiveModel</td>\n",
       "      <td>437</td>\n",
       "      <td>10</td>\n",
       "      <td>None</td>\n",
       "      <td>Sales</td>\n",
       "      <td>VisaGold</td>\n",
       "      <td>Outbound</td>\n",
       "      <td>0.500000</td>\n",
       "      <td>CreditCards</td>\n",
       "      <td>1be7cd72-741b-5d68-b148-c1af0142fd4a</td>\n",
       "      <td>SMS</td>\n",
       "      <td>0.022883</td>\n",
       "      <td>2021-06-01 13:23:26.000000789</td>\n",
       "      <td>2021-06-01 13:23:26.000000789</td>\n",
       "    </tr>\n",
       "    <tr>\n",
       "      <th>11</th>\n",
       "      <td>2021-06-01 10:07:35.000000789</td>\n",
       "      <td>OmniAdaptiveModel</td>\n",
       "      <td>391</td>\n",
       "      <td>24</td>\n",
       "      <td>None</td>\n",
       "      <td>Sales</td>\n",
       "      <td>VisaGold</td>\n",
       "      <td>Inbound</td>\n",
       "      <td>0.557512</td>\n",
       "      <td>CreditCards</td>\n",
       "      <td>17571d69-f802-5122-9bfe-6f3f4ef9073b</td>\n",
       "      <td>Web</td>\n",
       "      <td>0.061381</td>\n",
       "      <td>2021-06-01 13:23:26.000000789</td>\n",
       "      <td>2021-06-01 13:23:26.000000789</td>\n",
       "    </tr>\n",
       "    <tr>\n",
       "      <th>12</th>\n",
       "      <td>2021-06-01 10:58:26.000000789</td>\n",
       "      <td>OmniAdaptiveModel</td>\n",
       "      <td>470</td>\n",
       "      <td>28</td>\n",
       "      <td>None</td>\n",
       "      <td>Sales</td>\n",
       "      <td>VisaGold</td>\n",
       "      <td>Inbound</td>\n",
       "      <td>0.531173</td>\n",
       "      <td>CreditCards</td>\n",
       "      <td>17571d69-f802-5122-9bfe-6f3f4ef9073b</td>\n",
       "      <td>Web</td>\n",
       "      <td>0.059574</td>\n",
       "      <td>2021-06-01 13:23:26.000000789</td>\n",
       "      <td>2021-06-01 13:23:26.000000789</td>\n",
       "    </tr>\n",
       "    <tr>\n",
       "      <th>13</th>\n",
       "      <td>2021-06-01 10:58:26.000000789</td>\n",
       "      <td>OmniAdaptiveModel</td>\n",
       "      <td>507</td>\n",
       "      <td>17</td>\n",
       "      <td>None</td>\n",
       "      <td>Sales</td>\n",
       "      <td>VisaGold</td>\n",
       "      <td>Outbound</td>\n",
       "      <td>0.551713</td>\n",
       "      <td>CreditCards</td>\n",
       "      <td>1be7cd72-741b-5d68-b148-c1af0142fd4a</td>\n",
       "      <td>SMS</td>\n",
       "      <td>0.033531</td>\n",
       "      <td>2021-06-01 13:23:26.000000789</td>\n",
       "      <td>2021-06-01 13:23:26.000000789</td>\n",
       "    </tr>\n",
       "    <tr>\n",
       "      <th>14</th>\n",
       "      <td>2021-06-01 11:29:54.000000789</td>\n",
       "      <td>OmniAdaptiveModel</td>\n",
       "      <td>507</td>\n",
       "      <td>17</td>\n",
       "      <td>None</td>\n",
       "      <td>Sales</td>\n",
       "      <td>VisaGold</td>\n",
       "      <td>Outbound</td>\n",
       "      <td>0.551713</td>\n",
       "      <td>CreditCards</td>\n",
       "      <td>1be7cd72-741b-5d68-b148-c1af0142fd4a</td>\n",
       "      <td>SMS</td>\n",
       "      <td>0.033531</td>\n",
       "      <td>2021-06-01 13:23:26.000000789</td>\n",
       "      <td>2021-06-01 13:23:26.000000789</td>\n",
       "    </tr>\n",
       "    <tr>\n",
       "      <th>15</th>\n",
       "      <td>2021-06-01 12:15:05.000000789</td>\n",
       "      <td>OmniAdaptiveModel</td>\n",
       "      <td>674</td>\n",
       "      <td>21</td>\n",
       "      <td>None</td>\n",
       "      <td>Sales</td>\n",
       "      <td>VisaGold</td>\n",
       "      <td>Outbound</td>\n",
       "      <td>0.524312</td>\n",
       "      <td>CreditCards</td>\n",
       "      <td>1be7cd72-741b-5d68-b148-c1af0142fd4a</td>\n",
       "      <td>SMS</td>\n",
       "      <td>0.031157</td>\n",
       "      <td>2021-06-01 13:23:26.000000789</td>\n",
       "      <td>2021-06-01 13:23:26.000000789</td>\n",
       "    </tr>\n",
       "    <tr>\n",
       "      <th>16</th>\n",
       "      <td>2021-06-01 12:15:05.000000789</td>\n",
       "      <td>OmniAdaptiveModel</td>\n",
       "      <td>633</td>\n",
       "      <td>39</td>\n",
       "      <td>None</td>\n",
       "      <td>Sales</td>\n",
       "      <td>VisaGold</td>\n",
       "      <td>Inbound</td>\n",
       "      <td>0.549843</td>\n",
       "      <td>CreditCards</td>\n",
       "      <td>17571d69-f802-5122-9bfe-6f3f4ef9073b</td>\n",
       "      <td>Web</td>\n",
       "      <td>0.061611</td>\n",
       "      <td>2021-06-01 13:23:26.000000789</td>\n",
       "      <td>2021-06-01 13:23:26.000000789</td>\n",
       "    </tr>\n",
       "    <tr>\n",
       "      <th>17</th>\n",
       "      <td>2021-06-01 12:42:04.000000789</td>\n",
       "      <td>OmniAdaptiveModel</td>\n",
       "      <td>674</td>\n",
       "      <td>21</td>\n",
       "      <td>None</td>\n",
       "      <td>Sales</td>\n",
       "      <td>VisaGold</td>\n",
       "      <td>Outbound</td>\n",
       "      <td>0.524312</td>\n",
       "      <td>CreditCards</td>\n",
       "      <td>1be7cd72-741b-5d68-b148-c1af0142fd4a</td>\n",
       "      <td>SMS</td>\n",
       "      <td>0.031157</td>\n",
       "      <td>2021-06-01 13:23:26.000000789</td>\n",
       "      <td>2021-06-01 13:23:26.000000789</td>\n",
       "    </tr>\n",
       "    <tr>\n",
       "      <th>18</th>\n",
       "      <td>2021-06-01 12:45:20.000000789</td>\n",
       "      <td>OmniAdaptiveModel</td>\n",
       "      <td>746</td>\n",
       "      <td>24</td>\n",
       "      <td>None</td>\n",
       "      <td>Sales</td>\n",
       "      <td>VisaGold</td>\n",
       "      <td>Outbound</td>\n",
       "      <td>0.535621</td>\n",
       "      <td>CreditCards</td>\n",
       "      <td>1be7cd72-741b-5d68-b148-c1af0142fd4a</td>\n",
       "      <td>SMS</td>\n",
       "      <td>0.032172</td>\n",
       "      <td>2021-06-01 13:23:26.000000789</td>\n",
       "      <td>2021-06-01 13:23:26.000000789</td>\n",
       "    </tr>\n",
       "    <tr>\n",
       "      <th>19</th>\n",
       "      <td>2021-06-01 13:18:21.000000789</td>\n",
       "      <td>OmniAdaptiveModel</td>\n",
       "      <td>706</td>\n",
       "      <td>43</td>\n",
       "      <td>None</td>\n",
       "      <td>Sales</td>\n",
       "      <td>VisaGold</td>\n",
       "      <td>Inbound</td>\n",
       "      <td>0.538104</td>\n",
       "      <td>CreditCards</td>\n",
       "      <td>17571d69-f802-5122-9bfe-6f3f4ef9073b</td>\n",
       "      <td>Web</td>\n",
       "      <td>0.060907</td>\n",
       "      <td>2021-06-01 13:23:26.000000789</td>\n",
       "      <td>2021-06-01 13:23:26.000000789</td>\n",
       "    </tr>\n",
       "    <tr>\n",
       "      <th>20</th>\n",
       "      <td>2021-06-01 13:23:26.000000789</td>\n",
       "      <td>OmniAdaptiveModel</td>\n",
       "      <td>822</td>\n",
       "      <td>27</td>\n",
       "      <td>None</td>\n",
       "      <td>Sales</td>\n",
       "      <td>VisaGold</td>\n",
       "      <td>Outbound</td>\n",
       "      <td>0.531863</td>\n",
       "      <td>CreditCards</td>\n",
       "      <td>1be7cd72-741b-5d68-b148-c1af0142fd4a</td>\n",
       "      <td>SMS</td>\n",
       "      <td>0.032847</td>\n",
       "      <td>2021-06-01 13:23:26.000000789</td>\n",
       "      <td>2021-06-01 13:23:26.000000789</td>\n",
       "    </tr>\n",
       "    <tr>\n",
       "      <th>21</th>\n",
       "      <td>2021-06-01 13:23:26.000000789</td>\n",
       "      <td>OmniAdaptiveModel</td>\n",
       "      <td>778</td>\n",
       "      <td>46</td>\n",
       "      <td>None</td>\n",
       "      <td>Sales</td>\n",
       "      <td>VisaGold</td>\n",
       "      <td>Inbound</td>\n",
       "      <td>0.519586</td>\n",
       "      <td>CreditCards</td>\n",
       "      <td>17571d69-f802-5122-9bfe-6f3f4ef9073b</td>\n",
       "      <td>Web</td>\n",
       "      <td>0.059126</td>\n",
       "      <td>2021-06-01 13:23:26.000000789</td>\n",
       "      <td>2021-06-01 13:23:26.000000789</td>\n",
       "    </tr>\n",
       "  </tbody>\n",
       "</table>\n",
       "</div>"
      ],
      "text/plain": [
       "                    SnapshotTime      Configuration  ResponseCount  Positives  \\\n",
       "0  2021-06-01 08:23:26.000000789  OmniAdaptiveModel             72          1   \n",
       "1  2021-06-01 08:23:26.000000789  OmniAdaptiveModel            166          4   \n",
       "2  2021-06-01 08:27:55.000000789  OmniAdaptiveModel            161          3   \n",
       "3  2021-06-01 09:03:01.000000789  OmniAdaptiveModel            161          3   \n",
       "4  2021-06-01 09:03:01.000000789  OmniAdaptiveModel            166          4   \n",
       "5  2021-06-01 09:06:33.000000789  OmniAdaptiveModel            271          7   \n",
       "6  2021-06-01 09:06:33.000000789  OmniAdaptiveModel            233         12   \n",
       "7  2021-06-01 09:34:34.000000789  OmniAdaptiveModel            233         12   \n",
       "8  2021-06-01 09:43:16.000000789  OmniAdaptiveModel            353          8   \n",
       "9  2021-06-01 09:43:16.000000789  OmniAdaptiveModel            320         19   \n",
       "10 2021-06-01 10:07:35.000000789  OmniAdaptiveModel            437         10   \n",
       "11 2021-06-01 10:07:35.000000789  OmniAdaptiveModel            391         24   \n",
       "12 2021-06-01 10:58:26.000000789  OmniAdaptiveModel            470         28   \n",
       "13 2021-06-01 10:58:26.000000789  OmniAdaptiveModel            507         17   \n",
       "14 2021-06-01 11:29:54.000000789  OmniAdaptiveModel            507         17   \n",
       "15 2021-06-01 12:15:05.000000789  OmniAdaptiveModel            674         21   \n",
       "16 2021-06-01 12:15:05.000000789  OmniAdaptiveModel            633         39   \n",
       "17 2021-06-01 12:42:04.000000789  OmniAdaptiveModel            674         21   \n",
       "18 2021-06-01 12:45:20.000000789  OmniAdaptiveModel            746         24   \n",
       "19 2021-06-01 13:18:21.000000789  OmniAdaptiveModel            706         43   \n",
       "20 2021-06-01 13:23:26.000000789  OmniAdaptiveModel            822         27   \n",
       "21 2021-06-01 13:23:26.000000789  OmniAdaptiveModel            778         46   \n",
       "\n",
       "   Treatment  Issue      Name Direction  Performance        Group  \\\n",
       "0       None  Sales  VisaGold   Inbound     0.500000  CreditCards   \n",
       "1       None  Sales  VisaGold  Outbound     0.500000  CreditCards   \n",
       "2       None  Sales  VisaGold   Inbound     0.500000  CreditCards   \n",
       "3       None  Sales  VisaGold   Inbound     0.500000  CreditCards   \n",
       "4       None  Sales  VisaGold  Outbound     0.500000  CreditCards   \n",
       "5       None  Sales  VisaGold  Outbound     0.500000  CreditCards   \n",
       "6       None  Sales  VisaGold   Inbound     0.554538  CreditCards   \n",
       "7       None  Sales  VisaGold   Inbound     0.554538  CreditCards   \n",
       "8       None  Sales  VisaGold  Outbound     0.500000  CreditCards   \n",
       "9       None  Sales  VisaGold   Inbound     0.541487  CreditCards   \n",
       "10      None  Sales  VisaGold  Outbound     0.500000  CreditCards   \n",
       "11      None  Sales  VisaGold   Inbound     0.557512  CreditCards   \n",
       "12      None  Sales  VisaGold   Inbound     0.531173  CreditCards   \n",
       "13      None  Sales  VisaGold  Outbound     0.551713  CreditCards   \n",
       "14      None  Sales  VisaGold  Outbound     0.551713  CreditCards   \n",
       "15      None  Sales  VisaGold  Outbound     0.524312  CreditCards   \n",
       "16      None  Sales  VisaGold   Inbound     0.549843  CreditCards   \n",
       "17      None  Sales  VisaGold  Outbound     0.524312  CreditCards   \n",
       "18      None  Sales  VisaGold  Outbound     0.535621  CreditCards   \n",
       "19      None  Sales  VisaGold   Inbound     0.538104  CreditCards   \n",
       "20      None  Sales  VisaGold  Outbound     0.531863  CreditCards   \n",
       "21      None  Sales  VisaGold   Inbound     0.519586  CreditCards   \n",
       "\n",
       "                                 ModelID Channel  SuccessRate  \\\n",
       "0   17571d69-f802-5122-9bfe-6f3f4ef9073b     Web     0.013889   \n",
       "1   1be7cd72-741b-5d68-b148-c1af0142fd4a     SMS     0.024096   \n",
       "2   17571d69-f802-5122-9bfe-6f3f4ef9073b     Web     0.018634   \n",
       "3   17571d69-f802-5122-9bfe-6f3f4ef9073b     Web     0.018634   \n",
       "4   1be7cd72-741b-5d68-b148-c1af0142fd4a     SMS     0.024096   \n",
       "5   1be7cd72-741b-5d68-b148-c1af0142fd4a     SMS     0.025830   \n",
       "6   17571d69-f802-5122-9bfe-6f3f4ef9073b     Web     0.051502   \n",
       "7   17571d69-f802-5122-9bfe-6f3f4ef9073b     Web     0.051502   \n",
       "8   1be7cd72-741b-5d68-b148-c1af0142fd4a     SMS     0.022663   \n",
       "9   17571d69-f802-5122-9bfe-6f3f4ef9073b     Web     0.059375   \n",
       "10  1be7cd72-741b-5d68-b148-c1af0142fd4a     SMS     0.022883   \n",
       "11  17571d69-f802-5122-9bfe-6f3f4ef9073b     Web     0.061381   \n",
       "12  17571d69-f802-5122-9bfe-6f3f4ef9073b     Web     0.059574   \n",
       "13  1be7cd72-741b-5d68-b148-c1af0142fd4a     SMS     0.033531   \n",
       "14  1be7cd72-741b-5d68-b148-c1af0142fd4a     SMS     0.033531   \n",
       "15  1be7cd72-741b-5d68-b148-c1af0142fd4a     SMS     0.031157   \n",
       "16  17571d69-f802-5122-9bfe-6f3f4ef9073b     Web     0.061611   \n",
       "17  1be7cd72-741b-5d68-b148-c1af0142fd4a     SMS     0.031157   \n",
       "18  1be7cd72-741b-5d68-b148-c1af0142fd4a     SMS     0.032172   \n",
       "19  17571d69-f802-5122-9bfe-6f3f4ef9073b     Web     0.060907   \n",
       "20  1be7cd72-741b-5d68-b148-c1af0142fd4a     SMS     0.032847   \n",
       "21  17571d69-f802-5122-9bfe-6f3f4ef9073b     Web     0.059126   \n",
       "\n",
       "                  Last_Positives            Last_ResponseCount  \n",
       "0  2021-06-01 13:23:26.000000789 2021-06-01 13:23:26.000000789  \n",
       "1  2021-06-01 13:23:26.000000789 2021-06-01 13:23:26.000000789  \n",
       "2  2021-06-01 13:23:26.000000789 2021-06-01 13:23:26.000000789  \n",
       "3  2021-06-01 13:23:26.000000789 2021-06-01 13:23:26.000000789  \n",
       "4  2021-06-01 13:23:26.000000789 2021-06-01 13:23:26.000000789  \n",
       "5  2021-06-01 13:23:26.000000789 2021-06-01 13:23:26.000000789  \n",
       "6  2021-06-01 13:23:26.000000789 2021-06-01 13:23:26.000000789  \n",
       "7  2021-06-01 13:23:26.000000789 2021-06-01 13:23:26.000000789  \n",
       "8  2021-06-01 13:23:26.000000789 2021-06-01 13:23:26.000000789  \n",
       "9  2021-06-01 13:23:26.000000789 2021-06-01 13:23:26.000000789  \n",
       "10 2021-06-01 13:23:26.000000789 2021-06-01 13:23:26.000000789  \n",
       "11 2021-06-01 13:23:26.000000789 2021-06-01 13:23:26.000000789  \n",
       "12 2021-06-01 13:23:26.000000789 2021-06-01 13:23:26.000000789  \n",
       "13 2021-06-01 13:23:26.000000789 2021-06-01 13:23:26.000000789  \n",
       "14 2021-06-01 13:23:26.000000789 2021-06-01 13:23:26.000000789  \n",
       "15 2021-06-01 13:23:26.000000789 2021-06-01 13:23:26.000000789  \n",
       "16 2021-06-01 13:23:26.000000789 2021-06-01 13:23:26.000000789  \n",
       "17 2021-06-01 13:23:26.000000789 2021-06-01 13:23:26.000000789  \n",
       "18 2021-06-01 13:23:26.000000789 2021-06-01 13:23:26.000000789  \n",
       "19 2021-06-01 13:23:26.000000789 2021-06-01 13:23:26.000000789  \n",
       "20 2021-06-01 13:23:26.000000789 2021-06-01 13:23:26.000000789  \n",
       "21 2021-06-01 13:23:26.000000789 2021-06-01 13:23:26.000000789  "
      ]
     },
     "execution_count": 7,
     "metadata": {},
     "output_type": "execute_result"
    }
   ],
   "source": [
    "dm.modelData.collect().to_pandas()"
   ]
  },
  {
   "attachments": {},
   "cell_type": "markdown",
   "metadata": {},
   "source": [
    "Now, we don't just have modelData, there's also information about predictors. This is under the `predictorData` attribute, and it works the same way. Thirdly, we add a attribute called `combinedData`. `combinedData` is technically just an inner join between the model data and the predictor data on the model ID. Therefore, the model ID's we filter out of the models also propagate to the combined data. To give more insight into this join, we can now simply show the execution graph of it:"
   ]
  },
  {
   "cell_type": "code",
   "execution_count": 8,
   "metadata": {
    "execution": {
     "iopub.execute_input": "2023-03-24T17:14:59.988311Z",
     "iopub.status.busy": "2023-03-24T17:14:59.987922Z",
     "iopub.status.idle": "2023-03-24T17:14:59.995782Z",
     "shell.execute_reply": "2023-03-24T17:14:59.994718Z"
    }
   },
   "outputs": [
    {
     "data": {
      "text/html": [
       "<i>naive plan: (run <b>LazyFrame.explain(optimized=True)</b> to see the optimized plan)</i>\n",
       "    <p></p>\n",
       "    <div>INNER JOIN:<p></p>LEFT PLAN ON: [col(\"ModelID\")]<p></p>  FILTER [(col(\"SnapshotTime\").fill_null([1])) == (col(\"SnapshotTime\").fill_null([1]).max())] FROM<p></p>   WITH_COLUMNS:<p></p>   [<p></p>WHEN [(col(\"Positives\")) / (col(\"ResponseCount\"))].is_not_nan()<p></p>THEN<p></p>\t[(col(\"Positives\")) / (col(\"ResponseCount\"))]<p></p>OTHERWISE<p></p>\t0.alias(\"SuccessRate\"), col(\"SnapshotTime\")<p></p>FILTER WHERE [(col(\"Positives\").diff()) != (0)].max().over([col(\"ModelID\")]).alias(\"Last_Positives\"), col(\"SnapshotTime\")<p></p>FILTER WHERE [(col(\"ResponseCount\").diff()) != (0)].max().over([col(\"ModelID\")]).alias(\"Last_ResponseCount\")]<p></p>    FILTER col(\"Name\").str.contains([Utf8(Visa)]) FROM<p></p>     WITH_COLUMNS:<p></p>     [col(\"SnapshotTime\").str.strptime()]<p></p>       WITH_COLUMNS:<p></p>       [col(\"Issue\").strict_cast(Categorical(None)), col(\"Group\").strict_cast(Categorical(None)), col(\"Channel\").strict_cast(Categorical(None)), col(\"Direction\").strict_cast(Categorical(None)), col(\"Configuration\").strict_cast(Categorical(None)), col(\"Performance\").strict_cast(Float64)]<p></p>         SELECT [col(\"SnapshotTime\"), col(\"Configuration\"), col(\"ResponseCount\"), col(\"Positives\"), col(\"Treatment\"), col(\"Issue\"), col(\"Name\"), col(\"Direction\"), col(\"Performance\"), col(\"Group\"), col(\"ModelID\"), col(\"Channel\")] FROM<p></p>          RENAME<p></p>            DF [\"ModelID\", \"Issue\", \"Group\", \"Name\"]; PROJECT */27 COLUMNS; SELECTION: \"None\"<p></p>RIGHT PLAN ON: [col(\"ModelID\")]<p></p>  FILTER [(col(\"SnapshotTime\").fill_null([1])) == (col(\"SnapshotTime\").fill_null([1]).max())] FROM<p></p>  INNER JOIN:<p></p>  LEFT PLAN ON: [col(\"ModelID\")]<p></p>     WITH_COLUMNS:<p></p>     [[(col(\"BinPositives\")) / (col(\"BinResponseCount\"))].alias(\"BinPropensity\"), [([(col(\"BinPositives\")) + (0.5)]) / ([(col(\"BinResponseCount\")) + (1)])].alias(\"BinAdjustedPropensity\")]<p></p>       WITH_COLUMNS:<p></p>       [col(\"SnapshotTime\").str.strptime()]<p></p>         WITH_COLUMNS:<p></p>         [col(\"Performance\").strict_cast(Float64)]<p></p>           SELECT [col(\"SnapshotTime\"), col(\"ResponseCount\"), col(\"BinNegatives\"), col(\"BinIndex\"), col(\"BinPositives\"), col(\"Contents\"), col(\"EntryType\"), col(\"Positives\"), col(\"BinResponseCount\"), col(\"PredictorName\"), col(\"BinSymbol\"), col(\"BinType\"), col(\"Performance\"), col(\"Type\"), col(\"ModelID\")] FROM<p></p>            RENAME<p></p>              DF [\"RulesetName\", \"ModelID\", \"PredictorName\", \"Contents\"]; PROJECT */36 COLUMNS; SELECTION: \"None\"<p></p>  RIGHT PLAN ON: [col(\"ModelID\")]<p></p>     SELECT [col(\"ModelID\").unique()] FROM<p></p>       WITH_COLUMNS:<p></p>       [<p></p>WHEN [(col(\"Positives\")) / (col(\"ResponseCount\"))].is_not_nan()<p></p>THEN<p></p>\t[(col(\"Positives\")) / (col(\"ResponseCount\"))]<p></p>OTHERWISE<p></p>\t0.alias(\"SuccessRate\"), col(\"SnapshotTime\")<p></p>FILTER WHERE [(col(\"Positives\").diff()) != (0)].max().over([col(\"ModelID\")]).alias(\"Last_Positives\"), col(\"SnapshotTime\")<p></p>FILTER WHERE [(col(\"ResponseCount\").diff()) != (0)].max().over([col(\"ModelID\")]).alias(\"Last_ResponseCount\")]<p></p>        FILTER col(\"Name\").str.contains([Utf8(Visa)]) FROM<p></p>         WITH_COLUMNS:<p></p>         [col(\"SnapshotTime\").str.strptime()]<p></p>           WITH_COLUMNS:<p></p>           [col(\"Issue\").strict_cast(Categorical(None)), col(\"Group\").strict_cast(Categorical(None)), col(\"Channel\").strict_cast(Categorical(None)), col(\"Direction\").strict_cast(Categorical(None)), col(\"Configuration\").strict_cast(Categorical(None)), col(\"Performance\").strict_cast(Float64)]<p></p>             SELECT [col(\"SnapshotTime\"), col(\"Configuration\"), col(\"ResponseCount\"), col(\"Positives\"), col(\"Treatment\"), col(\"Issue\"), col(\"Name\"), col(\"Direction\"), col(\"Performance\"), col(\"Group\"), col(\"ModelID\"), col(\"Channel\")] FROM<p></p>              RENAME<p></p>                DF [\"ModelID\", \"Issue\", \"Group\", \"Name\"]; PROJECT */27 COLUMNS; SELECTION: \"None\"<p></p>  END INNER JOIN<p></p>END INNER JOIN</div>"
      ],
      "text/plain": [
       "<polars.LazyFrame object at 0x7FDDE8C063D0>"
      ]
     },
     "execution_count": 8,
     "metadata": {},
     "output_type": "execute_result"
    }
   ],
   "source": [
    "dm.combinedData"
   ]
  },
  {
   "attachments": {},
   "cell_type": "markdown",
   "metadata": {},
   "source": [
    "While a beautiful graph, it is quite a lot to digest. The left side of the chart should look very familiar, as should the right side. The 'middle' part is new: this is the execution part for the predictor data. Here we only parse `Performance` to be a float, parse the timezones, and add [\"BinPropensity\",\"BinAdjustedPropensity\"]. For both the model data and the predictor data we take the last snapshot only when combining them, which you can see right before the topmost inner join.\n",
    "\n",
    "Again, a sharp eye will notice quite some inefficiencies here. The newest issue is that we're now importing `modelData` twice, once to filter out model IDs not being in the filter criteria, and another time to join with the table. But remember, we're not in the optimized graph:"
   ]
  },
  {
   "cell_type": "code",
   "execution_count": 9,
   "metadata": {
    "execution": {
     "iopub.execute_input": "2023-03-24T17:14:59.998686Z",
     "iopub.status.busy": "2023-03-24T17:14:59.998441Z",
     "iopub.status.idle": "2023-03-24T17:15:00.041529Z",
     "shell.execute_reply": "2023-03-24T17:15:00.040585Z"
    }
   },
   "outputs": [
    {
     "ename": "ImportError",
     "evalue": "Graphviz dot binary should be on your PATH",
     "output_type": "error",
     "traceback": [
      "\u001b[0;31m---------------------------------------------------------------------------\u001b[0m",
      "\u001b[0;31mImportError\u001b[0m                               Traceback (most recent call last)",
      "Cell \u001b[0;32mIn[9], line 1\u001b[0m\n\u001b[0;32m----> 1\u001b[0m \u001b[43mdm\u001b[49m\u001b[38;5;241;43m.\u001b[39;49m\u001b[43mcombinedData\u001b[49m\u001b[38;5;241;43m.\u001b[39;49m\u001b[43mshow_graph\u001b[49m\u001b[43m(\u001b[49m\u001b[43m)\u001b[49m\n",
      "File \u001b[0;32m/opt/hostedtoolcache/Python/3.11.2/x64/lib/python3.11/site-packages/polars/utils/decorators.py:126\u001b[0m, in \u001b[0;36mdeprecate_nonkeyword_arguments.<locals>.decorate.<locals>.wrapper\u001b[0;34m(*args, **kwargs)\u001b[0m\n\u001b[1;32m    124\u001b[0m \u001b[38;5;28;01mif\u001b[39;00m \u001b[38;5;28mlen\u001b[39m(args) \u001b[38;5;241m>\u001b[39m num_allowed_args:\n\u001b[1;32m    125\u001b[0m     warnings\u001b[38;5;241m.\u001b[39mwarn(msg, \u001b[38;5;167;01mDeprecationWarning\u001b[39;00m, stacklevel\u001b[38;5;241m=\u001b[39m\u001b[38;5;241m2\u001b[39m)\n\u001b[0;32m--> 126\u001b[0m \u001b[38;5;28;01mreturn\u001b[39;00m \u001b[43mfunction\u001b[49m\u001b[43m(\u001b[49m\u001b[38;5;241;43m*\u001b[39;49m\u001b[43margs\u001b[49m\u001b[43m,\u001b[49m\u001b[43m \u001b[49m\u001b[38;5;241;43m*\u001b[39;49m\u001b[38;5;241;43m*\u001b[39;49m\u001b[43mkwargs\u001b[49m\u001b[43m)\u001b[49m\n",
      "File \u001b[0;32m/opt/hostedtoolcache/Python/3.11.2/x64/lib/python3.11/site-packages/polars/lazyframe/frame.py:1066\u001b[0m, in \u001b[0;36mLazyFrame.show_graph\u001b[0;34m(self, optimized, show, output_path, raw_output, figsize, type_coercion, predicate_pushdown, projection_pushdown, simplify_expression, slice_pushdown, common_subplan_elimination, streaming)\u001b[0m\n\u001b[1;32m   1062\u001b[0m     graph \u001b[38;5;241m=\u001b[39m subprocess\u001b[38;5;241m.\u001b[39mcheck_output(\n\u001b[1;32m   1063\u001b[0m         [\u001b[38;5;124m\"\u001b[39m\u001b[38;5;124mdot\u001b[39m\u001b[38;5;124m\"\u001b[39m, \u001b[38;5;124m\"\u001b[39m\u001b[38;5;124m-Nshape=box\u001b[39m\u001b[38;5;124m\"\u001b[39m, \u001b[38;5;124m\"\u001b[39m\u001b[38;5;124m-T\u001b[39m\u001b[38;5;124m\"\u001b[39m \u001b[38;5;241m+\u001b[39m output_type], \u001b[38;5;28minput\u001b[39m\u001b[38;5;241m=\u001b[39m\u001b[38;5;124mf\u001b[39m\u001b[38;5;124m\"\u001b[39m\u001b[38;5;132;01m{\u001b[39;00mdot\u001b[38;5;132;01m}\u001b[39;00m\u001b[38;5;124m\"\u001b[39m\u001b[38;5;241m.\u001b[39mencode()\n\u001b[1;32m   1064\u001b[0m     )\n\u001b[1;32m   1065\u001b[0m \u001b[38;5;28;01mexcept\u001b[39;00m (\u001b[38;5;167;01mImportError\u001b[39;00m, \u001b[38;5;167;01mFileNotFoundError\u001b[39;00m):\n\u001b[0;32m-> 1066\u001b[0m     \u001b[38;5;28;01mraise\u001b[39;00m \u001b[38;5;167;01mImportError\u001b[39;00m(\u001b[38;5;124m\"\u001b[39m\u001b[38;5;124mGraphviz dot binary should be on your PATH\u001b[39m\u001b[38;5;124m\"\u001b[39m) \u001b[38;5;28;01mfrom\u001b[39;00m \u001b[38;5;28mNone\u001b[39m\n\u001b[1;32m   1068\u001b[0m \u001b[38;5;28;01mif\u001b[39;00m output_path:\n\u001b[1;32m   1069\u001b[0m     \u001b[38;5;28;01mwith\u001b[39;00m Path(output_path)\u001b[38;5;241m.\u001b[39mopen(mode\u001b[38;5;241m=\u001b[39m\u001b[38;5;124m\"\u001b[39m\u001b[38;5;124mwb\u001b[39m\u001b[38;5;124m\"\u001b[39m) \u001b[38;5;28;01mas\u001b[39;00m file:\n",
      "\u001b[0;31mImportError\u001b[0m: Graphviz dot binary should be on your PATH"
     ]
    }
   ],
   "source": [
    "dm.combinedData.show_graph()"
   ]
  },
  {
   "attachments": {},
   "cell_type": "markdown",
   "metadata": {},
   "source": [
    "Pretty neat. Not only do we not import modelData twice, we cache it at a certain point in the execution graph so we can _use_ it twice. And we get all of this for free with Polars' optimization engine! Also remember, at this point, we've not even read in any data yet! We can even do profiling on this execution graph, but that's a challenge to figure out on your own :). We can easily show the gains in time using this method using our new `save_data` method though: this will save our data to disk in an efficient format, and gives us a fast way to benchmark."
   ]
  },
  {
   "cell_type": "code",
   "execution_count": 10,
   "metadata": {
    "execution": {
     "iopub.execute_input": "2023-03-24T17:15:00.044646Z",
     "iopub.status.busy": "2023-03-24T17:15:00.044372Z",
     "iopub.status.idle": "2023-03-24T17:15:02.195120Z",
     "shell.execute_reply": "2023-03-24T17:15:02.194207Z"
    }
   },
   "outputs": [],
   "source": [
    "files_without_subset = datasets.CDHSample(\n",
    "    import_strategy=\"lazy\", subset=False\n",
    ").save_data()\n",
    "files_with_subset = datasets.CDHSample(\n",
    "    import_strategy=\"lazy\", query=pl.col(\"Name\").str.contains(\"Visa\")\n",
    ").save_data()\n"
   ]
  },
  {
   "cell_type": "code",
   "execution_count": 11,
   "metadata": {
    "execution": {
     "iopub.execute_input": "2023-03-24T17:15:02.205326Z",
     "iopub.status.busy": "2023-03-24T17:15:02.202361Z",
     "iopub.status.idle": "2023-03-24T17:15:12.707547Z",
     "shell.execute_reply": "2023-03-24T17:15:12.706847Z"
    }
   },
   "outputs": [
    {
     "name": "stdout",
     "output_type": "stream",
     "text": [
      "13 ms ± 711 µs per loop (mean ± std. dev. of 7 runs, 100 loops each)\n"
     ]
    }
   ],
   "source": [
    "%timeit ADMDatamart(model_filename=files_without_subset[0], predictor_filename=files_without_subset[1], import_strategy='lazy').combinedData.collect()"
   ]
  },
  {
   "cell_type": "code",
   "execution_count": 12,
   "metadata": {
    "execution": {
     "iopub.execute_input": "2023-03-24T17:15:12.710327Z",
     "iopub.status.busy": "2023-03-24T17:15:12.709887Z",
     "iopub.status.idle": "2023-03-24T17:15:17.491509Z",
     "shell.execute_reply": "2023-03-24T17:15:17.490687Z"
    }
   },
   "outputs": [
    {
     "name": "stdout",
     "output_type": "stream",
     "text": [
      "5.88 ms ± 192 µs per loop (mean ± std. dev. of 7 runs, 100 loops each)\n"
     ]
    }
   ],
   "source": [
    "%timeit ADMDatamart(model_filename=files_with_subset[0], predictor_filename=files_with_subset[1], import_strategy='lazy').combinedData.collect()"
   ]
  },
  {
   "cell_type": "code",
   "execution_count": 13,
   "metadata": {
    "execution": {
     "iopub.execute_input": "2023-03-24T17:15:17.494450Z",
     "iopub.status.busy": "2023-03-24T17:15:17.494067Z",
     "iopub.status.idle": "2023-03-24T17:15:17.505446Z",
     "shell.execute_reply": "2023-03-24T17:15:17.504667Z"
    }
   },
   "outputs": [
    {
     "data": {
      "text/plain": [
       "[None, None, None, None]"
      ]
     },
     "execution_count": 13,
     "metadata": {},
     "output_type": "execute_result"
    }
   ],
   "source": [
    "from os import remove\n",
    "[remove(file) for file in [*files_with_subset, *files_without_subset]]"
   ]
  },
  {
   "attachments": {},
   "cell_type": "markdown",
   "metadata": {},
   "source": [
    "This +- 2x increase in speed will be even more significant as we increase the size of the data. \n",
    "\n",
    "## Lazy vs Eager\n",
    "As mentioned before, however, the default mode of reading is `\"eager\"`. This still allows us to use the previously mentioned execution graph, but the difference is in what we do after we do all of this preprocessing, right before returning the ADMDatamart class: `.collect().lazy()`. Opening up `modelData` in `eager` mode shows that we don't have a graph anymore:"
   ]
  },
  {
   "cell_type": "code",
   "execution_count": 14,
   "metadata": {
    "execution": {
     "iopub.execute_input": "2023-03-24T17:15:17.508662Z",
     "iopub.status.busy": "2023-03-24T17:15:17.508111Z",
     "iopub.status.idle": "2023-03-24T17:15:18.539415Z",
     "shell.execute_reply": "2023-03-24T17:15:18.538519Z"
    }
   },
   "outputs": [
    {
     "name": "stdout",
     "output_type": "stream",
     "text": [
      "<class 'polars.lazyframe.frame.LazyFrame'>\n"
     ]
    },
    {
     "ename": "ImportError",
     "evalue": "Graphviz dot binary should be on your PATH",
     "output_type": "error",
     "traceback": [
      "\u001b[0;31m---------------------------------------------------------------------------\u001b[0m",
      "\u001b[0;31mImportError\u001b[0m                               Traceback (most recent call last)",
      "Cell \u001b[0;32mIn[14], line 3\u001b[0m\n\u001b[1;32m      1\u001b[0m modd \u001b[38;5;241m=\u001b[39m datasets\u001b[38;5;241m.\u001b[39mCDHSample()\u001b[38;5;241m.\u001b[39mmodelData\n\u001b[1;32m      2\u001b[0m \u001b[38;5;28mprint\u001b[39m(\u001b[38;5;28mtype\u001b[39m(modd))\n\u001b[0;32m----> 3\u001b[0m \u001b[43mmodd\u001b[49m\u001b[38;5;241;43m.\u001b[39;49m\u001b[43mshow_graph\u001b[49m\u001b[43m(\u001b[49m\u001b[43m)\u001b[49m\n",
      "File \u001b[0;32m/opt/hostedtoolcache/Python/3.11.2/x64/lib/python3.11/site-packages/polars/utils/decorators.py:126\u001b[0m, in \u001b[0;36mdeprecate_nonkeyword_arguments.<locals>.decorate.<locals>.wrapper\u001b[0;34m(*args, **kwargs)\u001b[0m\n\u001b[1;32m    124\u001b[0m \u001b[38;5;28;01mif\u001b[39;00m \u001b[38;5;28mlen\u001b[39m(args) \u001b[38;5;241m>\u001b[39m num_allowed_args:\n\u001b[1;32m    125\u001b[0m     warnings\u001b[38;5;241m.\u001b[39mwarn(msg, \u001b[38;5;167;01mDeprecationWarning\u001b[39;00m, stacklevel\u001b[38;5;241m=\u001b[39m\u001b[38;5;241m2\u001b[39m)\n\u001b[0;32m--> 126\u001b[0m \u001b[38;5;28;01mreturn\u001b[39;00m \u001b[43mfunction\u001b[49m\u001b[43m(\u001b[49m\u001b[38;5;241;43m*\u001b[39;49m\u001b[43margs\u001b[49m\u001b[43m,\u001b[49m\u001b[43m \u001b[49m\u001b[38;5;241;43m*\u001b[39;49m\u001b[38;5;241;43m*\u001b[39;49m\u001b[43mkwargs\u001b[49m\u001b[43m)\u001b[49m\n",
      "File \u001b[0;32m/opt/hostedtoolcache/Python/3.11.2/x64/lib/python3.11/site-packages/polars/lazyframe/frame.py:1066\u001b[0m, in \u001b[0;36mLazyFrame.show_graph\u001b[0;34m(self, optimized, show, output_path, raw_output, figsize, type_coercion, predicate_pushdown, projection_pushdown, simplify_expression, slice_pushdown, common_subplan_elimination, streaming)\u001b[0m\n\u001b[1;32m   1062\u001b[0m     graph \u001b[38;5;241m=\u001b[39m subprocess\u001b[38;5;241m.\u001b[39mcheck_output(\n\u001b[1;32m   1063\u001b[0m         [\u001b[38;5;124m\"\u001b[39m\u001b[38;5;124mdot\u001b[39m\u001b[38;5;124m\"\u001b[39m, \u001b[38;5;124m\"\u001b[39m\u001b[38;5;124m-Nshape=box\u001b[39m\u001b[38;5;124m\"\u001b[39m, \u001b[38;5;124m\"\u001b[39m\u001b[38;5;124m-T\u001b[39m\u001b[38;5;124m\"\u001b[39m \u001b[38;5;241m+\u001b[39m output_type], \u001b[38;5;28minput\u001b[39m\u001b[38;5;241m=\u001b[39m\u001b[38;5;124mf\u001b[39m\u001b[38;5;124m\"\u001b[39m\u001b[38;5;132;01m{\u001b[39;00mdot\u001b[38;5;132;01m}\u001b[39;00m\u001b[38;5;124m\"\u001b[39m\u001b[38;5;241m.\u001b[39mencode()\n\u001b[1;32m   1064\u001b[0m     )\n\u001b[1;32m   1065\u001b[0m \u001b[38;5;28;01mexcept\u001b[39;00m (\u001b[38;5;167;01mImportError\u001b[39;00m, \u001b[38;5;167;01mFileNotFoundError\u001b[39;00m):\n\u001b[0;32m-> 1066\u001b[0m     \u001b[38;5;28;01mraise\u001b[39;00m \u001b[38;5;167;01mImportError\u001b[39;00m(\u001b[38;5;124m\"\u001b[39m\u001b[38;5;124mGraphviz dot binary should be on your PATH\u001b[39m\u001b[38;5;124m\"\u001b[39m) \u001b[38;5;28;01mfrom\u001b[39;00m \u001b[38;5;28mNone\u001b[39m\n\u001b[1;32m   1068\u001b[0m \u001b[38;5;28;01mif\u001b[39;00m output_path:\n\u001b[1;32m   1069\u001b[0m     \u001b[38;5;28;01mwith\u001b[39;00m Path(output_path)\u001b[38;5;241m.\u001b[39mopen(mode\u001b[38;5;241m=\u001b[39m\u001b[38;5;124m\"\u001b[39m\u001b[38;5;124mwb\u001b[39m\u001b[38;5;124m\"\u001b[39m) \u001b[38;5;28;01mas\u001b[39;00m file:\n",
      "\u001b[0;31mImportError\u001b[0m: Graphviz dot binary should be on your PATH"
     ]
    }
   ],
   "source": [
    "modd = datasets.CDHSample().modelData\n",
    "print(type(modd))\n",
    "modd.show_graph()\n"
   ]
  },
  {
   "attachments": {},
   "cell_type": "markdown",
   "metadata": {},
   "source": [
    "The type of `modelData` is a `LazyFrame` (the representation of this being a query plan). `DataFrame` and `LazyFrame`s are not so different - `LazyFrame`s build up a query and want you to execute once it's done, `DataFrame`s execute each command as you're calling it. However, in `eager` mode, that execution graph is empty.\n",
    "\n",
    "That leads to the fundamental difference between the `import_strategy` keyword argument:\n",
    "- In `lazy` mode - we only build the execution graph, but we rather than _reading_ the data, we only _scan_ it\n",
    "- In `eager` mode - we build the execution graph and execute it, _reading_ all data into memory. This means we don't have to execute that graph everytime we call it.\n",
    "\n",
    "The `eager` mode stil maintains `LazyFrame`s for both `modelData` and `predictorData`, but those tables are now not stored on disk anymore, but kept in memory. Any subsequent operations will build up a new execution graph, only executed when calling `.collect()`.\n",
    "\n",
    "### When to use which?\n",
    "By default, we use `eager` mode. We recommend using that, unless:\n",
    "\n",
    "- Your data is too big to fit into memory\n",
    "- You're using just one plot\n",
    "\n",
    "In all other cases, it's probably fine to just use eager mode, _unless_.\n",
    "\n",
    "## File Types\n",
    "\n",
    "Pega's default export format is to return a zip file, in which is a `data.json` file, which is in newline-delimited json format. While this is a decent storage format, it doesn't allow for any scanning operations because we need to open the entire zip into memory before being able to read anything. Therefore, if you're using the default export format, we set the import strategy to eager. If you're working with very large files and you need faster processing, it may be worth it to unzip the files, or even transform them to Arrow/IPC (fastest) or Parquet (most efficient). Then, you can use lazy mode, and can process files larger than memory as an added benefit.\n",
    "\n",
    "\n",
    "## Further Polars examples\n",
    "\n",
    "To help you get adjusted to this new syntax, let's go over a few more examples.\n",
    "\n",
    "The regular facets syntax still works, and can be combined with the new querying syntax."
   ]
  },
  {
   "cell_type": "code",
   "execution_count": 15,
   "metadata": {
    "execution": {
     "iopub.execute_input": "2023-03-24T17:15:18.542746Z",
     "iopub.status.busy": "2023-03-24T17:15:18.542279Z",
     "iopub.status.idle": "2023-03-24T17:15:19.705832Z",
     "shell.execute_reply": "2023-03-24T17:15:19.704916Z"
    }
   },
   "outputs": [
    {
     "data": {
      "text/html": [
       "        <script type=\"text/javascript\">\n",
       "        window.PlotlyConfig = {MathJaxConfig: 'local'};\n",
       "        if (window.MathJax && window.MathJax.Hub && window.MathJax.Hub.Config) {window.MathJax.Hub.Config({SVG: {font: \"STIX-Web\"}});}\n",
       "        if (typeof require !== 'undefined') {\n",
       "        require.undef(\"plotly\");\n",
       "        requirejs.config({\n",
       "            paths: {\n",
       "                'plotly': ['https://cdn.plot.ly/plotly-2.18.2.min']\n",
       "            }\n",
       "        });\n",
       "        require(['plotly'], function(Plotly) {\n",
       "            window._Plotly = Plotly;\n",
       "        });\n",
       "        }\n",
       "        </script>\n",
       "        "
      ]
     },
     "metadata": {},
     "output_type": "display_data"
    },
    {
     "data": {
      "text/html": [
       "<div>                            <div id=\"b4020570-5241-4f65-9003-d87ba75c015a\" class=\"plotly-graph-div\" style=\"height:525px; width:100%;\"></div>            <script type=\"text/javascript\">                require([\"plotly\"], function(Plotly) {                    window.PLOTLYENV=window.PLOTLYENV || {};                                    if (document.getElementById(\"b4020570-5241-4f65-9003-d87ba75c015a\")) {                    Plotly.newPlot(                        \"b4020570-5241-4f65-9003-d87ba75c015a\",                        [{\"customdata\":[[\"f3afaa9b-d0d5-5be9-a3b9-9fdfc4847411\",\"Email\",\"Outbound\",\"Sales\",\"AutoLoans\"],[\"3c892256-f415-5408-905d-3158345b10bf\",\"Email\",\"Outbound\",\"Sales\",\"Bundles\"],[\"cc9b9b1b-c2f9-5e8c-a54a-f13e0559ebd6\",\"Email\",\"Outbound\",\"Sales\",\"CreditCards\"],[\"84107ad6-c998-5377-b0d0-e02be2a8d768\",\"Email\",\"Outbound\",\"Sales\",\"AutoLoans\"],[\"b5338016-1fee-5745-80ee-7bd6d51f2920\",\"Email\",\"Outbound\",\"Sales\",\"CreditCards\"],[\"24f11deb-a6fa-59bf-b5f7-c61abffc9482\",\"Email\",\"Outbound\",\"Sales\",\"AutoLoans\"],[\"cb67c091-5a81-56f4-9845-71afa9c8076e\",\"Email\",\"Outbound\",\"Sales\",\"HomeLoans\"],[\"470485f7-3b20-58f7-a3aa-1f12c2bb99b7\",\"Email\",\"Outbound\",\"Sales\",\"HomeLoans\"],[\"79e3f70f-dc6a-5bea-8006-02a6e91ad256\",\"Email\",\"Outbound\",\"Sales\",\"DepositAccounts\"],[\"c4cd4c00-87bf-562e-9ab8-20af64a81757\",\"Email\",\"Outbound\",\"Sales\",\"DepositAccounts\"],[\"cffb1b5d-219e-5137-9036-4e2136be6a8f\",\"Email\",\"Outbound\",\"Sales\",\"DepositAccounts\"],[\"0b363d7f-68f8-5e9e-a843-40ca8849e05b\",\"Email\",\"Outbound\",\"Sales\",\"HomeLoans\"],[\"ab4592bc-df16-5372-86e7-0caea36ac877\",\"Email\",\"Outbound\",\"Sales\",\"CreditCards\"],[\"320c4d01-43a5-510e-8fa8-1fc1bb4216da\",\"Email\",\"Outbound\",\"Sales\",\"Bundles\"],[\"bd70a915-697a-5d43-ab2c-53b0557c85a0\",\"Email\",\"Outbound\",\"Sales\",\"AutoLoans\"],[\"a63f2f06-1e31-5691-a6df-48916a066c23\",\"Email\",\"Outbound\",\"Sales\",\"DepositAccounts\"],[\"2c8e753a-9e85-5060-ac5b-073e79e755c0\",\"Email\",\"Outbound\",\"Sales\",\"CreditCards\"],[\"4954d7a5-b75e-5c71-89d6-e8340feb5022\",\"Email\",\"Outbound\",\"Sales\",\"DepositAccounts\"],[\"bb02128b-d6df-52f3-9983-316f9fce47c7\",\"Email\",\"Outbound\",\"Sales\",\"CreditCards\"],[\"85d9dd89-93e5-55a0-b05f-e68bba9c97d1\",\"Email\",\"Outbound\",\"Sales\",\"CreditCards\"],[\"ebb6d905-7c43-5422-a813-f770feba7114\",\"Email\",\"Outbound\",\"Sales\",\"AutoLoans\"]],\"hovertemplate\":\"<b>%{hovertext}</b><br><br>Channel=%{customdata[1]}<br>Performance=%{marker.color}<br>SuccessRate=%{y}<br>ResponseCount=%{marker.size}<br>ModelID=%{customdata[0]}<br>Direction=%{customdata[2]}<br>Issue=%{customdata[3]}<br>Group=%{customdata[4]}<extra></extra>\",\"hovertext\":[\"AutoNew84Months\",\"StudentChoice\",\"IdentityTheftProtection\",\"AutoUsed60Months\",\"PaymentProtection\",\"AutoUsed84Months\",\"FirstMortgageFHA\",\"FirstMortgageFloat\",\"MoneyMarketSavingsAccount\",\"RegularSaving\",\"PremierChecking\",\"FirstMortgageFiveOneARM\",\"UPlusFinPersonal\",\"PremiumBanking\",\"AutoNew36Months\",\"BasicChecking\",\"UPlusFinGold\",\"SeniorChecking\",\"PlatinumRewardsCard\",\"MasterCardGold\",\"AutoNew48Months\"],\"legendgroup\":\"\",\"marker\":{\"color\":[64.2461,60.1887,50.0,65.3775,52.5041,50.0,67.6805,50.0,50.0,61.4512,52.1103,53.0007,61.9665,62.467,52.3734,51.0276,53.496,54.9252,50.0,50.0,58.0125],\"coloraxis\":\"coloraxis\",\"size\":[1184,5203,808,1378,537,1243,362,444,1096,1069,3355,404,3508,5430,5817,3868,3545,2883,989,875,5198],\"sizemode\":\"area\",\"sizeref\":14.5425,\"symbol\":\"circle\",\"line\":{\"color\":\"black\"}},\"mode\":\"markers\",\"name\":\"\",\"orientation\":\"v\",\"showlegend\":false,\"x\":[64.2461,60.1887,50.0,65.3775,52.5041,50.0,67.6805,50.0,50.0,61.4512,52.1103,53.0007,61.9665,62.467,52.3734,51.0276,53.496,54.9252,50.0,50.0,58.0125],\"xaxis\":\"x\",\"y\":[5.65878,1.69133,0.24752,3.91872,5.40037,1.04586,3.59116,0.45045,1.73358,1.40318,8.70343,2.47525,1.53934,0.44199,0.20629,7.29059,1.07193,5.06417,0.20222,0.57143,2.75106],\"yaxis\":\"y\",\"type\":\"scatter\"},{\"customdata\":[[\"e4ea7a89-c394-5014-ac26-34b8eee475bd\",\"SMS\",\"Outbound\",\"Sales\",\"CreditCards\"],[\"1289c4af-1d3f-5265-9fe5-173e1ddaadc3\",\"SMS\",\"Outbound\",\"Sales\",\"HomeLoans\"],[\"b27d8eb5-7ff6-5706-ae90-6d61ce695f78\",\"SMS\",\"Outbound\",\"Sales\",\"Bundles\"],[\"5ca51e1e-49f0-58d2-8ab7-4a0ccbb326fd\",\"SMS\",\"Outbound\",\"Sales\",\"DepositAccounts\"],[\"b216413c-8c2e-5e1b-860b-07dfc69efa69\",\"SMS\",\"Outbound\",\"Sales\",\"AutoLoans\"],[\"f9fc995f-3f02-5e9e-8e22-b72909054f3a\",\"SMS\",\"Outbound\",\"Sales\",\"AutoLoans\"],[\"7ffc8c26-8473-5c8e-bcc3-48e5b162da7a\",\"SMS\",\"Outbound\",\"Sales\",\"CreditCards\"],[\"26dda9e0-34a2-5e0a-8ee2-fd0c39de729e\",\"SMS\",\"Outbound\",\"Sales\",\"CreditCards\"],[\"c3f445b2-6037-5560-9f16-71a7259d2c2c\",\"SMS\",\"Outbound\",\"Sales\",\"HomeLoans\"],[\"69a8e56f-6327-5a66-a9a3-9b0c106641ec\",\"SMS\",\"Outbound\",\"Sales\",\"AutoLoans\"],[\"4efdb97d-288d-518f-a3e0-8314bbd7f2a3\",\"SMS\",\"Outbound\",\"Sales\",\"CreditCards\"],[\"98aeb30c-d896-51bd-b421-a650f0522335\",\"SMS\",\"Outbound\",\"Sales\",\"CreditCards\"],[\"708be173-0f46-55ee-add6-6fdca447a70a\",\"SMS\",\"Outbound\",\"Sales\",\"HomeLoans\"],[\"277a2c48-8888-5b71-911e-443d52c9b50f\",\"SMS\",\"Outbound\",\"Sales\",\"Bundles\"],[\"a75db3a2-fecc-5cc8-b75f-0a44447f9cca\",\"SMS\",\"Outbound\",\"Sales\",\"AutoLoans\"],[\"602303a4-5243-523d-8964-473f3ea1200b\",\"SMS\",\"Outbound\",\"Sales\",\"CreditCards\"],[\"0469930e-8d83-5c81-ba28-a8ec488f8e4d\",\"SMS\",\"Outbound\",\"Sales\",\"DepositAccounts\"],[\"d6e132b6-ad92-5ece-8db5-b42d9d151f73\",\"SMS\",\"Outbound\",\"Sales\",\"Bundles\"],[\"d5e2f4b1-249a-58c0-8a2f-2d314eada5fe\",\"SMS\",\"Outbound\",\"Sales\",\"AutoLoans\"],[\"1be7cd72-741b-5d68-b148-c1af0142fd4a\",\"SMS\",\"Outbound\",\"Sales\",\"CreditCards\"],[\"f38b5b50-b01b-5fd9-8120-7470320d6664\",\"SMS\",\"Outbound\",\"Sales\",\"DepositAccounts\"],[\"081d0acf-bfc3-5c0a-abc4-29106252efb8\",\"SMS\",\"Outbound\",\"Sales\",\"CreditCards\"],[\"a7bb008a-0514-5d41-b014-3e0b1b308382\",\"SMS\",\"Outbound\",\"Sales\",\"DepositAccounts\"]],\"hovertemplate\":\"<b>%{hovertext}</b><br><br>Channel=%{customdata[1]}<br>Performance=%{marker.color}<br>SuccessRate=%{y}<br>ResponseCount=%{marker.size}<br>ModelID=%{customdata[0]}<br>Direction=%{customdata[2]}<br>Issue=%{customdata[3]}<br>Group=%{customdata[4]}<extra></extra>\",\"hovertext\":[\"PaymentProtection\",\"FirstMortgageFHA\",\"PremiumBanking\",\"RegularSaving\",\"AutoUsed36Months\",\"AutoNew36Months\",\"MasterCardWorld\",\"ChannelAction_Template\",\"FirstMortgage\",\"AutoNew48Months\",\"MasterCardGold\",\"IdentityTheftProtection\",\"FirstMortgageFiveOneARM\",\"HomeOwners\",\"AutoUsed48Months\",\"UPlusFinPersonal\",\"SeniorChecking\",\"SuperSaver\",\"AutoUsed84Months\",\"VisaGold\",\"MoneyMarketSavingsAccount\",\"UPlusFinGold\",\"PremierChecking\"],\"legendgroup\":\"\",\"marker\":{\"color\":[51.4945,52.7779,61.6472,51.1978,54.2851,60.5845,55.1591,69.7884,64.851,61.8246,50.0,53.0707,65.202,77.3211,69.3922,62.9893,56.5227,61.812,62.2813,53.1863,51.3569,66.541,51.6802],\"coloraxis\":\"coloraxis\",\"size\":[722,477,5052,1221,1622,5602,634,828,3946,5743,1080,855,482,4976,1447,3588,3424,1106,1347,822,1185,3854,4658],\"sizemode\":\"area\",\"sizeref\":14.5425,\"symbol\":\"circle\",\"line\":{\"color\":\"black\"}},\"mode\":\"markers\",\"name\":\"\",\"orientation\":\"v\",\"showlegend\":false,\"x\":[51.4945,52.7779,61.6472,51.1978,54.2851,60.5845,55.1591,69.7884,64.851,61.8246,50.0,53.0707,65.202,77.3211,69.3922,62.9893,56.5227,61.812,62.2813,53.1863,51.3569,66.541,51.6802],\"xaxis\":\"x2\",\"y\":[22.43767,10.06289,2.0388,6.38821,8.75462,0.64263,5.67823,6.28019,16.85251,7.19136,0.27778,1.16959,10.37344,10.7717,3.52453,5.18395,15.82944,12.02532,3.71195,3.28467,9.95781,4.28127,23.65822],\"yaxis\":\"y2\",\"type\":\"scatter\"},{\"customdata\":[[\"a87d51fb-cfdc-598d-b84a-dcdd64e1e750\",\"Web\",\"Inbound\",\"Sales\",\"HomeLoans\"],[\"9e9e8c2e-6d19-538c-8e7b-a73070717ecf\",\"Web\",\"Inbound\",\"Sales\",\"CreditCards\"],[\"ea0a225a-7d09-5d90-88f6-d0e8380d67cc\",\"Web\",\"Inbound\",\"Sales\",\"DepositAccounts\"],[\"59f06605-5b39-57dd-945b-637a72fa9085\",\"Web\",\"Inbound\",\"Sales\",\"CreditCards\"],[\"692f453a-f825-5a90-ab40-f83cbb34b058\",\"Web\",\"Inbound\",\"Sales\",\"HomeLoans\"],[\"95ae0f10-297a-5c01-94d8-914bb89df969\",\"Web\",\"Inbound\",\"Sales\",\"DepositAccounts\"],[\"a8cde9d1-c720-537c-8fb8-8c59506bddfe\",\"Web\",\"Inbound\",\"Sales\",\"CreditCards\"],[\"8e40882a-aacf-5f03-9be8-f833c7932da2\",\"Web\",\"Inbound\",\"Sales\",\"Bundles\"],[\"08ca1302-9fc0-57bf-9031-d4179d400493\",\"Web\",\"Inbound\",\"Sales\",\"Bundles\"],[\"68e1d164-81e3-5da0-816c-0bbc3c20ac6c\",\"Web\",\"Inbound\",\"Sales\",\"AutoLoans\"],[\"c29ffcfa-5210-5998-a826-f3a8db57c610\",\"Web\",\"Inbound\",\"Sales\",\"CreditCards\"],[\"a8cd5e12-5d10-5b62-95f6-c5bb6344a83a\",\"Web\",\"Inbound\",\"Sales\",\"DepositAccounts\"],[\"0ad9da35-f171-5ab9-973f-1cc4b89b4e8f\",\"Web\",\"Inbound\",\"Sales\",\"Bundles\"],[\"708f20ef-7ca1-58f4-9dfa-b7efb5342fcf\",\"Web\",\"Inbound\",\"Sales\",\"HomeLoans\"],[\"5cb8d642-390e-5c3e-8868-d34768f9535c\",\"Web\",\"Inbound\",\"Sales\",\"AutoLoans\"],[\"17571d69-f802-5122-9bfe-6f3f4ef9073b\",\"Web\",\"Inbound\",\"Sales\",\"CreditCards\"],[\"7d2046d5-be79-5f5a-a858-dcd9c65fd086\",\"Web\",\"Inbound\",\"Sales\",\"AutoLoans\"]],\"hovertemplate\":\"<b>%{hovertext}</b><br><br>Channel=%{customdata[1]}<br>Performance=%{marker.color}<br>SuccessRate=%{y}<br>ResponseCount=%{marker.size}<br>ModelID=%{customdata[0]}<br>Direction=%{customdata[2]}<br>Issue=%{customdata[3]}<br>Group=%{customdata[4]}<extra></extra>\",\"hovertext\":[\"FirstMortgage\",\"MasterCardGold\",\"PremierChecking\",\"PlatinumRewardsCard\",\"FirstMortgageFloat\",\"MoneyMarketSavingsAccount\",\"UPlusFinGold\",\"PremiumBanking\",\"HomeOwners\",\"AutoNew84Months\",\"PaymentProtection\",\"SeniorChecking\",\"SuperSaver\",\"FirstMortgageFiveOneARM\",\"AutoUsed36Months\",\"VisaGold\",\"AutoNew36Months\"],\"legendgroup\":\"\",\"marker\":{\"color\":[64.7708,57.1711,52.4186,57.9772,64.6733,50.0,68.6745,65.264,75.6002,77.4901,58.1586,54.9147,75.7296,52.7198,57.8638,51.9586,56.5041],\"coloraxis\":\"coloraxis\",\"size\":[4076,835,4404,907,518,1206,3760,5176,4605,1636,686,3024,1267,449,1688,778,5499],\"sizemode\":\"area\",\"sizeref\":14.5425,\"symbol\":\"circle\",\"line\":{\"color\":\"black\"}},\"mode\":\"markers\",\"name\":\"\",\"orientation\":\"v\",\"showlegend\":false,\"x\":[64.7708,57.1711,52.4186,57.9772,64.6733,50.0,68.6745,65.264,75.6002,77.4901,58.1586,54.9147,75.7296,52.7198,57.8638,51.9586,56.5041],\"xaxis\":\"x3\",\"y\":[22.15407,2.15569,27.77021,1.54355,2.50965,9.12106,5.93085,1.95131,13.22476,12.59169,25.07289,19.01455,8.83978,17.37194,10.24882,5.9126,2.49136],\"yaxis\":\"y3\",\"type\":\"scatter\"}],                        {\"template\":{\"layout\":{\"colorway\":[\"#001F5F\",\"#10A5AC\",\"#F76923\",\"#661D34\",\"#86CAC6\",\"#005154\",\"#86CAC6\",\"#5F67B9\",\"#FFC836\",\"#E63690\",\"#AC1361\",\"#63666F\",\"#A7A9B4\",\"#D0D1DB\"],\"hovermode\":\"closest\"}},\"xaxis\":{\"anchor\":\"y\",\"domain\":[0.0,0.31999999999999995],\"title\":{\"text\":\"Performance\"}},\"yaxis\":{\"anchor\":\"x\",\"domain\":[0.0,1.0],\"title\":{\"text\":\"SuccessRate\"}},\"xaxis2\":{\"anchor\":\"y2\",\"domain\":[0.33999999999999997,0.6599999999999999],\"matches\":\"x\",\"title\":{\"text\":\"Performance\"}},\"yaxis2\":{\"anchor\":\"x2\",\"domain\":[0.0,1.0],\"matches\":\"y\",\"showticklabels\":false},\"xaxis3\":{\"anchor\":\"y3\",\"domain\":[0.6799999999999999,0.9999999999999999],\"matches\":\"x\",\"title\":{\"text\":\"Performance\"}},\"yaxis3\":{\"anchor\":\"x3\",\"domain\":[0.0,1.0],\"matches\":\"y\",\"showticklabels\":false},\"annotations\":[{\"font\":{},\"showarrow\":false,\"text\":\"Channel=Email<br><sup>21 models: 0 (0.0%) at (50,0)</sup>\",\"x\":0.15999999999999998,\"xanchor\":\"center\",\"xref\":\"paper\",\"y\":1.0,\"yanchor\":\"bottom\",\"yref\":\"paper\"},{\"font\":{},\"showarrow\":false,\"text\":\"Channel=SMS<br><sup>23 models: 0 (0.0%) at (50,0)</sup>\",\"x\":0.49999999999999994,\"xanchor\":\"center\",\"xref\":\"paper\",\"y\":1.0,\"yanchor\":\"bottom\",\"yref\":\"paper\"},{\"font\":{},\"showarrow\":false,\"text\":\"Channel=Web<br><sup>17 models: 0 (0.0%) at (50,0)</sup>\",\"x\":0.8399999999999999,\"xanchor\":\"center\",\"xref\":\"paper\",\"y\":1.0,\"yanchor\":\"bottom\",\"yref\":\"paper\"}],\"coloraxis\":{\"colorbar\":{\"title\":{\"text\":\"Performance\"}},\"colorscale\":[[0.0,\"#440154\"],[0.1111111111111111,\"#482878\"],[0.2222222222222222,\"#3e4989\"],[0.3333333333333333,\"#31688e\"],[0.4444444444444444,\"#26828e\"],[0.5555555555555556,\"#1f9e89\"],[0.6666666666666666,\"#35b779\"],[0.7777777777777778,\"#6ece58\"],[0.8888888888888888,\"#b5de2b\"],[1.0,\"#fde725\"]]},\"legend\":{\"tracegroupgap\":0,\"itemsizing\":\"constant\"},\"title\":{\"text\":\"Bubble Chart per Channel <br><sup>Query: [(col(\\\"Issue\\\")) == (Utf8(Sales))]</sup>\"}},                        {\"responsive\": true}                    ).then(function(){\n",
       "                            \n",
       "var gd = document.getElementById('b4020570-5241-4f65-9003-d87ba75c015a');\n",
       "var x = new MutationObserver(function (mutations, observer) {{\n",
       "        var display = window.getComputedStyle(gd).display;\n",
       "        if (!display || display === 'none') {{\n",
       "            console.log([gd, 'removed!']);\n",
       "            Plotly.purge(gd);\n",
       "            observer.disconnect();\n",
       "        }}\n",
       "}});\n",
       "\n",
       "// Listen for the removal of the full notebook cells\n",
       "var notebookContainer = gd.closest('#notebook-container');\n",
       "if (notebookContainer) {{\n",
       "    x.observe(notebookContainer, {childList: true});\n",
       "}}\n",
       "\n",
       "// Listen for the clearing of the current output cell\n",
       "var outputEl = gd.closest('.output');\n",
       "if (outputEl) {{\n",
       "    x.observe(outputEl, {childList: true});\n",
       "}}\n",
       "\n",
       "                        })                };                });            </script>        </div>"
      ]
     },
     "metadata": {},
     "output_type": "display_data"
    }
   ],
   "source": [
    "dm = datasets.CDHSample()\n",
    "\n",
    "dm.plotPerformanceSuccessRateBubbleChart(\n",
    "    query=pl.col(\"Issue\") == \"Sales\", facets=[\"Channel\"]\n",
    ")\n"
   ]
  },
  {
   "attachments": {},
   "cell_type": "markdown",
   "metadata": {},
   "source": [
    "However, if you want to _combine_ queries, let's say just looking at Sales/Web, the best way to do that is like this (also note the extra brackets between expressions):"
   ]
  },
  {
   "cell_type": "code",
   "execution_count": 16,
   "metadata": {
    "execution": {
     "iopub.execute_input": "2023-03-24T17:15:19.708788Z",
     "iopub.status.busy": "2023-03-24T17:15:19.708425Z",
     "iopub.status.idle": "2023-03-24T17:15:19.761040Z",
     "shell.execute_reply": "2023-03-24T17:15:19.760222Z"
    }
   },
   "outputs": [
    {
     "data": {
      "text/html": [
       "<div>                            <div id=\"55adabb9-8418-48c1-9cc5-b0137390700b\" class=\"plotly-graph-div\" style=\"height:525px; width:100%;\"></div>            <script type=\"text/javascript\">                require([\"plotly\"], function(Plotly) {                    window.PLOTLYENV=window.PLOTLYENV || {};                                    if (document.getElementById(\"55adabb9-8418-48c1-9cc5-b0137390700b\")) {                    Plotly.newPlot(                        \"55adabb9-8418-48c1-9cc5-b0137390700b\",                        [{\"customdata\":[[\"a87d51fb-cfdc-598d-b84a-dcdd64e1e750\",\"Web\",\"Inbound\",\"Sales\",\"HomeLoans\"],[\"9e9e8c2e-6d19-538c-8e7b-a73070717ecf\",\"Web\",\"Inbound\",\"Sales\",\"CreditCards\"],[\"ea0a225a-7d09-5d90-88f6-d0e8380d67cc\",\"Web\",\"Inbound\",\"Sales\",\"DepositAccounts\"],[\"59f06605-5b39-57dd-945b-637a72fa9085\",\"Web\",\"Inbound\",\"Sales\",\"CreditCards\"],[\"692f453a-f825-5a90-ab40-f83cbb34b058\",\"Web\",\"Inbound\",\"Sales\",\"HomeLoans\"],[\"95ae0f10-297a-5c01-94d8-914bb89df969\",\"Web\",\"Inbound\",\"Sales\",\"DepositAccounts\"],[\"a8cde9d1-c720-537c-8fb8-8c59506bddfe\",\"Web\",\"Inbound\",\"Sales\",\"CreditCards\"],[\"8e40882a-aacf-5f03-9be8-f833c7932da2\",\"Web\",\"Inbound\",\"Sales\",\"Bundles\"],[\"08ca1302-9fc0-57bf-9031-d4179d400493\",\"Web\",\"Inbound\",\"Sales\",\"Bundles\"],[\"68e1d164-81e3-5da0-816c-0bbc3c20ac6c\",\"Web\",\"Inbound\",\"Sales\",\"AutoLoans\"],[\"c29ffcfa-5210-5998-a826-f3a8db57c610\",\"Web\",\"Inbound\",\"Sales\",\"CreditCards\"],[\"a8cd5e12-5d10-5b62-95f6-c5bb6344a83a\",\"Web\",\"Inbound\",\"Sales\",\"DepositAccounts\"],[\"0ad9da35-f171-5ab9-973f-1cc4b89b4e8f\",\"Web\",\"Inbound\",\"Sales\",\"Bundles\"],[\"708f20ef-7ca1-58f4-9dfa-b7efb5342fcf\",\"Web\",\"Inbound\",\"Sales\",\"HomeLoans\"],[\"5cb8d642-390e-5c3e-8868-d34768f9535c\",\"Web\",\"Inbound\",\"Sales\",\"AutoLoans\"],[\"17571d69-f802-5122-9bfe-6f3f4ef9073b\",\"Web\",\"Inbound\",\"Sales\",\"CreditCards\"],[\"7d2046d5-be79-5f5a-a858-dcd9c65fd086\",\"Web\",\"Inbound\",\"Sales\",\"AutoLoans\"]],\"hovertemplate\":\"<b>%{hovertext}</b><br><br>Performance=%{marker.color}<br>SuccessRate=%{y}<br>ResponseCount=%{marker.size}<br>ModelID=%{customdata[0]}<br>Channel=%{customdata[1]}<br>Direction=%{customdata[2]}<br>Issue=%{customdata[3]}<br>Group=%{customdata[4]}<extra></extra>\",\"hovertext\":[\"FirstMortgage\",\"MasterCardGold\",\"PremierChecking\",\"PlatinumRewardsCard\",\"FirstMortgageFloat\",\"MoneyMarketSavingsAccount\",\"UPlusFinGold\",\"PremiumBanking\",\"HomeOwners\",\"AutoNew84Months\",\"PaymentProtection\",\"SeniorChecking\",\"SuperSaver\",\"FirstMortgageFiveOneARM\",\"AutoUsed36Months\",\"VisaGold\",\"AutoNew36Months\"],\"legendgroup\":\"\",\"marker\":{\"color\":[64.7708,57.1711,52.4186,57.9772,64.6733,50.0,68.6745,65.264,75.6002,77.4901,58.1586,54.9147,75.7296,52.7198,57.8638,51.9586,56.5041],\"coloraxis\":\"coloraxis\",\"size\":[4076,835,4404,907,518,1206,3760,5176,4605,1636,686,3024,1267,449,1688,778,5499],\"sizemode\":\"area\",\"sizeref\":13.7475,\"symbol\":\"circle\",\"line\":{\"color\":\"black\"}},\"mode\":\"markers\",\"name\":\"\",\"orientation\":\"v\",\"showlegend\":false,\"x\":[64.7708,57.1711,52.4186,57.9772,64.6733,50.0,68.6745,65.264,75.6002,77.4901,58.1586,54.9147,75.7296,52.7198,57.8638,51.9586,56.5041],\"xaxis\":\"x\",\"y\":[22.15407,2.15569,27.77021,1.54355,2.50965,9.12106,5.93085,1.95131,13.22476,12.59169,25.07289,19.01455,8.83978,17.37194,10.24882,5.9126,2.49136],\"yaxis\":\"y\",\"type\":\"scatter\"}],                        {\"template\":{\"layout\":{\"colorway\":[\"#001F5F\",\"#10A5AC\",\"#F76923\",\"#661D34\",\"#86CAC6\",\"#005154\",\"#86CAC6\",\"#5F67B9\",\"#FFC836\",\"#E63690\",\"#AC1361\",\"#63666F\",\"#A7A9B4\",\"#D0D1DB\"],\"hovermode\":\"closest\"}},\"xaxis\":{\"anchor\":\"y\",\"domain\":[0.0,1.0],\"title\":{\"text\":\"Performance\"}},\"yaxis\":{\"anchor\":\"x\",\"domain\":[0.0,1.0],\"title\":{\"text\":\"SuccessRate\"}},\"coloraxis\":{\"colorbar\":{\"title\":{\"text\":\"Performance\"}},\"colorscale\":[[0.0,\"#440154\"],[0.1111111111111111,\"#482878\"],[0.2222222222222222,\"#3e4989\"],[0.3333333333333333,\"#31688e\"],[0.4444444444444444,\"#26828e\"],[0.5555555555555556,\"#1f9e89\"],[0.6666666666666666,\"#35b779\"],[0.7777777777777778,\"#6ece58\"],[0.8888888888888888,\"#b5de2b\"],[1.0,\"#fde725\"]]},\"legend\":{\"tracegroupgap\":0,\"itemsizing\":\"constant\"},\"title\":{\"text\":\"Bubble Chart over all models <br><sup>17 models: 0 (0.0%) at (50,0)</sup><br><sup>Query: [([(col(\\\"Issue\\\")) == (Utf8(Sales))]) & ([(col(\\\"Channel\\\")) == (Utf8(Web))])]</sup>\"}},                        {\"responsive\": true}                    ).then(function(){\n",
       "                            \n",
       "var gd = document.getElementById('55adabb9-8418-48c1-9cc5-b0137390700b');\n",
       "var x = new MutationObserver(function (mutations, observer) {{\n",
       "        var display = window.getComputedStyle(gd).display;\n",
       "        if (!display || display === 'none') {{\n",
       "            console.log([gd, 'removed!']);\n",
       "            Plotly.purge(gd);\n",
       "            observer.disconnect();\n",
       "        }}\n",
       "}});\n",
       "\n",
       "// Listen for the removal of the full notebook cells\n",
       "var notebookContainer = gd.closest('#notebook-container');\n",
       "if (notebookContainer) {{\n",
       "    x.observe(notebookContainer, {childList: true});\n",
       "}}\n",
       "\n",
       "// Listen for the clearing of the current output cell\n",
       "var outputEl = gd.closest('.output');\n",
       "if (outputEl) {{\n",
       "    x.observe(outputEl, {childList: true});\n",
       "}}\n",
       "\n",
       "                        })                };                });            </script>        </div>"
      ]
     },
     "metadata": {},
     "output_type": "display_data"
    }
   ],
   "source": [
    "dm.plotPerformanceSuccessRateBubbleChart(\n",
    "    query=(pl.col(\"Issue\") == \"Sales\") & (pl.col(\"Channel\") == \"Web\")\n",
    ")\n"
   ]
  },
  {
   "attachments": {},
   "cell_type": "markdown",
   "metadata": {},
   "source": [
    "We can make use of string operations (hover to verify for yourself!):"
   ]
  },
  {
   "cell_type": "code",
   "execution_count": 17,
   "metadata": {
    "execution": {
     "iopub.execute_input": "2023-03-24T17:15:19.763729Z",
     "iopub.status.busy": "2023-03-24T17:15:19.763481Z",
     "iopub.status.idle": "2023-03-24T17:15:19.812446Z",
     "shell.execute_reply": "2023-03-24T17:15:19.811588Z"
    }
   },
   "outputs": [
    {
     "data": {
      "text/html": [
       "<div>                            <div id=\"51230551-251d-41c6-b309-6b6fe71afce1\" class=\"plotly-graph-div\" style=\"height:525px; width:100%;\"></div>            <script type=\"text/javascript\">                require([\"plotly\"], function(Plotly) {                    window.PLOTLYENV=window.PLOTLYENV || {};                                    if (document.getElementById(\"51230551-251d-41c6-b309-6b6fe71afce1\")) {                    Plotly.newPlot(                        \"51230551-251d-41c6-b309-6b6fe71afce1\",                        [{\"customdata\":[[\"9e9e8c2e-6d19-538c-8e7b-a73070717ecf\",\"Web\",\"Inbound\",\"Sales\",\"CreditCards\"],[\"ea0a225a-7d09-5d90-88f6-d0e8380d67cc\",\"Web\",\"Inbound\",\"Sales\",\"DepositAccounts\"],[\"a8cde9d1-c720-537c-8fb8-8c59506bddfe\",\"Web\",\"Inbound\",\"Sales\",\"CreditCards\"],[\"4efdb97d-288d-518f-a3e0-8314bbd7f2a3\",\"SMS\",\"Outbound\",\"Sales\",\"CreditCards\"],[\"cffb1b5d-219e-5137-9036-4e2136be6a8f\",\"Email\",\"Outbound\",\"Sales\",\"DepositAccounts\"],[\"1be7cd72-741b-5d68-b148-c1af0142fd4a\",\"SMS\",\"Outbound\",\"Sales\",\"CreditCards\"],[\"17571d69-f802-5122-9bfe-6f3f4ef9073b\",\"Web\",\"Inbound\",\"Sales\",\"CreditCards\"],[\"2c8e753a-9e85-5060-ac5b-073e79e755c0\",\"Email\",\"Outbound\",\"Sales\",\"CreditCards\"],[\"081d0acf-bfc3-5c0a-abc4-29106252efb8\",\"SMS\",\"Outbound\",\"Sales\",\"CreditCards\"],[\"a7bb008a-0514-5d41-b014-3e0b1b308382\",\"SMS\",\"Outbound\",\"Sales\",\"DepositAccounts\"],[\"85d9dd89-93e5-55a0-b05f-e68bba9c97d1\",\"Email\",\"Outbound\",\"Sales\",\"CreditCards\"]],\"hovertemplate\":\"<b>%{hovertext}</b><br><br>Performance=%{marker.color}<br>SuccessRate=%{y}<br>ResponseCount=%{marker.size}<br>ModelID=%{customdata[0]}<br>Channel=%{customdata[1]}<br>Direction=%{customdata[2]}<br>Issue=%{customdata[3]}<br>Group=%{customdata[4]}<extra></extra>\",\"hovertext\":[\"MasterCardGold\",\"PremierChecking\",\"UPlusFinGold\",\"MasterCardGold\",\"PremierChecking\",\"VisaGold\",\"VisaGold\",\"UPlusFinGold\",\"UPlusFinGold\",\"PremierChecking\",\"MasterCardGold\"],\"legendgroup\":\"\",\"marker\":{\"color\":[57.1711,52.4186,68.6745,50.0,52.1103,53.1863,51.9586,53.496,66.541,51.6802,50.0],\"coloraxis\":\"coloraxis\",\"size\":[835,4404,3760,1080,3355,822,778,3545,3854,4658,875],\"sizemode\":\"area\",\"sizeref\":11.645,\"symbol\":\"circle\",\"line\":{\"color\":\"black\"}},\"mode\":\"markers\",\"name\":\"\",\"orientation\":\"v\",\"showlegend\":false,\"x\":[57.1711,52.4186,68.6745,50.0,52.1103,53.1863,51.9586,53.496,66.541,51.6802,50.0],\"xaxis\":\"x\",\"y\":[2.15569,27.77021,5.93085,0.27778,8.70343,3.28467,5.9126,1.07193,4.28127,23.65822,0.57143],\"yaxis\":\"y\",\"type\":\"scatter\"}],                        {\"template\":{\"layout\":{\"colorway\":[\"#001F5F\",\"#10A5AC\",\"#F76923\",\"#661D34\",\"#86CAC6\",\"#005154\",\"#86CAC6\",\"#5F67B9\",\"#FFC836\",\"#E63690\",\"#AC1361\",\"#63666F\",\"#A7A9B4\",\"#D0D1DB\"],\"hovermode\":\"closest\"}},\"xaxis\":{\"anchor\":\"y\",\"domain\":[0.0,1.0],\"title\":{\"text\":\"Performance\"}},\"yaxis\":{\"anchor\":\"x\",\"domain\":[0.0,1.0],\"title\":{\"text\":\"SuccessRate\"}},\"coloraxis\":{\"colorbar\":{\"title\":{\"text\":\"Performance\"}},\"colorscale\":[[0.0,\"#440154\"],[0.1111111111111111,\"#482878\"],[0.2222222222222222,\"#3e4989\"],[0.3333333333333333,\"#31688e\"],[0.4444444444444444,\"#26828e\"],[0.5555555555555556,\"#1f9e89\"],[0.6666666666666666,\"#35b779\"],[0.7777777777777778,\"#6ece58\"],[0.8888888888888888,\"#b5de2b\"],[1.0,\"#fde725\"]]},\"legend\":{\"tracegroupgap\":0,\"itemsizing\":\"constant\"},\"title\":{\"text\":\"Bubble Chart over all models <br><sup>11 models: 0 (0.0%) at (50,0)</sup><br><sup>Query: [(col(\\\"Name\\\").str.starts_with([Utf8(Premier)])) | (col(\\\"Name\\\").str.ends_with([Utf8(Gold)]))]</sup>\"}},                        {\"responsive\": true}                    ).then(function(){\n",
       "                            \n",
       "var gd = document.getElementById('51230551-251d-41c6-b309-6b6fe71afce1');\n",
       "var x = new MutationObserver(function (mutations, observer) {{\n",
       "        var display = window.getComputedStyle(gd).display;\n",
       "        if (!display || display === 'none') {{\n",
       "            console.log([gd, 'removed!']);\n",
       "            Plotly.purge(gd);\n",
       "            observer.disconnect();\n",
       "        }}\n",
       "}});\n",
       "\n",
       "// Listen for the removal of the full notebook cells\n",
       "var notebookContainer = gd.closest('#notebook-container');\n",
       "if (notebookContainer) {{\n",
       "    x.observe(notebookContainer, {childList: true});\n",
       "}}\n",
       "\n",
       "// Listen for the clearing of the current output cell\n",
       "var outputEl = gd.closest('.output');\n",
       "if (outputEl) {{\n",
       "    x.observe(outputEl, {childList: true});\n",
       "}}\n",
       "\n",
       "                        })                };                });            </script>        </div>"
      ]
     },
     "metadata": {},
     "output_type": "display_data"
    }
   ],
   "source": [
    "dm.plotPerformanceSuccessRateBubbleChart(\n",
    "    query=(pl.col(\"Name\").str.starts_with(\"Premier\"))\n",
    "    | (pl.col(\"Name\").str.ends_with(\"Gold\"))\n",
    ")\n"
   ]
  },
  {
   "attachments": {},
   "cell_type": "markdown",
   "metadata": {},
   "source": [
    "Since we have full access to Polar's expressions, we can use a [very wide range of functions](https://pola-rs.github.io/polars/py-polars/html/reference/expressions/index.html), including windowing, folds, and slices. \n",
    "\n",
    "For something more advanced: let's look at the highest performance model per group."
   ]
  },
  {
   "cell_type": "code",
   "execution_count": 18,
   "metadata": {
    "execution": {
     "iopub.execute_input": "2023-03-24T17:15:19.816152Z",
     "iopub.status.busy": "2023-03-24T17:15:19.815843Z",
     "iopub.status.idle": "2023-03-24T17:15:19.865331Z",
     "shell.execute_reply": "2023-03-24T17:15:19.863148Z"
    }
   },
   "outputs": [
    {
     "data": {
      "text/html": [
       "<div>                            <div id=\"bb8a0ce0-c41d-4b09-ad51-4ac8f2987bdb\" class=\"plotly-graph-div\" style=\"height:525px; width:100%;\"></div>            <script type=\"text/javascript\">                require([\"plotly\"], function(Plotly) {                    window.PLOTLYENV=window.PLOTLYENV || {};                                    if (document.getElementById(\"bb8a0ce0-c41d-4b09-ad51-4ac8f2987bdb\")) {                    Plotly.newPlot(                        \"bb8a0ce0-c41d-4b09-ad51-4ac8f2987bdb\",                        [{\"customdata\":[[\"26dda9e0-34a2-5e0a-8ee2-fd0c39de729e\",\"SMS\",\"Outbound\",\"Sales\",\"CreditCards\"],[\"68e1d164-81e3-5da0-816c-0bbc3c20ac6c\",\"Web\",\"Inbound\",\"Sales\",\"AutoLoans\"],[\"277a2c48-8888-5b71-911e-443d52c9b50f\",\"SMS\",\"Outbound\",\"Sales\",\"Bundles\"],[\"838ca9ec-74ea-5a54-8c57-f45295116921\",\"SMS\",\"Outbound\",\"Services\",\"Account\"]],\"hovertemplate\":\"<b>%{hovertext}</b><br><br>Performance=%{marker.color}<br>SuccessRate=%{y}<br>ResponseCount=%{marker.size}<br>ModelID=%{customdata[0]}<br>Channel=%{customdata[1]}<br>Direction=%{customdata[2]}<br>Issue=%{customdata[3]}<br>Group=%{customdata[4]}<extra></extra>\",\"hovertext\":[\"ChannelAction_Template\",\"AutoNew84Months\",\"HomeOwners\",\"GoPaperless\"],\"legendgroup\":\"\",\"marker\":{\"color\":[69.7884,77.4901,77.3211,71.2165],\"coloraxis\":\"coloraxis\",\"size\":[828,1636,4976,8174],\"sizemode\":\"area\",\"sizeref\":20.435,\"symbol\":\"circle\",\"line\":{\"color\":\"black\"}},\"mode\":\"markers\",\"name\":\"\",\"orientation\":\"v\",\"showlegend\":false,\"x\":[69.7884,77.4901,77.3211,71.2165],\"xaxis\":\"x\",\"y\":[6.28019,12.59169,10.7717,11.05946],\"yaxis\":\"y\",\"type\":\"scatter\"}],                        {\"template\":{\"layout\":{\"colorway\":[\"#001F5F\",\"#10A5AC\",\"#F76923\",\"#661D34\",\"#86CAC6\",\"#005154\",\"#86CAC6\",\"#5F67B9\",\"#FFC836\",\"#E63690\",\"#AC1361\",\"#63666F\",\"#A7A9B4\",\"#D0D1DB\"],\"hovermode\":\"closest\"}},\"xaxis\":{\"anchor\":\"y\",\"domain\":[0.0,1.0],\"title\":{\"text\":\"Performance\"}},\"yaxis\":{\"anchor\":\"x\",\"domain\":[0.0,1.0],\"title\":{\"text\":\"SuccessRate\"}},\"coloraxis\":{\"colorbar\":{\"title\":{\"text\":\"Performance\"}},\"colorscale\":[[0.0,\"#440154\"],[0.1111111111111111,\"#482878\"],[0.2222222222222222,\"#3e4989\"],[0.3333333333333333,\"#31688e\"],[0.4444444444444444,\"#26828e\"],[0.5555555555555556,\"#1f9e89\"],[0.6666666666666666,\"#35b779\"],[0.7777777777777778,\"#6ece58\"],[0.8888888888888888,\"#b5de2b\"],[1.0,\"#fde725\"]]},\"legend\":{\"tracegroupgap\":0,\"itemsizing\":\"constant\"},\"title\":{\"text\":\"Bubble Chart over all models <br><sup>4 models: 0 (0.0%) at (50,0)</sup><br><sup>Query: [(col(\\\"Performance\\\")) == (col(\\\"Performance\\\").max())].over([col(\\\"Group\\\")])</sup>\"}},                        {\"responsive\": true}                    ).then(function(){\n",
       "                            \n",
       "var gd = document.getElementById('bb8a0ce0-c41d-4b09-ad51-4ac8f2987bdb');\n",
       "var x = new MutationObserver(function (mutations, observer) {{\n",
       "        var display = window.getComputedStyle(gd).display;\n",
       "        if (!display || display === 'none') {{\n",
       "            console.log([gd, 'removed!']);\n",
       "            Plotly.purge(gd);\n",
       "            observer.disconnect();\n",
       "        }}\n",
       "}});\n",
       "\n",
       "// Listen for the removal of the full notebook cells\n",
       "var notebookContainer = gd.closest('#notebook-container');\n",
       "if (notebookContainer) {{\n",
       "    x.observe(notebookContainer, {childList: true});\n",
       "}}\n",
       "\n",
       "// Listen for the clearing of the current output cell\n",
       "var outputEl = gd.closest('.output');\n",
       "if (outputEl) {{\n",
       "    x.observe(outputEl, {childList: true});\n",
       "}}\n",
       "\n",
       "                        })                };                });            </script>        </div>"
      ]
     },
     "metadata": {},
     "output_type": "display_data"
    }
   ],
   "source": [
    "dm.plotPerformanceSuccessRateBubbleChart(\n",
    "    query=(pl.col(\"Performance\") == pl.max(\"Performance\")).over(\"Group\")\n",
    ")\n"
   ]
  },
  {
   "attachments": {},
   "cell_type": "markdown",
   "metadata": {},
   "source": [
    "Or we can look at temporal filters, like only looking at the first snapshot:"
   ]
  },
  {
   "cell_type": "code",
   "execution_count": 19,
   "metadata": {
    "execution": {
     "iopub.execute_input": "2023-03-24T17:15:19.869199Z",
     "iopub.status.busy": "2023-03-24T17:15:19.868602Z",
     "iopub.status.idle": "2023-03-24T17:15:20.023821Z",
     "shell.execute_reply": "2023-03-24T17:15:20.022996Z"
    }
   },
   "outputs": [
    {
     "data": {
      "text/html": [
       "<div>                            <div id=\"1448e416-1c16-4c06-acb3-30d4d9c15d27\" class=\"plotly-graph-div\" style=\"height:525px; width:100%;\"></div>            <script type=\"text/javascript\">                require([\"plotly\"], function(Plotly) {                    window.PLOTLYENV=window.PLOTLYENV || {};                                    if (document.getElementById(\"1448e416-1c16-4c06-acb3-30d4d9c15d27\")) {                    Plotly.newPlot(                        \"1448e416-1c16-4c06-acb3-30d4d9c15d27\",                        [{\"customdata\":[[\"5ca51e1e-49f0-58d2-8ab7-4a0ccbb326fd\",\"SMS\",\"Outbound\",\"Sales\",\"DepositAccounts\"],[\"b216413c-8c2e-5e1b-860b-07dfc69efa69\",\"SMS\",\"Outbound\",\"Sales\",\"AutoLoans\"],[\"cb67c091-5a81-56f4-9845-71afa9c8076e\",\"Email\",\"Outbound\",\"Sales\",\"HomeLoans\"],[\"ea0a225a-7d09-5d90-88f6-d0e8380d67cc\",\"Web\",\"Inbound\",\"Sales\",\"DepositAccounts\"],[\"a8cde9d1-c720-537c-8fb8-8c59506bddfe\",\"Web\",\"Inbound\",\"Sales\",\"CreditCards\"],[\"cc9b9b1b-c2f9-5e8c-a54a-f13e0559ebd6\",\"Email\",\"Outbound\",\"Sales\",\"CreditCards\"],[\"692f453a-f825-5a90-ab40-f83cbb34b058\",\"Web\",\"Inbound\",\"Sales\",\"HomeLoans\"],[\"26dda9e0-34a2-5e0a-8ee2-fd0c39de729e\",\"SMS\",\"Outbound\",\"Sales\",\"CreditCards\"],[\"f9fc995f-3f02-5e9e-8e22-b72909054f3a\",\"SMS\",\"Outbound\",\"Sales\",\"AutoLoans\"],[\"95ae0f10-297a-5c01-94d8-914bb89df969\",\"Web\",\"Inbound\",\"Sales\",\"DepositAccounts\"],[\"7ffc8c26-8473-5c8e-bcc3-48e5b162da7a\",\"SMS\",\"Outbound\",\"Sales\",\"CreditCards\"],[\"24f11deb-a6fa-59bf-b5f7-c61abffc9482\",\"Email\",\"Outbound\",\"Sales\",\"AutoLoans\"],[\"84107ad6-c998-5377-b0d0-e02be2a8d768\",\"Email\",\"Outbound\",\"Sales\",\"AutoLoans\"],[\"b5338016-1fee-5745-80ee-7bd6d51f2920\",\"Email\",\"Outbound\",\"Sales\",\"CreditCards\"],[\"9e9e8c2e-6d19-538c-8e7b-a73070717ecf\",\"Web\",\"Inbound\",\"Sales\",\"CreditCards\"],[\"c3f445b2-6037-5560-9f16-71a7259d2c2c\",\"SMS\",\"Outbound\",\"Sales\",\"HomeLoans\"],[\"59f06605-5b39-57dd-945b-637a72fa9085\",\"Web\",\"Inbound\",\"Sales\",\"CreditCards\"],[\"b27d8eb5-7ff6-5706-ae90-6d61ce695f78\",\"SMS\",\"Outbound\",\"Sales\",\"Bundles\"],[\"c8a529fb-9d2c-5069-a50f-42ee1ea9341a\",\"Web\",\"Inbound\",\"Services\",\"Account\"],[\"602303a4-5243-523d-8964-473f3ea1200b\",\"SMS\",\"Outbound\",\"Sales\",\"CreditCards\"],[\"4efdb97d-288d-518f-a3e0-8314bbd7f2a3\",\"SMS\",\"Outbound\",\"Sales\",\"CreditCards\"],[\"ab4592bc-df16-5372-86e7-0caea36ac877\",\"Email\",\"Outbound\",\"Sales\",\"CreditCards\"],[\"8e40882a-aacf-5f03-9be8-f833c7932da2\",\"Web\",\"Inbound\",\"Sales\",\"Bundles\"],[\"a8cd5e12-5d10-5b62-95f6-c5bb6344a83a\",\"Web\",\"Inbound\",\"Sales\",\"DepositAccounts\"],[\"68e1d164-81e3-5da0-816c-0bbc3c20ac6c\",\"Web\",\"Inbound\",\"Sales\",\"AutoLoans\"],[\"30cc2c18-5852-581a-abaa-555bf46a3b9c\",\"Email\",\"Outbound\",\"Services\",\"Account\"],[\"a75db3a2-fecc-5cc8-b75f-0a44447f9cca\",\"SMS\",\"Outbound\",\"Sales\",\"AutoLoans\"],[\"98aeb30c-d896-51bd-b421-a650f0522335\",\"SMS\",\"Outbound\",\"Sales\",\"CreditCards\"],[\"34f7d1b9-92f7-57dc-ab62-0de35dda0221\",\"SMS\",\"Outbound\",\"Services\",\"Account\"],[\"d5e2f4b1-249a-58c0-8a2f-2d314eada5fe\",\"SMS\",\"Outbound\",\"Sales\",\"AutoLoans\"],[\"e4ea7a89-c394-5014-ac26-34b8eee475bd\",\"SMS\",\"Outbound\",\"Sales\",\"CreditCards\"],[\"d6e132b6-ad92-5ece-8db5-b42d9d151f73\",\"SMS\",\"Outbound\",\"Sales\",\"Bundles\"],[\"08ca1302-9fc0-57bf-9031-d4179d400493\",\"Web\",\"Inbound\",\"Sales\",\"Bundles\"],[\"f3afaa9b-d0d5-5be9-a3b9-9fdfc4847411\",\"Email\",\"Outbound\",\"Sales\",\"AutoLoans\"],[\"277a2c48-8888-5b71-911e-443d52c9b50f\",\"SMS\",\"Outbound\",\"Sales\",\"Bundles\"],[\"0ad9da35-f171-5ab9-973f-1cc4b89b4e8f\",\"Web\",\"Inbound\",\"Sales\",\"Bundles\"],[\"cffb1b5d-219e-5137-9036-4e2136be6a8f\",\"Email\",\"Outbound\",\"Sales\",\"DepositAccounts\"],[\"708f20ef-7ca1-58f4-9dfa-b7efb5342fcf\",\"Web\",\"Inbound\",\"Sales\",\"HomeLoans\"],[\"bd70a915-697a-5d43-ab2c-53b0557c85a0\",\"Email\",\"Outbound\",\"Sales\",\"AutoLoans\"],[\"69a8e56f-6327-5a66-a9a3-9b0c106641ec\",\"SMS\",\"Outbound\",\"Sales\",\"AutoLoans\"],[\"708be173-0f46-55ee-add6-6fdca447a70a\",\"SMS\",\"Outbound\",\"Sales\",\"HomeLoans\"],[\"79e3f70f-dc6a-5bea-8006-02a6e91ad256\",\"Email\",\"Outbound\",\"Sales\",\"DepositAccounts\"],[\"320c4d01-43a5-510e-8fa8-1fc1bb4216da\",\"Email\",\"Outbound\",\"Sales\",\"Bundles\"],[\"c4cd4c00-87bf-562e-9ab8-20af64a81757\",\"Email\",\"Outbound\",\"Sales\",\"DepositAccounts\"],[\"470485f7-3b20-58f7-a3aa-1f12c2bb99b7\",\"Email\",\"Outbound\",\"Sales\",\"HomeLoans\"],[\"c29ffcfa-5210-5998-a826-f3a8db57c610\",\"Web\",\"Inbound\",\"Sales\",\"CreditCards\"],[\"0469930e-8d83-5c81-ba28-a8ec488f8e4d\",\"SMS\",\"Outbound\",\"Sales\",\"DepositAccounts\"],[\"0b363d7f-68f8-5e9e-a843-40ca8849e05b\",\"Email\",\"Outbound\",\"Sales\",\"HomeLoans\"],[\"dd502275-e98b-51f7-8935-c30c84641871\",\"Web\",\"Inbound\",\"Services\",\"Account\"],[\"2c8e753a-9e85-5060-ac5b-073e79e755c0\",\"Email\",\"Outbound\",\"Sales\",\"CreditCards\"],[\"7d2046d5-be79-5f5a-a858-dcd9c65fd086\",\"Web\",\"Inbound\",\"Sales\",\"AutoLoans\"],[\"f38b5b50-b01b-5fd9-8120-7470320d6664\",\"SMS\",\"Outbound\",\"Sales\",\"DepositAccounts\"],[\"081d0acf-bfc3-5c0a-abc4-29106252efb8\",\"SMS\",\"Outbound\",\"Sales\",\"CreditCards\"],[\"a63f2f06-1e31-5691-a6df-48916a066c23\",\"Email\",\"Outbound\",\"Sales\",\"DepositAccounts\"],[\"c4c1cff8-2879-51b8-8d08-cb961df94889\",\"Email\",\"Outbound\",\"Sales\",\"HomeLoans\"],[\"aaf75ad6-c71a-5fd8-b2eb-782cdbd30337\",\"SMS\",\"Outbound\",\"Services\",\"Account\"],[\"baae77a0-099a-5104-b7a9-b9b1a23290fc\",\"SMS\",\"Outbound\",\"Services\",\"Customer\"],[\"17571d69-f802-5122-9bfe-6f3f4ef9073b\",\"Web\",\"Inbound\",\"Sales\",\"CreditCards\"],[\"7efc168f-9d8c-53ce-934f-c59d0c4bf314\",\"Email\",\"Outbound\",\"Sales\",\"HomeLoans\"],[\"1be7cd72-741b-5d68-b148-c1af0142fd4a\",\"SMS\",\"Outbound\",\"Sales\",\"CreditCards\"],[\"838ca9ec-74ea-5a54-8c57-f45295116921\",\"SMS\",\"Outbound\",\"Services\",\"Account\"]],\"hovertemplate\":\"<b>%{hovertext}</b><br><br>Performance=%{marker.color}<br>SuccessRate=%{y}<br>ResponseCount=%{marker.size}<br>ModelID=%{customdata[0]}<br>Channel=%{customdata[1]}<br>Direction=%{customdata[2]}<br>Issue=%{customdata[3]}<br>Group=%{customdata[4]}<extra></extra>\",\"hovertext\":[\"RegularSaving\",\"AutoUsed36Months\",\"FirstMortgageFHA\",\"PremierChecking\",\"UPlusFinGold\",\"IdentityTheftProtection\",\"FirstMortgageFloat\",\"ChannelAction_Template\",\"AutoNew36Months\",\"MoneyMarketSavingsAccount\",\"MasterCardWorld\",\"AutoUsed84Months\",\"AutoUsed60Months\",\"PaymentProtection\",\"MasterCardGold\",\"FirstMortgage\",\"PlatinumRewardsCard\",\"PremiumBanking\",\"IncreaseYourCreditLine\",\"UPlusFinPersonal\",\"MasterCardGold\",\"UPlusFinPersonal\",\"PremiumBanking\",\"SeniorChecking\",\"AutoNew84Months\",\"Services_ChannelAction_Template\",\"AutoUsed48Months\",\"IdentityTheftProtection\",\"Services_ChannelAction_Template\",\"AutoUsed84Months\",\"PaymentProtection\",\"SuperSaver\",\"HomeOwners\",\"AutoNew84Months\",\"HomeOwners\",\"SuperSaver\",\"PremierChecking\",\"FirstMortgageFiveOneARM\",\"AutoNew36Months\",\"AutoNew48Months\",\"FirstMortgageFiveOneARM\",\"MoneyMarketSavingsAccount\",\"PremiumBanking\",\"RegularSaving\",\"FirstMortgageFloat\",\"PaymentProtection\",\"SeniorChecking\",\"FirstMortgageFiveOneARM\",\"Services_ChannelAction_Template\",\"UPlusFinGold\",\"AutoNew36Months\",\"MoneyMarketSavingsAccount\",\"UPlusFinGold\",\"BasicChecking\",\"FirstMortgageThreeOneARM\",\"IncreaseYourCreditLine\",\"MissingContactInformation\",\"VisaGold\",\"FirstMortgageSevenOneARM\",\"VisaGold\",\"GoPaperless\"],\"legendgroup\":\"\",\"marker\":{\"color\":[57.2321,55.3309,50.0,53.5957,65.6629,50.0,50.0,50.0,52.3082,50.0,50.0,50.0,50.0,50.0,50.0,51.9991,50.0,50.0,57.1789,50.0,50.0,60.0,58.0757,51.3685,61.0878,50.0,50.0,50.0,58.5198,50.0,50.0,50.0,55.1329,63.5593,56.6096,55.4778,50.0,50.0,50.0,51.1151,50.0,50.0,50.0,50.0,50.0,52.9851,51.6699,50.0,57.022,50.0,56.916,50.0,68.1911,56.7464,50.0,50.0,57.9957,50.0,50.0,50.0,60.4083],\"coloraxis\":\"coloraxis\",\"size\":[232,172,51,494,362,87,51,97,616,107,62,121,139,63,90,389,113,489,743,330,108,352,518,299,163,736,142,90,1449,139,70,102,518,126,498,250,383,49,566,569,31,101,527,109,94,91,365,43,712,683,1108,214,392,380,44,741,692,72,32,166,1619],\"sizemode\":\"area\",\"sizeref\":4.0475,\"symbol\":\"circle\",\"line\":{\"color\":\"black\"}},\"mode\":\"markers\",\"name\":\"\",\"orientation\":\"v\",\"showlegend\":false,\"x\":[57.2321,55.3309,50.0,53.5957,65.6629,50.0,50.0,50.0,52.3082,50.0,50.0,50.0,50.0,50.0,50.0,51.9991,50.0,50.0,57.1789,50.0,50.0,60.0,58.0757,51.3685,61.0878,50.0,50.0,50.0,58.5198,50.0,50.0,50.0,55.1329,63.5593,56.6096,55.4778,50.0,50.0,50.0,51.1151,50.0,50.0,50.0,50.0,50.0,52.9851,51.6699,50.0,57.022,50.0,56.916,50.0,68.1911,56.7464,50.0,50.0,57.9957,50.0,50.0,50.0,60.4083],\"xaxis\":\"x\",\"y\":[6.89655,11.04651,0.0,27.73279,5.24862,0.0,0.0,8.24742,0.64935,16.82243,6.45161,0.82645,2.8777,6.34921,6.66667,19.53728,0.88496,2.45399,3.63392,4.54545,0.0,1.70455,2.3166,21.40468,13.49693,0.81522,5.6338,2.22222,3.93375,3.59712,22.85714,18.62745,11.58301,3.96825,11.64659,8.4,9.13838,20.40816,0.17668,8.08436,9.67742,2.9703,0.56926,0.0,0.0,24.17582,14.79452,2.32558,5.61798,0.73206,3.70036,7.94393,4.33673,8.42105,0.0,2.69906,18.78613,1.38889,3.125,2.40964,11.05621],\"yaxis\":\"y\",\"type\":\"scatter\"}],                        {\"template\":{\"layout\":{\"colorway\":[\"#001F5F\",\"#10A5AC\",\"#F76923\",\"#661D34\",\"#86CAC6\",\"#005154\",\"#86CAC6\",\"#5F67B9\",\"#FFC836\",\"#E63690\",\"#AC1361\",\"#63666F\",\"#A7A9B4\",\"#D0D1DB\"],\"hovermode\":\"closest\"}},\"xaxis\":{\"anchor\":\"y\",\"domain\":[0.0,1.0],\"title\":{\"text\":\"Performance\"}},\"yaxis\":{\"anchor\":\"x\",\"domain\":[0.0,1.0],\"title\":{\"text\":\"SuccessRate\"}},\"coloraxis\":{\"colorbar\":{\"title\":{\"text\":\"Performance\"}},\"colorscale\":[[0.0,\"#440154\"],[0.1111111111111111,\"#482878\"],[0.2222222222222222,\"#3e4989\"],[0.3333333333333333,\"#31688e\"],[0.4444444444444444,\"#26828e\"],[0.5555555555555556,\"#1f9e89\"],[0.6666666666666666,\"#35b779\"],[0.7777777777777778,\"#6ece58\"],[0.8888888888888888,\"#b5de2b\"],[1.0,\"#fde725\"]]},\"legend\":{\"tracegroupgap\":0,\"itemsizing\":\"constant\"},\"title\":{\"text\":\"Bubble Chart over all models <br><sup>61 models: 7 (11.48%) at (50,0)</sup><br><sup>Query: [(col(\\\"SnapshotTime\\\")) == (col(\\\"SnapshotTime\\\").min())]</sup>\"}},                        {\"responsive\": true}                    ).then(function(){\n",
       "                            \n",
       "var gd = document.getElementById('1448e416-1c16-4c06-acb3-30d4d9c15d27');\n",
       "var x = new MutationObserver(function (mutations, observer) {{\n",
       "        var display = window.getComputedStyle(gd).display;\n",
       "        if (!display || display === 'none') {{\n",
       "            console.log([gd, 'removed!']);\n",
       "            Plotly.purge(gd);\n",
       "            observer.disconnect();\n",
       "        }}\n",
       "}});\n",
       "\n",
       "// Listen for the removal of the full notebook cells\n",
       "var notebookContainer = gd.closest('#notebook-container');\n",
       "if (notebookContainer) {{\n",
       "    x.observe(notebookContainer, {childList: true});\n",
       "}}\n",
       "\n",
       "// Listen for the clearing of the current output cell\n",
       "var outputEl = gd.closest('.output');\n",
       "if (outputEl) {{\n",
       "    x.observe(outputEl, {childList: true});\n",
       "}}\n",
       "\n",
       "                        })                };                });            </script>        </div>"
      ]
     },
     "metadata": {},
     "output_type": "display_data"
    }
   ],
   "source": [
    "dm.plotPerformanceSuccessRateBubbleChart(query=pl.col('SnapshotTime')==pl.col('SnapshotTime').min())"
   ]
  }
 ],
 "metadata": {
  "kernelspec": {
   "display_name": "Python 3",
   "language": "python",
   "name": "python3"
  },
  "language_info": {
   "codemirror_mode": {
    "name": "ipython",
    "version": 3
   },
   "file_extension": ".py",
   "mimetype": "text/x-python",
   "name": "python",
   "nbconvert_exporter": "python",
   "pygments_lexer": "ipython3",
   "version": "3.11.2"
  }
 },
 "nbformat": 4,
 "nbformat_minor": 2
}
