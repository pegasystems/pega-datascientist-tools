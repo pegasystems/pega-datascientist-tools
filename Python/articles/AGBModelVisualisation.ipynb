{
 "cells": [
  {
   "cell_type": "markdown",
   "metadata": {
    "nbsphinx": "hidden"
   },
   "source": [
    "## Link to article\n",
    "\n",
    "This notebook is included in the documentation, where the interactive Plotly charts show up. See:\n",
    "https://pegasystems.github.io/pega-datascientist-tools/Python/articles/graph_gallery.html"
   ]
  },
  {
   "cell_type": "markdown",
   "metadata": {},
   "source": [
    "# Analyzing ADM Decision Trees\n",
    "\n",
    "With the introduction of ADM Gradient Boosting, we now support tree-based models in ADM as an alternative to the traditional Bayesian approach. In prediction studio, there is some information on the predictors, the model performance et cetera. However, it is also possible to export the trees themselves to analyze them further. This example demonstrates some of the info you can extract yourself, including a visualisation of the actual trees - which also allows you to check the exact 'path' a prediction used through each individual tree. \n",
    "\n",
    "On a gradient boosting model page in prediction studio, you can download an export of the model under the 'actions' button in the top right. We've also shipped an example file of a pre-built tree in the data folder, and a 'dataset' to automatically import it from the internet. That is what we will be using for this example.\n",
    "\n",
    "## Imports"
   ]
  },
  {
   "cell_type": "code",
   "execution_count": 1,
   "metadata": {
    "execution": {
     "iopub.execute_input": "2023-03-24T17:14:27.023282Z",
     "iopub.status.busy": "2023-03-24T17:14:27.021717Z",
     "iopub.status.idle": "2023-03-24T17:14:27.121854Z",
     "shell.execute_reply": "2023-03-24T17:14:27.121140Z"
    },
    "nbsphinx": "hidden"
   },
   "outputs": [],
   "source": [
    "# These lines are only for rendering in the docs, and are hidden through Jupyter tags\n",
    "# Do not run if you're running the notebook seperately\n",
    "\n",
    "import plotly.io as pio\n",
    "pio.renderers.default='notebook_connected'\n",
    "\n",
    "import sys\n",
    "sys.path.append('../../../')\n",
    "\n",
    "import warnings\n",
    "warnings.simplefilter('ignore', SyntaxWarning)"
   ]
  },
  {
   "cell_type": "code",
   "execution_count": 2,
   "metadata": {
    "execution": {
     "iopub.execute_input": "2023-03-24T17:14:27.126472Z",
     "iopub.status.busy": "2023-03-24T17:14:27.125444Z",
     "iopub.status.idle": "2023-03-24T17:14:28.516339Z",
     "shell.execute_reply": "2023-03-24T17:14:28.515440Z"
    }
   },
   "outputs": [
    {
     "name": "stderr",
     "output_type": "stream",
     "text": [
      "/opt/hostedtoolcache/Python/3.11.2/x64/lib/python3.11/site-packages/tqdm/auto.py:21: TqdmWarning:\n",
      "\n",
      "IProgress not found. Please update jupyter and ipywidgets. See https://ipywidgets.readthedocs.io/en/stable/user_install.html\n",
      "\n"
     ]
    }
   ],
   "source": [
    "from pdstools import ADMTrees, datasets"
   ]
  },
  {
   "cell_type": "markdown",
   "metadata": {},
   "source": [
    "## Importing your own model export\n",
    "To import your own model, simply feed the path to the ADMTrees class. There are no additional parameters."
   ]
  },
  {
   "cell_type": "code",
   "execution_count": 3,
   "metadata": {
    "execution": {
     "iopub.execute_input": "2023-03-24T17:14:28.520220Z",
     "iopub.status.busy": "2023-03-24T17:14:28.519625Z",
     "iopub.status.idle": "2023-03-24T17:14:28.523642Z",
     "shell.execute_reply": "2023-03-24T17:14:28.522851Z"
    }
   },
   "outputs": [],
   "source": [
    "# ADMTrees(\"path/to/model_download.json\")"
   ]
  },
  {
   "cell_type": "markdown",
   "metadata": {},
   "source": [
    "For this example we will use the shipped example dataset, which you can simply import with the following line:"
   ]
  },
  {
   "cell_type": "code",
   "execution_count": 4,
   "metadata": {
    "execution": {
     "iopub.execute_input": "2023-03-24T17:14:28.526634Z",
     "iopub.status.busy": "2023-03-24T17:14:28.526241Z",
     "iopub.status.idle": "2023-03-24T17:14:28.719820Z",
     "shell.execute_reply": "2023-03-24T17:14:28.718929Z"
    }
   },
   "outputs": [],
   "source": [
    "Trees = datasets.SampleTrees()"
   ]
  },
  {
   "cell_type": "markdown",
   "metadata": {},
   "source": [
    "## Exploring the ADMTrees class\n",
    "\n",
    "The raw export has quite a lot of information stored in it, which is not all easily accessible. For example, looking at the 'properties' attribute, we can see the configuration of the model."
   ]
  },
  {
   "cell_type": "code",
   "execution_count": 5,
   "metadata": {
    "execution": {
     "iopub.execute_input": "2023-03-24T17:14:28.723398Z",
     "iopub.status.busy": "2023-03-24T17:14:28.723034Z",
     "iopub.status.idle": "2023-03-24T17:14:28.734876Z",
     "shell.execute_reply": "2023-03-24T17:14:28.734100Z"
    }
   },
   "outputs": [
    {
     "data": {
      "text/plain": [
       "{'factoryKey': {'configPartition': {'partition': {'pyClassName': 'Data-Decision-Request-Customer',\n",
       "    'pyPurpose': 'WebClickthroughAGB'}},\n",
       "  'modelPartition': {'partition': {}}},\n",
       " 'configuration': {'_serialClass': 'com.pega.decision.adm.client.config.GradientBoostModelRuleConfiguration',\n",
       "  '_serialVersionNumber': 2,\n",
       "  'configurationId': {'configurationName': 'WebClickthroughAGB',\n",
       "   'appliesToClass': 'Data-Decision-Request-Customer',\n",
       "   'isPredictiveModel': False},\n",
       "  'ruleSet': {'ruleSetName': 'CDHSample-Artifacts',\n",
       "   'ruleSetVersion': '01-01-01'},\n",
       "  'predictors': [{'name': 'Account.DaysSinceOpened', 'type': 'numeric'},\n",
       "   {'name': 'Account.CurrentDateInt', 'type': 'numeric'},\n",
       "   {'name': 'Customer.IsCustomerActive', 'type': 'symbolic'},\n",
       "   {'name': 'Account.YTDPayments', 'type': 'numeric'},\n",
       "   {'name': 'Customer.HealthMatter', 'type': 'symbolic'},\n",
       "   {'name': 'Customer.LastReviewedDate', 'type': 'numeric'},\n",
       "   {'name': 'Account.YTDBrokenPromises', 'type': 'numeric'},\n",
       "   {'name': 'Customer.NetWealth', 'type': 'numeric'},\n",
       "   {'name': 'Customer.MilitaryService', 'type': 'symbolic'},\n",
       "   {'name': 'Account.DelinquencyAmount', 'type': 'numeric'},\n",
       "   {'name': 'Customer.IsPrimary', 'type': 'symbolic'},\n",
       "   {'name': 'Account.Role', 'type': 'symbolic'},\n",
       "   {'name': 'Customer.NextReviewDate', 'type': 'symbolic'},\n",
       "   {'name': 'Account.type', 'type': 'numeric'},\n",
       "   {'name': 'Param.JourneyStage', 'type': 'symbolic'},\n",
       "   {'name': 'Param.DaysinCurrentStage', 'type': 'numeric'},\n",
       "   {'name': 'Account.InArrears', 'type': 'symbolic'},\n",
       "   {'name': 'Account.PaymentNetwork', 'type': 'symbolic'},\n",
       "   {'name': 'Account.AverageYearlyBalance', 'type': 'numeric'},\n",
       "   {'name': 'Customer.AnnualIncome', 'type': 'numeric'},\n",
       "   {'name': 'Account.YTDOverLimit', 'type': 'numeric'},\n",
       "   {'name': 'Account.BonusMet', 'type': 'symbolic'},\n",
       "   {'name': 'Account.CreditLine', 'type': 'numeric'},\n",
       "   {'name': 'Customer.LanguagePreference', 'type': 'symbolic'},\n",
       "   {'name': 'Param.Journey', 'type': 'symbolic'},\n",
       "   {'name': 'Customer.RelationshipLengthDays', 'type': 'numeric'},\n",
       "   {'name': 'Customer.ReviewDate', 'type': 'numeric'},\n",
       "   {'name': 'Account.CurrentValue', 'type': 'numeric'},\n",
       "   {'name': 'Account.Appl', 'type': 'symbolic'},\n",
       "   {'name': 'Account.AccountSubType', 'type': 'symbolic'},\n",
       "   {'name': 'Customer.BalanceTransaction', 'type': 'numeric'},\n",
       "   {'name': 'Account.BehaviorScore', 'type': 'numeric'},\n",
       "   {'name': 'Param.PriorStageInJourney', 'type': 'symbolic'},\n",
       "   {'name': 'Customer.ResidentialStatus', 'type': 'symbolic'},\n",
       "   {'name': 'Account.YTDDisputes', 'type': 'numeric'},\n",
       "   {'name': 'Account.ProductType', 'type': 'symbolic'},\n",
       "   {'name': 'Account.Active', 'type': 'symbolic'},\n",
       "   {'name': 'Account.MarketSegmentID', 'type': 'numeric'},\n",
       "   {'name': 'Account.CreditLineAvailable', 'type': 'numeric'},\n",
       "   {'name': 'Customer.EmailOptIn', 'type': 'symbolic'},\n",
       "   {'name': 'Account.LoanToValueRatio', 'type': 'numeric'},\n",
       "   {'name': 'Account.YTDForeignTxnFee', 'type': 'numeric'},\n",
       "   {'name': 'Customer.NoOfDependents', 'type': 'numeric'},\n",
       "   {'name': 'Account.CollectionStatus', 'type': 'symbolic'},\n",
       "   {'name': 'Account.AccountDescription', 'type': 'symbolic'},\n",
       "   {'name': 'Account.OpenDateTime', 'type': 'numeric'},\n",
       "   {'name': 'Customer.Bankruptcy', 'type': 'symbolic'},\n",
       "   {'name': 'Customer.SMSOptIn', 'type': 'symbolic'},\n",
       "   {'name': 'Customer.Incarceration', 'type': 'symbolic'},\n",
       "   {'name': 'Customer.HasActivePaymentPlan', 'type': 'symbolic'},\n",
       "   {'name': 'Account.OwnershipType', 'type': 'symbolic'},\n",
       "   {'name': 'Customer.Deceased', 'type': 'symbolic'},\n",
       "   {'name': 'Account.AccountType', 'type': 'symbolic'},\n",
       "   {'name': 'Account.YTDInArrears', 'type': 'numeric'},\n",
       "   {'name': 'Customer.Age', 'type': 'numeric'},\n",
       "   {'name': 'Account.CyclesPastDue', 'type': 'numeric'},\n",
       "   {'name': 'Account.RateType', 'type': 'symbolic'},\n",
       "   {'name': 'Param.LastJourneyStage', 'type': 'symbolic'},\n",
       "   {'name': 'Account.MaturityDate', 'type': 'numeric'},\n",
       "   {'name': 'Account.NumDaysPastDue', 'type': 'numeric'},\n",
       "   {'name': 'Customer.PushNotificationOptIn', 'type': 'symbolic'},\n",
       "   {'name': 'Customer.NaturalDisaster', 'type': 'symbolic'},\n",
       "   {'name': 'Account.AccountBalance', 'type': 'numeric'},\n",
       "   {'name': 'Account.RewardType', 'type': 'symbolic'},\n",
       "   {'name': 'Account.Rate', 'type': 'numeric'},\n",
       "   {'name': 'Customer.pyCountryCode', 'type': 'symbolic'},\n",
       "   {'name': 'Account.TotalDisputes', 'type': 'numeric'},\n",
       "   {'name': 'Account.BrokenPromiseCount', 'type': 'numeric'},\n",
       "   {'name': 'Customer.InHardship', 'type': 'symbolic'},\n",
       "   {'name': 'Account.BonusWindowOpen', 'type': 'symbolic'},\n",
       "   {'name': 'Account.YTDLatePayment', 'type': 'numeric'},\n",
       "   {'name': 'Account.Status', 'type': 'symbolic'},\n",
       "   {'name': 'Account.YTDInterestPaid', 'type': 'numeric'},\n",
       "   {'name': 'Customer.DownloadedMobileApp', 'type': 'symbolic'},\n",
       "   {'name': 'Account.UnpaidPrincipal', 'type': 'numeric'},\n",
       "   {'name': 'Customer.InArrears', 'type': 'symbolic'},\n",
       "   {'name': 'Account.InCollections', 'type': 'symbolic'},\n",
       "   {'name': 'Account.AvgMonthlyBalance', 'type': 'numeric'},\n",
       "   {'name': 'pyDirection', 'type': 'symbolic'},\n",
       "   {'name': 'pyName', 'type': 'symbolic'},\n",
       "   {'name': 'pyChannel', 'type': 'symbolic'},\n",
       "   {'name': 'pyIssue', 'type': 'symbolic'},\n",
       "   {'name': 'pyGroup', 'type': 'symbolic'}],\n",
       "  'ihSummaryPredictors': [{'id': 'pyIHSummary',\n",
       "    'appliesTo': 'Data-pxStrategyResult'}],\n",
       "  'parameters': {'_serialClass': 'com.pega.decision.adm.client.config.GradientBoostModelParameters',\n",
       "   '_serialVersionNumber': 1,\n",
       "   'positiveOutcomes': ['Clicked'],\n",
       "   'negativeOutcomes': ['NoResponse'],\n",
       "   'isHdsEnabled': False,\n",
       "   'hdsPositiveRecordingPercentage': 100.0,\n",
       "   'hdsNegativeRecordingPercentage': 100.0,\n",
       "   'isGlobalSamplingEnabled': False,\n",
       "   'globalSamplingPercentage': 0.0,\n",
       "   'dataAnalysisCount': 5000,\n",
       "   'usesIHSummaries': True,\n",
       "   'learningRateEta': 0.3,\n",
       "   'regularizationLambda': 1.0,\n",
       "   'complexityThresholdGamma': 0.0,\n",
       "   'maxTrees': 50,\n",
       "   'maxTreeDepth': 9,\n",
       "   'minChildWeight': 1.0},\n",
       "  'contextKeys': ['pyDirection', 'pyGroup', 'pyName', 'pyChannel', 'pyIssue']},\n",
       " 'position': {'PID': '{\"configPartition\":{\"partition\":{\"pyClassName\":\"Data-Decision-Request-Customer\",\"pyPurpose\":\"WebClickthroughAGB\"}},\"modelPartition\":{\"partition\":{}}}',\n",
       "  'POSITION_MAP': {'f89812c0-01ce-11ed-e6d7-a46c4bbea146': 71566,\n",
       "   '6865ff30-0180-11ed-d6d7-a18841614e4f': 40},\n",
       "  'CRT_EVENTS_COUNT': 1,\n",
       "  'DLT_EVENTS_COUNT': 0}}"
      ]
     },
     "execution_count": 5,
     "metadata": {},
     "output_type": "execute_result"
    }
   ],
   "source": [
    "Trees.properties"
   ]
  },
  {
   "cell_type": "markdown",
   "metadata": {},
   "source": [
    "Most of this information is not particularly useful - but for example, you can find the maximum numbef of trees, the maximum depth of the trees and the outcome to label mapping. Information about the predictors is also stored here, which is extracted in the 'predictors' attribute."
   ]
  },
  {
   "cell_type": "code",
   "execution_count": 6,
   "metadata": {
    "execution": {
     "iopub.execute_input": "2023-03-24T17:14:28.738352Z",
     "iopub.status.busy": "2023-03-24T17:14:28.737940Z",
     "iopub.status.idle": "2023-03-24T17:14:28.744814Z",
     "shell.execute_reply": "2023-03-24T17:14:28.744019Z"
    }
   },
   "outputs": [
    {
     "data": {
      "text/plain": [
       "{'Account.DaysSinceOpened': 'numeric',\n",
       " 'Account.CurrentDateInt': 'numeric',\n",
       " 'Customer.IsCustomerActive': 'symbolic',\n",
       " 'Account.YTDPayments': 'numeric',\n",
       " 'Customer.HealthMatter': 'symbolic',\n",
       " 'Customer.LastReviewedDate': 'numeric',\n",
       " 'Account.YTDBrokenPromises': 'numeric',\n",
       " 'Customer.NetWealth': 'numeric',\n",
       " 'Customer.MilitaryService': 'symbolic',\n",
       " 'Account.DelinquencyAmount': 'numeric',\n",
       " 'Customer.IsPrimary': 'symbolic',\n",
       " 'Account.Role': 'symbolic',\n",
       " 'Customer.NextReviewDate': 'symbolic',\n",
       " 'Account.type': 'numeric',\n",
       " 'Param.JourneyStage': 'symbolic',\n",
       " 'Param.DaysinCurrentStage': 'numeric',\n",
       " 'Account.InArrears': 'symbolic',\n",
       " 'Account.PaymentNetwork': 'symbolic',\n",
       " 'Account.AverageYearlyBalance': 'numeric',\n",
       " 'Customer.AnnualIncome': 'numeric',\n",
       " 'Account.YTDOverLimit': 'numeric',\n",
       " 'Account.BonusMet': 'symbolic',\n",
       " 'Account.CreditLine': 'numeric',\n",
       " 'Customer.LanguagePreference': 'symbolic',\n",
       " 'Param.Journey': 'symbolic',\n",
       " 'Customer.RelationshipLengthDays': 'numeric',\n",
       " 'Customer.ReviewDate': 'numeric',\n",
       " 'Account.CurrentValue': 'numeric',\n",
       " 'Account.Appl': 'symbolic',\n",
       " 'Account.AccountSubType': 'symbolic',\n",
       " 'Customer.BalanceTransaction': 'numeric',\n",
       " 'Account.BehaviorScore': 'numeric',\n",
       " 'Param.PriorStageInJourney': 'symbolic',\n",
       " 'Customer.ResidentialStatus': 'symbolic',\n",
       " 'Account.YTDDisputes': 'numeric',\n",
       " 'Account.ProductType': 'symbolic',\n",
       " 'Account.Active': 'symbolic',\n",
       " 'Account.MarketSegmentID': 'numeric',\n",
       " 'Account.CreditLineAvailable': 'numeric',\n",
       " 'Customer.EmailOptIn': 'symbolic',\n",
       " 'Account.LoanToValueRatio': 'numeric',\n",
       " 'Account.YTDForeignTxnFee': 'numeric',\n",
       " 'Customer.NoOfDependents': 'numeric',\n",
       " 'Account.CollectionStatus': 'symbolic',\n",
       " 'Account.AccountDescription': 'symbolic',\n",
       " 'Account.OpenDateTime': 'numeric',\n",
       " 'Customer.Bankruptcy': 'symbolic',\n",
       " 'Customer.SMSOptIn': 'symbolic',\n",
       " 'Customer.Incarceration': 'symbolic',\n",
       " 'Customer.HasActivePaymentPlan': 'symbolic',\n",
       " 'Account.OwnershipType': 'symbolic',\n",
       " 'Customer.Deceased': 'symbolic',\n",
       " 'Account.AccountType': 'symbolic',\n",
       " 'Account.YTDInArrears': 'numeric',\n",
       " 'Customer.Age': 'numeric',\n",
       " 'Account.CyclesPastDue': 'numeric',\n",
       " 'Account.RateType': 'symbolic',\n",
       " 'Param.LastJourneyStage': 'symbolic',\n",
       " 'Account.MaturityDate': 'numeric',\n",
       " 'Account.NumDaysPastDue': 'numeric',\n",
       " 'Customer.PushNotificationOptIn': 'symbolic',\n",
       " 'Customer.NaturalDisaster': 'symbolic',\n",
       " 'Account.AccountBalance': 'numeric',\n",
       " 'Account.RewardType': 'symbolic',\n",
       " 'Account.Rate': 'numeric',\n",
       " 'Customer.pyCountryCode': 'symbolic',\n",
       " 'Account.TotalDisputes': 'numeric',\n",
       " 'Account.BrokenPromiseCount': 'numeric',\n",
       " 'Customer.InHardship': 'symbolic',\n",
       " 'Account.BonusWindowOpen': 'symbolic',\n",
       " 'Account.YTDLatePayment': 'numeric',\n",
       " 'Account.Status': 'symbolic',\n",
       " 'Account.YTDInterestPaid': 'numeric',\n",
       " 'Customer.DownloadedMobileApp': 'symbolic',\n",
       " 'Account.UnpaidPrincipal': 'numeric',\n",
       " 'Customer.InArrears': 'symbolic',\n",
       " 'Account.InCollections': 'symbolic',\n",
       " 'Account.AvgMonthlyBalance': 'numeric',\n",
       " 'pyDirection': 'symbolic',\n",
       " 'pyName': 'symbolic',\n",
       " 'pyChannel': 'symbolic',\n",
       " 'pyIssue': 'symbolic',\n",
       " 'pyGroup': 'symbolic'}"
      ]
     },
     "execution_count": 6,
     "metadata": {},
     "output_type": "execute_result"
    }
   ],
   "source": [
    "Trees.predictors"
   ]
  },
  {
   "cell_type": "markdown",
   "metadata": {},
   "source": [
    "Naturally, the raw trees are stored here too. They are stored in the 'model' attribute, in a list with each tree in json format. Let's look at a single tree."
   ]
  },
  {
   "cell_type": "code",
   "execution_count": 7,
   "metadata": {
    "execution": {
     "iopub.execute_input": "2023-03-24T17:14:28.747687Z",
     "iopub.status.busy": "2023-03-24T17:14:28.747437Z",
     "iopub.status.idle": "2023-03-24T17:14:28.752890Z",
     "shell.execute_reply": "2023-03-24T17:14:28.752102Z"
    }
   },
   "outputs": [
    {
     "data": {
      "text/plain": [
       "{'score': -0.04167241398182543,\n",
       " 'gain': 4.903114150998753,\n",
       " 'split': 'IH.MISSING.MISSING.Churned.pyHistoricalOutcomeCount < 1.0',\n",
       " 'left': {'score': 0.0015912192864844406,\n",
       "  'gain': 4.921074965276381,\n",
       "  'split': 'IH.SMS.Outbound.Accept.pxLastGroupID is Missing',\n",
       "  'left': {'score': 0.08708304261596726, 'gain': 0.0},\n",
       "  'right': {'score': -0.19378256055857698, 'gain': 0.0}},\n",
       " 'right': {'score': -0.07898210064649579,\n",
       "  'gain': 2.609510949104644,\n",
       "  'split': 'IH.SMS.Outbound.Accept.pyHistoricalOutcomeCount < 1.0',\n",
       "  'left': {'score': -0.050025939043392705,\n",
       "   'gain': 5.284463037230109,\n",
       "   'split': 'pyName in { PremierChecking }',\n",
       "   'left': {'score': 0.3483628622864736, 'gain': 0.0},\n",
       "   'right': {'score': -0.08596541739325182, 'gain': 0.0}},\n",
       "  'right': {'score': 0.22697292002283817, 'gain': 0.0}}}"
      ]
     },
     "execution_count": 7,
     "metadata": {},
     "output_type": "execute_result"
    }
   ],
   "source": [
    "Trees.model[18]"
   ]
  },
  {
   "cell_type": "markdown",
   "metadata": {},
   "source": [
    "Each node has a 'score': the contribution to the final score, over all trees. Non-leaf nodes naturally have splits, which are expressed as a string. These can be inequality, equality or set splits. For example, we may see a split on Age being smaller than 42, but also pyName being one of {P1, P2, P3, P4, P6}. If this split evaluates to True, we follow the tree to the left node. Naturally, if it evaluates to False we follow to the right node. Lastly, each split also has a gain. This describes how well that split discriminates by splitting to the left and right nodes. \n",
    "\n",
    "Later we will revisit this tree structure, because for visualisation we need to slightly reformat it. But first, by nature of a boosting algorithm, looking at a single tree does not provide enough information to fully understand the model. For this, there are some properties of the ADMTrees class to look across trees. To start, we can call TreeStats to get an overview of the contribution of each tree to the final model."
   ]
  },
  {
   "cell_type": "code",
   "execution_count": 8,
   "metadata": {
    "execution": {
     "iopub.execute_input": "2023-03-24T17:14:28.757451Z",
     "iopub.status.busy": "2023-03-24T17:14:28.757132Z",
     "iopub.status.idle": "2023-03-24T17:14:28.776616Z",
     "shell.execute_reply": "2023-03-24T17:14:28.775579Z"
    }
   },
   "outputs": [
    {
     "data": {
      "text/html": [
       "<div><style>\n",
       ".dataframe > thead > tr > th,\n",
       ".dataframe > tbody > tr > td {\n",
       "  text-align: right;\n",
       "}\n",
       "</style>\n",
       "<small>shape: (5, 6)</small><table border=\"1\" class=\"dataframe\"><thead><tr><th>treeID</th><th>score</th><th>depth</th><th>nsplits</th><th>gains</th><th>meangains</th></tr><tr><td>i64</td><td>f64</td><td>i64</td><td>i64</td><td>list[f64]</td><td>f64</td></tr></thead><tbody><tr><td>14</td><td>-0.078312</td><td>0</td><td>0</td><td>[]</td><td>0.0</td></tr><tr><td>37</td><td>-0.019864</td><td>5</td><td>6</td><td>[31.009571, 0.889962, … 5.163168]</td><td>8.823649</td></tr><tr><td>36</td><td>-0.019699</td><td>5</td><td>11</td><td>[2.645195, 1.891218, … 3.449042]</td><td>2.435915</td></tr><tr><td>20</td><td>-0.031352</td><td>9</td><td>25</td><td>[0.647131, 4.494017, … 2.713333]</td><td>3.989593</td></tr><tr><td>4</td><td>-0.294892</td><td>9</td><td>25</td><td>[295.811814, 362.750664, … 4.187443]</td><td>30.616696</td></tr></tbody></table></div>"
      ],
      "text/plain": [
       "shape: (5, 6)\n",
       "┌────────┬───────────┬───────┬─────────┬───────────────────────────────────┬───────────┐\n",
       "│ treeID ┆ score     ┆ depth ┆ nsplits ┆ gains                             ┆ meangains │\n",
       "│ ---    ┆ ---       ┆ ---   ┆ ---     ┆ ---                               ┆ ---       │\n",
       "│ i64    ┆ f64       ┆ i64   ┆ i64     ┆ list[f64]                         ┆ f64       │\n",
       "╞════════╪═══════════╪═══════╪═════════╪═══════════════════════════════════╪═══════════╡\n",
       "│ 14     ┆ -0.078312 ┆ 0     ┆ 0       ┆ []                                ┆ 0.0       │\n",
       "│ 37     ┆ -0.019864 ┆ 5     ┆ 6       ┆ [31.009571, 0.889962, … 5.163168… ┆ 8.823649  │\n",
       "│ 36     ┆ -0.019699 ┆ 5     ┆ 11      ┆ [2.645195, 1.891218, … 3.449042]  ┆ 2.435915  │\n",
       "│ 20     ┆ -0.031352 ┆ 9     ┆ 25      ┆ [0.647131, 4.494017, … 2.713333]  ┆ 3.989593  │\n",
       "│ 4      ┆ -0.294892 ┆ 9     ┆ 25      ┆ [295.811814, 362.750664, … 4.187… ┆ 30.616696 │\n",
       "└────────┴───────────┴───────┴─────────┴───────────────────────────────────┴───────────┘"
      ]
     },
     "execution_count": 8,
     "metadata": {},
     "output_type": "execute_result"
    }
   ],
   "source": [
    "Trees.treeStats.sample(5)"
   ]
  },
  {
   "cell_type": "markdown",
   "metadata": {},
   "source": [
    "In TreeStats, the index is the 'ID' of the tree, based on its position in the order of the 'model' attribute. The score corresponds to the score of the top-level node of that tree, and the 'depth' and 'nsplits' describe how deep the tree is, and how many splits are performed in total. For each split, the gain is added to the list in the 'gains' column. The mean of all splits in a tree is computed in the 'meangains' column.\n",
    "\n",
    "Some info about individual trees is also stored in attributes, such as the splits and gains for each tree."
   ]
  },
  {
   "cell_type": "code",
   "execution_count": 9,
   "metadata": {
    "execution": {
     "iopub.execute_input": "2023-03-24T17:14:28.779689Z",
     "iopub.status.busy": "2023-03-24T17:14:28.779292Z",
     "iopub.status.idle": "2023-03-24T17:14:28.794428Z",
     "shell.execute_reply": "2023-03-24T17:14:28.793683Z"
    }
   },
   "outputs": [
    {
     "name": "stdout",
     "output_type": "stream",
     "text": [
      "['IH.MISSING.MISSING.Churned.pyHistoricalOutcomeCount < 1.0', 'IH.SMS.Outbound.Accept.pxLastGroupID is Missing', 'IH.SMS.Outbound.Accept.pyHistoricalOutcomeCount < 1.0', 'pyName in { PremierChecking }']\n",
      "[4.903114150998753, 4.921074965276381, 2.609510949104644, 5.284463037230109]\n"
     ]
    }
   ],
   "source": [
    "print(Trees.splitsPerTree[18])\n",
    "print(Trees.gainsPerTree[18])"
   ]
  },
  {
   "cell_type": "markdown",
   "metadata": {},
   "source": [
    "## Variables\n",
    "Now, if we are interested in the contribution and distribution of the splits per variable, we can look at the raw data in the groupedGainsPerSplit attribute, which returns a DataFrame, grouped by the split. In the 'gains' column you see a list of all of the gains produced by this split, and the 'n' column says how often this split is performed."
   ]
  },
  {
   "cell_type": "code",
   "execution_count": 10,
   "metadata": {
    "execution": {
     "iopub.execute_input": "2023-03-24T17:14:28.798349Z",
     "iopub.status.busy": "2023-03-24T17:14:28.797900Z",
     "iopub.status.idle": "2023-03-24T17:14:28.809556Z",
     "shell.execute_reply": "2023-03-24T17:14:28.808811Z"
    }
   },
   "outputs": [
    {
     "data": {
      "text/html": [
       "<div><style>\n",
       ".dataframe > thead > tr > th,\n",
       ".dataframe > tbody > tr > td {\n",
       "  text-align: right;\n",
       "}\n",
       "</style>\n",
       "<small>shape: (379, 7)</small><table border=\"1\" class=\"dataframe\"><thead><tr><th>split</th><th>predictor</th><th>gains</th><th>mean</th><th>sign</th><th>values</th><th>n</th></tr><tr><td>str</td><td>str</td><td>list[list[f64]]</td><td>f64</td><td>str</td><td>object</td><td>u32</td></tr></thead><tbody><tr><td>&quot;pyName in { Au…</td><td>&quot;pyName&quot;</td><td>[[177.064524, 95.262737, … 6.283781]]</td><td>58.111616</td><td>&quot;in&quot;</td><td>{&#x27;UFixedRateMortgage&#x27;, &#x27;CompleteYourCardApplicationToday&#x27;, &#x27;IndividualRetirementAccountsIRA&#x27;, &#x27;AutoUsed48Months&#x27;, &#x27;UPlusGold&#x27;, &#x27;PlatinumRewardsCard&#x27;, &#x27;VisaGold&#x27;, &#x27;AutoNew84Months&#x27;, &#x27;StudentChoice&#x27;, &#x27;AMEXPersonal&#x27;, &#x27;HomeOwners&#x27;, &#x27;PremiumBanking&#x27;, &#x27;Earn2xRewardsPoints&#x27;, &#x27;GetAPersonalizedRateQuoteToday&#x27;, &#x27;FirstMortgageSevenOneARM&#x27;, &#x27;MasterCardGold&#x27;, &#x27;AutoUsed36Months&#x27;, &#x27;FirstMortgage30yr&#x27;, &#x27;SuperSaver&#x27;, &#x27;PremierChecking&#x27;, &#x27;MasterCardWorld&#x27;, &#x27;PaymentProtection&#x27;, &#x27;FirstMortgage&#x27;, &#x27;FirstMortgageFiveOneARM&#x27;, &#x27;CreditMonitoringService&#x27;, &#x27;BasicChecking&#x27;, &#x27;IncreaseYourCreditLine&#x27;, &#x27;FirstMortgageFloat&#x27;, &#x27;UPlusProductBundles&#x27;, &#x27;SignupForRewardsCard&#x27;, &#x27;ProsAndConsOfFixedRate&#x27;, &#x27;AutoUsed84Months&#x27;, &#x27;AutoNew60Months&#x27;, &#x27;MoneyMarketSavingsAccount&#x27;, &#x27;IdentityTheftProtection&#x27;}</td><td>1</td></tr><tr><td>&quot;pyName in { Au…</td><td>&quot;pyName&quot;</td><td>[[1102.556954, 153.075758, … 2.770062]]</td><td>144.75059</td><td>&quot;in&quot;</td><td>{&#x27;UFixedRateMortgage&#x27;, &#x27;CompleteYourCardApplicationToday&#x27;, &#x27;IndividualRetirementAccountsIRA&#x27;, &#x27;AutoUsed48Months&#x27;, &#x27;UPlusGold&#x27;, &#x27;PlatinumRewardsCard&#x27;, &#x27;VisaGold&#x27;, &#x27;AutoNew84Months&#x27;, &#x27;StudentChoice&#x27;, &#x27;AMEXPersonal&#x27;, &#x27;HomeOwners&#x27;, &#x27;PremiumBanking&#x27;, &#x27;Earn2xRewardsPoints&#x27;, &#x27;GetAPersonalizedRateQuoteToday&#x27;, &#x27;FirstMortgageSevenOneARM&#x27;, &#x27;MasterCardGold&#x27;, &#x27;AutoUsed36Months&#x27;, &#x27;FirstMortgage30yr&#x27;, &#x27;SuperSaver&#x27;, &#x27;MasterCardWorld&#x27;, &#x27;PaymentProtection&#x27;, &#x27;FirstMortgage&#x27;, &#x27;FirstMortgageFiveOneARM&#x27;, &#x27;CreditMonitoringService&#x27;, &#x27;IncreaseYourCreditLine&#x27;, &#x27;FirstMortgageFloat&#x27;, &#x27;UPlusProductBundles&#x27;, &#x27;SignupForRewardsCard&#x27;, &#x27;ProsAndConsOfFixedRate&#x27;, &#x27;AutoUsed84Months&#x27;, &#x27;AutoNew60Months&#x27;, &#x27;IdentityTheftProtection&#x27;}</td><td>1</td></tr><tr><td>&quot;pyName in { UP…</td><td>&quot;pyName&quot;</td><td>[[3.648124, 5.092834, … 1.945262]]</td><td>3.336998</td><td>&quot;in&quot;</td><td>{&#x27;UPlusGold&#x27;}</td><td>1</td></tr><tr><td>&quot;pyName in { Au…</td><td>&quot;pyName&quot;</td><td>[[1.687369, 3.857415, … 2.235231]]</td><td>1.985773</td><td>&quot;in&quot;</td><td>{&#x27;CompleteYourCardApplicationToday&#x27;, &#x27;AutoUsed48Months&#x27;, &#x27;UPlusGold&#x27;, &#x27;PlatinumRewardsCard&#x27;, &#x27;VisaGold&#x27;, &#x27;AutoNew84Months&#x27;, &#x27;StudentChoice&#x27;, &#x27;AMEXPersonal&#x27;, &#x27;HomeOwners&#x27;, &#x27;PremiumBanking&#x27;, &#x27;Earn2xRewardsPoints&#x27;, &#x27;FirstMortgageSevenOneARM&#x27;, &#x27;MasterCardGold&#x27;, &#x27;AutoUsed36Months&#x27;, &#x27;FirstMortgage30yr&#x27;, &#x27;SuperSaver&#x27;, &#x27;MasterCardWorld&#x27;, &#x27;FirstMortgage&#x27;, &#x27;FirstMortgageFiveOneARM&#x27;, &#x27;IncreaseYourCreditLine&#x27;, &#x27;FirstMortgageFloat&#x27;, &#x27;UPlusProductBundles&#x27;, &#x27;AutoUsed84Months&#x27;, &#x27;AutoNew60Months&#x27;}</td><td>1</td></tr><tr><td>&quot;IH.Web.Inbound…</td><td>&quot;IH.Web.Inbound…</td><td>[[5.216521, 9.372519, 4.885585]]</td><td>6.491542</td><td>&quot;&lt;&quot;</td><td>{&#x27;0.9332044675925926&#x27;}</td><td>1</td></tr><tr><td>&quot;Customer.Annua…</td><td>&quot;Customer.Annua…</td><td>[[11.029298]]</td><td>11.029298</td><td>&quot;&lt;&quot;</td><td>{&#x27;27048.0798438366&#x27;}</td><td>1</td></tr><tr><td>&quot;Customer.Age &lt;…</td><td>&quot;Customer.Age&quot;</td><td>[[0.997894, 1.239415, … 1.954151]]</td><td>5.42389</td><td>&quot;&lt;&quot;</td><td>{&#x27;55.0&#x27;}</td><td>1</td></tr><tr><td>&quot;Customer.Relat…</td><td>&quot;Customer.Relat…</td><td>[[4.262478, 6.598286]]</td><td>5.430382</td><td>&quot;&lt;&quot;</td><td>{&#x27;51.0&#x27;}</td><td>1</td></tr><tr><td>&quot;Customer.Annua…</td><td>&quot;Customer.Annua…</td><td>[[7.9857, 4.48732, 0.212923]]</td><td>4.228648</td><td>&quot;&lt;&quot;</td><td>{&#x27;50896.2577184401&#x27;}</td><td>1</td></tr><tr><td>&quot;Customer.Annua…</td><td>&quot;Customer.Annua…</td><td>[[5.254037]]</td><td>5.254037</td><td>&quot;&lt;&quot;</td><td>{&#x27;41469.0343081657&#x27;}</td><td>1</td></tr><tr><td>&quot;Customer.Age &lt;…</td><td>&quot;Customer.Age&quot;</td><td>[[1.451551, 1.237226, … 0.579253]]</td><td>1.7782</td><td>&quot;&lt;&quot;</td><td>{&#x27;40.0&#x27;}</td><td>1</td></tr><tr><td>&quot;pyGroup in { D…</td><td>&quot;pyGroup&quot;</td><td>[[786.476244, 1.172599, … 0.242694]]</td><td>79.801722</td><td>&quot;in&quot;</td><td>{&#x27;DepositAccounts&#x27;}</td><td>1</td></tr><tr><td>&hellip;</td><td>&hellip;</td><td>&hellip;</td><td>&hellip;</td><td>&hellip;</td><td>&hellip;</td><td>&hellip;</td></tr><tr><td>&quot;Customer.Relat…</td><td>&quot;Customer.Relat…</td><td>[[0.268738]]</td><td>0.268738</td><td>&quot;&lt;&quot;</td><td>{&#x27;799.0&#x27;}</td><td>1</td></tr><tr><td>&quot;Customer.Relat…</td><td>&quot;Customer.Relat…</td><td>[[1.950472]]</td><td>1.950472</td><td>&quot;&lt;&quot;</td><td>{&#x27;666.0&#x27;}</td><td>1</td></tr><tr><td>&quot;Customer.NetWe…</td><td>&quot;Customer.NetWe…</td><td>[[0.693435]]</td><td>0.693435</td><td>&quot;&lt;&quot;</td><td>{&#x27;12878.0&#x27;}</td><td>1</td></tr><tr><td>&quot;IH.Web.Inbound…</td><td>&quot;IH.Web.Inbound…</td><td>[[1.219772]]</td><td>1.219772</td><td>&quot;&lt;&quot;</td><td>{&#x27;0.9346766435185185&#x27;}</td><td>1</td></tr><tr><td>&quot;pyName in { Re…</td><td>&quot;pyName&quot;</td><td>[[0.322753]]</td><td>0.322753</td><td>&quot;in&quot;</td><td>{&#x27;RegularSaving&#x27;}</td><td>1</td></tr><tr><td>&quot;Customer.NetWe…</td><td>&quot;Customer.NetWe…</td><td>[[0.012239]]</td><td>0.012239</td><td>&quot;&lt;&quot;</td><td>{&#x27;11260.0&#x27;}</td><td>1</td></tr><tr><td>&quot;Customer.NetWe…</td><td>&quot;Customer.NetWe…</td><td>[[2.973318]]</td><td>2.973318</td><td>&quot;&lt;&quot;</td><td>{&#x27;23990.0&#x27;}</td><td>1</td></tr><tr><td>&quot;Customer.NetWe…</td><td>&quot;Customer.NetWe…</td><td>[[1.250128]]</td><td>1.250128</td><td>&quot;&lt;&quot;</td><td>{&#x27;19845.0&#x27;}</td><td>1</td></tr><tr><td>&quot;Customer.NetWe…</td><td>&quot;Customer.NetWe…</td><td>[[0.180002]]</td><td>0.180002</td><td>&quot;&lt;&quot;</td><td>{&#x27;7557.0&#x27;}</td><td>1</td></tr><tr><td>&quot;Customer.Relat…</td><td>&quot;Customer.Relat…</td><td>[[2.206005]]</td><td>2.206005</td><td>&quot;&lt;&quot;</td><td>{&#x27;1122.0&#x27;}</td><td>1</td></tr><tr><td>&quot;Customer.NetWe…</td><td>&quot;Customer.NetWe…</td><td>[[0.460809]]</td><td>0.460809</td><td>&quot;&lt;&quot;</td><td>{&#x27;18233.0&#x27;}</td><td>1</td></tr><tr><td>&quot;IH.Web.Inbound…</td><td>&quot;IH.Web.Inbound…</td><td>[[1.215137]]</td><td>1.215137</td><td>&quot;&lt;&quot;</td><td>{&#x27;0.9332240277777778&#x27;}</td><td>1</td></tr></tbody></table></div>"
      ],
      "text/plain": [
       "shape: (379, 7)\n",
       "┌──────────────────┬──────────────────┬─────────────────┬───────────┬──────┬─────────────────┬─────┐\n",
       "│ split            ┆ predictor        ┆ gains           ┆ mean      ┆ sign ┆ values          ┆ n   │\n",
       "│ ---              ┆ ---              ┆ ---             ┆ ---       ┆ ---  ┆ ---             ┆ --- │\n",
       "│ str              ┆ str              ┆ list[list[f64]] ┆ f64       ┆ str  ┆ object          ┆ u32 │\n",
       "╞══════════════════╪══════════════════╪═════════════════╪═══════════╪══════╪═════════════════╪═════╡\n",
       "│ pyName in { Auto ┆ pyName           ┆ [[177.064524,   ┆ 58.111616 ┆ in   ┆ {'UFixedRateMor ┆ 1   │\n",
       "│ Used48Months,    ┆                  ┆ 95.262737, …    ┆           ┆      ┆ tgage',         ┆     │\n",
       "│ Ho…              ┆                  ┆ 6.283…          ┆           ┆      ┆ 'Complete…      ┆     │\n",
       "│ pyName in { Auto ┆ pyName           ┆ [[1102.556954,  ┆ 144.75059 ┆ in   ┆ {'UFixedRateMor ┆ 1   │\n",
       "│ Used48Months,    ┆                  ┆ 153.075758, …   ┆           ┆      ┆ tgage',         ┆     │\n",
       "│ Ho…              ┆                  ┆ 2.7…            ┆           ┆      ┆ 'Complete…      ┆     │\n",
       "│ pyName in {      ┆ pyName           ┆ [[3.648124,     ┆ 3.336998  ┆ in   ┆ {'UPlusGold'}   ┆ 1   │\n",
       "│ UPlusGold }      ┆                  ┆ 5.092834, …     ┆           ┆      ┆                 ┆     │\n",
       "│                  ┆                  ┆ 1.945262…       ┆           ┆      ┆                 ┆     │\n",
       "│ pyName in { Auto ┆ pyName           ┆ [[1.687369,     ┆ 1.985773  ┆ in   ┆ {'CompleteYourC ┆ 1   │\n",
       "│ Used48Months,    ┆                  ┆ 3.857415, …     ┆           ┆      ┆ ardApplicationT ┆     │\n",
       "│ Ho…              ┆                  ┆ 2.235231…       ┆           ┆      ┆ od…             ┆     │\n",
       "│ …                ┆ …                ┆ …               ┆ …         ┆ …    ┆ …               ┆ …   │\n",
       "│ Customer.NetWeal ┆ Customer.NetWeal ┆ [[0.180002]]    ┆ 0.180002  ┆ <    ┆ {'7557.0'}      ┆ 1   │\n",
       "│ th < 7557.0      ┆ th               ┆                 ┆           ┆      ┆                 ┆     │\n",
       "│ Customer.Relatio ┆ Customer.Relatio ┆ [[2.206005]]    ┆ 2.206005  ┆ <    ┆ {'1122.0'}      ┆ 1   │\n",
       "│ nshipLengthDays  ┆ nshipLengthDays  ┆                 ┆           ┆      ┆                 ┆     │\n",
       "│ …                ┆                  ┆                 ┆           ┆      ┆                 ┆     │\n",
       "│ Customer.NetWeal ┆ Customer.NetWeal ┆ [[0.460809]]    ┆ 0.460809  ┆ <    ┆ {'18233.0'}     ┆ 1   │\n",
       "│ th < 18233.0     ┆ th               ┆                 ┆           ┆      ┆                 ┆     │\n",
       "│ IH.Web.Inbound.A ┆ IH.Web.Inbound.A ┆ [[1.215137]]    ┆ 1.215137  ┆ <    ┆ {'0.93322402777 ┆ 1   │\n",
       "│ ccepted.pxLastOu ┆ ccepted.pxLastOu ┆                 ┆           ┆      ┆ 77778'}         ┆     │\n",
       "│ …                ┆ …                ┆                 ┆           ┆      ┆                 ┆     │\n",
       "└──────────────────┴──────────────────┴─────────────────┴───────────┴──────┴─────────────────┴─────┘"
      ]
     },
     "execution_count": 10,
     "metadata": {},
     "output_type": "execute_result"
    }
   ],
   "source": [
    "Trees.groupedGainsPerSplit"
   ]
  },
  {
   "cell_type": "markdown",
   "metadata": {},
   "source": [
    "Raw data is sometimes useful, but it's better to visualise. For this, simply call plotSplitsPerVariable(), which will produce a plot of the distribution of splits for each variable. Here, the orange line denotes the number of times the given split is performed, while the blue boxes display the distribution of gains corresponding to that split. By suppling a set of predictors as the 'subset' argument, not all predictors are plotted. For readability's sake, we've filtered only on a few specific splits.\n",
    "\n",
    "**Note 1:** Given that the gains can differ drastically between splits, some plots may not be very useful as-is. However, since they are Plotly plots they are interactive: hover over the data to see the raw numbers, and select a region within the plot to zoom in.\n",
    "**Note 2:** For categorical splits especially, the axis labels are typically not very readable. Even while hovering, there may be too much information. This is simply by nature of these splits. In this case, it may be more useful to look at the raw data in the groupedGainsPerSplit dataframe."
   ]
  },
  {
   "cell_type": "code",
   "execution_count": 11,
   "metadata": {
    "execution": {
     "iopub.execute_input": "2023-03-24T17:14:28.812955Z",
     "iopub.status.busy": "2023-03-24T17:14:28.812552Z",
     "iopub.status.idle": "2023-03-24T17:14:28.930367Z",
     "shell.execute_reply": "2023-03-24T17:14:28.929618Z"
    }
   },
   "outputs": [
    {
     "data": {
      "text/html": [
       "        <script type=\"text/javascript\">\n",
       "        window.PlotlyConfig = {MathJaxConfig: 'local'};\n",
       "        if (window.MathJax && window.MathJax.Hub && window.MathJax.Hub.Config) {window.MathJax.Hub.Config({SVG: {font: \"STIX-Web\"}});}\n",
       "        if (typeof require !== 'undefined') {\n",
       "        require.undef(\"plotly\");\n",
       "        requirejs.config({\n",
       "            paths: {\n",
       "                'plotly': ['https://cdn.plot.ly/plotly-2.18.2.min']\n",
       "            }\n",
       "        });\n",
       "        require(['plotly'], function(Plotly) {\n",
       "            window._Plotly = Plotly;\n",
       "        });\n",
       "        }\n",
       "        </script>\n",
       "        "
      ]
     },
     "metadata": {},
     "output_type": "display_data"
    },
    {
     "data": {
      "text/html": [
       "<div>                            <div id=\"b7237b54-a20a-43d9-a790-84e3248c19c9\" class=\"plotly-graph-div\" style=\"height:525px; width:100%;\"></div>            <script type=\"text/javascript\">                require([\"plotly\"], function(Plotly) {                    window.PLOTLYENV=window.PLOTLYENV || {};                                    if (document.getElementById(\"b7237b54-a20a-43d9-a790-84e3248c19c9\")) {                    Plotly.newPlot(                        \"b7237b54-a20a-43d9-a790-84e3248c19c9\",                        [{\"name\":\"Gain\",\"x\":[\"pyName in { AutoUsed48Months, HomeOwners, UPlusGold, FirstMortgageSevenOneARM, AutoUsed84Months, StudentChoice, AMEXPersonal, FirstMortgageFloat, AutoUsed36Months, UPlusProductBundles, MasterCardGold, AutoNew84Months, MasterCardWorld, FirstMortgageFiveOneARM, FirstMortgage, VisaGold, FirstMortgage30yr, PremiumBanking, IncreaseYourCreditLine, AutoNew60Months, SuperSaver, Earn2xRewardsPoints, CompleteYourCardApplicationToday, PlatinumRewardsCard, CreditMonitoringService, IdentityTheftProtection, PaymentProtection, SignupForRewardsCard, ProsAndConsOfFixedRate, GetAPersonalizedRateQuoteToday, UFixedRateMortgage, IndividualRetirementAccountsIRA, BasicChecking, MoneyMarketSavingsAccount, PremierChecking }\",\"pyName in { AutoUsed48Months, HomeOwners, UPlusGold, FirstMortgageSevenOneARM, AutoUsed84Months, StudentChoice, AMEXPersonal, FirstMortgageFloat, AutoUsed36Months, UPlusProductBundles, MasterCardGold, AutoNew84Months, MasterCardWorld, FirstMortgageFiveOneARM, FirstMortgage, VisaGold, FirstMortgage30yr, PremiumBanking, IncreaseYourCreditLine, AutoNew60Months, SuperSaver, Earn2xRewardsPoints, CompleteYourCardApplicationToday, PlatinumRewardsCard, CreditMonitoringService, IdentityTheftProtection, PaymentProtection, SignupForRewardsCard, ProsAndConsOfFixedRate, GetAPersonalizedRateQuoteToday, UFixedRateMortgage, IndividualRetirementAccountsIRA }\",\"pyName in { UPlusGold }\",\"pyName in { AutoUsed48Months, HomeOwners, UPlusGold, FirstMortgageSevenOneARM, AutoUsed84Months, StudentChoice, AMEXPersonal, FirstMortgageFloat, AutoUsed36Months, UPlusProductBundles, MasterCardGold, AutoNew84Months, MasterCardWorld, FirstMortgageFiveOneARM, FirstMortgage, VisaGold, FirstMortgage30yr, PremiumBanking, IncreaseYourCreditLine, AutoNew60Months, SuperSaver, Earn2xRewardsPoints, CompleteYourCardApplicationToday, PlatinumRewardsCard }\",\"pyName in { BasicChecking }\",\"pyName in { AutoUsed48Months, HomeOwners, UPlusGold, FirstMortgageSevenOneARM, AutoUsed84Months, StudentChoice, AMEXPersonal, FirstMortgageFloat, AutoUsed36Months, UPlusProductBundles, MasterCardGold, AutoNew84Months, MasterCardWorld, FirstMortgageFiveOneARM, FirstMortgage, VisaGold, FirstMortgage30yr, PremiumBanking, IncreaseYourCreditLine, AutoNew60Months, SuperSaver, Earn2xRewardsPoints, CompleteYourCardApplicationToday, PlatinumRewardsCard }\",\"pyName in { AutoUsed48Months, HomeOwners, UPlusGold, FirstMortgageSevenOneARM, AutoUsed84Months, StudentChoice, AMEXPersonal, FirstMortgageFloat, AutoUsed36Months, UPlusProductBundles, MasterCardGold, AutoNew84Months, MasterCardWorld, FirstMortgageFiveOneARM, FirstMortgage, VisaGold, FirstMortgage30yr, PremiumBanking, IncreaseYourCreditLine, AutoNew60Months, SuperSaver, Earn2xRewardsPoints, CompleteYourCardApplicationToday, PlatinumRewardsCard, CreditMonitoringService, IdentityTheftProtection, PaymentProtection, SignupForRewardsCard, ProsAndConsOfFixedRate, GetAPersonalizedRateQuoteToday, UFixedRateMortgage, IndividualRetirementAccountsIRA, BasicChecking, MoneyMarketSavingsAccount }\",\"pyName in { MoneyMarketSavingsAccount }\",\"pyName in { AutoUsed48Months, HomeOwners, UPlusGold, FirstMortgageSevenOneARM, AutoUsed84Months, StudentChoice, AMEXPersonal, FirstMortgageFloat, AutoUsed36Months, UPlusProductBundles, MasterCardGold, AutoNew84Months, MasterCardWorld, FirstMortgageFiveOneARM, FirstMortgage, VisaGold, FirstMortgage30yr, PremiumBanking, IncreaseYourCreditLine, AutoNew60Months, SuperSaver, Earn2xRewardsPoints, CompleteYourCardApplicationToday, PlatinumRewardsCard, CreditMonitoringService, IdentityTheftProtection, PaymentProtection, SignupForRewardsCard, ProsAndConsOfFixedRate, GetAPersonalizedRateQuoteToday, UFixedRateMortgage }\",\"pyName in { UPlusProductBundles }\",\"pyName in { UPlusGold }\",\"pyName in { AutoUsed48Months, HomeOwners, UPlusGold, FirstMortgageSevenOneARM, AutoUsed84Months, StudentChoice, AMEXPersonal, FirstMortgageFloat, AutoUsed36Months, UPlusProductBundles, MasterCardGold, AutoNew84Months, MasterCardWorld, FirstMortgageFiveOneARM, FirstMortgage, VisaGold, FirstMortgage30yr, PremiumBanking, IncreaseYourCreditLine, AutoNew60Months, SuperSaver, Earn2xRewardsPoints, CompleteYourCardApplicationToday, PlatinumRewardsCard }\",\"pyName in { AutoUsed48Months, HomeOwners, UPlusGold, FirstMortgageSevenOneARM, AutoUsed84Months, StudentChoice, AMEXPersonal, FirstMortgageFloat, AutoUsed36Months, UPlusProductBundles, MasterCardGold, AutoNew84Months, MasterCardWorld, FirstMortgageFiveOneARM, FirstMortgage, VisaGold, FirstMortgage30yr, PremiumBanking, IncreaseYourCreditLine, AutoNew60Months, SuperSaver, Earn2xRewardsPoints, CompleteYourCardApplicationToday, PlatinumRewardsCard, CreditMonitoringService, IdentityTheftProtection, PaymentProtection, SignupForRewardsCard, ProsAndConsOfFixedRate, GetAPersonalizedRateQuoteToday, UFixedRateMortgage, IndividualRetirementAccountsIRA }\",\"pyName in { PremierChecking }\",\"pyName in { AutoUsed48Months, HomeOwners, UPlusGold, FirstMortgageSevenOneARM, AutoUsed84Months, StudentChoice, AMEXPersonal, FirstMortgageFloat, AutoUsed36Months, UPlusProductBundles, MasterCardGold, AutoNew84Months, MasterCardWorld, FirstMortgageFiveOneARM, FirstMortgage, VisaGold, FirstMortgage30yr, PremiumBanking, IncreaseYourCreditLine, AutoNew60Months, SuperSaver, Earn2xRewardsPoints, CompleteYourCardApplicationToday, PlatinumRewardsCard, CreditMonitoringService, IdentityTheftProtection, PaymentProtection, SignupForRewardsCard, ProsAndConsOfFixedRate, GetAPersonalizedRateQuoteToday, UFixedRateMortgage, IndividualRetirementAccountsIRA, BasicChecking, MoneyMarketSavingsAccount, PremierChecking }\",\"pyName in { AutoUsed48Months, HomeOwners, UPlusGold, FirstMortgageSevenOneARM, AutoUsed84Months, StudentChoice, AMEXPersonal, FirstMortgageFloat, AutoUsed36Months, UPlusProductBundles, MasterCardGold, AutoNew84Months, MasterCardWorld, FirstMortgageFiveOneARM, FirstMortgage, VisaGold, FirstMortgage30yr, PremiumBanking, IncreaseYourCreditLine, AutoNew60Months, SuperSaver, Earn2xRewardsPoints, CompleteYourCardApplicationToday, PlatinumRewardsCard, CreditMonitoringService, IdentityTheftProtection, PaymentProtection, SignupForRewardsCard, ProsAndConsOfFixedRate, GetAPersonalizedRateQuoteToday, UFixedRateMortgage, IndividualRetirementAccountsIRA }\",\"pyName in { UPlusGold }\",\"pyName in { AMEXPersonal }\",\"pyName in { AutoUsed48Months, HomeOwners, UPlusGold, FirstMortgageSevenOneARM, AutoUsed84Months, StudentChoice, AMEXPersonal, FirstMortgageFloat, AutoUsed36Months, UPlusProductBundles, MasterCardGold, AutoNew84Months, MasterCardWorld, FirstMortgageFiveOneARM, FirstMortgage, VisaGold, FirstMortgage30yr, PremiumBanking, IncreaseYourCreditLine, AutoNew60Months, SuperSaver, Earn2xRewardsPoints, CompleteYourCardApplicationToday, PlatinumRewardsCard, CreditMonitoringService, IdentityTheftProtection, PaymentProtection, SignupForRewardsCard, ProsAndConsOfFixedRate, GetAPersonalizedRateQuoteToday, UFixedRateMortgage, IndividualRetirementAccountsIRA, BasicChecking, MoneyMarketSavingsAccount }\",\"pyName in { AutoUsed48Months, HomeOwners, UPlusGold, FirstMortgageSevenOneARM, AutoUsed84Months, StudentChoice, AMEXPersonal, FirstMortgageFloat, AutoUsed36Months, UPlusProductBundles, MasterCardGold, AutoNew84Months, MasterCardWorld, FirstMortgageFiveOneARM, FirstMortgage, VisaGold, FirstMortgage30yr, PremiumBanking, IncreaseYourCreditLine, AutoNew60Months, SuperSaver, Earn2xRewardsPoints, CompleteYourCardApplicationToday, PlatinumRewardsCard, CreditMonitoringService, IdentityTheftProtection, PaymentProtection, SignupForRewardsCard, ProsAndConsOfFixedRate, GetAPersonalizedRateQuoteToday, UFixedRateMortgage, IndividualRetirementAccountsIRA }\",\"pyName in { AutoUsed48Months, HomeOwners, UPlusGold, FirstMortgageSevenOneARM }\",\"pyName in { PlatinumRewardsCard }\",\"pyName in { AMEXPersonal }\",\"pyName in { FirstMortgageFiveOneARM }\",\"pyName in { AutoUsed48Months, HomeOwners, UPlusGold, FirstMortgageSevenOneARM, AutoUsed84Months, StudentChoice, AMEXPersonal, FirstMortgageFloat, AutoUsed36Months, UPlusProductBundles, MasterCardGold, AutoNew84Months, MasterCardWorld, FirstMortgageFiveOneARM, FirstMortgage, VisaGold, FirstMortgage30yr, PremiumBanking, IncreaseYourCreditLine, AutoNew60Months, SuperSaver, Earn2xRewardsPoints, CompleteYourCardApplicationToday, PlatinumRewardsCard, CreditMonitoringService, IdentityTheftProtection, PaymentProtection, SignupForRewardsCard, ProsAndConsOfFixedRate, GetAPersonalizedRateQuoteToday, UFixedRateMortgage, IndividualRetirementAccountsIRA }\",\"pyName in { UPlusGold }\",\"pyName in { PlatinumRewardsCard }\",\"pyName in { UPlusProductBundles }\",\"pyName in { AMEXPersonal }\",\"pyName in { AutoUsed48Months, HomeOwners, UPlusGold, FirstMortgageSevenOneARM, AutoUsed84Months, StudentChoice, AMEXPersonal, FirstMortgageFloat, AutoUsed36Months, UPlusProductBundles, MasterCardGold, AutoNew84Months, MasterCardWorld, FirstMortgageFiveOneARM, FirstMortgage, VisaGold, FirstMortgage30yr, PremiumBanking, IncreaseYourCreditLine, AutoNew60Months, SuperSaver, Earn2xRewardsPoints, CompleteYourCardApplicationToday, PlatinumRewardsCard, CreditMonitoringService, IdentityTheftProtection, PaymentProtection, SignupForRewardsCard, ProsAndConsOfFixedRate, GetAPersonalizedRateQuoteToday, UFixedRateMortgage, IndividualRetirementAccountsIRA, BasicChecking, MoneyMarketSavingsAccount }\",\"pyName in { UPlusGold }\",\"pyName in { PlatinumRewardsCard }\",\"pyName in { CompleteYourCardApplicationToday }\",\"pyName in { SeniorChecking }\",\"pyName in { AutoUsed48Months, HomeOwners, UPlusGold, FirstMortgageSevenOneARM, AutoUsed84Months, StudentChoice, AMEXPersonal, FirstMortgageFloat, AutoUsed36Months, UPlusProductBundles, MasterCardGold, AutoNew84Months, MasterCardWorld, FirstMortgageFiveOneARM, FirstMortgage, VisaGold, FirstMortgage30yr, PremiumBanking, IncreaseYourCreditLine, AutoNew60Months, SuperSaver, Earn2xRewardsPoints, CompleteYourCardApplicationToday, PlatinumRewardsCard, CreditMonitoringService, IdentityTheftProtection, PaymentProtection, SignupForRewardsCard, ProsAndConsOfFixedRate, GetAPersonalizedRateQuoteToday, UFixedRateMortgage, IndividualRetirementAccountsIRA, BasicChecking }\",\"pyName in { BasicChecking }\",\"pyName in { UPlusProductBundles }\",\"pyName in { UPlusGold }\",\"pyName in { StudentChoice }\",\"pyName in { AutoUsed48Months, HomeOwners, UPlusGold, FirstMortgageSevenOneARM, AutoUsed84Months, StudentChoice, AMEXPersonal, FirstMortgageFloat, AutoUsed36Months, UPlusProductBundles, MasterCardGold, AutoNew84Months, MasterCardWorld, FirstMortgageFiveOneARM, FirstMortgage, VisaGold, FirstMortgage30yr, PremiumBanking, IncreaseYourCreditLine, AutoNew60Months, SuperSaver, Earn2xRewardsPoints, CompleteYourCardApplicationToday, PlatinumRewardsCard, CreditMonitoringService, IdentityTheftProtection, PaymentProtection, SignupForRewardsCard, ProsAndConsOfFixedRate, GetAPersonalizedRateQuoteToday, UFixedRateMortgage, IndividualRetirementAccountsIRA, BasicChecking, MoneyMarketSavingsAccount, PremierChecking }\",\"pyName in { PlatinumRewardsCard }\",\"pyName in { UPlusProductBundles }\",\"pyName in { UPlusGold }\",\"pyName in { StudentChoice }\",\"pyName in { AutoUsed48Months, HomeOwners, UPlusGold, FirstMortgageSevenOneARM, AutoUsed84Months, StudentChoice, AMEXPersonal, FirstMortgageFloat, AutoUsed36Months, UPlusProductBundles, MasterCardGold, AutoNew84Months, MasterCardWorld, FirstMortgageFiveOneARM, FirstMortgage, VisaGold, FirstMortgage30yr, PremiumBanking, IncreaseYourCreditLine }\",\"pyName in { AMEXPersonal }\",\"pyName in { FirstMortgageSevenOneARM }\",\"pyName in { PlatinumRewardsCard }\",\"pyName in { AutoUsed48Months, HomeOwners, UPlusGold }\",\"pyName in { AutoUsed48Months, HomeOwners }\",\"pyName in { UPlusProductBundles }\",\"pyName in { AutoUsed48Months, HomeOwners, UPlusGold, FirstMortgageSevenOneARM, AutoUsed84Months, StudentChoice }\",\"pyName in { AutoUsed48Months, HomeOwners, UPlusGold, FirstMortgageSevenOneARM, AutoUsed84Months, StudentChoice, AMEXPersonal, FirstMortgageFloat, AutoUsed36Months, UPlusProductBundles, MasterCardGold }\",\"pyName in { FirstMortgageSevenOneARM }\",\"pyName in { AutoUsed48Months, HomeOwners, UPlusGold, FirstMortgageSevenOneARM, AutoUsed84Months, StudentChoice, AMEXPersonal, FirstMortgageFloat, AutoUsed36Months, UPlusProductBundles, MasterCardGold, AutoNew84Months, MasterCardWorld, FirstMortgageFiveOneARM, FirstMortgage, VisaGold, FirstMortgage30yr, PremiumBanking, IncreaseYourCreditLine, AutoNew60Months, SuperSaver, Earn2xRewardsPoints, CompleteYourCardApplicationToday, PlatinumRewardsCard, CreditMonitoringService, IdentityTheftProtection, PaymentProtection, SignupForRewardsCard, ProsAndConsOfFixedRate, GetAPersonalizedRateQuoteToday, UFixedRateMortgage, IndividualRetirementAccountsIRA, BasicChecking, MoneyMarketSavingsAccount }\",\"pyName in { AutoUsed48Months, HomeOwners, UPlusGold, FirstMortgageSevenOneARM, AutoUsed84Months, StudentChoice, AMEXPersonal, FirstMortgageFloat, AutoUsed36Months, UPlusProductBundles, MasterCardGold, AutoNew84Months, MasterCardWorld, FirstMortgageFiveOneARM, FirstMortgage, VisaGold, FirstMortgage30yr, PremiumBanking, IncreaseYourCreditLine, AutoNew60Months, SuperSaver, Earn2xRewardsPoints, CompleteYourCardApplicationToday, PlatinumRewardsCard, CreditMonitoringService, IdentityTheftProtection, PaymentProtection, SignupForRewardsCard, ProsAndConsOfFixedRate, GetAPersonalizedRateQuoteToday, UFixedRateMortgage, IndividualRetirementAccountsIRA, BasicChecking }\",\"pyName in { AutoUsed48Months, HomeOwners, UPlusGold, FirstMortgageSevenOneARM, AutoUsed84Months, StudentChoice, AMEXPersonal, FirstMortgageFloat }\",\"pyName in { AutoUsed48Months, HomeOwners, UPlusGold, FirstMortgageSevenOneARM, AutoUsed84Months, StudentChoice, AMEXPersonal, FirstMortgageFloat, AutoUsed36Months, UPlusProductBundles, MasterCardGold, AutoNew84Months, MasterCardWorld, FirstMortgageFiveOneARM, FirstMortgage, VisaGold, FirstMortgage30yr, PremiumBanking, IncreaseYourCreditLine, AutoNew60Months, SuperSaver, Earn2xRewardsPoints, CompleteYourCardApplicationToday, PlatinumRewardsCard, CreditMonitoringService, IdentityTheftProtection, PaymentProtection, SignupForRewardsCard, ProsAndConsOfFixedRate, GetAPersonalizedRateQuoteToday, UFixedRateMortgage, IndividualRetirementAccountsIRA, BasicChecking }\",\"pyName in { BasicChecking }\",\"pyName in { AutoUsed48Months, HomeOwners, UPlusGold, FirstMortgageSevenOneARM, AutoUsed84Months, StudentChoice, AMEXPersonal, FirstMortgageFloat }\",\"pyName in { PlatinumRewardsCard }\",\"pyName in { Earn2xRewardsPoints }\",\"pyName in { AutoUsed48Months, HomeOwners, UPlusGold, FirstMortgageSevenOneARM, AutoUsed84Months, StudentChoice, AMEXPersonal, FirstMortgageFloat, AutoUsed36Months, UPlusProductBundles, MasterCardGold, AutoNew84Months, MasterCardWorld, FirstMortgageFiveOneARM, FirstMortgage, VisaGold, FirstMortgage30yr, PremiumBanking, IncreaseYourCreditLine, AutoNew60Months, SuperSaver, Earn2xRewardsPoints, CompleteYourCardApplicationToday, PlatinumRewardsCard, CreditMonitoringService, IdentityTheftProtection, PaymentProtection, SignupForRewardsCard, ProsAndConsOfFixedRate, GetAPersonalizedRateQuoteToday, UFixedRateMortgage, IndividualRetirementAccountsIRA, BasicChecking, MoneyMarketSavingsAccount, PremierChecking }\",\"pyName in { UPlusGold }\",\"pyName in { AutoUsed48Months, HomeOwners, UPlusGold, FirstMortgageSevenOneARM, AutoUsed84Months, StudentChoice, AMEXPersonal, FirstMortgageFloat }\",\"pyName in { AutoUsed48Months, HomeOwners, UPlusGold, FirstMortgageSevenOneARM, AutoUsed84Months, StudentChoice, AMEXPersonal, FirstMortgageFloat, AutoUsed36Months, UPlusProductBundles, MasterCardGold, AutoNew84Months, MasterCardWorld, FirstMortgageFiveOneARM, FirstMortgage, VisaGold, FirstMortgage30yr, PremiumBanking, IncreaseYourCreditLine, AutoNew60Months, SuperSaver, Earn2xRewardsPoints, CompleteYourCardApplicationToday, PlatinumRewardsCard, CreditMonitoringService, IdentityTheftProtection, PaymentProtection, SignupForRewardsCard, ProsAndConsOfFixedRate, GetAPersonalizedRateQuoteToday, UFixedRateMortgage, IndividualRetirementAccountsIRA, BasicChecking, MoneyMarketSavingsAccount }\",\"pyName in { AutoUsed48Months, HomeOwners, UPlusGold, FirstMortgageSevenOneARM, AutoUsed84Months, StudentChoice, AMEXPersonal, FirstMortgageFloat, AutoUsed36Months, UPlusProductBundles, MasterCardGold, AutoNew84Months, MasterCardWorld, FirstMortgageFiveOneARM, FirstMortgage, VisaGold, FirstMortgage30yr, PremiumBanking, IncreaseYourCreditLine, AutoNew60Months, SuperSaver, Earn2xRewardsPoints, CompleteYourCardApplicationToday, PlatinumRewardsCard, CreditMonitoringService, IdentityTheftProtection, PaymentProtection, SignupForRewardsCard, ProsAndConsOfFixedRate, GetAPersonalizedRateQuoteToday, UFixedRateMortgage }\",\"pyName in { AutoUsed48Months, HomeOwners, UPlusGold, FirstMortgageSevenOneARM, AutoUsed84Months, StudentChoice, AMEXPersonal, FirstMortgageFloat, AutoUsed36Months, UPlusProductBundles, MasterCardGold, AutoNew84Months, MasterCardWorld, FirstMortgageFiveOneARM, FirstMortgage, VisaGold, FirstMortgage30yr, PremiumBanking, IncreaseYourCreditLine, AutoNew60Months, SuperSaver, Earn2xRewardsPoints, CompleteYourCardApplicationToday, PlatinumRewardsCard, CreditMonitoringService, IdentityTheftProtection, PaymentProtection, SignupForRewardsCard, ProsAndConsOfFixedRate, GetAPersonalizedRateQuoteToday, UFixedRateMortgage, IndividualRetirementAccountsIRA, BasicChecking, MoneyMarketSavingsAccount }\",\"pyName in { MoneyMarketSavingsAccount }\",\"pyName in { AutoUsed48Months, HomeOwners, UPlusGold, FirstMortgageSevenOneARM, AutoUsed84Months, StudentChoice, AMEXPersonal, FirstMortgageFloat, AutoUsed36Months, UPlusProductBundles, MasterCardGold, AutoNew84Months, MasterCardWorld, FirstMortgageFiveOneARM, FirstMortgage, VisaGold, FirstMortgage30yr, PremiumBanking, IncreaseYourCreditLine, AutoNew60Months, SuperSaver, Earn2xRewardsPoints, CompleteYourCardApplicationToday, PlatinumRewardsCard, CreditMonitoringService, IdentityTheftProtection, PaymentProtection, SignupForRewardsCard, ProsAndConsOfFixedRate, GetAPersonalizedRateQuoteToday, UFixedRateMortgage, IndividualRetirementAccountsIRA }\",\"pyName in { AutoUsed48Months, HomeOwners, UPlusGold, FirstMortgageSevenOneARM, AutoUsed84Months, StudentChoice, AMEXPersonal, FirstMortgageFloat, AutoUsed36Months }\",\"pyName in { SeniorChecking }\",\"pyName in { AutoUsed48Months, HomeOwners, UPlusGold, FirstMortgageSevenOneARM, AutoUsed84Months, StudentChoice, AMEXPersonal, FirstMortgageFloat, AutoUsed36Months, UPlusProductBundles, MasterCardGold, AutoNew84Months, MasterCardWorld, FirstMortgageFiveOneARM, FirstMortgage, VisaGold, FirstMortgage30yr, PremiumBanking, IncreaseYourCreditLine, AutoNew60Months, SuperSaver, Earn2xRewardsPoints, CompleteYourCardApplicationToday, PlatinumRewardsCard, CreditMonitoringService, IdentityTheftProtection, PaymentProtection, SignupForRewardsCard, ProsAndConsOfFixedRate, GetAPersonalizedRateQuoteToday, UFixedRateMortgage, IndividualRetirementAccountsIRA, BasicChecking }\",\"pyName in { BasicChecking }\",\"pyName in { FirstMortgageSevenOneARM }\",\"pyName in { AutoUsed48Months, HomeOwners, UPlusGold, FirstMortgageSevenOneARM, AutoUsed84Months, StudentChoice, AMEXPersonal, FirstMortgageFloat }\",\"pyName in { AutoUsed48Months, HomeOwners, UPlusGold, FirstMortgageSevenOneARM, AutoUsed84Months, StudentChoice, AMEXPersonal, FirstMortgageFloat, AutoUsed36Months, UPlusProductBundles, MasterCardGold, AutoNew84Months, MasterCardWorld, FirstMortgageFiveOneARM, FirstMortgage, VisaGold, FirstMortgage30yr, PremiumBanking, IncreaseYourCreditLine, AutoNew60Months, SuperSaver, Earn2xRewardsPoints, CompleteYourCardApplicationToday }\",\"pyName in { AutoUsed48Months, HomeOwners, UPlusGold, FirstMortgageSevenOneARM, AutoUsed84Months, StudentChoice, AMEXPersonal, FirstMortgageFloat, AutoUsed36Months, UPlusProductBundles, MasterCardGold, AutoNew84Months, MasterCardWorld, FirstMortgageFiveOneARM, FirstMortgage, VisaGold, FirstMortgage30yr, PremiumBanking, IncreaseYourCreditLine, AutoNew60Months, SuperSaver, Earn2xRewardsPoints, CompleteYourCardApplicationToday, PlatinumRewardsCard, CreditMonitoringService, IdentityTheftProtection, PaymentProtection, SignupForRewardsCard, ProsAndConsOfFixedRate, GetAPersonalizedRateQuoteToday, UFixedRateMortgage, IndividualRetirementAccountsIRA }\",\"pyName in { AutoUsed48Months, HomeOwners, UPlusGold, FirstMortgageSevenOneARM, AutoUsed84Months, StudentChoice, AMEXPersonal, FirstMortgageFloat, AutoUsed36Months, UPlusProductBundles, MasterCardGold, AutoNew84Months, MasterCardWorld, FirstMortgageFiveOneARM, FirstMortgage, VisaGold, FirstMortgage30yr, PremiumBanking, IncreaseYourCreditLine, AutoNew60Months, SuperSaver, Earn2xRewardsPoints, CompleteYourCardApplicationToday, PlatinumRewardsCard, CreditMonitoringService, IdentityTheftProtection, PaymentProtection, SignupForRewardsCard, ProsAndConsOfFixedRate, GetAPersonalizedRateQuoteToday, UFixedRateMortgage, IndividualRetirementAccountsIRA, BasicChecking, MoneyMarketSavingsAccount }\",\"pyName in { SeniorChecking }\",\"pyName in { PremierChecking }\",\"pyName in { SeniorChecking }\",\"pyName in { PlatinumRewardsCard }\",\"pyName in { AutoUsed48Months, HomeOwners, UPlusGold, FirstMortgageSevenOneARM, AutoUsed84Months, StudentChoice, AMEXPersonal, FirstMortgageFloat, AutoUsed36Months, UPlusProductBundles, MasterCardGold, AutoNew84Months, MasterCardWorld, FirstMortgageFiveOneARM, FirstMortgage, VisaGold, FirstMortgage30yr, PremiumBanking, IncreaseYourCreditLine }\",\"pyName in { Earn2xRewardsPoints }\",\"pyName in { AutoUsed48Months, HomeOwners, UPlusGold, FirstMortgageSevenOneARM, AutoUsed84Months, StudentChoice, AMEXPersonal, FirstMortgageFloat, AutoUsed36Months, UPlusProductBundles, MasterCardGold, AutoNew84Months, MasterCardWorld, FirstMortgageFiveOneARM, FirstMortgage, VisaGold, FirstMortgage30yr, PremiumBanking, IncreaseYourCreditLine, AutoNew60Months, SuperSaver, Earn2xRewardsPoints, CompleteYourCardApplicationToday, PlatinumRewardsCard, CreditMonitoringService, IdentityTheftProtection, PaymentProtection, SignupForRewardsCard, ProsAndConsOfFixedRate, GetAPersonalizedRateQuoteToday, UFixedRateMortgage, IndividualRetirementAccountsIRA, BasicChecking, MoneyMarketSavingsAccount }\",\"pyName in { AutoUsed48Months, HomeOwners, UPlusGold, FirstMortgageSevenOneARM, AutoUsed84Months, StudentChoice, AMEXPersonal, FirstMortgageFloat, AutoUsed36Months, UPlusProductBundles, MasterCardGold, AutoNew84Months, MasterCardWorld, FirstMortgageFiveOneARM, FirstMortgage, VisaGold, FirstMortgage30yr, PremiumBanking, IncreaseYourCreditLine, AutoNew60Months, SuperSaver, Earn2xRewardsPoints, CompleteYourCardApplicationToday, PlatinumRewardsCard }\",\"pyName in { AutoUsed48Months, HomeOwners, UPlusGold, FirstMortgageSevenOneARM, AutoUsed84Months, StudentChoice, AMEXPersonal, FirstMortgageFloat, AutoUsed36Months, UPlusProductBundles, MasterCardGold, AutoNew84Months, MasterCardWorld, FirstMortgageFiveOneARM, FirstMortgage, VisaGold, FirstMortgage30yr, PremiumBanking, IncreaseYourCreditLine, AutoNew60Months, SuperSaver, Earn2xRewardsPoints }\",\"pyName in { AutoUsed48Months, HomeOwners, UPlusGold, FirstMortgageSevenOneARM }\",\"pyName in { PremierChecking }\",\"pyName in { BasicChecking }\",\"pyName in { MoneyMarketSavingsAccount }\",\"pyName in { AutoUsed48Months, HomeOwners, UPlusGold, FirstMortgageSevenOneARM, AutoUsed84Months, StudentChoice, AMEXPersonal, FirstMortgageFloat, AutoUsed36Months, UPlusProductBundles, MasterCardGold, AutoNew84Months, MasterCardWorld, FirstMortgageFiveOneARM, FirstMortgage, VisaGold, FirstMortgage30yr, PremiumBanking, IncreaseYourCreditLine, AutoNew60Months, SuperSaver, Earn2xRewardsPoints, CompleteYourCardApplicationToday, PlatinumRewardsCard, CreditMonitoringService, IdentityTheftProtection, PaymentProtection, SignupForRewardsCard, ProsAndConsOfFixedRate, GetAPersonalizedRateQuoteToday, UFixedRateMortgage, IndividualRetirementAccountsIRA, BasicChecking }\",\"pyName in { BasicChecking }\",\"pyName in { BasicChecking }\",\"pyName in { AutoUsed48Months, HomeOwners, UPlusGold, FirstMortgageSevenOneARM, AutoUsed84Months, StudentChoice, AMEXPersonal, FirstMortgageFloat, AutoUsed36Months, UPlusProductBundles, MasterCardGold, AutoNew84Months, MasterCardWorld, FirstMortgageFiveOneARM, FirstMortgage, VisaGold, FirstMortgage30yr, PremiumBanking, IncreaseYourCreditLine, AutoNew60Months, SuperSaver, Earn2xRewardsPoints, CompleteYourCardApplicationToday, PlatinumRewardsCard, CreditMonitoringService, IdentityTheftProtection, PaymentProtection, SignupForRewardsCard, ProsAndConsOfFixedRate, GetAPersonalizedRateQuoteToday, UFixedRateMortgage, IndividualRetirementAccountsIRA, BasicChecking }\",\"pyName in { UPlusGold }\",\"pyName in { AutoUsed48Months, HomeOwners, UPlusGold, FirstMortgageSevenOneARM, AutoUsed84Months, StudentChoice, AMEXPersonal, FirstMortgageFloat }\",\"pyName in { PlatinumRewardsCard }\",\"pyName in { AutoUsed48Months, HomeOwners, UPlusGold, FirstMortgageSevenOneARM, AutoUsed84Months, StudentChoice, AMEXPersonal, FirstMortgageFloat, AutoUsed36Months, UPlusProductBundles, MasterCardGold, AutoNew84Months, MasterCardWorld, FirstMortgageFiveOneARM }\",\"pyName in { AutoUsed48Months, HomeOwners, UPlusGold, FirstMortgageSevenOneARM, AutoUsed84Months, StudentChoice, AMEXPersonal, FirstMortgageFloat, AutoUsed36Months, UPlusProductBundles, MasterCardGold, AutoNew84Months, MasterCardWorld, FirstMortgageFiveOneARM, FirstMortgage, VisaGold, FirstMortgage30yr, PremiumBanking, IncreaseYourCreditLine, AutoNew60Months, SuperSaver }\",\"pyName in { AutoUsed48Months, HomeOwners, UPlusGold, FirstMortgageSevenOneARM, AutoUsed84Months, StudentChoice, AMEXPersonal, FirstMortgageFloat, AutoUsed36Months, UPlusProductBundles, MasterCardGold, AutoNew84Months, MasterCardWorld, FirstMortgageFiveOneARM }\",\"pyName in { AutoUsed48Months, HomeOwners, UPlusGold }\",\"pyName in { AutoUsed48Months, HomeOwners, UPlusGold, FirstMortgageSevenOneARM, AutoUsed84Months, StudentChoice, AMEXPersonal, FirstMortgageFloat }\",\"pyName in { AutoUsed48Months, HomeOwners, UPlusGold, FirstMortgageSevenOneARM, AutoUsed84Months }\",\"pyName in { PlatinumRewardsCard }\",\"pyName in { CompleteYourCardApplicationToday }\",\"pyName in { AutoUsed48Months, HomeOwners, UPlusGold, FirstMortgageSevenOneARM, AutoUsed84Months, StudentChoice, AMEXPersonal, FirstMortgageFloat, AutoUsed36Months, UPlusProductBundles, MasterCardGold, AutoNew84Months, MasterCardWorld, FirstMortgageFiveOneARM, FirstMortgage, VisaGold, FirstMortgage30yr, PremiumBanking, IncreaseYourCreditLine, AutoNew60Months, SuperSaver, Earn2xRewardsPoints, CompleteYourCardApplicationToday, PlatinumRewardsCard }\",\"pyName in { Earn2xRewardsPoints }\",\"pyName in { PremierChecking }\",\"pyName in { AutoUsed48Months, HomeOwners, UPlusGold, FirstMortgageSevenOneARM, AutoUsed84Months, StudentChoice, AMEXPersonal, FirstMortgageFloat, AutoUsed36Months, UPlusProductBundles, MasterCardGold, AutoNew84Months, MasterCardWorld, FirstMortgageFiveOneARM, FirstMortgage, VisaGold, FirstMortgage30yr, PremiumBanking, IncreaseYourCreditLine, AutoNew60Months, SuperSaver, Earn2xRewardsPoints, CompleteYourCardApplicationToday, PlatinumRewardsCard, CreditMonitoringService, IdentityTheftProtection, PaymentProtection, SignupForRewardsCard, ProsAndConsOfFixedRate, GetAPersonalizedRateQuoteToday, UFixedRateMortgage, IndividualRetirementAccountsIRA, BasicChecking, MoneyMarketSavingsAccount }\",\"pyName in { AutoUsed48Months, HomeOwners, UPlusGold, FirstMortgageSevenOneARM, AutoUsed84Months, StudentChoice, AMEXPersonal, FirstMortgageFloat, AutoUsed36Months, UPlusProductBundles, MasterCardGold, AutoNew84Months, MasterCardWorld, FirstMortgageFiveOneARM, FirstMortgage, VisaGold, FirstMortgage30yr, PremiumBanking, IncreaseYourCreditLine, AutoNew60Months, SuperSaver, Earn2xRewardsPoints, CompleteYourCardApplicationToday, PlatinumRewardsCard }\",\"pyName in { AutoUsed48Months, HomeOwners, UPlusGold, FirstMortgageSevenOneARM, AutoUsed84Months, StudentChoice, AMEXPersonal, FirstMortgageFloat, AutoUsed36Months, UPlusProductBundles, MasterCardGold, AutoNew84Months, MasterCardWorld, FirstMortgageFiveOneARM }\",\"pyName in { PlatinumRewardsCard }\",\"pyName in { AutoUsed48Months, HomeOwners, UPlusGold, FirstMortgageSevenOneARM, AutoUsed84Months, StudentChoice, AMEXPersonal, FirstMortgageFloat, AutoUsed36Months, UPlusProductBundles, MasterCardGold, AutoNew84Months, MasterCardWorld, FirstMortgageFiveOneARM, FirstMortgage, VisaGold, FirstMortgage30yr, PremiumBanking, IncreaseYourCreditLine, AutoNew60Months, SuperSaver, Earn2xRewardsPoints, CompleteYourCardApplicationToday, PlatinumRewardsCard, CreditMonitoringService, IdentityTheftProtection, PaymentProtection, SignupForRewardsCard, ProsAndConsOfFixedRate, GetAPersonalizedRateQuoteToday, UFixedRateMortgage, IndividualRetirementAccountsIRA }\",\"pyName in { AutoUsed48Months, HomeOwners, UPlusGold, FirstMortgageSevenOneARM, AutoUsed84Months, StudentChoice, AMEXPersonal, FirstMortgageFloat, AutoUsed36Months, UPlusProductBundles, MasterCardGold, AutoNew84Months, MasterCardWorld, FirstMortgageFiveOneARM, FirstMortgage, VisaGold, FirstMortgage30yr, PremiumBanking, IncreaseYourCreditLine, AutoNew60Months, SuperSaver, Earn2xRewardsPoints, CompleteYourCardApplicationToday, PlatinumRewardsCard, CreditMonitoringService, IdentityTheftProtection, PaymentProtection, SignupForRewardsCard, ProsAndConsOfFixedRate, GetAPersonalizedRateQuoteToday, UFixedRateMortgage, IndividualRetirementAccountsIRA, BasicChecking, MoneyMarketSavingsAccount }\",\"pyName in { BasicChecking }\",\"pyName in { AutoUsed48Months, HomeOwners, UPlusGold, FirstMortgageSevenOneARM, AutoUsed84Months, StudentChoice, AMEXPersonal, FirstMortgageFloat, AutoUsed36Months, UPlusProductBundles, MasterCardGold, AutoNew84Months, MasterCardWorld, FirstMortgageFiveOneARM, FirstMortgage, VisaGold, FirstMortgage30yr, PremiumBanking, IncreaseYourCreditLine, AutoNew60Months, SuperSaver, Earn2xRewardsPoints, CompleteYourCardApplicationToday, PlatinumRewardsCard, CreditMonitoringService, IdentityTheftProtection, PaymentProtection, SignupForRewardsCard, ProsAndConsOfFixedRate, GetAPersonalizedRateQuoteToday, UFixedRateMortgage, IndividualRetirementAccountsIRA, BasicChecking }\",\"pyName in { AutoUsed48Months, HomeOwners, UPlusGold, FirstMortgageSevenOneARM, AutoUsed84Months, StudentChoice, AMEXPersonal, FirstMortgageFloat, AutoUsed36Months, UPlusProductBundles, MasterCardGold, AutoNew84Months, MasterCardWorld, FirstMortgageFiveOneARM, FirstMortgage, VisaGold, FirstMortgage30yr, PremiumBanking, IncreaseYourCreditLine, AutoNew60Months, SuperSaver, Earn2xRewardsPoints, CompleteYourCardApplicationToday, PlatinumRewardsCard, CreditMonitoringService, IdentityTheftProtection, PaymentProtection, SignupForRewardsCard, ProsAndConsOfFixedRate, GetAPersonalizedRateQuoteToday, UFixedRateMortgage, IndividualRetirementAccountsIRA, BasicChecking }\",\"pyName in { MoneyMarketSavingsAccount }\",\"pyName in { AutoUsed48Months, HomeOwners, UPlusGold, FirstMortgageSevenOneARM, AutoUsed84Months, StudentChoice, AMEXPersonal, FirstMortgageFloat, AutoUsed36Months, UPlusProductBundles, MasterCardGold, AutoNew84Months, MasterCardWorld, FirstMortgageFiveOneARM, FirstMortgage, VisaGold, FirstMortgage30yr, PremiumBanking, IncreaseYourCreditLine, AutoNew60Months, SuperSaver }\",\"pyName in { AutoUsed48Months, HomeOwners, UPlusGold, FirstMortgageSevenOneARM, AutoUsed84Months, StudentChoice, AMEXPersonal, FirstMortgageFloat }\",\"pyName in { AutoUsed48Months, HomeOwners, UPlusGold, FirstMortgageSevenOneARM, AutoUsed84Months, StudentChoice, AMEXPersonal, FirstMortgageFloat, AutoUsed36Months, UPlusProductBundles, MasterCardGold, AutoNew84Months, MasterCardWorld, FirstMortgageFiveOneARM, FirstMortgage, VisaGold, FirstMortgage30yr, PremiumBanking, IncreaseYourCreditLine, AutoNew60Months, SuperSaver, Earn2xRewardsPoints, CompleteYourCardApplicationToday, PlatinumRewardsCard, CreditMonitoringService, IdentityTheftProtection, PaymentProtection, SignupForRewardsCard, ProsAndConsOfFixedRate, GetAPersonalizedRateQuoteToday, UFixedRateMortgage, IndividualRetirementAccountsIRA, BasicChecking, MoneyMarketSavingsAccount }\",\"pyName in { AutoUsed48Months, HomeOwners, UPlusGold, FirstMortgageSevenOneARM, AutoUsed84Months, StudentChoice, AMEXPersonal, FirstMortgageFloat, AutoUsed36Months, UPlusProductBundles, MasterCardGold, AutoNew84Months, MasterCardWorld, FirstMortgageFiveOneARM, FirstMortgage, VisaGold, FirstMortgage30yr, PremiumBanking, IncreaseYourCreditLine, AutoNew60Months, SuperSaver, Earn2xRewardsPoints, CompleteYourCardApplicationToday, PlatinumRewardsCard }\",\"pyName in { AutoUsed48Months, HomeOwners, UPlusGold, FirstMortgageSevenOneARM, AutoUsed84Months, StudentChoice, AMEXPersonal, FirstMortgageFloat, AutoUsed36Months, UPlusProductBundles, MasterCardGold, AutoNew84Months, MasterCardWorld, FirstMortgageFiveOneARM }\",\"pyName in { AutoUsed48Months, HomeOwners, UPlusGold, FirstMortgageSevenOneARM, AutoUsed84Months, StudentChoice, AMEXPersonal, FirstMortgageFloat, AutoUsed36Months, UPlusProductBundles, MasterCardGold, AutoNew84Months, MasterCardWorld, FirstMortgageFiveOneARM, FirstMortgage, VisaGold, FirstMortgage30yr, PremiumBanking, IncreaseYourCreditLine, AutoNew60Months, SuperSaver, Earn2xRewardsPoints, CompleteYourCardApplicationToday, PlatinumRewardsCard, CreditMonitoringService, IdentityTheftProtection, PaymentProtection, SignupForRewardsCard, ProsAndConsOfFixedRate, GetAPersonalizedRateQuoteToday, UFixedRateMortgage, IndividualRetirementAccountsIRA, BasicChecking }\",\"pyName in { AutoUsed48Months, HomeOwners, UPlusGold, FirstMortgageSevenOneARM, AutoUsed84Months, StudentChoice, AMEXPersonal, FirstMortgageFloat, AutoUsed36Months, UPlusProductBundles, MasterCardGold, AutoNew84Months, MasterCardWorld, FirstMortgageFiveOneARM, FirstMortgage, VisaGold, FirstMortgage30yr, PremiumBanking, IncreaseYourCreditLine, AutoNew60Months, SuperSaver, Earn2xRewardsPoints, CompleteYourCardApplicationToday, PlatinumRewardsCard, CreditMonitoringService, IdentityTheftProtection, PaymentProtection, SignupForRewardsCard, ProsAndConsOfFixedRate, GetAPersonalizedRateQuoteToday, UFixedRateMortgage, IndividualRetirementAccountsIRA }\",\"pyName in { PlatinumRewardsCard }\",\"pyName in { MoneyMarketSavingsAccount }\",\"pyName in { AutoUsed48Months, HomeOwners, UPlusGold, FirstMortgageSevenOneARM, AutoUsed84Months, StudentChoice, AMEXPersonal, FirstMortgageFloat, AutoUsed36Months, UPlusProductBundles, MasterCardGold, AutoNew84Months, MasterCardWorld, FirstMortgageFiveOneARM, FirstMortgage, VisaGold, FirstMortgage30yr, PremiumBanking, IncreaseYourCreditLine, AutoNew60Months, SuperSaver }\",\"pyName in { AutoUsed48Months, HomeOwners, UPlusGold, FirstMortgageSevenOneARM, AutoUsed84Months, StudentChoice, AMEXPersonal, FirstMortgageFloat, AutoUsed36Months, UPlusProductBundles, MasterCardGold, AutoNew84Months, MasterCardWorld, FirstMortgageFiveOneARM, FirstMortgage, VisaGold, FirstMortgage30yr, PremiumBanking, IncreaseYourCreditLine, AutoNew60Months, SuperSaver, Earn2xRewardsPoints, CompleteYourCardApplicationToday, PlatinumRewardsCard, CreditMonitoringService }\",\"pyName in { PremierChecking }\",\"pyName in { AutoUsed48Months, HomeOwners, UPlusGold, FirstMortgageSevenOneARM, AutoUsed84Months, StudentChoice, AMEXPersonal, FirstMortgageFloat }\",\"pyName in { AutoUsed48Months, HomeOwners, UPlusGold, FirstMortgageSevenOneARM, AutoUsed84Months, StudentChoice, AMEXPersonal, FirstMortgageFloat, AutoUsed36Months, UPlusProductBundles, MasterCardGold, AutoNew84Months, MasterCardWorld, FirstMortgageFiveOneARM, FirstMortgage, VisaGold, FirstMortgage30yr, PremiumBanking, IncreaseYourCreditLine, AutoNew60Months, SuperSaver, Earn2xRewardsPoints, CompleteYourCardApplicationToday, PlatinumRewardsCard, CreditMonitoringService, IdentityTheftProtection, PaymentProtection, SignupForRewardsCard, ProsAndConsOfFixedRate, GetAPersonalizedRateQuoteToday, UFixedRateMortgage, IndividualRetirementAccountsIRA, BasicChecking, MoneyMarketSavingsAccount, PremierChecking }\",\"pyName in { AutoUsed48Months, HomeOwners, UPlusGold, FirstMortgageSevenOneARM, AutoUsed84Months, StudentChoice, AMEXPersonal, FirstMortgageFloat, AutoUsed36Months, UPlusProductBundles, MasterCardGold, AutoNew84Months, MasterCardWorld, FirstMortgageFiveOneARM, FirstMortgage, VisaGold, FirstMortgage30yr, PremiumBanking, IncreaseYourCreditLine, AutoNew60Months, SuperSaver, Earn2xRewardsPoints, CompleteYourCardApplicationToday, PlatinumRewardsCard, CreditMonitoringService, IdentityTheftProtection, PaymentProtection, SignupForRewardsCard, ProsAndConsOfFixedRate, GetAPersonalizedRateQuoteToday, UFixedRateMortgage, IndividualRetirementAccountsIRA, BasicChecking }\",\"pyName in { AutoUsed48Months, HomeOwners, UPlusGold, FirstMortgageSevenOneARM, AutoUsed84Months, StudentChoice, AMEXPersonal, FirstMortgageFloat, AutoUsed36Months, UPlusProductBundles, MasterCardGold, AutoNew84Months, MasterCardWorld, FirstMortgageFiveOneARM, FirstMortgage, VisaGold, FirstMortgage30yr, PremiumBanking, IncreaseYourCreditLine, AutoNew60Months, SuperSaver, Earn2xRewardsPoints, CompleteYourCardApplicationToday, PlatinumRewardsCard, CreditMonitoringService, IdentityTheftProtection, PaymentProtection, SignupForRewardsCard }\",\"pyName in { AutoUsed48Months, HomeOwners, UPlusGold, FirstMortgageSevenOneARM, AutoUsed84Months, StudentChoice, AMEXPersonal, FirstMortgageFloat, AutoUsed36Months, UPlusProductBundles, MasterCardGold, AutoNew84Months, MasterCardWorld, FirstMortgageFiveOneARM, FirstMortgage, VisaGold, FirstMortgage30yr, PremiumBanking, IncreaseYourCreditLine, AutoNew60Months, SuperSaver, Earn2xRewardsPoints, CompleteYourCardApplicationToday, PlatinumRewardsCard, CreditMonitoringService, IdentityTheftProtection, PaymentProtection, SignupForRewardsCard, ProsAndConsOfFixedRate, GetAPersonalizedRateQuoteToday, UFixedRateMortgage, IndividualRetirementAccountsIRA, BasicChecking }\",\"pyName in { AutoUsed48Months, HomeOwners, UPlusGold, FirstMortgageSevenOneARM, AutoUsed84Months, StudentChoice, AMEXPersonal, FirstMortgageFloat, AutoUsed36Months, UPlusProductBundles, MasterCardGold }\",\"pyName in { AutoUsed48Months, HomeOwners, UPlusGold, FirstMortgageSevenOneARM, AutoUsed84Months, StudentChoice, AMEXPersonal, FirstMortgageFloat }\",\"pyName in { AutoUsed48Months, HomeOwners, UPlusGold, FirstMortgageSevenOneARM, AutoUsed84Months, StudentChoice, AMEXPersonal, FirstMortgageFloat, AutoUsed36Months, UPlusProductBundles, MasterCardGold, AutoNew84Months }\",\"pyName in { AutoUsed48Months, HomeOwners, UPlusGold, FirstMortgageSevenOneARM, AutoUsed84Months, StudentChoice }\",\"pyName in { AutoUsed48Months, HomeOwners, UPlusGold, FirstMortgageSevenOneARM, AutoUsed84Months, StudentChoice, AMEXPersonal, FirstMortgageFloat, AutoUsed36Months, UPlusProductBundles, MasterCardGold }\",\"pyName in { AutoUsed48Months, HomeOwners, UPlusGold, FirstMortgageSevenOneARM, AutoUsed84Months }\",\"pyName in { AutoUsed48Months, HomeOwners, UPlusGold, FirstMortgageSevenOneARM, AutoUsed84Months, StudentChoice, AMEXPersonal, FirstMortgageFloat, AutoUsed36Months, UPlusProductBundles, MasterCardGold, AutoNew84Months, MasterCardWorld, FirstMortgageFiveOneARM, FirstMortgage, VisaGold, FirstMortgage30yr, PremiumBanking, IncreaseYourCreditLine, AutoNew60Months, SuperSaver, Earn2xRewardsPoints }\",\"pyName in { AutoUsed48Months, HomeOwners, UPlusGold, FirstMortgageSevenOneARM, AutoUsed84Months, StudentChoice, AMEXPersonal, FirstMortgageFloat, AutoUsed36Months, UPlusProductBundles, MasterCardGold, AutoNew84Months, MasterCardWorld, FirstMortgageFiveOneARM, FirstMortgage, VisaGold, FirstMortgage30yr, PremiumBanking, IncreaseYourCreditLine, AutoNew60Months, SuperSaver, Earn2xRewardsPoints, CompleteYourCardApplicationToday, PlatinumRewardsCard, CreditMonitoringService, IdentityTheftProtection, PaymentProtection, SignupForRewardsCard, ProsAndConsOfFixedRate, GetAPersonalizedRateQuoteToday, UFixedRateMortgage, IndividualRetirementAccountsIRA, BasicChecking, MoneyMarketSavingsAccount }\",\"pyName in { BasicChecking }\",\"pyName in { AutoUsed48Months, HomeOwners, UPlusGold, FirstMortgageSevenOneARM, AutoUsed84Months, StudentChoice, AMEXPersonal, FirstMortgageFloat }\",\"pyName in { AutoUsed48Months, HomeOwners, UPlusGold, FirstMortgageSevenOneARM, AutoUsed84Months, StudentChoice, AMEXPersonal, FirstMortgageFloat, AutoUsed36Months, UPlusProductBundles, MasterCardGold, AutoNew84Months, MasterCardWorld, FirstMortgageFiveOneARM, FirstMortgage, VisaGold, FirstMortgage30yr, PremiumBanking, IncreaseYourCreditLine, AutoNew60Months, SuperSaver, Earn2xRewardsPoints }\",\"pyName in { AutoUsed48Months, HomeOwners, UPlusGold, FirstMortgageSevenOneARM, AutoUsed84Months, StudentChoice, AMEXPersonal, FirstMortgageFloat, AutoUsed36Months, UPlusProductBundles, MasterCardGold, AutoNew84Months, MasterCardWorld, FirstMortgageFiveOneARM, FirstMortgage, VisaGold, FirstMortgage30yr, PremiumBanking, IncreaseYourCreditLine, AutoNew60Months, SuperSaver, Earn2xRewardsPoints, CompleteYourCardApplicationToday, PlatinumRewardsCard, CreditMonitoringService }\",\"pyName in { AutoUsed48Months, HomeOwners, UPlusGold, FirstMortgageSevenOneARM, AutoUsed84Months, StudentChoice, AMEXPersonal, FirstMortgageFloat, AutoUsed36Months, UPlusProductBundles, MasterCardGold, AutoNew84Months, MasterCardWorld }\",\"pyName in { BasicChecking }\",\"pyName in { PremierChecking }\",\"pyName in { AutoUsed48Months, HomeOwners, UPlusGold, FirstMortgageSevenOneARM, AutoUsed84Months, StudentChoice, AMEXPersonal, FirstMortgageFloat, AutoUsed36Months, UPlusProductBundles, MasterCardGold, AutoNew84Months, MasterCardWorld, FirstMortgageFiveOneARM, FirstMortgage, VisaGold, FirstMortgage30yr, PremiumBanking, IncreaseYourCreditLine, AutoNew60Months, SuperSaver, Earn2xRewardsPoints, CompleteYourCardApplicationToday, PlatinumRewardsCard, CreditMonitoringService, IdentityTheftProtection, PaymentProtection, SignupForRewardsCard, ProsAndConsOfFixedRate, GetAPersonalizedRateQuoteToday, UFixedRateMortgage, IndividualRetirementAccountsIRA }\",\"pyName in { AutoUsed48Months, HomeOwners, UPlusGold, FirstMortgageSevenOneARM, AutoUsed84Months, StudentChoice, AMEXPersonal, FirstMortgageFloat, AutoUsed36Months, UPlusProductBundles, MasterCardGold, AutoNew84Months, MasterCardWorld, FirstMortgageFiveOneARM, FirstMortgage, VisaGold, FirstMortgage30yr, PremiumBanking, IncreaseYourCreditLine, AutoNew60Months, SuperSaver, Earn2xRewardsPoints, CompleteYourCardApplicationToday, PlatinumRewardsCard, CreditMonitoringService, IdentityTheftProtection, PaymentProtection, SignupForRewardsCard, ProsAndConsOfFixedRate, GetAPersonalizedRateQuoteToday, UFixedRateMortgage, IndividualRetirementAccountsIRA, BasicChecking }\",\"pyName in { AutoUsed48Months, HomeOwners, UPlusGold, FirstMortgageSevenOneARM, AutoUsed84Months, StudentChoice, AMEXPersonal, FirstMortgageFloat }\",\"pyName in { BasicChecking }\",\"pyName in { AutoUsed48Months, HomeOwners, UPlusGold, FirstMortgageSevenOneARM, AutoUsed84Months, StudentChoice, AMEXPersonal, FirstMortgageFloat, AutoUsed36Months, UPlusProductBundles, MasterCardGold, AutoNew84Months, MasterCardWorld, FirstMortgageFiveOneARM, FirstMortgage, VisaGold, FirstMortgage30yr, PremiumBanking, IncreaseYourCreditLine, AutoNew60Months, SuperSaver, Earn2xRewardsPoints, CompleteYourCardApplicationToday, PlatinumRewardsCard, CreditMonitoringService, IdentityTheftProtection, PaymentProtection, SignupForRewardsCard, ProsAndConsOfFixedRate, GetAPersonalizedRateQuoteToday, UFixedRateMortgage, IndividualRetirementAccountsIRA, BasicChecking, MoneyMarketSavingsAccount }\",\"pyName in { BasicChecking }\",\"pyName in { AutoUsed48Months, HomeOwners, UPlusGold, FirstMortgageSevenOneARM, AutoUsed84Months, StudentChoice, AMEXPersonal, FirstMortgageFloat, AutoUsed36Months, UPlusProductBundles, MasterCardGold, AutoNew84Months, MasterCardWorld, FirstMortgageFiveOneARM, FirstMortgage, VisaGold, FirstMortgage30yr, PremiumBanking, IncreaseYourCreditLine, AutoNew60Months, SuperSaver, Earn2xRewardsPoints, CompleteYourCardApplicationToday, PlatinumRewardsCard, CreditMonitoringService, IdentityTheftProtection, PaymentProtection, SignupForRewardsCard, ProsAndConsOfFixedRate, GetAPersonalizedRateQuoteToday, UFixedRateMortgage, IndividualRetirementAccountsIRA }\",\"pyName in { AutoUsed48Months, HomeOwners, UPlusGold, FirstMortgageSevenOneARM, AutoUsed84Months, StudentChoice, AMEXPersonal, FirstMortgageFloat, AutoUsed36Months, UPlusProductBundles, MasterCardGold, AutoNew84Months, MasterCardWorld, FirstMortgageFiveOneARM, FirstMortgage, VisaGold, FirstMortgage30yr, PremiumBanking, IncreaseYourCreditLine, AutoNew60Months, SuperSaver, Earn2xRewardsPoints, CompleteYourCardApplicationToday, PlatinumRewardsCard, CreditMonitoringService, IdentityTheftProtection, PaymentProtection, SignupForRewardsCard, ProsAndConsOfFixedRate, GetAPersonalizedRateQuoteToday, UFixedRateMortgage, IndividualRetirementAccountsIRA }\",\"pyName in { PremierChecking }\",\"pyName in { AutoUsed48Months, HomeOwners, UPlusGold, FirstMortgageSevenOneARM, AutoUsed84Months, StudentChoice, AMEXPersonal, FirstMortgageFloat, AutoUsed36Months, UPlusProductBundles, MasterCardGold, AutoNew84Months, MasterCardWorld, FirstMortgageFiveOneARM, FirstMortgage, VisaGold, FirstMortgage30yr, PremiumBanking, IncreaseYourCreditLine, AutoNew60Months, SuperSaver, Earn2xRewardsPoints, CompleteYourCardApplicationToday, PlatinumRewardsCard }\",\"pyName in { BasicChecking }\",\"pyName in { AutoUsed48Months, HomeOwners, UPlusGold, FirstMortgageSevenOneARM, AutoUsed84Months, StudentChoice, AMEXPersonal, FirstMortgageFloat, AutoUsed36Months, UPlusProductBundles, MasterCardGold, AutoNew84Months, MasterCardWorld, FirstMortgageFiveOneARM, FirstMortgage, VisaGold, FirstMortgage30yr, PremiumBanking, IncreaseYourCreditLine, AutoNew60Months, SuperSaver, Earn2xRewardsPoints, CompleteYourCardApplicationToday, PlatinumRewardsCard, CreditMonitoringService, IdentityTheftProtection, PaymentProtection, SignupForRewardsCard, ProsAndConsOfFixedRate, GetAPersonalizedRateQuoteToday, UFixedRateMortgage, IndividualRetirementAccountsIRA }\",\"pyName in { BasicChecking }\",\"pyName in { AutoUsed48Months, HomeOwners, UPlusGold, FirstMortgageSevenOneARM, AutoUsed84Months, StudentChoice, AMEXPersonal, FirstMortgageFloat }\",\"pyName in { AutoUsed48Months, HomeOwners, UPlusGold, FirstMortgageSevenOneARM, AutoUsed84Months, StudentChoice, AMEXPersonal, FirstMortgageFloat, AutoUsed36Months, UPlusProductBundles, MasterCardGold, AutoNew84Months, MasterCardWorld, FirstMortgageFiveOneARM, FirstMortgage, VisaGold, FirstMortgage30yr, PremiumBanking, IncreaseYourCreditLine, AutoNew60Months, SuperSaver, Earn2xRewardsPoints, CompleteYourCardApplicationToday, PlatinumRewardsCard, CreditMonitoringService, IdentityTheftProtection, PaymentProtection, SignupForRewardsCard, ProsAndConsOfFixedRate, GetAPersonalizedRateQuoteToday, UFixedRateMortgage, IndividualRetirementAccountsIRA, BasicChecking }\",\"pyName in { AutoUsed48Months, HomeOwners, UPlusGold, FirstMortgageSevenOneARM, AutoUsed84Months, StudentChoice, AMEXPersonal, FirstMortgageFloat, AutoUsed36Months, UPlusProductBundles, MasterCardGold, AutoNew84Months, MasterCardWorld, FirstMortgageFiveOneARM, FirstMortgage, VisaGold, FirstMortgage30yr, PremiumBanking, IncreaseYourCreditLine, AutoNew60Months, SuperSaver, Earn2xRewardsPoints, CompleteYourCardApplicationToday, PlatinumRewardsCard, CreditMonitoringService, IdentityTheftProtection, PaymentProtection, SignupForRewardsCard, ProsAndConsOfFixedRate, GetAPersonalizedRateQuoteToday, UFixedRateMortgage, IndividualRetirementAccountsIRA, BasicChecking }\",\"pyName in { AutoUsed48Months, HomeOwners, UPlusGold, FirstMortgageSevenOneARM, AutoUsed84Months, StudentChoice, AMEXPersonal, FirstMortgageFloat, AutoUsed36Months, UPlusProductBundles, MasterCardGold, AutoNew84Months, MasterCardWorld, FirstMortgageFiveOneARM, FirstMortgage, VisaGold, FirstMortgage30yr, PremiumBanking, IncreaseYourCreditLine, AutoNew60Months, SuperSaver, Earn2xRewardsPoints, CompleteYourCardApplicationToday }\",\"pyName in { AutoUsed48Months, HomeOwners, UPlusGold, FirstMortgageSevenOneARM, AutoUsed84Months, StudentChoice, AMEXPersonal, FirstMortgageFloat, AutoUsed36Months, UPlusProductBundles, MasterCardGold }\",\"pyName in { AutoUsed48Months, HomeOwners, UPlusGold, FirstMortgageSevenOneARM, AutoUsed84Months, StudentChoice, AMEXPersonal, FirstMortgageFloat, AutoUsed36Months, UPlusProductBundles, MasterCardGold, AutoNew84Months, MasterCardWorld, FirstMortgageFiveOneARM, FirstMortgage, VisaGold, FirstMortgage30yr, PremiumBanking, IncreaseYourCreditLine, AutoNew60Months, SuperSaver, Earn2xRewardsPoints, CompleteYourCardApplicationToday, PlatinumRewardsCard, CreditMonitoringService, IdentityTheftProtection, PaymentProtection, SignupForRewardsCard, ProsAndConsOfFixedRate, GetAPersonalizedRateQuoteToday, UFixedRateMortgage, IndividualRetirementAccountsIRA }\",\"pyName in { AutoUsed48Months, HomeOwners, UPlusGold, FirstMortgageSevenOneARM, AutoUsed84Months, StudentChoice, AMEXPersonal, FirstMortgageFloat, AutoUsed36Months, UPlusProductBundles, MasterCardGold, AutoNew84Months, MasterCardWorld, FirstMortgageFiveOneARM, FirstMortgage, VisaGold, FirstMortgage30yr, PremiumBanking }\",\"pyName in { AutoUsed48Months, HomeOwners, UPlusGold, FirstMortgageSevenOneARM, AutoUsed84Months, StudentChoice, AMEXPersonal, FirstMortgageFloat, AutoUsed36Months, UPlusProductBundles, MasterCardGold, AutoNew84Months, MasterCardWorld, FirstMortgageFiveOneARM, FirstMortgage, VisaGold, FirstMortgage30yr, PremiumBanking }\",\"pyName in { AutoUsed48Months, HomeOwners, UPlusGold, FirstMortgageSevenOneARM, AutoUsed84Months, StudentChoice, AMEXPersonal, FirstMortgageFloat, AutoUsed36Months, UPlusProductBundles, MasterCardGold, AutoNew84Months, MasterCardWorld, FirstMortgageFiveOneARM, FirstMortgage, VisaGold, FirstMortgage30yr, PremiumBanking, IncreaseYourCreditLine, AutoNew60Months, SuperSaver, Earn2xRewardsPoints, CompleteYourCardApplicationToday, PlatinumRewardsCard, CreditMonitoringService, IdentityTheftProtection, PaymentProtection, SignupForRewardsCard, ProsAndConsOfFixedRate, GetAPersonalizedRateQuoteToday, UFixedRateMortgage, IndividualRetirementAccountsIRA, BasicChecking }\",\"pyName in { RegularSaving }\",\"pyName in { AutoUsed48Months, HomeOwners, UPlusGold, FirstMortgageSevenOneARM, AutoUsed84Months, StudentChoice }\",\"pyName in { AutoUsed48Months, HomeOwners, UPlusGold }\",\"pyName in { AutoUsed48Months, HomeOwners, UPlusGold, FirstMortgageSevenOneARM, AutoUsed84Months, StudentChoice, AMEXPersonal, FirstMortgageFloat, AutoUsed36Months, UPlusProductBundles, MasterCardGold, AutoNew84Months, MasterCardWorld, FirstMortgageFiveOneARM, FirstMortgage, VisaGold, FirstMortgage30yr, PremiumBanking, IncreaseYourCreditLine, AutoNew60Months, SuperSaver, Earn2xRewardsPoints, CompleteYourCardApplicationToday, PlatinumRewardsCard, CreditMonitoringService, IdentityTheftProtection, PaymentProtection, SignupForRewardsCard, ProsAndConsOfFixedRate, GetAPersonalizedRateQuoteToday, UFixedRateMortgage, IndividualRetirementAccountsIRA, BasicChecking }\",\"pyName in { AutoUsed48Months, HomeOwners, UPlusGold, FirstMortgageSevenOneARM, AutoUsed84Months, StudentChoice, AMEXPersonal, FirstMortgageFloat, AutoUsed36Months, UPlusProductBundles, MasterCardGold, AutoNew84Months, MasterCardWorld, FirstMortgageFiveOneARM, FirstMortgage, VisaGold, FirstMortgage30yr, PremiumBanking, IncreaseYourCreditLine, AutoNew60Months, SuperSaver, Earn2xRewardsPoints }\",\"pyName in { AutoUsed48Months, HomeOwners, UPlusGold, FirstMortgageSevenOneARM, AutoUsed84Months, StudentChoice, AMEXPersonal, FirstMortgageFloat, AutoUsed36Months, UPlusProductBundles, MasterCardGold, AutoNew84Months, MasterCardWorld, FirstMortgageFiveOneARM, FirstMortgage, VisaGold, FirstMortgage30yr, PremiumBanking, IncreaseYourCreditLine, AutoNew60Months, SuperSaver, Earn2xRewardsPoints, CompleteYourCardApplicationToday, PlatinumRewardsCard, CreditMonitoringService, IdentityTheftProtection, PaymentProtection, SignupForRewardsCard }\",\"pyName in { BasicChecking }\",\"pyName in { AutoUsed48Months, HomeOwners, UPlusGold, FirstMortgageSevenOneARM, AutoUsed84Months, StudentChoice, AMEXPersonal, FirstMortgageFloat, AutoUsed36Months, UPlusProductBundles, MasterCardGold, AutoNew84Months, MasterCardWorld, FirstMortgageFiveOneARM, FirstMortgage, VisaGold, FirstMortgage30yr, PremiumBanking, IncreaseYourCreditLine, AutoNew60Months, SuperSaver, Earn2xRewardsPoints, CompleteYourCardApplicationToday, PlatinumRewardsCard, CreditMonitoringService, IdentityTheftProtection, PaymentProtection, SignupForRewardsCard, ProsAndConsOfFixedRate, GetAPersonalizedRateQuoteToday, UFixedRateMortgage, IndividualRetirementAccountsIRA, BasicChecking, MoneyMarketSavingsAccount }\",\"pyName in { BasicChecking }\"],\"y\":[177.06452444184106,1102.5569535281247,3.6481238156120526,1.6873688671912532,3.1688615932943094,3.8574147273066046,287.8229245903676,178.62163050995878,75.70432463147881,1.0203688215915463,5.092834189408677,2.7378548498081727,153.07575781542664,210.49552249998487,95.26273672503521,382.4627188934064,9.596203814322507,4.060899436336513,295.8118142685307,362.75066416091613,2.4900432550430196,2.8514170962021126,1.1383543612426195,1.5759842866683051,2.873889426417861,3.162109796565005,1.006333538245329,4.064885671698676,6.919610154458631,1.5743846390001497,1.6476614538545036,45.99242939036367,9.616098752785406,12.943582646380154,6.429266214471926,4.475374442089105,0.14952302197207246,0.6372108340453764,4.983792660766231,3.8663223677352185,1.6360169234637993,2.282627922008741,0.9064202018091567,4.647040610692898,2.8328481771299323,3.8420975795692556,7.870450769741183,5.6334718368023005,0.4472225353423376,0.7600011525692967,4.482489258963413,2.196373778252159,1.2612278463927566,1.255509452058166,97.98286911227228,2.1810831546240674,4.146391931954543,0.7975743405689748,8.907996137040755,1.9946537211288642,4.511080087214069,7.855379219688735,8.08071506069297,3.397155226337251,1.0686832679201501,0.5457715548694466,11.522214697258114,3.2921291959934944,4.289088658640963,1.1739736280732709,1.7977754776315267,1.3682030643318512,3.3805026762545936,33.65221505437064,1.577244175774922,1.20431043218581,8.066739934635004,1.7142716563721698,2.4483408630401153,4.903114150998753,0.1307567338608825,17.017860072367327,4.058702505634272,0.3289936975186331,3.5072923989686884,2.605325226411256,4.37454592039858,2.485323359210069,6.790366079927382,4.475860528369765,0.9637947751054786,1.3164079126111308,0.509298890798212,4.6846238760603605,5.520981037845599,15.175538821217305,1.945262146346959,1.5702906288925194,1.212566771437091,2.172846465526843,4.336224818940858,2.2735093896682805,3.5800232168384305,13.200828206770765,5.553548490276122,0.5436028643643276,2.200146042260002,0.42809162232449305,1.6406163363446284,0.39004566215568615,0.37026653396755443,0.36454509669517343,0.38603695286846634,0.0902456950408943,3.030214858871312,7.847668155400846,3.7442613480029285,2.8839058059210436,0.6014930785006428,2.3606924456121368,0.24682934493679864,7.187209793630711,3.313145473172801,0.2011333357856474,2.3747662183633436,0.3351824098172166,4.447066487875036,0.5190437424121881,0.15241986888577197,4.523167643221856,2.660518507941457,1.3826212911563671,1.5400141120154214,6.283780981710258,2.406949691563034,3.373583287441383,3.163033742100835,1.9213352149773468,3.1704949368294333,0.5523837329540856,0.3963939954475171,1.1995280873151644,0.8348857067507148,0.9379605922454006,2.9354563489982577,0.3159084729873508,0.05303719297405097,1.9676316599416666,0.16437811871496136,0.5403992472934336,1.9021289759952187,6.957096765237166,1.05533560593415,2.3243343867670325,0.7620946634003952,4.6485406055006555,5.372941754883752,0.8922914255304392,2.5772544690553105,4.105800656467952,4.491133803674835,2.2352313269382456,2.488174762465315,1.9142948024814734,1.1306195032064006,0.8466846812104514,0.06040405349505251,1.4416923755709867,0.0250597887349516,1.8965824458219078,2.7700623575455015,4.7357184453372,1.8815696157536745,2.1735731640396163,0.32275283486400985,4.424066595777644,2.618456408038428,0.4311672349474625,0.4704761265441776,1.9568344726878055,1.3297234361693462,1.5028731628734864,2.137290907323567],\"type\":\"box\"},{\"mode\":\"lines+markers\",\"name\":\"Number of splits\",\"x\":[\"pyName in { AutoUsed48Months, HomeOwners, UPlusGold, FirstMortgageSevenOneARM, AutoUsed84Months, StudentChoice, AMEXPersonal, FirstMortgageFloat, AutoUsed36Months, UPlusProductBundles, MasterCardGold, AutoNew84Months, MasterCardWorld, FirstMortgageFiveOneARM, FirstMortgage, VisaGold, FirstMortgage30yr, PremiumBanking, IncreaseYourCreditLine, AutoNew60Months, SuperSaver, Earn2xRewardsPoints, CompleteYourCardApplicationToday, PlatinumRewardsCard, CreditMonitoringService, IdentityTheftProtection, PaymentProtection, SignupForRewardsCard, ProsAndConsOfFixedRate, GetAPersonalizedRateQuoteToday, UFixedRateMortgage, IndividualRetirementAccountsIRA, BasicChecking, MoneyMarketSavingsAccount, PremierChecking }\",\"pyName in { AutoUsed48Months, HomeOwners, UPlusGold, FirstMortgageSevenOneARM, AutoUsed84Months, StudentChoice, AMEXPersonal, FirstMortgageFloat, AutoUsed36Months, UPlusProductBundles, MasterCardGold, AutoNew84Months, MasterCardWorld, FirstMortgageFiveOneARM, FirstMortgage, VisaGold, FirstMortgage30yr, PremiumBanking, IncreaseYourCreditLine, AutoNew60Months, SuperSaver, Earn2xRewardsPoints, CompleteYourCardApplicationToday, PlatinumRewardsCard, CreditMonitoringService, IdentityTheftProtection, PaymentProtection, SignupForRewardsCard, ProsAndConsOfFixedRate, GetAPersonalizedRateQuoteToday, UFixedRateMortgage, IndividualRetirementAccountsIRA }\",\"pyName in { UPlusGold }\",\"pyName in { AutoUsed48Months, HomeOwners, UPlusGold, FirstMortgageSevenOneARM, AutoUsed84Months, StudentChoice, AMEXPersonal, FirstMortgageFloat, AutoUsed36Months, UPlusProductBundles, MasterCardGold, AutoNew84Months, MasterCardWorld, FirstMortgageFiveOneARM, FirstMortgage, VisaGold, FirstMortgage30yr, PremiumBanking, IncreaseYourCreditLine, AutoNew60Months, SuperSaver, Earn2xRewardsPoints, CompleteYourCardApplicationToday, PlatinumRewardsCard }\",\"pyName in { BasicChecking }\",\"pyName in { AutoUsed48Months, HomeOwners, UPlusGold, FirstMortgageSevenOneARM, AutoUsed84Months, StudentChoice, AMEXPersonal, FirstMortgageFloat, AutoUsed36Months, UPlusProductBundles, MasterCardGold, AutoNew84Months, MasterCardWorld, FirstMortgageFiveOneARM, FirstMortgage, VisaGold, FirstMortgage30yr, PremiumBanking, IncreaseYourCreditLine, AutoNew60Months, SuperSaver, Earn2xRewardsPoints, CompleteYourCardApplicationToday, PlatinumRewardsCard, CreditMonitoringService, IdentityTheftProtection, PaymentProtection, SignupForRewardsCard, ProsAndConsOfFixedRate, GetAPersonalizedRateQuoteToday, UFixedRateMortgage, IndividualRetirementAccountsIRA, BasicChecking, MoneyMarketSavingsAccount }\",\"pyName in { MoneyMarketSavingsAccount }\",\"pyName in { AutoUsed48Months, HomeOwners, UPlusGold, FirstMortgageSevenOneARM, AutoUsed84Months, StudentChoice, AMEXPersonal, FirstMortgageFloat, AutoUsed36Months, UPlusProductBundles, MasterCardGold, AutoNew84Months, MasterCardWorld, FirstMortgageFiveOneARM, FirstMortgage, VisaGold, FirstMortgage30yr, PremiumBanking, IncreaseYourCreditLine, AutoNew60Months, SuperSaver, Earn2xRewardsPoints, CompleteYourCardApplicationToday, PlatinumRewardsCard, CreditMonitoringService, IdentityTheftProtection, PaymentProtection, SignupForRewardsCard, ProsAndConsOfFixedRate, GetAPersonalizedRateQuoteToday, UFixedRateMortgage }\",\"pyName in { UPlusProductBundles }\",\"pyName in { PremierChecking }\",\"pyName in { AMEXPersonal }\",\"pyName in { AutoUsed48Months, HomeOwners, UPlusGold, FirstMortgageSevenOneARM }\",\"pyName in { PlatinumRewardsCard }\",\"pyName in { FirstMortgageFiveOneARM }\",\"pyName in { CompleteYourCardApplicationToday }\",\"pyName in { SeniorChecking }\",\"pyName in { AutoUsed48Months, HomeOwners, UPlusGold, FirstMortgageSevenOneARM, AutoUsed84Months, StudentChoice, AMEXPersonal, FirstMortgageFloat, AutoUsed36Months, UPlusProductBundles, MasterCardGold, AutoNew84Months, MasterCardWorld, FirstMortgageFiveOneARM, FirstMortgage, VisaGold, FirstMortgage30yr, PremiumBanking, IncreaseYourCreditLine, AutoNew60Months, SuperSaver, Earn2xRewardsPoints, CompleteYourCardApplicationToday, PlatinumRewardsCard, CreditMonitoringService, IdentityTheftProtection, PaymentProtection, SignupForRewardsCard, ProsAndConsOfFixedRate, GetAPersonalizedRateQuoteToday, UFixedRateMortgage, IndividualRetirementAccountsIRA, BasicChecking }\",\"pyName in { StudentChoice }\",\"pyName in { AutoUsed48Months, HomeOwners, UPlusGold, FirstMortgageSevenOneARM, AutoUsed84Months, StudentChoice, AMEXPersonal, FirstMortgageFloat, AutoUsed36Months, UPlusProductBundles, MasterCardGold, AutoNew84Months, MasterCardWorld, FirstMortgageFiveOneARM, FirstMortgage, VisaGold, FirstMortgage30yr, PremiumBanking, IncreaseYourCreditLine }\",\"pyName in { FirstMortgageSevenOneARM }\",\"pyName in { AutoUsed48Months, HomeOwners, UPlusGold }\",\"pyName in { AutoUsed48Months, HomeOwners }\",\"pyName in { AutoUsed48Months, HomeOwners, UPlusGold, FirstMortgageSevenOneARM, AutoUsed84Months, StudentChoice }\",\"pyName in { AutoUsed48Months, HomeOwners, UPlusGold, FirstMortgageSevenOneARM, AutoUsed84Months, StudentChoice, AMEXPersonal, FirstMortgageFloat, AutoUsed36Months, UPlusProductBundles, MasterCardGold }\",\"pyName in { AutoUsed48Months, HomeOwners, UPlusGold, FirstMortgageSevenOneARM, AutoUsed84Months, StudentChoice, AMEXPersonal, FirstMortgageFloat }\",\"pyName in { Earn2xRewardsPoints }\",\"pyName in { AutoUsed48Months, HomeOwners, UPlusGold, FirstMortgageSevenOneARM, AutoUsed84Months, StudentChoice, AMEXPersonal, FirstMortgageFloat, AutoUsed36Months }\",\"pyName in { AutoUsed48Months, HomeOwners, UPlusGold, FirstMortgageSevenOneARM, AutoUsed84Months, StudentChoice, AMEXPersonal, FirstMortgageFloat, AutoUsed36Months, UPlusProductBundles, MasterCardGold, AutoNew84Months, MasterCardWorld, FirstMortgageFiveOneARM, FirstMortgage, VisaGold, FirstMortgage30yr, PremiumBanking, IncreaseYourCreditLine, AutoNew60Months, SuperSaver, Earn2xRewardsPoints, CompleteYourCardApplicationToday }\",\"pyName in { AutoUsed48Months, HomeOwners, UPlusGold, FirstMortgageSevenOneARM, AutoUsed84Months, StudentChoice, AMEXPersonal, FirstMortgageFloat, AutoUsed36Months, UPlusProductBundles, MasterCardGold, AutoNew84Months, MasterCardWorld, FirstMortgageFiveOneARM, FirstMortgage, VisaGold, FirstMortgage30yr, PremiumBanking, IncreaseYourCreditLine, AutoNew60Months, SuperSaver, Earn2xRewardsPoints }\",\"pyName in { AutoUsed48Months, HomeOwners, UPlusGold, FirstMortgageSevenOneARM, AutoUsed84Months, StudentChoice, AMEXPersonal, FirstMortgageFloat, AutoUsed36Months, UPlusProductBundles, MasterCardGold, AutoNew84Months, MasterCardWorld, FirstMortgageFiveOneARM }\",\"pyName in { AutoUsed48Months, HomeOwners, UPlusGold, FirstMortgageSevenOneARM, AutoUsed84Months, StudentChoice, AMEXPersonal, FirstMortgageFloat, AutoUsed36Months, UPlusProductBundles, MasterCardGold, AutoNew84Months, MasterCardWorld, FirstMortgageFiveOneARM, FirstMortgage, VisaGold, FirstMortgage30yr, PremiumBanking, IncreaseYourCreditLine, AutoNew60Months, SuperSaver }\",\"pyName in { AutoUsed48Months, HomeOwners, UPlusGold, FirstMortgageSevenOneARM, AutoUsed84Months }\",\"pyName in { AutoUsed48Months, HomeOwners, UPlusGold, FirstMortgageSevenOneARM, AutoUsed84Months, StudentChoice, AMEXPersonal, FirstMortgageFloat, AutoUsed36Months, UPlusProductBundles, MasterCardGold, AutoNew84Months, MasterCardWorld, FirstMortgageFiveOneARM, FirstMortgage, VisaGold, FirstMortgage30yr, PremiumBanking, IncreaseYourCreditLine, AutoNew60Months, SuperSaver, Earn2xRewardsPoints, CompleteYourCardApplicationToday, PlatinumRewardsCard, CreditMonitoringService }\",\"pyName in { AutoUsed48Months, HomeOwners, UPlusGold, FirstMortgageSevenOneARM, AutoUsed84Months, StudentChoice, AMEXPersonal, FirstMortgageFloat, AutoUsed36Months, UPlusProductBundles, MasterCardGold, AutoNew84Months, MasterCardWorld, FirstMortgageFiveOneARM, FirstMortgage, VisaGold, FirstMortgage30yr, PremiumBanking, IncreaseYourCreditLine, AutoNew60Months, SuperSaver, Earn2xRewardsPoints, CompleteYourCardApplicationToday, PlatinumRewardsCard, CreditMonitoringService, IdentityTheftProtection, PaymentProtection, SignupForRewardsCard }\",\"pyName in { AutoUsed48Months, HomeOwners, UPlusGold, FirstMortgageSevenOneARM, AutoUsed84Months, StudentChoice, AMEXPersonal, FirstMortgageFloat, AutoUsed36Months, UPlusProductBundles, MasterCardGold, AutoNew84Months }\",\"pyName in { AutoUsed48Months, HomeOwners, UPlusGold, FirstMortgageSevenOneARM, AutoUsed84Months, StudentChoice, AMEXPersonal, FirstMortgageFloat, AutoUsed36Months, UPlusProductBundles, MasterCardGold, AutoNew84Months, MasterCardWorld }\",\"pyName in { AutoUsed48Months, HomeOwners, UPlusGold, FirstMortgageSevenOneARM, AutoUsed84Months, StudentChoice, AMEXPersonal, FirstMortgageFloat, AutoUsed36Months, UPlusProductBundles, MasterCardGold, AutoNew84Months, MasterCardWorld, FirstMortgageFiveOneARM, FirstMortgage, VisaGold, FirstMortgage30yr, PremiumBanking }\",\"pyName in { RegularSaving }\"],\"y\":[1,1,1,1,1,1,1,1,1,1,1,1,1,1,1,1,1,1,1,1,1,1,1,1,1,1,1,1,1,1,1,1,1,1,1,1,1,1],\"type\":\"scatter\"}],                        {\"template\":{\"data\":{\"scatter\":[{\"type\":\"scatter\"}]}},\"xaxis\":{\"anchor\":\"y\",\"domain\":[0.0,1.0],\"title\":{\"text\":\"Split\"}},\"yaxis\":{\"anchor\":\"x\",\"domain\":[0.0,1.0],\"title\":{\"text\":\"Number\"}},\"title\":{\"text\":\"Splits on pyName\"}},                        {\"responsive\": true}                    ).then(function(){\n",
       "                            \n",
       "var gd = document.getElementById('b7237b54-a20a-43d9-a790-84e3248c19c9');\n",
       "var x = new MutationObserver(function (mutations, observer) {{\n",
       "        var display = window.getComputedStyle(gd).display;\n",
       "        if (!display || display === 'none') {{\n",
       "            console.log([gd, 'removed!']);\n",
       "            Plotly.purge(gd);\n",
       "            observer.disconnect();\n",
       "        }}\n",
       "}});\n",
       "\n",
       "// Listen for the removal of the full notebook cells\n",
       "var notebookContainer = gd.closest('#notebook-container');\n",
       "if (notebookContainer) {{\n",
       "    x.observe(notebookContainer, {childList: true});\n",
       "}}\n",
       "\n",
       "// Listen for the clearing of the current output cell\n",
       "var outputEl = gd.closest('.output');\n",
       "if (outputEl) {{\n",
       "    x.observe(outputEl, {childList: true});\n",
       "}}\n",
       "\n",
       "                        })                };                });            </script>        </div>"
      ]
     },
     "metadata": {},
     "output_type": "display_data"
    },
    {
     "data": {
      "text/html": [
       "<div>                            <div id=\"ab8d8d10-8ed3-4edc-8aa3-6e4cdc802c85\" class=\"plotly-graph-div\" style=\"height:525px; width:100%;\"></div>            <script type=\"text/javascript\">                require([\"plotly\"], function(Plotly) {                    window.PLOTLYENV=window.PLOTLYENV || {};                                    if (document.getElementById(\"ab8d8d10-8ed3-4edc-8aa3-6e4cdc802c85\")) {                    Plotly.newPlot(                        \"ab8d8d10-8ed3-4edc-8aa3-6e4cdc802c85\",                        [{\"name\":\"Gain\",\"x\":[\"Customer.Age < 55.0\",\"Customer.Age < 40.0\",\"Customer.Age < 52.0\",\"Customer.Age < 40.0\",\"Customer.Age < 29.0\",\"Customer.Age < 48.0\",\"Customer.Age < 62.0\",\"Customer.Age < 24.0\",\"Customer.Age < 29.0\",\"Customer.Age < 27.0\",\"Customer.Age < 63.0\",\"Customer.Age < 37.0\",\"Customer.Age < 58.0\",\"Customer.Age < 29.0\",\"Customer.Age < 53.0\",\"Customer.Age < 27.0\",\"Customer.Age < 55.0\",\"Customer.Age < 48.0\",\"Customer.Age < 46.0\",\"Customer.Age < 30.0\",\"Customer.Age < 55.0\",\"Customer.Age < 27.0\",\"Customer.Age < 21.0\",\"Customer.Age < 30.0\",\"Customer.Age < 56.0\",\"Customer.Age < 25.0\",\"Customer.Age < 33.0\",\"Customer.Age < 51.0\",\"Customer.Age < 43.0\",\"Customer.Age < 33.0\",\"Customer.Age < 50.0\",\"Customer.Age < 29.0\",\"Customer.Age < 55.0\",\"Customer.Age < 28.0\",\"Customer.Age < 23.0\",\"Customer.Age < 38.0\",\"Customer.Age < 56.0\",\"Customer.Age < 45.0\",\"Customer.Age < 33.0\",\"Customer.Age < 47.0\",\"Customer.Age < 62.0\",\"Customer.Age < 33.0\",\"Customer.Age < 43.0\",\"Customer.Age < 35.0\",\"Customer.Age < 43.0\",\"Customer.Age < 34.0\",\"Customer.Age < 46.0\",\"Customer.Age < 37.0\",\"Customer.Age < 50.0\",\"Customer.Age < 56.0\",\"Customer.Age < 47.0\",\"Customer.Age < 37.0\",\"Customer.Age < 38.0\",\"Customer.Age < 28.0\",\"Customer.Age < 40.0\",\"Customer.Age < 56.0\",\"Customer.Age < 52.0\",\"Customer.Age < 27.0\",\"Customer.Age < 35.0\",\"Customer.Age < 37.0\",\"Customer.Age < 45.0\",\"Customer.Age < 36.0\",\"Customer.Age < 28.0\",\"Customer.Age < 22.0\",\"Customer.Age < 55.0\",\"Customer.Age < 46.0\",\"Customer.Age < 32.0\",\"Customer.Age < 40.0\",\"Customer.Age < 62.0\",\"Customer.Age < 51.0\",\"Customer.Age < 47.0\",\"Customer.Age < 50.0\",\"Customer.Age < 41.0\",\"Customer.Age < 43.0\",\"Customer.Age < 48.0\",\"Customer.Age < 52.0\",\"Customer.Age < 43.0\",\"Customer.Age < 37.0\",\"Customer.Age < 52.0\",\"Customer.Age < 47.0\",\"Customer.Age < 28.0\",\"Customer.Age < 42.0\",\"Customer.Age < 38.0\",\"Customer.Age < 43.0\",\"Customer.Age < 46.0\",\"Customer.Age < 38.0\",\"Customer.Age < 44.0\",\"Customer.Age < 32.0\",\"Customer.Age < 46.0\",\"Customer.Age < 34.0\",\"Customer.Age < 28.0\",\"Customer.Age < 41.0\",\"Customer.Age < 30.0\",\"Customer.Age < 41.0\",\"Customer.Age < 42.0\",\"Customer.Age < 32.0\",\"Customer.Age < 44.0\",\"Customer.Age < 53.0\",\"Customer.Age < 62.0\",\"Customer.Age < 39.0\",\"Customer.Age < 50.0\",\"Customer.Age < 49.0\",\"Customer.Age < 34.0\",\"Customer.Age < 49.0\",\"Customer.Age < 37.0\",\"Customer.Age < 48.0\",\"Customer.Age < 32.0\",\"Customer.Age < 51.0\",\"Customer.Age < 35.0\",\"Customer.Age < 24.0\",\"Customer.Age < 45.0\",\"Customer.Age < 38.0\",\"Customer.Age < 51.0\",\"Customer.Age < 49.0\"],\"y\":[0.9978941465462867,1.4515507091778233,0.7781099438713852,1.2372259861864734,1.417320365568827,2.8585524064280543,3.316987218602307,5.169264689547163,0.970607819014262,0.01704168124985017,2.081107653765187,5.65988971253016,5.900339451412707,0.704904613783853,8.308664854598229,1.0442914701555992,1.2394148473105915,2.769373939327429,7.264680241786028,0.49789355687948245,2.16343173721968,0.29519488142959815,10.484269698825301,3.0863099143030506,0.38574101854816867,1.952780887205634,1.4134915049247063,0.29910728012012333,0.2715266955816209,149.77425983724868,0.4748212911831651,0.7314255288249241,20.764556611059106,2.7272829162897523,2.0984867133153005,6.977762271282252,2.2199152489407723,2.4694793844951715,3.470817744949378,0.14690332733679465,6.668319140524683,2.6422924338875364,4.921074965276381,7.298972801596737,1.418327905200402,3.6202677730968,15.631679606843088,1.3803956125762333,1.035668551222199,3.02602063081965,1.6537011507967037,2.302403745862496,1.1465497188280769,3.0844969420904507,3.8447714416884886,3.440298105386928,3.68193647902786,1.8056600805909144,0.5616759907887054,4.509799774431737,0.3038879525695931,1.7640946873724788,0.21768352763140733,4.712028883242596,1.9541514638077933,3.275020724481954,4.677621289555475,0.5792529684568049,10.526097960661339,0.24126705104742818,0.4346856254512928,1.5580385225876765,0.024792619250317033,0.7913971628335781,0.6149538915235473,6.9460974327416105,2.4677070539859147,2.061524490620841,0.15182926835090138,1.7461092904179587,6.997712690182327,2.5707204755753823,1.4348713266181403,1.5685517453148807,5.163168192661546,2.0412509849295164,0.3869943726912716,0.7664617618549607,0.45434192450118605,1.5615763209167688,1.6272591567513215,0.1990159966372499,0.6548731320835424,2.219306399249527,2.6576153312984316,2.027513775210175,1.793353838661487,7.204364331750714,1.235180728190843,0.8949561964694612,1.7692911612261195,6.971397489727182,0.12651353624953732,2.5766015871381125,2.1462439921546945,0.9495493525064196,3.0125342613235513,0.3637376044965378,1.6149976167486981,0.9152655540011468,0.10254014441069786,0.1872059873700499,0.05462589586021971,1.4160809006656518],\"type\":\"box\"},{\"mode\":\"lines+markers\",\"name\":\"Number of splits\",\"x\":[\"Customer.Age < 55.0\",\"Customer.Age < 40.0\",\"Customer.Age < 52.0\",\"Customer.Age < 29.0\",\"Customer.Age < 48.0\",\"Customer.Age < 62.0\",\"Customer.Age < 24.0\",\"Customer.Age < 27.0\",\"Customer.Age < 63.0\",\"Customer.Age < 37.0\",\"Customer.Age < 58.0\",\"Customer.Age < 53.0\",\"Customer.Age < 46.0\",\"Customer.Age < 30.0\",\"Customer.Age < 21.0\",\"Customer.Age < 56.0\",\"Customer.Age < 25.0\",\"Customer.Age < 33.0\",\"Customer.Age < 51.0\",\"Customer.Age < 43.0\",\"Customer.Age < 50.0\",\"Customer.Age < 28.0\",\"Customer.Age < 23.0\",\"Customer.Age < 38.0\",\"Customer.Age < 45.0\",\"Customer.Age < 47.0\",\"Customer.Age < 35.0\",\"Customer.Age < 34.0\",\"Customer.Age < 36.0\",\"Customer.Age < 22.0\",\"Customer.Age < 32.0\",\"Customer.Age < 41.0\",\"Customer.Age < 42.0\",\"Customer.Age < 44.0\",\"Customer.Age < 39.0\",\"Customer.Age < 49.0\"],\"y\":[1,1,1,1,1,1,1,1,1,1,1,1,1,1,1,1,1,1,1,1,1,1,1,1,1,1,1,1,1,1,1,1,1,1,1,1],\"type\":\"scatter\"}],                        {\"template\":{\"data\":{\"scatter\":[{\"type\":\"scatter\"}]}},\"xaxis\":{\"anchor\":\"y\",\"domain\":[0.0,1.0],\"title\":{\"text\":\"Split\"}},\"yaxis\":{\"anchor\":\"x\",\"domain\":[0.0,1.0],\"title\":{\"text\":\"Number\"}},\"title\":{\"text\":\"Splits on Customer.Age\"}},                        {\"responsive\": true}                    ).then(function(){\n",
       "                            \n",
       "var gd = document.getElementById('ab8d8d10-8ed3-4edc-8aa3-6e4cdc802c85');\n",
       "var x = new MutationObserver(function (mutations, observer) {{\n",
       "        var display = window.getComputedStyle(gd).display;\n",
       "        if (!display || display === 'none') {{\n",
       "            console.log([gd, 'removed!']);\n",
       "            Plotly.purge(gd);\n",
       "            observer.disconnect();\n",
       "        }}\n",
       "}});\n",
       "\n",
       "// Listen for the removal of the full notebook cells\n",
       "var notebookContainer = gd.closest('#notebook-container');\n",
       "if (notebookContainer) {{\n",
       "    x.observe(notebookContainer, {childList: true});\n",
       "}}\n",
       "\n",
       "// Listen for the clearing of the current output cell\n",
       "var outputEl = gd.closest('.output');\n",
       "if (outputEl) {{\n",
       "    x.observe(outputEl, {childList: true});\n",
       "}}\n",
       "\n",
       "                        })                };                });            </script>        </div>"
      ]
     },
     "metadata": {},
     "output_type": "display_data"
    },
    {
     "data": {
      "text/html": [
       "<div>                            <div id=\"3f8ec95f-0468-4a74-b784-0132b8f95d8e\" class=\"plotly-graph-div\" style=\"height:525px; width:100%;\"></div>            <script type=\"text/javascript\">                require([\"plotly\"], function(Plotly) {                    window.PLOTLYENV=window.PLOTLYENV || {};                                    if (document.getElementById(\"3f8ec95f-0468-4a74-b784-0132b8f95d8e\")) {                    Plotly.newPlot(                        \"3f8ec95f-0468-4a74-b784-0132b8f95d8e\",                        [{\"name\":\"Gain\",\"x\":[\"Customer.LanguagePreference in { en_ca }\",\"Customer.LanguagePreference in { en_ca, es_gt }\",\"Customer.LanguagePreference in { en_ca, es_gt }\",\"Customer.LanguagePreference in { en_ca, es_gt }\",\"Customer.LanguagePreference in { en_ca }\",\"Customer.LanguagePreference in { en_ca, es_gt }\",\"Customer.LanguagePreference in { en_ca, es_gt }\",\"Customer.LanguagePreference in { en_ca, es_gt }\",\"Customer.LanguagePreference in { en_ca, es_gt }\",\"Customer.LanguagePreference in { en_ca }\",\"Customer.LanguagePreference in { en_ca, es_gt }\",\"Customer.LanguagePreference in { en_ca, es_gt }\",\"Customer.LanguagePreference in { en_ca, es_gt }\",\"Customer.LanguagePreference in { en_ca, es_gt }\",\"Customer.LanguagePreference in { en_ca, es_gt }\",\"Customer.LanguagePreference in { en_ca }\",\"Customer.LanguagePreference in { en_ca }\",\"Customer.LanguagePreference in { en_ca }\",\"Customer.LanguagePreference in { en_ca, es_gt }\",\"Customer.LanguagePreference in { en_ca }\",\"Customer.LanguagePreference in { en_ca, es_gt }\"],\"y\":[0.03293646218908086,5.533646515657841,0.3906689670785233,2.8512660001318526,1.6857545194556613,1.825743356118005,1.0325676827713741,0.2951848518884458,1.6124241108229191,0.7783674994415266,0.6447446948597747,2.9367312100251954,1.387935481259827,6.704854767082447,1.7354271980083,2.1730579138697896,0.708043494846283,1.6828382977818344,0.9307167492084369,5.6748604443077255,1.9192424470676828],\"type\":\"box\"},{\"mode\":\"lines+markers\",\"name\":\"Number of splits\",\"x\":[\"Customer.LanguagePreference in { en_ca }\",\"Customer.LanguagePreference in { en_ca, es_gt }\"],\"y\":[1,1],\"type\":\"scatter\"}],                        {\"template\":{\"data\":{\"scatter\":[{\"type\":\"scatter\"}]}},\"xaxis\":{\"anchor\":\"y\",\"domain\":[0.0,1.0],\"title\":{\"text\":\"Split\"}},\"yaxis\":{\"anchor\":\"x\",\"domain\":[0.0,1.0],\"title\":{\"text\":\"Number\"}},\"title\":{\"text\":\"Splits on Customer.LanguagePreference\"}},                        {\"responsive\": true}                    ).then(function(){\n",
       "                            \n",
       "var gd = document.getElementById('3f8ec95f-0468-4a74-b784-0132b8f95d8e');\n",
       "var x = new MutationObserver(function (mutations, observer) {{\n",
       "        var display = window.getComputedStyle(gd).display;\n",
       "        if (!display || display === 'none') {{\n",
       "            console.log([gd, 'removed!']);\n",
       "            Plotly.purge(gd);\n",
       "            observer.disconnect();\n",
       "        }}\n",
       "}});\n",
       "\n",
       "// Listen for the removal of the full notebook cells\n",
       "var notebookContainer = gd.closest('#notebook-container');\n",
       "if (notebookContainer) {{\n",
       "    x.observe(notebookContainer, {childList: true});\n",
       "}}\n",
       "\n",
       "// Listen for the clearing of the current output cell\n",
       "var outputEl = gd.closest('.output');\n",
       "if (outputEl) {{\n",
       "    x.observe(outputEl, {childList: true});\n",
       "}}\n",
       "\n",
       "                        })                };                });            </script>        </div>"
      ]
     },
     "metadata": {},
     "output_type": "display_data"
    }
   ],
   "source": [
    "preds = ['Customer.Age', 'Customer.LanguagePreference', 'pyName']\n",
    "Trees.plotSplitsPerVariable(subset=preds);"
   ]
  },
  {
   "cell_type": "markdown",
   "metadata": {},
   "source": [
    "## Visualising the trees\n",
    "\n",
    "With the provided tree structures, it is also possible to visualise each tree individually. While of course each individual tree is used for scoring and thus one tree is on average only 1/50th of the total contribution, this still provides useful information of the inner workings of the algorithm. In the background, we transform the raw tree structure to a node and edges-based json structure, where each node gets an ID, and their child and parent nodes are linked"
   ]
  },
  {
   "cell_type": "code",
   "execution_count": 12,
   "metadata": {
    "execution": {
     "iopub.execute_input": "2023-03-24T17:14:28.933890Z",
     "iopub.status.busy": "2023-03-24T17:14:28.933155Z",
     "iopub.status.idle": "2023-03-24T17:14:28.940111Z",
     "shell.execute_reply": "2023-03-24T17:14:28.939423Z"
    }
   },
   "outputs": [
    {
     "data": {
      "text/plain": [
       "{1: {'score': -0.04167241398182543,\n",
       "  'gain': 4.903114150998753,\n",
       "  'split': 'IH.MISSING.MISSING.Churned.pyHistoricalOutcomeCount < 1.0',\n",
       "  'left_child': 2,\n",
       "  'right_child': 5},\n",
       " 2: {'score': 0.0015912192864844406,\n",
       "  'parent_node': 1,\n",
       "  'gain': 4.921074965276381,\n",
       "  'split': 'IH.SMS.Outbound.Accept.pxLastGroupID is Missing',\n",
       "  'left_child': 3,\n",
       "  'right_child': 4},\n",
       " 3: {'score': 0.08708304261596726, 'parent_node': 2, 'gain': 0.0},\n",
       " 4: {'score': -0.19378256055857698, 'parent_node': 2, 'gain': 0.0},\n",
       " 5: {'score': -0.07898210064649579,\n",
       "  'parent_node': 1,\n",
       "  'gain': 2.609510949104644,\n",
       "  'split': 'IH.SMS.Outbound.Accept.pyHistoricalOutcomeCount < 1.0',\n",
       "  'left_child': 6,\n",
       "  'right_child': 9},\n",
       " 6: {'score': -0.050025939043392705,\n",
       "  'parent_node': 5,\n",
       "  'gain': 5.284463037230109,\n",
       "  'split': 'pyName in { PremierChecking }',\n",
       "  'left_child': 7,\n",
       "  'right_child': 8},\n",
       " 7: {'score': 0.3483628622864736, 'parent_node': 6, 'gain': 0.0},\n",
       " 8: {'score': -0.08596541739325182, 'parent_node': 6, 'gain': 0.0},\n",
       " 9: {'score': 0.22697292002283817, 'parent_node': 5, 'gain': 0.0}}"
      ]
     },
     "execution_count": 12,
     "metadata": {},
     "output_type": "execute_result"
    }
   ],
   "source": [
    "Trees.getTreeRepresentation(18)"
   ]
  },
  {
   "cell_type": "markdown",
   "metadata": {},
   "source": [
    "Then, we can visualise the tree as such:"
   ]
  },
  {
   "cell_type": "code",
   "execution_count": 13,
   "metadata": {
    "execution": {
     "iopub.execute_input": "2023-03-24T17:14:28.943087Z",
     "iopub.status.busy": "2023-03-24T17:14:28.942361Z",
     "iopub.status.idle": "2023-03-24T17:14:29.040804Z",
     "shell.execute_reply": "2023-03-24T17:14:29.039948Z"
    }
   },
   "outputs": [
    {
     "name": "stdout",
     "output_type": "stream",
     "text": [
      "Dot/Graphviz not installed. Please install it to your machine. [Errno 2] \"dot\" not found in path.\n"
     ]
    }
   ],
   "source": [
    "Trees.plotTree(18);"
   ]
  },
  {
   "cell_type": "markdown",
   "metadata": {},
   "source": [
    "## Plot prediction path\n",
    "\n",
    "With this tree, of course we can also show how a tree would score a set of input data 'x'. Simply pass a dictionary with variable:value pairs to plotTree's \"highlighted\" parameter, and that path is highlighted:"
   ]
  },
  {
   "cell_type": "code",
   "execution_count": 14,
   "metadata": {
    "execution": {
     "iopub.execute_input": "2023-03-24T17:14:29.044015Z",
     "iopub.status.busy": "2023-03-24T17:14:29.043645Z",
     "iopub.status.idle": "2023-03-24T17:14:29.055956Z",
     "shell.execute_reply": "2023-03-24T17:14:29.055205Z"
    }
   },
   "outputs": [
    {
     "name": "stdout",
     "output_type": "stream",
     "text": [
      "Dot/Graphviz not installed. Please install it to your machine. [Errno 2] \"dot\" not found in path.\n"
     ]
    }
   ],
   "source": [
    "Trees.plotTree(18, highlighted = {\"IH.MISSING.MISSING.Churned.pyHistoricalOutcomeCount\":2, \"IH.SMS.Outbound.Accept.pyHistoricalOutcomeCount\":0, \"pyName\": 'PremierChecking'});"
   ]
  },
  {
   "cell_type": "markdown",
   "metadata": {},
   "source": [
    "Of course that also works if we define x first and then feed that as the highlighted parameter."
   ]
  },
  {
   "cell_type": "code",
   "execution_count": 15,
   "metadata": {
    "execution": {
     "iopub.execute_input": "2023-03-24T17:14:29.058784Z",
     "iopub.status.busy": "2023-03-24T17:14:29.058419Z",
     "iopub.status.idle": "2023-03-24T17:14:29.074667Z",
     "shell.execute_reply": "2023-03-24T17:14:29.073852Z"
    }
   },
   "outputs": [
    {
     "name": "stdout",
     "output_type": "stream",
     "text": [
      "Dot/Graphviz not installed. Please install it to your machine. [Errno 2] \"dot\" not found in path.\n"
     ]
    }
   ],
   "source": [
    "x = {\"IH.MISSING.MISSING.Churned.pyHistoricalOutcomeCount\":2, \"IH.SMS.Outbound.Accept.pyHistoricalOutcomeCount\":0, \"pyName\": 'NotPremierChecking'}\n",
    "Trees.plotTree(18, highlighted=x);"
   ]
  },
  {
   "cell_type": "markdown",
   "metadata": {},
   "source": [
    "Thus far we've only look at tree 18, but of course we can plot different trees as well. This is also where these visualisations aren't always as useful, because the trees can get quite large and hard to read:"
   ]
  },
  {
   "cell_type": "code",
   "execution_count": 16,
   "metadata": {
    "execution": {
     "iopub.execute_input": "2023-03-24T17:14:29.077683Z",
     "iopub.status.busy": "2023-03-24T17:14:29.077334Z",
     "iopub.status.idle": "2023-03-24T17:14:29.161638Z",
     "shell.execute_reply": "2023-03-24T17:14:29.160819Z"
    }
   },
   "outputs": [
    {
     "name": "stdout",
     "output_type": "stream",
     "text": [
      "Dot/Graphviz not installed. Please install it to your machine. [Errno 2] \"dot\" not found in path.\n"
     ]
    }
   ],
   "source": [
    "Trees.plotTree(30);"
   ]
  },
  {
   "cell_type": "markdown",
   "metadata": {},
   "source": [
    "Note it is possible to export these trees by calling functions on the raw model, such as 'write_png' or 'write_pdf':\n",
    "\n",
    "```python\n",
    "Trees.plotTree(4, highlighted=x).write_png('Tree.png')\n",
    "Trees.plotTree(4, highlighted=x).write_pdf('Tree.pdf')\n",
    "```\n",
    "\n",
    "#### Random input data\n",
    "For this demo, I want to generate some random input parameters, so a quick function to do that is this:"
   ]
  },
  {
   "cell_type": "code",
   "execution_count": 17,
   "metadata": {
    "execution": {
     "iopub.execute_input": "2023-03-24T17:14:29.164558Z",
     "iopub.status.busy": "2023-03-24T17:14:29.164235Z",
     "iopub.status.idle": "2023-03-24T17:14:29.170923Z",
     "shell.execute_reply": "2023-03-24T17:14:29.170156Z"
    }
   },
   "outputs": [],
   "source": [
    "def sampleX(trees):\n",
    "    from random import sample\n",
    "    x = {}\n",
    "    for variable, values in trees.allValuesPerSplit.items():\n",
    "        if len(values) == 1:\n",
    "            if 'true' in values or 'false' in values:\n",
    "                values = {'true', 'false'}\n",
    "            if isinstance(list(values)[0], str):\n",
    "                try: \n",
    "                    float(list(values)[0])\n",
    "                except:\n",
    "                    values = values.union({'Other'})\n",
    "        x[variable]= sample(list(values), 1)[0]\n",
    "    return x\n",
    "randomX = sampleX(Trees)"
   ]
  },
  {
   "cell_type": "markdown",
   "metadata": {},
   "source": [
    "## Replicating scores\n",
    "Lastly, with a given x and each scoring tree both stored, we can replicate the score the models would give to that customer by simply letting each tree predict a score. By calling 'getAllVisitedNodes', we get an overview of all visited nodes, each split that was performed and the scores contributed by each individual tree. By default this is sorted by their scores. This also gives us an idea of the relative 'importance' of each tree for the final prediction. "
   ]
  },
  {
   "cell_type": "code",
   "execution_count": 18,
   "metadata": {
    "execution": {
     "iopub.execute_input": "2023-03-24T17:14:29.173458Z",
     "iopub.status.busy": "2023-03-24T17:14:29.173219Z",
     "iopub.status.idle": "2023-03-24T17:14:29.208687Z",
     "shell.execute_reply": "2023-03-24T17:14:29.207864Z"
    }
   },
   "outputs": [
    {
     "data": {
      "text/html": [
       "<div><style>\n",
       ".dataframe > thead > tr > th,\n",
       ".dataframe > tbody > tr > td {\n",
       "  text-align: right;\n",
       "}\n",
       "</style>\n",
       "<small>shape: (50, 4)</small><table border=\"1\" class=\"dataframe\"><thead><tr><th>treeID</th><th>visited_nodes</th><th>score</th><th>splits</th></tr><tr><td>i64</td><td>list[i64]</td><td>f64</td><td>str</td></tr></thead><tbody><tr><td>0</td><td>[1, 2, … 6]</td><td>-0.580508</td><td>&quot;[{&#x27;pyName in {…</td></tr><tr><td>1</td><td>[1, 21, 22]</td><td>-0.444396</td><td>&quot;[{&#x27;pyGroup in …</td></tr><tr><td>2</td><td>[1, 2, … 14]</td><td>-0.382323</td><td>&quot;[{&#x27;pyName in {…</td></tr><tr><td>3</td><td>[1, 11, … 23]</td><td>-0.355028</td><td>&quot;[{&#x27;pyName in {…</td></tr><tr><td>4</td><td>[1, 2, … 32]</td><td>-0.23541</td><td>&quot;[{&#x27;pyName in {…</td></tr><tr><td>5</td><td>[1, 2, … 22]</td><td>-0.312919</td><td>&quot;[{&#x27;pyName in {…</td></tr><tr><td>6</td><td>[1, 21, … 31]</td><td>-0.27716</td><td>&quot;[{&#x27;pyGroup in …</td></tr><tr><td>7</td><td>[1, 9, … 38]</td><td>-0.275054</td><td>&quot;[{&#x27;pyName in {…</td></tr><tr><td>8</td><td>[1, 23, … 73]</td><td>-0.169704</td><td>&quot;[{&#x27;pyGroup in …</td></tr><tr><td>9</td><td>[1, 2, … 46]</td><td>-0.243321</td><td>&quot;[{&#x27;pyGroup in …</td></tr><tr><td>10</td><td>[1, 2, … 11]</td><td>-0.196516</td><td>&quot;[{&#x27;pyName in {…</td></tr><tr><td>11</td><td>[1, 2, … 12]</td><td>-0.239453</td><td>&quot;[{&#x27;pyName in {…</td></tr><tr><td>&hellip;</td><td>&hellip;</td><td>&hellip;</td><td>&hellip;</td></tr><tr><td>38</td><td>[1, 2, … 25]</td><td>-0.044947</td><td>&quot;[{&#x27;pyName in {…</td></tr><tr><td>39</td><td>[1, 15, … 18]</td><td>-0.069691</td><td>&quot;[{&#x27;Customer.An…</td></tr><tr><td>40</td><td>[1, 3, 4]</td><td>-0.141576</td><td>&quot;[{&#x27;pyName in {…</td></tr><tr><td>41</td><td>[1, 11, … 31]</td><td>-0.169499</td><td>&quot;[{&#x27;IH.MISSING.…</td></tr><tr><td>42</td><td>[1, 57, … 68]</td><td>0.045133</td><td>&quot;[{&#x27;Customer.An…</td></tr><tr><td>43</td><td>[1, 2, … 14]</td><td>-0.026976</td><td>&quot;[{&#x27;IH.Web.Inbo…</td></tr><tr><td>44</td><td>[1, 29, … 46]</td><td>-0.022963</td><td>&quot;[{&#x27;IH.Web.Inbo…</td></tr><tr><td>45</td><td>[1, 2, … 9]</td><td>-0.061737</td><td>&quot;[{&#x27;pyName in {…</td></tr><tr><td>46</td><td>[1, 2]</td><td>-0.069158</td><td>&quot;[{&#x27;IH.SMS.Outb…</td></tr><tr><td>47</td><td>[1, 2, … 10]</td><td>-0.165074</td><td>&quot;[{&#x27;pyName in {…</td></tr><tr><td>48</td><td>[1, 23, … 49]</td><td>0.153612</td><td>&quot;[{&#x27;pyName in {…</td></tr><tr><td>49</td><td>[1, 2, … 29]</td><td>0.055928</td><td>&quot;[{&#x27;Customer.Ne…</td></tr></tbody></table></div>"
      ],
      "text/plain": [
       "shape: (50, 4)\n",
       "┌────────┬───────────────┬───────────┬───────────────────────────────────┐\n",
       "│ treeID ┆ visited_nodes ┆ score     ┆ splits                            │\n",
       "│ ---    ┆ ---           ┆ ---       ┆ ---                               │\n",
       "│ i64    ┆ list[i64]     ┆ f64       ┆ str                               │\n",
       "╞════════╪═══════════════╪═══════════╪═══════════════════════════════════╡\n",
       "│ 0      ┆ [1, 2, … 6]   ┆ -0.580508 ┆ [{'pyName in { AutoUsed48Months,… │\n",
       "│ 1      ┆ [1, 21, 22]   ┆ -0.444396 ┆ [{'pyGroup in { DepositAccounts … │\n",
       "│ 2      ┆ [1, 2, … 14]  ┆ -0.382323 ┆ [{'pyName in { AutoUsed48Months,… │\n",
       "│ 3      ┆ [1, 11, … 23] ┆ -0.355028 ┆ [{'pyName in { PremierChecking }… │\n",
       "│ …      ┆ …             ┆ …         ┆ …                                 │\n",
       "│ 46     ┆ [1, 2]        ┆ -0.069158 ┆ [{'IH.SMS.Outbound.NoResponse.py… │\n",
       "│ 47     ┆ [1, 2, … 10]  ┆ -0.165074 ┆ [{'pyName in { AutoUsed48Months,… │\n",
       "│ 48     ┆ [1, 23, … 49] ┆ 0.153612  ┆ [{'pyName in { AutoUsed48Months,… │\n",
       "│ 49     ┆ [1, 2, … 29]  ┆ 0.055928  ┆ [{'Customer.NetWealth < 18233.0'… │\n",
       "└────────┴───────────────┴───────────┴───────────────────────────────────┘"
      ]
     },
     "execution_count": 18,
     "metadata": {},
     "output_type": "execute_result"
    }
   ],
   "source": [
    "scores = Trees.getAllVisitedNodes(randomX)\n",
    "scores"
   ]
  },
  {
   "cell_type": "markdown",
   "metadata": {},
   "source": [
    "Now, to get to the final score we simply sum up the scores, and then normalize them to a range between 0 and 1:"
   ]
  },
  {
   "cell_type": "code",
   "execution_count": 19,
   "metadata": {
    "execution": {
     "iopub.execute_input": "2023-03-24T17:14:29.211556Z",
     "iopub.status.busy": "2023-03-24T17:14:29.211277Z",
     "iopub.status.idle": "2023-03-24T17:14:29.217166Z",
     "shell.execute_reply": "2023-03-24T17:14:29.216371Z"
    }
   },
   "outputs": [
    {
     "data": {
      "text/plain": [
       "0.006261123639094179"
      ]
     },
     "execution_count": 19,
     "metadata": {},
     "output_type": "execute_result"
    }
   ],
   "source": [
    "import math\n",
    "1/(1+math.exp(-scores['score'].sum()))"
   ]
  },
  {
   "cell_type": "markdown",
   "metadata": {},
   "source": [
    "And to simplify this even further, simply call the 'score' function to get the final score."
   ]
  },
  {
   "cell_type": "code",
   "execution_count": 20,
   "metadata": {
    "execution": {
     "iopub.execute_input": "2023-03-24T17:14:29.219771Z",
     "iopub.status.busy": "2023-03-24T17:14:29.219535Z",
     "iopub.status.idle": "2023-03-24T17:14:29.244563Z",
     "shell.execute_reply": "2023-03-24T17:14:29.243428Z"
    }
   },
   "outputs": [
    {
     "data": {
      "text/plain": [
       "0.006261123639094179"
      ]
     },
     "execution_count": 20,
     "metadata": {},
     "output_type": "execute_result"
    }
   ],
   "source": [
    "Trees.score(randomX)"
   ]
  },
  {
   "cell_type": "markdown",
   "metadata": {},
   "source": [
    "Finally, we can also plot the contribution of each tree towards the final propensity of the prediction. Simply call the plotContributionPerTree function with a given x. This shows, for each individual tree, the scores, the cumulative mean of those scores and the running propensity. Here you can clearly see that the average score is quite negative, so as we would expect the final propensity is also quite low."
   ]
  },
  {
   "cell_type": "code",
   "execution_count": 21,
   "metadata": {
    "execution": {
     "iopub.execute_input": "2023-03-24T17:14:29.247697Z",
     "iopub.status.busy": "2023-03-24T17:14:29.247106Z",
     "iopub.status.idle": "2023-03-24T17:14:29.319258Z",
     "shell.execute_reply": "2023-03-24T17:14:29.318448Z"
    }
   },
   "outputs": [
    {
     "data": {
      "text/html": [
       "<div>                            <div id=\"48904e78-4db7-40ce-890f-12b1751e83e2\" class=\"plotly-graph-div\" style=\"height:525px; width:100%;\"></div>            <script type=\"text/javascript\">                require([\"plotly\"], function(Plotly) {                    window.PLOTLYENV=window.PLOTLYENV || {};                                    if (document.getElementById(\"48904e78-4db7-40ce-890f-12b1751e83e2\")) {                    Plotly.newPlot(                        \"48904e78-4db7-40ce-890f-12b1751e83e2\",                        [{\"hovertemplate\":\"Tree=%{x}<br>Score=%{y}<extra></extra>\",\"legendgroup\":\"\",\"marker\":{\"color\":\"#1F77B4\",\"symbol\":\"circle\"},\"mode\":\"markers\",\"name\":\"Individual scores\",\"orientation\":\"v\",\"showlegend\":true,\"x\":[0,1,2,3,4,5,6,7,8,9,10,11,12,13,14,15,16,17,18,19,20,21,22,23,24,25,26,27,28,29,30,31,32,33,34,35,36,37,38,39,40,41,42,43,44,45,46,47,48,49],\"xaxis\":\"x\",\"y\":[-0.5805082525543623,-0.44439602146920637,-0.3823232207217846,-0.3550279863637264,-0.23541000143085333,-0.3129186959149435,-0.2771603947822525,-0.27505359773734706,-0.16970395849023356,-0.24332112104051265,-0.19651637709340378,-0.23945313029284546,-0.08014123343622255,-0.21260723870282705,-0.07831181162233224,-0.040886730522137246,0.09209453921411985,-0.2033836159701496,0.22697292002283817,-0.0806888345817292,-0.12529682199281955,-0.1938673399654039,-0.08714584380267712,0.17615860198551828,0.006249979209037468,-0.1533498276854956,-0.0008206837748640288,0.11901474064227247,-0.0418775889161395,-0.1225906803638899,-0.0502458223031856,-0.05621287607637626,0.1523652840419453,-0.16624831746280616,0.27427708182871674,-0.09832371173795515,-0.07458749081666997,-0.01892147982134647,-0.044947081140274577,-0.0696905705646478,-0.14157599224211312,-0.16949933792885474,0.04513297039304105,-0.026975713769570087,-0.02296316499486329,-0.061737351881751196,-0.06915811732818385,-0.16507356901675327,0.15361227208165681,0.05592840865522417],\"yaxis\":\"y\",\"type\":\"scatter\"},{\"name\":\"Cumulative mean\",\"x\":[0,1,2,3,4,5,6,7,8,9,10,11,12,13,14,15,16,17,18,19,20,21,22,23,24,25,26,27,28,29,30,31,32,33,34,35,36,37,38,39,40,41,42,43,44,45,46,47,48,49],\"y\":[-0.5805082525543623,-0.5124521370117844,-0.46907583158178445,-0.44056387027726995,-0.3995330965079866,-0.38509736307581277,-0.36967779617673274,-0.3578497713718095,-0.3369446810516344,-0.3275823250505222,-0.3156672388726024,-0.3093160631576226,-0.2916872301021303,-0.2860386592878944,-0.2721902027768569,-0.2577337357609369,-0.23715560193887478,-0.2352793804961678,-0.21095031204779904,-0.20443723817449558,-0.20066864692774908,-0.20035949661127886,-0.19543716388047008,-0.17995400696938724,-0.17250584752225023,-0.1717690775285289,-0.16543765553765244,-0.1552786413883694,-0.15136826026863737,-0.15040900760514575,-0.14717793711153415,-0.14433527895418546,-0.13534435280278756,-0.13625329293984692,-0.1245238536607451,-0.1237960719406676,-0.12246611028866768,-0.11974125159215922,-0.1178234523498032,-0.1166201303051743,-0.11722880986461186,-0.11847334624709382,-0.11466854818569534,-0.1126755292216925,-0.11068192112776294,-0.10961790875284964,-0.10875706212679294,-0.10993032268700044,-0.10455190238559928,-0.10134229616478281],\"type\":\"scatter\"},{\"name\":\"Propensity\",\"x\":[0,1,2,3,4,5,6,7,8,9,10,11,12,13,14,15,16,17,18,19,20,21,22,23,24,25,26,27,28,29,30,31,32,33,34,35,36,37,38,39,40,41,42,43,44,45,46,47,48,49],\"y\":[0.35881565314600095,0.26407320890008945,0.1966717215448801,0.14650808170806512,0.1194482493594834,0.09025016920400163,0.06993133574571492,0.05402352142562447,0.045978946651838784,0.03640997123944272,0.03010958218739176,0.023850914685753958,0.02205457092635909,0.0179061748793945,0.016579773377136578,0.0159261305742887,0.01743571242882279,0.014272731988561837,0.017844471602858996,0.016483982639243465,0.014571032189848373,0.01203404020873545,0.011040808797771652,0.013139624018300773,0.013220914429385909,0.011362648925858171,0.011353433438637503,0.012770030417393156,0.012252712431094567,0.010854408420820841,0.01032798846113503,0.009768953722145325,0.011358519918137808,0.009635565869118966,0.012637921557985227,0.011468021272738315,0.010652552145648041,0.010454972564704158,0.010000051564205024,0.009333154729962882,0.008111071090418573,0.0068551213207926,0.007169332480726425,0.006979851688126613,0.006822479502637047,0.006416637099246413,0.0059904402332284674,0.005083516813352259,0.005922578288410776,0.006261123639094179],\"type\":\"scatter\"},{\"mode\":\"markers+text\",\"name\":\"Final propensity\",\"text\":[\"0.006261123639094179\"],\"textposition\":\"top right\",\"x\":[49],\"y\":[0.006261123639094179],\"type\":\"scatter\"}],                        {\"template\":{\"data\":{\"scatter\":[{\"type\":\"scatter\"}]}},\"xaxis\":{\"anchor\":\"y\",\"domain\":[0.0,1.0],\"title\":{\"text\":\"Tree\"},\"zeroline\":false},\"yaxis\":{\"anchor\":\"x\",\"domain\":[0.0,1.0],\"title\":{\"text\":\"Score\"}},\"legend\":{\"tracegroupgap\":0},\"title\":{\"text\":\"Score contribution per tree, for single prediction\"}},                        {\"responsive\": true}                    ).then(function(){\n",
       "                            \n",
       "var gd = document.getElementById('48904e78-4db7-40ce-890f-12b1751e83e2');\n",
       "var x = new MutationObserver(function (mutations, observer) {{\n",
       "        var display = window.getComputedStyle(gd).display;\n",
       "        if (!display || display === 'none') {{\n",
       "            console.log([gd, 'removed!']);\n",
       "            Plotly.purge(gd);\n",
       "            observer.disconnect();\n",
       "        }}\n",
       "}});\n",
       "\n",
       "// Listen for the removal of the full notebook cells\n",
       "var notebookContainer = gd.closest('#notebook-container');\n",
       "if (notebookContainer) {{\n",
       "    x.observe(notebookContainer, {childList: true});\n",
       "}}\n",
       "\n",
       "// Listen for the clearing of the current output cell\n",
       "var outputEl = gd.closest('.output');\n",
       "if (outputEl) {{\n",
       "    x.observe(outputEl, {childList: true});\n",
       "}}\n",
       "\n",
       "                        })                };                });            </script>        </div>"
      ]
     },
     "metadata": {},
     "output_type": "display_data"
    }
   ],
   "source": [
    "Trees.plotContributionPerTree(randomX);"
   ]
  },
  {
   "cell_type": "markdown",
   "metadata": {},
   "source": [
    "These are the current features of the ADMTrees class. As always, if you have suggestions, please do not hesitate to open a GitHub issue or pull request!"
   ]
  }
 ],
 "metadata": {
  "interpreter": {
   "hash": "7e1998ff7f8aa20ada591c520b972326324e5ea05489af9e422744c7c09f6dad"
  },
  "kernelspec": {
   "display_name": "Python 3.10.2 64-bit",
   "language": "python",
   "name": "python3"
  },
  "language_info": {
   "codemirror_mode": {
    "name": "ipython",
    "version": 3
   },
   "file_extension": ".py",
   "mimetype": "text/x-python",
   "name": "python",
   "nbconvert_exporter": "python",
   "pygments_lexer": "ipython3",
   "version": "3.11.2"
  }
 },
 "nbformat": 4,
 "nbformat_minor": 2
}
